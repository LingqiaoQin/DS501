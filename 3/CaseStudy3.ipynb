{
 "cells": [
  {
   "cell_type": "markdown",
   "metadata": {},
   "source": [
    "### Case Study 3 : Textual analysis of movie reviews\n",
    "\n",
    "** Due Date: April 6, 2016 5:59PM**\n",
    "\n",
    "*------------"
   ]
  },
  {
   "cell_type": "markdown",
   "metadata": {},
   "source": [
    "<img src=\"http://www.conversational-technologies.com/nldemos/nlWordle.GIF\">"
   ]
  },
  {
   "cell_type": "markdown",
   "metadata": {},
   "source": [
    "**TEAM Members:**\n",
    "\n",
    "Helen Hong\n",
    "Haley Huang\n",
    "Tom Meagher\n",
    "Tyler Reese"
   ]
  },
  {
   "cell_type": "markdown",
   "metadata": {},
   "source": [
    "**Desired outcome of the case study.**\n",
    "* In this case study we will look at movie reviews from the v2.0 polarity dataset comes from\n",
    "the http://www.cs.cornell.edu/people/pabo/movie-review-data.\n",
    "    * It contains written reviews of movies divided into positive and negative reviews.\n",
    "* As in Case Study 2 idea is to *analyze* the data set, make *conjectures*, support or refute those conjectures with *data*, and *tell a story* about the data!\n",
    "    \n",
    "**Required Readings:** \n",
    "* This case study will be based upon the scikit-learn Python library\n",
    "* We will build upon the turtorial \"Working With Text Data\" which can be found at http://scikit-learn.org/stable/tutorial/text_analytics/working_with_text_data.html\n",
    "\n",
    "**Case study assumptions:**\n",
    "* You have access to a python installation\n",
    "\n",
    "**Required Python libraries:**\n",
    "* Numpy (www.numpy.org) (should already be installed from Case Study 2)\n",
    "* Matplotlib (matplotlib.org) (should already be installed from Case Study 2)\n",
    "* Scikit-learn (scikit-learn.org) (avaiable from Enthought Canopy)\n",
    "* You are also welcome to use the Python Natural Language Processing Toolkit (www.nltk.org) (though it is not required).\n",
    "\n",
    "** NOTE **\n",
    "* Please don't forget to save the notebook frequently when working in IPython Notebook, otherwise the changes you made can be lost.\n",
    "\n",
    "*----------------------"
   ]
  },
  {
   "cell_type": "markdown",
   "metadata": {},
   "source": [
    "## Problem 1 (20 points): Complete Exercise 2: Sentiment Analysis on movie reviews from http://scikit-learn.org/stable/tutorial/text_analytics/working_with_text_data.html"
   ]
  },
  {
   "cell_type": "markdown",
   "metadata": {},
   "source": [
    "* Assuming that you have downloaded the scikit-learn source code:\n",
    "    * The data can be downloaded using doc/tutorial/text_analytics/data/movie_reviews/fetch_data.py\n",
    "    * A skeleton for the solution can be found in doc/tutorial/text_analytics/skeletons/exercise_02_sentiment.py\n",
    "    * A completed solution can be found in doc/tutorial/text_analytics/solutions/exercise_02_sentiment.py\n",
    "* **It is ok to use the solution provided in the scikit-learn distribution as a starting place for your work.**\n",
    "\n",
    "### Modify the solution to Exercise 2 so that it can run in this iPython notebook\n",
    "* This will likely involved moving around data files and/or small modifications to the script.\n",
    "* [Upgrade Scikit Learn on Mac OS X](http://stackoverflow.com/questions/12219657/upgrade-version-of-scikit-learn-included-in-enthought-canopy-distribution)"
   ]
  },
  {
   "cell_type": "markdown",
   "metadata": {},
   "source": [
    "#### Load the Data from Source"
   ]
  },
  {
   "cell_type": "code",
   "execution_count": 20,
   "metadata": {
    "collapsed": false
   },
   "outputs": [
    {
     "name": "stdout",
     "output_type": "stream",
     "text": [
      "Dataset already exists\n"
     ]
    }
   ],
   "source": [
    "import os\n",
    "import tarfile\n",
    "from contextlib import closing\n",
    "try:\n",
    "    from urllib import urlopen\n",
    "except ImportError:\n",
    "    from urllib.request import urlopen\n",
    "\n",
    "\n",
    "URL = (\"http://www.cs.cornell.edu/people/pabo/\"\n",
    "       \"movie-review-data/review_polarity.tar.gz\")\n",
    "\n",
    "ARCHIVE_NAME = URL.rsplit('/', 1)[1]\n",
    "DATA_FOLDER = 'text_analytics/txt_sentoken'\n",
    "\n",
    "\n",
    "if not os.path.exists(DATA_FOLDER):\n",
    "\n",
    "    if not os.path.exists(ARCHIVE_NAME):\n",
    "        print(\"Downloading dataset from %s (3 MB)\" % URL)\n",
    "        opener = urlopen(URL)\n",
    "        with open(ARCHIVE_NAME, 'wb') as archive:\n",
    "            archive.write(opener.read())\n",
    "\n",
    "    print(\"Decompressing %s\" % ARCHIVE_NAME)\n",
    "    with closing(tarfile.open(ARCHIVE_NAME, \"r:gz\")) as archive:\n",
    "        archive.extractall(path=DATA_FOLDER)\n",
    "    os.remove(ARCHIVE_NAME)\n",
    "else:\n",
    "    print(\"Dataset already exists\")"
   ]
  },
  {
   "cell_type": "markdown",
   "metadata": {},
   "source": [
    "#### Global Imports"
   ]
  },
  {
   "cell_type": "code",
   "execution_count": 5,
   "metadata": {
    "collapsed": true
   },
   "outputs": [],
   "source": [
    "import numpy as np\n",
    "import pandas as pa\n",
    "import matplotlib.pylab as py\n",
    "import matplotlib.pyplot as plt\n",
    "import scipy\n",
    "from time import time\n",
    "\n",
    "%matplotlib inline"
   ]
  },
  {
   "cell_type": "markdown",
   "metadata": {},
   "source": [
    "#### Load data"
   ]
  },
  {
   "cell_type": "code",
   "execution_count": 6,
   "metadata": {
    "collapsed": false
   },
   "outputs": [
    {
     "name": "stdout",
     "output_type": "stream",
     "text": [
      "n_samples: 2000\n"
     ]
    }
   ],
   "source": [
    "from sklearn.feature_extraction.text import TfidfVectorizer\n",
    "from sklearn.svm import LinearSVC\n",
    "from sklearn.pipeline import Pipeline\n",
    "from sklearn.grid_search import GridSearchCV\n",
    "from sklearn.datasets import load_files\n",
    "from sklearn.cross_validation import train_test_split\n",
    "from sklearn import metrics\n",
    "\n",
    "dataset = load_files('txt_sentoken', shuffle=False)\n",
    "print(\"n_samples: %d\" % len(dataset.data))"
   ]
  },
  {
   "cell_type": "markdown",
   "metadata": {},
   "source": [
    "#### Split data into training (75%) and testing (25%) sets"
   ]
  },
  {
   "cell_type": "code",
   "execution_count": 7,
   "metadata": {
    "collapsed": false
   },
   "outputs": [],
   "source": [
    "docs_train, docs_test, y_train, y_test = train_test_split(\n",
    "    dataset.data, dataset.target, test_size=0.25, random_state=None)"
   ]
  },
  {
   "cell_type": "markdown",
   "metadata": {},
   "source": [
    "#### Build pipeline"
   ]
  },
  {
   "cell_type": "code",
   "execution_count": 8,
   "metadata": {
    "collapsed": true
   },
   "outputs": [],
   "source": [
    "from sklearn.pipeline import Pipeline\n",
    "from sklearn.feature_extraction.text import CountVectorizer\n",
    "from sklearn.feature_extraction.text import TfidfVectorizer\n",
    "from sklearn.feature_extraction.text import TfidfTransformer\n",
    "from sklearn.naive_bayes import MultinomialNB\n",
    "\n",
    "# Vectorizer / classifier pipeline that filters out tokens that are too rare or too frequent\n",
    "pipeline = Pipeline([\n",
    "    ('vect', TfidfVectorizer(min_df=3, max_df=0.95)),\n",
    "    ('clf', LinearSVC(C=1000)),\n",
    "])"
   ]
  },
  {
   "cell_type": "markdown",
   "metadata": {},
   "source": [
    "#### Grid search"
   ]
  },
  {
   "cell_type": "code",
   "execution_count": 9,
   "metadata": {
    "collapsed": false
   },
   "outputs": [
    {
     "name": "stdout",
     "output_type": "stream",
     "text": [
      "[mean: 0.82200, std: 0.00748, params: {'vect__ngram_range': (1, 1)}, mean: 0.83533, std: 0.00984, params: {'vect__ngram_range': (1, 2)}]\n",
      "             precision    recall  f1-score   support\n",
      "\n",
      "        neg       0.90      0.88      0.89       247\n",
      "        pos       0.88      0.91      0.89       253\n",
      "\n",
      "avg / total       0.89      0.89      0.89       500\n",
      "\n"
     ]
    }
   ],
   "source": [
    "# Find out whether unigrams or bigrams are more useful.\n",
    "parameters = {\n",
    "    'vect__ngram_range': [(1, 1), (1, 2)],\n",
    "}\n",
    "grid_search = GridSearchCV(pipeline, parameters, n_jobs=1)\n",
    "# Fit pipeline on training set using grid search for the parameters\n",
    "grid_search.fit(docs_train, y_train)\n",
    "\n",
    "# Print cross-validated scores for each parameter set explored by the grid search\n",
    "print(grid_search.grid_scores_)\n",
    "\n",
    "# Predict outcome on testing set and store it in a variable named y_predicted\n",
    "y_predicted = grid_search.predict(docs_test)\n",
    "\n",
    "# Print classification report\n",
    "print(metrics.classification_report(y_test, y_predicted,\n",
    "                                    target_names=dataset.target_names))"
   ]
  },
  {
   "cell_type": "markdown",
   "metadata": {},
   "source": [
    "#### Print and plot confusion matrix"
   ]
  },
  {
   "cell_type": "code",
   "execution_count": 15,
   "metadata": {
    "collapsed": false
   },
   "outputs": [
    {
     "name": "stdout",
     "output_type": "stream",
     "text": [
      "[[217  30]\n",
      " [ 24 229]]\n"
     ]
    },
    {
     "data": {
      "image/png": "[encoded data removed]",
      "text/plain": [
       "<matplotlib.figure.Figure at 0x16951400>"
      ]
     },
     "metadata": {},
     "output_type": "display_data"
    }
   ],
   "source": [
    "cm = metrics.confusion_matrix(y_test, y_predicted)\n",
    "print(cm)\n",
    "plt.matshow(cm)\n",
    "plt.colorbar()\n",
    "plt.title('Confusion matrix')\n",
    "plt.ylabel('True')\n",
    "plt.xlabel('Predicted')\n",
    "plt.show()"
   ]
  },
  {
   "cell_type": "markdown",
   "metadata": {},
   "source": [
    "## Problem 2 (20 points): Explore the scikit-learn TfidVectorizer class\n",
    "\n",
    "**Read the documentation for the TfidVectorizer class at http://scikit-learn.org/stable/modules/generated/sklearn.feature_extraction.text.TfidfVectorizer.html.** \n",
    "* Define the term frequency–inverse document frequency (TF-IDF) statistic (http://en.wikipedia.org/wiki/Tf%E2%80%93idf will likely help).\n",
    "* Run the TfidVectorizer class on the training data above (docs_train).\n",
    "* Explore the min_df and max_df parameters of TfidVectorizer.  What do they mean? How do they change the features you get?\n",
    "* Explore the ngram_range parameter of TfidVectorizer.  What does it mean? How does it change the features you get? (Note, large values  of ngram_range may take a long time to run!)"
   ]
  },
  {
   "cell_type": "markdown",
   "metadata": {},
   "source": [
    "#### Parameters in tf-idf Vectorizer\n",
    "* **min_df**: filter all terms with frequency lower than this value\n",
    "* **max-df**: filter all terms with frequecy greater than this value, used to filter out stop words.\n",
    "* **n-gram range**: How many n-gram words are to be considered"
   ]
  },
  {
   "cell_type": "markdown",
   "metadata": {},
   "source": [
    "#### Test tf-idf vectorizer object on training set"
   ]
  },
  {
   "cell_type": "code",
   "execution_count": 12,
   "metadata": {
    "collapsed": false
   },
   "outputs": [],
   "source": [
    "tfidfv = TfidfVectorizer()\n",
    "tfidfv = tfidfv.set_params(max_df=0.75, max_features= 5000, use_idf= True, smooth_idf=True, sublinear_tf = True)"
   ]
  },
  {
   "cell_type": "code",
   "execution_count": 13,
   "metadata": {
    "collapsed": false
   },
   "outputs": [
    {
     "name": "stdout",
     "output_type": "stream",
     "text": [
      "done in 2.181s\n"
     ]
    }
   ],
   "source": [
    "t0 = time()\n",
    "vectors = tfidfv.fit_transform(docs_train) \n",
    "print(\"done in %0.3fs\" % (time() - t0))"
   ]
  },
  {
   "cell_type": "markdown",
   "metadata": {},
   "source": [
    "#### Explore how the min_df and max_df change the number of features we get "
   ]
  },
  {
   "cell_type": "code",
   "execution_count": 15,
   "metadata": {
    "collapsed": false
   },
   "outputs": [
    {
     "name": "stderr",
     "output_type": "stream",
     "text": [
      "C:\\Users\\Tyler\\AppData\\Local\\Enthought\\Canopy\\User\\lib\\site-packages\\matplotlib\\__init__.py:872: UserWarning: axes.color_cycle is deprecated and replaced with axes.prop_cycle; please use the latter.\n",
      "  warnings.warn(self.msg_depr % (key, alt_key))\n"
     ]
    },
    {
     "data": {
      "image/png": "[encoded data removed]",
      "text/plain": [
       "<matplotlib.figure.Figure at 0x1606d2b0>"
      ]
     },
     "metadata": {},
     "output_type": "display_data"
    },
    {
     "name": "stdout",
     "output_type": "stream",
     "text": [
      "<ggplot: (24655318)>\n"
     ]
    },
    {
     "data": {
      "image/png": "[encoded data removed]",
      "text/plain": [
       "<matplotlib.figure.Figure at 0x123380b8>"
      ]
     },
     "metadata": {},
     "output_type": "display_data"
    },
    {
     "name": "stdout",
     "output_type": "stream",
     "text": [
      "<ggplot: (23096818)>\n"
     ]
    }
   ],
   "source": [
    "import numpy as np\n",
    "value_range=np.arange(0.01,0.99,0.01)\n",
    "y1=[TfidfVectorizer(min_df=x).fit_transform(docs_train).shape[1] for x in value_range]\n",
    "y2=[TfidfVectorizer(max_df=x).fit_transform(docs_train).shape[1] for x in value_range]\n",
    "from ggplot import *\n",
    "print qplot(value_range,y=y1,geom='line')+xlab('min_df')+ylab('features')\n",
    "print qplot(value_range,y=y2,geom='line')+xlab('max_df')+ylab('features')"
   ]
  },
  {
   "cell_type": "markdown",
   "metadata": {},
   "source": [
    "#### Explore how the ngram_range change the number of features we get "
   ]
  },
  {
   "cell_type": "code",
   "execution_count": 16,
   "metadata": {
    "collapsed": false
   },
   "outputs": [
    {
     "data": {
      "text/plain": [
       "<matplotlib.text.Text at 0x164a1f28>"
      ]
     },
     "execution_count": 16,
     "metadata": {},
     "output_type": "execute_result"
    },
    {
     "data": {
      "image/png": "[encoded data removed]",
      "text/plain": [
       "<matplotlib.figure.Figure at 0x8d8eeb8>"
      ]
     },
     "metadata": {},
     "output_type": "display_data"
    }
   ],
   "source": [
    "x=[1 for i in range(10)]\n",
    "y=np.arange(10)+1\n",
    "parameter=zip(x,y)\n",
    "y3=[TfidfVectorizer(ngram_range=i).fit_transform(docs_train).shape[1] for i in parameter]\n",
    "fig=plt.figure(figsize=(8,6))\n",
    "plt.plot([1,2,3,4,5,6,7,8,9,10],y3,'b--o')\n",
    "plt.xlabel('ngram')\n",
    "plt.ylabel('features')"
   ]
  },
  {
   "cell_type": "code",
   "execution_count": 4,
   "metadata": {
    "collapsed": true
   },
   "outputs": [],
   "source": [
    "#setting max_df and n_gram_range as default, we choose min_df in [1,2,3,4,5] seperately, \n",
    "#and store the corresponding Xtrain and Xtest into min_df_data array.\n",
    "min_df_data=[(TfidfVectorizer(min_df=i).fit_transform(docs_train).toarray(),\n",
    "TfidfVectorizer(min_df=i).fit(docs_train).transform(docs_test).toarray()) for i in [1,3,5,7]]\n"
   ]
  },
  {
   "cell_type": "code",
   "execution_count": 5,
   "metadata": {
    "collapsed": true
   },
   "outputs": [],
   "source": [
    "#setting min_df and n_gram_range as default, we choose max_df in [0.40,0.5, 0.60, 0.7] seperately, \n",
    "#and store the corresponding Xtrain and Xtest into max_df_data array.\n",
    "max_df_data=[(TfidfVectorizer(max_df=i).fit_transform(docs_train).toarray(),\n",
    "TfidfVectorizer(max_df=i).fit(docs_train).transform(docs_test).toarray()) for i in [0.40,0.5, 0.60, 0.7]]"
   ]
  },
  {
   "cell_type": "code",
   "execution_count": 6,
   "metadata": {
    "collapsed": true
   },
   "outputs": [],
   "source": [
    "#setting min_df and max_df as default, we choose ngram_range in [(1,1),(1,2),(1,3)] seperately, \n",
    "#and store the corresponding Xtrain and Xtest into ngram_range_data array.\n",
    "ngram_range_data=[(TfidfVectorizer(ngram_range=i).fit_transform(docs_train),\n",
    "TfidfVectorizer(ngram_range=i).fit(docs_train).transform(docs_test)) for i in [(1,1),(1,2)]]"
   ]
  },
  {
   "cell_type": "code",
   "execution_count": 17,
   "metadata": {
    "collapsed": false
   },
   "outputs": [
    {
     "name": "stdout",
     "output_type": "stream",
     "text": [
      "Fitting 3 folds for each of 1 candidates, totalling 3 fits\n",
      "Fitting 3 folds for each of 1 candidates, totalling 3 fits"
     ]
    },
    {
     "name": "stderr",
     "output_type": "stream",
     "text": [
      "[Parallel(n_jobs=1)]: Done   3 out of   3 | elapsed:  2.4min finished\n",
      "[Parallel(n_jobs=1)]: Done   3 out of   3 | elapsed:   30.8s finished\n"
     ]
    },
    {
     "name": "stdout",
     "output_type": "stream",
     "text": [
      "\n",
      "Fitting 3 folds for each of 1 candidates, totalling 3 fits\n",
      "Fitting 3 folds for each of 1 candidates, totalling 3 fits"
     ]
    },
    {
     "name": "stderr",
     "output_type": "stream",
     "text": [
      "[Parallel(n_jobs=1)]: Done   3 out of   3 | elapsed:    1.8s finished\n",
      "[Parallel(n_jobs=1)]: Done   3 out of   3 | elapsed:    1.0s finished\n"
     ]
    },
    {
     "name": "stdout",
     "output_type": "stream",
     "text": [
      "\n",
      "Fitting 3 folds for each of 1 candidates, totalling 3 fits\n",
      "Fitting 3 folds for each of 1 candidates, totalling 3 fits"
     ]
    },
    {
     "name": "stderr",
     "output_type": "stream",
     "text": [
      "[Parallel(n_jobs=1)]: Done   3 out of   3 | elapsed:   47.4s finished\n",
      "[Parallel(n_jobs=1)]: Done   3 out of   3 | elapsed:   34.3s finished\n"
     ]
    },
    {
     "name": "stdout",
     "output_type": "stream",
     "text": [
      "\n",
      "Fitting 3 folds for each of 1 candidates, totalling 3 fits\n",
      "Fitting 3 folds for each of 1 candidates, totalling 3 fits"
     ]
    },
    {
     "name": "stderr",
     "output_type": "stream",
     "text": [
      "[Parallel(n_jobs=1)]: Done   3 out of   3 | elapsed: 10.2min finished\n",
      "[Parallel(n_jobs=1)]: Done   3 out of   3 | elapsed:  3.5min finished\n"
     ]
    },
    {
     "name": "stdout",
     "output_type": "stream",
     "text": [
      "\n",
      "Fitting 3 folds for each of 1 candidates, totalling 3 fits\n",
      "Fitting 3 folds for each of 1 candidates, totalling 3 fits"
     ]
    },
    {
     "name": "stderr",
     "output_type": "stream",
     "text": [
      "[Parallel(n_jobs=1)]: Done   3 out of   3 | elapsed:    2.0s finished\n",
      "[Parallel(n_jobs=1)]: Done   3 out of   3 | elapsed:   13.3s finished\n"
     ]
    },
    {
     "name": "stdout",
     "output_type": "stream",
     "text": [
      "\n"
     ]
    }
   ],
   "source": [
    "# explore parameters in tfidf for both linear SVC and KNN\n",
    "param_grid = [\n",
    "  {'C': [1]},\n",
    "   ]\n",
    "grid_search = GridSearchCV(LinearSVC(), param_grid, n_jobs=1, verbose=1)\n",
    "min_df_fit=[grid_search.fit(i[0],y_train).predict(i[1]) for i in min_df_data ]\n",
    "max_df_fit=[grid_search.fit(i[0],y_train).predict(i[1]) for i in max_df_data ]\n",
    "ngram_range_fit=[grid_search.fit(i[0],y_train).predict(i[1]) for i in ngram_range_data]\n",
    "\n",
    "min_df_svc_score=[metrics.accuracy_score(min_df_fit[i],y_test) for i in range(4)]\n",
    "max_df_svc_score=[metrics.accuracy_score(max_df_fit[i],y_test) for i in range(4)]\n",
    "ngram_range_svc_score=[metrics.accuracy_score(ngram_range_fit[i],y_test) for i in range(2)]"
   ]
  },
  {
   "cell_type": "code",
   "execution_count": 18,
   "metadata": {
    "collapsed": false
   },
   "outputs": [
    {
     "name": "stdout",
     "output_type": "stream",
     "text": [
      "Fitting 3 folds for each of 2 candidates, totalling 6 fits\n",
      "Fitting 3 folds for each of 2 candidates, totalling 6 fits"
     ]
    },
    {
     "name": "stderr",
     "output_type": "stream",
     "text": [
      "[Parallel(n_jobs=1)]: Done   6 out of   6 | elapsed: 13.6min finished\n",
      "[Parallel(n_jobs=1)]: Done   6 out of   6 | elapsed:  8.5min finished\n"
     ]
    },
    {
     "name": "stdout",
     "output_type": "stream",
     "text": [
      "\n",
      "Fitting 3 folds for each of 2 candidates, totalling 6 fits\n",
      "Fitting 3 folds for each of 2 candidates, totalling 6 fits"
     ]
    },
    {
     "name": "stderr",
     "output_type": "stream",
     "text": [
      "[Parallel(n_jobs=1)]: Done   6 out of   6 | elapsed:  3.1min finished\n",
      "[Parallel(n_jobs=1)]: Done   6 out of   6 | elapsed:  3.1min finished\n"
     ]
    },
    {
     "name": "stdout",
     "output_type": "stream",
     "text": [
      "\n",
      "Fitting 3 folds for each of 2 candidates, totalling 6 fits\n",
      "Fitting 3 folds for each of 2 candidates, totalling 6 fits"
     ]
    },
    {
     "name": "stderr",
     "output_type": "stream",
     "text": [
      "[Parallel(n_jobs=1)]: Done   6 out of   6 | elapsed:  9.0min finished\n",
      "[Parallel(n_jobs=1)]: Done   6 out of   6 | elapsed:  8.9min finished\n"
     ]
    },
    {
     "name": "stdout",
     "output_type": "stream",
     "text": [
      "\n",
      "Fitting 3 folds for each of 2 candidates, totalling 6 fits\n",
      "Fitting 3 folds for each of 2 candidates, totalling 6 fits"
     ]
    },
    {
     "name": "stderr",
     "output_type": "stream",
     "text": [
      "[Parallel(n_jobs=1)]: Done   6 out of   6 | elapsed: 11.8min finished\n",
      "[Parallel(n_jobs=1)]: Done   6 out of   6 | elapsed:  9.3min finished\n"
     ]
    },
    {
     "name": "stdout",
     "output_type": "stream",
     "text": [
      "\n",
      "Fitting 3 folds for each of 2 candidates, totalling 6 fits\n",
      "Fitting 3 folds for each of 2 candidates, totalling 6 fits"
     ]
    },
    {
     "name": "stderr",
     "output_type": "stream",
     "text": [
      "[Parallel(n_jobs=1)]: Done   6 out of   6 | elapsed:    5.6s finished\n",
      "[Parallel(n_jobs=1)]: Done   6 out of   6 | elapsed:    6.7s finished\n"
     ]
    },
    {
     "name": "stdout",
     "output_type": "stream",
     "text": [
      "\n"
     ]
    }
   ],
   "source": [
    "from sklearn.neighbors import KNeighborsClassifier\n",
    "param_grid = [\n",
    "  {'n_neighbors': [1,4]},\n",
    "   ]\n",
    "grid_search1 = GridSearchCV(KNeighborsClassifier(), param_grid, n_jobs=1, verbose=1)\n",
    "min_df_fit1=[grid_search1.fit(i[0],y_train).predict(i[1]) for i in min_df_data ]\n",
    "max_df_fit1=[grid_search1.fit(i[0],y_train).predict(i[1]) for i in max_df_data ]\n",
    "ngram_range_fit1=[grid_search1.fit(i[0],y_train).predict(i[1]) for i in ngram_range_data]"
   ]
  },
  {
   "cell_type": "code",
   "execution_count": 19,
   "metadata": {
    "collapsed": false
   },
   "outputs": [],
   "source": [
    "min_df_knn_score=[metrics.accuracy_score(min_df_fit1[i],y_test) for i in range(4)]\n",
    "max_df_knn_score=[metrics.accuracy_score(max_df_fit1[i],y_test) for i in range(4)]\n",
    "ngram_range_knn_score=[metrics.accuracy_score(ngram_range_fit1[i],y_test) for i in range(2)]"
   ]
  },
  {
   "cell_type": "code",
   "execution_count": 20,
   "metadata": {
    "collapsed": false
   },
   "outputs": [
    {
     "data": {
      "text/plain": [
       "<matplotlib.text.Text at 0xe1f1400>"
      ]
     },
     "execution_count": 20,
     "metadata": {},
     "output_type": "execute_result"
    },
    {
     "data": {
      "image/png": "[encoded data removed]",
      "text/plain": [
       "<matplotlib.figure.Figure at 0x10d16eb8>"
      ]
     },
     "metadata": {},
     "output_type": "display_data"
    }
   ],
   "source": [
    "import matplotlib.pyplot as plt \n",
    "fig=plt.figure(figsize=(8,6))\n",
    "plt.plot([1,3,5,7], min_df_svc_score, 'bo--',label='svm')\n",
    "plt.plot([1,3,5,7], min_df_knn_score, 'ro--',label='knn')\n",
    "plt.legend(loc='best')\n",
    "plt.xlabel('min_df')\n",
    "plt.ylabel('score')"
   ]
  },
  {
   "cell_type": "code",
   "execution_count": 21,
   "metadata": {
    "collapsed": false
   },
   "outputs": [
    {
     "data": {
      "text/plain": [
       "<matplotlib.text.Text at 0xe25c7b8>"
      ]
     },
     "execution_count": 21,
     "metadata": {},
     "output_type": "execute_result"
    },
    {
     "data": {
      "image/png": "[encoded data removed]",
      "text/plain": [
       "<matplotlib.figure.Figure at 0x10d16390>"
      ]
     },
     "metadata": {},
     "output_type": "display_data"
    }
   ],
   "source": [
    "fig=plt.figure(figsize=(8,6))\n",
    "plt.plot([0.40,0.5, 0.60, 0.7], max_df_svc_score, 'bo--',label='svm')\n",
    "plt.plot([0.40,0.5, 0.60, 0.7], max_df_knn_score, 'ro--',label='knn')\n",
    "plt.legend(loc='best')\n",
    "plt.xlabel('max_df')\n",
    "plt.ylabel('score')"
   ]
  },
  {
   "cell_type": "code",
   "execution_count": 22,
   "metadata": {
    "collapsed": false
   },
   "outputs": [
    {
     "data": {
      "text/plain": [
       "<matplotlib.text.Text at 0xe26edd8>"
      ]
     },
     "execution_count": 22,
     "metadata": {},
     "output_type": "execute_result"
    },
    {
     "data": {
      "image/png": "[encoded data removed]",
      "text/plain": [
       "<matplotlib.figure.Figure at 0x60840ac8>"
      ]
     },
     "metadata": {},
     "output_type": "display_data"
    }
   ],
   "source": [
    "fig=plt.figure(figsize=(8,6))\n",
    "plt.plot([1,2], ngram_range_svc_score, 'bo--',label='svm')\n",
    "plt.plot([1,2], ngram_range_knn_score, 'ro--',label='knn')\n",
    "plt.legend(loc='best')\n",
    "plt.xlabel('ngram_range = (1,ngram)')\n",
    "plt.ylabel('score')"
   ]
  },
  {
   "cell_type": "markdown",
   "metadata": {},
   "source": [
    "*------------------------\n",
    "\n",
    "## Problem 3 (20 points): Machine learning algorithms\n"
   ]
  },
  {
   "cell_type": "markdown",
   "metadata": {},
   "source": [
    "* Based upon Problem 2 pick some parameters for TfidfVectorizer\n",
    "    * \"fit\" your TfidfVectorizer using docs_train\n",
    "    * Compute \"Xtrain\", a Tf-idf-weighted document-term matrix using the transform function on docs_train\n",
    "    * Compute \"Xtest\", a Tf-idf-weighted document-term matrix using the transform function on docs_test\n",
    "    * Note, be sure to use the same Tf-idf-weighted class (**\"fit\" using docs_train**) to transform **both** docs_test and docs_train\n",
    "* Examine two classifiers provided by scikit-learn \n",
    "    * LinearSVC\n",
    "    * KNeighborsClassifier\n",
    "    * Try a number of different parameter settings for each and judge your performance using a confusion matrix (see Problem 1 for an example).\n",
    "* Does one classifier, or one set of parameters work better?\n",
    "    * Why do you think it might be working better?\n",
    "* For a particular choice of parameters and classifier, look at 2 examples where the prediction was incorrect.\n",
    "    * Can you conjecture on why the classifier made a mistake for this prediction?"
   ]
  },
  {
   "cell_type": "markdown",
   "metadata": {},
   "source": [
    "#### Fit TfidVectorizer using docs_train, and compute \"Xtrain\" and \"Xtest\""
   ]
  },
  {
   "cell_type": "code",
   "execution_count": 25,
   "metadata": {
    "collapsed": true
   },
   "outputs": [],
   "source": [
    "# This is all done in the following line of code.  Note that we never explicitly define Xtrain and Xtest.  Rather, data is of\n",
    "# form data = [X train , X test].  Thus Xtrain = data[0] and Xtest = data[1]\n",
    "data=[TfidfVectorizer().fit_transform(docs_train).toarray(), TfidfVectorizer().fit(docs_train).transform(docs_test).toarray()]"
   ]
  },
  {
   "cell_type": "markdown",
   "metadata": {},
   "source": [
    "#### K-Nearest Neighbors"
   ]
  },
  {
   "cell_type": "code",
   "execution_count": 26,
   "metadata": {
    "collapsed": false
   },
   "outputs": [
    {
     "data": {
      "text/plain": [
       "<matplotlib.text.Text at 0x44367a20>"
      ]
     },
     "execution_count": 26,
     "metadata": {},
     "output_type": "execute_result"
    },
    {
     "data": {
      "image/png": "[encoded data removed]",
      "text/plain": [
       "<matplotlib.figure.Figure at 0x84a6a278>"
      ]
     },
     "metadata": {},
     "output_type": "display_data"
    }
   ],
   "source": [
    "from sklearn.neighbors import KNeighborsClassifier\n",
    "\n",
    "# We use K-values ranging from 1-10\n",
    "k=[1,2,3,4,5,6,7,8,9,10]\n",
    "\n",
    "# Train a model on the trainng set and use that model to predict on the testing set\n",
    "predicted_knn=[KNeighborsClassifier(n_neighbors=i).fit(data[0],y_train).predict(data[1]) for i in k]\n",
    "\n",
    "#Compute accuracy on the testing set for each value of k\n",
    "score_knn=[metrics.accuracy_score(predicted_knn[i],y_test) for i in range(10)]\n",
    "\n",
    "# Plot accuracy on the test set vs. k\n",
    "fig=plt.figure(figsize=(8,6))\n",
    "plt.plot([1,2,3,4,5,6,7,8,9,10], score_knn, 'bo--',label='knn')\n",
    "plt.xlabel('K')\n",
    "plt.ylabel('score')\n"
   ]
  },
  {
   "cell_type": "markdown",
   "metadata": {},
   "source": [
    "#### Linear SVC"
   ]
  },
  {
   "cell_type": "code",
   "execution_count": 30,
   "metadata": {
    "collapsed": false
   },
   "outputs": [
    {
     "name": "stdout",
     "output_type": "stream",
     "text": [
      "[[127 132]\n",
      " [ 33 208]]\n"
     ]
    },
    {
     "data": {
      "image/png": "[encoded data removed]",
      "text/plain": [
       "<matplotlib.figure.Figure at 0x84cf00b8>"
      ]
     },
     "metadata": {},
     "output_type": "display_data"
    }
   ],
   "source": [
    "y_predicted = predicted_knn[0]\n",
    "cm = metrics.confusion_matrix(y_test, y_predicted)\n",
    "print(cm)\n",
    "plt.matshow(cm)\n",
    "plt.title('Confusion matrix')\n",
    "plt.colorbar()\n",
    "plt.ylabel('True label')\n",
    "plt.xlabel('Predicted label')\n",
    "plt.show()"
   ]
  },
  {
   "cell_type": "code",
   "execution_count": 27,
   "metadata": {
    "collapsed": false
   },
   "outputs": [
    {
     "data": {
      "text/plain": [
       "<matplotlib.text.Text at 0x61a323c8>"
      ]
     },
     "execution_count": 27,
     "metadata": {},
     "output_type": "execute_result"
    },
    {
     "data": {
      "image/png": "[encoded data removed]",
      "text/plain": [
       "<matplotlib.figure.Figure at 0x60841630>"
      ]
     },
     "metadata": {},
     "output_type": "display_data"
    }
   ],
   "source": [
    "C=[.01,.05,.1,.5,1,2,3,4,10,20]\n",
    "predicted_svm=[LinearSVC(C=i).fit(data[0],y_train).predict(data[1]) for i in C]\n",
    "score_svm=[metrics.accuracy_score(predicted_svm[i],y_test) for i in range(10)]\n",
    "\n",
    "fig=plt.figure(figsize=(8,6))\n",
    "plt.plot([.01,.05,.1,.5,1,2,3,4,10,20], score_svm, 'bo--',label='svm')\n",
    "plt.xlabel('C')\n",
    "plt.ylabel('score')\n",
    "\n"
   ]
  },
  {
   "cell_type": "code",
   "execution_count": 36,
   "metadata": {
    "collapsed": false
   },
   "outputs": [
    {
     "name": "stdout",
     "output_type": "stream",
     "text": [
      "[[212  47]\n",
      " [ 27 214]]\n"
     ]
    },
    {
     "data": {
      "image/png": "[encoded data removed]",
      "text/plain": [
       "<matplotlib.figure.Figure at 0x27256b70>"
      ]
     },
     "metadata": {},
     "output_type": "display_data"
    }
   ],
   "source": [
    "y_predicted = predicted_svm[9]\n",
    "cm = metrics.confusion_matrix(y_test, y_predicted)\n",
    "print(cm)\n",
    "plt.matshow(cm)\n",
    "plt.title('Confusion matrix')\n",
    "plt.colorbar()\n",
    "plt.ylabel('True label')\n",
    "plt.xlabel('Predicted label')\n",
    "plt.show()"
   ]
  },
  {
   "cell_type": "markdown",
   "metadata": {},
   "source": [
    "#### Mis-classified Reviews"
   ]
  },
  {
   "cell_type": "code",
   "execution_count": 28,
   "metadata": {
    "collapsed": false
   },
   "outputs": [
    {
     "name": "stdout",
     "output_type": "stream",
     "text": [
      "[0 1 1 1 0 0 0 0 1 0 1 0 0 0 1 1 0 1 1 0 0 1 0 0 0 1 1 0 1 1 0 0 1 1 0 0 0\n",
      " 0 1 1 0 1 1 0 1 0 0 1 0 0 1 0 1 1 0 1 0 0 0 1 1 1 1 1 1 1 0 0 1 0 0 0 0 1\n",
      " 1 1 0 1 0 1 1 1 1 1 1 0 1 1 0 1 1 0 0 0 0 1 1 1 0 0 0 1 1 0 1 0 1 0 0 1 1\n",
      " 1 0 0 1 0 1 1 1 0 1 1 0 0 1 1 1 1 1 1 1 1 1 1 1 1 1 0 0 0 1 1 0 1 0 0 1 0\n",
      " 1 1 0 1 1 0 1 0 1 1 0 0 1 0 0 1 1 0 0 1 1 0 1 0 0 0 0 1 1 0 0 0 0 1 0 0 0\n",
      " 0 0 0 0 0 1 0 0 0 1 1 1 0 1 0 1 0 0 1 1 1 1 1 0 1 0 0 1 0 1 1 1 0 1 0 0 0\n",
      " 1 1 1 1 0 0 1 1 0 1 1 0 0 0 1 0 0 0 0 1 0 1 1 0 1 1 0 0 1 0 1 1 1 1 1 0 1\n",
      " 1 1 0 1 0 1 0 1 1 0 0 0 0 0 0 0 0 1 0 0 0 1 0 0 1 0 1 1 1 0 0 1 0 0 0 0 0\n",
      " 1 1 0 0 0 1 0 1 0 1 0 0 0 1 0 1 0 0 1 0 1 1 1 1 1 0 1 0 0 0 1 1 1 1 0 0 1\n",
      " 1 0 0 1 1 1 1 1 0 1 1 0 0 0 1 0 0 1 1 1 0 1 0 1 0 1 0 1 1 0 0 1 0 0 1 0 1\n",
      " 0 1 1 1 1 0 0 1 1 1 0 1 0 1 1 0 1 0 0 1 0 0 0 1 1 1 1 1 0 1 1 0 1 0 0 0 1\n",
      " 0 0 0 0 0 0 0 1 0 1 1 0 1 1 0 1 1 1 1 0 0 1 1 1 0 0 1 1 1 1 1 1 1 1 0 1 1\n",
      " 0 1 0 0 0 0 1 1 0 1 1 0 0 1 0 1 0 1 0 1 1 0 1 1 1 0 0 0 1 1 0 1 1 1 1 0 0\n",
      " 1 1 1 1 0 0 0 1 0 1 1 0 0 0 0 1 0 0 0]\n",
      "\n",
      "[0 0 1 1 0 0 0 0 0 1 1 1 1 0 1 1 0 1 1 0 0 1 0 1 0 1 1 0 1 1 0 0 1 1 0 0 0\n",
      " 1 1 1 0 1 1 0 1 0 0 1 1 0 1 0 0 1 0 1 0 0 0 1 1 1 1 1 1 1 1 0 1 0 1 0 0 1\n",
      " 1 1 0 1 0 1 0 1 1 1 1 0 0 1 0 1 1 0 0 0 0 1 1 1 0 0 0 1 1 0 1 0 1 0 0 0 1\n",
      " 1 0 1 1 0 1 1 1 1 1 1 0 0 1 1 1 0 1 0 1 1 1 1 1 1 1 0 0 0 0 1 0 0 0 0 1 1\n",
      " 1 1 0 1 1 0 1 0 1 0 0 0 0 0 0 1 1 0 0 1 1 0 1 0 0 0 0 1 1 0 0 0 0 0 0 1 0\n",
      " 0 1 0 0 0 1 0 1 0 1 1 1 0 1 0 1 1 0 1 1 1 1 1 0 1 1 1 1 0 1 1 0 0 1 0 0 0\n",
      " 1 1 1 1 0 1 1 1 1 1 1 0 0 0 1 0 0 0 1 1 1 1 0 0 1 1 0 1 0 0 1 1 1 1 1 0 1\n",
      " 1 0 0 1 0 1 0 1 1 0 1 0 0 1 0 0 0 1 0 0 0 1 1 1 1 0 1 1 1 0 0 1 0 0 0 0 1\n",
      " 1 1 0 0 0 1 0 1 0 1 0 1 0 1 0 0 1 0 1 0 1 1 1 1 1 0 1 0 0 0 1 1 1 0 0 0 1\n",
      " 1 0 0 1 1 0 1 1 1 0 1 0 0 0 0 0 0 1 0 1 0 1 1 1 0 1 1 1 1 0 0 1 0 1 1 0 1\n",
      " 0 1 1 1 1 0 0 1 1 1 1 1 0 1 1 1 1 0 1 1 0 0 0 1 1 1 1 1 0 0 1 0 1 0 0 0 1\n",
      " 0 1 0 0 0 0 0 1 0 0 1 0 1 1 0 1 1 1 1 1 0 1 1 1 0 1 0 1 1 1 0 1 1 1 0 1 1\n",
      " 0 1 0 1 0 0 1 1 0 0 0 0 0 1 0 1 0 1 0 1 1 0 0 0 0 0 0 0 1 0 0 0 1 0 1 0 0\n",
      " 1 1 0 1 0 0 0 1 0 1 0 0 0 1 0 1 0 0 0]\n"
     ]
    }
   ],
   "source": [
    "print predicted_svm[9]\n",
    "print\n",
    "print y_test"
   ]
  },
  {
   "cell_type": "code",
   "execution_count": 31,
   "metadata": {
    "collapsed": false
   },
   "outputs": [
    {
     "name": "stdout",
     "output_type": "stream",
     "text": [
      "susan granger's review of \" session 9 \" ( usa films ) \n",
      "sometimes you just get more than your bargained for . . . like when boston-based hazmat elimination , run by scottish actor peter mullan and his trusty assistant , david caruso , assures a town engineer ( paul guilifoyle ) that they can remove insidious asbestos fibers from a victorian hospital facility in a week . \n",
      "erected in 1871 , deserted and decomposing since 1985 , the danvers mental hospital , is one of the most malevolent \" locations \" ever chosen for a film . \n",
      "the structure is so massive - with its labyrinth of rubble-strewn corridors , collapsing floors , stagnant pools of water , isolation cells , and ominous surgical chambers where experimental pre-frontal lobotomies were performed - that their task seems impossible within that time frame . \n",
      "and each member of their inexperienced crew ( stephan gevedon , brandon sexton iii , and josh lucas ) is coping with his own personal demons as , one by one , their minds seem to be affected by the grim areas in which they're working . \n",
      "the film's title is derived from salvaged reel-to-reel audio-recorded sessions involving the demonic possession of a young woman who is suffering from multiple personalities . \n",
      "by the time session 9 occurs so do dreadful disasters . \n",
      "filmmaker brad anderson obviously envisioned this as a gruesome chainsaw-massacre-type ghost story but the script lacks structure and isn't particularly scary . \n",
      "the conclusion is more ludicrous than convincing . \n",
      "on the granger movie gauge of 1 to 10 , \" session 9 \" is a dark , gloomy 4 . silly me . . . at \n",
      "first , i thought that the original name of the danvers lunatic asylum bore some reference to mrs . danvers , the creepy housekeeper played by judith anderson in alfred hitchcock's truly terrifying \" rebecca \" that also involved a cavernous mansion called manderley . \n",
      "\n"
     ]
    }
   ],
   "source": [
    "print docs_test[1]"
   ]
  },
  {
   "cell_type": "code",
   "execution_count": 32,
   "metadata": {
    "collapsed": false
   },
   "outputs": [
    {
     "name": "stdout",
     "output_type": "stream",
     "text": [
      "this summer , one of the most racially charged novels in john grisham's series , a time to kill , was made into a major motion picture . \n",
      "on january 3 of this year , director rob reiner basically re-released the film under the title of ghosts of mississippi . \n",
      "based on the true story of 1963 civil rights leader medgar evars' assassination , ghosts of mississippi revolves around the 25-year legal battle faced by myrlie evars ( whoopi goldberg , sister act ) and her quest to have her husband's obvious assassin and racist byron de la beckwith ( james woods , casino ) jailed . \n",
      "so she turns to assistant district attorney and prosecutor bobby delaughter ( alec baldwin , heaven's prisoners ) to imprison the former kkk member . \n",
      "ghosts sets its tone with an opening montage of images from african-american history , from slave-ship miseries to life in the racist south of the 1960's . \n",
      "but all too soon , the white folks take over , intoning lines like \" what's america got to do with anything ? \n",
      "this is mississippi ! \" \n",
      "as beckwith , james woods , with his head larded with latex most of the time as an old man , teeters between portraying evil and its character . \n",
      "meanwhile , goldberg turns in a very serious and weepy performance as the wife who wouldn't let her husband's death rest until she got the conviction . \n",
      "both deserve serious oscar-consideration . \n",
      "this brings us to the dull performance of baldwin . \n",
      "let's face it , trying to match matthew mcconaughey's wonderful acting in a time to kill is basically impossible . \n",
      "and baldwin is living proof of this , as no emotions could be felt . \n",
      "it seemed as if he actually had to struggle to shed a single tear . \n",
      "either poor acting or poor directing , but something definitely went wrong . \n",
      "another strange mishap was the fact that goldberg's facial features didn't change , as she looked the same in the courtroom as she did holding her husband's dead body 25-years earlier . \n",
      "yet woods' was plastered with enough make up to make him look like goldberg's father . \n",
      "at least the make-up was realistic . \n",
      "with some emotional moments in the poorly written script , ghosts of mississippi lacked in heart , when its predecessor , a time to kill , brought tears to everyone's eyes . \n",
      "don't get me wrong , the movie wasn't all that bad , but if you've seen grisham's masterpiece , then don't expect this one to be an excellent film . \n",
      " , \n",
      "\n"
     ]
    }
   ],
   "source": [
    "print docs_test[9]"
   ]
  },
  {
   "cell_type": "markdown",
   "metadata": {},
   "source": [
    "*------------------------\n",
    "\n",
    "## Problem 4 (20 points): Open Ended Question:  Finding the right plot"
   ]
  },
  {
   "cell_type": "markdown",
   "metadata": {},
   "source": [
    "* Can you find a two dimensional plot in which the positive and negative reviews are separated?\n",
    "    * This problem is hard since you will likely have thousands of features for review, and you will need to transform these thousands of features into just two numbers (so that you can make a 2D plot).\n",
    "* Note, I was not able to find such a plot myself!\n",
    "    * So, this problem is about **trying** but perhaps **not necessarily succeeding**!\n",
    "* I tried two things, neither of which worked very well.\n",
    "    * I first plotted the length of the review versus the number of features we compute that are in that review\n",
    "    * Second I used Principle Component Analysis on a subset of the features.\n",
    "* Can you do better than I did!?"
   ]
  },
  {
   "cell_type": "markdown",
   "metadata": {},
   "source": [
    "#### First, build a new set of predictors, based on the text-structure of each document."
   ]
  },
  {
   "cell_type": "code",
   "execution_count": 33,
   "metadata": {
    "collapsed": false
   },
   "outputs": [],
   "source": [
    "# Total number of words with more than one letter in the review\n",
    "total_words = [len([words for words in review.split() if len(words)>1]) for review in dataset.data]\n",
    "\n",
    "# Total number of sentences\n",
    "total_sentences = [len(review.split('.'))+1 for review in dataset.data]\n",
    "\n",
    "# Average number of words per sentence\n",
    "average_sentence_length = [len([words for words in review.split() if len(words)>1])/ float((len(review.split('\\n')))) for review in dataset.data]\n",
    "\n",
    "# Total number of words endint in n't in the document\n",
    "number_of_not_contractions = [review.count(\"'t\") for review in dataset.data]\n",
    "\n",
    "# Total occurences of the word \"not\"\n",
    "number_of_nots = [review.count(\"not\") for review in dataset.data]\n",
    "\n",
    "# Number of \"not\" and \"n't\" occurences\n",
    "total_nots = [number_of_not_contractions[i] + number_of_nots[i] for i in range(len(number_of_not_contractions))]\n",
    "\n",
    "number_of_contractions = [review.count(\"'\") for review in dataset.data]\n",
    "\n",
    "\n",
    "# Determine number of words in the last sentence\n",
    "last_sentence = [review.split('\\n')[len(review.split('\\n'))-2] for review in dataset.data]\n",
    "last_sentence_length = [len([words for words in sen.split( ) if len(words) > 1]) for sen in last_sentence]\n",
    "\n",
    "# Number of words in the first sentence of each review\n",
    "first_sentence = [review.split('\\n')[0] for review in dataset.data]\n",
    "first_sentence_length = [len([words for words in sen.split( ) if len(words) > 1]) for sen in first_sentence]\n",
    "\n",
    "# Number of words in the longest sentence\n",
    "longest_sentence = [max([len([words for words in sen.split( ) if len(words) > 1]) for sen in [sentences for sentences in review.split('\\n') \n",
    "                                                                                              if len(sentences) > 3]] \n",
    "                             ) for review in dataset.data]\n",
    "\n",
    "# Number of words in the shortest sentence\n",
    "shortest_sentence = [min([len([words for words in sen.split( ) if len(words) > 1]) for sen in [sentences for sentences in review.split('\\n') \n",
    "                                                                                              if len(sentences) > 3]] \n",
    "                             ) for review in dataset.data]\n",
    "\n",
    "# Standard deviation of sentence length (in words)\n",
    "sent_dev = [np.std([len([words for words in sen.split( ) if len(words) > 1]) for sen in [sentences for sentences in review.split('\\n') \n",
    "                                                                                              if len(sentences) > 3]] \n",
    "                             ) for review in dataset.data]\n",
    "\n",
    "# Total number of occurences of () or ... or ?\n",
    "\n",
    "number_of_parenth = [review.count(\"(\") for review in dataset.data]\n",
    "number_of_elips = [review.count(\". . .\") for review in dataset.data]\n",
    "number_of_questions = [review.count(\"?\") for review in dataset.data]\n",
    "number_of_punc = [number_of_parenth[i]+number_of_elips[i]+number_of_questions[i] for i in range(len(number_of_parenth))]\n",
    "\n",
    "# Percent of all leters that are vowels\n",
    "percent_vowels = [(review.count('a')+ review.count('e') + review.count('i') + review.count('o') + review.count('u'))/\n",
    "                 float(len(review)) for review in dataset.data]\n",
    "\n",
    "# Percent of words that start with vowels\n",
    "percent_start_vowels = [(review.count(' a')+ review.count(' e') + review.count(' i') + review.count(' o') + review.count(' u'))/\n",
    "                 float(len(review)) for review in dataset.data]\n",
    "\n",
    "\n",
    "total_you = [review.count('you') for review in dataset.data]\n",
    "\n",
    "\n",
    "# Count the number of negative-connotation prefixes which occur.\n",
    "no_dis = [review.count(' dis')for review in dataset.data]\n",
    "no_un = [review.count(' un')for review in dataset.data]\n",
    "no_in = [review.count(' in')for review in dataset.data]\n",
    "no_il = [review.count(' il')for review in dataset.data]\n",
    "no_im = [review.count(' im')for review in dataset.data]\n",
    "no_sub = [review.count(' sub')for review in dataset.data]\n",
    "no_under = [review.count(' under')for review in dataset.data]\n",
    "no_non = [review.count(' non')for review in dataset.data]\n",
    "\n",
    "neg_prefix = [no_dis[i]+ no_un[i] + no_in[i] + no_il[i] + no_im[i] + no_sub[i] + no_under[i] + no_non[i] for i in range(len(no_dis))]\n",
    "\n",
    "# Given a string st, this function finds the occurence of substring subst1 or subst2 which occurs closest to the beginning of st.\n",
    "def first_occ(st,subst1,subst2):\n",
    "    if st.find(subst1) > 0:\n",
    "        if st.find(subst2) > 0:\n",
    "            return min(st.find(subst1),st.find(subst2))\n",
    "        else:\n",
    "            return st.find(subst1)\n",
    "    else:\n",
    "        return st.find(subst2)\n",
    "\n",
    "# Locate the first \"not\" or \"n't\" in the review\n",
    "first_not = [first_occ(review,\"not\",\"'t\")/float(len(review)) for review in dataset.data]\n",
    "\n",
    "# Locate the last \"not\" or \"n't\" in the review\n",
    "last_not = [first_occ(review[::-1],\"ton\",\"t'\")/float(len(review)) for review in dataset.data]\n",
    "\n",
    "# Determine the occurence of \"not\" or \"n't\" which is closest to the beginning or end of the review.\n",
    "min_not = np.minimum(np.asarray(first_not),np.asarray(last_not))"
   ]
  },
  {
   "cell_type": "code",
   "execution_count": 34,
   "metadata": {
    "collapsed": false,
    "scrolled": true
   },
   "outputs": [
    {
     "data": {
      "text/html": [
       "<div>\n",
       "<table border=\"1\" class=\"dataframe\">\n",
       "  <thead>\n",
       "    <tr style=\"text-align: right;\">\n",
       "      <th></th>\n",
       "      <th>Review Type</th>\n",
       "      <th>Total Words</th>\n",
       "      <th>Total Sentences</th>\n",
       "      <th>Average Sentence Length</th>\n",
       "      <th>Number of not Contractions</th>\n",
       "      <th>Total number of Nots</th>\n",
       "      <th>Last Sentence Length</th>\n",
       "      <th>First Sentence Length</th>\n",
       "      <th>Longest Sentence</th>\n",
       "      <th>Shortest Sentence</th>\n",
       "      <th>Number of Contractions</th>\n",
       "      <th>Number of () ... or ?</th>\n",
       "      <th>Sentence Deviation</th>\n",
       "      <th>Number of Negative Prefixes</th>\n",
       "      <th>Total You</th>\n",
       "      <th>Closest Not</th>\n",
       "    </tr>\n",
       "  </thead>\n",
       "  <tbody>\n",
       "    <tr>\n",
       "      <th>0</th>\n",
       "      <td>0</td>\n",
       "      <td>676</td>\n",
       "      <td>36</td>\n",
       "      <td>18.777778</td>\n",
       "      <td>6</td>\n",
       "      <td>9</td>\n",
       "      <td>27</td>\n",
       "      <td>12</td>\n",
       "      <td>53</td>\n",
       "      <td>1</td>\n",
       "      <td>16</td>\n",
       "      <td>19</td>\n",
       "      <td>14.163880</td>\n",
       "      <td>20</td>\n",
       "      <td>5</td>\n",
       "      <td>0.127133</td>\n",
       "    </tr>\n",
       "    <tr>\n",
       "      <th>1</th>\n",
       "      <td>0</td>\n",
       "      <td>227</td>\n",
       "      <td>16</td>\n",
       "      <td>16.214286</td>\n",
       "      <td>3</td>\n",
       "      <td>4</td>\n",
       "      <td>8</td>\n",
       "      <td>6</td>\n",
       "      <td>48</td>\n",
       "      <td>4</td>\n",
       "      <td>13</td>\n",
       "      <td>3</td>\n",
       "      <td>13.471425</td>\n",
       "      <td>6</td>\n",
       "      <td>3</td>\n",
       "      <td>0.093431</td>\n",
       "    </tr>\n",
       "    <tr>\n",
       "      <th>2</th>\n",
       "      <td>0</td>\n",
       "      <td>472</td>\n",
       "      <td>24</td>\n",
       "      <td>19.666667</td>\n",
       "      <td>5</td>\n",
       "      <td>12</td>\n",
       "      <td>6</td>\n",
       "      <td>19</td>\n",
       "      <td>47</td>\n",
       "      <td>6</td>\n",
       "      <td>15</td>\n",
       "      <td>7</td>\n",
       "      <td>9.449498</td>\n",
       "      <td>15</td>\n",
       "      <td>3</td>\n",
       "      <td>0.066362</td>\n",
       "    </tr>\n",
       "    <tr>\n",
       "      <th>3</th>\n",
       "      <td>0</td>\n",
       "      <td>456</td>\n",
       "      <td>22</td>\n",
       "      <td>22.800000</td>\n",
       "      <td>2</td>\n",
       "      <td>3</td>\n",
       "      <td>11</td>\n",
       "      <td>26</td>\n",
       "      <td>48</td>\n",
       "      <td>3</td>\n",
       "      <td>25</td>\n",
       "      <td>10</td>\n",
       "      <td>12.013151</td>\n",
       "      <td>9</td>\n",
       "      <td>2</td>\n",
       "      <td>0.138614</td>\n",
       "    </tr>\n",
       "    <tr>\n",
       "      <th>4</th>\n",
       "      <td>0</td>\n",
       "      <td>698</td>\n",
       "      <td>39</td>\n",
       "      <td>18.368421</td>\n",
       "      <td>1</td>\n",
       "      <td>12</td>\n",
       "      <td>14</td>\n",
       "      <td>23</td>\n",
       "      <td>42</td>\n",
       "      <td>3</td>\n",
       "      <td>15</td>\n",
       "      <td>10</td>\n",
       "      <td>8.801604</td>\n",
       "      <td>34</td>\n",
       "      <td>2</td>\n",
       "      <td>0.032820</td>\n",
       "    </tr>\n",
       "    <tr>\n",
       "      <th>5</th>\n",
       "      <td>0</td>\n",
       "      <td>641</td>\n",
       "      <td>37</td>\n",
       "      <td>17.805556</td>\n",
       "      <td>0</td>\n",
       "      <td>4</td>\n",
       "      <td>11</td>\n",
       "      <td>18</td>\n",
       "      <td>34</td>\n",
       "      <td>3</td>\n",
       "      <td>3</td>\n",
       "      <td>3</td>\n",
       "      <td>6.497346</td>\n",
       "      <td>23</td>\n",
       "      <td>0</td>\n",
       "      <td>0.035796</td>\n",
       "    </tr>\n",
       "    <tr>\n",
       "      <th>6</th>\n",
       "      <td>0</td>\n",
       "      <td>525</td>\n",
       "      <td>26</td>\n",
       "      <td>18.750000</td>\n",
       "      <td>3</td>\n",
       "      <td>6</td>\n",
       "      <td>11</td>\n",
       "      <td>11</td>\n",
       "      <td>40</td>\n",
       "      <td>2</td>\n",
       "      <td>17</td>\n",
       "      <td>6</td>\n",
       "      <td>10.945431</td>\n",
       "      <td>30</td>\n",
       "      <td>7</td>\n",
       "      <td>0.039525</td>\n",
       "    </tr>\n",
       "    <tr>\n",
       "      <th>7</th>\n",
       "      <td>0</td>\n",
       "      <td>540</td>\n",
       "      <td>25</td>\n",
       "      <td>19.285714</td>\n",
       "      <td>3</td>\n",
       "      <td>9</td>\n",
       "      <td>10</td>\n",
       "      <td>9</td>\n",
       "      <td>79</td>\n",
       "      <td>3</td>\n",
       "      <td>21</td>\n",
       "      <td>15</td>\n",
       "      <td>16.149762</td>\n",
       "      <td>30</td>\n",
       "      <td>4</td>\n",
       "      <td>0.007316</td>\n",
       "    </tr>\n",
       "    <tr>\n",
       "      <th>8</th>\n",
       "      <td>0</td>\n",
       "      <td>684</td>\n",
       "      <td>31</td>\n",
       "      <td>20.117647</td>\n",
       "      <td>7</td>\n",
       "      <td>12</td>\n",
       "      <td>9</td>\n",
       "      <td>8</td>\n",
       "      <td>56</td>\n",
       "      <td>3</td>\n",
       "      <td>26</td>\n",
       "      <td>14</td>\n",
       "      <td>11.531965</td>\n",
       "      <td>33</td>\n",
       "      <td>0</td>\n",
       "      <td>0.172497</td>\n",
       "    </tr>\n",
       "    <tr>\n",
       "      <th>9</th>\n",
       "      <td>0</td>\n",
       "      <td>739</td>\n",
       "      <td>57</td>\n",
       "      <td>14.780000</td>\n",
       "      <td>5</td>\n",
       "      <td>11</td>\n",
       "      <td>25</td>\n",
       "      <td>15</td>\n",
       "      <td>48</td>\n",
       "      <td>1</td>\n",
       "      <td>22</td>\n",
       "      <td>37</td>\n",
       "      <td>11.446124</td>\n",
       "      <td>17</td>\n",
       "      <td>11</td>\n",
       "      <td>0.090270</td>\n",
       "    </tr>\n",
       "    <tr>\n",
       "      <th>10</th>\n",
       "      <td>0</td>\n",
       "      <td>674</td>\n",
       "      <td>55</td>\n",
       "      <td>19.257143</td>\n",
       "      <td>2</td>\n",
       "      <td>8</td>\n",
       "      <td>16</td>\n",
       "      <td>30</td>\n",
       "      <td>40</td>\n",
       "      <td>3</td>\n",
       "      <td>21</td>\n",
       "      <td>14</td>\n",
       "      <td>9.620660</td>\n",
       "      <td>31</td>\n",
       "      <td>2</td>\n",
       "      <td>0.075315</td>\n",
       "    </tr>\n",
       "    <tr>\n",
       "      <th>11</th>\n",
       "      <td>0</td>\n",
       "      <td>511</td>\n",
       "      <td>28</td>\n",
       "      <td>18.925926</td>\n",
       "      <td>2</td>\n",
       "      <td>2</td>\n",
       "      <td>7</td>\n",
       "      <td>27</td>\n",
       "      <td>54</td>\n",
       "      <td>4</td>\n",
       "      <td>16</td>\n",
       "      <td>4</td>\n",
       "      <td>12.421886</td>\n",
       "      <td>19</td>\n",
       "      <td>0</td>\n",
       "      <td>0.338516</td>\n",
       "    </tr>\n",
       "    <tr>\n",
       "      <th>12</th>\n",
       "      <td>0</td>\n",
       "      <td>448</td>\n",
       "      <td>19</td>\n",
       "      <td>23.578947</td>\n",
       "      <td>2</td>\n",
       "      <td>5</td>\n",
       "      <td>29</td>\n",
       "      <td>21</td>\n",
       "      <td>52</td>\n",
       "      <td>7</td>\n",
       "      <td>16</td>\n",
       "      <td>11</td>\n",
       "      <td>12.319311</td>\n",
       "      <td>14</td>\n",
       "      <td>0</td>\n",
       "      <td>0.023708</td>\n",
       "    </tr>\n",
       "    <tr>\n",
       "      <th>13</th>\n",
       "      <td>0</td>\n",
       "      <td>886</td>\n",
       "      <td>54</td>\n",
       "      <td>19.260870</td>\n",
       "      <td>6</td>\n",
       "      <td>9</td>\n",
       "      <td>15</td>\n",
       "      <td>13</td>\n",
       "      <td>55</td>\n",
       "      <td>2</td>\n",
       "      <td>14</td>\n",
       "      <td>22</td>\n",
       "      <td>10.502533</td>\n",
       "      <td>34</td>\n",
       "      <td>4</td>\n",
       "      <td>0.008229</td>\n",
       "    </tr>\n",
       "    <tr>\n",
       "      <th>14</th>\n",
       "      <td>0</td>\n",
       "      <td>470</td>\n",
       "      <td>31</td>\n",
       "      <td>13.823529</td>\n",
       "      <td>9</td>\n",
       "      <td>12</td>\n",
       "      <td>13</td>\n",
       "      <td>8</td>\n",
       "      <td>54</td>\n",
       "      <td>1</td>\n",
       "      <td>28</td>\n",
       "      <td>8</td>\n",
       "      <td>11.977328</td>\n",
       "      <td>20</td>\n",
       "      <td>12</td>\n",
       "      <td>0.001295</td>\n",
       "    </tr>\n",
       "    <tr>\n",
       "      <th>15</th>\n",
       "      <td>0</td>\n",
       "      <td>572</td>\n",
       "      <td>36</td>\n",
       "      <td>19.724138</td>\n",
       "      <td>3</td>\n",
       "      <td>7</td>\n",
       "      <td>17</td>\n",
       "      <td>4</td>\n",
       "      <td>61</td>\n",
       "      <td>0</td>\n",
       "      <td>18</td>\n",
       "      <td>17</td>\n",
       "      <td>12.231191</td>\n",
       "      <td>19</td>\n",
       "      <td>2</td>\n",
       "      <td>0.031470</td>\n",
       "    </tr>\n",
       "    <tr>\n",
       "      <th>16</th>\n",
       "      <td>0</td>\n",
       "      <td>615</td>\n",
       "      <td>33</td>\n",
       "      <td>17.571429</td>\n",
       "      <td>5</td>\n",
       "      <td>9</td>\n",
       "      <td>1</td>\n",
       "      <td>8</td>\n",
       "      <td>44</td>\n",
       "      <td>1</td>\n",
       "      <td>24</td>\n",
       "      <td>8</td>\n",
       "      <td>10.589583</td>\n",
       "      <td>25</td>\n",
       "      <td>6</td>\n",
       "      <td>0.027838</td>\n",
       "    </tr>\n",
       "    <tr>\n",
       "      <th>17</th>\n",
       "      <td>0</td>\n",
       "      <td>653</td>\n",
       "      <td>42</td>\n",
       "      <td>18.657143</td>\n",
       "      <td>8</td>\n",
       "      <td>12</td>\n",
       "      <td>32</td>\n",
       "      <td>31</td>\n",
       "      <td>74</td>\n",
       "      <td>1</td>\n",
       "      <td>20</td>\n",
       "      <td>13</td>\n",
       "      <td>17.639827</td>\n",
       "      <td>30</td>\n",
       "      <td>12</td>\n",
       "      <td>0.045921</td>\n",
       "    </tr>\n",
       "    <tr>\n",
       "      <th>18</th>\n",
       "      <td>0</td>\n",
       "      <td>420</td>\n",
       "      <td>30</td>\n",
       "      <td>15.555556</td>\n",
       "      <td>2</td>\n",
       "      <td>7</td>\n",
       "      <td>1</td>\n",
       "      <td>19</td>\n",
       "      <td>45</td>\n",
       "      <td>1</td>\n",
       "      <td>17</td>\n",
       "      <td>11</td>\n",
       "      <td>10.829775</td>\n",
       "      <td>7</td>\n",
       "      <td>6</td>\n",
       "      <td>0.046643</td>\n",
       "    </tr>\n",
       "    <tr>\n",
       "      <th>19</th>\n",
       "      <td>0</td>\n",
       "      <td>678</td>\n",
       "      <td>38</td>\n",
       "      <td>16.536585</td>\n",
       "      <td>9</td>\n",
       "      <td>11</td>\n",
       "      <td>11</td>\n",
       "      <td>18</td>\n",
       "      <td>40</td>\n",
       "      <td>3</td>\n",
       "      <td>20</td>\n",
       "      <td>7</td>\n",
       "      <td>9.134960</td>\n",
       "      <td>17</td>\n",
       "      <td>6</td>\n",
       "      <td>0.060606</td>\n",
       "    </tr>\n",
       "    <tr>\n",
       "      <th>20</th>\n",
       "      <td>0</td>\n",
       "      <td>640</td>\n",
       "      <td>34</td>\n",
       "      <td>18.823529</td>\n",
       "      <td>2</td>\n",
       "      <td>6</td>\n",
       "      <td>14</td>\n",
       "      <td>24</td>\n",
       "      <td>52</td>\n",
       "      <td>1</td>\n",
       "      <td>18</td>\n",
       "      <td>8</td>\n",
       "      <td>13.103179</td>\n",
       "      <td>27</td>\n",
       "      <td>1</td>\n",
       "      <td>0.025503</td>\n",
       "    </tr>\n",
       "    <tr>\n",
       "      <th>21</th>\n",
       "      <td>0</td>\n",
       "      <td>505</td>\n",
       "      <td>21</td>\n",
       "      <td>18.703704</td>\n",
       "      <td>5</td>\n",
       "      <td>8</td>\n",
       "      <td>17</td>\n",
       "      <td>31</td>\n",
       "      <td>42</td>\n",
       "      <td>1</td>\n",
       "      <td>18</td>\n",
       "      <td>10</td>\n",
       "      <td>11.059883</td>\n",
       "      <td>29</td>\n",
       "      <td>3</td>\n",
       "      <td>0.004813</td>\n",
       "    </tr>\n",
       "    <tr>\n",
       "      <th>22</th>\n",
       "      <td>0</td>\n",
       "      <td>621</td>\n",
       "      <td>44</td>\n",
       "      <td>15.525000</td>\n",
       "      <td>4</td>\n",
       "      <td>10</td>\n",
       "      <td>33</td>\n",
       "      <td>12</td>\n",
       "      <td>33</td>\n",
       "      <td>1</td>\n",
       "      <td>18</td>\n",
       "      <td>4</td>\n",
       "      <td>8.373905</td>\n",
       "      <td>20</td>\n",
       "      <td>0</td>\n",
       "      <td>0.072801</td>\n",
       "    </tr>\n",
       "    <tr>\n",
       "      <th>23</th>\n",
       "      <td>0</td>\n",
       "      <td>1036</td>\n",
       "      <td>44</td>\n",
       "      <td>28.000000</td>\n",
       "      <td>5</td>\n",
       "      <td>10</td>\n",
       "      <td>46</td>\n",
       "      <td>20</td>\n",
       "      <td>84</td>\n",
       "      <td>3</td>\n",
       "      <td>37</td>\n",
       "      <td>10</td>\n",
       "      <td>18.395517</td>\n",
       "      <td>36</td>\n",
       "      <td>2</td>\n",
       "      <td>0.022955</td>\n",
       "    </tr>\n",
       "    <tr>\n",
       "      <th>24</th>\n",
       "      <td>0</td>\n",
       "      <td>681</td>\n",
       "      <td>32</td>\n",
       "      <td>20.636364</td>\n",
       "      <td>0</td>\n",
       "      <td>5</td>\n",
       "      <td>8</td>\n",
       "      <td>11</td>\n",
       "      <td>38</td>\n",
       "      <td>5</td>\n",
       "      <td>12</td>\n",
       "      <td>6</td>\n",
       "      <td>8.979958</td>\n",
       "      <td>27</td>\n",
       "      <td>1</td>\n",
       "      <td>0.093594</td>\n",
       "    </tr>\n",
       "    <tr>\n",
       "      <th>25</th>\n",
       "      <td>0</td>\n",
       "      <td>541</td>\n",
       "      <td>32</td>\n",
       "      <td>16.906250</td>\n",
       "      <td>2</td>\n",
       "      <td>3</td>\n",
       "      <td>7</td>\n",
       "      <td>12</td>\n",
       "      <td>33</td>\n",
       "      <td>7</td>\n",
       "      <td>10</td>\n",
       "      <td>3</td>\n",
       "      <td>6.996952</td>\n",
       "      <td>20</td>\n",
       "      <td>14</td>\n",
       "      <td>0.023072</td>\n",
       "    </tr>\n",
       "    <tr>\n",
       "      <th>26</th>\n",
       "      <td>0</td>\n",
       "      <td>469</td>\n",
       "      <td>23</td>\n",
       "      <td>19.541667</td>\n",
       "      <td>2</td>\n",
       "      <td>4</td>\n",
       "      <td>25</td>\n",
       "      <td>3</td>\n",
       "      <td>40</td>\n",
       "      <td>3</td>\n",
       "      <td>8</td>\n",
       "      <td>3</td>\n",
       "      <td>8.406722</td>\n",
       "      <td>14</td>\n",
       "      <td>2</td>\n",
       "      <td>0.125735</td>\n",
       "    </tr>\n",
       "    <tr>\n",
       "      <th>27</th>\n",
       "      <td>0</td>\n",
       "      <td>1233</td>\n",
       "      <td>45</td>\n",
       "      <td>28.022727</td>\n",
       "      <td>3</td>\n",
       "      <td>9</td>\n",
       "      <td>29</td>\n",
       "      <td>29</td>\n",
       "      <td>68</td>\n",
       "      <td>2</td>\n",
       "      <td>23</td>\n",
       "      <td>28</td>\n",
       "      <td>14.436387</td>\n",
       "      <td>40</td>\n",
       "      <td>6</td>\n",
       "      <td>0.024522</td>\n",
       "    </tr>\n",
       "    <tr>\n",
       "      <th>28</th>\n",
       "      <td>0</td>\n",
       "      <td>494</td>\n",
       "      <td>20</td>\n",
       "      <td>24.700000</td>\n",
       "      <td>2</td>\n",
       "      <td>3</td>\n",
       "      <td>8</td>\n",
       "      <td>13</td>\n",
       "      <td>71</td>\n",
       "      <td>3</td>\n",
       "      <td>19</td>\n",
       "      <td>9</td>\n",
       "      <td>15.894388</td>\n",
       "      <td>22</td>\n",
       "      <td>0</td>\n",
       "      <td>0.078313</td>\n",
       "    </tr>\n",
       "    <tr>\n",
       "      <th>29</th>\n",
       "      <td>0</td>\n",
       "      <td>310</td>\n",
       "      <td>23</td>\n",
       "      <td>14.761905</td>\n",
       "      <td>0</td>\n",
       "      <td>2</td>\n",
       "      <td>1</td>\n",
       "      <td>18</td>\n",
       "      <td>33</td>\n",
       "      <td>1</td>\n",
       "      <td>8</td>\n",
       "      <td>5</td>\n",
       "      <td>9.243917</td>\n",
       "      <td>8</td>\n",
       "      <td>0</td>\n",
       "      <td>0.067465</td>\n",
       "    </tr>\n",
       "    <tr>\n",
       "      <th>...</th>\n",
       "      <td>...</td>\n",
       "      <td>...</td>\n",
       "      <td>...</td>\n",
       "      <td>...</td>\n",
       "      <td>...</td>\n",
       "      <td>...</td>\n",
       "      <td>...</td>\n",
       "      <td>...</td>\n",
       "      <td>...</td>\n",
       "      <td>...</td>\n",
       "      <td>...</td>\n",
       "      <td>...</td>\n",
       "      <td>...</td>\n",
       "      <td>...</td>\n",
       "      <td>...</td>\n",
       "      <td>...</td>\n",
       "    </tr>\n",
       "    <tr>\n",
       "      <th>1970</th>\n",
       "      <td>1</td>\n",
       "      <td>626</td>\n",
       "      <td>27</td>\n",
       "      <td>21.586207</td>\n",
       "      <td>0</td>\n",
       "      <td>1</td>\n",
       "      <td>19</td>\n",
       "      <td>19</td>\n",
       "      <td>43</td>\n",
       "      <td>2</td>\n",
       "      <td>6</td>\n",
       "      <td>10</td>\n",
       "      <td>10.731177</td>\n",
       "      <td>26</td>\n",
       "      <td>3</td>\n",
       "      <td>0.215154</td>\n",
       "    </tr>\n",
       "    <tr>\n",
       "      <th>1971</th>\n",
       "      <td>1</td>\n",
       "      <td>579</td>\n",
       "      <td>29</td>\n",
       "      <td>19.965517</td>\n",
       "      <td>3</td>\n",
       "      <td>7</td>\n",
       "      <td>24</td>\n",
       "      <td>42</td>\n",
       "      <td>42</td>\n",
       "      <td>4</td>\n",
       "      <td>21</td>\n",
       "      <td>3</td>\n",
       "      <td>9.878019</td>\n",
       "      <td>20</td>\n",
       "      <td>7</td>\n",
       "      <td>0.051432</td>\n",
       "    </tr>\n",
       "    <tr>\n",
       "      <th>1972</th>\n",
       "      <td>1</td>\n",
       "      <td>507</td>\n",
       "      <td>39</td>\n",
       "      <td>13.342105</td>\n",
       "      <td>1</td>\n",
       "      <td>5</td>\n",
       "      <td>36</td>\n",
       "      <td>21</td>\n",
       "      <td>38</td>\n",
       "      <td>3</td>\n",
       "      <td>18</td>\n",
       "      <td>8</td>\n",
       "      <td>8.529329</td>\n",
       "      <td>19</td>\n",
       "      <td>5</td>\n",
       "      <td>0.248134</td>\n",
       "    </tr>\n",
       "    <tr>\n",
       "      <th>1973</th>\n",
       "      <td>1</td>\n",
       "      <td>1141</td>\n",
       "      <td>59</td>\n",
       "      <td>19.672414</td>\n",
       "      <td>7</td>\n",
       "      <td>18</td>\n",
       "      <td>8</td>\n",
       "      <td>15</td>\n",
       "      <td>50</td>\n",
       "      <td>2</td>\n",
       "      <td>32</td>\n",
       "      <td>5</td>\n",
       "      <td>11.244478</td>\n",
       "      <td>36</td>\n",
       "      <td>17</td>\n",
       "      <td>0.030540</td>\n",
       "    </tr>\n",
       "    <tr>\n",
       "      <th>1974</th>\n",
       "      <td>1</td>\n",
       "      <td>471</td>\n",
       "      <td>22</td>\n",
       "      <td>21.409091</td>\n",
       "      <td>2</td>\n",
       "      <td>7</td>\n",
       "      <td>1</td>\n",
       "      <td>12</td>\n",
       "      <td>52</td>\n",
       "      <td>1</td>\n",
       "      <td>22</td>\n",
       "      <td>4</td>\n",
       "      <td>13.650646</td>\n",
       "      <td>16</td>\n",
       "      <td>1</td>\n",
       "      <td>0.000971</td>\n",
       "    </tr>\n",
       "    <tr>\n",
       "      <th>1975</th>\n",
       "      <td>1</td>\n",
       "      <td>918</td>\n",
       "      <td>62</td>\n",
       "      <td>15.559322</td>\n",
       "      <td>6</td>\n",
       "      <td>12</td>\n",
       "      <td>20</td>\n",
       "      <td>7</td>\n",
       "      <td>33</td>\n",
       "      <td>6</td>\n",
       "      <td>15</td>\n",
       "      <td>4</td>\n",
       "      <td>5.249427</td>\n",
       "      <td>26</td>\n",
       "      <td>1</td>\n",
       "      <td>0.077534</td>\n",
       "    </tr>\n",
       "    <tr>\n",
       "      <th>1976</th>\n",
       "      <td>1</td>\n",
       "      <td>236</td>\n",
       "      <td>18</td>\n",
       "      <td>13.882353</td>\n",
       "      <td>1</td>\n",
       "      <td>5</td>\n",
       "      <td>5</td>\n",
       "      <td>11</td>\n",
       "      <td>36</td>\n",
       "      <td>5</td>\n",
       "      <td>3</td>\n",
       "      <td>1</td>\n",
       "      <td>7.284401</td>\n",
       "      <td>7</td>\n",
       "      <td>7</td>\n",
       "      <td>0.032258</td>\n",
       "    </tr>\n",
       "    <tr>\n",
       "      <th>1977</th>\n",
       "      <td>1</td>\n",
       "      <td>394</td>\n",
       "      <td>28</td>\n",
       "      <td>14.592593</td>\n",
       "      <td>6</td>\n",
       "      <td>10</td>\n",
       "      <td>20</td>\n",
       "      <td>9</td>\n",
       "      <td>28</td>\n",
       "      <td>2</td>\n",
       "      <td>12</td>\n",
       "      <td>7</td>\n",
       "      <td>6.230769</td>\n",
       "      <td>18</td>\n",
       "      <td>0</td>\n",
       "      <td>0.006319</td>\n",
       "    </tr>\n",
       "    <tr>\n",
       "      <th>1978</th>\n",
       "      <td>1</td>\n",
       "      <td>760</td>\n",
       "      <td>46</td>\n",
       "      <td>16.888889</td>\n",
       "      <td>8</td>\n",
       "      <td>13</td>\n",
       "      <td>15</td>\n",
       "      <td>10</td>\n",
       "      <td>45</td>\n",
       "      <td>1</td>\n",
       "      <td>19</td>\n",
       "      <td>2</td>\n",
       "      <td>10.382160</td>\n",
       "      <td>20</td>\n",
       "      <td>5</td>\n",
       "      <td>0.028694</td>\n",
       "    </tr>\n",
       "    <tr>\n",
       "      <th>1979</th>\n",
       "      <td>1</td>\n",
       "      <td>821</td>\n",
       "      <td>36</td>\n",
       "      <td>22.189189</td>\n",
       "      <td>4</td>\n",
       "      <td>11</td>\n",
       "      <td>17</td>\n",
       "      <td>11</td>\n",
       "      <td>72</td>\n",
       "      <td>4</td>\n",
       "      <td>27</td>\n",
       "      <td>8</td>\n",
       "      <td>12.558351</td>\n",
       "      <td>26</td>\n",
       "      <td>14</td>\n",
       "      <td>0.064870</td>\n",
       "    </tr>\n",
       "    <tr>\n",
       "      <th>1980</th>\n",
       "      <td>1</td>\n",
       "      <td>445</td>\n",
       "      <td>26</td>\n",
       "      <td>17.800000</td>\n",
       "      <td>3</td>\n",
       "      <td>7</td>\n",
       "      <td>2</td>\n",
       "      <td>30</td>\n",
       "      <td>38</td>\n",
       "      <td>2</td>\n",
       "      <td>5</td>\n",
       "      <td>3</td>\n",
       "      <td>9.539301</td>\n",
       "      <td>9</td>\n",
       "      <td>3</td>\n",
       "      <td>0.101234</td>\n",
       "    </tr>\n",
       "    <tr>\n",
       "      <th>1981</th>\n",
       "      <td>1</td>\n",
       "      <td>676</td>\n",
       "      <td>29</td>\n",
       "      <td>23.310345</td>\n",
       "      <td>3</td>\n",
       "      <td>9</td>\n",
       "      <td>33</td>\n",
       "      <td>18</td>\n",
       "      <td>44</td>\n",
       "      <td>2</td>\n",
       "      <td>23</td>\n",
       "      <td>13</td>\n",
       "      <td>10.466662</td>\n",
       "      <td>22</td>\n",
       "      <td>3</td>\n",
       "      <td>0.035849</td>\n",
       "    </tr>\n",
       "    <tr>\n",
       "      <th>1982</th>\n",
       "      <td>1</td>\n",
       "      <td>583</td>\n",
       "      <td>45</td>\n",
       "      <td>13.558140</td>\n",
       "      <td>0</td>\n",
       "      <td>9</td>\n",
       "      <td>11</td>\n",
       "      <td>7</td>\n",
       "      <td>42</td>\n",
       "      <td>5</td>\n",
       "      <td>0</td>\n",
       "      <td>2</td>\n",
       "      <td>7.660046</td>\n",
       "      <td>24</td>\n",
       "      <td>4</td>\n",
       "      <td>0.036169</td>\n",
       "    </tr>\n",
       "    <tr>\n",
       "      <th>1983</th>\n",
       "      <td>1</td>\n",
       "      <td>751</td>\n",
       "      <td>39</td>\n",
       "      <td>18.317073</td>\n",
       "      <td>6</td>\n",
       "      <td>9</td>\n",
       "      <td>34</td>\n",
       "      <td>21</td>\n",
       "      <td>40</td>\n",
       "      <td>2</td>\n",
       "      <td>31</td>\n",
       "      <td>5</td>\n",
       "      <td>9.941045</td>\n",
       "      <td>35</td>\n",
       "      <td>2</td>\n",
       "      <td>0.088296</td>\n",
       "    </tr>\n",
       "    <tr>\n",
       "      <th>1984</th>\n",
       "      <td>1</td>\n",
       "      <td>525</td>\n",
       "      <td>25</td>\n",
       "      <td>21.000000</td>\n",
       "      <td>2</td>\n",
       "      <td>5</td>\n",
       "      <td>9</td>\n",
       "      <td>25</td>\n",
       "      <td>47</td>\n",
       "      <td>8</td>\n",
       "      <td>10</td>\n",
       "      <td>14</td>\n",
       "      <td>9.107289</td>\n",
       "      <td>25</td>\n",
       "      <td>2</td>\n",
       "      <td>0.030145</td>\n",
       "    </tr>\n",
       "    <tr>\n",
       "      <th>1985</th>\n",
       "      <td>1</td>\n",
       "      <td>603</td>\n",
       "      <td>46</td>\n",
       "      <td>13.704545</td>\n",
       "      <td>2</td>\n",
       "      <td>4</td>\n",
       "      <td>13</td>\n",
       "      <td>9</td>\n",
       "      <td>63</td>\n",
       "      <td>1</td>\n",
       "      <td>13</td>\n",
       "      <td>6</td>\n",
       "      <td>10.375482</td>\n",
       "      <td>26</td>\n",
       "      <td>0</td>\n",
       "      <td>0.122060</td>\n",
       "    </tr>\n",
       "    <tr>\n",
       "      <th>1986</th>\n",
       "      <td>1</td>\n",
       "      <td>1132</td>\n",
       "      <td>58</td>\n",
       "      <td>16.895522</td>\n",
       "      <td>1</td>\n",
       "      <td>25</td>\n",
       "      <td>40</td>\n",
       "      <td>17</td>\n",
       "      <td>44</td>\n",
       "      <td>1</td>\n",
       "      <td>10</td>\n",
       "      <td>13</td>\n",
       "      <td>10.098368</td>\n",
       "      <td>29</td>\n",
       "      <td>31</td>\n",
       "      <td>0.010112</td>\n",
       "    </tr>\n",
       "    <tr>\n",
       "      <th>1987</th>\n",
       "      <td>1</td>\n",
       "      <td>180</td>\n",
       "      <td>17</td>\n",
       "      <td>12.857143</td>\n",
       "      <td>0</td>\n",
       "      <td>3</td>\n",
       "      <td>9</td>\n",
       "      <td>14</td>\n",
       "      <td>22</td>\n",
       "      <td>2</td>\n",
       "      <td>4</td>\n",
       "      <td>3</td>\n",
       "      <td>6.099762</td>\n",
       "      <td>7</td>\n",
       "      <td>2</td>\n",
       "      <td>0.241728</td>\n",
       "    </tr>\n",
       "    <tr>\n",
       "      <th>1988</th>\n",
       "      <td>1</td>\n",
       "      <td>847</td>\n",
       "      <td>45</td>\n",
       "      <td>19.250000</td>\n",
       "      <td>6</td>\n",
       "      <td>13</td>\n",
       "      <td>15</td>\n",
       "      <td>24</td>\n",
       "      <td>42</td>\n",
       "      <td>2</td>\n",
       "      <td>22</td>\n",
       "      <td>8</td>\n",
       "      <td>7.840073</td>\n",
       "      <td>30</td>\n",
       "      <td>7</td>\n",
       "      <td>0.025314</td>\n",
       "    </tr>\n",
       "    <tr>\n",
       "      <th>1989</th>\n",
       "      <td>1</td>\n",
       "      <td>743</td>\n",
       "      <td>28</td>\n",
       "      <td>27.518519</td>\n",
       "      <td>2</td>\n",
       "      <td>10</td>\n",
       "      <td>31</td>\n",
       "      <td>9</td>\n",
       "      <td>63</td>\n",
       "      <td>9</td>\n",
       "      <td>9</td>\n",
       "      <td>5</td>\n",
       "      <td>11.066836</td>\n",
       "      <td>32</td>\n",
       "      <td>0</td>\n",
       "      <td>0.023743</td>\n",
       "    </tr>\n",
       "    <tr>\n",
       "      <th>1990</th>\n",
       "      <td>1</td>\n",
       "      <td>948</td>\n",
       "      <td>63</td>\n",
       "      <td>14.584615</td>\n",
       "      <td>7</td>\n",
       "      <td>13</td>\n",
       "      <td>7</td>\n",
       "      <td>6</td>\n",
       "      <td>44</td>\n",
       "      <td>3</td>\n",
       "      <td>38</td>\n",
       "      <td>10</td>\n",
       "      <td>7.601141</td>\n",
       "      <td>32</td>\n",
       "      <td>5</td>\n",
       "      <td>0.086086</td>\n",
       "    </tr>\n",
       "    <tr>\n",
       "      <th>1991</th>\n",
       "      <td>1</td>\n",
       "      <td>577</td>\n",
       "      <td>30</td>\n",
       "      <td>20.607143</td>\n",
       "      <td>4</td>\n",
       "      <td>10</td>\n",
       "      <td>8</td>\n",
       "      <td>5</td>\n",
       "      <td>43</td>\n",
       "      <td>5</td>\n",
       "      <td>12</td>\n",
       "      <td>8</td>\n",
       "      <td>10.165840</td>\n",
       "      <td>18</td>\n",
       "      <td>2</td>\n",
       "      <td>0.001416</td>\n",
       "    </tr>\n",
       "    <tr>\n",
       "      <th>1992</th>\n",
       "      <td>1</td>\n",
       "      <td>1346</td>\n",
       "      <td>84</td>\n",
       "      <td>15.651163</td>\n",
       "      <td>13</td>\n",
       "      <td>20</td>\n",
       "      <td>19</td>\n",
       "      <td>23</td>\n",
       "      <td>37</td>\n",
       "      <td>3</td>\n",
       "      <td>19</td>\n",
       "      <td>17</td>\n",
       "      <td>7.079128</td>\n",
       "      <td>35</td>\n",
       "      <td>3</td>\n",
       "      <td>0.016371</td>\n",
       "    </tr>\n",
       "    <tr>\n",
       "      <th>1993</th>\n",
       "      <td>1</td>\n",
       "      <td>602</td>\n",
       "      <td>35</td>\n",
       "      <td>23.153846</td>\n",
       "      <td>4</td>\n",
       "      <td>7</td>\n",
       "      <td>21</td>\n",
       "      <td>8</td>\n",
       "      <td>44</td>\n",
       "      <td>4</td>\n",
       "      <td>17</td>\n",
       "      <td>18</td>\n",
       "      <td>10.740279</td>\n",
       "      <td>22</td>\n",
       "      <td>13</td>\n",
       "      <td>0.038695</td>\n",
       "    </tr>\n",
       "    <tr>\n",
       "      <th>1994</th>\n",
       "      <td>1</td>\n",
       "      <td>493</td>\n",
       "      <td>36</td>\n",
       "      <td>15.903226</td>\n",
       "      <td>4</td>\n",
       "      <td>6</td>\n",
       "      <td>10</td>\n",
       "      <td>31</td>\n",
       "      <td>47</td>\n",
       "      <td>2</td>\n",
       "      <td>8</td>\n",
       "      <td>13</td>\n",
       "      <td>12.695625</td>\n",
       "      <td>15</td>\n",
       "      <td>7</td>\n",
       "      <td>0.116979</td>\n",
       "    </tr>\n",
       "    <tr>\n",
       "      <th>1995</th>\n",
       "      <td>1</td>\n",
       "      <td>732</td>\n",
       "      <td>47</td>\n",
       "      <td>16.636364</td>\n",
       "      <td>5</td>\n",
       "      <td>9</td>\n",
       "      <td>13</td>\n",
       "      <td>3</td>\n",
       "      <td>39</td>\n",
       "      <td>1</td>\n",
       "      <td>16</td>\n",
       "      <td>8</td>\n",
       "      <td>8.105377</td>\n",
       "      <td>18</td>\n",
       "      <td>3</td>\n",
       "      <td>0.085121</td>\n",
       "    </tr>\n",
       "    <tr>\n",
       "      <th>1996</th>\n",
       "      <td>1</td>\n",
       "      <td>311</td>\n",
       "      <td>26</td>\n",
       "      <td>12.440000</td>\n",
       "      <td>3</td>\n",
       "      <td>5</td>\n",
       "      <td>5</td>\n",
       "      <td>13</td>\n",
       "      <td>35</td>\n",
       "      <td>4</td>\n",
       "      <td>12</td>\n",
       "      <td>1</td>\n",
       "      <td>6.919051</td>\n",
       "      <td>8</td>\n",
       "      <td>3</td>\n",
       "      <td>0.013048</td>\n",
       "    </tr>\n",
       "    <tr>\n",
       "      <th>1997</th>\n",
       "      <td>1</td>\n",
       "      <td>1020</td>\n",
       "      <td>54</td>\n",
       "      <td>19.615385</td>\n",
       "      <td>1</td>\n",
       "      <td>7</td>\n",
       "      <td>60</td>\n",
       "      <td>30</td>\n",
       "      <td>60</td>\n",
       "      <td>5</td>\n",
       "      <td>12</td>\n",
       "      <td>4</td>\n",
       "      <td>8.915727</td>\n",
       "      <td>47</td>\n",
       "      <td>7</td>\n",
       "      <td>0.020898</td>\n",
       "    </tr>\n",
       "    <tr>\n",
       "      <th>1998</th>\n",
       "      <td>1</td>\n",
       "      <td>579</td>\n",
       "      <td>40</td>\n",
       "      <td>15.648649</td>\n",
       "      <td>3</td>\n",
       "      <td>6</td>\n",
       "      <td>7</td>\n",
       "      <td>15</td>\n",
       "      <td>37</td>\n",
       "      <td>1</td>\n",
       "      <td>8</td>\n",
       "      <td>3</td>\n",
       "      <td>8.699856</td>\n",
       "      <td>14</td>\n",
       "      <td>1</td>\n",
       "      <td>0.099915</td>\n",
       "    </tr>\n",
       "    <tr>\n",
       "      <th>1999</th>\n",
       "      <td>1</td>\n",
       "      <td>959</td>\n",
       "      <td>62</td>\n",
       "      <td>15.467742</td>\n",
       "      <td>6</td>\n",
       "      <td>9</td>\n",
       "      <td>11</td>\n",
       "      <td>14</td>\n",
       "      <td>42</td>\n",
       "      <td>5</td>\n",
       "      <td>29</td>\n",
       "      <td>6</td>\n",
       "      <td>7.400397</td>\n",
       "      <td>28</td>\n",
       "      <td>3</td>\n",
       "      <td>0.098205</td>\n",
       "    </tr>\n",
       "  </tbody>\n",
       "</table>\n",
       "<p>2000 rows × 16 columns</p>\n",
       "</div>"
      ],
      "text/plain": [
       "      Review Type  Total Words  Total Sentences  Average Sentence Length  \\\n",
       "0               0          676               36                18.777778   \n",
       "1               0          227               16                16.214286   \n",
       "2               0          472               24                19.666667   \n",
       "3               0          456               22                22.800000   \n",
       "4               0          698               39                18.368421   \n",
       "5               0          641               37                17.805556   \n",
       "6               0          525               26                18.750000   \n",
       "7               0          540               25                19.285714   \n",
       "8               0          684               31                20.117647   \n",
       "9               0          739               57                14.780000   \n",
       "10              0          674               55                19.257143   \n",
       "11              0          511               28                18.925926   \n",
       "12              0          448               19                23.578947   \n",
       "13              0          886               54                19.260870   \n",
       "14              0          470               31                13.823529   \n",
       "15              0          572               36                19.724138   \n",
       "16              0          615               33                17.571429   \n",
       "17              0          653               42                18.657143   \n",
       "18              0          420               30                15.555556   \n",
       "19              0          678               38                16.536585   \n",
       "20              0          640               34                18.823529   \n",
       "21              0          505               21                18.703704   \n",
       "22              0          621               44                15.525000   \n",
       "23              0         1036               44                28.000000   \n",
       "24              0          681               32                20.636364   \n",
       "25              0          541               32                16.906250   \n",
       "26              0          469               23                19.541667   \n",
       "27              0         1233               45                28.022727   \n",
       "28              0          494               20                24.700000   \n",
       "29              0          310               23                14.761905   \n",
       "...           ...          ...              ...                      ...   \n",
       "1970            1          626               27                21.586207   \n",
       "1971            1          579               29                19.965517   \n",
       "1972            1          507               39                13.342105   \n",
       "1973            1         1141               59                19.672414   \n",
       "1974            1          471               22                21.409091   \n",
       "1975            1          918               62                15.559322   \n",
       "1976            1          236               18                13.882353   \n",
       "1977            1          394               28                14.592593   \n",
       "1978            1          760               46                16.888889   \n",
       "1979            1          821               36                22.189189   \n",
       "1980            1          445               26                17.800000   \n",
       "1981            1          676               29                23.310345   \n",
       "1982            1          583               45                13.558140   \n",
       "1983            1          751               39                18.317073   \n",
       "1984            1          525               25                21.000000   \n",
       "1985            1          603               46                13.704545   \n",
       "1986            1         1132               58                16.895522   \n",
       "1987            1          180               17                12.857143   \n",
       "1988            1          847               45                19.250000   \n",
       "1989            1          743               28                27.518519   \n",
       "1990            1          948               63                14.584615   \n",
       "1991            1          577               30                20.607143   \n",
       "1992            1         1346               84                15.651163   \n",
       "1993            1          602               35                23.153846   \n",
       "1994            1          493               36                15.903226   \n",
       "1995            1          732               47                16.636364   \n",
       "1996            1          311               26                12.440000   \n",
       "1997            1         1020               54                19.615385   \n",
       "1998            1          579               40                15.648649   \n",
       "1999            1          959               62                15.467742   \n",
       "\n",
       "      Number of not Contractions  Total number of Nots  Last Sentence Length  \\\n",
       "0                              6                     9                    27   \n",
       "1                              3                     4                     8   \n",
       "2                              5                    12                     6   \n",
       "3                              2                     3                    11   \n",
       "4                              1                    12                    14   \n",
       "5                              0                     4                    11   \n",
       "6                              3                     6                    11   \n",
       "7                              3                     9                    10   \n",
       "8                              7                    12                     9   \n",
       "9                              5                    11                    25   \n",
       "10                             2                     8                    16   \n",
       "11                             2                     2                     7   \n",
       "12                             2                     5                    29   \n",
       "13                             6                     9                    15   \n",
       "14                             9                    12                    13   \n",
       "15                             3                     7                    17   \n",
       "16                             5                     9                     1   \n",
       "17                             8                    12                    32   \n",
       "18                             2                     7                     1   \n",
       "19                             9                    11                    11   \n",
       "20                             2                     6                    14   \n",
       "21                             5                     8                    17   \n",
       "22                             4                    10                    33   \n",
       "23                             5                    10                    46   \n",
       "24                             0                     5                     8   \n",
       "25                             2                     3                     7   \n",
       "26                             2                     4                    25   \n",
       "27                             3                     9                    29   \n",
       "28                             2                     3                     8   \n",
       "29                             0                     2                     1   \n",
       "...                          ...                   ...                   ...   \n",
       "1970                           0                     1                    19   \n",
       "1971                           3                     7                    24   \n",
       "1972                           1                     5                    36   \n",
       "1973                           7                    18                     8   \n",
       "1974                           2                     7                     1   \n",
       "1975                           6                    12                    20   \n",
       "1976                           1                     5                     5   \n",
       "1977                           6                    10                    20   \n",
       "1978                           8                    13                    15   \n",
       "1979                           4                    11                    17   \n",
       "1980                           3                     7                     2   \n",
       "1981                           3                     9                    33   \n",
       "1982                           0                     9                    11   \n",
       "1983                           6                     9                    34   \n",
       "1984                           2                     5                     9   \n",
       "1985                           2                     4                    13   \n",
       "1986                           1                    25                    40   \n",
       "1987                           0                     3                     9   \n",
       "1988                           6                    13                    15   \n",
       "1989                           2                    10                    31   \n",
       "1990                           7                    13                     7   \n",
       "1991                           4                    10                     8   \n",
       "1992                          13                    20                    19   \n",
       "1993                           4                     7                    21   \n",
       "1994                           4                     6                    10   \n",
       "1995                           5                     9                    13   \n",
       "1996                           3                     5                     5   \n",
       "1997                           1                     7                    60   \n",
       "1998                           3                     6                     7   \n",
       "1999                           6                     9                    11   \n",
       "\n",
       "      First Sentence Length  Longest Sentence  Shortest Sentence  \\\n",
       "0                        12                53                  1   \n",
       "1                         6                48                  4   \n",
       "2                        19                47                  6   \n",
       "3                        26                48                  3   \n",
       "4                        23                42                  3   \n",
       "5                        18                34                  3   \n",
       "6                        11                40                  2   \n",
       "7                         9                79                  3   \n",
       "8                         8                56                  3   \n",
       "9                        15                48                  1   \n",
       "10                       30                40                  3   \n",
       "11                       27                54                  4   \n",
       "12                       21                52                  7   \n",
       "13                       13                55                  2   \n",
       "14                        8                54                  1   \n",
       "15                        4                61                  0   \n",
       "16                        8                44                  1   \n",
       "17                       31                74                  1   \n",
       "18                       19                45                  1   \n",
       "19                       18                40                  3   \n",
       "20                       24                52                  1   \n",
       "21                       31                42                  1   \n",
       "22                       12                33                  1   \n",
       "23                       20                84                  3   \n",
       "24                       11                38                  5   \n",
       "25                       12                33                  7   \n",
       "26                        3                40                  3   \n",
       "27                       29                68                  2   \n",
       "28                       13                71                  3   \n",
       "29                       18                33                  1   \n",
       "...                     ...               ...                ...   \n",
       "1970                     19                43                  2   \n",
       "1971                     42                42                  4   \n",
       "1972                     21                38                  3   \n",
       "1973                     15                50                  2   \n",
       "1974                     12                52                  1   \n",
       "1975                      7                33                  6   \n",
       "1976                     11                36                  5   \n",
       "1977                      9                28                  2   \n",
       "1978                     10                45                  1   \n",
       "1979                     11                72                  4   \n",
       "1980                     30                38                  2   \n",
       "1981                     18                44                  2   \n",
       "1982                      7                42                  5   \n",
       "1983                     21                40                  2   \n",
       "1984                     25                47                  8   \n",
       "1985                      9                63                  1   \n",
       "1986                     17                44                  1   \n",
       "1987                     14                22                  2   \n",
       "1988                     24                42                  2   \n",
       "1989                      9                63                  9   \n",
       "1990                      6                44                  3   \n",
       "1991                      5                43                  5   \n",
       "1992                     23                37                  3   \n",
       "1993                      8                44                  4   \n",
       "1994                     31                47                  2   \n",
       "1995                      3                39                  1   \n",
       "1996                     13                35                  4   \n",
       "1997                     30                60                  5   \n",
       "1998                     15                37                  1   \n",
       "1999                     14                42                  5   \n",
       "\n",
       "      Number of Contractions  Number of () ... or ?  Sentence Deviation  \\\n",
       "0                         16                     19           14.163880   \n",
       "1                         13                      3           13.471425   \n",
       "2                         15                      7            9.449498   \n",
       "3                         25                     10           12.013151   \n",
       "4                         15                     10            8.801604   \n",
       "5                          3                      3            6.497346   \n",
       "6                         17                      6           10.945431   \n",
       "7                         21                     15           16.149762   \n",
       "8                         26                     14           11.531965   \n",
       "9                         22                     37           11.446124   \n",
       "10                        21                     14            9.620660   \n",
       "11                        16                      4           12.421886   \n",
       "12                        16                     11           12.319311   \n",
       "13                        14                     22           10.502533   \n",
       "14                        28                      8           11.977328   \n",
       "15                        18                     17           12.231191   \n",
       "16                        24                      8           10.589583   \n",
       "17                        20                     13           17.639827   \n",
       "18                        17                     11           10.829775   \n",
       "19                        20                      7            9.134960   \n",
       "20                        18                      8           13.103179   \n",
       "21                        18                     10           11.059883   \n",
       "22                        18                      4            8.373905   \n",
       "23                        37                     10           18.395517   \n",
       "24                        12                      6            8.979958   \n",
       "25                        10                      3            6.996952   \n",
       "26                         8                      3            8.406722   \n",
       "27                        23                     28           14.436387   \n",
       "28                        19                      9           15.894388   \n",
       "29                         8                      5            9.243917   \n",
       "...                      ...                    ...                 ...   \n",
       "1970                       6                     10           10.731177   \n",
       "1971                      21                      3            9.878019   \n",
       "1972                      18                      8            8.529329   \n",
       "1973                      32                      5           11.244478   \n",
       "1974                      22                      4           13.650646   \n",
       "1975                      15                      4            5.249427   \n",
       "1976                       3                      1            7.284401   \n",
       "1977                      12                      7            6.230769   \n",
       "1978                      19                      2           10.382160   \n",
       "1979                      27                      8           12.558351   \n",
       "1980                       5                      3            9.539301   \n",
       "1981                      23                     13           10.466662   \n",
       "1982                       0                      2            7.660046   \n",
       "1983                      31                      5            9.941045   \n",
       "1984                      10                     14            9.107289   \n",
       "1985                      13                      6           10.375482   \n",
       "1986                      10                     13           10.098368   \n",
       "1987                       4                      3            6.099762   \n",
       "1988                      22                      8            7.840073   \n",
       "1989                       9                      5           11.066836   \n",
       "1990                      38                     10            7.601141   \n",
       "1991                      12                      8           10.165840   \n",
       "1992                      19                     17            7.079128   \n",
       "1993                      17                     18           10.740279   \n",
       "1994                       8                     13           12.695625   \n",
       "1995                      16                      8            8.105377   \n",
       "1996                      12                      1            6.919051   \n",
       "1997                      12                      4            8.915727   \n",
       "1998                       8                      3            8.699856   \n",
       "1999                      29                      6            7.400397   \n",
       "\n",
       "      Number of Negative Prefixes  Total You  Closest Not  \n",
       "0                              20          5     0.127133  \n",
       "1                               6          3     0.093431  \n",
       "2                              15          3     0.066362  \n",
       "3                               9          2     0.138614  \n",
       "4                              34          2     0.032820  \n",
       "5                              23          0     0.035796  \n",
       "6                              30          7     0.039525  \n",
       "7                              30          4     0.007316  \n",
       "8                              33          0     0.172497  \n",
       "9                              17         11     0.090270  \n",
       "10                             31          2     0.075315  \n",
       "11                             19          0     0.338516  \n",
       "12                             14          0     0.023708  \n",
       "13                             34          4     0.008229  \n",
       "14                             20         12     0.001295  \n",
       "15                             19          2     0.031470  \n",
       "16                             25          6     0.027838  \n",
       "17                             30         12     0.045921  \n",
       "18                              7          6     0.046643  \n",
       "19                             17          6     0.060606  \n",
       "20                             27          1     0.025503  \n",
       "21                             29          3     0.004813  \n",
       "22                             20          0     0.072801  \n",
       "23                             36          2     0.022955  \n",
       "24                             27          1     0.093594  \n",
       "25                             20         14     0.023072  \n",
       "26                             14          2     0.125735  \n",
       "27                             40          6     0.024522  \n",
       "28                             22          0     0.078313  \n",
       "29                              8          0     0.067465  \n",
       "...                           ...        ...          ...  \n",
       "1970                           26          3     0.215154  \n",
       "1971                           20          7     0.051432  \n",
       "1972                           19          5     0.248134  \n",
       "1973                           36         17     0.030540  \n",
       "1974                           16          1     0.000971  \n",
       "1975                           26          1     0.077534  \n",
       "1976                            7          7     0.032258  \n",
       "1977                           18          0     0.006319  \n",
       "1978                           20          5     0.028694  \n",
       "1979                           26         14     0.064870  \n",
       "1980                            9          3     0.101234  \n",
       "1981                           22          3     0.035849  \n",
       "1982                           24          4     0.036169  \n",
       "1983                           35          2     0.088296  \n",
       "1984                           25          2     0.030145  \n",
       "1985                           26          0     0.122060  \n",
       "1986                           29         31     0.010112  \n",
       "1987                            7          2     0.241728  \n",
       "1988                           30          7     0.025314  \n",
       "1989                           32          0     0.023743  \n",
       "1990                           32          5     0.086086  \n",
       "1991                           18          2     0.001416  \n",
       "1992                           35          3     0.016371  \n",
       "1993                           22         13     0.038695  \n",
       "1994                           15          7     0.116979  \n",
       "1995                           18          3     0.085121  \n",
       "1996                            8          3     0.013048  \n",
       "1997                           47          7     0.020898  \n",
       "1998                           14          1     0.099915  \n",
       "1999                           28          3     0.098205  \n",
       "\n",
       "[2000 rows x 16 columns]"
      ]
     },
     "execution_count": 34,
     "metadata": {},
     "output_type": "execute_result"
    }
   ],
   "source": [
    "# Store this new data in a data frame\n",
    "import pandas as pd\n",
    "\n",
    "newdata = {'Review Type': dataset.target,'Total Words': total_words, \n",
    "           'Total Sentences': total_sentences,'Average Sentence Length': average_sentence_length,\n",
    "           'Number of not Contractions': number_of_not_contractions,'Total number of Nots': total_nots,'Last Sentence Length':last_sentence_length,\n",
    "           'First Sentence Length': first_sentence_length,'Longest Sentence':longest_sentence,\n",
    "           'Shortest Sentence':shortest_sentence, 'Number of Contractions': number_of_contractions, 'Number of () ... or ?': number_of_punc,\n",
    "            'Sentence Deviation': sent_dev,#'Number of Questions': number_of_questions, 'Number of ...': number_of_elips, \n",
    "          'Number of Negative Prefixes': neg_prefix,#'Percent Vowels': percent_vowels, 'Percent Start Vowels': percent_start_vowels,\n",
    "          'Total You': total_you, 'Closest Not': min_not}\n",
    "data = pd.DataFrame(newdata, columns = ['Review Type','Total Words', \n",
    "           'Total Sentences','Average Sentence Length',\n",
    "           'Number of not Contractions','Total number of Nots',\n",
    "            'Last Sentence Length',\n",
    "           'First Sentence Length','Longest Sentence',\n",
    "           'Shortest Sentence','Number of Contractions','Number of () ... or ?','Sentence Deviation',#'Number of Questions', 'Number of ...', \n",
    "                                        'Number of Negative Prefixes',#'Percent Vowels', 'Percent Start Vowels',\n",
    "                                        'Total You','Closest Not'])\n",
    "\n",
    "data"
   ]
  },
  {
   "cell_type": "code",
   "execution_count": 35,
   "metadata": {
    "collapsed": true
   },
   "outputs": [],
   "source": [
    "# Normalize the Data.\n",
    "Udata = data.drop('Review Type', 1)\n",
    "Udata_norm =(Udata - Udata.min()) / (Udata.max() - Udata.min())\n",
    "\n",
    "data_array = Udata_norm.as_matrix(columns = None)"
   ]
  },
  {
   "cell_type": "code",
   "execution_count": 36,
   "metadata": {
    "collapsed": true
   },
   "outputs": [],
   "source": [
    "# Train a decision tree on the normalized data.\n",
    "from sklearn import tree\n",
    "clf = tree.DecisionTreeClassifier(max_depth = 6)\n",
    "clf = clf.fit(Udata_norm,data['Review Type'])\n",
    "\n",
    "features = list(Udata.columns)\n",
    "\n",
    "\n",
    "# Split the data into Negative and Positive subsets.\n",
    "Neg = Udata_norm.ix[Udata.index[data['Review Type']==0]]\n",
    "Pos = Udata_norm.ix[Udata.index[data['Review Type']==1]]"
   ]
  },
  {
   "cell_type": "code",
   "execution_count": 37,
   "metadata": {
    "collapsed": false
   },
   "outputs": [
    {
     "name": "stdout",
     "output_type": "stream",
     "text": [
      "if ( f8 <= 0.0833333358169 ) {\n",
      "   if ( f2 <= 0.397718280554 ) {\n",
      "      if ( f11 <= 0.349428236485 ) {\n",
      "         if ( f2 <= 0.305362761021 ) {\n",
      "            if ( f9 <= 0.201298698783 ) {\n",
      "               if ( f6 <= 0.170588240027 ) {\n",
      "                  return [[ 34.  41.]]\n",
      "               } else {\n",
      "                  return [[ 44.  24.]]\n",
      "               }\n",
      "            } else {\n",
      "               if ( f0 <= 0.669308662415 ) {\n",
      "                  return [[ 78.  21.]]\n",
      "               } else {\n",
      "                  return [[ 0.  3.]]\n",
      "               }\n",
      "            }\n",
      "         } else {\n",
      "            if ( f1 <= 0.103351950645 ) {\n",
      "               if ( f13 <= 0.205128222704 ) {\n",
      "                  return [[ 5.  0.]]\n",
      "               } else {\n",
      "                  return [[ 0.  1.]]\n",
      "               }\n",
      "            } else {\n",
      "               if ( f4 <= 0.202702701092 ) {\n",
      "                  return [[ 14.  44.]]\n",
      "               } else {\n",
      "                  return [[ 23.  23.]]\n",
      "               }\n",
      "            }\n",
      "         }\n",
      "      } else {\n",
      "         if ( f7 <= 0.216535434127 ) {\n",
      "            if ( f5 <= 0.0360824726522 ) {\n",
      "               if ( f7 <= 0.177165359259 ) {\n",
      "                  return [[ 1.  5.]]\n",
      "               } else {\n",
      "                  return [[ 8.  0.]]\n",
      "               }\n",
      "            } else {\n",
      "               if ( f6 <= 0.335294127464 ) {\n",
      "                  return [[ 41.   1.]]\n",
      "               } else {\n",
      "                  return [[ 3.  1.]]\n",
      "               }\n",
      "            }\n",
      "         } else {\n",
      "            if ( f8 <= 0.0500000044703 ) {\n",
      "               if ( f13 <= 0.730769276619 ) {\n",
      "                  return [[ 98.  26.]]\n",
      "               } else {\n",
      "                  return [[ 0.  2.]]\n",
      "               }\n",
      "            } else {\n",
      "               if ( f10 <= 0.132911384106 ) {\n",
      "                  return [[ 23.   7.]]\n",
      "               } else {\n",
      "                  return [[  4.  12.]]\n",
      "               }\n",
      "            }\n",
      "         }\n",
      "      }\n",
      "   } else {\n",
      "      if ( f11 <= 0.37861007452 ) {\n",
      "         if ( f4 <= 0.148648649454 ) {\n",
      "            return [[  0.  12.]]\n",
      "         } else {\n",
      "            if ( f7 <= 0.208661422133 ) {\n",
      "               if ( f6 <= 0.123529419303 ) {\n",
      "                  return [[ 1.  2.]]\n",
      "               } else {\n",
      "                  return [[ 4.  0.]]\n",
      "               }\n",
      "            } else {\n",
      "               if ( f2 <= 0.441754043102 ) {\n",
      "                  return [[  0.  10.]]\n",
      "               } else {\n",
      "                  return [[ 4.  6.]]\n",
      "               }\n",
      "            }\n",
      "         }\n",
      "      } else {\n",
      "         if ( f6 <= 0.182352945209 ) {\n",
      "            if ( f5 <= 0.201030924916 ) {\n",
      "               if ( f14 <= 0.0956551134586 ) {\n",
      "                  return [[  9.  15.]]\n",
      "               } else {\n",
      "                  return [[ 13.   4.]]\n",
      "               }\n",
      "            } else {\n",
      "               if ( f14 <= 0.0033819056116 ) {\n",
      "                  return [[ 2.  0.]]\n",
      "               } else {\n",
      "                  return [[  7.  27.]]\n",
      "               }\n",
      "            }\n",
      "         } else {\n",
      "            if ( f9 <= 0.240259736776 ) {\n",
      "               if ( f7 <= 0.216535434127 ) {\n",
      "                  return [[ 0.  3.]]\n",
      "               } else {\n",
      "                  return [[ 38.   8.]]\n",
      "               }\n",
      "            } else {\n",
      "               if ( f6 <= 0.523529410362 ) {\n",
      "                  return [[ 15.  22.]]\n",
      "               } else {\n",
      "                  return [[ 7.  1.]]\n",
      "               }\n",
      "            }\n",
      "         }\n",
      "      }\n",
      "   }\n",
      "} else {\n",
      "   if ( f0 <= 0.343901365995 ) {\n",
      "      if ( f3 <= 0.113636367023 ) {\n",
      "         if ( f11 <= 0.476569116116 ) {\n",
      "            if ( f2 <= 0.174074590206 ) {\n",
      "               return [[ 7.  0.]]\n",
      "            } else {\n",
      "               if ( f8 <= 0.416666686535 ) {\n",
      "                  return [[ 212.  344.]]\n",
      "               } else {\n",
      "                  return [[ 13.   5.]]\n",
      "               }\n",
      "            }\n",
      "         } else {\n",
      "            if ( f2 <= 0.616909265518 ) {\n",
      "               if ( f13 <= 0.166666671634 ) {\n",
      "                  return [[ 28.   9.]]\n",
      "               } else {\n",
      "                  return [[ 0.  2.]]\n",
      "               }\n",
      "            } else {\n",
      "               if ( f5 <= 0.0670103058219 ) {\n",
      "                  return [[ 2.  0.]]\n",
      "               } else {\n",
      "                  return [[ 2.  8.]]\n",
      "               }\n",
      "            }\n",
      "         }\n",
      "      } else {\n",
      "         if ( f0 <= 0.216424480081 ) {\n",
      "            if ( f2 <= 0.193574130535 ) {\n",
      "               return [[ 0.  3.]]\n",
      "            } else {\n",
      "               if ( f7 <= 0.070866137743 ) {\n",
      "                  return [[ 0.  3.]]\n",
      "               } else {\n",
      "                  return [[ 90.  33.]]\n",
      "               }\n",
      "            }\n",
      "         } else {\n",
      "            if ( f1 <= 0.25977653265 ) {\n",
      "               if ( f2 <= 0.266240358353 ) {\n",
      "                  return [[ 8.  0.]]\n",
      "               } else {\n",
      "                  return [[ 106.   97.]]\n",
      "               }\n",
      "            } else {\n",
      "               if ( f11 <= 0.222144022584 ) {\n",
      "                  return [[ 2.  1.]]\n",
      "               } else {\n",
      "                  return [[  0.  10.]]\n",
      "               }\n",
      "            }\n",
      "         }\n",
      "      }\n",
      "   } else {\n",
      "      if ( f2 <= 0.252200692892 ) {\n",
      "         return [[ 5.  0.]]\n",
      "      } else {\n",
      "         if ( f5 <= 0.71649479866 ) {\n",
      "            if ( f6 <= 0.264705896378 ) {\n",
      "               if ( f0 <= 0.483487457037 ) {\n",
      "                  return [[ 35.  69.]]\n",
      "               } else {\n",
      "                  return [[  5.  37.]]\n",
      "               }\n",
      "            } else {\n",
      "               if ( f7 <= 0.653543293476 ) {\n",
      "                  return [[  5.  57.]]\n",
      "               } else {\n",
      "                  return [[ 2.  1.]]\n",
      "               }\n",
      "            }\n",
      "         } else {\n",
      "            return [[ 2.  0.]]\n",
      "         }\n",
      "      }\n",
      "   }\n",
      "}\n"
     ]
    }
   ],
   "source": [
    "# The following code was obtained via GitHub.  It prints a description of a classification tree.\n",
    "def print_decision_tree(tree, feature_names=None, offset_unit='    '):\n",
    "    '''Plots textual representation of rules of a decision tree\n",
    "    tree: scikit-learn representation of tree\n",
    "    feature_names: list of feature names. They are set to f1,f2,f3,... if not specified\n",
    "    offset_unit: a string of offset of the conditional block'''\n",
    "\n",
    "    left      = tree.tree_.children_left\n",
    "    right     = tree.tree_.children_right\n",
    "    threshold = tree.tree_.threshold\n",
    "    value = tree.tree_.value\n",
    "    if feature_names is None:\n",
    "        features  = ['f%d'%i for i in tree.tree_.feature]\n",
    "    else:\n",
    "        features  = feature_names       \n",
    "\n",
    "    def recurse(left, right, threshold, features, node, depth=0):\n",
    "            offset = offset_unit*depth\n",
    "            if (threshold[node] != -2):\n",
    "                    print(offset+\"if ( \" + features[node] + \" <= \" + str(threshold[node]) + \" ) {\")\n",
    "                    if left[node] != -1:\n",
    "                            recurse (left, right, threshold, features,left[node],depth+1)\n",
    "                    print(offset+\"} else {\")\n",
    "                    if right[node] != -1:\n",
    "                            recurse (left, right, threshold, features,right[node],depth+1)\n",
    "                    print(offset+\"}\")\n",
    "            else:\n",
    "                    print(offset+\"return \" + str(value[node]))\n",
    "\n",
    "    recurse(left, right, threshold, features, 0,0)\n",
    "print_decision_tree(clf, offset_unit = '   ')"
   ]
  },
  {
   "cell_type": "markdown",
   "metadata": {},
   "source": [
    "#### Now, based on the printed tree, manually construct the desired scatter plots, as described in the report."
   ]
  },
  {
   "cell_type": "code",
   "execution_count": 39,
   "metadata": {
    "collapsed": false
   },
   "outputs": [
    {
     "data": {
      "text/plain": [
       "<matplotlib.lines.Line2D at 0x65986e80>"
      ]
     },
     "execution_count": 39,
     "metadata": {},
     "output_type": "execute_result"
    },
    {
     "data": {
      "image/png": "[encoded data removed]",
      "text/plain": [
       "<matplotlib.figure.Figure at 0x60b401d0>"
      ]
     },
     "metadata": {},
     "output_type": "display_data"
    }
   ],
   "source": [
    "#one\n",
    "\n",
    "Neg1a = Neg.ix[Neg.index[np.logical_and(Neg['Shortest Sentence']<= .08333, \n",
    "                        np.logical_and(Neg['Average Sentence Length'] <= .39771, \n",
    "                        np.logical_and(Neg['Sentence Deviation'] <= .34943,\n",
    "                        np.logical_and(Neg['Average Sentence Length']<=.30536,\n",
    "                        Neg['Number of Contractions']<= .2013))))]]\n",
    "Neg1b = Neg.ix[Neg.index[np.logical_and(Neg['Shortest Sentence']<= .08333, \n",
    "                        np.logical_and(Neg['Average Sentence Length'] <= .39771, \n",
    "                        np.logical_and(Neg['Sentence Deviation'] <= .34943,\n",
    "                        np.logical_and(Neg['Average Sentence Length']<=.30536,\n",
    "                        Neg['Number of Contractions']> .2013))))]]\n",
    "Pos1a = Pos.ix[Pos.index[np.logical_and(Pos['Shortest Sentence']<= .08333, \n",
    "                        np.logical_and(Pos['Average Sentence Length'] <= .39771, \n",
    "                        np.logical_and(Pos['Sentence Deviation'] <= .34943,\n",
    "                        np.logical_and(Pos['Average Sentence Length']<=.30536,\n",
    "                        Pos['Number of Contractions']<= .2013))))]]\n",
    "Pos1b = Pos.ix[Pos.index[np.logical_and(Pos['Shortest Sentence']<= .08333, \n",
    "                        np.logical_and(Pos['Average Sentence Length'] <= .39771, \n",
    "                        np.logical_and(Pos['Sentence Deviation'] <= .34943,\n",
    "                        np.logical_and(Pos['Average Sentence Length']<=.30536,\n",
    "                        Pos['Number of Contractions'] > .2013))))]]\n",
    "\n",
    "py.plot(Neg1a['Number of Contractions'],Neg1a['First Sentence Length'],'ro')\n",
    "py.plot(Neg1b['Number of Contractions'],-Neg1b['Total Words'],'ro')\n",
    "py.plot(Pos1a['Number of Contractions'],Pos1a['First Sentence Length'],'go')\n",
    "py.plot(Pos1b['Number of Contractions'],-Pos1b['Total Words'],'go')\n",
    "plt.axhline(y=0, xmin=0, xmax=1, linewidth=1, color = 'k')\n",
    "plt.axvline(x=0.2013, ymin=-0.8, ymax = 1, linewidth=1, color='k')"
   ]
  },
  {
   "cell_type": "code",
   "execution_count": 40,
   "metadata": {
    "collapsed": false
   },
   "outputs": [
    {
     "data": {
      "text/plain": [
       "<matplotlib.lines.Line2D at 0x632aa2e8>"
      ]
     },
     "execution_count": 40,
     "metadata": {},
     "output_type": "execute_result"
    },
    {
     "data": {
      "image/png": "[encoded data removed]",
      "text/plain": [
       "<matplotlib.figure.Figure at 0x6598c518>"
      ]
     },
     "metadata": {},
     "output_type": "display_data"
    }
   ],
   "source": [
    "#Two\n",
    "\n",
    "Neg2a = Neg.ix[Neg.index[np.logical_and(Neg['Shortest Sentence']<= .08333, \n",
    "                        np.logical_and(Neg['Average Sentence Length'] <= .39771, \n",
    "                        np.logical_and(Neg['Sentence Deviation'] <= .34943,\n",
    "                        np.logical_and(Neg['Average Sentence Length']>.30536,\n",
    "                        Neg['Total Sentences']<= .103352))))]]\n",
    "Neg2b = Neg.ix[Neg.index[np.logical_and(Neg['Shortest Sentence']<= .08333, \n",
    "                        np.logical_and(Neg['Average Sentence Length'] <= .39771, \n",
    "                        np.logical_and(Neg['Sentence Deviation'] <= .34943,\n",
    "                        np.logical_and(Neg['Average Sentence Length']>.30536,\n",
    "                        Neg['Total Sentences']> .10335))))]]\n",
    "Pos2a = Pos.ix[Pos.index[np.logical_and(Pos['Shortest Sentence']<= .08333, \n",
    "                        np.logical_and(Pos['Average Sentence Length'] <= .39771, \n",
    "                        np.logical_and(Pos['Sentence Deviation'] <= .34943,\n",
    "                        np.logical_and(Pos['Average Sentence Length']>.30536,\n",
    "                        Pos['Total Sentences']<= .103352))))]]\n",
    "Pos2b = Pos.ix[Pos.index[np.logical_and(Pos['Shortest Sentence']<= .08333, \n",
    "                        np.logical_and(Pos['Average Sentence Length'] <= .39771, \n",
    "                        np.logical_and(Pos['Sentence Deviation'] <= .34943,\n",
    "                        np.logical_and(Pos['Average Sentence Length']>.30536,\n",
    "                        Pos['Total Sentences'] > .10335))))]]\n",
    "\n",
    "py.plot(Neg2a['Total Sentences'],Neg2a['Number of not Contractions'],'ro')\n",
    "py.plot(Neg2b['Total Sentences'],-Neg2b['Total number of Nots'],'ro')\n",
    "py.plot(Pos2a['Total Sentences'],Pos2a['Number of not Contractions'],'go')\n",
    "py.plot(Pos2b['Total Sentences'],-Pos2b['Total number of Nots'],'go')\n",
    "plt.axhline(y=0, xmin=0, xmax=1, linewidth=1, color = 'k')\n",
    "plt.axvline(x=.10335, ymin=-1, ymax = 1, linewidth=1, color='k')"
   ]
  },
  {
   "cell_type": "code",
   "execution_count": 41,
   "metadata": {
    "collapsed": false
   },
   "outputs": [
    {
     "data": {
      "text/plain": [
       "<matplotlib.lines.Line2D at 0x113a19b0>"
      ]
     },
     "execution_count": 41,
     "metadata": {},
     "output_type": "execute_result"
    },
    {
     "data": {
      "image/png": "[encoded data removed]",
      "text/plain": [
       "<matplotlib.figure.Figure at 0x62d826d8>"
      ]
     },
     "metadata": {},
     "output_type": "display_data"
    }
   ],
   "source": [
    "#Three\n",
    "\n",
    "Neg3a = Neg.ix[Neg.index[np.logical_and(Neg['Shortest Sentence']<= .08333, \n",
    "                        np.logical_and(Neg['Average Sentence Length'] <= .39771, \n",
    "                        np.logical_and(Neg['Sentence Deviation'] > .34943,\n",
    "                        np.logical_and(Neg['Longest Sentence']<=.216535,\n",
    "                        Neg['Last Sentence Length']<= .03608))))]]\n",
    "Neg3b = Neg.ix[Neg.index[np.logical_and(Neg['Shortest Sentence']<= .08333, \n",
    "                        np.logical_and(Neg['Average Sentence Length'] <= .39771, \n",
    "                        np.logical_and(Neg['Sentence Deviation'] > .34943,\n",
    "                        np.logical_and(Neg['Longest Sentence']<=.216535,\n",
    "                        Neg['Last Sentence Length']> .03608))))]]\n",
    "Pos3a = Pos.ix[Pos.index[np.logical_and(Pos['Shortest Sentence']<= .08333, \n",
    "                        np.logical_and(Pos['Average Sentence Length'] <= .39771, \n",
    "                        np.logical_and(Pos['Sentence Deviation'] > .34943,\n",
    "                        np.logical_and(Pos['Longest Sentence']<=.216535,\n",
    "                        Pos['Last Sentence Length']<= .03608))))]]\n",
    "Pos3b = Pos.ix[Pos.index[np.logical_and(Pos['Shortest Sentence']<= .08333, \n",
    "                        np.logical_and(Pos['Average Sentence Length'] <= .39771, \n",
    "                        np.logical_and(Pos['Sentence Deviation'] > .34943,\n",
    "                        np.logical_and(Pos['Longest Sentence']<=.216535,\n",
    "                        Pos['Last Sentence Length']> .03608))))]]\n",
    "\n",
    "py.plot(Neg3a['Last Sentence Length'],Neg3a['Longest Sentence'],'ro')\n",
    "py.plot(Neg3b['Last Sentence Length'],-Neg3b['First Sentence Length'],'ro')\n",
    "py.plot(Pos3a['Last Sentence Length'],Pos3a['Longest Sentence'],'go')\n",
    "py.plot(Pos3b['Last Sentence Length'],-Pos3b['First Sentence Length'],'go')\n",
    "plt.axhline(y=0, xmin=0, xmax=1, linewidth=1, color = 'k')\n",
    "plt.axvline(x=.03608, ymin=-1, ymax = 1, linewidth=1, color='k')"
   ]
  },
  {
   "cell_type": "code",
   "execution_count": 42,
   "metadata": {
    "collapsed": false
   },
   "outputs": [
    {
     "data": {
      "text/plain": [
       "<matplotlib.lines.Line2D at 0x62ff44e0>"
      ]
     },
     "execution_count": 42,
     "metadata": {},
     "output_type": "execute_result"
    },
    {
     "data": {
      "image/png": "[encoded data removed]",
      "text/plain": [
       "<matplotlib.figure.Figure at 0x6041d128>"
      ]
     },
     "metadata": {},
     "output_type": "display_data"
    }
   ],
   "source": [
    "#four\n",
    "\n",
    "Neg4a = Neg.ix[Neg.index[np.logical_and(Neg['Shortest Sentence']<= .08333, \n",
    "                        np.logical_and(Neg['Average Sentence Length'] <= .39771, \n",
    "                        np.logical_and(Neg['Sentence Deviation'] > .34943,\n",
    "                        np.logical_and(Neg['Longest Sentence']>.216535,\n",
    "                        Neg['Shortest Sentence']<= .05))))]]\n",
    "Neg4b = Neg.ix[Neg.index[np.logical_and(Neg['Shortest Sentence']<= .08333, \n",
    "                        np.logical_and(Neg['Average Sentence Length'] <= .39771, \n",
    "                        np.logical_and(Neg['Sentence Deviation'] > .34943,\n",
    "                        np.logical_and(Neg['Longest Sentence']>.216535,\n",
    "                        Neg['Shortest Sentence']> .05))))]]\n",
    "Pos4a = Pos.ix[Pos.index[np.logical_and(Pos['Shortest Sentence']<= .08333, \n",
    "                        np.logical_and(Pos['Average Sentence Length'] <= .39771, \n",
    "                        np.logical_and(Pos['Sentence Deviation'] > .34943,\n",
    "                        np.logical_and(Pos['Longest Sentence']>.216535,\n",
    "                        Pos['Shortest Sentence']<= .05))))]]\n",
    "Pos4b = Pos.ix[Pos.index[np.logical_and(Pos['Shortest Sentence']<= .08333, \n",
    "                        np.logical_and(Pos['Average Sentence Length'] <= .39771, \n",
    "                        np.logical_and(Pos['Sentence Deviation'] > .34943,\n",
    "                        np.logical_and(Pos['Longest Sentence']>.216535,\n",
    "                        Pos['Shortest Sentence']> .05))))]]\n",
    "\n",
    "py.plot(Neg4a['Shortest Sentence'],Neg4a['Total You'],'ro')\n",
    "py.plot(Neg4b['Shortest Sentence'],-Neg4b['Number of () ... or ?'],'ro')\n",
    "py.plot(Pos4a['Shortest Sentence'],Pos4a['Total You'],'go')\n",
    "py.plot(Pos4b['Shortest Sentence'],-Pos4b['Number of () ... or ?'],'go')\n",
    "plt.axhline(y=0, xmin=0, xmax=1, linewidth=1, color = 'k')\n",
    "plt.axvline(x=.05, ymin=-1, ymax = 1, linewidth=1, color='k')"
   ]
  },
  {
   "cell_type": "code",
   "execution_count": 43,
   "metadata": {
    "collapsed": false
   },
   "outputs": [
    {
     "data": {
      "text/plain": [
       "[<matplotlib.lines.Line2D at 0x11498fd0>]"
      ]
     },
     "execution_count": 43,
     "metadata": {},
     "output_type": "execute_result"
    },
    {
     "data": {
      "image/png": "[encoded data removed]",
      "text/plain": [
       "<matplotlib.figure.Figure at 0x62fc5128>"
      ]
     },
     "metadata": {},
     "output_type": "display_data"
    }
   ],
   "source": [
    "#five\n",
    "\n",
    "Neg5a = Neg.ix[Neg.index[np.logical_and(Neg['Shortest Sentence']<= .08333, \n",
    "                        np.logical_and(Neg['Average Sentence Length'] > .39771, \n",
    "                        np.logical_and(Neg['Sentence Deviation'] <= .3786,\n",
    "                        np.logical_and(Neg['Total number of Nots']<= .14865,\n",
    "                        Neg['Total number of Nots']<= .14865))))]]\n",
    "Neg5b = Neg.ix[Neg.index[np.logical_and(Neg['Shortest Sentence']<= .08333, \n",
    "                        np.logical_and(Neg['Average Sentence Length'] > .39771, \n",
    "                        np.logical_and(Neg['Sentence Deviation']<= .3786,\n",
    "                        np.logical_and(Neg['Total number of Nots']<= .14865,\n",
    "                        Neg['Total number of Nots']<= .14865))))]]\n",
    "Pos5a = Pos.ix[Pos.index[np.logical_and(Pos['Shortest Sentence']<= .08333, \n",
    "                        np.logical_and(Pos['Average Sentence Length'] > .39771, \n",
    "                        np.logical_and(Pos['Sentence Deviation'] <= .3786,\n",
    "                        np.logical_and(Pos['Total number of Nots']<= .14865,\n",
    "                        Pos['Total number of Nots']<= .14865))))]]\n",
    "Pos5b = Pos.ix[Pos.index[np.logical_and(Pos['Shortest Sentence']<= .08333, \n",
    "                        np.logical_and(Pos['Average Sentence Length'] > .39771, \n",
    "                        np.logical_and(Pos['Sentence Deviation'] <= .3786,\n",
    "                        np.logical_and(Pos['Total number of Nots']<= .14865,\n",
    "                        Pos['Total number of Nots']<= .14865))))]]\n",
    "\n",
    "py.plot(Neg5a['Sentence Deviation'],Neg5a['Total number of Nots'],'ro')\n",
    "#py.plot(Neg5b['Sentence Deviation'],-Neg5b['Total number of Nots'],'ro')\n",
    "py.plot(Pos5a['Sentence Deviation'],Pos5a['Total number of Nots'],'go')\n",
    "#py.plot(Pos3b['Shortest Sentence'],-Pos3b['Number of () ... or ?'],'go')\n",
    "#plt.axhline(y=0, xmin=0, xmax=1, linewidth=1, color = 'k')\n",
    "#plt.axvline(x=.05, ymin=-1, ymax = 1, linewidth=1, color='k')"
   ]
  },
  {
   "cell_type": "code",
   "execution_count": 44,
   "metadata": {
    "collapsed": false
   },
   "outputs": [
    {
     "data": {
      "text/plain": [
       "<matplotlib.lines.Line2D at 0x62ce29e8>"
      ]
     },
     "execution_count": 44,
     "metadata": {},
     "output_type": "execute_result"
    },
    {
     "data": {
      "image/png": "[encoded data removed]",
      "text/plain": [
       "<matplotlib.figure.Figure at 0x63000e80>"
      ]
     },
     "metadata": {},
     "output_type": "display_data"
    }
   ],
   "source": [
    "#Six\n",
    "\n",
    "Neg6a = Neg.ix[Neg.index[np.logical_and(Neg['Shortest Sentence']<= .08333, \n",
    "                        np.logical_and(Neg['Average Sentence Length'] > .39771, \n",
    "                        np.logical_and(Neg['Sentence Deviation'] <= .3786,\n",
    "                        np.logical_and(Neg['Total number of Nots']> .14865,\n",
    "                        Neg['Longest Sentence']<= .20866))))]]\n",
    "Neg6b = Neg.ix[Neg.index[np.logical_and(Neg['Shortest Sentence']<= .08333, \n",
    "                        np.logical_and(Neg['Average Sentence Length'] > .39771, \n",
    "                        np.logical_and(Neg['Sentence Deviation']<= .3786,\n",
    "                        np.logical_and(Neg['Total number of Nots']> .14865,\n",
    "                        Neg['Longest Sentence']> .20866))))]]\n",
    "Pos6a = Pos.ix[Pos.index[np.logical_and(Pos['Shortest Sentence']<= .08333, \n",
    "                        np.logical_and(Pos['Average Sentence Length'] > .39771, \n",
    "                        np.logical_and(Pos['Sentence Deviation'] <= .3786,\n",
    "                        np.logical_and(Pos['Total number of Nots']> .14865,\n",
    "                        Pos['Longest Sentence']<= .20866))))]]\n",
    "Pos6b = Pos.ix[Pos.index[np.logical_and(Pos['Shortest Sentence']<= .08333, \n",
    "                        np.logical_and(Pos['Average Sentence Length'] > .39771, \n",
    "                        np.logical_and(Pos['Sentence Deviation'] <= .3786,\n",
    "                        np.logical_and(Pos['Total number of Nots']> .14865,\n",
    "                        Pos['Longest Sentence']> .20866))))]]\n",
    "\n",
    "py.plot(Neg6a['Longest Sentence'],Neg6a['Number of Negative Prefixes'],'ro')\n",
    "py.plot(Neg6b['Longest Sentence'],-Neg6b['Average Sentence Length'],'ro')\n",
    "py.plot(Pos6a['Longest Sentence'],Pos6a['Number of Negative Prefixes'],'go')\n",
    "py.plot(Pos6b['Longest Sentence'],-Pos6b['Average Sentence Length'],'go')\n",
    "plt.axhline(y=0, xmin=0, xmax=1, linewidth=1, color = 'k')\n",
    "plt.axvline(x=.20866, ymin=-1, ymax = 1, linewidth=1, color='k')"
   ]
  },
  {
   "cell_type": "code",
   "execution_count": 45,
   "metadata": {
    "collapsed": false
   },
   "outputs": [
    {
     "data": {
      "text/plain": [
       "<matplotlib.lines.Line2D at 0x117a5400>"
      ]
     },
     "execution_count": 45,
     "metadata": {},
     "output_type": "execute_result"
    },
    {
     "data": {
      "image/png": "[encoded data removed]",
      "text/plain": [
       "<matplotlib.figure.Figure at 0x7352c710>"
      ]
     },
     "metadata": {},
     "output_type": "display_data"
    }
   ],
   "source": [
    "#Seven\n",
    "\n",
    "Neg7a = Neg.ix[Neg.index[np.logical_and(Neg['Shortest Sentence']<= .08333, \n",
    "                        np.logical_and(Neg['Average Sentence Length'] > .39771, \n",
    "                        np.logical_and(Neg['Sentence Deviation'] > .3786,\n",
    "                        np.logical_and(Neg['First Sentence Length']<= .18235,\n",
    "                        Neg['Last Sentence Length']<= .201))))]]\n",
    "Neg7b = Neg.ix[Neg.index[np.logical_and(Neg['Shortest Sentence']<= .08333, \n",
    "                        np.logical_and(Neg['Average Sentence Length'] > .39771, \n",
    "                        np.logical_and(Neg['Sentence Deviation']> .3786,\n",
    "                        np.logical_and(Neg['First Sentence Length']<= .18235,\n",
    "                        Neg['Last Sentence Length']> .201))))]]\n",
    "Pos7a = Pos.ix[Pos.index[np.logical_and(Pos['Shortest Sentence']<= .08333, \n",
    "                        np.logical_and(Pos['Average Sentence Length'] > .39771, \n",
    "                        np.logical_and(Pos['Sentence Deviation'] > .3786,\n",
    "                        np.logical_and(Pos['First Sentence Length']<= .18235,\n",
    "                        Pos['Last Sentence Length']<= .201))))]]\n",
    "Pos7b = Pos.ix[Pos.index[np.logical_and(Pos['Shortest Sentence']<= .08333, \n",
    "                        np.logical_and(Pos['Average Sentence Length'] > .39771, \n",
    "                        np.logical_and(Pos['Sentence Deviation'] > .3786,\n",
    "                        np.logical_and(Pos['First Sentence Length']<= .18235,\n",
    "                        Pos['Last Sentence Length']> .201))))]]\n",
    "\n",
    "py.plot(Neg7a['Last Sentence Length'],Neg7a['Closest Not'],'ro')\n",
    "py.plot(Neg7b['Last Sentence Length'],-Neg7b['Closest Not'],'ro')\n",
    "py.plot(Pos7a['Last Sentence Length'],Pos7a['Closest Not'],'go')\n",
    "py.plot(Pos7b['Last Sentence Length'],-Pos7b['Closest Not'],'go')\n",
    "plt.axhline(y=0, xmin=0, xmax=1, linewidth=1, color = 'k')\n",
    "plt.axvline(x=.201, ymin=-1, ymax = 1, linewidth=1, color='k')"
   ]
  },
  {
   "cell_type": "code",
   "execution_count": 46,
   "metadata": {
    "collapsed": false
   },
   "outputs": [
    {
     "data": {
      "text/plain": [
       "<matplotlib.lines.Line2D at 0x60704c50>"
      ]
     },
     "execution_count": 46,
     "metadata": {},
     "output_type": "execute_result"
    },
    {
     "data": {
      "image/png": "[encoded data removed]",
      "text/plain": [
       "<matplotlib.figure.Figure at 0x10e810b8>"
      ]
     },
     "metadata": {},
     "output_type": "display_data"
    }
   ],
   "source": [
    "#Eight\n",
    "\n",
    "Neg8a = Neg.ix[Neg.index[np.logical_and(Neg['Shortest Sentence']<= .08333, \n",
    "                        np.logical_and(Neg['Average Sentence Length'] > .39771, \n",
    "                        np.logical_and(Neg['Sentence Deviation'] > .3786,\n",
    "                        np.logical_and(Neg['First Sentence Length']> .18235,\n",
    "                        Neg['Number of Contractions']<= .24026))))]]\n",
    "Neg8b = Neg.ix[Neg.index[np.logical_and(Neg['Shortest Sentence']<= .08333, \n",
    "                        np.logical_and(Neg['Average Sentence Length'] > .39771, \n",
    "                        np.logical_and(Neg['Sentence Deviation']> .3786,\n",
    "                        np.logical_and(Neg['First Sentence Length']> .18235,\n",
    "                        Neg['Number of Contractions']> .24026))))]]\n",
    "Pos8a = Pos.ix[Pos.index[np.logical_and(Pos['Shortest Sentence']<= .08333, \n",
    "                        np.logical_and(Pos['Average Sentence Length'] > .39771, \n",
    "                        np.logical_and(Pos['Sentence Deviation'] > .3786,\n",
    "                        np.logical_and(Pos['First Sentence Length']> .18235,\n",
    "                        Pos['Number of Contractions']<= .24026))))]]\n",
    "Pos8b = Pos.ix[Pos.index[np.logical_and(Pos['Shortest Sentence']<= .08333, \n",
    "                        np.logical_and(Pos['Average Sentence Length'] > .39771, \n",
    "                        np.logical_and(Pos['Sentence Deviation'] > .3786,\n",
    "                        np.logical_and(Pos['First Sentence Length']> .18235,\n",
    "                        Pos['Number of Contractions']> .24026))))]]\n",
    "\n",
    "py.plot(Neg8a['Number of Contractions'],Neg8a['Longest Sentence'],'ro')\n",
    "py.plot(Neg8b['Number of Contractions'],-Neg8b['First Sentence Length'],'ro')\n",
    "py.plot(Pos8a['Number of Contractions'],Pos8a['Longest Sentence'],'go')\n",
    "py.plot(Pos8b['Number of Contractions'],-Pos8b['First Sentence Length'],'go')\n",
    "plt.axhline(y=0, xmin=0, xmax=1, linewidth=1, color = 'k')\n",
    "plt.axvline(x=.24026, ymin=-1, ymax = 1, linewidth=1, color='k')"
   ]
  },
  {
   "cell_type": "code",
   "execution_count": 47,
   "metadata": {
    "collapsed": false
   },
   "outputs": [
    {
     "data": {
      "text/plain": [
       "<matplotlib.lines.Line2D at 0x61300160>"
      ]
     },
     "execution_count": 47,
     "metadata": {},
     "output_type": "execute_result"
    },
    {
     "data": {
      "image/png": "[encoded data removed]",
      "text/plain": [
       "<matplotlib.figure.Figure at 0x60b4def0>"
      ]
     },
     "metadata": {},
     "output_type": "display_data"
    }
   ],
   "source": [
    "#Nine\n",
    "\n",
    "Neg9a = Neg.ix[Neg.index[np.logical_and(Neg['Shortest Sentence']> .08333, \n",
    "                        np.logical_and(Neg['Total Words'] <= .3439, \n",
    "                        np.logical_and(Neg['Number of not Contractions'] <= .113636,\n",
    "                        np.logical_and(Neg['Sentence Deviation']<= .47657,\n",
    "                        Neg['Average Sentence Length']<= .17407))))]]\n",
    "Neg9b = Neg.ix[Neg.index[np.logical_and(Neg['Shortest Sentence']> .08333, \n",
    "                        np.logical_and(Neg['Total Words'] <= .3439, \n",
    "                        np.logical_and(Neg['Number of not Contractions'] <= .113636,\n",
    "                        np.logical_and(Neg['Sentence Deviation']<= .47657,\n",
    "                        Neg['Average Sentence Length']> .17407))))]]\n",
    "Pos9a = Pos.ix[Pos.index[np.logical_and(Pos['Shortest Sentence']> .08333, \n",
    "                        np.logical_and(Pos['Total Words'] <= .3439, \n",
    "                        np.logical_and(Pos['Number of not Contractions'] <= .113636,\n",
    "                        np.logical_and(Pos['Sentence Deviation']<= .47657,\n",
    "                        Pos['Average Sentence Length']<= .17407))))]]\n",
    "Pos9b = Pos.ix[Pos.index[np.logical_and(Pos['Shortest Sentence']> .08333, \n",
    "                        np.logical_and(Pos['Total Words'] <= .3439, \n",
    "                        np.logical_and(Pos['Number of not Contractions'] <= .113636,\n",
    "                        np.logical_and(Pos['Sentence Deviation']<= .47657,\n",
    "                        Pos['Average Sentence Length']> .17407))))]]\n",
    "\n",
    "py.plot(Neg9a['Average Sentence Length'],Neg9a['Average Sentence Length'],'ro')\n",
    "py.plot(Neg9b['Average Sentence Length'],-Neg9b['Shortest Sentence'],'ro')\n",
    "py.plot(Pos9a['Average Sentence Length'],Pos9a['Average Sentence Length'],'go')\n",
    "py.plot(Pos9b['Average Sentence Length'],-Pos9b['Shortest Sentence'],'go')\n",
    "plt.axhline(y=0, xmin=0, xmax=1, linewidth=1, color = 'k')\n",
    "plt.axvline(x=.17407, ymin=-1, ymax = 1, linewidth=1, color='k')"
   ]
  },
  {
   "cell_type": "code",
   "execution_count": 48,
   "metadata": {
    "collapsed": false
   },
   "outputs": [
    {
     "data": {
      "text/plain": [
       "<matplotlib.lines.Line2D at 0x617c4e80>"
      ]
     },
     "execution_count": 48,
     "metadata": {},
     "output_type": "execute_result"
    },
    {
     "data": {
      "image/png": "[encoded data removed]",
      "text/plain": [
       "<matplotlib.figure.Figure at 0x11287ac8>"
      ]
     },
     "metadata": {},
     "output_type": "display_data"
    }
   ],
   "source": [
    "#ten\n",
    "\n",
    "Neg10a = Neg.ix[Neg.index[np.logical_and(Neg['Shortest Sentence']> .08333, \n",
    "                        np.logical_and(Neg['Total Words'] <= .3439, \n",
    "                        np.logical_and(Neg['Number of not Contractions'] <= .113636,\n",
    "                        np.logical_and(Neg['Sentence Deviation']> .47657,\n",
    "                        Neg['Average Sentence Length']<= .6169))))]]\n",
    "Neg10b = Neg.ix[Neg.index[np.logical_and(Neg['Shortest Sentence']> .08333, \n",
    "                        np.logical_and(Neg['Total Words'] <= .3439, \n",
    "                        np.logical_and(Neg['Number of not Contractions'] <= .113636,\n",
    "                        np.logical_and(Neg['Sentence Deviation']> .47657,\n",
    "                        Neg['Average Sentence Length']> .6169))))]]\n",
    "Pos10a = Pos.ix[Pos.index[np.logical_and(Pos['Shortest Sentence']> .08333, \n",
    "                        np.logical_and(Pos['Total Words'] <= .3439, \n",
    "                        np.logical_and(Pos['Number of not Contractions'] <= .113636,\n",
    "                        np.logical_and(Pos['Sentence Deviation']> .47657,\n",
    "                        Pos['Average Sentence Length']<= .6169))))]]\n",
    "Pos10b = Pos.ix[Pos.index[np.logical_and(Pos['Shortest Sentence']> .08333, \n",
    "                        np.logical_and(Pos['Total Words'] <= .3439, \n",
    "                        np.logical_and(Pos['Number of not Contractions'] <= .113636,\n",
    "                        np.logical_and(Pos['Sentence Deviation']> .47657,\n",
    "                        Pos['Average Sentence Length']> .6169))))]]\n",
    "\n",
    "py.plot(Neg10a['Average Sentence Length'],Neg10a['Total You'],'ro')\n",
    "py.plot(Neg10b['Average Sentence Length'],-Neg10b['Last Sentence Length'],'ro')\n",
    "py.plot(Pos10a['Average Sentence Length'],Pos10a['Total You'],'go')\n",
    "py.plot(Pos10b['Average Sentence Length'],-Pos10b['Last Sentence Length'],'go')\n",
    "plt.axhline(y=0, xmin=0, xmax=1, linewidth=1, color = 'k')\n",
    "plt.axvline(x=.6169, ymin=-1, ymax = 1, linewidth=1, color='k')"
   ]
  },
  {
   "cell_type": "code",
   "execution_count": 49,
   "metadata": {
    "collapsed": false
   },
   "outputs": [
    {
     "data": {
      "text/plain": [
       "<matplotlib.lines.Line2D at 0x118cf198>"
      ]
     },
     "execution_count": 49,
     "metadata": {},
     "output_type": "execute_result"
    },
    {
     "data": {
      "image/png": "[encoded data removed]",
      "text/plain": [
       "<matplotlib.figure.Figure at 0x617eb320>"
      ]
     },
     "metadata": {},
     "output_type": "display_data"
    }
   ],
   "source": [
    "#eleven\n",
    "\n",
    "Neg11a = Neg.ix[Neg.index[np.logical_and(Neg['Shortest Sentence']> .08333, \n",
    "                        np.logical_and(Neg['Total Words'] <= .3439, \n",
    "                        np.logical_and(Neg['Number of not Contractions'] > .113636,\n",
    "                        np.logical_and(Neg['Total Words']<= .21692,\n",
    "                        Neg['Average Sentence Length']<= .19357))))]]\n",
    "Neg11b = Neg.ix[Neg.index[np.logical_and(Neg['Shortest Sentence']> .08333, \n",
    "                        np.logical_and(Neg['Total Words'] <= .3439, \n",
    "                        np.logical_and(Neg['Number of not Contractions'] > .113636,\n",
    "                        np.logical_and(Neg['Total Words']<= .21692,\n",
    "                        Neg['Average Sentence Length']> .19357))))]]\n",
    "Pos11a = Pos.ix[Pos.index[np.logical_and(Pos['Shortest Sentence']> .08333, \n",
    "                        np.logical_and(Pos['Total Words'] <= .3439, \n",
    "                        np.logical_and(Pos['Number of not Contractions'] > .113636,\n",
    "                        np.logical_and(Pos['Total Words']<= .21692,\n",
    "                        Pos['Average Sentence Length']<= .19357))))]]\n",
    "Pos11b = Pos.ix[Pos.index[np.logical_and(Pos['Shortest Sentence']> .08333, \n",
    "                        np.logical_and(Pos['Total Words'] <= .3439, \n",
    "                        np.logical_and(Pos['Number of not Contractions'] > .113636,\n",
    "                        np.logical_and(Pos['Total Words']<= .21692,\n",
    "                        Pos['Average Sentence Length']> .19357))))]]\n",
    "\n",
    "py.plot(Neg11a['Average Sentence Length'],Neg11a['Average Sentence Length'],'ro')\n",
    "py.plot(Neg11b['Average Sentence Length'],-Neg11b['Longest Sentence'],'ro')\n",
    "py.plot(Pos11a['Average Sentence Length'],Pos11a['Average Sentence Length'],'go')\n",
    "py.plot(Pos11b['Average Sentence Length'],-Pos11b['Longest Sentence'],'go')\n",
    "plt.axhline(y=0, xmin=0, xmax=1, linewidth=1, color = 'k')\n",
    "plt.axvline(x=.19357, ymin=-1, ymax = 1, linewidth=1, color='k')"
   ]
  },
  {
   "cell_type": "code",
   "execution_count": 50,
   "metadata": {
    "collapsed": false
   },
   "outputs": [
    {
     "data": {
      "text/plain": [
       "<matplotlib.lines.Line2D at 0x60fee5f8>"
      ]
     },
     "execution_count": 50,
     "metadata": {},
     "output_type": "execute_result"
    },
    {
     "data": {
      "image/png": "[encoded data removed]",
      "text/plain": [
       "<matplotlib.figure.Figure at 0x738715c0>"
      ]
     },
     "metadata": {},
     "output_type": "display_data"
    }
   ],
   "source": [
    "#twelve\n",
    "\n",
    "Neg12a = Neg.ix[Neg.index[np.logical_and(Neg['Shortest Sentence']> .08333, \n",
    "                        np.logical_and(Neg['Total Words'] <= .3439, \n",
    "                        np.logical_and(Neg['Number of not Contractions'] > .113636,\n",
    "                        np.logical_and(Neg['Total Words']> .21692,\n",
    "                        Neg['Total Sentences']<= .25978))))]]\n",
    "Neg12b = Neg.ix[Neg.index[np.logical_and(Neg['Shortest Sentence']> .08333, \n",
    "                        np.logical_and(Neg['Total Words'] <= .3439, \n",
    "                        np.logical_and(Neg['Number of not Contractions'] > .113636,\n",
    "                        np.logical_and(Neg['Total Words']> .21692,\n",
    "                        Neg['Total Sentences']> .25978))))]]\n",
    "Pos12a = Pos.ix[Pos.index[np.logical_and(Pos['Shortest Sentence']> .08333, \n",
    "                        np.logical_and(Pos['Total Words'] <= .3439, \n",
    "                        np.logical_and(Pos['Number of not Contractions'] > .113636,\n",
    "                        np.logical_and(Pos['Total Words']> .21692,\n",
    "                        Pos['Total Sentences']<= .25978))))]]\n",
    "Pos12b = Pos.ix[Pos.index[np.logical_and(Pos['Shortest Sentence']> .08333, \n",
    "                        np.logical_and(Pos['Total Words'] <= .3439, \n",
    "                        np.logical_and(Pos['Number of not Contractions'] > .113636,\n",
    "                        np.logical_and(Pos['Total Words']> .21692,\n",
    "                        Pos['Total Sentences']> .25978))))]]\n",
    "\n",
    "py.plot(Neg12a['Total Sentences'],Neg12a['Average Sentence Length'],'ro')\n",
    "py.plot(Neg12b['Total Sentences'],-Neg12b['Closest Not'],'ro')\n",
    "py.plot(Pos12a['Total Sentences'],Pos12a['Average Sentence Length'],'go')\n",
    "py.plot(Pos12b['Total Sentences'],-Pos12b['Closest Not'],'go')\n",
    "plt.axhline(y=0, xmin=0, xmax=1, linewidth=1, color = 'k')\n",
    "plt.axvline(x=.25978, ymin=-1, ymax = 1, linewidth=1, color='k')"
   ]
  },
  {
   "cell_type": "code",
   "execution_count": 51,
   "metadata": {
    "collapsed": false
   },
   "outputs": [
    {
     "data": {
      "text/plain": [
       "<matplotlib.lines.Line2D at 0x61ff3400>"
      ]
     },
     "execution_count": 51,
     "metadata": {},
     "output_type": "execute_result"
    },
    {
     "data": {
      "image/png": "[encoded data removed]",
      "text/plain": [
       "<matplotlib.figure.Figure at 0x6100bb70>"
      ]
     },
     "metadata": {},
     "output_type": "display_data"
    }
   ],
   "source": [
    "#thirteen\n",
    "\n",
    "Neg13a = Neg.ix[Neg.index[np.logical_and(Neg['Shortest Sentence']> .08333, \n",
    "                        np.logical_and(Neg['Total Words'] > .3439, \n",
    "                        np.logical_and(Neg['Average Sentence Length'] <= .2522,\n",
    "                        np.logical_and(Neg['Average Sentence Length'] <= .2522,\n",
    "                        Neg['Average Sentence Length'] <= .2522))))]]\n",
    "Neg13b = Neg.ix[Neg.index[np.logical_and(Neg['Shortest Sentence']> .08333, \n",
    "                        np.logical_and(Neg['Total Words'] > .3439, \n",
    "                        np.logical_and(Neg['Average Sentence Length'] <= .2522,\n",
    "                        np.logical_and(Neg['Average Sentence Length'] <= .2522,\n",
    "                        Neg['Average Sentence Length'] <= .2522))))]]\n",
    "Pos13a = Pos.ix[Pos.index[np.logical_and(Pos['Shortest Sentence']> .08333, \n",
    "                        np.logical_and(Pos['Total Words'] > .3439, \n",
    "                        np.logical_and(Pos['Average Sentence Length'] <= .2522,\n",
    "                        np.logical_and(Pos['Average Sentence Length'] <= .2522,\n",
    "                        Pos['Average Sentence Length'] <= .2522))))]]\n",
    "Pos13b = Pos.ix[Pos.index[np.logical_and(Pos['Shortest Sentence']> .08333, \n",
    "                        np.logical_and(Pos['Total Words'] > .3439, \n",
    "                        np.logical_and(Pos['Average Sentence Length'] <= .2522,\n",
    "                        np.logical_and(Pos['Average Sentence Length'] <= .2522,\n",
    "                        Pos['Average Sentence Length'] <= .2522))))]]\n",
    "\n",
    "py.plot(Neg13a['Total Words'],Neg13a['Average Sentence Length'],'ro')\n",
    "#py.plot(Neg12b['Total Sentences'],-Neg12b['Closest Not'],'ro')\n",
    "py.plot(Pos13a['Total Words'],Pos13a['Average Sentence Length'],'go')\n",
    "#py.plot(Pos12b['Total Sentences'],-Pos12b['Closest Not'],'go')\n",
    "plt.axhline(y=0, xmin=0, xmax=1, linewidth=1, color = 'k')\n",
    "plt.axvline(x=.2522, ymin=-1, ymax = 1, linewidth=1, color='k')"
   ]
  },
  {
   "cell_type": "code",
   "execution_count": 52,
   "metadata": {
    "collapsed": false
   },
   "outputs": [
    {
     "data": {
      "text/plain": [
       "<matplotlib.lines.Line2D at 0x65b46160>"
      ]
     },
     "execution_count": 52,
     "metadata": {},
     "output_type": "execute_result"
    },
    {
     "data": {
      "image/png": "[encoded data removed]",
      "text/plain": [
       "<matplotlib.figure.Figure at 0x61f9e5c0>"
      ]
     },
     "metadata": {},
     "output_type": "display_data"
    }
   ],
   "source": [
    "#fifteen\n",
    "\n",
    "Neg15a = Neg.ix[Neg.index[np.logical_and(Neg['Shortest Sentence']> .08333, \n",
    "                        np.logical_and(Neg['Total Words'] > .3439, \n",
    "                        np.logical_and(Neg['Average Sentence Length'] > .2522,\n",
    "                        np.logical_and(Neg['Last Sentence Length'] <= .7165,\n",
    "                        Neg['First Sentence Length'] <= .2647))))]]\n",
    "Neg15b = Neg.ix[Neg.index[np.logical_and(Neg['Shortest Sentence']> .08333, \n",
    "                        np.logical_and(Neg['Total Words'] > .3439, \n",
    "                        np.logical_and(Neg['Average Sentence Length'] > .2522,\n",
    "                        np.logical_and(Neg['Last Sentence Length'] <= .7165,\n",
    "                        Neg['First Sentence Length'] > .2647))))]]\n",
    "Pos15a = Pos.ix[Pos.index[np.logical_and(Pos['Shortest Sentence']> .08333, \n",
    "                        np.logical_and(Pos['Total Words'] > .3439, \n",
    "                        np.logical_and(Pos['Average Sentence Length'] > .2522,\n",
    "                        np.logical_and(Pos['Last Sentence Length'] <= .7165,\n",
    "                        Pos['First Sentence Length'] <= .2647))))]]\n",
    "Pos15b = Pos.ix[Pos.index[np.logical_and(Pos['Shortest Sentence']> .08333, \n",
    "                        np.logical_and(Pos['Total Words'] > .3439, \n",
    "                        np.logical_and(Pos['Average Sentence Length'] > .2522,\n",
    "                        np.logical_and(Pos['Last Sentence Length'] <= .7165,\n",
    "                        Pos['First Sentence Length'] > .2647))))]]\n",
    "\n",
    "py.plot(Neg15a['First Sentence Length'],Neg15a['Total Words'],'ro')\n",
    "py.plot(Neg15b['First Sentence Length'],-Neg15b['Longest Sentence'],'ro')\n",
    "py.plot(Pos15a['First Sentence Length'],Pos15a['Total Words'],'go')\n",
    "py.plot(Pos15b['First Sentence Length'],-Pos15b['Longest Sentence'],'go')\n",
    "\n",
    "plt.axhline(y=0, xmin=0, xmax=1, linewidth=1, color = 'k')\n",
    "plt.axvline(x=.2647, ymin=-1, ymax = 1, linewidth=1, color='k')"
   ]
  },
  {
   "cell_type": "code",
   "execution_count": 53,
   "metadata": {
    "collapsed": false
   },
   "outputs": [
    {
     "data": {
      "text/plain": [
       "<matplotlib.lines.Line2D at 0x6579edd8>"
      ]
     },
     "execution_count": 53,
     "metadata": {},
     "output_type": "execute_result"
    },
    {
     "data": {
      "image/png": "[encoded data removed]",
      "text/plain": [
       "<matplotlib.figure.Figure at 0x6200d978>"
      ]
     },
     "metadata": {},
     "output_type": "display_data"
    }
   ],
   "source": [
    "#sixteen\n",
    "\n",
    "Neg16a = Neg.ix[Neg.index[np.logical_and(Neg['Shortest Sentence']> .08333, \n",
    "                        np.logical_and(Neg['Total Words'] > .3439, \n",
    "                        np.logical_and(Neg['Average Sentence Length'] > .2522,\n",
    "                        np.logical_and(Neg['Last Sentence Length'] > .7165,\n",
    "                        Neg['Last Sentence Length'] > .7165))))]]\n",
    "Neg16b = Neg.ix[Neg.index[np.logical_and(Neg['Shortest Sentence']> .08333, \n",
    "                        np.logical_and(Neg['Total Words'] > .3439, \n",
    "                        np.logical_and(Neg['Average Sentence Length'] > .2522,\n",
    "                        np.logical_and(Neg['Last Sentence Length'] > .7165,\n",
    "                        Neg['Last Sentence Length'] > .7165))))]]\n",
    "Pos16a = Pos.ix[Pos.index[np.logical_and(Pos['Shortest Sentence']> .08333, \n",
    "                        np.logical_and(Pos['Total Words'] > .3439, \n",
    "                        np.logical_and(Pos['Average Sentence Length'] > .2522,\n",
    "                        np.logical_and(Pos['Last Sentence Length'] > .7165,\n",
    "                        Pos['Last Sentence Length'] > .7165))))]]\n",
    "Pos16b = Pos.ix[Pos.index[np.logical_and(Pos['Shortest Sentence']> .08333, \n",
    "                        np.logical_and(Pos['Total Words'] > .3439, \n",
    "                        np.logical_and(Pos['Average Sentence Length'] > .2522,\n",
    "                        np.logical_and(Pos['Last Sentence Length'] > .7165,\n",
    "                        Pos['Last Sentence Length'] > .7165))))]]\n",
    "\n",
    "py.plot(Neg16a['Average Sentence Length'],Neg16a['Last Sentence Length'],'ro')\n",
    "#py.plot(Neg16b['First Sentence Length'],-Neg16b['Longest Sentence'],'ro')\n",
    "py.plot(Pos16a['Average Sentence Length'],Pos16a['Last Sentence Length'],'go')\n",
    "#py.plot(Pos16b['First Sentence Length'],-Pos16b['Longest Sentence'],'go')\n",
    "plt.axhline(y=0, xmin=0, xmax=1, linewidth=1, color = 'k')\n",
    "plt.axvline(x=.7165, ymin=-1, ymax = 1, linewidth=1, color='k')"
   ]
  },
  {
   "cell_type": "markdown",
   "metadata": {},
   "source": [
    "# Report: communicate the results (20 points)\n",
    "\n",
    "(1) (5 points) What data you collected?\n",
    "\n",
    "(2) (5 points) Why this topic is interesting or important to you? (Motivations)\n",
    "\n",
    "(3) (5 points) How did you analyse the data?\n",
    "\n",
    "(4) (5 points) What did you find in the data?\n",
    "(please include figures or tables in the report, but no source code)"
   ]
  },
  {
   "cell_type": "markdown",
   "metadata": {},
   "source": [
    "# Slides (for 10 minutes of presentation) (20 points)\n",
    "\n",
    "\n",
    "1. (5 points) Motivation about the data collection, why the topic is interesting to you. \n",
    "\n",
    "2. (10 points) Communicating Results (figure/table)\n",
    "\n",
    "3. (5 points) Story telling (How all the parts (data, analysis, result) fit together as a story?)"
   ]
  },
  {
   "cell_type": "markdown",
   "metadata": {},
   "source": [
    "*-----------------\n",
    "# Done\n",
    "\n",
    "All set! \n",
    "\n",
    "** What do you need to submit?**\n",
    "\n",
    "* **Notebook File**: Save this IPython notebook, and find the notebook file in your folder (for example, \"filename.ipynb\"). This is the file you need to submit. Please make sure all the plotted tables and figures are in the notebook. If you used \"ipython notebook --pylab=inline\" to open the notebook, all the figures and tables should have shown up in the notebook.\n",
    "\n",
    "\n",
    "* **PPT Slides**: please prepare PPT slides (for 10 minutes' talk) to present about the case study . We will ask two teams which are randomly selected to present their case studies in class for this case study. \n",
    "\n",
    "* ** Report**: please prepare a report (less than 10 pages) to report what you found in the data.\n",
    "    * What is the relationship between this topic and Business Intelligence?\n",
    "    * How did you analyse the data?\n",
    "    * What did you find in the data? \n",
    "    * What conjectures did you make and how did you support or disprove them using data?\n",
    "    * Did you find anything suprising in the data?\n",
    "    * What business decision do you think this data could help answer?  Why?\n",
    "\n",
    "     (please include figures or tables in the report, but no source code)\n",
    "\n",
    "*Please compress all the files into a single zipped file.*\n",
    "\n",
    "\n",
    "** How to submit: **\n",
    "\n",
    "        Send an email to rcpaffenroth@wpi.edu with the subject: \"[DS501] Case study 3\"."
   ]
  }
 ],
 "metadata": {
  "kernelspec": {
   "display_name": "Python 2",
   "language": "python",
   "name": "python2"
  },
  "language_info": {
   "codemirror_mode": {
    "name": "ipython",
    "version": 2
   },
   "file_extension": ".py",
   "mimetype": "text/x-python",
   "name": "python",
   "nbconvert_exporter": "python",
   "pygments_lexer": "ipython2",
   "version": "2.7.10"
  }
 },
 "nbformat": 4,
 "nbformat_minor": 0
}
