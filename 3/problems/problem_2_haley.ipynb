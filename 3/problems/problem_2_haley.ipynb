{
 "cells": [
  {
   "cell_type": "markdown",
   "metadata": {},
   "source": [
    "### Case Study 3 : Textual analysis of movie reviews\n",
    "\n",
    "** Due Date: April 6, 2016 5:59PM**\n",
    "\n",
    "*------------"
   ]
  },
  {
   "cell_type": "markdown",
   "metadata": {},
   "source": [
    "<img src=\"http://www.conversational-technologies.com/nldemos/nlWordle.GIF\">"
   ]
  },
  {
   "cell_type": "markdown",
   "metadata": {},
   "source": [
    "**TEAM Members:**\n",
    "\n",
    "Helen Hong\n",
    "Haley Huang\n",
    "Tom Meagher\n",
    "Tyler Reese"
   ]
  },
  {
   "cell_type": "markdown",
   "metadata": {},
   "source": [
    "**Desired outcome of the case study.**\n",
    "* In this case study we will look at movie reviews from the v2.0 polarity dataset comes from\n",
    "the http://www.cs.cornell.edu/people/pabo/movie-review-data.\n",
    "    * It contains written reviews of movies divided into positive and negative reviews.\n",
    "* As in Case Study 2 idea is to *analyze* the data set, make *conjectures*, support or refute those conjectures with *data*, and *tell a story* about the data!\n",
    "    \n",
    "**Required Readings:** \n",
    "* This case study will be based upon the scikit-learn Python library\n",
    "* We will build upon the turtorial \"Working With Text Data\" which can be found at http://scikit-learn.org/stable/tutorial/text_analytics/working_with_text_data.html\n",
    "\n",
    "**Case study assumptions:**\n",
    "* You have access to a python installation\n",
    "\n",
    "**Required Python libraries:**\n",
    "* Numpy (www.numpy.org) (should already be installed from Case Study 2)\n",
    "* Matplotlib (matplotlib.org) (should already be installed from Case Study 2)\n",
    "* Scikit-learn (scikit-learn.org) (avaiable from Enthought Canopy)\n",
    "* You are also welcome to use the Python Natural Language Processing Toolkit (www.nltk.org) (though it is not required).\n",
    "\n",
    "** NOTE **\n",
    "* Please don't forget to save the notebook frequently when working in IPython Notebook, otherwise the changes you made can be lost.\n",
    "\n",
    "*----------------------"
   ]
  },
  {
   "cell_type": "markdown",
   "metadata": {},
   "source": [
    "## Problem 1 (20 points): Complete Exercise 2: Sentiment Analysis on movie reviews from http://scikit-learn.org/stable/tutorial/text_analytics/working_with_text_data.html"
   ]
  },
  {
   "cell_type": "markdown",
   "metadata": {},
   "source": [
    "* Assuming that you have downloaded the scikit-learn source code:\n",
    "    * The data can be downloaded using doc/tutorial/text_analytics/data/movie_reviews/fetch_data.py\n",
    "    * A skeleton for the solution can be found in doc/tutorial/text_analytics/skeletons/exercise_02_sentiment.py\n",
    "    * A completed solution can be found in doc/tutorial/text_analytics/solutions/exercise_02_sentiment.py\n",
    "* **It is ok to use the solution provided in the scikit-learn distribution as a starting place for your work.**\n",
    "\n",
    "### Modify the solution to Exercise 2 so that it can run in this iPython notebook\n",
    "* This will likely involved moving around data files and/or small modifications to the script.\n",
    "* [Upgrade Scikit Learn on Mac OS X](http://stackoverflow.com/questions/12219657/upgrade-version-of-scikit-learn-included-in-enthought-canopy-distribution)"
   ]
  },
  {
   "cell_type": "markdown",
   "metadata": {},
   "source": [
    "#### Global Imports"
   ]
  },
  {
   "cell_type": "code",
   "execution_count": 1,
   "metadata": {
    "collapsed": true
   },
   "outputs": [],
   "source": [
    "import numpy as np\n",
    "import pandas as pa\n",
    "import matplotlib.pylab as py\n",
    "import matplotlib.pyplot as plt\n",
    "import scipy\n",
    "from time import time\n",
    "\n",
    "%matplotlib inline"
   ]
  },
  {
   "cell_type": "markdown",
   "metadata": {},
   "source": [
    "#### Load data"
   ]
  },
  {
   "cell_type": "code",
   "execution_count": 2,
   "metadata": {
    "collapsed": false
   },
   "outputs": [
    {
     "name": "stdout",
     "output_type": "stream",
     "text": [
      "n_samples: 1999\n"
     ]
    }
   ],
   "source": [
    "from sklearn.feature_extraction.text import TfidfVectorizer\n",
    "from sklearn.svm import LinearSVC\n",
    "from sklearn.pipeline import Pipeline\n",
    "from sklearn.grid_search import GridSearchCV\n",
    "from sklearn.datasets import load_files\n",
    "from sklearn.cross_validation import train_test_split\n",
    "from sklearn import metrics\n",
    "\n",
    "dataset = load_files(container_path= 'txt_sentoken')\n",
    "print(\"n_samples: %d\" % len(dataset.data))"
   ]
  },
  {
   "cell_type": "markdown",
   "metadata": {},
   "source": [
    "#### Split data into training (75%) and testing (25%) sets"
   ]
  },
  {
   "cell_type": "code",
   "execution_count": 3,
   "metadata": {
    "collapsed": false
   },
   "outputs": [],
   "source": [
    "docs_train, docs_test, y_train, y_test = train_test_split(\n",
    "    dataset.data, dataset.target, test_size=0.25, random_state=None)"
   ]
  },
  {
   "cell_type": "markdown",
   "metadata": {},
   "source": [
    "#### Build pipeline"
   ]
  },
  {
   "cell_type": "code",
   "execution_count": 5,
   "metadata": {
    "collapsed": true
   },
   "outputs": [],
   "source": [
    "from sklearn.pipeline import Pipeline\n",
    "from sklearn.feature_extraction.text import CountVectorizer\n",
    "from sklearn.feature_extraction.text import TfidfVectorizer\n",
    "from sklearn.feature_extraction.text import TfidfTransformer\n",
    "from sklearn.naive_bayes import MultinomialNB\n"
   ]
  },
  {
   "cell_type": "markdown",
   "metadata": {},
   "source": [
    "## Problem 2 (20 points): Explore the scikit-learn TfidVectorizer class\n",
    "\n",
    "**Read the documentation for the TfidVectorizer class at http://scikit-learn.org/stable/modules/generated/sklearn.feature_extraction.text.TfidfVectorizer.html.** \n",
    "* Define the term frequency–inverse document frequency (TF-IDF) statistic (http://en.wikipedia.org/wiki/Tf%E2%80%93idf will likely help).\n",
    "* Run the TfidVectorizer class on the training data above (docs_train).\n",
    "* Explore the min_df and max_df parameters of TfidVectorizer.  What do they mean? How do they change the features you get?\n",
    "* Explore the ngram_range parameter of TfidVectorizer.  What does it mean? How does it change the features you get? (Note, large values  of ngram_range may take a long time to run!)"
   ]
  },
  {
   "cell_type": "markdown",
   "metadata": {},
   "source": [
    "#### Parameters in tf-idf Vectorizer\n",
    "* **min_df**: filter all terms with frequency lower than this value\n",
    "* **max-df**: filter all terms with frequecy greater than this value, used to filter out stop words.\n",
    "* **n-gram range**: How many n-gram words are to be considered"
   ]
  },
  {
   "cell_type": "code",
   "execution_count": 26,
   "metadata": {
    "collapsed": false
   },
   "outputs": [
    {
     "name": "stderr",
     "output_type": "stream",
     "text": [
      "/Users/Haley_Prusevich/Library/Enthought/Canopy_64bit/User/lib/python2.7/site-packages/matplotlib/__init__.py:872: UserWarning: axes.color_cycle is deprecated and replaced with axes.prop_cycle; please use the latter.\n",
      "  warnings.warn(self.msg_depr % (key, alt_key))\n"
     ]
    },
    {
     "data": {
      "image/png": "[encoded data removed]",
      "text/plain": [
       "<matplotlib.figure.Figure at 0x11af1a990>"
      ]
     },
     "metadata": {},
     "output_type": "display_data"
    },
    {
     "name": "stdout",
     "output_type": "stream",
     "text": [
      "<ggplot: (313384905)>\n"
     ]
    },
    {
     "data": {
      "image/png": "[encoded data removed]",
      "text/plain": [
       "<matplotlib.figure.Figure at 0x1271a4310>"
      ]
     },
     "metadata": {},
     "output_type": "display_data"
    },
    {
     "name": "stdout",
     "output_type": "stream",
     "text": [
      "<ggplot: (309433565)>\n"
     ]
    }
   ],
   "source": [
    "#exploer how the min_df and max_df change the number of features we get \n",
    "import numpy as np\n",
    "value_range=np.arange(0.01,0.99,0.01)\n",
    "y1=[TfidfVectorizer(min_df=x).fit_transform(docs_train).shape[1] for x in value_range]\n",
    "y2=[TfidfVectorizer(max_df=x).fit_transform(docs_train).shape[1] for x in value_range]\n",
    "from ggplot import *\n",
    "print qplot(value_range,y=y1,geom='line')+xlab('min_df')+ylab('features')\n",
    "print qplot(value_range,y=y2,geom='line')+xlab('max_df')+ylab('features')"
   ]
  },
  {
   "cell_type": "code",
   "execution_count": 27,
   "metadata": {
    "collapsed": false
   },
   "outputs": [
    {
     "data": {
      "text/plain": [
       "<matplotlib.text.Text at 0x11d730290>"
      ]
     },
     "execution_count": 27,
     "metadata": {},
     "output_type": "execute_result"
    },
    {
     "data": {
      "image/png": "[encoded data removed]",
      "text/plain": [
       "<matplotlib.figure.Figure at 0x11fee42d0>"
      ]
     },
     "metadata": {},
     "output_type": "display_data"
    }
   ],
   "source": [
    "#exploer how the ngram_range change the number of features we get \n",
    "x=[1 for i in range(10)]\n",
    "y=np.arange(10)+1\n",
    "parameter=zip(x,y)\n",
    "y3=[TfidfVectorizer(ngram_range=i).fit_transform(docs_train).shape[1] for i in parameter]\n",
    "fig=plt.figure(figsize=(8,6))\n",
    "plt.plot([1,2,3,4,5,6,7,8,9,10],y3,'b--o')\n",
    "plt.xlabel('ngram')\n",
    "plt.ylabel('features')"
   ]
  },
  {
   "cell_type": "code",
   "execution_count": 6,
   "metadata": {
    "collapsed": true
   },
   "outputs": [],
   "source": [
    "#setting max_df and n_gram_range as default, we choose min_df in [1,2,3,4,5] seperately, \n",
    "#and store the corresponding Xtrain and Xtest into min_df_data array.\n",
    "min_df_data=[(TfidfVectorizer(min_df=i).fit_transform(docs_train).toarray(),\n",
    "TfidfVectorizer(min_df=i).fit(docs_train).transform(docs_test).toarray()) for i in [1,2,3,4,5]]"
   ]
  },
  {
   "cell_type": "code",
   "execution_count": 7,
   "metadata": {
    "collapsed": true
   },
   "outputs": [],
   "source": [
    "#setting min_df and n_gram_range as default, we choose max_df in [0.70,0.75,0.8,0.85, 0.9, 0.95,1] seperately, \n",
    "#and store the corresponding Xtrain and Xtest into max_df_data array.\n",
    "max_df_data=[(TfidfVectorizer(max_df=i).fit_transform(docs_train).toarray(),\n",
    "TfidfVectorizer(max_df=i).fit(docs_train).transform(docs_test).toarray()) for i in [0.70,0.75,0.8, 0.85, 0.90, 0.95,1.0]]"
   ]
  },
  {
   "cell_type": "code",
   "execution_count": 8,
   "metadata": {
    "collapsed": true
   },
   "outputs": [],
   "source": [
    "#setting min_df and max_df as default, we choose ngram_range in [1,2,3] seperately, \n",
    "#and store the corresponding Xtrain and Xtest into ngram_range_data array.\n",
    "ngram_range_data=[(TfidfVectorizer(ngram_range=i).fit_transform(docs_train),\n",
    "TfidfVectorizer(ngram_range=i).fit(docs_train).transform(docs_test)) for i in [(1,1),(1,2),(1,3)]]\n",
    "             "
   ]
  },
  {
   "cell_type": "code",
   "execution_count": 9,
   "metadata": {
    "collapsed": false
   },
   "outputs": [
    {
     "name": "stdout",
     "output_type": "stream",
     "text": [
      "Fitting 3 folds for each of 2 candidates, totalling 6 fits\n"
     ]
    },
    {
     "name": "stderr",
     "output_type": "stream",
     "text": [
      "[Parallel(n_jobs=-1)]: Done   7 out of   6 | elapsed:    5.3s remaining:   -0.8s\n",
      "[Parallel(n_jobs=-1)]: Done   7 out of   6 | elapsed:    5.3s remaining:   -0.8s\n",
      "[Parallel(n_jobs=-1)]: Done   7 out of   6 | elapsed:    5.4s remaining:   -0.8s\n",
      "[Parallel(n_jobs=-1)]: Done   7 out of   6 | elapsed:    6.7s remaining:   -1.0s\n",
      "[Parallel(n_jobs=-1)]: Done   7 out of   6 | elapsed:    8.2s remaining:   -1.2s\n",
      "[Parallel(n_jobs=-1)]: Done   6 out of   6 | elapsed:    8.2s finished\n"
     ]
    },
    {
     "name": "stdout",
     "output_type": "stream",
     "text": [
      "Fitting 3 folds for each of 2 candidates, totalling 6 fits\n"
     ]
    },
    {
     "name": "stderr",
     "output_type": "stream",
     "text": [
      "[Parallel(n_jobs=-1)]: Done   7 out of   6 | elapsed:    3.0s remaining:   -0.4s\n",
      "[Parallel(n_jobs=-1)]: Done   7 out of   6 | elapsed:    3.9s remaining:   -0.6s\n",
      "[Parallel(n_jobs=-1)]: Done   7 out of   6 | elapsed:    4.0s remaining:   -0.6s\n",
      "[Parallel(n_jobs=-1)]: Done   7 out of   6 | elapsed:    4.0s remaining:   -0.6s\n",
      "[Parallel(n_jobs=-1)]: Done   7 out of   6 | elapsed:    4.9s remaining:   -0.7s\n",
      "[Parallel(n_jobs=-1)]: Done   6 out of   6 | elapsed:    4.9s finished\n"
     ]
    },
    {
     "name": "stdout",
     "output_type": "stream",
     "text": [
      "Fitting 3 folds for each of 2 candidates, totalling 6 fits\n"
     ]
    },
    {
     "name": "stderr",
     "output_type": "stream",
     "text": [
      "[Parallel(n_jobs=-1)]: Done   7 out of   6 | elapsed:    2.3s remaining:   -0.3s\n",
      "[Parallel(n_jobs=-1)]: Done   7 out of   6 | elapsed:    3.0s remaining:   -0.4s\n",
      "[Parallel(n_jobs=-1)]: Done   7 out of   6 | elapsed:    3.0s remaining:   -0.4s\n",
      "[Parallel(n_jobs=-1)]: Done   7 out of   6 | elapsed:    3.0s remaining:   -0.4s\n",
      "[Parallel(n_jobs=-1)]: Done   7 out of   6 | elapsed:    3.5s remaining:   -0.5s\n",
      "[Parallel(n_jobs=-1)]: Done   6 out of   6 | elapsed:    3.5s finished\n"
     ]
    },
    {
     "name": "stdout",
     "output_type": "stream",
     "text": [
      "Fitting 3 folds for each of 2 candidates, totalling 6 fits\n"
     ]
    },
    {
     "name": "stderr",
     "output_type": "stream",
     "text": [
      "[Parallel(n_jobs=-1)]: Done   7 out of   6 | elapsed:    1.7s remaining:   -0.2s\n",
      "[Parallel(n_jobs=-1)]: Done   7 out of   6 | elapsed:    1.8s remaining:   -0.3s\n",
      "[Parallel(n_jobs=-1)]: Done   7 out of   6 | elapsed:    2.1s remaining:   -0.3s\n",
      "[Parallel(n_jobs=-1)]: Done   7 out of   6 | elapsed:    2.2s remaining:   -0.3s\n",
      "[Parallel(n_jobs=-1)]: Done   7 out of   6 | elapsed:    2.4s remaining:   -0.3s\n",
      "[Parallel(n_jobs=-1)]: Done   6 out of   6 | elapsed:    2.4s finished\n"
     ]
    },
    {
     "name": "stdout",
     "output_type": "stream",
     "text": [
      "Fitting 3 folds for each of 2 candidates, totalling 6 fits\n"
     ]
    },
    {
     "name": "stderr",
     "output_type": "stream",
     "text": [
      "[Parallel(n_jobs=-1)]: Done   7 out of   6 | elapsed:    1.3s remaining:   -0.2s\n",
      "[Parallel(n_jobs=-1)]: Done   7 out of   6 | elapsed:    1.4s remaining:   -0.2s\n",
      "[Parallel(n_jobs=-1)]: Done   7 out of   6 | elapsed:    1.7s remaining:   -0.2s\n",
      "[Parallel(n_jobs=-1)]: Done   7 out of   6 | elapsed:    1.9s remaining:   -0.3s\n",
      "[Parallel(n_jobs=-1)]: Done   7 out of   6 | elapsed:    2.0s remaining:   -0.3s\n",
      "[Parallel(n_jobs=-1)]: Done   6 out of   6 | elapsed:    2.0s finished\n"
     ]
    },
    {
     "name": "stdout",
     "output_type": "stream",
     "text": [
      "Fitting 3 folds for each of 2 candidates, totalling 6 fits\n"
     ]
    },
    {
     "name": "stderr",
     "output_type": "stream",
     "text": [
      "[Parallel(n_jobs=-1)]: Done   7 out of   6 | elapsed:    2.2s remaining:   -0.3s\n",
      "[Parallel(n_jobs=-1)]: Done   7 out of   6 | elapsed:    3.7s remaining:   -0.5s\n",
      "[Parallel(n_jobs=-1)]: Done   7 out of   6 | elapsed:    3.9s remaining:   -0.6s\n",
      "[Parallel(n_jobs=-1)]: Done   7 out of   6 | elapsed:    3.9s remaining:   -0.6s\n",
      "[Parallel(n_jobs=-1)]: Done   7 out of   6 | elapsed:    4.8s remaining:   -0.7s\n",
      "[Parallel(n_jobs=-1)]: Done   6 out of   6 | elapsed:    4.8s finished\n"
     ]
    },
    {
     "name": "stdout",
     "output_type": "stream",
     "text": [
      "Fitting 3 folds for each of 2 candidates, totalling 6 fits\n"
     ]
    },
    {
     "name": "stderr",
     "output_type": "stream",
     "text": [
      "[Parallel(n_jobs=-1)]: Done   7 out of   6 | elapsed:    4.1s remaining:   -0.6s\n",
      "[Parallel(n_jobs=-1)]: Done   7 out of   6 | elapsed:    4.1s remaining:   -0.6s\n",
      "[Parallel(n_jobs=-1)]: Done   7 out of   6 | elapsed:    4.2s remaining:   -0.6s\n",
      "[Parallel(n_jobs=-1)]: Done   7 out of   6 | elapsed:    4.3s remaining:   -0.6s\n",
      "[Parallel(n_jobs=-1)]: Done   7 out of   6 | elapsed:    6.1s remaining:   -0.9s\n",
      "[Parallel(n_jobs=-1)]: Done   6 out of   6 | elapsed:    6.1s finished\n"
     ]
    },
    {
     "name": "stdout",
     "output_type": "stream",
     "text": [
      "Fitting 3 folds for each of 2 candidates, totalling 6 fits\n"
     ]
    },
    {
     "name": "stderr",
     "output_type": "stream",
     "text": [
      "[Parallel(n_jobs=-1)]: Done   7 out of   6 | elapsed:    3.1s remaining:   -0.4s\n",
      "[Parallel(n_jobs=-1)]: Done   7 out of   6 | elapsed:    4.0s remaining:   -0.6s\n",
      "[Parallel(n_jobs=-1)]: Done   7 out of   6 | elapsed:    4.1s remaining:   -0.6s\n",
      "[Parallel(n_jobs=-1)]: Done   7 out of   6 | elapsed:    4.1s remaining:   -0.6s\n",
      "[Parallel(n_jobs=-1)]: Done   7 out of   6 | elapsed:    5.5s remaining:   -0.8s\n",
      "[Parallel(n_jobs=-1)]: Done   6 out of   6 | elapsed:    5.5s finished\n"
     ]
    },
    {
     "name": "stdout",
     "output_type": "stream",
     "text": [
      "Fitting 3 folds for each of 2 candidates, totalling 6 fits\n"
     ]
    },
    {
     "name": "stderr",
     "output_type": "stream",
     "text": [
      "[Parallel(n_jobs=-1)]: Done   7 out of   6 | elapsed:    3.1s remaining:   -0.4s\n",
      "[Parallel(n_jobs=-1)]: Done   7 out of   6 | elapsed:    4.0s remaining:   -0.6s\n",
      "[Parallel(n_jobs=-1)]: Done   7 out of   6 | elapsed:    4.1s remaining:   -0.6s\n",
      "[Parallel(n_jobs=-1)]: Done   7 out of   6 | elapsed:    4.1s remaining:   -0.6s\n",
      "[Parallel(n_jobs=-1)]: Done   7 out of   6 | elapsed:    4.9s remaining:   -0.7s\n",
      "[Parallel(n_jobs=-1)]: Done   6 out of   6 | elapsed:    4.9s finished\n"
     ]
    },
    {
     "name": "stdout",
     "output_type": "stream",
     "text": [
      "Fitting 3 folds for each of 2 candidates, totalling 6 fits\n"
     ]
    },
    {
     "name": "stderr",
     "output_type": "stream",
     "text": [
      "[Parallel(n_jobs=-1)]: Done   7 out of   6 | elapsed:    2.7s remaining:   -0.4s\n",
      "[Parallel(n_jobs=-1)]: Done   7 out of   6 | elapsed:    4.1s remaining:   -0.6s\n",
      "[Parallel(n_jobs=-1)]: Done   7 out of   6 | elapsed:    4.1s remaining:   -0.6s\n",
      "[Parallel(n_jobs=-1)]: Done   7 out of   6 | elapsed:    4.2s remaining:   -0.6s\n",
      "[Parallel(n_jobs=-1)]: Done   7 out of   6 | elapsed:    5.4s remaining:   -0.8s\n",
      "[Parallel(n_jobs=-1)]: Done   6 out of   6 | elapsed:    5.4s finished\n"
     ]
    },
    {
     "name": "stdout",
     "output_type": "stream",
     "text": [
      "Fitting 3 folds for each of 2 candidates, totalling 6 fits\n"
     ]
    },
    {
     "name": "stderr",
     "output_type": "stream",
     "text": [
      "[Parallel(n_jobs=-1)]: Done   7 out of   6 | elapsed:    4.1s remaining:   -0.6s\n",
      "[Parallel(n_jobs=-1)]: Done   7 out of   6 | elapsed:    4.1s remaining:   -0.6s\n",
      "[Parallel(n_jobs=-1)]: Done   7 out of   6 | elapsed:    4.1s remaining:   -0.6s\n",
      "[Parallel(n_jobs=-1)]: Done   7 out of   6 | elapsed:    4.2s remaining:   -0.6s\n",
      "[Parallel(n_jobs=-1)]: Done   7 out of   6 | elapsed:    5.9s remaining:   -0.8s\n",
      "[Parallel(n_jobs=-1)]: Done   6 out of   6 | elapsed:    5.9s finished\n"
     ]
    },
    {
     "name": "stdout",
     "output_type": "stream",
     "text": [
      "Fitting 3 folds for each of 2 candidates, totalling 6 fits\n"
     ]
    },
    {
     "name": "stderr",
     "output_type": "stream",
     "text": [
      "[Parallel(n_jobs=-1)]: Done   7 out of   6 | elapsed:    4.1s remaining:   -0.6s\n",
      "[Parallel(n_jobs=-1)]: Done   7 out of   6 | elapsed:    4.2s remaining:   -0.6s\n",
      "[Parallel(n_jobs=-1)]: Done   7 out of   6 | elapsed:    4.3s remaining:   -0.6s\n",
      "[Parallel(n_jobs=-1)]: Done   7 out of   6 | elapsed:    5.4s remaining:   -0.8s\n",
      "[Parallel(n_jobs=-1)]: Done   7 out of   6 | elapsed:    6.3s remaining:   -0.9s\n",
      "[Parallel(n_jobs=-1)]: Done   6 out of   6 | elapsed:    6.3s finished\n"
     ]
    },
    {
     "name": "stdout",
     "output_type": "stream",
     "text": [
      "Fitting 3 folds for each of 2 candidates, totalling 6 fits\n"
     ]
    },
    {
     "name": "stderr",
     "output_type": "stream",
     "text": [
      "[Parallel(n_jobs=-1)]: Done   7 out of   6 | elapsed:    0.6s remaining:   -0.1s\n",
      "[Parallel(n_jobs=-1)]: Done   7 out of   6 | elapsed:    1.9s remaining:   -0.3s\n",
      "[Parallel(n_jobs=-1)]: Done   7 out of   6 | elapsed:    2.2s remaining:   -0.3s\n",
      "[Parallel(n_jobs=-1)]: Done   7 out of   6 | elapsed:    2.2s remaining:   -0.3s\n",
      "[Parallel(n_jobs=-1)]: Done   7 out of   6 | elapsed:    2.4s remaining:   -0.3s\n",
      "[Parallel(n_jobs=-1)]: Done   6 out of   6 | elapsed:    2.4s finished\n"
     ]
    },
    {
     "name": "stdout",
     "output_type": "stream",
     "text": [
      "Fitting 3 folds for each of 2 candidates, totalling 6 fits\n"
     ]
    },
    {
     "name": "stderr",
     "output_type": "stream",
     "text": [
      "[Parallel(n_jobs=-1)]: Done   7 out of   6 | elapsed:    6.2s remaining:   -0.9s\n",
      "[Parallel(n_jobs=-1)]: Done   7 out of   6 | elapsed:   20.6s remaining:   -2.9s\n",
      "[Parallel(n_jobs=-1)]: Done   7 out of   6 | elapsed:   21.2s remaining:   -3.0s\n",
      "[Parallel(n_jobs=-1)]: Done   7 out of   6 | elapsed:   21.2s remaining:   -3.0s\n",
      "[Parallel(n_jobs=-1)]: Done   7 out of   6 | elapsed:   22.7s remaining:   -3.2s\n",
      "[Parallel(n_jobs=-1)]: Done   6 out of   6 | elapsed:   22.7s finished\n"
     ]
    },
    {
     "name": "stdout",
     "output_type": "stream",
     "text": [
      "Fitting 3 folds for each of 2 candidates, totalling 6 fits\n"
     ]
    },
    {
     "name": "stderr",
     "output_type": "stream",
     "text": [
      "[Parallel(n_jobs=-1)]: Done   7 out of   6 | elapsed:   22.3s remaining:   -3.2s\n",
      "[Parallel(n_jobs=-1)]: Done   7 out of   6 | elapsed:   27.3s remaining:   -3.9s\n",
      "[Parallel(n_jobs=-1)]: Done   7 out of   6 | elapsed:   37.4s remaining:   -5.3s\n",
      "[Parallel(n_jobs=-1)]: Done   7 out of   6 | elapsed:   37.4s remaining:   -5.3s\n",
      "[Parallel(n_jobs=-1)]: Done   7 out of   6 | elapsed:   42.7s remaining:   -6.1s\n",
      "[Parallel(n_jobs=-1)]: Done   6 out of   6 | elapsed:   42.7s finished\n"
     ]
    },
    {
     "name": "stdout",
     "output_type": "stream",
     "text": [
      "Fitting 3 folds for each of 10 candidates, totalling 30 fits\n",
      "Fitting 3 folds for each of 10 candidates, totalling 30 fits\n"
     ]
    },
    {
     "name": "stderr",
     "output_type": "stream",
     "text": [
      "[Parallel(n_jobs=-1)]: Done  30 out of  30 | elapsed: 10.1min finished\n"
     ]
    },
    {
     "name": "stdout",
     "output_type": "stream",
     "text": [
      "Fitting 3 folds for each of 10 candidates, totalling 30 fits\n"
     ]
    },
    {
     "name": "stderr",
     "output_type": "stream",
     "text": [
      "[Parallel(n_jobs=-1)]: Done  30 out of  30 | elapsed:  5.1min finished\n"
     ]
    },
    {
     "name": "stdout",
     "output_type": "stream",
     "text": [
      "Fitting 3 folds for each of 10 candidates, totalling 30 fits\n"
     ]
    },
    {
     "name": "stderr",
     "output_type": "stream",
     "text": [
      "[Parallel(n_jobs=-1)]: Done  30 out of  30 | elapsed:  3.9min finished\n"
     ]
    },
    {
     "name": "stdout",
     "output_type": "stream",
     "text": [
      "Fitting 3 folds for each of 10 candidates, totalling 30 fits\n"
     ]
    },
    {
     "name": "stderr",
     "output_type": "stream",
     "text": [
      "[Parallel(n_jobs=-1)]: Done  30 out of  30 | elapsed:  3.5min finished\n"
     ]
    },
    {
     "name": "stdout",
     "output_type": "stream",
     "text": [
      "Fitting 3 folds for each of 10 candidates, totalling 30 fits\n"
     ]
    },
    {
     "name": "stderr",
     "output_type": "stream",
     "text": [
      "[Parallel(n_jobs=-1)]: Done  30 out of  30 | elapsed:  1.9min finished\n"
     ]
    },
    {
     "name": "stdout",
     "output_type": "stream",
     "text": [
      "Fitting 3 folds for each of 10 candidates, totalling 30 fits\n"
     ]
    },
    {
     "name": "stderr",
     "output_type": "stream",
     "text": [
      "[Parallel(n_jobs=-1)]: Done  30 out of  30 | elapsed:  6.5min finished\n"
     ]
    },
    {
     "name": "stdout",
     "output_type": "stream",
     "text": [
      "Fitting 3 folds for each of 10 candidates, totalling 30 fits\n"
     ]
    },
    {
     "name": "stderr",
     "output_type": "stream",
     "text": [
      "[Parallel(n_jobs=-1)]: Done  30 out of  30 | elapsed:  5.9min finished\n"
     ]
    },
    {
     "name": "stdout",
     "output_type": "stream",
     "text": [
      "Fitting 3 folds for each of 10 candidates, totalling 30 fits\n"
     ]
    },
    {
     "name": "stderr",
     "output_type": "stream",
     "text": [
      "[Parallel(n_jobs=-1)]: Done  30 out of  30 | elapsed:  9.7min finished\n"
     ]
    },
    {
     "name": "stdout",
     "output_type": "stream",
     "text": [
      "Fitting 3 folds for each of 10 candidates, totalling 30 fits\n"
     ]
    },
    {
     "name": "stderr",
     "output_type": "stream",
     "text": [
      "[Parallel(n_jobs=-1)]: Done  30 out of  30 | elapsed:  5.9min finished\n"
     ]
    },
    {
     "name": "stdout",
     "output_type": "stream",
     "text": [
      "Fitting 3 folds for each of 10 candidates, totalling 30 fits\n"
     ]
    },
    {
     "name": "stderr",
     "output_type": "stream",
     "text": [
      "[Parallel(n_jobs=-1)]: Done  30 out of  30 | elapsed:  5.9min finished\n"
     ]
    },
    {
     "name": "stdout",
     "output_type": "stream",
     "text": [
      "Fitting 3 folds for each of 10 candidates, totalling 30 fits\n"
     ]
    },
    {
     "name": "stderr",
     "output_type": "stream",
     "text": [
      "[Parallel(n_jobs=-1)]: Done  30 out of  30 | elapsed: 11.4min finished\n"
     ]
    },
    {
     "name": "stdout",
     "output_type": "stream",
     "text": [
      "Fitting 3 folds for each of 10 candidates, totalling 30 fits\n"
     ]
    },
    {
     "name": "stderr",
     "output_type": "stream",
     "text": [
      "[Parallel(n_jobs=-1)]: Done  30 out of  30 | elapsed:  6.1min finished\n"
     ]
    },
    {
     "name": "stdout",
     "output_type": "stream",
     "text": [
      "Fitting 3 folds for each of 10 candidates, totalling 30 fits\n"
     ]
    },
    {
     "name": "stderr",
     "output_type": "stream",
     "text": [
      "[Parallel(n_jobs=-1)]: Done  30 out of  30 | elapsed:    2.0s finished\n"
     ]
    },
    {
     "name": "stdout",
     "output_type": "stream",
     "text": [
      "Fitting 3 folds for each of 10 candidates, totalling 30 fits\n"
     ]
    },
    {
     "name": "stderr",
     "output_type": "stream",
     "text": [
      "[Parallel(n_jobs=-1)]: Done  30 out of  30 | elapsed:    4.4s finished\n",
      "[Parallel(n_jobs=-1)]: Done  30 out of  30 | elapsed:    6.5s finished\n"
     ]
    }
   ],
   "source": [
    "# explore parameters in tfidf for both linear SVC and KNN\n",
    "param_grid = [\n",
    "  {'C': [100, 5000]},\n",
    "   ]\n",
    "grid_search = GridSearchCV(LinearSVC(), param_grid, n_jobs=-1, verbose=1)\n",
    "min_df_fit=[grid_search.fit(i[0],y_train).predict(i[1]) for i in min_df_data ]\n",
    "max_df_fit=[grid_search.fit(i[0],y_train).predict(i[1]) for i in max_df_data ]\n",
    "ngram_range_fit=[grid_search.fit(i[0],y_train).predict(i[1]) for i in ngram_range_data]\n",
    "min_df_svc_score=[metrics.accuracy_score(min_df_fit[i],y_test) for i in range(4)]\n",
    "max_df_svc_score=[metrics.accuracy_score(max_df_fit[i],y_test) for i in range(4)]\n",
    "ngram_range_svc_score=[metrics.accuracy_score(ngram_range_fit[i],y_test) for i in range(3)]\n",
    "\n",
    "from sklearn.neighbors import KNeighborsClassifier\n",
    "param_grid = [\n",
    "  {'n_neighbors': [1,2,3,4,5,6,7,8,9,10]},\n",
    "   ]\n",
    "grid_search1 = GridSearchCV(KNeighborsClassifier(), param_grid, n_jobs=-1, verbose=1)\n",
    "min_df_fit1=[grid_search1.fit(i[0],y_train).predict(i[1]) for i in min_df_data ]\n",
    "max_df_fit1=[grid_search1.fit(i[0],y_train).predict(i[1]) for i in max_df_data ]\n",
    "ngram_range_fit1=[grid_search1.fit(i[0],y_train).predict(i[1]) for i in ngram_range_data]\n",
    "min_df_knn_score=[metrics.accuracy_score(min_df_fit1[i],y_test) for i in range(4)]\n",
    "max_df_knn_score=[metrics.accuracy_score(max_df_fit1[i],y_test) for i in range(4)]\n",
    "ngram_range_knn_score=[metrics.accuracy_score(ngram_range_fit1[i],y_test) for i in range(3)]\n",
    "\n",
    "min_df_svc_score=[metrics.accuracy_score(min_df_fit[i],y_test) for i in range(4)]\n",
    "max_df_svc_score=[metrics.accuracy_score(max_df_fit[i],y_test) for i in range(4)]\n",
    "ngram_range_svc_score=[metrics.accuracy_score(ngram_range_fit[i],y_test) for i in range(3)]"
   ]
  },
  {
   "cell_type": "code",
   "execution_count": 35,
   "metadata": {
    "collapsed": false
   },
   "outputs": [
    {
     "data": {
      "text/plain": [
       "(0.6, 0.9)"
      ]
     },
     "execution_count": 35,
     "metadata": {},
     "output_type": "execute_result"
    },
    {
     "data": {
      "image/png": "[encoded data removed]",
      "text/plain": [
       "<matplotlib.figure.Figure at 0x1378b8390>"
      ]
     },
     "metadata": {},
     "output_type": "display_data"
    }
   ],
   "source": [
    "import matplotlib.pyplot as plt \n",
    "fig=plt.figure(figsize=(8,6))\n",
    "plt.plot([2,3,4,5], min_df_svc_score, 'bo--',label='svm')\n",
    "plt.plot([2,3,4,5], min_df_knn_score, 'ro--',label='knn')\n",
    "plt.legend(loc='best')\n",
    "plt.xlabel('min_df')\n",
    "plt.ylabel('score')\n",
    "plt.ylim(0.6,0.9)"
   ]
  },
  {
   "cell_type": "code",
   "execution_count": 30,
   "metadata": {
    "collapsed": false
   },
   "outputs": [
    {
     "data": {
      "text/plain": [
       "<matplotlib.text.Text at 0x1132a7110>"
      ]
     },
     "execution_count": 30,
     "metadata": {},
     "output_type": "execute_result"
    },
    {
     "data": {
      "image/png": "[encoded data removed]",
      "text/plain": [
       "<matplotlib.figure.Figure at 0x264323d10>"
      ]
     },
     "metadata": {},
     "output_type": "display_data"
    }
   ],
   "source": [
    "fig=plt.figure(figsize=(8,6))\n",
    "plt.plot([0.70, 0.75, 0.80, 0.85], max_df_svc_score, 'bo--',label='svm')\n",
    "plt.plot([0.70, 0.75, 0.80, 0.85], max_df_knn_score, 'ro--',label='knn')\n",
    "plt.legend(loc='best')\n",
    "plt.xlabel('max_df')\n",
    "plt.ylabel('score')"
   ]
  },
  {
   "cell_type": "code",
   "execution_count": 28,
   "metadata": {
    "collapsed": false
   },
   "outputs": [
    {
     "data": {
      "text/plain": [
       "<matplotlib.text.Text at 0x11270dd50>"
      ]
     },
     "execution_count": 28,
     "metadata": {},
     "output_type": "execute_result"
    },
    {
     "data": {
      "image/png": "[encoded data removed]",
      "text/plain": [
       "<matplotlib.figure.Figure at 0x260f01b10>"
      ]
     },
     "metadata": {},
     "output_type": "display_data"
    }
   ],
   "source": [
    "fig=plt.figure(figsize=(8,6))\n",
    "plt.plot([1,2,3], ngram_range_svc_score, 'bo--',label='svm')\n",
    "plt.plot([1,2,3], ngram_range_knn_score, 'ro--',label='knn')\n",
    "plt.legend(loc='best')\n",
    "plt.xlabel('ngram')\n",
    "plt.ylabel('score')"
   ]
  },
  {
   "cell_type": "code",
   "execution_count": 36,
   "metadata": {
    "collapsed": false
   },
   "outputs": [
    {
     "data": {
      "text/plain": [
       "<matplotlib.text.Text at 0x1130e5890>"
      ]
     },
     "execution_count": 36,
     "metadata": {},
     "output_type": "execute_result"
    },
    {
     "data": {
      "image/png": "[encoded data removed]",
      "text/plain": [
       "<matplotlib.figure.Figure at 0x113a746d0>"
      ]
     },
     "metadata": {},
     "output_type": "display_data"
    },
    {
     "data": {
      "image/png": "[encoded data removed]",
      "text/plain": [
       "<matplotlib.figure.Figure at 0x11327a5d0>"
      ]
     },
     "metadata": {},
     "output_type": "display_data"
    }
   ],
   "source": [
    "#explore parameters in classifier to see how these parameters change the testing accuracy. \n",
    "data=[TfidfVectorizer().fit_transform(docs_train).toarray(), TfidfVectorizer().fit(docs_train).transform(docs_test).toarray()]\n",
    "k=[1,2,3,4,5,6,7,8,9,10]\n",
    "predicted_knn=[KNeighborsClassifier(n_neighbors=i).fit(data[0],y_train).predict(data[1]) for i in k]\n",
    "score_knn=[metrics.accuracy_score(predicted_knn[i],y_test) for i in range(10)]\n",
    "\n",
    "C=[10,100,1000,3000,5000]\n",
    "predicted_svm=[LinearSVC(C=i).fit(data[0],y_train).predict(data[1]) for i in C]\n",
    "score_svm=[metrics.accuracy_score(predicted_svm[i],y_test) for i in range(5)]\n",
    "\n",
    "fig=plt.figure(figsize=(8,6))\n",
    "plt.plot([10,100,1000,3000,5000], score_svm, 'bo--',label='svm')\n",
    "plt.xlabel('C')\n",
    "plt.ylabel('score')\n",
    "plt.xlim(-1000,6000)\n",
    "plt.ylim(0.85,0.9)\n",
    "fig=plt.figure(figsize=(8,6))\n",
    "plt.plot([1,2,3,4,5,6,7,8,9,10], score_knn, 'bo--',label='knn')\n",
    "plt.xlabel('K')\n",
    "plt.ylabel('score')"
   ]
  },
  {
   "cell_type": "markdown",
   "metadata": {},
   "source": [
    "*------------------------\n",
    "\n",
    "## Problem 3 (20 points): Machine learning algorithms\n"
   ]
  },
  {
   "cell_type": "markdown",
   "metadata": {},
   "source": [
    "* Based upon Problem 2 pick some parameters for TfidfVectorizer\n",
    "    * \"fit\" your TfidfVectorizer using docs_train\n",
    "    * Compute \"Xtrain\", a Tf-idf-weighted document-term matrix using the transform function on docs_train\n",
    "    * Compute \"Xtest\", a Tf-idf-weighted document-term matrix using the transform function on docs_test\n",
    "    * Note, be sure to use the same Tf-idf-weighted class (**\"fit\" using docs_train**) to transform **both** docs_test and docs_train\n",
    "* Examine two classifiers provided by scikit-learn \n",
    "    * LinearSVC\n",
    "    * KNeighborsClassifier\n",
    "    * Try a number of different parameter settings for each and judge your performance using a confusion matrix (see Problem 1 for an example).\n",
    "* Does one classifier, or one set of parameters work better?\n",
    "    * Why do you think it might be working better?\n",
    "* For a particular choice of parameters and classifier, look at 2 examples where the prediction was incorrect.\n",
    "    * Can you conjecture on why the classifier made a mistake for this prediction?"
   ]
  },
  {
   "cell_type": "markdown",
   "metadata": {},
   "source": [
    "*------------------------\n",
    "\n",
    "## Problem 4 (20 points): Open Ended Question:  Finding the right plot"
   ]
  },
  {
   "cell_type": "markdown",
   "metadata": {},
   "source": [
    "* Can you find a two dimensional plot in which the positive and negative reviews are separated?\n",
    "    * This problem is hard since you will likely have thousands of features for review, and you will need to transform these thousands of features into just two numbers (so that you can make a 2D plot).\n",
    "* Note, I was not able to find such a plot myself!\n",
    "    * So, this problem is about **trying** but perhaps **not necessarily succeeding**!\n",
    "* I tried two things, neither of which worked very well.\n",
    "    * I first plotted the length of the review versus the number of features we compute that are in that review\n",
    "    * Second I used Principle Component Analysis on a subset of the features.\n",
    "* Can you do better than I did!?"
   ]
  },
  {
   "cell_type": "markdown",
   "metadata": {},
   "source": [
    "# Report: communicate the results (20 points)\n",
    "\n",
    "(1) (5 points) What data you collected?\n",
    "\n",
    "(2) (5 points) Why this topic is interesting or important to you? (Motivations)\n",
    "\n",
    "(3) (5 points) How did you analyse the data?\n",
    "\n",
    "(4) (5 points) What did you find in the data?\n",
    "(please include figures or tables in the report, but no source code)"
   ]
  },
  {
   "cell_type": "markdown",
   "metadata": {},
   "source": [
    "# Slides (for 10 minutes of presentation) (20 points)\n",
    "\n",
    "\n",
    "1. (5 points) Motivation about the data collection, why the topic is interesting to you. \n",
    "\n",
    "2. (10 points) Communicating Results (figure/table)\n",
    "\n",
    "3. (5 points) Story telling (How all the parts (data, analysis, result) fit together as a story?)"
   ]
  },
  {
   "cell_type": "markdown",
   "metadata": {},
   "source": [
    "*-----------------\n",
    "# Done\n",
    "\n",
    "All set! \n",
    "\n",
    "** What do you need to submit?**\n",
    "\n",
    "* **Notebook File**: Save this IPython notebook, and find the notebook file in your folder (for example, \"filename.ipynb\"). This is the file you need to submit. Please make sure all the plotted tables and figures are in the notebook. If you used \"ipython notebook --pylab=inline\" to open the notebook, all the figures and tables should have shown up in the notebook.\n",
    "\n",
    "\n",
    "* **PPT Slides**: please prepare PPT slides (for 10 minutes' talk) to present about the case study . We will ask two teams which are randomly selected to present their case studies in class for this case study. \n",
    "\n",
    "* ** Report**: please prepare a report (less than 10 pages) to report what you found in the data.\n",
    "    * What is the relationship between this topic and Business Intelligence?\n",
    "    * How did you analyse the data?\n",
    "    * What did you find in the data? \n",
    "    * What conjectures did you make and how did you support or disprove them using data?\n",
    "    * Did you find anything suprising in the data?\n",
    "    * What business decision do you think this data could help answer?  Why?\n",
    "\n",
    "     (please include figures or tables in the report, but no source code)\n",
    "\n",
    "*Please compress all the files into a single zipped file.*\n",
    "\n",
    "\n",
    "** How to submit: **\n",
    "\n",
    "        Send an email to rcpaffenroth@wpi.edu with the subject: \"[DS501] Case study 3\"."
   ]
  }
 ],
 "metadata": {
  "kernelspec": {
   "display_name": "Python 2",
   "language": "python",
   "name": "python2"
  },
  "language_info": {
   "codemirror_mode": {
    "name": "ipython",
    "version": 2
   },
   "file_extension": ".py",
   "mimetype": "text/x-python",
   "name": "python",
   "nbconvert_exporter": "python",
   "pygments_lexer": "ipython2",
   "version": "2.7.10"
  }
 },
 "nbformat": 4,
 "nbformat_minor": 0
}
