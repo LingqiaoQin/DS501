{
 "cells": [
  {
   "cell_type": "markdown",
   "metadata": {},
   "source": [
    "# Case Study 2 : Analyzing data from MovieLens\n",
    "** Due Date: March 5, 2016 5:59PM**\n",
    "\n",
    "*------------"
   ]
  },
  {
   "cell_type": "markdown",
   "metadata": {},
   "source": [
    "## The MovieLens data sets\n",
    "\n",
    "<img src=\"https://pbs.twimg.com/profile_images/378800000380161537/b6fa868dce43807d4e67462587d0b0d2_400x400.png\">\n",
    "\n",
    "http://grouplens.org/datasets/movielens/\n",
    "\n"
   ]
  },
  {
   "cell_type": "code",
   "execution_count": 7,
   "metadata": {
    "collapsed": false
   },
   "outputs": [],
   "source": [
    "from IPython.lib.display import YouTubeVideo"
   ]
  },
  {
   "cell_type": "code",
   "execution_count": 10,
   "metadata": {
    "collapsed": false
   },
   "outputs": [
    {
     "data": {
      "text/html": [
       "\n",
       "        <iframe\n",
       "            width=\"400\"\n",
       "            height=\"300\"\n",
       "            src=\"https://www.youtube.com/embed/6O43gOxtaWo?start=14\"\n",
       "            frameborder=\"0\"\n",
       "            allowfullscreen\n",
       "        ></iframe>\n",
       "        "
      ],
      "text/plain": [
       "<IPython.lib.display.YouTubeVideo at 0x426d0f0>"
      ]
     },
     "execution_count": 10,
     "metadata": {},
     "output_type": "execute_result"
    }
   ],
   "source": [
    "YouTubeVideo('6O43gOxtaWo', start=14)"
   ]
  },
  {
   "cell_type": "markdown",
   "metadata": {},
   "source": [
    "**TEAM Members:** Please EDIT this cell and add the names of all the team members in your team\n",
    "\n",
    "    Helen Hong\n",
    "    \n",
    "    Haley Huang\n",
    "   \n",
    "    Tom Meagher\n",
    "    \n",
    "    Tyler Reese"
   ]
  },
  {
   "cell_type": "markdown",
   "metadata": {},
   "source": [
    "**Desired outcome of the case study.**\n",
    "* In this case study we will look at the MovieLens 1M Data Set.\n",
    "    * It contains data about users and how the rate movies.\n",
    "* The idea is to *analyze* the data set, make *conjectures*, support or refute those conjectures with *data*, and *tell a story* about the data!\n",
    "    \n",
    "**Required Readings:** \n",
    "* Chapter 2 (only the section on the MovieLens 1M Data Set), Chapter 5, Chapter 6 Pg 171-172,\n",
    "and Chapter 8 of the book [Python for Data Analysis](http://shop.oreilly.com/product/0636920023784.do)  (available from the WPI library as an e-book).\n",
    "* If you want your code to be really compact then you might want to also look into the pivot_table method of Panda's DataFrame, though there are many other ways to complete the case study!\n",
    "\n",
    "**Case study assumptions:**\n",
    "* You have access to a python installation\n",
    "\n",
    "**Required Python libraries:**\n",
    "* Pandas (pandas.pydata.org)\n",
    "* Matplotlib (matplotlib.org)\n",
    "* If you need help installing them then you can refer to Chapter 1 of Python for Data Analysis book above.\n",
    "\n",
    "** NOTE **\n",
    "* Please don't forget to save the notebook frequently when working in IPython Notebook, otherwise the changes you made can be lost.\n",
    "\n",
    "*----------------------"
   ]
  },
  {
   "cell_type": "markdown",
   "metadata": {},
   "source": [
    "# Problem 1 (20 points total): \n",
    "\n",
    "## (10 points) Importing the MovieLens data set and merging it into a single Pandas DataFrame"
   ]
  },
  {
   "cell_type": "markdown",
   "metadata": {},
   "source": [
    "* Download the 1 million ratings data set from http://grouplens.org/datasets/movielens/ (though if you are feeling adventerous you can download the 10 million ratings file instead)\n",
    "* Merge all of the data into a single Pandas DataFrame\n",
    "* Store the data into an HDF5 file.\n",
    "\n",
    "## (10 points) Report some basic details of the data you collected.  For example:\n",
    "\n",
    "*  How many movies have an average rating over 4.5 overall?\n",
    "*  How many movies have an average rating over 4.5 among men?  How about women?\n",
    "*  How many movies have an *median* rating over 4.5 among men over age 30?  How about women over age 30?\n",
    "*  What are the ten most popular movies?\n",
    "    * Choose what you consider to be a reasonable defintion of \"popular\".\n",
    "    * Be perpared to defend this choice.\n",
    "*  Make some conjectures about how easy various groups are to please? Support your answers with data!  \n",
    "    *  For example, one might conjecture that people between the ages of 1 and 10 are the easiest to please since they are all young children.  This conjecture may or may not be true, but how would you support or disprove either conclusion with with data?\n",
    "    *  Be sure to come up with your own conjectures and support them with data!\n"
   ]
  },
  {
   "cell_type": "code",
   "execution_count": 1,
   "metadata": {
    "collapsed": false
   },
   "outputs": [],
   "source": [
    "import pandas as pd\n",
    "import numpy as np\n",
    "import matplotlib.pyplot as plt"
   ]
  },
  {
   "cell_type": "code",
   "execution_count": 2,
   "metadata": {
    "collapsed": false
   },
   "outputs": [
    {
     "data": {
      "text/html": [
       "<div>\n",
       "<table border=\"1\" class=\"dataframe\">\n",
       "  <thead>\n",
       "    <tr style=\"text-align: right;\">\n",
       "      <th></th>\n",
       "      <th>user_id</th>\n",
       "      <th>gender</th>\n",
       "      <th>age</th>\n",
       "      <th>occupation</th>\n",
       "      <th>zip</th>\n",
       "    </tr>\n",
       "  </thead>\n",
       "  <tbody>\n",
       "    <tr>\n",
       "      <th>0</th>\n",
       "      <td>1</td>\n",
       "      <td>F</td>\n",
       "      <td>1</td>\n",
       "      <td>10</td>\n",
       "      <td>48067</td>\n",
       "    </tr>\n",
       "    <tr>\n",
       "      <th>1</th>\n",
       "      <td>2</td>\n",
       "      <td>M</td>\n",
       "      <td>56</td>\n",
       "      <td>16</td>\n",
       "      <td>70072</td>\n",
       "    </tr>\n",
       "    <tr>\n",
       "      <th>2</th>\n",
       "      <td>3</td>\n",
       "      <td>M</td>\n",
       "      <td>25</td>\n",
       "      <td>15</td>\n",
       "      <td>55117</td>\n",
       "    </tr>\n",
       "    <tr>\n",
       "      <th>3</th>\n",
       "      <td>4</td>\n",
       "      <td>M</td>\n",
       "      <td>45</td>\n",
       "      <td>7</td>\n",
       "      <td>02460</td>\n",
       "    </tr>\n",
       "    <tr>\n",
       "      <th>4</th>\n",
       "      <td>5</td>\n",
       "      <td>M</td>\n",
       "      <td>25</td>\n",
       "      <td>20</td>\n",
       "      <td>55455</td>\n",
       "    </tr>\n",
       "  </tbody>\n",
       "</table>\n",
       "</div>"
      ],
      "text/plain": [
       "   user_id gender  age  occupation    zip\n",
       "0        1      F    1          10  48067\n",
       "1        2      M   56          16  70072\n",
       "2        3      M   25          15  55117\n",
       "3        4      M   45           7  02460\n",
       "4        5      M   25          20  55455"
      ]
     },
     "execution_count": 2,
     "metadata": {},
     "output_type": "execute_result"
    }
   ],
   "source": [
    "# Import Users Data\n",
    "unames = ['user_id','gender','age','occupation','zip']\n",
    "users = pd.read_table('users.dat', sep = '::', header = None, names = unames,engine='python')\n",
    "users[:5]"
   ]
  },
  {
   "cell_type": "code",
   "execution_count": 4,
   "metadata": {
    "collapsed": false
   },
   "outputs": [
    {
     "data": {
      "text/html": [
       "<div>\n",
       "<table border=\"1\" class=\"dataframe\">\n",
       "  <thead>\n",
       "    <tr style=\"text-align: right;\">\n",
       "      <th></th>\n",
       "      <th>user_id</th>\n",
       "      <th>movie_id</th>\n",
       "      <th>rating</th>\n",
       "      <th>timestamp</th>\n",
       "    </tr>\n",
       "  </thead>\n",
       "  <tbody>\n",
       "    <tr>\n",
       "      <th>0</th>\n",
       "      <td>1</td>\n",
       "      <td>1193</td>\n",
       "      <td>5</td>\n",
       "      <td>978300760</td>\n",
       "    </tr>\n",
       "    <tr>\n",
       "      <th>1</th>\n",
       "      <td>1</td>\n",
       "      <td>661</td>\n",
       "      <td>3</td>\n",
       "      <td>978302109</td>\n",
       "    </tr>\n",
       "    <tr>\n",
       "      <th>2</th>\n",
       "      <td>1</td>\n",
       "      <td>914</td>\n",
       "      <td>3</td>\n",
       "      <td>978301968</td>\n",
       "    </tr>\n",
       "    <tr>\n",
       "      <th>3</th>\n",
       "      <td>1</td>\n",
       "      <td>3408</td>\n",
       "      <td>4</td>\n",
       "      <td>978300275</td>\n",
       "    </tr>\n",
       "    <tr>\n",
       "      <th>4</th>\n",
       "      <td>1</td>\n",
       "      <td>2355</td>\n",
       "      <td>5</td>\n",
       "      <td>978824291</td>\n",
       "    </tr>\n",
       "  </tbody>\n",
       "</table>\n",
       "</div>"
      ],
      "text/plain": [
       "   user_id  movie_id  rating  timestamp\n",
       "0        1      1193       5  978300760\n",
       "1        1       661       3  978302109\n",
       "2        1       914       3  978301968\n",
       "3        1      3408       4  978300275\n",
       "4        1      2355       5  978824291"
      ]
     },
     "execution_count": 4,
     "metadata": {},
     "output_type": "execute_result"
    }
   ],
   "source": [
    "# Import Ratings Data\n",
    "rnames = ['user_id','movie_id','rating','timestamp']\n",
    "ratings = pd.read_table('ratings.dat', sep = '::', header = None, names = rnames,engine='python')\n",
    "ratings[:5]"
   ]
  },
  {
   "cell_type": "code",
   "execution_count": 5,
   "metadata": {
    "collapsed": false
   },
   "outputs": [
    {
     "data": {
      "text/html": [
       "<div>\n",
       "<table border=\"1\" class=\"dataframe\">\n",
       "  <thead>\n",
       "    <tr style=\"text-align: right;\">\n",
       "      <th></th>\n",
       "      <th>movie_id</th>\n",
       "      <th>title</th>\n",
       "      <th>genres</th>\n",
       "    </tr>\n",
       "  </thead>\n",
       "  <tbody>\n",
       "    <tr>\n",
       "      <th>0</th>\n",
       "      <td>1</td>\n",
       "      <td>Toy Story (1995)</td>\n",
       "      <td>Animation|Children's|Comedy</td>\n",
       "    </tr>\n",
       "    <tr>\n",
       "      <th>1</th>\n",
       "      <td>2</td>\n",
       "      <td>Jumanji (1995)</td>\n",
       "      <td>Adventure|Children's|Fantasy</td>\n",
       "    </tr>\n",
       "    <tr>\n",
       "      <th>2</th>\n",
       "      <td>3</td>\n",
       "      <td>Grumpier Old Men (1995)</td>\n",
       "      <td>Comedy|Romance</td>\n",
       "    </tr>\n",
       "    <tr>\n",
       "      <th>3</th>\n",
       "      <td>4</td>\n",
       "      <td>Waiting to Exhale (1995)</td>\n",
       "      <td>Comedy|Drama</td>\n",
       "    </tr>\n",
       "    <tr>\n",
       "      <th>4</th>\n",
       "      <td>5</td>\n",
       "      <td>Father of the Bride Part II (1995)</td>\n",
       "      <td>Comedy</td>\n",
       "    </tr>\n",
       "  </tbody>\n",
       "</table>\n",
       "</div>"
      ],
      "text/plain": [
       "   movie_id                               title                        genres\n",
       "0         1                    Toy Story (1995)   Animation|Children's|Comedy\n",
       "1         2                      Jumanji (1995)  Adventure|Children's|Fantasy\n",
       "2         3             Grumpier Old Men (1995)                Comedy|Romance\n",
       "3         4            Waiting to Exhale (1995)                  Comedy|Drama\n",
       "4         5  Father of the Bride Part II (1995)                        Comedy"
      ]
     },
     "execution_count": 5,
     "metadata": {},
     "output_type": "execute_result"
    }
   ],
   "source": [
    "# Import movies Data\n",
    "mnames = ['movie_id','title','genres']\n",
    "movies = pd.read_table('movies.dat', sep = '::', header = None, names = mnames,engine='python')\n",
    "movies[:5]"
   ]
  },
  {
   "cell_type": "code",
   "execution_count": 183,
   "metadata": {
    "collapsed": false
   },
   "outputs": [
    {
     "data": {
      "text/html": [
       "<div>\n",
       "<table border=\"1\" class=\"dataframe\">\n",
       "  <thead>\n",
       "    <tr style=\"text-align: right;\">\n",
       "      <th></th>\n",
       "      <th>user_id</th>\n",
       "      <th>movie_id</th>\n",
       "      <th>rating</th>\n",
       "      <th>timestamp</th>\n",
       "      <th>gender</th>\n",
       "      <th>age</th>\n",
       "      <th>occupation</th>\n",
       "      <th>zip</th>\n",
       "      <th>title</th>\n",
       "      <th>genres</th>\n",
       "    </tr>\n",
       "  </thead>\n",
       "  <tbody>\n",
       "    <tr>\n",
       "      <th>0</th>\n",
       "      <td>1</td>\n",
       "      <td>1193</td>\n",
       "      <td>5</td>\n",
       "      <td>978300760</td>\n",
       "      <td>F</td>\n",
       "      <td>1</td>\n",
       "      <td>10</td>\n",
       "      <td>48067</td>\n",
       "      <td>One Flew Over the Cuckoo's Nest (1975)</td>\n",
       "      <td>Drama</td>\n",
       "    </tr>\n",
       "    <tr>\n",
       "      <th>1</th>\n",
       "      <td>2</td>\n",
       "      <td>1193</td>\n",
       "      <td>5</td>\n",
       "      <td>978298413</td>\n",
       "      <td>M</td>\n",
       "      <td>56</td>\n",
       "      <td>16</td>\n",
       "      <td>70072</td>\n",
       "      <td>One Flew Over the Cuckoo's Nest (1975)</td>\n",
       "      <td>Drama</td>\n",
       "    </tr>\n",
       "    <tr>\n",
       "      <th>2</th>\n",
       "      <td>12</td>\n",
       "      <td>1193</td>\n",
       "      <td>4</td>\n",
       "      <td>978220179</td>\n",
       "      <td>M</td>\n",
       "      <td>25</td>\n",
       "      <td>12</td>\n",
       "      <td>32793</td>\n",
       "      <td>One Flew Over the Cuckoo's Nest (1975)</td>\n",
       "      <td>Drama</td>\n",
       "    </tr>\n",
       "    <tr>\n",
       "      <th>3</th>\n",
       "      <td>15</td>\n",
       "      <td>1193</td>\n",
       "      <td>4</td>\n",
       "      <td>978199279</td>\n",
       "      <td>M</td>\n",
       "      <td>25</td>\n",
       "      <td>7</td>\n",
       "      <td>22903</td>\n",
       "      <td>One Flew Over the Cuckoo's Nest (1975)</td>\n",
       "      <td>Drama</td>\n",
       "    </tr>\n",
       "    <tr>\n",
       "      <th>4</th>\n",
       "      <td>17</td>\n",
       "      <td>1193</td>\n",
       "      <td>5</td>\n",
       "      <td>978158471</td>\n",
       "      <td>M</td>\n",
       "      <td>50</td>\n",
       "      <td>1</td>\n",
       "      <td>95350</td>\n",
       "      <td>One Flew Over the Cuckoo's Nest (1975)</td>\n",
       "      <td>Drama</td>\n",
       "    </tr>\n",
       "  </tbody>\n",
       "</table>\n",
       "</div>"
      ],
      "text/plain": [
       "   user_id  movie_id  rating  timestamp gender  age  occupation    zip  \\\n",
       "0        1      1193       5  978300760      F    1          10  48067   \n",
       "1        2      1193       5  978298413      M   56          16  70072   \n",
       "2       12      1193       4  978220179      M   25          12  32793   \n",
       "3       15      1193       4  978199279      M   25           7  22903   \n",
       "4       17      1193       5  978158471      M   50           1  95350   \n",
       "\n",
       "                                    title genres  \n",
       "0  One Flew Over the Cuckoo's Nest (1975)  Drama  \n",
       "1  One Flew Over the Cuckoo's Nest (1975)  Drama  \n",
       "2  One Flew Over the Cuckoo's Nest (1975)  Drama  \n",
       "3  One Flew Over the Cuckoo's Nest (1975)  Drama  \n",
       "4  One Flew Over the Cuckoo's Nest (1975)  Drama  "
      ]
     },
     "execution_count": 183,
     "metadata": {},
     "output_type": "execute_result"
    }
   ],
   "source": [
    "# Merge the data into a single data frame\n",
    "data = pd.merge(pd.merge(ratings,users),movies)\n",
    "data[:5]"
   ]
  },
  {
   "cell_type": "code",
   "execution_count": 8,
   "metadata": {
    "collapsed": false
   },
   "outputs": [],
   "source": [
    "#Store the data into an HDF5 file\n",
    "data_hdf = pd.HDFStore('movie_h5')\n",
    "data_hdf['data1'] = data\n",
    "data_hdf.close()"
   ]
  },
  {
   "cell_type": "markdown",
   "metadata": {},
   "source": [
    "Compute some Summary Statistics for the data"
   ]
  },
  {
   "cell_type": "code",
   "execution_count": 7,
   "metadata": {
    "collapsed": false
   },
   "outputs": [
    {
     "data": {
      "text/html": [
       "<div>\n",
       "<table border=\"1\" class=\"dataframe\">\n",
       "  <thead>\n",
       "    <tr style=\"text-align: right;\">\n",
       "      <th></th>\n",
       "      <th>rating</th>\n",
       "      <th>age</th>\n",
       "    </tr>\n",
       "  </thead>\n",
       "  <tbody>\n",
       "    <tr>\n",
       "      <th>count</th>\n",
       "      <td>1000209.000000</td>\n",
       "      <td>1000209.000000</td>\n",
       "    </tr>\n",
       "    <tr>\n",
       "      <th>mean</th>\n",
       "      <td>3.581564</td>\n",
       "      <td>29.738314</td>\n",
       "    </tr>\n",
       "    <tr>\n",
       "      <th>std</th>\n",
       "      <td>1.117102</td>\n",
       "      <td>11.751983</td>\n",
       "    </tr>\n",
       "    <tr>\n",
       "      <th>min</th>\n",
       "      <td>1.000000</td>\n",
       "      <td>1.000000</td>\n",
       "    </tr>\n",
       "    <tr>\n",
       "      <th>25%</th>\n",
       "      <td>3.000000</td>\n",
       "      <td>25.000000</td>\n",
       "    </tr>\n",
       "    <tr>\n",
       "      <th>50%</th>\n",
       "      <td>4.000000</td>\n",
       "      <td>25.000000</td>\n",
       "    </tr>\n",
       "    <tr>\n",
       "      <th>75%</th>\n",
       "      <td>4.000000</td>\n",
       "      <td>35.000000</td>\n",
       "    </tr>\n",
       "    <tr>\n",
       "      <th>max</th>\n",
       "      <td>5.000000</td>\n",
       "      <td>56.000000</td>\n",
       "    </tr>\n",
       "  </tbody>\n",
       "</table>\n",
       "</div>"
      ],
      "text/plain": [
       "               rating             age\n",
       "count  1000209.000000  1000209.000000\n",
       "mean         3.581564       29.738314\n",
       "std          1.117102       11.751983\n",
       "min          1.000000        1.000000\n",
       "25%          3.000000       25.000000\n",
       "50%          4.000000       25.000000\n",
       "75%          4.000000       35.000000\n",
       "max          5.000000       56.000000"
      ]
     },
     "execution_count": 7,
     "metadata": {},
     "output_type": "execute_result"
    }
   ],
   "source": [
    "#check statistics of data\n",
    "data[['rating','age']].describe()"
   ]
  },
  {
   "cell_type": "markdown",
   "metadata": {},
   "source": [
    "How many movies have an average rating over 4.5 overall?"
   ]
  },
  {
   "cell_type": "code",
   "execution_count": 8,
   "metadata": {
    "collapsed": false
   },
   "outputs": [
    {
     "name": "stdout",
     "output_type": "stream",
     "text": [
      "Total movies with an average ranking of (at least) 4.5 overall:\n",
      "29\n",
      "\n",
      "Examples:\n",
      "title\n",
      "Apple, The (Sib) (1998)                4.666667\n",
      "Baby, The (1973)                       5.000000\n",
      "Bells, The (1926)                      4.500000\n",
      "Bittersweet Motel (2000)               5.000000\n",
      "Callej�n de los milagros, El (1995)    4.500000\n",
      "Name: rating, dtype: float64\n"
     ]
    }
   ],
   "source": [
    "# Use a pivot table to compute mean ratings by title\n",
    "mean_ratings = data.pivot_table('rating',index = 'title',aggfunc = 'mean')\n",
    "\n",
    "# Determine titles with high mean ratings\n",
    "top_overall_titles = mean_ratings.index[mean_ratings >= 4.5]\n",
    "\n",
    "#Extract those titles\n",
    "top_overall_movies = mean_ratings.ix[top_overall_titles]\n",
    "print 'Total movies with an average ranking of (at least) 4.5 overall:' \n",
    "print len(top_overall_movies)\n",
    "print\n",
    "print 'Examples:'\n",
    "print top_overall_movies[:5]"
   ]
  },
  {
   "cell_type": "markdown",
   "metadata": {},
   "source": [
    "How many movies have an average rating over 4.5 among men? How about women?"
   ]
  },
  {
   "cell_type": "code",
   "execution_count": 9,
   "metadata": {
    "collapsed": false
   },
   "outputs": [
    {
     "name": "stdout",
     "output_type": "stream",
     "text": [
      "Total movies with an average ranking of (at least) 4.5 among women:\n",
      "70\n",
      "\n",
      "Examples (average rankings):\n",
      "gender                                 F         M\n",
      "title                                             \n",
      "24 7: Twenty Four Seven (1997)  5.000000  3.750000\n",
      "Among Giants (1998)             4.666667  3.333333\n",
      "Aparajito (1956)                4.666667  3.857143\n",
      "Apple, The (Sib) (1998)         4.750000  4.600000\n",
      "Arguing the World (1996)        4.500000  3.777778\n"
     ]
    }
   ],
   "source": [
    "# Use a pivot table to compute mean ratings per title, stratified by gender.\n",
    "mean_ratings = data.pivot_table('rating',index = 'title',columns = 'gender',aggfunc = 'mean')\n",
    "\n",
    "#Determine those title ranked high among females.\n",
    "top_female_titles = mean_ratings.index[mean_ratings['F'] >= 4.5]\n",
    "\n",
    "# Extract those titles\n",
    "top_female_movies = mean_ratings.ix[top_female_titles]\n",
    "print 'Total movies with an average ranking of (at least) 4.5 among women:' \n",
    "print len(top_female_movies)\n",
    "print\n",
    "print 'Examples (average rankings):'\n",
    "print top_female_movies[:5]"
   ]
  },
  {
   "cell_type": "code",
   "execution_count": 10,
   "metadata": {
    "collapsed": false
   },
   "outputs": [
    {
     "name": "stdout",
     "output_type": "stream",
     "text": [
      "Total movies with an average ranking of (at least) 4.5 among men:\n",
      "29\n",
      "\n",
      "Examples (average rankings):\n",
      "gender                                  F    M\n",
      "title                                         \n",
      "Angela (1995)                        3.00  5.0\n",
      "Apple, The (Sib) (1998)              4.75  4.6\n",
      "Baby, The (1973)                      NaN  5.0\n",
      "Bells, The (1926)                    4.00  5.0\n",
      "Callej�n de los milagros, El (1995)   NaN  4.5\n"
     ]
    }
   ],
   "source": [
    "mean_ratings = data.pivot_table('rating',index = 'title',columns = 'gender',aggfunc = 'mean')\n",
    "\n",
    "# Determine which titles had high average ratings among men\n",
    "top_male_titles = mean_ratings.index[mean_ratings['M'] >= 4.5]\n",
    "\n",
    "# Extract those titles\n",
    "top_male_movies = mean_ratings.ix[top_male_titles]\n",
    "print 'Total movies with an average ranking of (at least) 4.5 among men:' \n",
    "print len(top_male_movies)\n",
    "print\n",
    "print 'Examples (average rankings):'\n",
    "print top_male_movies[:5]"
   ]
  },
  {
   "cell_type": "markdown",
   "metadata": {},
   "source": [
    "How many movies have an median rating over 4.5 among men over age 30? How about women over age 30?"
   ]
  },
  {
   "cell_type": "code",
   "execution_count": 11,
   "metadata": {
    "collapsed": true
   },
   "outputs": [],
   "source": [
    "# Restrict data to those with raters aged over 30\n",
    "data_over30 = data.ix[data['age']>30]\n",
    "\n",
    "# Use a pivot table to compute the median ratings by title on this restricted data\n",
    "median_ratings = data_over30.pivot_table('rating',index = 'title',columns = ['gender'],aggfunc = 'median')"
   ]
  },
  {
   "cell_type": "code",
   "execution_count": 12,
   "metadata": {
    "collapsed": false
   },
   "outputs": [
    {
     "name": "stdout",
     "output_type": "stream",
     "text": [
      "Total movies with an median ranking of (at least) 4.5 among men over 30:\n",
      "105\n",
      "\n",
      "Examples, median scores among people over 30:\n",
      "gender                                 F  M\n",
      "title                                      \n",
      "42 Up (1998)                           4  5\n",
      "All Quiet on the Western Front (1930)  4  5\n",
      "American Beauty (1999)                 4  5\n",
      "Among Giants (1998)                    5  5\n",
      "Angela (1995)                          3  5\n"
     ]
    }
   ],
   "source": [
    "# Determine which movies had a high median among men and extract those titles\n",
    "top_male_median_titles = median_ratings.index[median_ratings['M'] >= 4.5]\n",
    "top_male_median_movies = median_ratings.ix[top_male_median_titles]\n",
    "\n",
    "print 'Total movies with an median ranking of (at least) 4.5 among men over 30:' \n",
    "print len(top_male_median_movies)\n",
    "print\n",
    "print 'Examples, median scores among people over 30:'\n",
    "print top_male_median_movies[:5]"
   ]
  },
  {
   "cell_type": "code",
   "execution_count": 13,
   "metadata": {
    "collapsed": false
   },
   "outputs": [
    {
     "name": "stdout",
     "output_type": "stream",
     "text": [
      "Total movies with an median ranking of (at least) 4.5 among women over 30:\n",
      "187\n",
      "\n",
      "Examples, median scores among people over 30:\n",
      "gender                                            F   M\n",
      "title                                                  \n",
      "24 7: Twenty Four Seven (1997)                  5.0   3\n",
      "400 Blows, The (Les Quatre cents coups) (1959)  5.0   4\n",
      "Above the Rim (1994)                            4.5   3\n",
      "Across the Sea of Time (1995)                   5.0 NaN\n",
      "African Queen, The (1951)                       5.0   4\n"
     ]
    }
   ],
   "source": [
    "# Determine which movies had a high median among men and extract those titles\n",
    "top_female_median_titles = median_ratings.index[median_ratings['F'] >= 4.5]\n",
    "top_female_median_movies = median_ratings.ix[top_female_median_titles]\n",
    "\n",
    "print 'Total movies with an median ranking of (at least) 4.5 among women over 30:' \n",
    "print len(top_female_median_movies)\n",
    "print\n",
    "print 'Examples, median scores among people over 30:'\n",
    "print top_female_median_movies[:5]"
   ]
  },
  {
   "cell_type": "markdown",
   "metadata": {},
   "source": [
    "What are the ten most popular movies?\n",
    "    * Choose what you consider to be a reasonable defintion of \"popular\".\n",
    "    * Be perpared to defend this choice."
   ]
  },
  {
   "cell_type": "markdown",
   "metadata": {},
   "source": [
    "We propose the following definition of a \"Popular\" movie:\n",
    "* Above-average total number of ratings\n",
    "* Above-average rating among women (i.e. the movie's average rating among women is above the average of ALL ratings given by women)\n",
    "* Above-average rating among men ((i.e. the movie's average rating among men is above the average of ALL ratings given by men)\n",
    "\n",
    "Among these \"popular\" movies we determine the top 10 MOST popular by using highest average rating overall."
   ]
  },
  {
   "cell_type": "code",
   "execution_count": 14,
   "metadata": {
    "collapsed": false
   },
   "outputs": [
    {
     "data": {
      "text/html": [
       "<div>\n",
       "<table border=\"1\" class=\"dataframe\">\n",
       "  <thead>\n",
       "    <tr style=\"text-align: right;\">\n",
       "      <th></th>\n",
       "      <th>len</th>\n",
       "      <th>mean</th>\n",
       "    </tr>\n",
       "    <tr>\n",
       "      <th>title</th>\n",
       "      <th></th>\n",
       "      <th></th>\n",
       "    </tr>\n",
       "  </thead>\n",
       "  <tbody>\n",
       "    <tr>\n",
       "      <th>$1,000,000 Duck (1971)</th>\n",
       "      <td>37</td>\n",
       "      <td>3.027027</td>\n",
       "    </tr>\n",
       "    <tr>\n",
       "      <th>'Night Mother (1986)</th>\n",
       "      <td>70</td>\n",
       "      <td>3.371429</td>\n",
       "    </tr>\n",
       "    <tr>\n",
       "      <th>'Til There Was You (1997)</th>\n",
       "      <td>52</td>\n",
       "      <td>2.692308</td>\n",
       "    </tr>\n",
       "    <tr>\n",
       "      <th>'burbs, The (1989)</th>\n",
       "      <td>303</td>\n",
       "      <td>2.910891</td>\n",
       "    </tr>\n",
       "    <tr>\n",
       "      <th>...And Justice for All (1979)</th>\n",
       "      <td>199</td>\n",
       "      <td>3.713568</td>\n",
       "    </tr>\n",
       "  </tbody>\n",
       "</table>\n",
       "</div>"
      ],
      "text/plain": [
       "                               len      mean\n",
       "title                                       \n",
       "$1,000,000 Duck (1971)          37  3.027027\n",
       "'Night Mother (1986)            70  3.371429\n",
       "'Til There Was You (1997)       52  2.692308\n",
       "'burbs, The (1989)             303  2.910891\n",
       "...And Justice for All (1979)  199  3.713568"
      ]
     },
     "execution_count": 14,
     "metadata": {},
     "output_type": "execute_result"
    }
   ],
   "source": [
    "# Determine the overall total ratings and mean ratings per title\n",
    "popularity_test = data.pivot_table('rating',index = 'title', aggfunc = [len, np.mean])\n",
    "\n",
    "# Determine the mean ratings per title by gender\n",
    "gender_popularity_test = data.pivot_table('rating',index = 'title', columns = 'gender', aggfunc = np.mean)\n",
    "\n",
    "popularity_test[:5]"
   ]
  },
  {
   "cell_type": "code",
   "execution_count": 15,
   "metadata": {
    "collapsed": false
   },
   "outputs": [
    {
     "data": {
      "text/html": [
       "<div>\n",
       "<table border=\"1\" class=\"dataframe\">\n",
       "  <thead>\n",
       "    <tr style=\"text-align: right;\">\n",
       "      <th>gender</th>\n",
       "      <th>F</th>\n",
       "      <th>M</th>\n",
       "    </tr>\n",
       "    <tr>\n",
       "      <th>title</th>\n",
       "      <th></th>\n",
       "      <th></th>\n",
       "    </tr>\n",
       "  </thead>\n",
       "  <tbody>\n",
       "    <tr>\n",
       "      <th>$1,000,000 Duck (1971)</th>\n",
       "      <td>3.375000</td>\n",
       "      <td>2.761905</td>\n",
       "    </tr>\n",
       "    <tr>\n",
       "      <th>'Night Mother (1986)</th>\n",
       "      <td>3.388889</td>\n",
       "      <td>3.352941</td>\n",
       "    </tr>\n",
       "    <tr>\n",
       "      <th>'Til There Was You (1997)</th>\n",
       "      <td>2.675676</td>\n",
       "      <td>2.733333</td>\n",
       "    </tr>\n",
       "    <tr>\n",
       "      <th>'burbs, The (1989)</th>\n",
       "      <td>2.793478</td>\n",
       "      <td>2.962085</td>\n",
       "    </tr>\n",
       "    <tr>\n",
       "      <th>...And Justice for All (1979)</th>\n",
       "      <td>3.828571</td>\n",
       "      <td>3.689024</td>\n",
       "    </tr>\n",
       "  </tbody>\n",
       "</table>\n",
       "</div>"
      ],
      "text/plain": [
       "gender                                F         M\n",
       "title                                            \n",
       "$1,000,000 Duck (1971)         3.375000  2.761905\n",
       "'Night Mother (1986)           3.388889  3.352941\n",
       "'Til There Was You (1997)      2.675676  2.733333\n",
       "'burbs, The (1989)             2.793478  2.962085\n",
       "...And Justice for All (1979)  3.828571  3.689024"
      ]
     },
     "execution_count": 15,
     "metadata": {},
     "output_type": "execute_result"
    }
   ],
   "source": [
    "gender_popularity_test[:5]"
   ]
  },
  {
   "cell_type": "code",
   "execution_count": 16,
   "metadata": {
    "collapsed": false
   },
   "outputs": [
    {
     "data": {
      "text/html": [
       "<div>\n",
       "<table border=\"1\" class=\"dataframe\">\n",
       "  <thead>\n",
       "    <tr style=\"text-align: right;\">\n",
       "      <th></th>\n",
       "      <th>len</th>\n",
       "      <th>mean</th>\n",
       "    </tr>\n",
       "    <tr>\n",
       "      <th>title</th>\n",
       "      <th></th>\n",
       "      <th></th>\n",
       "    </tr>\n",
       "  </thead>\n",
       "  <tbody>\n",
       "    <tr>\n",
       "      <th>'burbs, The (1989)</th>\n",
       "      <td>303</td>\n",
       "      <td>2.910891</td>\n",
       "    </tr>\n",
       "    <tr>\n",
       "      <th>10 Things I Hate About You (1999)</th>\n",
       "      <td>700</td>\n",
       "      <td>3.422857</td>\n",
       "    </tr>\n",
       "    <tr>\n",
       "      <th>101 Dalmatians (1961)</th>\n",
       "      <td>565</td>\n",
       "      <td>3.596460</td>\n",
       "    </tr>\n",
       "    <tr>\n",
       "      <th>101 Dalmatians (1996)</th>\n",
       "      <td>364</td>\n",
       "      <td>3.046703</td>\n",
       "    </tr>\n",
       "    <tr>\n",
       "      <th>12 Angry Men (1957)</th>\n",
       "      <td>616</td>\n",
       "      <td>4.295455</td>\n",
       "    </tr>\n",
       "  </tbody>\n",
       "</table>\n",
       "</div>"
      ],
      "text/plain": [
       "                                   len      mean\n",
       "title                                           \n",
       "'burbs, The (1989)                 303  2.910891\n",
       "10 Things I Hate About You (1999)  700  3.422857\n",
       "101 Dalmatians (1961)              565  3.596460\n",
       "101 Dalmatians (1996)              364  3.046703\n",
       "12 Angry Men (1957)                616  4.295455"
      ]
     },
     "execution_count": 16,
     "metadata": {},
     "output_type": "execute_result"
    }
   ],
   "source": [
    "# Calculate total number of ratings for each title\n",
    "ratings_by_title = data.groupby('title').size()\n",
    "\n",
    "# Determine the average number of total ratings per title\n",
    "average_total_ratings = sum(ratings_by_title)/len(ratings_by_title)\n",
    "\n",
    "# Determine which titles had above average total ratings and isolate those titles.\n",
    "high_total_titles = popularity_test.index[popularity_test['len'] >= average_total_ratings]\n",
    "high_total = popularity_test.ix[high_total_titles]\n",
    "\n",
    "high_total[:5]"
   ]
  },
  {
   "cell_type": "code",
   "execution_count": 17,
   "metadata": {
    "collapsed": false
   },
   "outputs": [
    {
     "data": {
      "text/plain": [
       "gender\n",
       "F    3.620366\n",
       "M    3.568879\n",
       "Name: rating, dtype: float64"
      ]
     },
     "execution_count": 17,
     "metadata": {},
     "output_type": "execute_result"
    }
   ],
   "source": [
    "# Determine the average of ALL ratings given by men and by women.\n",
    "gender_average_ratings = data.pivot_table('rating', index = 'gender',aggfunc = np.mean)\n",
    "gender_average_ratings"
   ]
  },
  {
   "cell_type": "code",
   "execution_count": 18,
   "metadata": {
    "collapsed": true
   },
   "outputs": [],
   "source": [
    "# Determine the titles with above average female ratings and isolate those titles among the movies with above average total ratings.\n",
    "high_female_titles = gender_popularity_test.index[gender_popularity_test['F'] >= gender_average_ratings['F']]\n",
    "high_total_female = high_total.ix[high_female_titles]\n",
    "\n",
    "# Among the above isolated titles, determine those with above average male ratings and isolate those titles.\n",
    "high_male_titles = gender_popularity_test.index[gender_popularity_test['M'] >= gender_average_ratings['M']]\n",
    "high_total_female_male = high_total_female.ix[high_male_titles]"
   ]
  },
  {
   "cell_type": "code",
   "execution_count": 19,
   "metadata": {
    "collapsed": false
   },
   "outputs": [
    {
     "data": {
      "text/html": [
       "<div>\n",
       "<table border=\"1\" class=\"dataframe\">\n",
       "  <thead>\n",
       "    <tr style=\"text-align: right;\">\n",
       "      <th></th>\n",
       "      <th>len</th>\n",
       "      <th>mean</th>\n",
       "    </tr>\n",
       "    <tr>\n",
       "      <th>title</th>\n",
       "      <th></th>\n",
       "      <th></th>\n",
       "    </tr>\n",
       "  </thead>\n",
       "  <tbody>\n",
       "    <tr>\n",
       "      <th>12 Angry Men (1957)</th>\n",
       "      <td>616</td>\n",
       "      <td>4.295455</td>\n",
       "    </tr>\n",
       "    <tr>\n",
       "      <th>20,000 Leagues Under the Sea (1954)</th>\n",
       "      <td>575</td>\n",
       "      <td>3.702609</td>\n",
       "    </tr>\n",
       "    <tr>\n",
       "      <th>2001: A Space Odyssey (1968)</th>\n",
       "      <td>1716</td>\n",
       "      <td>4.068765</td>\n",
       "    </tr>\n",
       "    <tr>\n",
       "      <th>Abyss, The (1989)</th>\n",
       "      <td>1715</td>\n",
       "      <td>3.683965</td>\n",
       "    </tr>\n",
       "    <tr>\n",
       "      <th>Adventures of Priscilla, Queen of the Desert, The (1994)</th>\n",
       "      <td>469</td>\n",
       "      <td>3.805970</td>\n",
       "    </tr>\n",
       "  </tbody>\n",
       "</table>\n",
       "</div>"
      ],
      "text/plain": [
       "                                                     len      mean\n",
       "title                                                             \n",
       "12 Angry Men (1957)                                  616  4.295455\n",
       "20,000 Leagues Under the Sea (1954)                  575  3.702609\n",
       "2001: A Space Odyssey (1968)                        1716  4.068765\n",
       "Abyss, The (1989)                                   1715  3.683965\n",
       "Adventures of Priscilla, Queen of the Desert, T...   469  3.805970"
      ]
     },
     "execution_count": 19,
     "metadata": {},
     "output_type": "execute_result"
    }
   ],
   "source": [
    "# Determine the popular movies, given the definition above.\n",
    "from numpy import nan as NA\n",
    "popular_movies = high_total_female_male.dropna(how = 'all')\n",
    "popular_movies[:5]"
   ]
  },
  {
   "cell_type": "code",
   "execution_count": 20,
   "metadata": {
    "collapsed": false
   },
   "outputs": [
    {
     "data": {
      "text/html": [
       "<div>\n",
       "<table border=\"1\" class=\"dataframe\">\n",
       "  <thead>\n",
       "    <tr style=\"text-align: right;\">\n",
       "      <th></th>\n",
       "      <th>len</th>\n",
       "      <th>mean</th>\n",
       "    </tr>\n",
       "    <tr>\n",
       "      <th>title</th>\n",
       "      <th></th>\n",
       "      <th></th>\n",
       "    </tr>\n",
       "  </thead>\n",
       "  <tbody>\n",
       "    <tr>\n",
       "      <th>Seven Samurai (The Magnificent Seven) (Shichinin no samurai) (1954)</th>\n",
       "      <td>628</td>\n",
       "      <td>4.560510</td>\n",
       "    </tr>\n",
       "    <tr>\n",
       "      <th>Shawshank Redemption, The (1994)</th>\n",
       "      <td>2227</td>\n",
       "      <td>4.554558</td>\n",
       "    </tr>\n",
       "    <tr>\n",
       "      <th>Godfather, The (1972)</th>\n",
       "      <td>2223</td>\n",
       "      <td>4.524966</td>\n",
       "    </tr>\n",
       "    <tr>\n",
       "      <th>Close Shave, A (1995)</th>\n",
       "      <td>657</td>\n",
       "      <td>4.520548</td>\n",
       "    </tr>\n",
       "    <tr>\n",
       "      <th>Usual Suspects, The (1995)</th>\n",
       "      <td>1783</td>\n",
       "      <td>4.517106</td>\n",
       "    </tr>\n",
       "    <tr>\n",
       "      <th>Schindler's List (1993)</th>\n",
       "      <td>2304</td>\n",
       "      <td>4.510417</td>\n",
       "    </tr>\n",
       "    <tr>\n",
       "      <th>Wrong Trousers, The (1993)</th>\n",
       "      <td>882</td>\n",
       "      <td>4.507937</td>\n",
       "    </tr>\n",
       "    <tr>\n",
       "      <th>Sunset Blvd. (a.k.a. Sunset Boulevard) (1950)</th>\n",
       "      <td>470</td>\n",
       "      <td>4.491489</td>\n",
       "    </tr>\n",
       "    <tr>\n",
       "      <th>Raiders of the Lost Ark (1981)</th>\n",
       "      <td>2514</td>\n",
       "      <td>4.477725</td>\n",
       "    </tr>\n",
       "    <tr>\n",
       "      <th>Rear Window (1954)</th>\n",
       "      <td>1050</td>\n",
       "      <td>4.476190</td>\n",
       "    </tr>\n",
       "  </tbody>\n",
       "</table>\n",
       "</div>"
      ],
      "text/plain": [
       "                                                     len      mean\n",
       "title                                                             \n",
       "Seven Samurai (The Magnificent Seven) (Shichini...   628  4.560510\n",
       "Shawshank Redemption, The (1994)                    2227  4.554558\n",
       "Godfather, The (1972)                               2223  4.524966\n",
       "Close Shave, A (1995)                                657  4.520548\n",
       "Usual Suspects, The (1995)                          1783  4.517106\n",
       "Schindler's List (1993)                             2304  4.510417\n",
       "Wrong Trousers, The (1993)                           882  4.507937\n",
       "Sunset Blvd. (a.k.a. Sunset Boulevard) (1950)        470  4.491489\n",
       "Raiders of the Lost Ark (1981)                      2514  4.477725\n",
       "Rear Window (1954)                                  1050  4.476190"
      ]
     },
     "execution_count": 20,
     "metadata": {},
     "output_type": "execute_result"
    }
   ],
   "source": [
    "# Given the popluar movies, determine the 10 most popular.\n",
    "most_popular_movies = popular_movies.sort_values(by='mean',ascending = False)\n",
    "most_popular_movies[:10]"
   ]
  },
  {
   "cell_type": "markdown",
   "metadata": {},
   "source": [
    "Make some conjectures about how easy various groups are to please? Support your answers with data!"
   ]
  },
  {
   "cell_type": "markdown",
   "metadata": {},
   "source": [
    "Conjecture 1.) The older a person gets, the more difficult they are to please."
   ]
  },
  {
   "cell_type": "code",
   "execution_count": 21,
   "metadata": {
    "collapsed": false
   },
   "outputs": [
    {
     "data": {
      "text/plain": [
       "age\n",
       "1     3.549520\n",
       "18    3.507573\n",
       "25    3.545235\n",
       "35    3.618162\n",
       "45    3.638062\n",
       "50    3.714512\n",
       "56    3.766632\n",
       "Name: rating, dtype: float64"
      ]
     },
     "execution_count": 21,
     "metadata": {},
     "output_type": "execute_result"
    }
   ],
   "source": [
    "# Compute average rating by age group\n",
    "age_avg_ratings = data.pivot_table('rating', index = 'age',aggfunc = np.mean)\n",
    "age_avg_ratings"
   ]
  },
  {
   "cell_type": "code",
   "execution_count": 22,
   "metadata": {
    "collapsed": false
   },
   "outputs": [
    {
     "data": {
      "text/plain": [
       "age\n",
       "1     2.627286\n",
       "18    3.524510\n",
       "25    4.040247\n",
       "35    3.644629\n",
       "45    3.340652\n",
       "50    3.278268\n",
       "56    2.321259\n",
       "Name: weighted_mean, dtype: float64"
      ]
     },
     "execution_count": 22,
     "metadata": {},
     "output_type": "execute_result"
    }
   ],
   "source": [
    "# Compute weighted average by weighting each rating by the total number of ratings that individual submits\n",
    "avg_by_user = data.pivot_table('rating',index = ['age','user_id'], aggfunc = [ len , np.mean])\n",
    "avg_by_user[:10]\n",
    "\n",
    "avg_ratings = np.mean(avg_by_user['len'])\n",
    "\n",
    "avg_by_user['weight'] = avg_by_user['len']/avg_ratings\n",
    "avg_by_user['weighted_mean'] = avg_by_user['mean']*avg_by_user['weight']\n",
    "\n",
    "age_avg_weighted_ratings = avg_by_user.pivot_table('weighted_mean', index = avg_by_user.index.droplevel(1), aggfunc = np.mean)\n",
    "age_avg_weighted_ratings"
   ]
  },
  {
   "cell_type": "code",
   "execution_count": 23,
   "metadata": {
    "collapsed": false
   },
   "outputs": [
    {
     "data": {
      "text/plain": [
       "rating\n",
       "1    27.411756\n",
       "2    28.607603\n",
       "3    29.730035\n",
       "4    30.154405\n",
       "5    30.221130\n",
       "Name: age, dtype: float64"
      ]
     },
     "execution_count": 23,
     "metadata": {},
     "output_type": "execute_result"
    }
   ],
   "source": [
    "# Compute average age per rating\n",
    "avg_age_ratings = data.pivot_table('age', index = 'rating',aggfunc = np.mean)\n",
    "avg_age_ratings"
   ]
  },
  {
   "cell_type": "code",
   "execution_count": 107,
   "metadata": {
    "collapsed": false
   },
   "outputs": [
    {
     "name": "stdout",
     "output_type": "stream",
     "text": [
      "Frequency of Age Groups Ratings\n",
      "rating      1      2       3       4      5\n",
      "age                                        \n",
      "1        2238   2983    6380    8808   6802\n",
      "18      13063  22073   47601   60241  40558\n",
      "25      23898  44817  104287  136824  85730\n",
      "35       9067  20253   52990   71983  44710\n",
      "45       3409   8437   22311   30334  19142\n",
      "50       2948   5993   18465   26484  18600\n",
      "56       1551   3001    9163   14297  10768\n"
     ]
    }
   ],
   "source": [
    "age_counts = data.pivot_table('title', index='age', columns='rating', aggfunc='count')\n",
    "print 'Frequency of Age Groups Ratings'\n",
    "print age_counts"
   ]
  },
  {
   "cell_type": "code",
   "execution_count": 108,
   "metadata": {
    "collapsed": false
   },
   "outputs": [
    {
     "data": {
      "text/html": [
       "<div>\n",
       "<table border=\"1\" class=\"dataframe\">\n",
       "  <thead>\n",
       "    <tr style=\"text-align: right;\">\n",
       "      <th>rating</th>\n",
       "      <th>1</th>\n",
       "      <th>2</th>\n",
       "      <th>3</th>\n",
       "      <th>4</th>\n",
       "      <th>5</th>\n",
       "    </tr>\n",
       "    <tr>\n",
       "      <th>age</th>\n",
       "      <th></th>\n",
       "      <th></th>\n",
       "      <th></th>\n",
       "      <th></th>\n",
       "      <th></th>\n",
       "    </tr>\n",
       "  </thead>\n",
       "  <tbody>\n",
       "    <tr>\n",
       "      <th>1</th>\n",
       "      <td>0.082246</td>\n",
       "      <td>0.109625</td>\n",
       "      <td>0.234464</td>\n",
       "      <td>0.323693</td>\n",
       "      <td>0.249972</td>\n",
       "    </tr>\n",
       "    <tr>\n",
       "      <th>18</th>\n",
       "      <td>0.071174</td>\n",
       "      <td>0.120265</td>\n",
       "      <td>0.259355</td>\n",
       "      <td>0.328224</td>\n",
       "      <td>0.220981</td>\n",
       "    </tr>\n",
       "    <tr>\n",
       "      <th>25</th>\n",
       "      <td>0.060416</td>\n",
       "      <td>0.113301</td>\n",
       "      <td>0.263647</td>\n",
       "      <td>0.345903</td>\n",
       "      <td>0.216733</td>\n",
       "    </tr>\n",
       "    <tr>\n",
       "      <th>35</th>\n",
       "      <td>0.045562</td>\n",
       "      <td>0.101772</td>\n",
       "      <td>0.266277</td>\n",
       "      <td>0.361718</td>\n",
       "      <td>0.224670</td>\n",
       "    </tr>\n",
       "    <tr>\n",
       "      <th>45</th>\n",
       "      <td>0.040761</td>\n",
       "      <td>0.100881</td>\n",
       "      <td>0.266773</td>\n",
       "      <td>0.362704</td>\n",
       "      <td>0.228881</td>\n",
       "    </tr>\n",
       "    <tr>\n",
       "      <th>50</th>\n",
       "      <td>0.040668</td>\n",
       "      <td>0.082673</td>\n",
       "      <td>0.254725</td>\n",
       "      <td>0.365347</td>\n",
       "      <td>0.256587</td>\n",
       "    </tr>\n",
       "    <tr>\n",
       "      <th>56</th>\n",
       "      <td>0.039995</td>\n",
       "      <td>0.077385</td>\n",
       "      <td>0.236282</td>\n",
       "      <td>0.368669</td>\n",
       "      <td>0.277669</td>\n",
       "    </tr>\n",
       "  </tbody>\n",
       "</table>\n",
       "</div>"
      ],
      "text/plain": [
       "rating         1         2         3         4         5\n",
       "age                                                     \n",
       "1       0.082246  0.109625  0.234464  0.323693  0.249972\n",
       "18      0.071174  0.120265  0.259355  0.328224  0.220981\n",
       "25      0.060416  0.113301  0.263647  0.345903  0.216733\n",
       "35      0.045562  0.101772  0.266277  0.361718  0.224670\n",
       "45      0.040761  0.100881  0.266773  0.362704  0.228881\n",
       "50      0.040668  0.082673  0.254725  0.365347  0.256587\n",
       "56      0.039995  0.077385  0.236282  0.368669  0.277669"
      ]
     },
     "execution_count": 108,
     "metadata": {},
     "output_type": "execute_result"
    }
   ],
   "source": [
    "#normalize\n",
    "age_counts_norm = age_counts.div(age_counts.sum(1).astype(float), axis=0)\n",
    "age_counts_norm"
   ]
  },
  {
   "cell_type": "code",
   "execution_count": 115,
   "metadata": {
    "collapsed": false
   },
   "outputs": [
    {
     "data": {
      "text/plain": [
       "<matplotlib.legend.Legend at 0xb752dd8>"
      ]
     },
     "execution_count": 115,
     "metadata": {},
     "output_type": "execute_result"
    },
    {
     "data": {
      "image/png": "[encoded data removed]",
      "text/plain": [
       "<matplotlib.figure.Figure at 0x1a6558d0>"
      ]
     },
     "metadata": {},
     "output_type": "display_data"
    }
   ],
   "source": [
    "#plot percentage of each rate from each age group\n",
    "age_counts_norm.plot(ylim=[0,0.4],kind='bar',title = \"Percent of Ratings By Age\").legend(bbox_to_anchor=(1.05, 1), loc=2, borderaxespad=0.)\n"
   ]
  },
  {
   "cell_type": "markdown",
   "metadata": {},
   "source": [
    "Conclusion: False.  In fact, an older person is more likely than a younger person to give a rating of 5, and less likely to give a rating of 1.  More details presented in the report."
   ]
  },
  {
   "cell_type": "markdown",
   "metadata": {},
   "source": [
    "Conjecture 2.) Tired people are more easy to please"
   ]
  },
  {
   "cell_type": "code",
   "execution_count": 184,
   "metadata": {
    "collapsed": true
   },
   "outputs": [],
   "source": [
    "import time\n",
    "timestamps = data['timestamp']\n",
    "\n",
    "# Time stamps are reported in seconds since epoch.  Convert these values to local time, and extract the hour.\n",
    "hour = [time.localtime(stamp).tm_hour for stamp in timestamps.values]\n",
    "hour_series = pd.DataFrame(hour, index=data.index)\n",
    "\n",
    "# Append the hour each rating was reported to the data set.\n",
    "data['hour'] = hour_series"
   ]
  },
  {
   "cell_type": "code",
   "execution_count": 25,
   "metadata": {
    "collapsed": false
   },
   "outputs": [
    {
     "data": {
      "text/plain": [
       "hour\n",
       "0     3.532635\n",
       "1     3.527360\n",
       "2     3.531431\n",
       "3     3.602150\n",
       "4     3.547933\n",
       "5     3.573614\n",
       "6     3.557967\n",
       "7     3.547619\n",
       "8     3.605558\n",
       "9     3.572180\n",
       "10    3.604116\n",
       "11    3.616663\n",
       "12    3.581185\n",
       "13    3.603956\n",
       "14    3.600098\n",
       "15    3.584636\n",
       "16    3.596764\n",
       "17    3.566583\n",
       "18    3.588092\n",
       "19    3.603550\n",
       "20    3.579090\n",
       "21    3.557242\n",
       "22    3.612470\n",
       "23    3.580279\n",
       "Name: rating, dtype: float64"
      ]
     },
     "execution_count": 25,
     "metadata": {},
     "output_type": "execute_result"
    }
   ],
   "source": [
    "# Use a pivot table to determine the average overall rating by hour.\n",
    "avg_by_hour = data.pivot_table('rating',index = 'hour', aggfunc = np.mean)\n",
    "avg_by_hour"
   ]
  },
  {
   "cell_type": "code",
   "execution_count": 69,
   "metadata": {
    "collapsed": false
   },
   "outputs": [
    {
     "data": {
      "text/html": [
       "<div>\n",
       "<table border=\"1\" class=\"dataframe\">\n",
       "  <thead>\n",
       "    <tr style=\"text-align: right;\">\n",
       "      <th></th>\n",
       "      <th>Percent Ratings 5</th>\n",
       "      <th>Percent Raings 1</th>\n",
       "    </tr>\n",
       "  </thead>\n",
       "  <tbody>\n",
       "    <tr>\n",
       "      <th>Wee Hours</th>\n",
       "      <td>0.224152</td>\n",
       "      <td>0.058127</td>\n",
       "    </tr>\n",
       "    <tr>\n",
       "      <th>Total</th>\n",
       "      <td>0.226263</td>\n",
       "      <td>0.056162</td>\n",
       "    </tr>\n",
       "  </tbody>\n",
       "</table>\n",
       "</div>"
      ],
      "text/plain": [
       "           Percent Ratings 5  Percent Raings 1\n",
       "Wee Hours           0.224152          0.058127\n",
       "Total               0.226263          0.056162"
      ]
     },
     "execution_count": 69,
     "metadata": {},
     "output_type": "execute_result"
    }
   ],
   "source": [
    "wee_hours_data = data[np.logical_or(data['hour']>= 22,data['hour']<=5)]\n",
    "wee_hours_5 = wee_hours_data[wee_hours_data['rating']==5]\n",
    "wee_hours_1 = wee_hours_data[wee_hours_data['rating']==1]\n",
    "\n",
    "total_5 = data[data['rating']==5]\n",
    "total_1 = data[data['rating']==1]\n",
    "\n",
    "wee_hours_5_percent = float(len(wee_hours_5))/len(wee_hours_data)\n",
    "wee_hours_1_percent = float(len(wee_hours_1))/len(wee_hours_data)\n",
    "\n",
    "total_5_percent = float(len(total_5))/len(data)\n",
    "total_1_percent = float(len(total_1))/len(data)\n",
    "\n",
    "compdat = {'Percent Ratings 5':[wee_hours_5_percent , total_5_percent], \n",
    "                          'Percent Raings 1':[wee_hours_1_percent, total_1_percent]}\n",
    "comp = pd.DataFrame(compdat, columns=['Percent Ratings 5','Percent Raings 1'], index=['Wee Hours','Total'])\n",
    "comp\n"
   ]
  },
  {
   "cell_type": "markdown",
   "metadata": {},
   "source": [
    "Conclusion: False.  If the conjecture were true, we would expect to see noticeably higher average ratings at very large and very small hours.  This is clearly not the case."
   ]
  },
  {
   "cell_type": "markdown",
   "metadata": {},
   "source": [
    "# Problem 2 (20 points total): Expand our investigation to histograms\n",
    "\n",
    "**An obvious issue with any inferences drawn from Problem 1 is that we did not consider how many times a movie was rated.** \n",
    "* (2 points) Plot a histogram of the ratings of all movies.\n",
    "* (2 points) Plot a histogram of the *number* of ratings each movie recieved.\n",
    "* (2 points) Plot a histogram of the *average rating* for each movie.\n",
    "* (6 points) Plot a histogram of the *average rating* for movies which are rated more than 100 times.\n",
    "    * What do you observe about the tails of the histogram where you use all the movies versus the one where you only use movies rated more than 100 times?\n",
    "    * Which highly rated movies would you trust are actually good?  Those rated more than 100 times or those rated less than 100 times?\n",
    "* (8 points) Make some conjectures about the distribution of ratings? Support your answers with data!  \n",
    "    *  For example, what age range do you think has more extreme ratings?  Do you think children are more or less likely to rate a movie 1 or 5?\n",
    "    *  Be sure to come up with your own conjectures and support them with data!"
   ]
  },
  {
   "cell_type": "markdown",
   "metadata": {
    "collapsed": false
   },
   "source": [
    "Plot a histogram of the ratings of all movies."
   ]
  },
  {
   "cell_type": "code",
   "execution_count": 98,
   "metadata": {
    "collapsed": false
   },
   "outputs": [
    {
     "data": {
      "text/plain": [
       "<matplotlib.text.Text at 0x1598d978>"
      ]
     },
     "execution_count": 98,
     "metadata": {},
     "output_type": "execute_result"
    },
    {
     "data": {
      "image/png": "[encoded data removed]",
      "text/plain": [
       "<matplotlib.figure.Figure at 0x11eaeeb8>"
      ]
     },
     "metadata": {},
     "output_type": "display_data"
    }
   ],
   "source": [
    "%matplotlib inline \n",
    "\n",
    "#Plot a histogram of the ratings of all movies.\n",
    "Rating_all=data.pivot_table('title',index='rating',aggfunc='count')\n",
    "Rating_all.plot(kind='bar', color='green')\n",
    "plt.title('Histogram of all ratings')\n",
    "plt.ylabel('Total number')"
   ]
  },
  {
   "cell_type": "markdown",
   "metadata": {},
   "source": [
    "Plot a histogram of the number of ratings each movie recieved."
   ]
  },
  {
   "cell_type": "code",
   "execution_count": 101,
   "metadata": {
    "collapsed": false
   },
   "outputs": [
    {
     "data": {
      "text/plain": [
       "<matplotlib.text.Text at 0xcbcbeb8>"
      ]
     },
     "execution_count": 101,
     "metadata": {},
     "output_type": "execute_result"
    },
    {
     "data": {
      "image/png": "[encoded data removed]",
      "text/plain": [
       "<matplotlib.figure.Figure at 0xfd87208>"
      ]
     },
     "metadata": {},
     "output_type": "display_data"
    }
   ],
   "source": [
    "#Plot a histogram of the number of ratings each movie recieved.\n",
    "Rating_each=data.pivot_table('rating',index='title',aggfunc='count')\n",
    "Rating_each.hist()\n",
    "plt.title('Histogram of Number of ratings each movie received')\n",
    "plt.ylabel('Number of Movies')\n",
    "plt.xlabel('Number of Ratings')"
   ]
  },
  {
   "cell_type": "markdown",
   "metadata": {},
   "source": [
    "Plot a histogram of the average rating for each movie."
   ]
  },
  {
   "cell_type": "code",
   "execution_count": 102,
   "metadata": {
    "collapsed": false
   },
   "outputs": [
    {
     "data": {
      "text/plain": [
       "<matplotlib.text.Text at 0x1599d1d0>"
      ]
     },
     "execution_count": 102,
     "metadata": {},
     "output_type": "execute_result"
    },
    {
     "data": {
      "image/png": "[encoded data removed]",
      "text/plain": [
       "<matplotlib.figure.Figure at 0xcafe128>"
      ]
     },
     "metadata": {},
     "output_type": "display_data"
    }
   ],
   "source": [
    "#Plot a histogram of the average rating for each movie.\n",
    "Avg_rating_each=data.pivot_table('rating',index='title',aggfunc='mean')\n",
    "Avg_rating_each.hist(color='orange')\n",
    "plt.title('Histogram of Average rating for each movie')\n",
    "plt.ylabel('Number of Movies')\n",
    "plt.xlabel('Average Rating')"
   ]
  },
  {
   "cell_type": "markdown",
   "metadata": {},
   "source": [
    "Plot a histogram of the average rating for movies which are rated more than 100 times."
   ]
  },
  {
   "cell_type": "code",
   "execution_count": 103,
   "metadata": {
    "collapsed": false
   },
   "outputs": [
    {
     "data": {
      "text/plain": [
       "<matplotlib.text.Text at 0xcbd6c88>"
      ]
     },
     "execution_count": 103,
     "metadata": {},
     "output_type": "execute_result"
    },
    {
     "data": {
      "image/png": "[encoded data removed]",
      "text/plain": [
       "<matplotlib.figure.Figure at 0x1a29df98>"
      ]
     },
     "metadata": {},
     "output_type": "display_data"
    }
   ],
   "source": [
    "#Plot a histogram of the average rating for movies which are rated more than 100 times.\n",
    "rating_by_title = data.groupby('title').size() \n",
    "active_titles = rating_by_title.index[rating_by_title > 100] \n",
    "avg_ratings_each_active = Avg_rating_each.ix[active_titles] \n",
    "avg_ratings_each_active.hist(color='red')\n",
    "plt.title('average rating for movies rated more than 100 times')\n",
    "plt.ylabel('Number of Movies')\n",
    "plt.xlabel('Average rating')"
   ]
  },
  {
   "cell_type": "markdown",
   "metadata": {},
   "source": [
    "Make some conjectures about the distribution of ratings? Support your answers with data!"
   ]
  },
  {
   "cell_type": "markdown",
   "metadata": {},
   "source": [
    "Conjecture 1: Movies with fewer total ratings have a distribution of all ratings which is closer to a uniform distribution due to a larger percent of low-end extreme ratings."
   ]
  },
  {
   "cell_type": "code",
   "execution_count": 153,
   "metadata": {
    "collapsed": false
   },
   "outputs": [],
   "source": [
    "# Select the movies with less than half the average number of total ratings.\n",
    "rating_by_title = data.groupby('title').size() \n",
    "inactive_titles = rating_by_title.index[rating_by_title <= average_total_ratings/2]\n",
    "\n",
    "inactive = [title in inactive_titles.values for title in data['title']]\n",
    "inactive_series = pd.DataFrame(inactive, index = data.index)\n",
    "data['Inactive'] = inactive_series\n",
    "\n",
    "inactive_data = data[data['Inactive']]\n"
   ]
  },
  {
   "cell_type": "code",
   "execution_count": 161,
   "metadata": {
    "collapsed": false
   },
   "outputs": [
    {
     "data": {
      "text/plain": [
       "<matplotlib.text.Text at 0x3cd4b550>"
      ]
     },
     "execution_count": 161,
     "metadata": {},
     "output_type": "execute_result"
    },
    {
     "data": {
      "image/png": "[encoded data removed]",
      "text/plain": [
       "<matplotlib.figure.Figure at 0x3ceb6358>"
      ]
     },
     "metadata": {},
     "output_type": "display_data"
    }
   ],
   "source": [
    "inactive_rating_all=inactive_data.pivot_table('title',index='rating',aggfunc='count')\n",
    "inactive_rating_all.plot(kind='bar', color='blue')\n",
    "plt.title('Histogram of ratings of movies \\n with less than half the average number of ratings')\n",
    "plt.ylabel('Total number')"
   ]
  },
  {
   "cell_type": "code",
   "execution_count": 165,
   "metadata": {
    "collapsed": false
   },
   "outputs": [],
   "source": [
    "# Select the movies with less more than twice the average number of total ratings.\n",
    "rating_by_title = data.groupby('title').size() \n",
    "wayactive_titles = rating_by_title.index[rating_by_title >= average_total_ratings*2]\n",
    "\n",
    "wayactive = [title in wayactive_titles.values for title in data['title']]\n",
    "wayactive_series = pd.DataFrame(wayactive, index = data.index)\n",
    "data['wayactive'] = wayactive_series\n",
    "\n",
    "wayactive_data = data[data['wayactive']]"
   ]
  },
  {
   "cell_type": "code",
   "execution_count": 166,
   "metadata": {
    "collapsed": false
   },
   "outputs": [
    {
     "data": {
      "text/plain": [
       "<matplotlib.text.Text at 0x3cebd4a8>"
      ]
     },
     "execution_count": 166,
     "metadata": {},
     "output_type": "execute_result"
    },
    {
     "data": {
      "image/png": "[encoded data removed]",
      "text/plain": [
       "<matplotlib.figure.Figure at 0x3cc9ac88>"
      ]
     },
     "metadata": {},
     "output_type": "display_data"
    }
   ],
   "source": [
    "wayactive_rating_all=wayactive_data.pivot_table('title',index='rating',aggfunc='count')\n",
    "wayactive_rating_all.plot(kind='bar', color='blue')\n",
    "plt.title('Histogram of ratings of movies with \\n more than twice the average number of ratings')\n",
    "plt.ylabel('Total number')"
   ]
  },
  {
   "cell_type": "markdown",
   "metadata": {},
   "source": [
    "Conjecture 2: The distribution of all ratings of older movies is less normally-distributed than that of newer movies.  Newer movies are likely being watched by audiences looking to be entertained.  Those watching older movies (i.e. movies made before 1960) likely have some nostalgia tied up in these older films."
   ]
  },
  {
   "cell_type": "code",
   "execution_count": 227,
   "metadata": {
    "collapsed": false
   },
   "outputs": [
    {
     "data": {
      "text/html": [
       "<div>\n",
       "<table border=\"1\" class=\"dataframe\">\n",
       "  <thead>\n",
       "    <tr style=\"text-align: right;\">\n",
       "      <th></th>\n",
       "      <th>user_id</th>\n",
       "      <th>movie_id</th>\n",
       "      <th>rating</th>\n",
       "      <th>timestamp</th>\n",
       "      <th>gender</th>\n",
       "      <th>age</th>\n",
       "      <th>occupation</th>\n",
       "      <th>zip</th>\n",
       "      <th>title</th>\n",
       "      <th>genres</th>\n",
       "      <th>hour</th>\n",
       "      <th>year</th>\n",
       "    </tr>\n",
       "  </thead>\n",
       "  <tbody>\n",
       "    <tr>\n",
       "      <th>0</th>\n",
       "      <td>1</td>\n",
       "      <td>1193</td>\n",
       "      <td>5</td>\n",
       "      <td>978300760</td>\n",
       "      <td>F</td>\n",
       "      <td>1</td>\n",
       "      <td>10</td>\n",
       "      <td>48067</td>\n",
       "      <td>One Flew Over the Cuckoo's Nest (1975)</td>\n",
       "      <td>Drama</td>\n",
       "      <td>17</td>\n",
       "      <td>1975</td>\n",
       "    </tr>\n",
       "    <tr>\n",
       "      <th>1</th>\n",
       "      <td>2</td>\n",
       "      <td>1193</td>\n",
       "      <td>5</td>\n",
       "      <td>978298413</td>\n",
       "      <td>M</td>\n",
       "      <td>56</td>\n",
       "      <td>16</td>\n",
       "      <td>70072</td>\n",
       "      <td>One Flew Over the Cuckoo's Nest (1975)</td>\n",
       "      <td>Drama</td>\n",
       "      <td>16</td>\n",
       "      <td>1975</td>\n",
       "    </tr>\n",
       "    <tr>\n",
       "      <th>2</th>\n",
       "      <td>12</td>\n",
       "      <td>1193</td>\n",
       "      <td>4</td>\n",
       "      <td>978220179</td>\n",
       "      <td>M</td>\n",
       "      <td>25</td>\n",
       "      <td>12</td>\n",
       "      <td>32793</td>\n",
       "      <td>One Flew Over the Cuckoo's Nest (1975)</td>\n",
       "      <td>Drama</td>\n",
       "      <td>18</td>\n",
       "      <td>1975</td>\n",
       "    </tr>\n",
       "    <tr>\n",
       "      <th>3</th>\n",
       "      <td>15</td>\n",
       "      <td>1193</td>\n",
       "      <td>4</td>\n",
       "      <td>978199279</td>\n",
       "      <td>M</td>\n",
       "      <td>25</td>\n",
       "      <td>7</td>\n",
       "      <td>22903</td>\n",
       "      <td>One Flew Over the Cuckoo's Nest (1975)</td>\n",
       "      <td>Drama</td>\n",
       "      <td>13</td>\n",
       "      <td>1975</td>\n",
       "    </tr>\n",
       "    <tr>\n",
       "      <th>4</th>\n",
       "      <td>17</td>\n",
       "      <td>1193</td>\n",
       "      <td>5</td>\n",
       "      <td>978158471</td>\n",
       "      <td>M</td>\n",
       "      <td>50</td>\n",
       "      <td>1</td>\n",
       "      <td>95350</td>\n",
       "      <td>One Flew Over the Cuckoo's Nest (1975)</td>\n",
       "      <td>Drama</td>\n",
       "      <td>1</td>\n",
       "      <td>1975</td>\n",
       "    </tr>\n",
       "  </tbody>\n",
       "</table>\n",
       "</div>"
      ],
      "text/plain": [
       "   user_id  movie_id  rating  timestamp gender  age  occupation    zip  \\\n",
       "0        1      1193       5  978300760      F    1          10  48067   \n",
       "1        2      1193       5  978298413      M   56          16  70072   \n",
       "2       12      1193       4  978220179      M   25          12  32793   \n",
       "3       15      1193       4  978199279      M   25           7  22903   \n",
       "4       17      1193       5  978158471      M   50           1  95350   \n",
       "\n",
       "                                    title genres  hour  year  \n",
       "0  One Flew Over the Cuckoo's Nest (1975)  Drama    17  1975  \n",
       "1  One Flew Over the Cuckoo's Nest (1975)  Drama    16  1975  \n",
       "2  One Flew Over the Cuckoo's Nest (1975)  Drama    18  1975  \n",
       "3  One Flew Over the Cuckoo's Nest (1975)  Drama    13  1975  \n",
       "4  One Flew Over the Cuckoo's Nest (1975)  Drama     1  1975  "
      ]
     },
     "execution_count": 227,
     "metadata": {},
     "output_type": "execute_result"
    }
   ],
   "source": [
    "# Extract the year from the title\n",
    "\n",
    "def extract(string, start='(', stop=')'):\n",
    "        while string.index(stop) - (string.index(start)+1)!= 4:\n",
    "            string = string[:string.index(start)] + string[string.index(stop)+1:]\n",
    "        return string[string.index(start)+1:string.index(stop)]\n",
    "    \n",
    "titles = data['title']\n",
    "year = [int(extract(title)) for title in titles]\n",
    "year_series = pd.DataFrame(year, index=data.index)\n",
    "data['year'] = year_series\n",
    "\n",
    "data[:5]"
   ]
  },
  {
   "cell_type": "code",
   "execution_count": 208,
   "metadata": {
    "collapsed": false
   },
   "outputs": [
    {
     "data": {
      "text/plain": [
       "1959"
      ]
     },
     "execution_count": 208,
     "metadata": {},
     "output_type": "execute_result"
    }
   ],
   "source": [
    "year_array = list(set(data['year'].values))\n",
    "average_year = int(float(sum(year_array))/len(year_array))\n",
    "average_year"
   ]
  },
  {
   "cell_type": "code",
   "execution_count": 221,
   "metadata": {
    "collapsed": false,
    "scrolled": true
   },
   "outputs": [
    {
     "data": {
      "text/plain": [
       "<matplotlib.text.Text at 0x54ec1630>"
      ]
     },
     "execution_count": 221,
     "metadata": {},
     "output_type": "execute_result"
    },
    {
     "data": {
      "image/png": "[encoded data removed]",
      "text/plain": [
       "<matplotlib.figure.Figure at 0x552453c8>"
      ]
     },
     "metadata": {},
     "output_type": "display_data"
    }
   ],
   "source": [
    "old_data = data[data['year']<= average_year]\n",
    "old_rating_all=old_data.pivot_table('title',index='rating',aggfunc='count')\n",
    "old_rating_all.plot(kind='bar', color='blue')\n",
    "plt.title('Histogram of all of early movies')\n",
    "plt.ylabel('Total number')"
   ]
  },
  {
   "cell_type": "code",
   "execution_count": 266,
   "metadata": {
    "collapsed": false
   },
   "outputs": [
    {
     "data": {
      "text/plain": [
       "<matplotlib.text.Text at 0x45646c18>"
      ]
     },
     "execution_count": 266,
     "metadata": {},
     "output_type": "execute_result"
    },
    {
     "data": {
      "image/png": "[encoded data removed]",
      "text/plain": [
       "<matplotlib.figure.Figure at 0x4530fda0>"
      ]
     },
     "metadata": {},
     "output_type": "display_data"
    }
   ],
   "source": [
    "newer_data = data[data['year']>= average_year]\n",
    "new_rating_all=newer_data.pivot_table('title',index='rating',aggfunc='count')\n",
    "new_rating_all.plot(kind='bar', color='green')\n",
    "plt.title('Histogram of all of newer movies')\n",
    "plt.ylabel('Total number')"
   ]
  },
  {
   "cell_type": "markdown",
   "metadata": {},
   "source": [
    "*------------------------\n",
    "\n",
    "# Problem 3: (20 points total)\n",
    "## Correlation:  Men versus women\n",
    "\n",
    "Let look more closely at the relationship between the pieces of data we have."
   ]
  },
  {
   "cell_type": "markdown",
   "metadata": {},
   "source": [
    "* (2 points) Make a scatter plot of men versus women and their mean rating for every movie.\n",
    "* (2 points) Make a scatter plot of men versus women and their mean rating for movies rated more than 200 times.\n",
    "* (6 points) Compute the *correlation coefficent* between the ratings of men and women.\n",
    "    * What do you observe?\n",
    "    * Are the ratings similiar or not? Support your answer with data!\n",
    "* (10 points) Conjecture under what circumstances the rating given by one gender can be used to predict the rating given by the other gender.\n",
    "    * For example, are men and women more similar when they are younger or older?\n",
    "    * Be sure to come up with your own conjectures and support them with data!"
   ]
  },
  {
   "cell_type": "code",
   "execution_count": 32,
   "metadata": {
    "collapsed": false
   },
   "outputs": [],
   "source": [
    "%matplotlib inline\n",
    "\n",
    "import matplotlib\n",
    "import matplotlib.pyplot as plt"
   ]
  },
  {
   "cell_type": "code",
   "execution_count": 74,
   "metadata": {
    "collapsed": false
   },
   "outputs": [
    {
     "data": {
      "text/plain": [
       "gender\n",
       "F    1709\n",
       "M    4331\n",
       "dtype: int64"
      ]
     },
     "execution_count": 74,
     "metadata": {},
     "output_type": "execute_result"
    }
   ],
   "source": [
    "# among total6040 users, how many female? how may male?\n",
    "users.groupby('gender').size()"
   ]
  },
  {
   "cell_type": "code",
   "execution_count": 75,
   "metadata": {
    "collapsed": false
   },
   "outputs": [
    {
     "data": {
      "text/plain": [
       "gender\n",
       "F    246440\n",
       "M    753769\n",
       "dtype: int64"
      ]
     },
     "execution_count": 75,
     "metadata": {},
     "output_type": "execute_result"
    }
   ],
   "source": [
    "#among total 100209 rating records, how many was made by female? how many was made by male?\n",
    "data.groupby('gender').size()"
   ]
  },
  {
   "cell_type": "markdown",
   "metadata": {},
   "source": [
    "Make a scatter plot of men versus women and their mean rating for every movie."
   ]
  },
  {
   "cell_type": "code",
   "execution_count": 238,
   "metadata": {
    "collapsed": false
   },
   "outputs": [
    {
     "data": {
      "text/plain": [
       "<matplotlib.text.Text at 0x546ce7f0>"
      ]
     },
     "execution_count": 238,
     "metadata": {},
     "output_type": "execute_result"
    },
    {
     "data": {
      "image/png": "[encoded data removed]",
      "text/plain": [
       "<matplotlib.figure.Figure at 0x53ce3cc0>"
      ]
     },
     "metadata": {},
     "output_type": "display_data"
    }
   ],
   "source": [
    "# Use a pivot table to compute mean ratings per title by gender\n",
    "mean_ratings = data.pivot_table('rating',index = 'title',columns = 'gender',aggfunc = 'mean')\n",
    "\n",
    "# Scatter this data.\n",
    "plt.scatter(mean_ratings['M'], mean_ratings['F'])\n",
    "plt.title('Average Ratings by Movie')\n",
    "plt.ylabel('Average female rating')\n",
    "plt.xlabel('Average male rating')"
   ]
  },
  {
   "cell_type": "markdown",
   "metadata": {},
   "source": [
    "Make a scatter plot of men versus women and their mean rating for movies rated more than 200 times."
   ]
  },
  {
   "cell_type": "code",
   "execution_count": 239,
   "metadata": {
    "collapsed": false
   },
   "outputs": [
    {
     "data": {
      "text/plain": [
       "<matplotlib.text.Text at 0x53df59e8>"
      ]
     },
     "execution_count": 239,
     "metadata": {},
     "output_type": "execute_result"
    },
    {
     "data": {
      "image/png": "[encoded data removed]",
      "text/plain": [
       "<matplotlib.figure.Figure at 0x53c86828>"
      ]
     },
     "metadata": {},
     "output_type": "display_data"
    }
   ],
   "source": [
    "# Determine titles with more than 200 total ratings.\n",
    "ratings_by_title = data.groupby('title').size()\n",
    "active_titles = ratings_by_title.index[ratings_by_title > 200]\n",
    "\n",
    "# Extract these titles\n",
    "over_200_mean_ratings = mean_ratings.ix[active_titles]\n",
    "\n",
    "#Produce scatter plot\n",
    "plt.scatter(over_200_mean_ratings['M'], over_200_mean_ratings['F'])\n",
    "plt.title('Average Ratings by Movie, \\n Among movies rated more than 200 times')\n",
    "plt.ylabel('Average female rating')\n",
    "plt.xlabel('Average male rating')"
   ]
  },
  {
   "cell_type": "markdown",
   "metadata": {},
   "source": [
    "Compute the *correlation coefficent* between the ratings of men and women.\n",
    "    * What do you observe?\n",
    "    * Are the ratings similiar or not? Support your answer with data!"
   ]
  },
  {
   "cell_type": "code",
   "execution_count": 38,
   "metadata": {
    "collapsed": false
   },
   "outputs": [
    {
     "name": "stdout",
     "output_type": "stream",
     "text": [
      "correlation coefficient between averege male and female ratings 0.763189890858\n"
     ]
    }
   ],
   "source": [
    "# Compute the correlation coefficient\n",
    "print 'correlation coefficient between averege male and female ratings: {0}'.format(mean_ratings.M.corr(mean_ratings.F))"
   ]
  },
  {
   "cell_type": "code",
   "execution_count": 39,
   "metadata": {
    "collapsed": false
   },
   "outputs": [
    {
     "name": "stdout",
     "output_type": "stream",
     "text": [
      "correlation coefficient between averege male and female ratings among movies with over 200 ratings: 0.918361385703\n"
     ]
    }
   ],
   "source": [
    "# Based on scatter plots above, it is clear that men and women tend to agree more when the movies have a higher total number\n",
    "# of ratings.  Calculate the correlation coeffcient in this case\n",
    "print 'correlation coefficient between averege male and female ratings among movies with over 200 ratings: {0}'.format(\n",
    "    over_200_mean_ratings.M.corr(over_200_mean_ratings.F))"
   ]
  },
  {
   "cell_type": "code",
   "execution_count": 253,
   "metadata": {
    "collapsed": false
   },
   "outputs": [
    {
     "data": {
      "text/plain": [
       "Total number of Ratings\n",
       "0                                      0.000000\n",
       "Total ratings between 1 and 2               NaN\n",
       "Total ratings between 2 and 4          0.398274\n",
       "Total ratings between 4 and 8          0.343599\n",
       "Total ratings between 8 and 16         0.515807\n",
       "Total ratings between 16 and 32        0.573141\n",
       "Total ratings between 32 and 64        0.786651\n",
       "Total ratings between 64 and 128       0.867470\n",
       "Total ratings between 128 and 256      0.916493\n",
       "Total ratings between 256 and 512      0.924317\n",
       "Total ratings between 512 and 1024     0.880580\n",
       "Total ratings between 1024 and 2048    0.852633\n",
       "Total ratings between 2048 and 4096    0.850174\n",
       "Name: Correlation coefficient between average Male and Female Ratings per Movie, dtype: float64"
      ]
     },
     "execution_count": 253,
     "metadata": {},
     "output_type": "execute_result"
    }
   ],
   "source": [
    "# Given this observed in crease in correlation coefficient, we now compute the correlation coefficient based on the number of \n",
    "# total ratings:\n",
    "ratings_by_title = data.groupby('title').size()\n",
    "mean_ratings = data.pivot_table('rating',index = 'title',columns = 'gender',aggfunc = 'mean')\n",
    "\n",
    "i = 1\n",
    "IND = ['0']\n",
    "RAT = [0]\n",
    "while i < max(ratings_by_title):\n",
    "    titles = ratings_by_title.index[np.logical_and(ratings_by_title >= i, ratings_by_title < 2*i)]\n",
    "    subset_mean_ratings = mean_ratings.ix[titles]\n",
    "    correl = subset_mean_ratings.M.corr(subset_mean_ratings.F)\n",
    "    IND.append('Total ratings between {0} and {1}'.format(i, 2*i))\n",
    "    RAT.append(correl)\n",
    "    j = i\n",
    "    i = 2*j\n",
    "\n",
    "correl_comp = pd.Series(RAT, index=IND)\n",
    "correl_comp.index.name = 'Total number of Ratings'\n",
    "correl_comp.name = 'Correlation coefficient between average Male and Female Ratings per Movie'\n",
    "\n",
    "correl_comp"
   ]
  },
  {
   "cell_type": "markdown",
   "metadata": {},
   "source": [
    "This data seems to be somewhat misleading.  Based on the high correlation values, it seems that the ratings between men and women are similar, especially among movies watched more than 200 times.  However, this is the correlation between the MEAN rating per title between men and women.  What this is saying is that ON AVERAGE,  men and women rate movies similarly.  This doesn't indicate that the ratings themselves are actually similar!  For example, there could be a movie in which both men and women have an average rating of 3, but women rate it as either a 1 or a 5 and all men rate it as 3.  We need to explore the data more to understand if the ratings between men and women are actually similar."
   ]
  },
  {
   "cell_type": "markdown",
   "metadata": {},
   "source": [
    "For example, rather than consider mean rating, let's consider the percentage of ratings that are a 5.  That is, for each title we compute the total number of 5 ratings given by men and divide by the total number of ratings given by men.  We then determine the correlation in this data."
   ]
  },
  {
   "cell_type": "code",
   "execution_count": 237,
   "metadata": {
    "collapsed": false
   },
   "outputs": [
    {
     "name": "stdout",
     "output_type": "stream",
     "text": [
      "correlation coefficient between percent 5 ratings by male and female per title: 0.729591341835\n"
     ]
    }
   ],
   "source": [
    "fives_data = data[data['rating']==5]\n",
    "\n",
    "five_ratings = fives_data.pivot_table('rating', index = 'title', columns = 'gender', aggfunc = 'count')\n",
    "total_ratings = data.pivot_table('rating',index ='title',columns = 'gender',aggfunc = 'count')\n",
    "\n",
    "fives_percent = pd.DataFrame(index = five_ratings.index)\n",
    "fives_percent['M'] = five_ratings['M']/total_ratings['M']\n",
    "fives_percent['F'] = five_ratings['F']/total_ratings['F']\n",
    "\n",
    "print 'correlation coefficient between percent ratings of 5 by male and female per title: {0}'.format(fives_percent.M.corr(fives_percent.F))"
   ]
  },
  {
   "cell_type": "code",
   "execution_count": 240,
   "metadata": {
    "collapsed": false
   },
   "outputs": [
    {
     "name": "stdout",
     "output_type": "stream",
     "text": [
      "correlation coefficient between percent 5 ratings by male and female among titles with more than 200 ratings: 0.889390422524\n"
     ]
    }
   ],
   "source": [
    "over_200_fives_percent = fives_percent.ix[active_titles]\n",
    "\n",
    "print 'correlation coefficient between percent ratings of 5 by male and female among titles with more than 200 ratings: {0}'.format(over_200_fives_percent.M.corr(over_200_fives_percent.F))"
   ]
  },
  {
   "cell_type": "markdown",
   "metadata": {},
   "source": [
    "Similarly, we perform the same analysis for number of ratings of 1 or 2"
   ]
  },
  {
   "cell_type": "code",
   "execution_count": 242,
   "metadata": {
    "collapsed": false
   },
   "outputs": [
    {
     "name": "stdout",
     "output_type": "stream",
     "text": [
      "correlation coefficient between percent ratings of 1 or 2 by male and female per title: 0.801000811664\n"
     ]
    }
   ],
   "source": [
    "low_data = data[data['rating']<= 2]\n",
    "\n",
    "low_ratings = low_data.pivot_table('rating', index = 'title', columns = 'gender', aggfunc = 'count')\n",
    "total_ratings = data.pivot_table('rating',index ='title',columns = 'gender',aggfunc = 'count')\n",
    "\n",
    "low_percent = pd.DataFrame(index = low_ratings.index)\n",
    "low_percent['M'] = low_ratings['M']/total_ratings['M']\n",
    "low_percent['F'] = low_ratings['F']/total_ratings['F']\n",
    "\n",
    "print 'correlation coefficient between percent ratings of 1 or 2 by male and female per title: {0}'.format(low_percent.M.corr(low_percent.F))"
   ]
  },
  {
   "cell_type": "code",
   "execution_count": 243,
   "metadata": {
    "collapsed": false
   },
   "outputs": [
    {
     "name": "stdout",
     "output_type": "stream",
     "text": [
      "correlation coefficient between percent ratings of 5 by male and female among titles with more than 200 ratings: 0.901351061924\n"
     ]
    }
   ],
   "source": [
    "over_200_low_percent = low_percent.ix[active_titles]\n",
    "\n",
    "print 'correlation coefficient between percent ratings of 5 by male and female among titles with more than 200 ratings: {0}'.format(over_200_low_percent.M.corr(over_200_low_percent.F))"
   ]
  },
  {
   "cell_type": "markdown",
   "metadata": {},
   "source": [
    "This indicates that male and females tend to agree on average and in distribution (especially on movies rated more than 200 times).  This does not, however, indicate we can predict a single male rating given female ratings!  The average behavior of the two is similar, but not single instances."
   ]
  },
  {
   "cell_type": "markdown",
   "metadata": {},
   "source": [
    "Conjecture under what circumstances the rating given by one gender can be used to predict the rating given by the other gender.\n",
    "    * For example, are men and women more similar when they are younger or older?\n",
    "    * Be sure to come up with your own conjectures and support them with data!"
   ]
  },
  {
   "cell_type": "markdown",
   "metadata": {},
   "source": [
    "Observation 1.) The percent of each rating given by men and women overall is nearly identical."
   ]
  },
  {
   "cell_type": "code",
   "execution_count": 251,
   "metadata": {
    "collapsed": false
   },
   "outputs": [
    {
     "name": "stdout",
     "output_type": "stream",
     "text": [
      "Frequency of men vs. wemen Ratings\n",
      "rating      1      2       3       4       5\n",
      "gender                                      \n",
      "F       13347  24548   62966   87033   58546\n",
      "M       42827  83009  198231  261938  167764\n",
      "\n",
      "Percent of each Rating, men vs women\n",
      "rating         1         2         3         4         5\n",
      "gender                                                  \n",
      "F       0.054159  0.099610  0.255502  0.353161  0.237567\n",
      "M       0.056817  0.110125  0.262986  0.347504  0.222567\n"
     ]
    },
    {
     "data": {
      "image/png": "[encoded data removed]",
      "text/plain": [
       "<matplotlib.figure.Figure at 0x55b96a90>"
      ]
     },
     "metadata": {},
     "output_type": "display_data"
    }
   ],
   "source": [
    "#freqency of men vs. wen ratings for each age group\n",
    "gender_counts = data.pivot_table('title', index='gender', columns='rating', aggfunc='count')\n",
    "print 'Frequency of men vs. wemen Ratings'\n",
    "print gender_counts\n",
    "\n",
    "#normalize to sum to 1, giving us the percent of each rating given by men and women.\n",
    "gender_counts_norm = gender_counts.div(gender_counts.sum(1).astype(float), axis=0)\n",
    "gender_counts_norm\n",
    "gender_counts_norm.plot(kind='bar')\n",
    "\n",
    "print\n",
    "print 'Percent of each Rating, men vs women'\n",
    "print gender_counts_norm"
   ]
  },
  {
   "cell_type": "code",
   "execution_count": 252,
   "metadata": {
    "collapsed": false
   },
   "outputs": [
    {
     "data": {
      "text/plain": [
       "0.99699644845828772"
      ]
     },
     "execution_count": 252,
     "metadata": {},
     "output_type": "execute_result"
    }
   ],
   "source": [
    "# Calculate the correlation coefficient among these average ratings.\n",
    "gender_counts_norm.ix['M'].corr(gender_counts_norm.ix['F'])"
   ]
  },
  {
   "cell_type": "markdown",
   "metadata": {},
   "source": [
    "Conjecture 1.) People rate more similarly when they are tired."
   ]
  },
  {
   "cell_type": "code",
   "execution_count": 244,
   "metadata": {
    "collapsed": true
   },
   "outputs": [],
   "source": [
    "import time\n",
    "\n",
    "# Convert time stamps to local time and extract the hour.\n",
    "timestamps = data['timestamp']\n",
    "hour = [time.localtime(stamp).tm_hour for stamp in timestamps.values]\n",
    "hour_series = pd.DataFrame(hour, index=data.index)\n",
    "data['hour'] = hour_series"
   ]
  },
  {
   "cell_type": "code",
   "execution_count": 245,
   "metadata": {
    "collapsed": false
   },
   "outputs": [
    {
     "data": {
      "text/html": [
       "<div>\n",
       "<table border=\"1\" class=\"dataframe\">\n",
       "  <thead>\n",
       "    <tr style=\"text-align: right;\">\n",
       "      <th>gender</th>\n",
       "      <th>F</th>\n",
       "      <th>M</th>\n",
       "    </tr>\n",
       "    <tr>\n",
       "      <th>title</th>\n",
       "      <th></th>\n",
       "      <th></th>\n",
       "    </tr>\n",
       "  </thead>\n",
       "  <tbody>\n",
       "    <tr>\n",
       "      <th>$1,000,000 Duck (1971)</th>\n",
       "      <td>2.666667</td>\n",
       "      <td>3.000000</td>\n",
       "    </tr>\n",
       "    <tr>\n",
       "      <th>'Night Mother (1986)</th>\n",
       "      <td>3.285714</td>\n",
       "      <td>3.666667</td>\n",
       "    </tr>\n",
       "    <tr>\n",
       "      <th>'Til There Was You (1997)</th>\n",
       "      <td>2.750000</td>\n",
       "      <td>2.875000</td>\n",
       "    </tr>\n",
       "    <tr>\n",
       "      <th>'burbs, The (1989)</th>\n",
       "      <td>2.956522</td>\n",
       "      <td>2.887097</td>\n",
       "    </tr>\n",
       "    <tr>\n",
       "      <th>...And Justice for All (1979)</th>\n",
       "      <td>3.615385</td>\n",
       "      <td>3.613636</td>\n",
       "    </tr>\n",
       "  </tbody>\n",
       "</table>\n",
       "</div>"
      ],
      "text/plain": [
       "gender                                F         M\n",
       "title                                            \n",
       "$1,000,000 Duck (1971)         2.666667  3.000000\n",
       "'Night Mother (1986)           3.285714  3.666667\n",
       "'Til There Was You (1997)      2.750000  2.875000\n",
       "'burbs, The (1989)             2.956522  2.887097\n",
       "...And Justice for All (1979)  3.615385  3.613636"
      ]
     },
     "execution_count": 245,
     "metadata": {},
     "output_type": "execute_result"
    }
   ],
   "source": [
    "# Isolate data for ratings submitted between 10PM and 5AM local time\n",
    "wee_hours_data = data[np.logical_or(data['hour']>= 22,data['hour']<=5)]\n",
    "\n",
    "# Determine the average ratings per title by gender during these late-night hours.\n",
    "wee_hours_mean_ratings = wee_hours_data.pivot_table('rating', index = 'title', columns = 'gender', aggfunc = np.mean)\n",
    "\n",
    "wee_hours_mean_ratings[:5]"
   ]
  },
  {
   "cell_type": "code",
   "execution_count": 246,
   "metadata": {
    "collapsed": false
   },
   "outputs": [
    {
     "name": "stdout",
     "output_type": "stream",
     "text": [
      "Correlation coefficient between averege male and female ratings between 10PM and 5AM: 0.644369631647\n"
     ]
    }
   ],
   "source": [
    "#Calculate the correlation coefficient.\n",
    "print 'Correlation coefficient between averege male and female ratings between 10PM and 5AM: {0}'.format(\n",
    "    wee_hours_mean_ratings.M.corr(wee_hours_mean_ratings.F))"
   ]
  },
  {
   "cell_type": "code",
   "execution_count": 247,
   "metadata": {
    "collapsed": false
   },
   "outputs": [
    {
     "data": {
      "text/html": [
       "<div>\n",
       "<table border=\"1\" class=\"dataframe\">\n",
       "  <thead>\n",
       "    <tr style=\"text-align: right;\">\n",
       "      <th>gender</th>\n",
       "      <th>F</th>\n",
       "      <th>M</th>\n",
       "    </tr>\n",
       "    <tr>\n",
       "      <th>title</th>\n",
       "      <th></th>\n",
       "      <th></th>\n",
       "    </tr>\n",
       "  </thead>\n",
       "  <tbody>\n",
       "    <tr>\n",
       "      <th>'burbs, The (1989)</th>\n",
       "      <td>2.956522</td>\n",
       "      <td>2.887097</td>\n",
       "    </tr>\n",
       "    <tr>\n",
       "      <th>10 Things I Hate About You (1999)</th>\n",
       "      <td>3.693333</td>\n",
       "      <td>3.392857</td>\n",
       "    </tr>\n",
       "    <tr>\n",
       "      <th>101 Dalmatians (1961)</th>\n",
       "      <td>3.780000</td>\n",
       "      <td>3.540984</td>\n",
       "    </tr>\n",
       "    <tr>\n",
       "      <th>101 Dalmatians (1996)</th>\n",
       "      <td>3.216216</td>\n",
       "      <td>2.866667</td>\n",
       "    </tr>\n",
       "    <tr>\n",
       "      <th>12 Angry Men (1957)</th>\n",
       "      <td>4.218750</td>\n",
       "      <td>4.307692</td>\n",
       "    </tr>\n",
       "  </tbody>\n",
       "</table>\n",
       "</div>"
      ],
      "text/plain": [
       "gender                                    F         M\n",
       "title                                                \n",
       "'burbs, The (1989)                 2.956522  2.887097\n",
       "10 Things I Hate About You (1999)  3.693333  3.392857\n",
       "101 Dalmatians (1961)              3.780000  3.540984\n",
       "101 Dalmatians (1996)              3.216216  2.866667\n",
       "12 Angry Men (1957)                4.218750  4.307692"
      ]
     },
     "execution_count": 247,
     "metadata": {},
     "output_type": "execute_result"
    }
   ],
   "source": [
    "# We already know that men and women tend to disagree on movies with lower total ratings. Segment from the late-night data those with\n",
    "# high total numbers of ratings.\n",
    "wee_hours_over_200_mean_ratings = wee_hours_mean_ratings.ix[active_titles]\n",
    "wee_hours_over_200_mean_ratings[:5]"
   ]
  },
  {
   "cell_type": "code",
   "execution_count": 48,
   "metadata": {
    "collapsed": false
   },
   "outputs": [
    {
     "data": {
      "text/plain": [
       "'Correlation coefficient between averege male and female ratings between 10PM and 5AM, among movies with at least 200 total ratings: 0.865430264315'"
      ]
     },
     "execution_count": 48,
     "metadata": {},
     "output_type": "execute_result"
    }
   ],
   "source": [
    "#Compute Correlation Coefficient\n",
    "'Correlation coefficient between averege male and female ratings between 10PM and 5AM, among movies with at least 200 total ratings: {0}'.format(wee_hours_over_200_mean_ratings.M.corr(wee_hours_over_200_mean_ratings.F))"
   ]
  },
  {
   "cell_type": "markdown",
   "metadata": {},
   "source": [
    "Conclusion: False.  Both correlation coefficients actually went down by about 0.1: this change in the largest significant digit should be meaningful.  That is, during late night/early morning hours, even the average behavior between the two genders is less correlated, and thus they are not behaving similarly"
   ]
  },
  {
   "cell_type": "markdown",
   "metadata": {},
   "source": [
    "Conjecture 2.) People of a similar age rate similarly"
   ]
  },
  {
   "cell_type": "code",
   "execution_count": 49,
   "metadata": {
    "collapsed": false
   },
   "outputs": [
    {
     "data": {
      "text/html": [
       "<div>\n",
       "<table border=\"1\" class=\"dataframe\">\n",
       "  <thead>\n",
       "    <tr style=\"text-align: right;\">\n",
       "      <th>gender</th>\n",
       "      <th>F</th>\n",
       "      <th>M</th>\n",
       "    </tr>\n",
       "    <tr>\n",
       "      <th>age</th>\n",
       "      <th></th>\n",
       "      <th></th>\n",
       "    </tr>\n",
       "  </thead>\n",
       "  <tbody>\n",
       "    <tr>\n",
       "      <th>1</th>\n",
       "      <td>3.616291</td>\n",
       "      <td>3.517461</td>\n",
       "    </tr>\n",
       "    <tr>\n",
       "      <th>18</th>\n",
       "      <td>3.453145</td>\n",
       "      <td>3.525476</td>\n",
       "    </tr>\n",
       "    <tr>\n",
       "      <th>25</th>\n",
       "      <td>3.606700</td>\n",
       "      <td>3.526780</td>\n",
       "    </tr>\n",
       "    <tr>\n",
       "      <th>35</th>\n",
       "      <td>3.659653</td>\n",
       "      <td>3.604434</td>\n",
       "    </tr>\n",
       "    <tr>\n",
       "      <th>45</th>\n",
       "      <td>3.663044</td>\n",
       "      <td>3.627942</td>\n",
       "    </tr>\n",
       "    <tr>\n",
       "      <th>50</th>\n",
       "      <td>3.797110</td>\n",
       "      <td>3.687098</td>\n",
       "    </tr>\n",
       "    <tr>\n",
       "      <th>56</th>\n",
       "      <td>3.915534</td>\n",
       "      <td>3.720327</td>\n",
       "    </tr>\n",
       "  </tbody>\n",
       "</table>\n",
       "</div>"
      ],
      "text/plain": [
       "gender         F         M\n",
       "age                       \n",
       "1       3.616291  3.517461\n",
       "18      3.453145  3.525476\n",
       "25      3.606700  3.526780\n",
       "35      3.659653  3.604434\n",
       "45      3.663044  3.627942\n",
       "50      3.797110  3.687098\n",
       "56      3.915534  3.720327"
      ]
     },
     "execution_count": 49,
     "metadata": {},
     "output_type": "execute_result"
    }
   ],
   "source": [
    "# Use a pivot table to calculate mean ratings per title by gender and age\n",
    "age_mean_ratings = data.pivot_table('rating', index = 'age', columns = 'gender', aggfunc = 'mean')\n",
    "age_mean_ratings[:10]"
   ]
  },
  {
   "cell_type": "code",
   "execution_count": 50,
   "metadata": {
    "collapsed": false
   },
   "outputs": [
    {
     "data": {
      "text/plain": [
       "0.90127597368018997"
      ]
     },
     "execution_count": 50,
     "metadata": {},
     "output_type": "execute_result"
    }
   ],
   "source": [
    "# Calculate the correlation coefficient.\n",
    "age_mean_ratings.M.corr(age_mean_ratings.F)"
   ]
  },
  {
   "cell_type": "markdown",
   "metadata": {},
   "source": [
    "Improvement!  This is a larger correlation coefficient than the overall average, by about 0.15.  This suggests that, in average behavior, men and women of a similar age tend to rate more similarly.  We perform further analysis to further support this conclusion."
   ]
  },
  {
   "cell_type": "markdown",
   "metadata": {},
   "source": [
    "As before, we consider the percent ratings of 5 (per title) given by each age group."
   ]
  },
  {
   "cell_type": "code",
   "execution_count": 282,
   "metadata": {
    "collapsed": false
   },
   "outputs": [
    {
     "name": "stdout",
     "output_type": "stream",
     "text": [
      "Correlation coefficient between percent ratings of 5 between males and females of the same age: 0.873904950647\n"
     ]
    },
    {
     "data": {
      "image/png": "[encoded data removed]",
      "text/plain": [
       "<matplotlib.figure.Figure at 0x4a5c9668>"
      ]
     },
     "metadata": {},
     "output_type": "display_data"
    }
   ],
   "source": [
    "fives_data = data[data['rating']==5]\n",
    "\n",
    "age_gender_fives = fives_data.pivot_table('rating', index='age', columns='gender', aggfunc='count')\n",
    "age_gender_totals = data.pivot_table('rating', index='age', columns='gender', aggfunc='count')\n",
    "\n",
    "age_gender_percents = age_gender_fives / age_gender_totals\n",
    "age_gender_percents\n",
    "\n",
    "age_gender_percents.plot(kind='bar')\n",
    "plt.title('Percent of Ratings given as 5')\n",
    "plt.legend(bbox_to_anchor=(1.05, 1), loc=2, borderaxespad=0.)\n",
    "plt.ylabel('Percent')\n",
    "\n",
    "print 'Correlation coefficient between percent ratings of 5 between males and females of the same age: {0}'.format(\n",
    "    age_gender_percents.M.corr(age_gender_percents.F))"
   ]
  },
  {
   "cell_type": "markdown",
   "metadata": {},
   "source": [
    "And the percent of low (1 or 2) ratings."
   ]
  },
  {
   "cell_type": "code",
   "execution_count": 265,
   "metadata": {
    "collapsed": false
   },
   "outputs": [
    {
     "name": "stdout",
     "output_type": "stream",
     "text": [
      "Correlation coefficient between percent ratings of 1 or 2 between males and females of the same age: 0.873904950647\n"
     ]
    },
    {
     "data": {
      "image/png": "[encoded data removed]",
      "text/plain": [
       "<matplotlib.figure.Figure at 0x649b9f28>"
      ]
     },
     "metadata": {},
     "output_type": "display_data"
    }
   ],
   "source": [
    "low_data = data[data['rating']<=2]\n",
    "\n",
    "age_gender_low = low_data.pivot_table('rating', index='age', columns='gender', aggfunc='count')\n",
    "age_gender_totals = data.pivot_table('rating', index='age', columns='gender', aggfunc='count')\n",
    "\n",
    "age_gender_low_percents = age_gender_low / age_gender_totals\n",
    "age_gender_low_percents\n",
    "\n",
    "age_gender_low_percents.plot(kind='bar')\n",
    "plt.title('Percent of Ratings given as 1 or 2')\n",
    "plt.legend(bbox_to_anchor=(1.05, 1), loc=2, borderaxespad=0.)\n",
    "plt.ylabel('Percent')\n",
    "\n",
    "print 'Correlation coefficient between percent ratings of 1 or 2 between males and females of the same age: {0}'.format(\n",
    "    age_gender_percents.M.corr(age_gender_percents.F))"
   ]
  },
  {
   "cell_type": "markdown",
   "metadata": {},
   "source": [
    "AN INTERESTING OBSERVATION FROM THESE PLOTS:  TEENAGE FEMALES ARE THE MOST DIFFICULT TO IMPRESS.  For all age groups except for the 18-24 age group, females give a higher perecentage of 5 ratings than men of the same age, and a lower percentage of 1 ratings than males of the same age.  For 18-24 year olds, it is the exact opposite: females give a higher percentage of 1 ratings and a lower percentage of 5 ratings."
   ]
  },
  {
   "cell_type": "code",
   "execution_count": null,
   "metadata": {
    "collapsed": true
   },
   "outputs": [],
   "source": []
  },
  {
   "cell_type": "markdown",
   "metadata": {},
   "source": [
    "Conjecture 3.) Men and Women rate similarly on highly-watched movies made most recently."
   ]
  },
  {
   "cell_type": "code",
   "execution_count": 276,
   "metadata": {
    "collapsed": false
   },
   "outputs": [
    {
     "name": "stdout",
     "output_type": "stream",
     "text": [
      "correlation coefficient between percent average males and females per title: 0.923782703492\n"
     ]
    },
    {
     "data": {
      "image/png": "[encoded data removed]",
      "text/plain": [
       "<matplotlib.figure.Figure at 0x41e64390>"
      ]
     },
     "metadata": {},
     "output_type": "display_data"
    }
   ],
   "source": [
    "# Extract those movies made in the last 10 years of those available.\n",
    "newest_data = data[data['year']>= 1990]\n",
    "\n",
    "# Use a pivot table to compute mean ratings per title by gender\n",
    "newest_mean_ratings = newest_data.pivot_table('rating',index = 'title',columns = 'gender',aggfunc = 'mean')\n",
    "\n",
    "over_200_newest_mean_ratings = newest_mean_ratings.ix[active_titles]\n",
    "\n",
    "# Scatter this data.\n",
    "plt.scatter(over_200_newest_mean_ratings['M'], over_200_newest_mean_ratings['F'])\n",
    "plt.title('Average Ratings by Movie, after 1990')\n",
    "plt.ylabel('Average female rating')\n",
    "plt.xlabel('Average male rating')\n",
    "\n",
    "print 'correlation coefficient between percent average males and females per title: {0}'.format(\n",
    "    over_200_newest_mean_ratings.M.corr(over_200_newest_mean_ratings.F))"
   ]
  },
  {
   "cell_type": "code",
   "execution_count": 296,
   "metadata": {
    "collapsed": false
   },
   "outputs": [
    {
     "name": "stdout",
     "output_type": "stream",
     "text": [
      "Correlation coefficient between percent ratings of 5 between males and females by year of movie release: 0.952281180762\n"
     ]
    },
    {
     "data": {
      "image/png": "[encoded data removed]",
      "text/plain": [
       "<matplotlib.figure.Figure at 0x4cb667f0>"
      ]
     },
     "metadata": {},
     "output_type": "display_data"
    }
   ],
   "source": [
    "# Compute the percent 5 ratings by males and females for movies made in each year of this 10 year window.\n",
    "\n",
    "new_fives_data = newest_data[newest_data['rating']==5]\n",
    "\n",
    "year_gender_fives = new_fives_data.pivot_table('rating', index='year', columns='gender', aggfunc='count')\n",
    "year_gender_totals = newest_data.pivot_table('rating', index='year', columns='gender', aggfunc='count')\n",
    "\n",
    "year_gender_percents = year_gender_fives / year_gender_totals\n",
    "year_gender_percents\n",
    "\n",
    "year_gender_percents.plot(kind='bar')\n",
    "plt.title('Percent of Ratings given as 5')\n",
    "plt.legend(bbox_to_anchor=(1.05, 1), loc=2, borderaxespad=0.)\n",
    "plt.ylabel('Percent')\n",
    "\n",
    "print 'Correlation coefficient between percent ratings of 5 between males and females by year of movie release: {0}'.format(\n",
    "    year_gender_percents.M.corr(year_gender_percents.F))"
   ]
  },
  {
   "cell_type": "markdown",
   "metadata": {},
   "source": [
    "We see that, for movies made in the 90's, the correlation coefficient for the percent of ratings given as 5 between males and females is\n",
    "0.9523! And the correlation coefficient for the percent of ratings given as one or two (based on the year the movie was released in the 90's) is 0.91"
   ]
  },
  {
   "cell_type": "code",
   "execution_count": 298,
   "metadata": {
    "collapsed": false
   },
   "outputs": [
    {
     "name": "stdout",
     "output_type": "stream",
     "text": [
      "Correlation between percent ratings of 1 or 2 between males and females on movies with the same release year: 0.911258279937\n"
     ]
    },
    {
     "data": {
      "image/png": "[encoded data removed]",
      "text/plain": [
       "<matplotlib.figure.Figure at 0x4c237cf8>"
      ]
     },
     "metadata": {},
     "output_type": "display_data"
    }
   ],
   "source": [
    "new_low_data = newest_data[newest_data['rating']<=2]\n",
    "\n",
    "year_low = new_low_data.pivot_table('rating', index='year', columns='gender', aggfunc='count')\n",
    "year_totals = newest_data.pivot_table('rating', index='year', columns='gender', aggfunc='count')\n",
    "\n",
    "year_low_percents = year_low / year_totals\n",
    "\n",
    "year_low_percents.plot(kind='bar')\n",
    "plt.title('Percent of Ratings given as 1 or 2')\n",
    "plt.legend(bbox_to_anchor=(1.05, 1), loc=2, borderaxespad=0.)\n",
    "plt.ylabel('Percent')\n",
    "\n",
    "print 'Correlation between percent ratings of 1 or 2 between males and females on movies with the same release year: {0}'.format(\n",
    "   year_low_percents.M.corr(year_low_percents.F))"
   ]
  },
  {
   "cell_type": "markdown",
   "metadata": {},
   "source": [
    "*------------------------\n",
    "\n",
    "# Problem 4: (20 points total)\n",
    "## Open Ended Question:  Business Intelligence"
   ]
  },
  {
   "cell_type": "markdown",
   "metadata": {},
   "source": [
    "* Do any of your conjectures in Problems 1, 2, and 3 provide insights that a movie company might be interested in?\n",
    "* Propose a business question that you think this data can answer.\n",
    "* Suppose you are a Data Sciencetist at a movie company.  Convince your boss that your conjecture is correct!"
   ]
  },
  {
   "cell_type": "markdown",
   "metadata": {},
   "source": [
    "Online movie services such as Netflix acquire new customers every day.  Without any previous movie ratings to analyze, Netflix must recommend movies to new customers based solely upon their registration information.  This initial recommendation is extremely important- Netflix want's its new customers to have a very positive first experience.  While there are many facets to this question, we ask the following: what genre of movie should Netflix recommend to a first time user?  \n",
    "\n",
    "This question is extremely broad, so we ask 4 or 5 very specific questions, for example:\n",
    "- What is the best time of day to recommend a drama?\n",
    "- Which occupation is most likely to enjoy a comedy?\n",
    "- What age group watches the most adventure movies?\n",
    "\n",
    "A good way to attack this question is to use total numbers of ratings- for example, for the first question above, we can calculate the number of dramas rated per hour, and divide that by the total number of ratings per hour.  So, for example, we would know the percentage of movies watched at 3pm that are dramas."
   ]
  },
  {
   "cell_type": "markdown",
   "metadata": {},
   "source": [
    "# Preliminary Analysis"
   ]
  },
  {
   "cell_type": "code",
   "execution_count": 289,
   "metadata": {
    "collapsed": false
   },
   "outputs": [
    {
     "data": {
      "text/plain": [
       "Index([u'user_id', u'movie_id', u'rating', u'timestamp', u'gender', u'age',\n",
       "       u'occupation', u'zip', u'title', u'genres', u'Action', u'Adventure',\n",
       "       u'Animation', u'Children's', u'Comedy', u'Crime', u'Documentary',\n",
       "       u'Drama', u'Fantasy', u'Film-Noir', u'Horror', u'Musical', u'Mystery',\n",
       "       u'Romance', u'Sci-Fi', u'Thriller', u'War', u'Western'],\n",
       "      dtype='object')"
      ]
     },
     "execution_count": 289,
     "metadata": {},
     "output_type": "execute_result"
    }
   ],
   "source": [
    "#Convert genres into 18 dummies. New dataset has total 100209 rows*28 columns \n",
    "\n",
    "#generate 18 dummies variables for movie genres\n",
    "genre_iter=(set(x.split('|')) for x in movies.genres)\n",
    "genres=sorted(set.union(*genre_iter))\n",
    "dummies=pd.DataFrame(np.zeros((len(movies), len(genres))), columns=genres)\n",
    "for i, gen in enumerate(movies.genres):\n",
    "    dummies.ix[i,gen.split('|')]=1\n",
    "movies_windic=movies.join(dummies)\n",
    "movies_windic.ix[0]\n",
    "\n",
    "# newdata has total 100209 rows 28 columns\n",
    "newdata = pd.merge(pd.merge(pd.merge(ratings,users),movies), movies_windic)\n",
    "newdata.columns"
   ]
  },
  {
   "cell_type": "code",
   "execution_count": 291,
   "metadata": {
    "collapsed": false
   },
   "outputs": [
    {
     "data": {
      "text/plain": [
       "<matplotlib.text.Text at 0x4f1aecf8>"
      ]
     },
     "execution_count": 291,
     "metadata": {},
     "output_type": "execute_result"
    },
    {
     "data": {
      "image/png": "[encoded data removed]",
      "text/plain": [
       "<matplotlib.figure.Figure at 0x4c4829b0>"
      ]
     },
     "metadata": {},
     "output_type": "display_data"
    }
   ],
   "source": [
    "#How many movies for each genre are in this dataset?\n",
    "\n",
    "moviegenre=movies_windic\n",
    "moviegenre.drop(moviegenre[[0,1,2]],axis=1,inplace=True)\n",
    "moviegenre.sum().plot(kind='bar',color='g')\n",
    "plt.title('Number of Movies in Each Genre')"
   ]
  },
  {
   "cell_type": "code",
   "execution_count": 292,
   "metadata": {
    "collapsed": false
   },
   "outputs": [
    {
     "data": {
      "text/plain": [
       "<matplotlib.axes._subplots.AxesSubplot at 0x4f07e978>"
      ]
     },
     "execution_count": 292,
     "metadata": {},
     "output_type": "execute_result"
    },
    {
     "data": {
      "image/png": "[encoded data removed]",
      "text/plain": [
       "<matplotlib.figure.Figure at 0x4bbb0198>"
      ]
     },
     "metadata": {},
     "output_type": "display_data"
    }
   ],
   "source": [
    "#Total number of ratings received for each type of movie\n",
    "genres_rating_received=newdata\n",
    "genres_rating_received.drop(genres_rating_received.columns[[0,1,2,3,4,5,6,7,8,9]], axis=1, inplace=True)\n",
    "genres_rating_received.sum().plot(kind='bar')"
   ]
  },
  {
   "cell_type": "code",
   "execution_count": null,
   "metadata": {
    "collapsed": true
   },
   "outputs": [],
   "source": [
    "# Percent of movies watched by each gender classified as comedies\n",
    "genres = data['genres']\n",
    "all_genres = [string.split('|') for string in genres]\n",
    "comedy_truth =  [ 'Comedy' in genres for genres in all_genres]\n",
    "comedy_series = pd.DataFrame(comedy_truth, index=data.index)\n",
    "data['comedy'] = comedy_series\n",
    "\n",
    "comedy_data = data.ix[data['comedy'] == True]\n",
    "\n",
    "comedy_gender_counts = comedy_data.pivot_table('rating', index = 'gender', aggfunc = 'count')\n",
    "total_gender_counts = data.pivot_table('rating', index = 'gender', aggfunc = 'count')\n",
    "\n",
    "\n",
    "gender_counts = pd.concat([total_gender_counts,comedy_gender_counts],axis = 1)\n",
    "gender_counts.columns = ['total_gender_counts', 'comedy_gender_counts']\n",
    "gender_counts['comedy_gender_percent'] = gender_counts['comedy_gender_counts']/gender_counts['total_gender_counts']\n",
    "gender_counts"
   ]
  },
  {
   "cell_type": "code",
   "execution_count": null,
   "metadata": {
    "collapsed": true
   },
   "outputs": [],
   "source": [
    "\n",
    "\n",
    "\n",
    "\n",
    "\n",
    "\n",
    "\n",
    "\n",
    "\n",
    "\n",
    "\n"
   ]
  },
  {
   "cell_type": "markdown",
   "metadata": {},
   "source": [
    "## Additional Data Exploration (not used in Problems 1-4)"
   ]
  },
  {
   "cell_type": "code",
   "execution_count": 92,
   "metadata": {
    "collapsed": false
   },
   "outputs": [
    {
     "data": {
      "text/plain": [
       "<matplotlib.text.Text at 0x173b0978>"
      ]
     },
     "execution_count": 92,
     "metadata": {},
     "output_type": "execute_result"
    },
    {
     "data": {
      "image/png": "[encoded data removed]",
      "text/plain": [
       "<matplotlib.figure.Figure at 0x17bdd438>"
      ]
     },
     "metadata": {},
     "output_type": "display_data"
    }
   ],
   "source": [
    "# avg rating vs. gender\n",
    "gender_avg_ratings = data.pivot_table('rating', index = 'gender',aggfunc = np.mean)\n",
    "gender_avg_ratings\n",
    "gender_avg_ratings.plot(kind='barh', color='yellow')\n",
    "plt.title('avg rating vs. gender')"
   ]
  },
  {
   "cell_type": "code",
   "execution_count": 94,
   "metadata": {
    "collapsed": false
   },
   "outputs": [
    {
     "data": {
      "text/plain": [
       "<matplotlib.text.Text at 0x17fde4a8>"
      ]
     },
     "execution_count": 94,
     "metadata": {},
     "output_type": "execute_result"
    },
    {
     "data": {
      "image/png": "[encoded data removed]",
      "text/plain": [
       "<matplotlib.figure.Figure at 0x17ced390>"
      ]
     },
     "metadata": {},
     "output_type": "display_data"
    }
   ],
   "source": [
    "# avg rating vs. occupation\n",
    "job_avg_ratings = data.pivot_table('rating', index = 'occupation',aggfunc = np.mean)\n",
    "job_avg_ratings\n",
    "job=job_avg_ratings.rename(index={0:'other',1:'academic/educator',2: 'artist',3: 'clerical/admin',4: 'college/grad student',\n",
    "                                  5 :'customer service',6: 'doctor/health care',7:'executive/managerial',8:'farmer',\n",
    "                                  9: 'homemaker',10: 'K-12 student',11: 'lawyer',12 :'programmer',13: 'retired',\n",
    "                                  14:'sales/marketing',15:'scientist',16: 'self-employed',17: 'technician/engineer',\n",
    "                                  18: 'tradesman/craftsman',19 :'unemployed',20: 'writer'})\n",
    "job.plot(kind='bar')\n",
    "plt.title('avg rating vs. occupation')\n",
    "plt.ylabel('average rating')\n"
   ]
  },
  {
   "cell_type": "markdown",
   "metadata": {},
   "source": [
    "# Report: communicate the results (20 points)\n",
    "\n",
    "(1) (5 points) What data you collected?\n",
    "\n",
    "(2) (5 points) Why this topic is interesting or important to you? (Motivations)\n",
    "\n",
    "(3) (5 points) How did you analyse the data?\n",
    "\n",
    "(4) (5 points) What did you find in the data?\n",
    "(please include figures or tables in the report, but no source code)"
   ]
  },
  {
   "cell_type": "markdown",
   "metadata": {},
   "source": [
    "# Slides (for 10 minutes of presentation) (20 points)\n",
    "\n",
    "\n",
    "1. (5 points) Motivation about the data collection, why the topic is interesting to you. \n",
    "\n",
    "2. (10 points) Communicating Results (figure/table)\n",
    "\n",
    "3. (5 points) Story telling (How all the parts (data, analysis, result) fit together as a story?)"
   ]
  },
  {
   "cell_type": "markdown",
   "metadata": {},
   "source": [
    "*-----------------\n",
    "# Done\n",
    "\n",
    "All set! \n",
    "\n",
    "** What do you need to submit?**\n",
    "\n",
    "* **Notebook File**: Save this IPython notebook, and find the notebook file in your folder (for example, \"filename.ipynb\"). This is the file you need to submit. Please make sure all the plotted tables and figures are in the notebook. If you used \"ipython notebook --pylab=inline\" to open the notebook, all the figures and tables should have shown up in the notebook.\n",
    "\n",
    "\n",
    "* **PPT Slides**: please prepare PPT slides (for 10 minutes' talk) to present about the case study . We will ask two teams which are randomly selected to present their case studies in class for this case study. \n",
    "\n",
    "* ** Report**: please prepare a report (less than 10 pages) to report what you found in the data.\n",
    "    * What is the relationship between this topic and Business Intelligence?\n",
    "    * How did you analyse the data?\n",
    "    * What did you find in the data? \n",
    "    * What conjectures did you make and how did you support or disprove them using data?\n",
    "    * Did you find anything suprising in the data?\n",
    "    * What business decision do you think this data could help answer?  Why?\n",
    "\n",
    "     (please include figures or tables in the report, but no source code)\n",
    "\n",
    "*Please compress all the files into a single zipped file.*\n",
    "\n",
    "\n",
    "** How to submit: **\n",
    "\n",
    "        Send an email to rcpaffenroth@wpi.edu with the subject: \"[DS501] Case study 2\"."
   ]
  },
  {
   "cell_type": "code",
   "execution_count": null,
   "metadata": {
    "collapsed": false
   },
   "outputs": [],
   "source": []
  }
 ],
 "metadata": {
  "kernelspec": {
   "display_name": "Python 2",
   "language": "python",
   "name": "python2"
  },
  "language_info": {
   "codemirror_mode": {
    "name": "ipython",
    "version": 2
   },
   "file_extension": ".py",
   "mimetype": "text/x-python",
   "name": "python",
   "nbconvert_exporter": "python",
   "pygments_lexer": "ipython2",
   "version": "2.7.10"
  }
 },
 "nbformat": 4,
 "nbformat_minor": 0
}
