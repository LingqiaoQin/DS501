{
 "cells": [
  {
   "cell_type": "code",
   "execution_count": 1,
   "metadata": {
    "collapsed": true
   },
   "outputs": [],
   "source": [
    "import io\n",
    "import json\n",
    "import twitter\n",
    "\n",
    "# API CONSTANTS\n",
    "CONSUMER_KEY = '92TpJf8O0c9AWN3ZJjcN8cYxs'\n",
    "CONSUMER_SECRET ='dyeCqzI2w7apETbTUvPai1oCDL5oponvZhHSmYm5XZTQbeiygq'\n",
    "OAUTH_TOKEN = '106590533-SEB5EGGoyJ8EsjOKN05YuOQYu2rg5muZgMDoNrqN'\n",
    "OAUTH_TOKEN_SECRET = 'BficAky6uGyGfRzDGJqZYVKo0HS6G6Ex3ijYW3zy3kjNJ'\n",
    "    \n",
    "def oauth_login(token, token_secret, consumer_key, consumer_secret):\n",
    "    \"\"\"\n",
    "    Snag an auth from Twitter\n",
    "    \"\"\"\n",
    "    auth = twitter.oauth.OAuth(OAUTH_TOKEN, OAUTH_TOKEN_SECRET,\n",
    "                               CONSUMER_KEY, CONSUMER_SECRET)\n",
    "    return auth\n",
    "\n",
    "def save_json(filename, data):\n",
    "    \"\"\"\n",
    "    Save json data to a filename\n",
    "    \"\"\"\n",
    "    print 'Saving data into {0}.json...'.format(filename)\n",
    "    with io.open('{0}.json'.format(filename), \n",
    "                 'w', encoding='utf-8') as f:\n",
    "        f.write(unicode(json.dumps(data, ensure_ascii=False)))\n",
    "\n",
    "def load_json(filename):\n",
    "    \"\"\"\n",
    "    Load json data from a filename\n",
    "    \"\"\"\n",
    "    print 'Loading data from {0}.json...'.format(filename)\n",
    "    with open('{0}.json'.format(filename)) as f:    \n",
    "        return json.load(f)"
   ]
  },
  {
   "cell_type": "code",
   "execution_count": 2,
   "metadata": {
    "collapsed": false
   },
   "outputs": [
    {
     "name": "stdout",
     "output_type": "stream",
     "text": [
      "Bingo! API and stream set up!\n"
     ]
    }
   ],
   "source": [
    "# Create an api and stream instance\n",
    "auth = oauth_login(CONSUMER_KEY, CONSUMER_SECRET, OAUTH_TOKEN, OAUTH_TOKEN_SECRET)\n",
    "twitter_api = twitter.Twitter(auth=auth)\n",
    "twitter_stream = twitter.TwitterStream(auth=auth)\n",
    "if twitter_api and twitter_stream:\n",
    "    print 'Bingo! API and stream set up!'\n",
    "else:\n",
    "    print 'Hmmmm, something is wrong here.'"
   ]
  },
  {
   "cell_type": "code",
   "execution_count": 10,
   "metadata": {
    "collapsed": false
   },
   "outputs": [
    {
     "name": "stdout",
     "output_type": "stream",
     "text": [
      "COLLECTION 0\n",
      "CONTINUE LOOP\n",
      "PANTHERS tweet #KeepPounding! I’m taking the Panthers to win Super Bowl 50. #SBVote @SportsCenter https://t.co/WAMw2gaqBk\n",
      "CONTINUE LOOP\n",
      "PANTHERS tweet #KeepPounding! I’m taking the Panthers to win Super Bowl 50. #SBVote @SportsCenter https://t.co/X04n42Dgi4\n",
      "CONTINUE LOOP\n",
      "PANTHERS tweet #KeepPounding! I’m taking the Panthers to win Super Bowl 50. #SBVote @SportsCenter https://t.co/5qhZdS2Wog\n",
      "CONTINUE LOOP\n",
      "PANTHERS tweet #KeepPounding! I’m taking the Panthers to win Super Bowl 50. #SBVote @SportsCenter https://t.co/rIOW9KtDwh\n",
      "CONTINUE LOOP\n",
      "BRONCOS tweet RT @SportsCenter: RT if you're picking the Broncos to win Super Bowl 50!\n",
      "Final results on the 6 ET SC. #SBVote https://t.co/eqJlBmsDMH\n",
      "CONTINUE LOOP\n",
      "BRONCOS tweet RT @SportsFaceoffs: Who's gonna win Super Bowl 50?\n",
      "▪️RT for Carolina Panthers\n",
      "▪️LIKE for Denver Broncos https://t.co/Io8I7ElCzO\n",
      "CONTINUE LOOP\n",
      "PANTHERS tweet #KeepPounding! I’m taking the Panthers to win Super Bowl 50. #SBVote @SportsCenter https://t.co/WyeIh9qwSN\n",
      "CONTINUE LOOP\n",
      "BRONCOS tweet 2 Bars, 1 Party w/@BroncosFansHou \n",
      "#RiceVillage becomes #Broncos Village\n",
      "@TheGorgeousGael &amp; @55houston 4 #SB50 1PM https://t.co/2LbGT2aiuG\n",
      "CONTINUE LOOP\n",
      "PANTHERS tweet #KeepPounding! I’m taking the Panthers to win Super Bowl 50. #SBVote @SportsCenter https://t.co/TlzGuV4431\n",
      "BREAK LOOP\n",
      "COLLECTION 1\n",
      "CONTINUE LOOP\n",
      "PANTHERS tweet RT @Panthers: 🎉🎈We have another birthday out in Santa Clara! Help us wish @kelvinbenjamin a SUPER happy birthday 🎉🎈 https://t.co/qfNRl20cSp\n",
      "CONTINUE LOOP\n",
      "PANTHERS tweet RT @JPosnanski: Talkin' Charlotte, Panthers and the feeling of a city coming together in a new way. https://t.co/wl4YyaBjn0\n",
      "CONTINUE LOOP\n",
      "BRONCOS tweet I got a really big team\n",
      "They need some really big rings\n",
      "They need some really nice things\n",
      "Better be commin with no strings #SB50 #Broncos\n",
      "CONTINUE LOOP\n",
      "PANTHERS tweet #KeepPounding! I’m taking the Panthers to win Super Bowl 50. #SBVote @SportsCenter https://t.co/EtZLlbHzQF\n",
      "CONTINUE LOOP\n",
      "PANTHERS tweet #KeepPounding! I’m taking the Panthers to win Super Bowl 50. #SBVote @SportsCenter https://t.co/6YmA9fqYl9\n",
      "CONTINUE LOOP\n",
      "BRONCOS tweet Orange Crush! I’m taking the #Broncos to win Super Bowl 50. #SBVote @SportsCenter https://t.co/BZPRw9hSwo\n",
      "CONTINUE LOOP\n",
      "PANTHERS tweet https://t.co/3JeTviuQ7Y: Keep Pounding Drum Will Be At Super Bowl https://t.co/RVnVovPfJ3 via @Panthers\n",
      "CONTINUE LOOP\n",
      "BRONCOS tweet Orange Crush! I’m taking the #Broncos to win Super Bowl 50. #SBVote @SportsCenter https://t.co/gG8iA1LjLr\n",
      "CONTINUE LOOP\n",
      "CONTINUE LOOP\n",
      "CONTINUE LOOP\n",
      "CONTINUE LOOP\n",
      "PANTHERS tweet #KeepPounding! I’m taking the Panthers to win Super Bowl 50. #SBVote @SportsCenter https://t.co/2mC4zX381s\n",
      "BREAK LOOP\n",
      "COLLECTION 2\n",
      "CONTINUE LOOP\n",
      "BRONCOS tweet Orange Crush! I’m taking the #Broncos to win Super Bowl 50. #SBVote @SportsCenter https://t.co/unmCKXIZBY\n",
      "CONTINUE LOOP\n",
      "PANTHERS tweet #KeepPounding! I’m taking the Panthers to win Super Bowl 50. #SBVote @SportsCenter https://t.co/piFLhBaOOj\n",
      "CONTINUE LOOP\n",
      "PANTHERS tweet #KeepPounding! I’m taking the Panthers to win Super Bowl 50. #SBVote @SportsCenter https://t.co/1nB9QzikyW\n",
      "CONTINUE LOOP\n",
      "PANTHERS tweet #KeepPounding! I’m taking the Panthers to win Super Bowl 50. #SBVote @SportsCenter https://t.co/yq2mZOuqM2\n",
      "CONTINUE LOOP\n",
      "PANTHERS tweet #KeepPounding! I’m taking the Panthers to win Super Bowl 50. #SBVote @SportsCenter https://t.co/d4IVexEFns\n",
      "CONTINUE LOOP\n",
      "BRONCOS tweet Super Bowl 50 Prediction: Panthers vs. Broncos https://t.co/in27zvKy2w via @SportsBlog #Panthers #Broncos #Denver #Carolina #SB50 #SuperBowl\n",
      "CONTINUE LOOP\n",
      "PANTHERS tweet #KeepPounding! I’m taking the Panthers to win Super Bowl 50. #SBVote @SportsCenter https://t.co/E3ADGES4RS\n",
      "CONTINUE LOOP\n",
      "PANTHERS tweet RT @AnRoftheStreets: Connect to Independent Music https://t.co/U9hsQlwcop #1N.F.L.song out #MoveTheChain   @Panthers @Harp41 @Rosenbergradi…\n",
      "BREAK LOOP\n",
      "COLLECTION 3\n",
      "CONTINUE LOOP\n",
      "CONTINUE LOOP\n",
      "BRONCOS tweet Orange Crush! I’m taking the #Broncos to win Super Bowl 50. #SBVote @SportsCenter https://t.co/C4O2M0uJpo\n",
      "CONTINUE LOOP\n",
      "PANTHERS tweet #KeepPounding! I’m taking the Panthers to win Super Bowl 50. #SBVote @SportsCenter https://t.co/1Gp9a87vnY\n",
      "CONTINUE LOOP\n",
      "BRONCOS tweet Orange Crush! I’m taking the #Broncos to win Super Bowl 50. #SBVote @SportsCenter https://t.co/sneAk85C1s\n",
      "CONTINUE LOOP\n",
      "BRONCOS tweet Orange Crush! I’m taking the #Broncos to win Super Bowl 50. #SBVote @SportsCenter https://t.co/PGBKYPyfnK\n",
      "CONTINUE LOOP\n",
      "PANTHERS tweet #KeepPounding! I’m taking the Panthers to win Super Bowl 50. #SBVote @SportsCenter https://t.co/i1Yy5K1cth\n",
      "CONTINUE LOOP\n",
      "BRONCOS tweet Orange Crush! I’m taking the #Broncos to win Super Bowl 50. #SBVote @SportsCenter https://t.co/167AX3lZYq\n",
      "CONTINUE LOOP\n",
      "PANTHERS tweet #KeepPounding! I’m taking the Panthers to win Super Bowl 50. #SBVote @SportsCenter https://t.co/iYIpwq4UuZ\n",
      "CONTINUE LOOP\n",
      "PANTHERS tweet #KeepPounding! I’m taking the Panthers to win Super Bowl 50. #SBVote @SportsCenter https://t.co/NA8zCfJrMH\n",
      "CONTINUE LOOP\n",
      "PANTHERS tweet #KeepPounding! I’m taking the Panthers to win Super Bowl 50. #SBVote @SportsCenter https://t.co/Ji38aQPNOF\n",
      "CONTINUE LOOP\n",
      "CONTINUE LOOP\n",
      "BRONCOS tweet RT @jillian_xox03: Orange Crush! I’m taking the #Broncos to win Super Bowl 50. #SBVote @SportsCenter https://t.co/oHhJyOQyoC\n",
      "CONTINUE LOOP\n",
      "PANTHERS tweet @PGATOUR @Panthers @vine #KeepPounding #TEAM\n",
      "BREAK LOOP\n",
      "COLLECTION 4\n",
      "CONTINUE LOOP\n",
      "BRONCOS tweet Orange Crush! I’m taking the #Broncos to win Super Bowl 50. #SBVote @SportsCenter https://t.co/h0VMJIWAog\n",
      "CONTINUE LOOP\n",
      "PANTHERS tweet #KeepPounding! I’m taking the Panthers to win Super Bowl 50. #SBVote @SportsCenter https://t.co/09Psw2Lt5Y\n",
      "CONTINUE LOOP\n",
      "PANTHERS tweet #KeepPounding! I’m taking the Panthers to win Super Bowl 50. #SBVote @SportsCenter https://t.co/rQ4MgsqCc0\n",
      "CONTINUE LOOP\n",
      "PANTHERS tweet #KeepPounding! I’m taking the Panthers to win Super Bowl 50. #SBVote @SportsCenter https://t.co/xTcxfsT0P7\n",
      "CONTINUE LOOP\n",
      "BRONCOS tweet Orange Crush! I’m taking the #Broncos to win Super Bowl 50. #SBVote @SportsCenter https://t.co/O9hV9blXbx\n",
      "CONTINUE LOOP\n",
      "PANTHERS tweet #KeepPounding! I’m taking the Panthers to win Super Bowl 50. #SBVote @SportsCenter https://t.co/fLp9cdef90\n",
      "CONTINUE LOOP\n",
      "BRONCOS tweet Orange Crush! I’m taking the #Broncos to win Super Bowl 50. #SBVote @SportsCenter https://t.co/RfVZXlblp7\n",
      "CONTINUE LOOP\n",
      "PANTHERS tweet #KeepPounding! I’m taking the Panthers to win Super Bowl 50. #SBVote @SportsCenter https://t.co/IBceHtIUyT\n",
      "CONTINUE LOOP\n",
      "BRONCOS tweet Orange Crush! I’m taking the #Broncos to win Super Bowl 50. #SBVote @SportsCenter\n",
      "CONTINUE LOOP\n",
      "BRONCOS tweet &lt;TOCHO🏈SHOW&gt; #CARvsDEN \n",
      "#SB50 #SuperBowl50 \n",
      "El inicio de una nueva era para #Panthers o la experiencia de #Broncos https://t.co/n05DnJQgdb\n",
      "CONTINUE LOOP\n",
      "PANTHERS tweet RT @RealSkipBayless: Carolina 31, Denver 20. Year of Cam. Panthers on Super Bowl roll. Cam option game/mobility keeps Von/DeMarcus off bala…\n",
      "BREAK LOOP\n"
     ]
    }
   ],
   "source": [
    "# Collect Broncos & Panthers tweets\n",
    "import time\n",
    "\n",
    "track = \"Broncos, Panthers\" # Tweets for Broncos OR Panthers\n",
    "locations = '-71.228386,42.306635,-70.883652,42.474311' # Boston geo zone\n",
    "stream = twitter_stream.statuses.filter(track=track, locations=locations)\n",
    "\n",
    "broncos = {}\n",
    "panthers = {}\n",
    "for counter in range(1,6):\n",
    "    print '------------------------------------------'\n",
    "    print 'COLLECTION %s' % counter\n",
    "    print '------------------------------------------'\n",
    "    broncos[counter] = []\n",
    "    panthers[counter] = []\n",
    "    for tweet in stream:\n",
    "        if len(broncos[counter]) > 200 or len(panthers[counter]) > 200:\n",
    "            print 'BREAK LOOP'\n",
    "            break\n",
    "        else:\n",
    "            print 'CONTINUE LOOP'\n",
    "            if 'Broncos' in tweet['text']:\n",
    "                print 'BRONCOS tweet %s' % tweet['text']\n",
    "                broncos[counter].append(tweet)\n",
    "            elif 'Panthers' in tweet['text']:\n",
    "                print 'PANTHERS tweet %s' % tweet['text']\n",
    "                panthers[counter].append(tweet)\n",
    "     time.sleep(900)\n",
    "\n",
    "save_json('broncos', broncos)\n",
    "save_json('panthers', panthers)"
   ]
  },
  {
   "cell_type": "code",
   "execution_count": 13,
   "metadata": {
    "collapsed": false
   },
   "outputs": [
    {
     "name": "stdout",
     "output_type": "stream",
     "text": [
      "3\n",
      "6\n"
     ]
    }
   ],
   "source": [
    "# Print number of Broncos tweets collected\n",
    "broncos_tweets = load_json('broncos')\n",
    "tweet_count = 0\n",
    "for tweets in broncos_tweets:\n",
    "    tweet_count += len(tweets)\n",
    "print tweet_count"
   ]
  },
  {
   "cell_type": "code",
   "execution_count": null,
   "metadata": {
    "collapsed": true
   },
   "outputs": [],
   "source": [
    "# Print number of Panthers tweets collected\n",
    "panthers_tweets = load_json('panthers')\n",
    "tweet_count = 0\n",
    "for tweets in panthers_tweets:\n",
    "    tweet_count += len(tweets)\n",
    "print tweet_count"
   ]
  }
 ],
 "metadata": {
  "kernelspec": {
   "display_name": "Python 2",
   "language": "python",
   "name": "python2"
  },
  "language_info": {
   "codemirror_mode": {
    "name": "ipython",
    "version": 2
   },
   "file_extension": ".py",
   "mimetype": "text/x-python",
   "name": "python",
   "nbconvert_exporter": "python",
   "pygments_lexer": "ipython2",
   "version": "2.7.11"
  }
 },
 "nbformat": 4,
 "nbformat_minor": 0
}
