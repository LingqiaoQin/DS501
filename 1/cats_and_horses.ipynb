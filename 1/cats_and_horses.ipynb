{
 "cells": [
  {
   "cell_type": "code",
   "execution_count": null,
   "metadata": {
    "collapsed": true
   },
   "outputs": [],
   "source": [
    "import io\n",
    "import json\n",
    "import twitter\n",
    "\n",
    "# API CONSTANTS\n",
    "CONSUMER_KEY = '92TpJf8O0c9AWN3ZJjcN8cYxs'\n",
    "CONSUMER_SECRET ='dyeCqzI2w7apETbTUvPai1oCDL5oponvZhHSmYm5XZTQbeiygq'\n",
    "OAUTH_TOKEN = '106590533-SEB5EGGoyJ8EsjOKN05YuOQYu2rg5muZgMDoNrqN'\n",
    "OAUTH_TOKEN_SECRET = 'BficAky6uGyGfRzDGJqZYVKo0HS6G6Ex3ijYW3zy3kjNJ'\n",
    "    \n",
    "def oauth_login(token, token_secret, consumer_key, consumer_secret):\n",
    "    \"\"\"\n",
    "    Snag an auth from Twitter\n",
    "    \"\"\"\n",
    "    auth = twitter.oauth.OAuth(OAUTH_TOKEN, OAUTH_TOKEN_SECRET,\n",
    "                               CONSUMER_KEY, CONSUMER_SECRET)\n",
    "    return auth\n",
    "\n",
    "def save_json(filename, data):\n",
    "    \"\"\"\n",
    "    Save json data to a filename\n",
    "    \"\"\"\n",
    "    print 'Saving data into {0}.json...'.format(filename)\n",
    "    with io.open('{0}.json'.format(filename), \n",
    "                 'w', encoding='utf-8') as f:\n",
    "        f.write(unicode(json.dumps(data, ensure_ascii=False)))\n",
    "\n",
    "def load_json(filename):\n",
    "    \"\"\"\n",
    "    Load json data from a filename\n",
    "    \"\"\"\n",
    "    print 'Loading data from {0}.json...'.format(filename)\n",
    "    with open('{0}.json'.format(filename)) as f:    \n",
    "        return json.load(f)"
   ]
  },
  {
   "cell_type": "code",
   "execution_count": null,
   "metadata": {
    "collapsed": false
   },
   "outputs": [],
   "source": [
    "# Create an api and stream instance\n",
    "auth = oauth_login(CONSUMER_KEY, CONSUMER_SECRET, OAUTH_TOKEN, OAUTH_TOKEN_SECRET)\n",
    "twitter_api = twitter.Twitter(auth=auth)\n",
    "twitter_stream = twitter.TwitterStream(auth=auth)\n",
    "if twitter_api and twitter_stream:\n",
    "    print 'Bingo! API and stream set up!'\n",
    "else:\n",
    "    print 'Hmmmm, something is wrong here.'"
   ]
  },
  {
   "cell_type": "code",
   "execution_count": null,
   "metadata": {
    "collapsed": true
   },
   "outputs": [],
   "source": [
    "# Collect Broncos & Panthers tweets\n",
    "import time\n",
    "\n",
    "track = \"Broncos, Panthers\" # Tweets for Broncos OR Panthers\n",
    "locations = '-71.228386,42.306635,-70.883652,42.474311' # Boston geo zone\n",
    "stream = twitter_stream.statuses.filter(track=track, locations=locations)\n",
    "\n",
    "broncos = []\n",
    "panthers = []\n",
    "counts = []\n",
    "MAX_TWEETS_PER_COLLECTION = 5\n",
    "for counter in range(1,6):\n",
    "    print '------------------------------------------'\n",
    "    print 'COLLECTION NUMBER', counter\n",
    "    broncos_counter = 0\n",
    "    panthers_counter = 0\n",
    "    count_dict = {'start_time': time.ctime()}\n",
    "    for tweet in stream:\n",
    "        if broncos_counter > MAX_TWEETS_PER_COLLECTION or panthers_counter > MAX_TWEETS_PER_COLLECTION:\n",
    "            break\n",
    "        else:\n",
    "            if 'Broncos' in tweet['text']:\n",
    "                broncos.append(tweet)\n",
    "                broncos_counter+=1\n",
    "            elif 'Panthers' in tweet['text']:\n",
    "                panthers.append(tweet)\n",
    "                panthers_counter+=1\n",
    "    count_dict['broncos'] = broncos_counter\n",
    "    count_dict['panthers'] = panthers_counter\n",
    "    count_dict['end_time'] = time.ctime()\n",
    "    counts.append(count_dict)\n",
    "    time.sleep(1)\n",
    "\n",
    "print '------------------------------------------'\n",
    "save_json('json/counts', counts)\n",
    "save_json('json/broncos', broncos)\n",
    "save_json('json/panthers', panthers)"
   ]
  }
 ],
 "metadata": {
  "kernelspec": {
   "display_name": "Python 2",
   "language": "python",
   "name": "python2"
  },
  "language_info": {
   "codemirror_mode": {
    "name": "ipython",
    "version": 2
   },
   "file_extension": ".py",
   "mimetype": "text/x-python",
   "name": "python",
   "nbconvert_exporter": "python",
   "pygments_lexer": "ipython2",
   "version": "2.7.11"
  }
 },
 "nbformat": 4,
 "nbformat_minor": 0
}
