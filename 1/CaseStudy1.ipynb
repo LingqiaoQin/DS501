{
 "cells": [
  {
   "cell_type": "markdown",
   "metadata": {},
   "source": [
    "#Case Study 1 : Collecting Data from Twitter\n",
    "\n",
    "** Due Date: February 10, before the class**\n",
    "\n",
    "*------------"
   ]
  },
  {
   "cell_type": "markdown",
   "metadata": {},
   "source": [
    "**TEAM Members:**\n",
    "    \n",
    "    Haley Huang\n",
    "    Helen Hong\n",
    "    Tom Meagher\n",
    "    Tyler Reese"
   ]
  },
  {
   "cell_type": "markdown",
   "metadata": {},
   "source": [
    "**Required Readings:** \n",
    "* Chapter 1 and Chapter 9 of the book [Mining the Social Web](http://www.learndatasci.com/wp-content/uploads/2015/08/Mining-the-Social-Web-2nd-Edition.pdf) \n",
    "* The codes for [Chapter 1](http://bit.ly/1qCtMrr) and [Chapter 9](http://bit.ly/1u7eP33)\n",
    "\n",
    "\n",
    "** NOTE **\n",
    "* Please don't forget to save the notebook frequently when working in IPython Notebook, otherwise the changes you made can be lost.\n",
    "\n",
    "*----------------------"
   ]
  },
  {
   "cell_type": "markdown",
   "metadata": {},
   "source": [
    "#Problem 1: Sampling Twitter Data with Streaming API about a certain topic"
   ]
  },
  {
   "cell_type": "markdown",
   "metadata": {},
   "source": [
    "* Select a topic that you are interested in, for example, \"WPI\" or \"Lady Gaga\"\n",
    "* Use Twitter Streaming API to sample a collection of tweets about this topic in real time. (It would be recommended that the number of tweets should be larger than 200, but smaller than 1 million.\n",
    "* Store the tweets you downloaded into a local file (txt file or json file) "
   ]
  },
  {
   "cell_type": "code",
   "execution_count": 1,
   "metadata": {
    "collapsed": false,
    "scrolled": true
   },
   "outputs": [
    {
     "name": "stdout",
     "output_type": "stream",
     "text": [
      "Bingo! API set up!\n",
      "19 tweets captured from topic of interest, jack.\n",
      "Saving tweets into tweets.json\n",
      "Loading tweets into results variable\n"
     ]
    }
   ],
   "source": [
    "import io\n",
    "import json\n",
    "import twitter\n",
    "\n",
    "#---------------------------------------------\n",
    "# Define a Function to Login Twitter API\n",
    "def oauth_login():\n",
    "    # Go to http://twitter.com/apps/new to create an app and get values\n",
    "    # for these credentials that you'll need to provide in place of these\n",
    "    # empty string values that are defined as placeholders.\n",
    "    # See https://dev.twitter.com/docs/auth/oauth for more information \n",
    "    # on Twitter's OAuth implementation.\n",
    "    \n",
    "    CONSUMER_KEY = '92TpJf8O0c9AWN3ZJjcN8cYxs'\n",
    "    CONSUMER_SECRET ='dyeCqzI2w7apETbTUvPai1oCDL5oponvZhHSmYm5XZTQbeiygq'\n",
    "    OAUTH_TOKEN = '106590533-SEB5EGGoyJ8EsjOKN05YuOQYu2rg5muZgMDoNrqN'\n",
    "    OAUTH_TOKEN_SECRET = 'BficAky6uGyGfRzDGJqZYVKo0HS6G6Ex3ijYW3zy3kjNJ'\n",
    "    \n",
    "    auth = twitter.oauth.OAuth(OAUTH_TOKEN, OAUTH_TOKEN_SECRET,\n",
    "                               CONSUMER_KEY, CONSUMER_SECRET)\n",
    "    \n",
    "    twitter_api = twitter.Twitter(auth=auth)\n",
    "    return twitter_api\n",
    "\n",
    "#----------------------------------------------\n",
    "\n",
    "def save_json(filename, data):\n",
    "    \"\"\"\n",
    "    Save json data to a filename\n",
    "    \"\"\"\n",
    "    with io.open('{0}.json'.format(filename), \n",
    "                 'w', encoding='utf-8') as f:\n",
    "        f.write(unicode(json.dumps(data, ensure_ascii=False)))\n",
    "\n",
    "def load_json(filename):\n",
    "    \"\"\"\n",
    "    Load json data from a filename\n",
    "    \"\"\"\n",
    "    with open('{0}.json'.format(filename)) as f:    \n",
    "        return json.load(f)\n",
    "\n",
    "twitter_api = oauth_login()\n",
    "if twitter_api:\n",
    "    print 'Bingo! API set up!'\n",
    "else:\n",
    "    print 'Hmmmm, something is wrong here', twitter_api\n",
    "\n",
    "topic_of_interest = \"jack\"\n",
    "tweets = twitter_api.statuses.user_timeline(screen_name=\"%s\" % topic_of_interest)\n",
    "\n",
    "# Count number of saved tweets\n",
    "total_tweet_count = 0\n",
    "for tweet in tweets: total_tweet_count+=1\n",
    "print \"%s tweets captured from topic of interest, %s.\" % (total_tweet_count, topic_of_interest)\n",
    "\n",
    "# Save tweets to file\n",
    "filename = \"tweets\"\n",
    "print 'Saving tweets into {0}.json'.format(filename)\n",
    "save_json(filename, tweets)\n",
    "\n",
    "# Load saved tweets into results\n",
    "results = load_json(filename)\n",
    "print \"Loading tweets into results variable\""
   ]
  },
  {
   "cell_type": "code",
   "execution_count": 5,
   "metadata": {
    "collapsed": false
   },
   "outputs": [
    {
     "name": "stdout",
     "output_type": "stream",
     "text": [
      "Loading tweets into results variable\n"
     ]
    }
   ],
   "source": [
    "import io\n",
    "import json\n",
    "import twitter\n",
    "\n",
    "def load_json(filename):\n",
    "    \"\"\"\n",
    "    Load json data from a filename\n",
    "    \"\"\"\n",
    "    with open('{0}.json'.format(filename)) as f:    \n",
    "        return json.load(f)\n",
    "\n",
    "filename = \"tweets\"\n",
    "results = load_json(filename)\n",
    "print \"Loading tweets into results variable\""
   ]
  },
  {
   "cell_type": "code",
   "execution_count": 24,
   "metadata": {
    "collapsed": false
   },
   "outputs": [
    {
     "name": "stdout",
     "output_type": "stream",
     "text": [
      "Average number of words- 13.8947368421\n",
      "Lexical Diversity- 0.795454545455\n"
     ]
    }
   ],
   "source": [
    "# Compute Additional Statistics about the tweets collected\n",
    "\n",
    "# Determine the average number of words in the text of each tweet\n",
    "def average_words(tweet_texts):\n",
    "    total_words =  sum([len(s.split()) for s in tweet_texts])\n",
    "    return 1.0*total_words/len(tweet_texts)\n",
    "\n",
    "tweet_texts = [ tweet['text'] \n",
    "                 for tweet in results ]\n",
    "\n",
    "print 'Average number of words-', average_words(tweet_texts)\n",
    "\n",
    "# Calculate the lexical diversity of all words contained in the tweets\n",
    "def lexical_diversity(tokens):\n",
    "    return 1.0*len(set(tokens))/len(tokens)\n",
    "\n",
    "words = [ word \n",
    "          for tweet in tweet_texts \n",
    "              for word in tweet.split() ]\n",
    "\n",
    "print 'Lexical Diversity-', lexical_diversity(words)\n"
   ]
  },
  {
   "cell_type": "markdown",
   "metadata": {},
   "source": [
    "###Report some statistics about the tweets you collected \n",
    "\n",
    "*The topic of interest: jack\n",
    "\n",
    "*The total number of tweets collected:  19"
   ]
  },
  {
   "cell_type": "markdown",
   "metadata": {},
   "source": [
    "*-----------------------"
   ]
  },
  {
   "cell_type": "markdown",
   "metadata": {},
   "source": [
    "#Problem 2: Analyzing Tweets and Tweet Entities with Frequency Analysis\n",
    "\n",
    "**1. Word Count:** \n",
    "* Use the tweets you collected in Problem 1, and compute the frequencies of the words being used in these tweets. \n",
    "* Plot a table of the top 30 words with their counts"
   ]
  },
  {
   "cell_type": "code",
   "execution_count": 2,
   "metadata": {
    "collapsed": false
   },
   "outputs": [
    {
     "name": "stdout",
     "output_type": "stream",
     "text": [
      "+-------------+-------+\n",
      "| Word        | Count |\n",
      "+-------------+-------+\n",
      "| RT          |    11 |\n",
      "| to          |     8 |\n",
      "| way         |     4 |\n",
      "| for         |     3 |\n",
      "| on          |     3 |\n",
      "| your        |     3 |\n",
      "| is          |     3 |\n",
      "| you         |     3 |\n",
      "| the         |     3 |\n",
      "| just        |     2 |\n",
      "| follow      |     2 |\n",
      "| only        |     2 |\n",
      "| excited     |     2 |\n",
      "| new         |     2 |\n",
      "| #IowaCaucus |     2 |\n",
      "| our         |     2 |\n",
      "| out         |     2 |\n",
      "| @Square     |     2 |\n",
      "| Iowa        |     2 |\n",
      "| about       |     2 |\n",
      "| of          |     2 |\n",
      "| The         |     2 |\n",
      "| more        |     2 |\n",
      "| with        |     2 |\n",
      "| this        |     2 |\n",
      "| see         |     2 |\n",
      "| can         |     2 |\n",
      "| in          |     2 |\n",
      "| if          |     2 |\n",
      "| that        |     2 |\n",
      "+-------------+-------+\n"
     ]
    }
   ],
   "source": [
    "from collections import Counter\n",
    "from prettytable import PrettyTable\n",
    "\n",
    "tweet_texts = [ tweet['text'] \n",
    "                 for tweet in results ]\n",
    "words = [ word \n",
    "          for tweet in tweet_texts \n",
    "              for word in tweet.split() ]\n",
    "\n",
    "# frequency of words\n",
    "count = Counter(words).most_common()\n",
    "\n",
    "# table of the top 30 words with their counts\n",
    "pretty_table = PrettyTable(field_names=['Word', 'Count']) \n",
    "[ pretty_table.add_row(w) for w in count[:30] ]\n",
    "pretty_table.align['Word'], pretty_table.align['Count'] = 'l', 'r' # Set column alignment\n",
    "print pretty_table"
   ]
  },
  {
   "cell_type": "markdown",
   "metadata": {},
   "source": [
    "**2. Find the most popular tweets in your collection of tweets**\n",
    "\n",
    "Please plot a table of the top 10 tweets that are the most popular among your collection, i.e., the tweets with the largest number of retweet counts.\n"
   ]
  },
  {
   "cell_type": "code",
   "execution_count": 22,
   "metadata": {
    "collapsed": false
   },
   "outputs": [
    {
     "name": "stdout",
     "output_type": "stream",
     "text": [
      "+-------+--------------+----------------------------------------------------+\n",
      "| Count | Screen Name  | Text                                               |\n",
      "+-------+--------------+----------------------------------------------------+\n",
      "| 2863  | vine         | RT @vine: ☁️☁️☁️  https://t.co/ZjshUKxSw3          |\n",
      "| 893   | blackbirds   | RT @blackbirds: We're excited to celebrate Black   |\n",
      "|       |              | History Month with a new emoji. Join the           |\n",
      "|       |              | conversation all month long with #BlackHistoryMon… |\n",
      "| 157   | gomery       | RT @gomery: Currently in parts of Iowa.            |\n",
      "|       |              | #IowaCaucus  https://t.co/QRNo0LznxE               |\n",
      "| 80    | NickPacilio  | RT @NickPacilio: Reminder - Iowans were Tweeting   |\n",
      "|       |              | about @tedcruz more than any other GOP candidate   |\n",
      "|       |              | this past week. https://t.co/XIGOGjgoAr            |\n",
      "| 55    | adambain     | RT @adambain: We’re expanding our logged out home  |\n",
      "|       |              | timeline to people across 23 countries who visit   |\n",
      "|       |              | on their mobile devices!                           |\n",
      "|       |              | https://t.co/z…                                    |\n",
      "| 29    | eyeseewaters | RT @eyeseewaters: An electric-powered road that    |\n",
      "|       |              | melts its own snow https://t.co/Su2DcVdLVa         |\n",
      "| 27    | periscopetv  | RT @periscopetv: Who's gonna win? Use #SB50        |\n",
      "|       |              | #SuperBowl #Broncos #Panthers or #KeepPounding in  |\n",
      "|       |              | your title to show your loyalty. https://t.co…     |\n",
      "| 24    | patrickc     | RT @patrickc: The follow-able Moment for Iowa has  |\n",
      "|       |              | been pretty cool. (I only just realized that you   |\n",
      "|       |              | can temporarily follow events.) https://…          |\n",
      "| 22    | MAKERSwomen  | RT @MAKERSwomen: RT if you're excited for The 2016 |\n",
      "|       |              | MAKERS conference TOMORROW https://t.co/a0QYnhuxrp |\n",
      "|       |              | #TheTimeIsNow #MAKERS2016 https://t.c…             |\n",
      "| 9     | ThePayam     | RT @ThePayam: @Square @jack just got our two new   |\n",
      "|       |              | contactless square readers for my dad's small      |\n",
      "|       |              | business. Thanks! https://t.co/1H1eja54QM          |\n",
      "+-------+--------------+----------------------------------------------------+\n"
     ]
    }
   ],
   "source": [
    "from collections import Counter\n",
    "from prettytable import PrettyTable\n",
    "\n",
    "# Create a list of all tweets with at least one retweet, and index the originator of that tweet and the text.\n",
    "retweets = [\n",
    "            (tweet['retweet_count'],\n",
    "            tweet['retweeted_status']['user']['screen_name'],\n",
    "            tweet['text'])\n",
    "            \n",
    "            #Ensure that a retweet exists\n",
    "            for tweet in results                      \n",
    "                if tweet.has_key('retweeted_status')\n",
    "            ]\n",
    "\n",
    "pt = PrettyTable(field_names = ['Count','Screen Name','Text'])\n",
    "\n",
    "# Sort tweets by descending number of retweets and display the top 10 results in a table.\n",
    "[pt.add_row(row) for row in sorted(retweets, reverse = True)[:10]]\n",
    "pt.max_width['Text'] = 50\n",
    "pt.align = 'l'\n",
    "print pt"
   ]
  },
  {
   "cell_type": "markdown",
   "metadata": {},
   "source": [
    "Another measure of tweet \"popularity\" could be the number of times it is favorited.  The following calculates the top-10 tweets with the most \"favorites\""
   ]
  },
  {
   "cell_type": "code",
   "execution_count": 28,
   "metadata": {
    "collapsed": false
   },
   "outputs": [
    {
     "name": "stdout",
     "output_type": "stream",
     "text": [
      "+-------+----------------------------------------------------+\n",
      "| Count | Text                                               |\n",
      "+-------+----------------------------------------------------+\n",
      "| 375   | Fast way to see what's trending now📈 on iPhone    |\n",
      "|       | 6s: 3D Touch (press in) the Twitter icon and tap   |\n",
      "|       | search! https://t.co/6p6UIDnZU3                    |\n",
      "| 353   | Trends have more context now so you can see if     |\n",
      "|       | someone you follow is tweeting about it            |\n",
      "|       | https://t.co/A28Ubklf9q                            |\n",
      "| 180   | 💯💯💯 https://t.co/vU0ne0wEHK                     |\n",
      "| 143   | \"Twitter nails it.\" #IowaCaucus                    |\n",
      "|       | https://t.co/yMaJPOlJNZ                            |\n",
      "| 133   | Watch Iowa caucus voting live:                     |\n",
      "|       | https://t.co/tU98z67jI5                            |\n",
      "| 122   | This is a fascinating way to experience an         |\n",
      "|       | election year. Right on the ground live where it's |\n",
      "|       | unfolding. https://t.co/DgqMGpbbzt                 |\n",
      "| 83    | \"…the only way to make real change is to go out of |\n",
      "|       | your way to do so.\" https://t.co/VPNBn0AJ8E        |\n",
      "| 44    | Broadcasts from #GroundhogDay this morning:        |\n",
      "|       | https://t.co/H0xPLQiyuU                            |\n",
      "| 9     | @ThePayam @Square thank you! They are fast!        |\n",
      "| 0     | RT @vine: ☁️☁️☁️  https://t.co/ZjshUKxSw3          |\n",
      "+-------+----------------------------------------------------+\n"
     ]
    }
   ],
   "source": [
    "# Determine the number of \"favorites\" for each tweet collected.\n",
    "\n",
    "favorites = [\n",
    "            (tweet['favorite_count'],\n",
    "             tweet['text'])\n",
    "            for tweet in results\n",
    "            ]\n",
    "            \n",
    "pt = PrettyTable(field_names = ['Count','Text'])\n",
    "\n",
    "# Sort tweets by descending number of favorites and display the top 10 results in a table.\n",
    "[pt.add_row(row) for row in sorted(favorites, reverse = True)[:10]]\n",
    "pt.max_width['Text'] = 50\n",
    "pt.align = 'l'\n",
    "print pt"
   ]
  },
  {
   "cell_type": "markdown",
   "metadata": {},
   "source": [
    "**3. Find the most popular Tweet Entities in your collection of tweets**\n",
    "\n",
    "Please plot a table of the top 10 hashtags, top 10 user mentions that are the most popular in your collection of tweets."
   ]
  },
  {
   "cell_type": "code",
   "execution_count": 21,
   "metadata": {
    "collapsed": false
   },
   "outputs": [
    {
     "name": "stdout",
     "output_type": "stream",
     "text": [
      "+--------------+-------+\n",
      "| Screen Name  | Count |\n",
      "+--------------+-------+\n",
      "| Square       |     2 |\n",
      "| ThePayam     |     2 |\n",
      "| eyeseewaters |     1 |\n",
      "| patrickc     |     1 |\n",
      "| MAKERSwomen  |     1 |\n",
      "| NickPacilio  |     1 |\n",
      "| blackbirds   |     1 |\n",
      "| tedcruz      |     1 |\n",
      "| vine         |     1 |\n",
      "| periscopetv  |     1 |\n",
      "+--------------+-------+\n",
      "+-------------------+-------+\n",
      "| Hashtag           | Count |\n",
      "+-------------------+-------+\n",
      "| IowaCaucus        |     2 |\n",
      "| KeepPounding      |     1 |\n",
      "| Broncos           |     1 |\n",
      "| SuperBowl         |     1 |\n",
      "| GroundhogDay      |     1 |\n",
      "| MAKERS2016        |     1 |\n",
      "| BlackHistoryMonth |     1 |\n",
      "| TheTimeIsNow      |     1 |\n",
      "| SB50              |     1 |\n",
      "| BHM               |     1 |\n",
      "+-------------------+-------+\n"
     ]
    }
   ],
   "source": [
    "#----------------------------------------------\n",
    "\n",
    "# Extract the scree names which appear among the collection of tweets\n",
    "screen_names = [user_mention['screen_name']\n",
    "               for tweet in results\n",
    "                   for user_mention in tweet['entities']['user_mentions']]\n",
    "\n",
    "# Extract the hashtags which appear among the collection of tweets\n",
    "hashtags = [ hashtag['text']\n",
    "           for tweet in results\n",
    "               for hashtag in tweet['entities']['hashtags']]\n",
    "\n",
    "# Simultaneously determine the frequency of screen names/hashtags, and display the top 10 most common in a table.\n",
    "for label, data in (('Screen Name',screen_names),\n",
    "                   ('Hashtag',hashtags)):\n",
    "    pt = PrettyTable(field_names =[label,'Count'])\n",
    "    c = Counter(data)\n",
    "    [ pt.add_row(kv) for kv in c.most_common()[:10]]\n",
    "    pt.align[label],pt.align['Count'] = 'l','r'\n",
    "    print pt\n"
   ]
  },
  {
   "cell_type": "markdown",
   "metadata": {},
   "source": [
    "*------------------------\n",
    "\n",
    "#Problem 3: Getting \"All\" friends and \"All\" followers of a popular user in twitter\n"
   ]
  },
  {
   "cell_type": "markdown",
   "metadata": {},
   "source": [
    "* choose a popular twitter user who has many followers, such as \"ladygaga\".\n",
    "* Get the list of all friends and all followers of the twitter user.\n",
    "* Plot 20 out of the followers, plot their ID numbers and screen names in a table.\n",
    "* Plot 20 out of the friends (if the user has more than 20 friends), plot their ID numbers and screen names in a table."
   ]
  },
  {
   "cell_type": "code",
   "execution_count": 29,
   "metadata": {
    "collapsed": false
   },
   "outputs": [],
   "source": [
    "#----------------------------------------------\n",
    "# The following is the \"general-purpose API wrapper\" presented in \"Mining the social Web\" for making robust twitter requests.\n",
    "import sys\n",
    "import time\n",
    "from urllib2 import URLError\n",
    "from httplib import BadStatusLine\n",
    "import json\n",
    "\n",
    "# This function can be used to accompany any twitter API function.  It force-breaks after receiving more than max_errors\n",
    "# error messages from the Twitter API.\n",
    "\n",
    "def make_twitter_request(twitter_api_func, max_errors = 10, *args, **kw):\n",
    "    def handle_twitter_http_error(e, wait_period = 2, sleep_when_rate_limited = True):\n",
    "        \n",
    "        if wait_period > 3600:\n",
    "            print >> sys.stderr, 'Too many retries. Quitting.'\n",
    "            raise e\n",
    "        \n",
    "        if e.e.code == 401:\n",
    "            print >> sys.stderr, 'Encountered 401 Error (Not Authorized)'\n",
    "            return None\n",
    "        \n",
    "        elif e.e.code == 404:\n",
    "            print >> sys.stderr, 'Encountered 404 Error (Not Found)'\n",
    "            return None\n",
    "        \n",
    "        elif e.e.code == 429:\n",
    "            print >> sys.stderr, 'Encountered 429 Error (Rate Limit Exceeded)'\n",
    "            if sleep_when_rate_limited:\n",
    "                print >> sys.stderr, \"Retrying again in 15 Minutes...ZzZ...\"\n",
    "                sys.stderr.flush()\n",
    "                time.sleep(60*15 + 5)\n",
    "                print >> sys.stderr, '...ZzZ...Awake now and trying again.'\n",
    "                return 2\n",
    "            else:\n",
    "                raise e\n",
    "                \n",
    "        elif e.e.code in (500,502,503,504):\n",
    "            print >> sys.stderr, 'Encountered %i Error.  Retrying in %i seconds' % \\\n",
    "                (e.e.code, wait_period)\n",
    "            time.sleel(wait.period)\n",
    "            wait.period *= 1.5\n",
    "            return wait_period\n",
    "        \n",
    "        else:\n",
    "            raise e\n",
    "            \n",
    "    wait_period = 2\n",
    "    error_count = 0\n",
    "    \n",
    "    while True:\n",
    "        try:\n",
    "            return twitter_api_func(*args,**kw)\n",
    "        except twitter.api.TwitterHTTPError, e:\n",
    "            error_count = 0\n",
    "            wait_period = handle_twitter_http_error (e, wait_period)\n",
    "            if wait_period is None:\n",
    "                return\n",
    "            \n",
    "        except URLError, e:\n",
    "            error_count += 1\n",
    "            print >> sys.stderr, \"URLError encountered.  Continuing\"\n",
    "            if error_count > max_errors:\n",
    "                print >> sys.stderr, \"Too many consecutive errors...bailing out.\"\n",
    "                raise\n",
    "        \n",
    "        except BadStatusLine, e:\n",
    "            error_count += 1\n",
    "            print >> sys.stderr, \"BadStatusLineEncountered.  Continuing\"\n",
    "            if error_count > max_errors:\n",
    "                print >> sys.stderr, \"Too many consecutive errors...bailing out.\"\n",
    "                raise"
   ]
  },
  {
   "cell_type": "code",
   "execution_count": null,
   "metadata": {
    "collapsed": true
   },
   "outputs": [],
   "source": [
    "# This function uses the above Robust Request wrapper to retreive all friends and followers of a given user.  This code\n",
    "# can be found in Chapter 9, the `Twitter Cookbook' in \"Mining the social web\"\n",
    "\n",
    "def get_friends_followers_ids(twitter_api, screen_name = None, user_id = None, friends_limit = maxint, followers_limit = maxint):\n",
    "    assert(screen_name != None) != (user_id != None), \\\n",
    "    \"Must have screen_name or user_id, but not both\"\n",
    "    \n",
    "    get_friends_ids = partial(make_twitter_request, twitter_api.friends.ids,\n",
    "                             count = 5000)\n",
    "    get_followers_ids = partial(make_twitter_request, twitter_api.followers.ids,\n",
    "                               count = 5000)\n",
    "    \n",
    "    friends_ids, followers_ids = [],[]\n",
    "    \n",
    "    for twitter_api_func, limit, ids, label in[\n",
    "        [get_friends_ids, friends_limit, friends_ids, \"friends\"],\n",
    "        [get_followers_ids, followers_limit, followers_ids, \"followers\"]\n",
    "           ]:\n",
    "        if limit ==0: continue\n",
    "        \n",
    "        cursor = -1\n",
    "        while cursor != 0:\n",
    "            \n",
    "            if screen_name:\n",
    "                response = twitter_api_func(screen_name = screen_name, cursor = cursor)\n",
    "            else:\n",
    "                response = twitter_api_func(user_id = user_id, cursor = cursor)\n",
    "                \n",
    "            if response is not None:\n",
    "                ids += response['ids']\n",
    "                cursor = response['next_cursor']\n",
    "                \n",
    "            print >> sys.stderr, 'Fetched {0} total {1} ids for {2}'.format(len(ids),label,(user_id or screen_name))\n",
    "            \n",
    "            if len(ids) >= limit or response is None:\n",
    "                break\n",
    "                \n",
    "    return friends_ids[:friends_limit], followers_ids[:followers_limit]\n",
    "\n",
    "#--------------------------------\n",
    "# Retrieve the friends and followers of a user and save to a json file.\n",
    "\n",
    "friends_ids, followers_ids = get_friends_followers_ids(twitter_api, screen_name = 'User')\n",
    "    \n",
    "save_json('User_Followers',followers_ids)\n",
    "save_json('User_Friends', friends_ids)"
   ]
  },
  {
   "cell_type": "markdown",
   "metadata": {},
   "source": [
    "* Compute the mutual friends within the two groups, i.e., the users who are in both friend list and follower list, plot their ID numbers and screen names in a table"
   ]
  },
  {
   "cell_type": "code",
   "execution_count": null,
   "metadata": {
    "collapsed": false
   },
   "outputs": [],
   "source": [
    "# This function views the friend and follower lists computed above as mathematical sets.  It then computes the set-intersection \n",
    "# to determine mutual friends.  It also uses set-differences to determine unbalanced friendships.  It returns to the user:\n",
    "    # Number of friends\n",
    "    # Number of followers\n",
    "    # Number of mutual friends\n",
    "    # Number of friens which are not followers\n",
    "    # Number of followers which are not friends\n",
    "    \n",
    "def setwise_friends_followers_analysis(screen_name, friends_ids, followers_ids):\n",
    "    friends_ids, followers_ids = set(friends_ids),set(followers_ids)\n",
    "    \n",
    "    print '{0} is following {1}'.format(screen_name, len(friends_ids))\n",
    "    \n",
    "    print '{0} is being followed by {1}'.format(screen_name,len(followers_ids))\n",
    "    print '{0} has {1} mutual friends'.format(screen_name, len(friends_ids.intersection(followers_ids)))\n",
    "    print'{0} of {1} are not following {2} back'.format(len(friends_ids.difference(followers_ids)),len(friends_ids),screen_name)\n",
    "    print '{0} of {1} are not being followed back by {2}'.format(len(followers_ids.difference(friends_ids)),len(followers_ids),screen_name)\n",
    "\n",
    "\n",
    "setwise_friends_followers_analysis('User',friends_ids,followers_ids)\n",
    "\n",
    "\n",
    "\n"
   ]
  },
  {
   "cell_type": "markdown",
   "metadata": {},
   "source": [
    "*------------------------\n",
    "\n",
    "#Problem 4: Explore the data \n",
    "\n",
    "Run some additional experiments with your data to gain familiarity with the twitter data ant twitter API"
   ]
  },
  {
   "cell_type": "code",
   "execution_count": 2,
   "metadata": {
    "collapsed": false
   },
   "outputs": [],
   "source": [
    "#----------------------------------------------\n",
    "# Your code starts here\n",
    "#   Please add comments or text cells in between to explain the general idea of each block of the code.\n",
    "#   Please feel free to add more cells below this cell if necessary\n",
    "\n",
    "\n",
    "\n"
   ]
  },
  {
   "cell_type": "markdown",
   "metadata": {},
   "source": [
    "*-----------------\n",
    "# Done\n",
    "\n",
    "All set! \n",
    "\n",
    "** What do you need to submit?**\n",
    "\n",
    "* **Notebook File**: Save this IPython notebook, and find the notebook file in your folder (for example, \"filename.ipynb\"). This is the file you need to submit. Please make sure all the plotted tables and figures are in the notebook. If you used \"ipython notebook --pylab=inline\" to open the notebook, all the figures and tables should have shown up in the notebook.\n",
    "\n",
    "\n",
    "* **PPT Slides**: please prepare PPT slides (for 10 minutes' talk) to present about the case study . We will ask two teams which are randomly selected to present their case studies in class for this case study. \n",
    "\n",
    "* ** Report**: please prepare a report (less than 10 pages) to report what you found in the data.\n",
    "    * What data you collected? \n",
    "    * Why this topic is interesting or important to you? (Motivations)\n",
    "    * How did you analyse the data?\n",
    "    * What did you find in the data? \n",
    " \n",
    "     (please include figures or tables in the report, but no source code)\n",
    "\n",
    "Please compress all the files in a zipped file.\n",
    "\n",
    "\n",
    "** How to submit: **\n",
    "\n",
    "        Please submit through myWPI, in the Assignment \"Case Study 1\".\n",
    "        \n",
    "** Note: Each team just need to submit one submission in myWPI **"
   ]
  },
  {
   "cell_type": "markdown",
   "metadata": {},
   "source": [
    "# Grading Criteria:\n",
    "\n",
    "** Totoal Points: 120 **\n",
    "\n",
    "\n",
    "---------------------------------------------------------------------------\n",
    "** Notebook:  **\n",
    "    Points: 80\n",
    "\n",
    "\n",
    "    -----------------------------------\n",
    "    Qestion 1:\n",
    "    Points: 20\n",
    "    -----------------------------------\n",
    "    \n",
    "    (1) Select a topic that you are interested in.\n",
    "    Points: 6 \n",
    "    \n",
    "    (2) Use Twitter Streaming API to sample a collection of tweets about this topic in real time. (It would be recommended that the number of tweets should be larger than 200, but smaller than 1 million. Please check whether the total number of tweets collected is larger than 200?\n",
    "    Points: 10 \n",
    "    \n",
    "    \n",
    "    (3) Store the tweets you downloaded into a local file (txt file or json file)\n",
    "    Points: 4 \n",
    "    \n",
    "    \n",
    "    -----------------------------------\n",
    "    Qestion 2:\n",
    "    Points: 20\n",
    "    -----------------------------------\n",
    "    \n",
    "    1. Word Count\n",
    "\n",
    "    (1) Use the tweets you collected in Problem 1, and compute the frequencies of the words being used in these tweets.\n",
    "    Points: 4 \n",
    "\n",
    "    (2) Plot a table of the top 30 words with their counts \n",
    "    Points: 4 \n",
    "    \n",
    "    2. Find the most popular tweets in your collection of tweets\n",
    "    plot a table of the top 10 tweets that are the most popular among your collection, i.e., the tweets with the largest number of retweet counts.\n",
    "    Points: 4 \n",
    "    \n",
    "    3. Find the most popular Tweet Entities in your collection of tweets\n",
    "\n",
    "    (1) plot a table of the top 10 hashtags, \n",
    "    Points: 4 \n",
    "\n",
    "    (2) top 10 user mentions that are the most popular in your collection of tweets.\n",
    "    Points: 4 \n",
    "    \n",
    "    \n",
    "    -----------------------------------\n",
    "    Qestion 3:\n",
    "    Points: 20\n",
    "    -----------------------------------\n",
    "    \n",
    "    (1) choose a popular twitter user who has many followers, such as \"ladygaga\".\n",
    "    Points: 4 \n",
    "\n",
    "    (2) Get the list of all friends and all followers of the twitter user.\n",
    "    Points: 4 \n",
    "\n",
    "    (3) Plot 20 out of the followers, plot their ID numbers and screen names in a table.\n",
    "    Points: 4 \n",
    "\n",
    "    (4) Plot 20 out of the friends (if the user has more than 20 friends), plot their ID numbers and screen names in a table.\n",
    "    Points: 4 \n",
    "    \n",
    "    (5) Compute the mutual friends within the two groups, i.e., the users who are in both friend list and follower list, plot their ID numbers and screen names in a table\n",
    "    Points: 4 \n",
    "  \n",
    "    -----------------------------------\n",
    "    Qestion 4:  Explore the data\n",
    "    Points: 20\n",
    "    -----------------------------------\n",
    "        Novelty: 10\n",
    "        Interestingness: 10\n",
    "    -----------------------------------\n",
    "    Run some additional experiments with your data to gain familiarity with the twitter data ant twitter API\n",
    "\n",
    "\n",
    "\n",
    "\n",
    "---------------------------------------------------------------------------\n",
    "** Report: communicate the results**\n",
    "    Points: 20\n",
    "\n",
    "(1) What data you collected?\n",
    "    Points: 5 \n",
    "\n",
    "(2) Why this topic is interesting or important to you? (Motivations)\n",
    "    Points: 5 \n",
    "\n",
    "(3) How did you analyse the data?\n",
    "    Points: 5 \n",
    "\n",
    "(4) What did you find in the data?\n",
    "(please include figures or tables in the report, but no source code)\n",
    "    Points: 5 \n",
    "\n",
    "\n",
    "\n",
    "---------------------------------------------------------------------------\n",
    "** Slides (for 10 minutes of presentation): Story-telling **\n",
    "    Points: 20\n",
    "\n",
    "\n",
    "1. Motivation about the data collection, why the topic is interesting to you.\n",
    "    Points: 5 \n",
    "\n",
    "2. Communicating Results (figure/table)\n",
    "    Points: 10 \n",
    "\n",
    "3. Story telling (How all the parts (data, analysis, result) fit together as a story?)\n",
    "    Points: 5 \n",
    "\n"
   ]
  },
  {
   "cell_type": "code",
   "execution_count": null,
   "metadata": {
    "collapsed": false
   },
   "outputs": [],
   "source": []
  }
 ],
 "metadata": {
  "kernelspec": {
   "display_name": "Python 2",
   "language": "python",
   "name": "python2"
  },
  "language_info": {
   "codemirror_mode": {
    "name": "ipython",
    "version": 2
   },
   "file_extension": ".py",
   "mimetype": "text/x-python",
   "name": "python",
   "nbconvert_exporter": "python",
   "pygments_lexer": "ipython2",
   "version": "2.7.10"
  }
 },
 "nbformat": 4,
 "nbformat_minor": 0
}
