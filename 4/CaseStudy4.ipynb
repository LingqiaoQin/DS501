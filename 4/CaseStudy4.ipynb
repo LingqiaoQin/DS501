{
 "cells": [
  {
   "cell_type": "markdown",
   "metadata": {},
   "source": [
    "### Case Study 4 :  Data Science Shark Tank:  Pitch Your Ideas\n",
    "\n",
    "** Due Date: April 27, 6pm**\n",
    "<img src=\"https://cp.inkrefuge.com/images%5Cpressreleases/shark%20tank_large.jpg\" width=\"400px\"> "
   ]
  },
  {
   "cell_type": "markdown",
   "metadata": {},
   "source": [
    "After the previous 3 case studies,  your team has now equipped with all the three powerful skills of data science: Hacking skill, Business skill and Math skill. In this project, your team is going to make use of these skills to come up with an idea of a new business/startup based upon data science technology. Your goal is to design a better service/solution on any data you like, develop a prototype/demo and prepare a pitch for your idea.\n",
    "* Your team needs to decide which business problem is important for the market you are joining in (for example, social media market, housing market, search market, etc.).\n",
    "* Then design a data science approach to improve one of the current services or design a new service on any data that you choose.\n",
    "* The solution should include all the three components of data science: 1) the business part to analyze the potential impact of your new/improved service, why the idea can make money, how much are you evaluating the company; How are you planing to persuade the sharks to invest in your business; 2) the mathematical part to formulate the problem and develop math solution; 3) the programming part to collect the data, implement the math solution, and develop the prototype/demo.\n"
   ]
  },
  {
   "cell_type": "markdown",
   "metadata": {},
   "source": [
    "# Background about Elevator Pitch (90 seconds) and Shark Tank"
   ]
  },
  {
   "cell_type": "code",
   "execution_count": 36,
   "metadata": {
    "collapsed": false
   },
   "outputs": [
    {
     "data": {
      "image/jpeg": "[encoded data removed]",
      "text/html": [
       "\n",
       "        <iframe\n",
       "            width=\"400\"\n",
       "            height=\"300\"\n",
       "            src=\"https://www.youtube.com/embed/mrSmaCo29U4\"\n",
       "            frameborder=\"0\"\n",
       "            allowfullscreen\n",
       "        ></iframe>\n",
       "        "
      ],
      "text/plain": [
       "<IPython.lib.display.YouTubeVideo at 0xa754da0>"
      ]
     },
     "execution_count": 36,
     "metadata": {},
     "output_type": "execute_result"
    }
   ],
   "source": [
    "from IPython.display import YouTubeVideo\n",
    "YouTubeVideo(\"mrSmaCo29U4\")"
   ]
  },
  {
   "cell_type": "code",
   "execution_count": 37,
   "metadata": {
    "collapsed": false
   },
   "outputs": [
    {
     "data": {
      "image/jpeg": "[encoded data removed]",
      "text/html": [
       "\n",
       "        <iframe\n",
       "            width=\"400\"\n",
       "            height=\"300\"\n",
       "            src=\"https://www.youtube.com/embed/xIq8Sg59UdY\"\n",
       "            frameborder=\"0\"\n",
       "            allowfullscreen\n",
       "        ></iframe>\n",
       "        "
      ],
      "text/plain": [
       "<IPython.lib.display.YouTubeVideo at 0x108010b8>"
      ]
     },
     "execution_count": 37,
     "metadata": {},
     "output_type": "execute_result"
    }
   ],
   "source": [
    "YouTubeVideo(\"xIq8Sg59UdY\")"
   ]
  },
  {
   "cell_type": "markdown",
   "metadata": {},
   "source": [
    "### Two videos on storytelling"
   ]
  },
  {
   "cell_type": "markdown",
   "metadata": {},
   "source": [
    "https://video.wpi.edu/Watch/g2T4NjBn"
   ]
  },
  {
   "cell_type": "markdown",
   "metadata": {},
   "source": [
    "https://video.wpi.edu/Watch/q2A6Dbg3"
   ]
  },
  {
   "cell_type": "markdown",
   "metadata": {},
   "source": [
    "\n",
    "**Optional Readings:** \n",
    "* LinkedIn API: https://developer.linkedin.com/docs/rest-api\n",
    "* Zillow API: https://pypi.python.org/pypi/pyzillow\n",
    "* Google Map API: https://developers.google.com/api-client-library/python/apis/mapsengine/v1?hl=en\n",
    "* More APIs: https://github.com/ptwobrussell/Mining-the-Social-Web-2nd-Edition\n",
    "\n",
    "\n",
    "** Python libraries you may want to use:**\n",
    "* Scikit-learn (http://scikit-learn.org): machine learning tools in Python.\n",
    "\n",
    "** Data sources:**\n",
    "* UCI Machine Learning Repository: http://archive.ics.uci.edu/ml/ \n",
    "* Statlib datasets: http://lib.stat.cmu.edu/\n",
    "* Kaggel: www.kaggle.com \n",
    "* Open Gov. Data: www.data.gov, www.data.gov.uk, www.data.gov.fr, http://opengovernmentdata.org/data/catalogues/   \n",
    "\n",
    "** NOTE **\n",
    "* Please don't forget to save the notebook frequently when working in IPython Notebook, otherwise the changes you made can be lost.\n",
    "\n",
    "*----------------------"
   ]
  },
  {
   "cell_type": "markdown",
   "metadata": {},
   "source": [
    "### Global Imports & Variables"
   ]
  },
  {
   "cell_type": "code",
   "execution_count": 38,
   "metadata": {
    "collapsed": false
   },
   "outputs": [],
   "source": [
    "%matplotlib inline\n",
    "import pandas as pd\n",
    "import numpy as np\n",
    "import matplotlib.pyplot as plt\n",
    "\n",
    "csv_path = 'data/OnlineNewsPopularity.csv'\n",
    "hdf_path = 'data/online_news_popularity.h5'\n",
    "\n",
    "blue = '#5898f1'\n",
    "green = '#00b27f'\n",
    "yellow = '#FEC04C'\n",
    "red = '#fa5744'"
   ]
  },
  {
   "cell_type": "markdown",
   "metadata": {},
   "source": [
    "### Save .csv file into Pandas Data Frame & HDF5 (Hierarchical Data Format)"
   ]
  },
  {
   "cell_type": "code",
   "execution_count": 39,
   "metadata": {
    "collapsed": false
   },
   "outputs": [],
   "source": [
    "# Read .csv file into data frame\n",
    "data_frame = pd.read_csv(csv_path, sep=', ', engine='python')\n",
    "\n",
    "# Rename *channel* columns\n",
    "data_frame.rename(columns={\n",
    "        'data_channel_is_lifestyle': 'is_lifestyle',\n",
    "        'data_channel_is_entertainment': 'is_entertainment',\n",
    "        'data_channel_is_bus': 'is_business',\n",
    "        'data_channel_is_socmed': 'is_social_media',\n",
    "        'data_channel_is_tech': 'is_tech',\n",
    "        'data_channel_is_world': 'is_world',\n",
    "    }, inplace=True)\n",
    "\n",
    "# Rename *weekday* columns\n",
    "data_frame.rename(columns={\n",
    "        'weekday_is_monday': 'is_monday',\n",
    "        'weekday_is_tuesday': 'is_tuesday',\n",
    "        'weekday_is_wednesday': 'is_wednesday',\n",
    "        'weekday_is_thursday': 'is_thursday',\n",
    "        'weekday_is_friday': 'is_friday',\n",
    "        'weekday_is_saturday': 'is_saturday',\n",
    "        'weekday_is_sunday': 'is_sunday',\n",
    "    }, inplace=True)\n",
    "\n",
    "# Store data into HDF5 file\n",
    "data_hdf = pd.HDFStore(hdf_path)\n",
    "data_hdf['data_frame'] = data_frame\n",
    "data_hdf.close()"
   ]
  },
  {
   "cell_type": "markdown",
   "metadata": {},
   "source": [
    "### Read HDF5 file into Pandas Data Frame"
   ]
  },
  {
   "cell_type": "code",
   "execution_count": 40,
   "metadata": {
    "collapsed": false
   },
   "outputs": [
    {
     "data": {
      "text/plain": [
       "['timedelta',\n",
       " 'n_tokens_title',\n",
       " 'n_tokens_content',\n",
       " 'n_unique_tokens',\n",
       " 'n_non_stop_unique_tokens',\n",
       " 'num_hrefs',\n",
       " 'num_self_hrefs',\n",
       " 'num_imgs',\n",
       " 'num_videos',\n",
       " 'average_token_length',\n",
       " 'num_keywords',\n",
       " 'is_lifestyle',\n",
       " 'is_entertainment',\n",
       " 'is_business',\n",
       " 'is_social_media',\n",
       " 'is_tech',\n",
       " 'is_world',\n",
       " 'self_reference_min_shares',\n",
       " 'self_reference_max_shares',\n",
       " 'self_reference_avg_sharess',\n",
       " 'is_monday',\n",
       " 'is_tuesday',\n",
       " 'is_wednesday',\n",
       " 'is_thursday',\n",
       " 'is_friday',\n",
       " 'is_saturday',\n",
       " 'is_sunday',\n",
       " 'is_weekend',\n",
       " 'global_subjectivity',\n",
       " 'global_sentiment_polarity',\n",
       " 'global_rate_positive_words',\n",
       " 'global_rate_negative_words',\n",
       " 'rate_positive_words',\n",
       " 'rate_negative_words',\n",
       " 'avg_positive_polarity',\n",
       " 'min_positive_polarity',\n",
       " 'max_positive_polarity',\n",
       " 'avg_negative_polarity',\n",
       " 'min_negative_polarity',\n",
       " 'max_negative_polarity',\n",
       " 'title_subjectivity',\n",
       " 'title_sentiment_polarity',\n",
       " 'abs_title_subjectivity',\n",
       " 'abs_title_sentiment_polarity',\n",
       " 'shares']"
      ]
     },
     "execution_count": 40,
     "metadata": {},
     "output_type": "execute_result"
    }
   ],
   "source": [
    "# Read .h5 file into data frame\n",
    "data_frame = pd.read_hdf(hdf_path)\n",
    "\n",
    "data_frame.drop('LDA_00', axis=1, inplace=True)\n",
    "data_frame.drop('LDA_01', axis=1, inplace=True)\n",
    "data_frame.drop('LDA_02', axis=1, inplace=True)\n",
    "data_frame.drop('LDA_03', axis=1, inplace=True)\n",
    "data_frame.drop('LDA_04', axis=1, inplace=True)\n",
    "data_frame.drop('kw_min_min', axis=1, inplace=True)\n",
    "data_frame.drop('kw_max_min', axis=1, inplace=True)\n",
    "data_frame.drop('kw_avg_min', axis=1, inplace=True)\n",
    "data_frame.drop('kw_min_max', axis=1, inplace=True)\n",
    "data_frame.drop('kw_max_max', axis=1, inplace=True)\n",
    "data_frame.drop('kw_avg_max', axis=1, inplace=True)\n",
    "data_frame.drop('kw_min_avg', axis=1, inplace=True)\n",
    "data_frame.drop('kw_max_avg', axis=1, inplace=True)\n",
    "data_frame.drop('kw_avg_avg', axis=1, inplace=True)\n",
    "data_frame.drop('n_non_stop_words', axis=1, inplace=True)\n",
    "data_frame.drop('url', axis=1, inplace=True)\n",
    "\n",
    "# Data frame column headers\n",
    "list(data_frame)"
   ]
  },
  {
   "cell_type": "markdown",
   "metadata": {},
   "source": [
    "### A brief exploration"
   ]
  },
  {
   "cell_type": "code",
   "execution_count": 41,
   "metadata": {
    "collapsed": false,
    "scrolled": true
   },
   "outputs": [
    {
     "name": "stdout",
     "output_type": "stream",
     "text": [
      "(39644, 45)\n"
     ]
    },
    {
     "data": {
      "text/html": [
       "<div>\n",
       "<table border=\"1\" class=\"dataframe\">\n",
       "  <thead>\n",
       "    <tr style=\"text-align: right;\">\n",
       "      <th></th>\n",
       "      <th>timedelta</th>\n",
       "      <th>n_tokens_title</th>\n",
       "      <th>n_tokens_content</th>\n",
       "      <th>n_unique_tokens</th>\n",
       "      <th>n_non_stop_unique_tokens</th>\n",
       "      <th>num_hrefs</th>\n",
       "      <th>num_self_hrefs</th>\n",
       "      <th>num_imgs</th>\n",
       "      <th>num_videos</th>\n",
       "      <th>average_token_length</th>\n",
       "      <th>...</th>\n",
       "      <th>min_positive_polarity</th>\n",
       "      <th>max_positive_polarity</th>\n",
       "      <th>avg_negative_polarity</th>\n",
       "      <th>min_negative_polarity</th>\n",
       "      <th>max_negative_polarity</th>\n",
       "      <th>title_subjectivity</th>\n",
       "      <th>title_sentiment_polarity</th>\n",
       "      <th>abs_title_subjectivity</th>\n",
       "      <th>abs_title_sentiment_polarity</th>\n",
       "      <th>shares</th>\n",
       "    </tr>\n",
       "  </thead>\n",
       "  <tbody>\n",
       "    <tr>\n",
       "      <th>0</th>\n",
       "      <td>731.0</td>\n",
       "      <td>12.0</td>\n",
       "      <td>219.0</td>\n",
       "      <td>0.663594</td>\n",
       "      <td>0.815385</td>\n",
       "      <td>4.0</td>\n",
       "      <td>2.0</td>\n",
       "      <td>1.0</td>\n",
       "      <td>0.0</td>\n",
       "      <td>4.680365</td>\n",
       "      <td>...</td>\n",
       "      <td>0.100000</td>\n",
       "      <td>0.700000</td>\n",
       "      <td>-0.350000</td>\n",
       "      <td>-0.600000</td>\n",
       "      <td>-0.200000</td>\n",
       "      <td>0.500000</td>\n",
       "      <td>-0.187500</td>\n",
       "      <td>0.000000</td>\n",
       "      <td>0.187500</td>\n",
       "      <td>593</td>\n",
       "    </tr>\n",
       "    <tr>\n",
       "      <th>1</th>\n",
       "      <td>731.0</td>\n",
       "      <td>9.0</td>\n",
       "      <td>255.0</td>\n",
       "      <td>0.604743</td>\n",
       "      <td>0.791946</td>\n",
       "      <td>3.0</td>\n",
       "      <td>1.0</td>\n",
       "      <td>1.0</td>\n",
       "      <td>0.0</td>\n",
       "      <td>4.913725</td>\n",
       "      <td>...</td>\n",
       "      <td>0.033333</td>\n",
       "      <td>0.700000</td>\n",
       "      <td>-0.118750</td>\n",
       "      <td>-0.125000</td>\n",
       "      <td>-0.100000</td>\n",
       "      <td>0.000000</td>\n",
       "      <td>0.000000</td>\n",
       "      <td>0.500000</td>\n",
       "      <td>0.000000</td>\n",
       "      <td>711</td>\n",
       "    </tr>\n",
       "    <tr>\n",
       "      <th>2</th>\n",
       "      <td>731.0</td>\n",
       "      <td>9.0</td>\n",
       "      <td>211.0</td>\n",
       "      <td>0.575130</td>\n",
       "      <td>0.663866</td>\n",
       "      <td>3.0</td>\n",
       "      <td>1.0</td>\n",
       "      <td>1.0</td>\n",
       "      <td>0.0</td>\n",
       "      <td>4.393365</td>\n",
       "      <td>...</td>\n",
       "      <td>0.100000</td>\n",
       "      <td>1.000000</td>\n",
       "      <td>-0.466667</td>\n",
       "      <td>-0.800000</td>\n",
       "      <td>-0.133333</td>\n",
       "      <td>0.000000</td>\n",
       "      <td>0.000000</td>\n",
       "      <td>0.500000</td>\n",
       "      <td>0.000000</td>\n",
       "      <td>1500</td>\n",
       "    </tr>\n",
       "    <tr>\n",
       "      <th>3</th>\n",
       "      <td>731.0</td>\n",
       "      <td>9.0</td>\n",
       "      <td>531.0</td>\n",
       "      <td>0.503788</td>\n",
       "      <td>0.665635</td>\n",
       "      <td>9.0</td>\n",
       "      <td>0.0</td>\n",
       "      <td>1.0</td>\n",
       "      <td>0.0</td>\n",
       "      <td>4.404896</td>\n",
       "      <td>...</td>\n",
       "      <td>0.136364</td>\n",
       "      <td>0.800000</td>\n",
       "      <td>-0.369697</td>\n",
       "      <td>-0.600000</td>\n",
       "      <td>-0.166667</td>\n",
       "      <td>0.000000</td>\n",
       "      <td>0.000000</td>\n",
       "      <td>0.500000</td>\n",
       "      <td>0.000000</td>\n",
       "      <td>1200</td>\n",
       "    </tr>\n",
       "    <tr>\n",
       "      <th>4</th>\n",
       "      <td>731.0</td>\n",
       "      <td>13.0</td>\n",
       "      <td>1072.0</td>\n",
       "      <td>0.415646</td>\n",
       "      <td>0.540890</td>\n",
       "      <td>19.0</td>\n",
       "      <td>19.0</td>\n",
       "      <td>20.0</td>\n",
       "      <td>0.0</td>\n",
       "      <td>4.682836</td>\n",
       "      <td>...</td>\n",
       "      <td>0.033333</td>\n",
       "      <td>1.000000</td>\n",
       "      <td>-0.220192</td>\n",
       "      <td>-0.500000</td>\n",
       "      <td>-0.050000</td>\n",
       "      <td>0.454545</td>\n",
       "      <td>0.136364</td>\n",
       "      <td>0.045455</td>\n",
       "      <td>0.136364</td>\n",
       "      <td>505</td>\n",
       "    </tr>\n",
       "    <tr>\n",
       "      <th>5</th>\n",
       "      <td>731.0</td>\n",
       "      <td>10.0</td>\n",
       "      <td>370.0</td>\n",
       "      <td>0.559889</td>\n",
       "      <td>0.698198</td>\n",
       "      <td>2.0</td>\n",
       "      <td>2.0</td>\n",
       "      <td>0.0</td>\n",
       "      <td>0.0</td>\n",
       "      <td>4.359459</td>\n",
       "      <td>...</td>\n",
       "      <td>0.136364</td>\n",
       "      <td>0.600000</td>\n",
       "      <td>-0.195000</td>\n",
       "      <td>-0.400000</td>\n",
       "      <td>-0.100000</td>\n",
       "      <td>0.642857</td>\n",
       "      <td>0.214286</td>\n",
       "      <td>0.142857</td>\n",
       "      <td>0.214286</td>\n",
       "      <td>855</td>\n",
       "    </tr>\n",
       "    <tr>\n",
       "      <th>6</th>\n",
       "      <td>731.0</td>\n",
       "      <td>8.0</td>\n",
       "      <td>960.0</td>\n",
       "      <td>0.418163</td>\n",
       "      <td>0.549834</td>\n",
       "      <td>21.0</td>\n",
       "      <td>20.0</td>\n",
       "      <td>20.0</td>\n",
       "      <td>0.0</td>\n",
       "      <td>4.654167</td>\n",
       "      <td>...</td>\n",
       "      <td>0.100000</td>\n",
       "      <td>1.000000</td>\n",
       "      <td>-0.224479</td>\n",
       "      <td>-0.500000</td>\n",
       "      <td>-0.050000</td>\n",
       "      <td>0.000000</td>\n",
       "      <td>0.000000</td>\n",
       "      <td>0.500000</td>\n",
       "      <td>0.000000</td>\n",
       "      <td>556</td>\n",
       "    </tr>\n",
       "    <tr>\n",
       "      <th>7</th>\n",
       "      <td>731.0</td>\n",
       "      <td>12.0</td>\n",
       "      <td>989.0</td>\n",
       "      <td>0.433574</td>\n",
       "      <td>0.572108</td>\n",
       "      <td>20.0</td>\n",
       "      <td>20.0</td>\n",
       "      <td>20.0</td>\n",
       "      <td>0.0</td>\n",
       "      <td>4.617796</td>\n",
       "      <td>...</td>\n",
       "      <td>0.100000</td>\n",
       "      <td>1.000000</td>\n",
       "      <td>-0.242778</td>\n",
       "      <td>-0.500000</td>\n",
       "      <td>-0.050000</td>\n",
       "      <td>1.000000</td>\n",
       "      <td>0.500000</td>\n",
       "      <td>0.500000</td>\n",
       "      <td>0.500000</td>\n",
       "      <td>891</td>\n",
       "    </tr>\n",
       "    <tr>\n",
       "      <th>8</th>\n",
       "      <td>731.0</td>\n",
       "      <td>11.0</td>\n",
       "      <td>97.0</td>\n",
       "      <td>0.670103</td>\n",
       "      <td>0.836735</td>\n",
       "      <td>2.0</td>\n",
       "      <td>0.0</td>\n",
       "      <td>0.0</td>\n",
       "      <td>0.0</td>\n",
       "      <td>4.855670</td>\n",
       "      <td>...</td>\n",
       "      <td>0.400000</td>\n",
       "      <td>0.800000</td>\n",
       "      <td>-0.125000</td>\n",
       "      <td>-0.125000</td>\n",
       "      <td>-0.125000</td>\n",
       "      <td>0.125000</td>\n",
       "      <td>0.000000</td>\n",
       "      <td>0.375000</td>\n",
       "      <td>0.000000</td>\n",
       "      <td>3600</td>\n",
       "    </tr>\n",
       "    <tr>\n",
       "      <th>9</th>\n",
       "      <td>731.0</td>\n",
       "      <td>10.0</td>\n",
       "      <td>231.0</td>\n",
       "      <td>0.636364</td>\n",
       "      <td>0.797101</td>\n",
       "      <td>4.0</td>\n",
       "      <td>1.0</td>\n",
       "      <td>1.0</td>\n",
       "      <td>1.0</td>\n",
       "      <td>5.090909</td>\n",
       "      <td>...</td>\n",
       "      <td>0.100000</td>\n",
       "      <td>0.500000</td>\n",
       "      <td>-0.238095</td>\n",
       "      <td>-0.500000</td>\n",
       "      <td>-0.100000</td>\n",
       "      <td>0.000000</td>\n",
       "      <td>0.000000</td>\n",
       "      <td>0.500000</td>\n",
       "      <td>0.000000</td>\n",
       "      <td>710</td>\n",
       "    </tr>\n",
       "    <tr>\n",
       "      <th>10</th>\n",
       "      <td>731.0</td>\n",
       "      <td>9.0</td>\n",
       "      <td>1248.0</td>\n",
       "      <td>0.490050</td>\n",
       "      <td>0.731638</td>\n",
       "      <td>11.0</td>\n",
       "      <td>0.0</td>\n",
       "      <td>1.0</td>\n",
       "      <td>0.0</td>\n",
       "      <td>4.617788</td>\n",
       "      <td>...</td>\n",
       "      <td>0.100000</td>\n",
       "      <td>1.000000</td>\n",
       "      <td>-0.415064</td>\n",
       "      <td>-1.000000</td>\n",
       "      <td>-0.100000</td>\n",
       "      <td>0.000000</td>\n",
       "      <td>0.000000</td>\n",
       "      <td>0.500000</td>\n",
       "      <td>0.000000</td>\n",
       "      <td>2200</td>\n",
       "    </tr>\n",
       "    <tr>\n",
       "      <th>11</th>\n",
       "      <td>731.0</td>\n",
       "      <td>10.0</td>\n",
       "      <td>187.0</td>\n",
       "      <td>0.666667</td>\n",
       "      <td>0.800000</td>\n",
       "      <td>7.0</td>\n",
       "      <td>0.0</td>\n",
       "      <td>1.0</td>\n",
       "      <td>0.0</td>\n",
       "      <td>4.657754</td>\n",
       "      <td>...</td>\n",
       "      <td>0.200000</td>\n",
       "      <td>0.700000</td>\n",
       "      <td>-0.262500</td>\n",
       "      <td>-0.400000</td>\n",
       "      <td>-0.125000</td>\n",
       "      <td>0.000000</td>\n",
       "      <td>0.000000</td>\n",
       "      <td>0.500000</td>\n",
       "      <td>0.000000</td>\n",
       "      <td>1900</td>\n",
       "    </tr>\n",
       "    <tr>\n",
       "      <th>12</th>\n",
       "      <td>731.0</td>\n",
       "      <td>9.0</td>\n",
       "      <td>274.0</td>\n",
       "      <td>0.609195</td>\n",
       "      <td>0.707602</td>\n",
       "      <td>18.0</td>\n",
       "      <td>2.0</td>\n",
       "      <td>11.0</td>\n",
       "      <td>0.0</td>\n",
       "      <td>4.233577</td>\n",
       "      <td>...</td>\n",
       "      <td>0.200000</td>\n",
       "      <td>0.700000</td>\n",
       "      <td>-0.310417</td>\n",
       "      <td>-0.600000</td>\n",
       "      <td>-0.050000</td>\n",
       "      <td>1.000000</td>\n",
       "      <td>-1.000000</td>\n",
       "      <td>0.500000</td>\n",
       "      <td>1.000000</td>\n",
       "      <td>823</td>\n",
       "    </tr>\n",
       "    <tr>\n",
       "      <th>13</th>\n",
       "      <td>731.0</td>\n",
       "      <td>9.0</td>\n",
       "      <td>285.0</td>\n",
       "      <td>0.744186</td>\n",
       "      <td>0.841530</td>\n",
       "      <td>4.0</td>\n",
       "      <td>2.0</td>\n",
       "      <td>0.0</td>\n",
       "      <td>21.0</td>\n",
       "      <td>4.343860</td>\n",
       "      <td>...</td>\n",
       "      <td>0.160000</td>\n",
       "      <td>1.000000</td>\n",
       "      <td>-0.337889</td>\n",
       "      <td>-0.700000</td>\n",
       "      <td>-0.100000</td>\n",
       "      <td>1.000000</td>\n",
       "      <td>-1.000000</td>\n",
       "      <td>0.500000</td>\n",
       "      <td>1.000000</td>\n",
       "      <td>10000</td>\n",
       "    </tr>\n",
       "    <tr>\n",
       "      <th>14</th>\n",
       "      <td>731.0</td>\n",
       "      <td>8.0</td>\n",
       "      <td>259.0</td>\n",
       "      <td>0.562753</td>\n",
       "      <td>0.644444</td>\n",
       "      <td>19.0</td>\n",
       "      <td>3.0</td>\n",
       "      <td>9.0</td>\n",
       "      <td>0.0</td>\n",
       "      <td>5.023166</td>\n",
       "      <td>...</td>\n",
       "      <td>0.136364</td>\n",
       "      <td>0.500000</td>\n",
       "      <td>-0.138690</td>\n",
       "      <td>-0.187500</td>\n",
       "      <td>-0.050000</td>\n",
       "      <td>0.750000</td>\n",
       "      <td>0.550000</td>\n",
       "      <td>0.250000</td>\n",
       "      <td>0.550000</td>\n",
       "      <td>761</td>\n",
       "    </tr>\n",
       "    <tr>\n",
       "      <th>15</th>\n",
       "      <td>731.0</td>\n",
       "      <td>12.0</td>\n",
       "      <td>682.0</td>\n",
       "      <td>0.459542</td>\n",
       "      <td>0.634961</td>\n",
       "      <td>10.0</td>\n",
       "      <td>0.0</td>\n",
       "      <td>1.0</td>\n",
       "      <td>0.0</td>\n",
       "      <td>4.620235</td>\n",
       "      <td>...</td>\n",
       "      <td>0.050000</td>\n",
       "      <td>0.600000</td>\n",
       "      <td>-0.220150</td>\n",
       "      <td>-0.600000</td>\n",
       "      <td>-0.050000</td>\n",
       "      <td>0.750000</td>\n",
       "      <td>-0.250000</td>\n",
       "      <td>0.250000</td>\n",
       "      <td>0.250000</td>\n",
       "      <td>1600</td>\n",
       "    </tr>\n",
       "    <tr>\n",
       "      <th>16</th>\n",
       "      <td>731.0</td>\n",
       "      <td>8.0</td>\n",
       "      <td>1118.0</td>\n",
       "      <td>0.512397</td>\n",
       "      <td>0.709770</td>\n",
       "      <td>26.0</td>\n",
       "      <td>18.0</td>\n",
       "      <td>12.0</td>\n",
       "      <td>1.0</td>\n",
       "      <td>4.703936</td>\n",
       "      <td>...</td>\n",
       "      <td>0.100000</td>\n",
       "      <td>1.000000</td>\n",
       "      <td>-0.401437</td>\n",
       "      <td>-1.000000</td>\n",
       "      <td>-0.050000</td>\n",
       "      <td>0.566667</td>\n",
       "      <td>-0.100000</td>\n",
       "      <td>0.066667</td>\n",
       "      <td>0.100000</td>\n",
       "      <td>13600</td>\n",
       "    </tr>\n",
       "    <tr>\n",
       "      <th>17</th>\n",
       "      <td>731.0</td>\n",
       "      <td>8.0</td>\n",
       "      <td>397.0</td>\n",
       "      <td>0.624679</td>\n",
       "      <td>0.805668</td>\n",
       "      <td>11.0</td>\n",
       "      <td>0.0</td>\n",
       "      <td>1.0</td>\n",
       "      <td>0.0</td>\n",
       "      <td>5.445844</td>\n",
       "      <td>...</td>\n",
       "      <td>0.033333</td>\n",
       "      <td>1.000000</td>\n",
       "      <td>-0.144643</td>\n",
       "      <td>-0.200000</td>\n",
       "      <td>-0.100000</td>\n",
       "      <td>0.000000</td>\n",
       "      <td>0.000000</td>\n",
       "      <td>0.500000</td>\n",
       "      <td>0.000000</td>\n",
       "      <td>3100</td>\n",
       "    </tr>\n",
       "    <tr>\n",
       "      <th>18</th>\n",
       "      <td>731.0</td>\n",
       "      <td>11.0</td>\n",
       "      <td>103.0</td>\n",
       "      <td>0.689320</td>\n",
       "      <td>0.806452</td>\n",
       "      <td>3.0</td>\n",
       "      <td>1.0</td>\n",
       "      <td>1.0</td>\n",
       "      <td>0.0</td>\n",
       "      <td>4.844660</td>\n",
       "      <td>...</td>\n",
       "      <td>0.033333</td>\n",
       "      <td>0.500000</td>\n",
       "      <td>-0.125000</td>\n",
       "      <td>-0.125000</td>\n",
       "      <td>-0.125000</td>\n",
       "      <td>0.857143</td>\n",
       "      <td>-0.714286</td>\n",
       "      <td>0.357143</td>\n",
       "      <td>0.714286</td>\n",
       "      <td>5700</td>\n",
       "    </tr>\n",
       "    <tr>\n",
       "      <th>19</th>\n",
       "      <td>731.0</td>\n",
       "      <td>8.0</td>\n",
       "      <td>1207.0</td>\n",
       "      <td>0.410579</td>\n",
       "      <td>0.548969</td>\n",
       "      <td>24.0</td>\n",
       "      <td>24.0</td>\n",
       "      <td>42.0</td>\n",
       "      <td>0.0</td>\n",
       "      <td>4.716653</td>\n",
       "      <td>...</td>\n",
       "      <td>0.100000</td>\n",
       "      <td>1.000000</td>\n",
       "      <td>-0.226786</td>\n",
       "      <td>-0.500000</td>\n",
       "      <td>-0.050000</td>\n",
       "      <td>0.500000</td>\n",
       "      <td>0.000000</td>\n",
       "      <td>0.000000</td>\n",
       "      <td>0.000000</td>\n",
       "      <td>17100</td>\n",
       "    </tr>\n",
       "    <tr>\n",
       "      <th>20</th>\n",
       "      <td>731.0</td>\n",
       "      <td>13.0</td>\n",
       "      <td>1248.0</td>\n",
       "      <td>0.390638</td>\n",
       "      <td>0.523388</td>\n",
       "      <td>21.0</td>\n",
       "      <td>19.0</td>\n",
       "      <td>20.0</td>\n",
       "      <td>0.0</td>\n",
       "      <td>4.686699</td>\n",
       "      <td>...</td>\n",
       "      <td>0.100000</td>\n",
       "      <td>1.000000</td>\n",
       "      <td>-0.206548</td>\n",
       "      <td>-0.500000</td>\n",
       "      <td>-0.050000</td>\n",
       "      <td>0.000000</td>\n",
       "      <td>0.000000</td>\n",
       "      <td>0.500000</td>\n",
       "      <td>0.000000</td>\n",
       "      <td>2800</td>\n",
       "    </tr>\n",
       "    <tr>\n",
       "      <th>21</th>\n",
       "      <td>731.0</td>\n",
       "      <td>9.0</td>\n",
       "      <td>391.0</td>\n",
       "      <td>0.510256</td>\n",
       "      <td>0.650000</td>\n",
       "      <td>9.0</td>\n",
       "      <td>2.0</td>\n",
       "      <td>1.0</td>\n",
       "      <td>1.0</td>\n",
       "      <td>5.296675</td>\n",
       "      <td>...</td>\n",
       "      <td>0.050000</td>\n",
       "      <td>0.350000</td>\n",
       "      <td>-0.108333</td>\n",
       "      <td>-0.166667</td>\n",
       "      <td>-0.050000</td>\n",
       "      <td>0.000000</td>\n",
       "      <td>0.000000</td>\n",
       "      <td>0.500000</td>\n",
       "      <td>0.000000</td>\n",
       "      <td>598</td>\n",
       "    </tr>\n",
       "    <tr>\n",
       "      <th>22</th>\n",
       "      <td>731.0</td>\n",
       "      <td>11.0</td>\n",
       "      <td>1154.0</td>\n",
       "      <td>0.427305</td>\n",
       "      <td>0.572816</td>\n",
       "      <td>20.0</td>\n",
       "      <td>20.0</td>\n",
       "      <td>20.0</td>\n",
       "      <td>0.0</td>\n",
       "      <td>4.629983</td>\n",
       "      <td>...</td>\n",
       "      <td>0.100000</td>\n",
       "      <td>1.000000</td>\n",
       "      <td>-0.230263</td>\n",
       "      <td>-0.500000</td>\n",
       "      <td>-0.050000</td>\n",
       "      <td>0.000000</td>\n",
       "      <td>0.000000</td>\n",
       "      <td>0.500000</td>\n",
       "      <td>0.000000</td>\n",
       "      <td>445</td>\n",
       "    </tr>\n",
       "    <tr>\n",
       "      <th>23</th>\n",
       "      <td>731.0</td>\n",
       "      <td>11.0</td>\n",
       "      <td>125.0</td>\n",
       "      <td>0.674797</td>\n",
       "      <td>0.797468</td>\n",
       "      <td>1.0</td>\n",
       "      <td>1.0</td>\n",
       "      <td>1.0</td>\n",
       "      <td>0.0</td>\n",
       "      <td>4.824000</td>\n",
       "      <td>...</td>\n",
       "      <td>0.100000</td>\n",
       "      <td>0.600000</td>\n",
       "      <td>0.000000</td>\n",
       "      <td>0.000000</td>\n",
       "      <td>0.000000</td>\n",
       "      <td>0.450000</td>\n",
       "      <td>0.400000</td>\n",
       "      <td>0.050000</td>\n",
       "      <td>0.400000</td>\n",
       "      <td>1500</td>\n",
       "    </tr>\n",
       "    <tr>\n",
       "      <th>24</th>\n",
       "      <td>731.0</td>\n",
       "      <td>13.0</td>\n",
       "      <td>244.0</td>\n",
       "      <td>0.560000</td>\n",
       "      <td>0.680272</td>\n",
       "      <td>3.0</td>\n",
       "      <td>2.0</td>\n",
       "      <td>1.0</td>\n",
       "      <td>0.0</td>\n",
       "      <td>4.422131</td>\n",
       "      <td>...</td>\n",
       "      <td>0.136364</td>\n",
       "      <td>0.433333</td>\n",
       "      <td>-0.456481</td>\n",
       "      <td>-1.000000</td>\n",
       "      <td>-0.125000</td>\n",
       "      <td>0.700000</td>\n",
       "      <td>-0.400000</td>\n",
       "      <td>0.200000</td>\n",
       "      <td>0.400000</td>\n",
       "      <td>852</td>\n",
       "    </tr>\n",
       "    <tr>\n",
       "      <th>25</th>\n",
       "      <td>731.0</td>\n",
       "      <td>8.0</td>\n",
       "      <td>266.0</td>\n",
       "      <td>0.572581</td>\n",
       "      <td>0.721088</td>\n",
       "      <td>5.0</td>\n",
       "      <td>2.0</td>\n",
       "      <td>1.0</td>\n",
       "      <td>0.0</td>\n",
       "      <td>4.259398</td>\n",
       "      <td>...</td>\n",
       "      <td>0.250000</td>\n",
       "      <td>0.350000</td>\n",
       "      <td>-0.116667</td>\n",
       "      <td>-0.200000</td>\n",
       "      <td>-0.050000</td>\n",
       "      <td>0.900000</td>\n",
       "      <td>0.400000</td>\n",
       "      <td>0.400000</td>\n",
       "      <td>0.400000</td>\n",
       "      <td>783</td>\n",
       "    </tr>\n",
       "    <tr>\n",
       "      <th>26</th>\n",
       "      <td>731.0</td>\n",
       "      <td>8.0</td>\n",
       "      <td>331.0</td>\n",
       "      <td>0.562691</td>\n",
       "      <td>0.724490</td>\n",
       "      <td>5.0</td>\n",
       "      <td>3.0</td>\n",
       "      <td>1.0</td>\n",
       "      <td>0.0</td>\n",
       "      <td>4.782477</td>\n",
       "      <td>...</td>\n",
       "      <td>0.100000</td>\n",
       "      <td>1.000000</td>\n",
       "      <td>-0.263889</td>\n",
       "      <td>-0.500000</td>\n",
       "      <td>-0.125000</td>\n",
       "      <td>0.000000</td>\n",
       "      <td>0.000000</td>\n",
       "      <td>0.500000</td>\n",
       "      <td>0.000000</td>\n",
       "      <td>1500</td>\n",
       "    </tr>\n",
       "    <tr>\n",
       "      <th>27</th>\n",
       "      <td>731.0</td>\n",
       "      <td>12.0</td>\n",
       "      <td>1225.0</td>\n",
       "      <td>0.385452</td>\n",
       "      <td>0.508519</td>\n",
       "      <td>22.0</td>\n",
       "      <td>22.0</td>\n",
       "      <td>28.0</td>\n",
       "      <td>0.0</td>\n",
       "      <td>4.635918</td>\n",
       "      <td>...</td>\n",
       "      <td>0.050000</td>\n",
       "      <td>1.000000</td>\n",
       "      <td>-0.202292</td>\n",
       "      <td>-0.500000</td>\n",
       "      <td>-0.050000</td>\n",
       "      <td>0.500000</td>\n",
       "      <td>0.500000</td>\n",
       "      <td>0.000000</td>\n",
       "      <td>0.500000</td>\n",
       "      <td>1800</td>\n",
       "    </tr>\n",
       "    <tr>\n",
       "      <th>28</th>\n",
       "      <td>731.0</td>\n",
       "      <td>10.0</td>\n",
       "      <td>243.0</td>\n",
       "      <td>0.619247</td>\n",
       "      <td>0.824427</td>\n",
       "      <td>1.0</td>\n",
       "      <td>1.0</td>\n",
       "      <td>0.0</td>\n",
       "      <td>0.0</td>\n",
       "      <td>4.382716</td>\n",
       "      <td>...</td>\n",
       "      <td>0.136364</td>\n",
       "      <td>0.600000</td>\n",
       "      <td>-0.177500</td>\n",
       "      <td>-0.312500</td>\n",
       "      <td>-0.125000</td>\n",
       "      <td>0.000000</td>\n",
       "      <td>0.000000</td>\n",
       "      <td>0.500000</td>\n",
       "      <td>0.000000</td>\n",
       "      <td>462</td>\n",
       "    </tr>\n",
       "    <tr>\n",
       "      <th>29</th>\n",
       "      <td>731.0</td>\n",
       "      <td>11.0</td>\n",
       "      <td>723.0</td>\n",
       "      <td>0.490934</td>\n",
       "      <td>0.642241</td>\n",
       "      <td>18.0</td>\n",
       "      <td>1.0</td>\n",
       "      <td>1.0</td>\n",
       "      <td>0.0</td>\n",
       "      <td>5.228216</td>\n",
       "      <td>...</td>\n",
       "      <td>0.033333</td>\n",
       "      <td>1.000000</td>\n",
       "      <td>-0.213889</td>\n",
       "      <td>-0.600000</td>\n",
       "      <td>-0.100000</td>\n",
       "      <td>0.500000</td>\n",
       "      <td>0.500000</td>\n",
       "      <td>0.000000</td>\n",
       "      <td>0.500000</td>\n",
       "      <td>425</td>\n",
       "    </tr>\n",
       "    <tr>\n",
       "      <th>...</th>\n",
       "      <td>...</td>\n",
       "      <td>...</td>\n",
       "      <td>...</td>\n",
       "      <td>...</td>\n",
       "      <td>...</td>\n",
       "      <td>...</td>\n",
       "      <td>...</td>\n",
       "      <td>...</td>\n",
       "      <td>...</td>\n",
       "      <td>...</td>\n",
       "      <td>...</td>\n",
       "      <td>...</td>\n",
       "      <td>...</td>\n",
       "      <td>...</td>\n",
       "      <td>...</td>\n",
       "      <td>...</td>\n",
       "      <td>...</td>\n",
       "      <td>...</td>\n",
       "      <td>...</td>\n",
       "      <td>...</td>\n",
       "      <td>...</td>\n",
       "    </tr>\n",
       "    <tr>\n",
       "      <th>39614</th>\n",
       "      <td>9.0</td>\n",
       "      <td>9.0</td>\n",
       "      <td>904.0</td>\n",
       "      <td>0.472158</td>\n",
       "      <td>0.606822</td>\n",
       "      <td>27.0</td>\n",
       "      <td>2.0</td>\n",
       "      <td>2.0</td>\n",
       "      <td>0.0</td>\n",
       "      <td>4.884956</td>\n",
       "      <td>...</td>\n",
       "      <td>0.100000</td>\n",
       "      <td>0.600000</td>\n",
       "      <td>-0.225694</td>\n",
       "      <td>-0.500000</td>\n",
       "      <td>-0.050000</td>\n",
       "      <td>0.000000</td>\n",
       "      <td>0.000000</td>\n",
       "      <td>0.500000</td>\n",
       "      <td>0.000000</td>\n",
       "      <td>1400</td>\n",
       "    </tr>\n",
       "    <tr>\n",
       "      <th>39615</th>\n",
       "      <td>9.0</td>\n",
       "      <td>11.0</td>\n",
       "      <td>0.0</td>\n",
       "      <td>0.000000</td>\n",
       "      <td>0.000000</td>\n",
       "      <td>0.0</td>\n",
       "      <td>0.0</td>\n",
       "      <td>21.0</td>\n",
       "      <td>1.0</td>\n",
       "      <td>0.000000</td>\n",
       "      <td>...</td>\n",
       "      <td>0.000000</td>\n",
       "      <td>0.000000</td>\n",
       "      <td>0.000000</td>\n",
       "      <td>0.000000</td>\n",
       "      <td>0.000000</td>\n",
       "      <td>0.454545</td>\n",
       "      <td>0.136364</td>\n",
       "      <td>0.045455</td>\n",
       "      <td>0.136364</td>\n",
       "      <td>5700</td>\n",
       "    </tr>\n",
       "    <tr>\n",
       "      <th>39616</th>\n",
       "      <td>9.0</td>\n",
       "      <td>15.0</td>\n",
       "      <td>0.0</td>\n",
       "      <td>0.000000</td>\n",
       "      <td>0.000000</td>\n",
       "      <td>0.0</td>\n",
       "      <td>0.0</td>\n",
       "      <td>0.0</td>\n",
       "      <td>1.0</td>\n",
       "      <td>0.000000</td>\n",
       "      <td>...</td>\n",
       "      <td>0.000000</td>\n",
       "      <td>0.000000</td>\n",
       "      <td>0.000000</td>\n",
       "      <td>0.000000</td>\n",
       "      <td>0.000000</td>\n",
       "      <td>0.454545</td>\n",
       "      <td>0.136364</td>\n",
       "      <td>0.045455</td>\n",
       "      <td>0.136364</td>\n",
       "      <td>2100</td>\n",
       "    </tr>\n",
       "    <tr>\n",
       "      <th>39617</th>\n",
       "      <td>9.0</td>\n",
       "      <td>11.0</td>\n",
       "      <td>991.0</td>\n",
       "      <td>0.459173</td>\n",
       "      <td>0.618487</td>\n",
       "      <td>40.0</td>\n",
       "      <td>3.0</td>\n",
       "      <td>4.0</td>\n",
       "      <td>0.0</td>\n",
       "      <td>4.314834</td>\n",
       "      <td>...</td>\n",
       "      <td>0.050000</td>\n",
       "      <td>1.000000</td>\n",
       "      <td>-0.188889</td>\n",
       "      <td>-0.500000</td>\n",
       "      <td>-0.050000</td>\n",
       "      <td>0.454545</td>\n",
       "      <td>0.136364</td>\n",
       "      <td>0.045455</td>\n",
       "      <td>0.136364</td>\n",
       "      <td>691</td>\n",
       "    </tr>\n",
       "    <tr>\n",
       "      <th>39618</th>\n",
       "      <td>9.0</td>\n",
       "      <td>14.0</td>\n",
       "      <td>488.0</td>\n",
       "      <td>0.517454</td>\n",
       "      <td>0.683502</td>\n",
       "      <td>14.0</td>\n",
       "      <td>9.0</td>\n",
       "      <td>1.0</td>\n",
       "      <td>0.0</td>\n",
       "      <td>5.153689</td>\n",
       "      <td>...</td>\n",
       "      <td>0.100000</td>\n",
       "      <td>0.800000</td>\n",
       "      <td>-0.170833</td>\n",
       "      <td>-0.250000</td>\n",
       "      <td>-0.125000</td>\n",
       "      <td>0.125000</td>\n",
       "      <td>-0.125000</td>\n",
       "      <td>0.375000</td>\n",
       "      <td>0.125000</td>\n",
       "      <td>1400</td>\n",
       "    </tr>\n",
       "    <tr>\n",
       "      <th>39619</th>\n",
       "      <td>9.0</td>\n",
       "      <td>14.0</td>\n",
       "      <td>428.0</td>\n",
       "      <td>0.512881</td>\n",
       "      <td>0.698745</td>\n",
       "      <td>2.0</td>\n",
       "      <td>1.0</td>\n",
       "      <td>1.0</td>\n",
       "      <td>0.0</td>\n",
       "      <td>4.478972</td>\n",
       "      <td>...</td>\n",
       "      <td>0.100000</td>\n",
       "      <td>0.700000</td>\n",
       "      <td>-0.271429</td>\n",
       "      <td>-0.700000</td>\n",
       "      <td>-0.100000</td>\n",
       "      <td>0.000000</td>\n",
       "      <td>0.000000</td>\n",
       "      <td>0.500000</td>\n",
       "      <td>0.000000</td>\n",
       "      <td>1200</td>\n",
       "    </tr>\n",
       "    <tr>\n",
       "      <th>39620</th>\n",
       "      <td>9.0</td>\n",
       "      <td>13.0</td>\n",
       "      <td>413.0</td>\n",
       "      <td>0.556675</td>\n",
       "      <td>0.692913</td>\n",
       "      <td>11.0</td>\n",
       "      <td>2.0</td>\n",
       "      <td>1.0</td>\n",
       "      <td>0.0</td>\n",
       "      <td>4.992736</td>\n",
       "      <td>...</td>\n",
       "      <td>0.100000</td>\n",
       "      <td>0.500000</td>\n",
       "      <td>-0.525000</td>\n",
       "      <td>-0.750000</td>\n",
       "      <td>-0.300000</td>\n",
       "      <td>0.650000</td>\n",
       "      <td>0.000000</td>\n",
       "      <td>0.150000</td>\n",
       "      <td>0.000000</td>\n",
       "      <td>2400</td>\n",
       "    </tr>\n",
       "    <tr>\n",
       "      <th>39621</th>\n",
       "      <td>9.0</td>\n",
       "      <td>9.0</td>\n",
       "      <td>468.0</td>\n",
       "      <td>0.582781</td>\n",
       "      <td>0.691318</td>\n",
       "      <td>17.0</td>\n",
       "      <td>1.0</td>\n",
       "      <td>1.0</td>\n",
       "      <td>0.0</td>\n",
       "      <td>4.854701</td>\n",
       "      <td>...</td>\n",
       "      <td>0.100000</td>\n",
       "      <td>0.500000</td>\n",
       "      <td>-0.282500</td>\n",
       "      <td>-0.700000</td>\n",
       "      <td>-0.100000</td>\n",
       "      <td>0.000000</td>\n",
       "      <td>0.000000</td>\n",
       "      <td>0.500000</td>\n",
       "      <td>0.000000</td>\n",
       "      <td>24300</td>\n",
       "    </tr>\n",
       "    <tr>\n",
       "      <th>39622</th>\n",
       "      <td>9.0</td>\n",
       "      <td>11.0</td>\n",
       "      <td>1122.0</td>\n",
       "      <td>0.439421</td>\n",
       "      <td>0.635258</td>\n",
       "      <td>4.0</td>\n",
       "      <td>1.0</td>\n",
       "      <td>6.0</td>\n",
       "      <td>0.0</td>\n",
       "      <td>4.866310</td>\n",
       "      <td>...</td>\n",
       "      <td>0.100000</td>\n",
       "      <td>1.000000</td>\n",
       "      <td>-0.262500</td>\n",
       "      <td>-1.000000</td>\n",
       "      <td>-0.100000</td>\n",
       "      <td>0.300000</td>\n",
       "      <td>0.166667</td>\n",
       "      <td>0.200000</td>\n",
       "      <td>0.166667</td>\n",
       "      <td>2900</td>\n",
       "    </tr>\n",
       "    <tr>\n",
       "      <th>39623</th>\n",
       "      <td>9.0</td>\n",
       "      <td>14.0</td>\n",
       "      <td>436.0</td>\n",
       "      <td>0.529412</td>\n",
       "      <td>0.701681</td>\n",
       "      <td>6.0</td>\n",
       "      <td>6.0</td>\n",
       "      <td>2.0</td>\n",
       "      <td>0.0</td>\n",
       "      <td>4.146789</td>\n",
       "      <td>...</td>\n",
       "      <td>0.100000</td>\n",
       "      <td>0.700000</td>\n",
       "      <td>-0.255208</td>\n",
       "      <td>-0.500000</td>\n",
       "      <td>-0.100000</td>\n",
       "      <td>0.850000</td>\n",
       "      <td>-0.400000</td>\n",
       "      <td>0.350000</td>\n",
       "      <td>0.400000</td>\n",
       "      <td>947</td>\n",
       "    </tr>\n",
       "    <tr>\n",
       "      <th>39624</th>\n",
       "      <td>9.0</td>\n",
       "      <td>12.0</td>\n",
       "      <td>429.0</td>\n",
       "      <td>0.514925</td>\n",
       "      <td>0.658436</td>\n",
       "      <td>3.0</td>\n",
       "      <td>3.0</td>\n",
       "      <td>3.0</td>\n",
       "      <td>0.0</td>\n",
       "      <td>4.263403</td>\n",
       "      <td>...</td>\n",
       "      <td>0.166667</td>\n",
       "      <td>0.750000</td>\n",
       "      <td>-0.179847</td>\n",
       "      <td>-0.312500</td>\n",
       "      <td>-0.025000</td>\n",
       "      <td>0.000000</td>\n",
       "      <td>0.000000</td>\n",
       "      <td>0.500000</td>\n",
       "      <td>0.000000</td>\n",
       "      <td>3200</td>\n",
       "    </tr>\n",
       "    <tr>\n",
       "      <th>39625</th>\n",
       "      <td>9.0</td>\n",
       "      <td>13.0</td>\n",
       "      <td>224.0</td>\n",
       "      <td>0.570136</td>\n",
       "      <td>0.731343</td>\n",
       "      <td>7.0</td>\n",
       "      <td>7.0</td>\n",
       "      <td>1.0</td>\n",
       "      <td>1.0</td>\n",
       "      <td>4.589286</td>\n",
       "      <td>...</td>\n",
       "      <td>0.100000</td>\n",
       "      <td>0.500000</td>\n",
       "      <td>-0.071429</td>\n",
       "      <td>-0.071429</td>\n",
       "      <td>-0.071429</td>\n",
       "      <td>0.800000</td>\n",
       "      <td>0.400000</td>\n",
       "      <td>0.300000</td>\n",
       "      <td>0.400000</td>\n",
       "      <td>1400</td>\n",
       "    </tr>\n",
       "    <tr>\n",
       "      <th>39626</th>\n",
       "      <td>9.0</td>\n",
       "      <td>12.0</td>\n",
       "      <td>249.0</td>\n",
       "      <td>0.567227</td>\n",
       "      <td>0.748201</td>\n",
       "      <td>4.0</td>\n",
       "      <td>2.0</td>\n",
       "      <td>1.0</td>\n",
       "      <td>1.0</td>\n",
       "      <td>4.313253</td>\n",
       "      <td>...</td>\n",
       "      <td>0.136364</td>\n",
       "      <td>1.000000</td>\n",
       "      <td>-0.145833</td>\n",
       "      <td>-0.166667</td>\n",
       "      <td>-0.125000</td>\n",
       "      <td>0.000000</td>\n",
       "      <td>0.000000</td>\n",
       "      <td>0.500000</td>\n",
       "      <td>0.000000</td>\n",
       "      <td>1100</td>\n",
       "    </tr>\n",
       "    <tr>\n",
       "      <th>39627</th>\n",
       "      <td>9.0</td>\n",
       "      <td>14.0</td>\n",
       "      <td>874.0</td>\n",
       "      <td>0.480702</td>\n",
       "      <td>0.711538</td>\n",
       "      <td>13.0</td>\n",
       "      <td>1.0</td>\n",
       "      <td>1.0</td>\n",
       "      <td>0.0</td>\n",
       "      <td>4.633867</td>\n",
       "      <td>...</td>\n",
       "      <td>0.100000</td>\n",
       "      <td>0.600000</td>\n",
       "      <td>-0.325000</td>\n",
       "      <td>-0.600000</td>\n",
       "      <td>-0.125000</td>\n",
       "      <td>0.577273</td>\n",
       "      <td>-0.131818</td>\n",
       "      <td>0.077273</td>\n",
       "      <td>0.131818</td>\n",
       "      <td>1200</td>\n",
       "    </tr>\n",
       "    <tr>\n",
       "      <th>39628</th>\n",
       "      <td>9.0</td>\n",
       "      <td>14.0</td>\n",
       "      <td>626.0</td>\n",
       "      <td>0.552504</td>\n",
       "      <td>0.759791</td>\n",
       "      <td>4.0</td>\n",
       "      <td>2.0</td>\n",
       "      <td>1.0</td>\n",
       "      <td>0.0</td>\n",
       "      <td>5.078275</td>\n",
       "      <td>...</td>\n",
       "      <td>0.033333</td>\n",
       "      <td>0.800000</td>\n",
       "      <td>-0.558333</td>\n",
       "      <td>-1.000000</td>\n",
       "      <td>-0.100000</td>\n",
       "      <td>0.000000</td>\n",
       "      <td>0.000000</td>\n",
       "      <td>0.500000</td>\n",
       "      <td>0.000000</td>\n",
       "      <td>1000</td>\n",
       "    </tr>\n",
       "    <tr>\n",
       "      <th>39629</th>\n",
       "      <td>9.0</td>\n",
       "      <td>13.0</td>\n",
       "      <td>209.0</td>\n",
       "      <td>0.656863</td>\n",
       "      <td>0.722628</td>\n",
       "      <td>4.0</td>\n",
       "      <td>1.0</td>\n",
       "      <td>0.0</td>\n",
       "      <td>2.0</td>\n",
       "      <td>4.856459</td>\n",
       "      <td>...</td>\n",
       "      <td>0.200000</td>\n",
       "      <td>0.850000</td>\n",
       "      <td>-0.366667</td>\n",
       "      <td>-0.500000</td>\n",
       "      <td>-0.100000</td>\n",
       "      <td>1.000000</td>\n",
       "      <td>-0.500000</td>\n",
       "      <td>0.500000</td>\n",
       "      <td>0.500000</td>\n",
       "      <td>2400</td>\n",
       "    </tr>\n",
       "    <tr>\n",
       "      <th>39630</th>\n",
       "      <td>9.0</td>\n",
       "      <td>12.0</td>\n",
       "      <td>491.0</td>\n",
       "      <td>0.454167</td>\n",
       "      <td>0.609665</td>\n",
       "      <td>2.0</td>\n",
       "      <td>2.0</td>\n",
       "      <td>2.0</td>\n",
       "      <td>1.0</td>\n",
       "      <td>4.054990</td>\n",
       "      <td>...</td>\n",
       "      <td>0.062500</td>\n",
       "      <td>0.900000</td>\n",
       "      <td>-0.164881</td>\n",
       "      <td>-0.333333</td>\n",
       "      <td>-0.050000</td>\n",
       "      <td>0.477273</td>\n",
       "      <td>0.168182</td>\n",
       "      <td>0.022727</td>\n",
       "      <td>0.168182</td>\n",
       "      <td>1500</td>\n",
       "    </tr>\n",
       "    <tr>\n",
       "      <th>39631</th>\n",
       "      <td>9.0</td>\n",
       "      <td>13.0</td>\n",
       "      <td>746.0</td>\n",
       "      <td>0.465306</td>\n",
       "      <td>0.735849</td>\n",
       "      <td>4.0</td>\n",
       "      <td>1.0</td>\n",
       "      <td>1.0</td>\n",
       "      <td>0.0</td>\n",
       "      <td>4.382038</td>\n",
       "      <td>...</td>\n",
       "      <td>0.100000</td>\n",
       "      <td>0.850000</td>\n",
       "      <td>-0.375000</td>\n",
       "      <td>-1.000000</td>\n",
       "      <td>-0.050000</td>\n",
       "      <td>1.000000</td>\n",
       "      <td>-1.000000</td>\n",
       "      <td>0.500000</td>\n",
       "      <td>1.000000</td>\n",
       "      <td>914</td>\n",
       "    </tr>\n",
       "    <tr>\n",
       "      <th>39632</th>\n",
       "      <td>9.0</td>\n",
       "      <td>15.0</td>\n",
       "      <td>580.0</td>\n",
       "      <td>0.506261</td>\n",
       "      <td>0.661891</td>\n",
       "      <td>15.0</td>\n",
       "      <td>2.0</td>\n",
       "      <td>3.0</td>\n",
       "      <td>0.0</td>\n",
       "      <td>5.005172</td>\n",
       "      <td>...</td>\n",
       "      <td>0.100000</td>\n",
       "      <td>0.800000</td>\n",
       "      <td>-0.115000</td>\n",
       "      <td>-0.125000</td>\n",
       "      <td>-0.100000</td>\n",
       "      <td>0.500000</td>\n",
       "      <td>0.500000</td>\n",
       "      <td>0.000000</td>\n",
       "      <td>0.500000</td>\n",
       "      <td>1700</td>\n",
       "    </tr>\n",
       "    <tr>\n",
       "      <th>39633</th>\n",
       "      <td>9.0</td>\n",
       "      <td>9.0</td>\n",
       "      <td>614.0</td>\n",
       "      <td>0.476033</td>\n",
       "      <td>0.614987</td>\n",
       "      <td>10.0</td>\n",
       "      <td>0.0</td>\n",
       "      <td>1.0</td>\n",
       "      <td>0.0</td>\n",
       "      <td>5.094463</td>\n",
       "      <td>...</td>\n",
       "      <td>0.050000</td>\n",
       "      <td>0.800000</td>\n",
       "      <td>-0.181313</td>\n",
       "      <td>-0.300000</td>\n",
       "      <td>-0.050000</td>\n",
       "      <td>0.000000</td>\n",
       "      <td>0.000000</td>\n",
       "      <td>0.500000</td>\n",
       "      <td>0.000000</td>\n",
       "      <td>1500</td>\n",
       "    </tr>\n",
       "    <tr>\n",
       "      <th>39634</th>\n",
       "      <td>9.0</td>\n",
       "      <td>9.0</td>\n",
       "      <td>251.0</td>\n",
       "      <td>0.666667</td>\n",
       "      <td>0.786164</td>\n",
       "      <td>21.0</td>\n",
       "      <td>13.0</td>\n",
       "      <td>9.0</td>\n",
       "      <td>2.0</td>\n",
       "      <td>4.685259</td>\n",
       "      <td>...</td>\n",
       "      <td>0.250000</td>\n",
       "      <td>1.000000</td>\n",
       "      <td>-0.558333</td>\n",
       "      <td>-1.000000</td>\n",
       "      <td>-0.125000</td>\n",
       "      <td>0.000000</td>\n",
       "      <td>0.000000</td>\n",
       "      <td>0.500000</td>\n",
       "      <td>0.000000</td>\n",
       "      <td>1000</td>\n",
       "    </tr>\n",
       "    <tr>\n",
       "      <th>39635</th>\n",
       "      <td>9.0</td>\n",
       "      <td>13.0</td>\n",
       "      <td>478.0</td>\n",
       "      <td>0.514039</td>\n",
       "      <td>0.641844</td>\n",
       "      <td>18.0</td>\n",
       "      <td>2.0</td>\n",
       "      <td>2.0</td>\n",
       "      <td>0.0</td>\n",
       "      <td>4.891213</td>\n",
       "      <td>...</td>\n",
       "      <td>0.033333</td>\n",
       "      <td>1.000000</td>\n",
       "      <td>-0.223611</td>\n",
       "      <td>-0.400000</td>\n",
       "      <td>-0.050000</td>\n",
       "      <td>0.100000</td>\n",
       "      <td>0.000000</td>\n",
       "      <td>0.400000</td>\n",
       "      <td>0.000000</td>\n",
       "      <td>1300</td>\n",
       "    </tr>\n",
       "    <tr>\n",
       "      <th>39636</th>\n",
       "      <td>8.0</td>\n",
       "      <td>8.0</td>\n",
       "      <td>2509.0</td>\n",
       "      <td>0.348878</td>\n",
       "      <td>0.464923</td>\n",
       "      <td>23.0</td>\n",
       "      <td>1.0</td>\n",
       "      <td>10.0</td>\n",
       "      <td>0.0</td>\n",
       "      <td>4.569550</td>\n",
       "      <td>...</td>\n",
       "      <td>0.100000</td>\n",
       "      <td>1.000000</td>\n",
       "      <td>-0.231612</td>\n",
       "      <td>-0.600000</td>\n",
       "      <td>-0.050000</td>\n",
       "      <td>0.000000</td>\n",
       "      <td>0.000000</td>\n",
       "      <td>0.500000</td>\n",
       "      <td>0.000000</td>\n",
       "      <td>1700</td>\n",
       "    </tr>\n",
       "    <tr>\n",
       "      <th>39637</th>\n",
       "      <td>8.0</td>\n",
       "      <td>13.0</td>\n",
       "      <td>1629.0</td>\n",
       "      <td>0.425711</td>\n",
       "      <td>0.606092</td>\n",
       "      <td>15.0</td>\n",
       "      <td>12.0</td>\n",
       "      <td>6.0</td>\n",
       "      <td>0.0</td>\n",
       "      <td>4.552486</td>\n",
       "      <td>...</td>\n",
       "      <td>0.033333</td>\n",
       "      <td>1.000000</td>\n",
       "      <td>-0.429534</td>\n",
       "      <td>-1.000000</td>\n",
       "      <td>-0.050000</td>\n",
       "      <td>0.783333</td>\n",
       "      <td>-0.600000</td>\n",
       "      <td>0.283333</td>\n",
       "      <td>0.600000</td>\n",
       "      <td>1400</td>\n",
       "    </tr>\n",
       "    <tr>\n",
       "      <th>39638</th>\n",
       "      <td>8.0</td>\n",
       "      <td>11.0</td>\n",
       "      <td>223.0</td>\n",
       "      <td>0.653153</td>\n",
       "      <td>0.825758</td>\n",
       "      <td>5.0</td>\n",
       "      <td>3.0</td>\n",
       "      <td>1.0</td>\n",
       "      <td>0.0</td>\n",
       "      <td>4.923767</td>\n",
       "      <td>...</td>\n",
       "      <td>0.214286</td>\n",
       "      <td>0.800000</td>\n",
       "      <td>-0.250000</td>\n",
       "      <td>-0.250000</td>\n",
       "      <td>-0.250000</td>\n",
       "      <td>0.000000</td>\n",
       "      <td>0.000000</td>\n",
       "      <td>0.500000</td>\n",
       "      <td>0.000000</td>\n",
       "      <td>1200</td>\n",
       "    </tr>\n",
       "    <tr>\n",
       "      <th>39639</th>\n",
       "      <td>8.0</td>\n",
       "      <td>11.0</td>\n",
       "      <td>346.0</td>\n",
       "      <td>0.529052</td>\n",
       "      <td>0.684783</td>\n",
       "      <td>9.0</td>\n",
       "      <td>7.0</td>\n",
       "      <td>1.0</td>\n",
       "      <td>1.0</td>\n",
       "      <td>4.523121</td>\n",
       "      <td>...</td>\n",
       "      <td>0.100000</td>\n",
       "      <td>0.750000</td>\n",
       "      <td>-0.260000</td>\n",
       "      <td>-0.500000</td>\n",
       "      <td>-0.125000</td>\n",
       "      <td>0.100000</td>\n",
       "      <td>0.000000</td>\n",
       "      <td>0.400000</td>\n",
       "      <td>0.000000</td>\n",
       "      <td>1800</td>\n",
       "    </tr>\n",
       "    <tr>\n",
       "      <th>39640</th>\n",
       "      <td>8.0</td>\n",
       "      <td>12.0</td>\n",
       "      <td>328.0</td>\n",
       "      <td>0.696296</td>\n",
       "      <td>0.885057</td>\n",
       "      <td>9.0</td>\n",
       "      <td>7.0</td>\n",
       "      <td>3.0</td>\n",
       "      <td>48.0</td>\n",
       "      <td>4.405488</td>\n",
       "      <td>...</td>\n",
       "      <td>0.136364</td>\n",
       "      <td>0.700000</td>\n",
       "      <td>-0.211111</td>\n",
       "      <td>-0.400000</td>\n",
       "      <td>-0.100000</td>\n",
       "      <td>0.300000</td>\n",
       "      <td>1.000000</td>\n",
       "      <td>0.200000</td>\n",
       "      <td>1.000000</td>\n",
       "      <td>1900</td>\n",
       "    </tr>\n",
       "    <tr>\n",
       "      <th>39641</th>\n",
       "      <td>8.0</td>\n",
       "      <td>10.0</td>\n",
       "      <td>442.0</td>\n",
       "      <td>0.516355</td>\n",
       "      <td>0.644128</td>\n",
       "      <td>24.0</td>\n",
       "      <td>1.0</td>\n",
       "      <td>12.0</td>\n",
       "      <td>1.0</td>\n",
       "      <td>5.076923</td>\n",
       "      <td>...</td>\n",
       "      <td>0.136364</td>\n",
       "      <td>0.500000</td>\n",
       "      <td>-0.356439</td>\n",
       "      <td>-0.800000</td>\n",
       "      <td>-0.166667</td>\n",
       "      <td>0.454545</td>\n",
       "      <td>0.136364</td>\n",
       "      <td>0.045455</td>\n",
       "      <td>0.136364</td>\n",
       "      <td>1900</td>\n",
       "    </tr>\n",
       "    <tr>\n",
       "      <th>39642</th>\n",
       "      <td>8.0</td>\n",
       "      <td>6.0</td>\n",
       "      <td>682.0</td>\n",
       "      <td>0.539493</td>\n",
       "      <td>0.692661</td>\n",
       "      <td>10.0</td>\n",
       "      <td>1.0</td>\n",
       "      <td>1.0</td>\n",
       "      <td>0.0</td>\n",
       "      <td>4.975073</td>\n",
       "      <td>...</td>\n",
       "      <td>0.062500</td>\n",
       "      <td>0.500000</td>\n",
       "      <td>-0.205246</td>\n",
       "      <td>-0.500000</td>\n",
       "      <td>-0.012500</td>\n",
       "      <td>0.000000</td>\n",
       "      <td>0.000000</td>\n",
       "      <td>0.500000</td>\n",
       "      <td>0.000000</td>\n",
       "      <td>1100</td>\n",
       "    </tr>\n",
       "    <tr>\n",
       "      <th>39643</th>\n",
       "      <td>8.0</td>\n",
       "      <td>10.0</td>\n",
       "      <td>157.0</td>\n",
       "      <td>0.701987</td>\n",
       "      <td>0.846154</td>\n",
       "      <td>1.0</td>\n",
       "      <td>1.0</td>\n",
       "      <td>0.0</td>\n",
       "      <td>2.0</td>\n",
       "      <td>4.471338</td>\n",
       "      <td>...</td>\n",
       "      <td>0.100000</td>\n",
       "      <td>0.500000</td>\n",
       "      <td>-0.200000</td>\n",
       "      <td>-0.200000</td>\n",
       "      <td>-0.200000</td>\n",
       "      <td>0.333333</td>\n",
       "      <td>0.250000</td>\n",
       "      <td>0.166667</td>\n",
       "      <td>0.250000</td>\n",
       "      <td>1300</td>\n",
       "    </tr>\n",
       "  </tbody>\n",
       "</table>\n",
       "<p>39644 rows × 45 columns</p>\n",
       "</div>"
      ],
      "text/plain": [
       "       timedelta  n_tokens_title  n_tokens_content  n_unique_tokens  \\\n",
       "0          731.0            12.0             219.0         0.663594   \n",
       "1          731.0             9.0             255.0         0.604743   \n",
       "2          731.0             9.0             211.0         0.575130   \n",
       "3          731.0             9.0             531.0         0.503788   \n",
       "4          731.0            13.0            1072.0         0.415646   \n",
       "5          731.0            10.0             370.0         0.559889   \n",
       "6          731.0             8.0             960.0         0.418163   \n",
       "7          731.0            12.0             989.0         0.433574   \n",
       "8          731.0            11.0              97.0         0.670103   \n",
       "9          731.0            10.0             231.0         0.636364   \n",
       "10         731.0             9.0            1248.0         0.490050   \n",
       "11         731.0            10.0             187.0         0.666667   \n",
       "12         731.0             9.0             274.0         0.609195   \n",
       "13         731.0             9.0             285.0         0.744186   \n",
       "14         731.0             8.0             259.0         0.562753   \n",
       "15         731.0            12.0             682.0         0.459542   \n",
       "16         731.0             8.0            1118.0         0.512397   \n",
       "17         731.0             8.0             397.0         0.624679   \n",
       "18         731.0            11.0             103.0         0.689320   \n",
       "19         731.0             8.0            1207.0         0.410579   \n",
       "20         731.0            13.0            1248.0         0.390638   \n",
       "21         731.0             9.0             391.0         0.510256   \n",
       "22         731.0            11.0            1154.0         0.427305   \n",
       "23         731.0            11.0             125.0         0.674797   \n",
       "24         731.0            13.0             244.0         0.560000   \n",
       "25         731.0             8.0             266.0         0.572581   \n",
       "26         731.0             8.0             331.0         0.562691   \n",
       "27         731.0            12.0            1225.0         0.385452   \n",
       "28         731.0            10.0             243.0         0.619247   \n",
       "29         731.0            11.0             723.0         0.490934   \n",
       "...          ...             ...               ...              ...   \n",
       "39614        9.0             9.0             904.0         0.472158   \n",
       "39615        9.0            11.0               0.0         0.000000   \n",
       "39616        9.0            15.0               0.0         0.000000   \n",
       "39617        9.0            11.0             991.0         0.459173   \n",
       "39618        9.0            14.0             488.0         0.517454   \n",
       "39619        9.0            14.0             428.0         0.512881   \n",
       "39620        9.0            13.0             413.0         0.556675   \n",
       "39621        9.0             9.0             468.0         0.582781   \n",
       "39622        9.0            11.0            1122.0         0.439421   \n",
       "39623        9.0            14.0             436.0         0.529412   \n",
       "39624        9.0            12.0             429.0         0.514925   \n",
       "39625        9.0            13.0             224.0         0.570136   \n",
       "39626        9.0            12.0             249.0         0.567227   \n",
       "39627        9.0            14.0             874.0         0.480702   \n",
       "39628        9.0            14.0             626.0         0.552504   \n",
       "39629        9.0            13.0             209.0         0.656863   \n",
       "39630        9.0            12.0             491.0         0.454167   \n",
       "39631        9.0            13.0             746.0         0.465306   \n",
       "39632        9.0            15.0             580.0         0.506261   \n",
       "39633        9.0             9.0             614.0         0.476033   \n",
       "39634        9.0             9.0             251.0         0.666667   \n",
       "39635        9.0            13.0             478.0         0.514039   \n",
       "39636        8.0             8.0            2509.0         0.348878   \n",
       "39637        8.0            13.0            1629.0         0.425711   \n",
       "39638        8.0            11.0             223.0         0.653153   \n",
       "39639        8.0            11.0             346.0         0.529052   \n",
       "39640        8.0            12.0             328.0         0.696296   \n",
       "39641        8.0            10.0             442.0         0.516355   \n",
       "39642        8.0             6.0             682.0         0.539493   \n",
       "39643        8.0            10.0             157.0         0.701987   \n",
       "\n",
       "       n_non_stop_unique_tokens  num_hrefs  num_self_hrefs  num_imgs  \\\n",
       "0                      0.815385        4.0             2.0       1.0   \n",
       "1                      0.791946        3.0             1.0       1.0   \n",
       "2                      0.663866        3.0             1.0       1.0   \n",
       "3                      0.665635        9.0             0.0       1.0   \n",
       "4                      0.540890       19.0            19.0      20.0   \n",
       "5                      0.698198        2.0             2.0       0.0   \n",
       "6                      0.549834       21.0            20.0      20.0   \n",
       "7                      0.572108       20.0            20.0      20.0   \n",
       "8                      0.836735        2.0             0.0       0.0   \n",
       "9                      0.797101        4.0             1.0       1.0   \n",
       "10                     0.731638       11.0             0.0       1.0   \n",
       "11                     0.800000        7.0             0.0       1.0   \n",
       "12                     0.707602       18.0             2.0      11.0   \n",
       "13                     0.841530        4.0             2.0       0.0   \n",
       "14                     0.644444       19.0             3.0       9.0   \n",
       "15                     0.634961       10.0             0.0       1.0   \n",
       "16                     0.709770       26.0            18.0      12.0   \n",
       "17                     0.805668       11.0             0.0       1.0   \n",
       "18                     0.806452        3.0             1.0       1.0   \n",
       "19                     0.548969       24.0            24.0      42.0   \n",
       "20                     0.523388       21.0            19.0      20.0   \n",
       "21                     0.650000        9.0             2.0       1.0   \n",
       "22                     0.572816       20.0            20.0      20.0   \n",
       "23                     0.797468        1.0             1.0       1.0   \n",
       "24                     0.680272        3.0             2.0       1.0   \n",
       "25                     0.721088        5.0             2.0       1.0   \n",
       "26                     0.724490        5.0             3.0       1.0   \n",
       "27                     0.508519       22.0            22.0      28.0   \n",
       "28                     0.824427        1.0             1.0       0.0   \n",
       "29                     0.642241       18.0             1.0       1.0   \n",
       "...                         ...        ...             ...       ...   \n",
       "39614                  0.606822       27.0             2.0       2.0   \n",
       "39615                  0.000000        0.0             0.0      21.0   \n",
       "39616                  0.000000        0.0             0.0       0.0   \n",
       "39617                  0.618487       40.0             3.0       4.0   \n",
       "39618                  0.683502       14.0             9.0       1.0   \n",
       "39619                  0.698745        2.0             1.0       1.0   \n",
       "39620                  0.692913       11.0             2.0       1.0   \n",
       "39621                  0.691318       17.0             1.0       1.0   \n",
       "39622                  0.635258        4.0             1.0       6.0   \n",
       "39623                  0.701681        6.0             6.0       2.0   \n",
       "39624                  0.658436        3.0             3.0       3.0   \n",
       "39625                  0.731343        7.0             7.0       1.0   \n",
       "39626                  0.748201        4.0             2.0       1.0   \n",
       "39627                  0.711538       13.0             1.0       1.0   \n",
       "39628                  0.759791        4.0             2.0       1.0   \n",
       "39629                  0.722628        4.0             1.0       0.0   \n",
       "39630                  0.609665        2.0             2.0       2.0   \n",
       "39631                  0.735849        4.0             1.0       1.0   \n",
       "39632                  0.661891       15.0             2.0       3.0   \n",
       "39633                  0.614987       10.0             0.0       1.0   \n",
       "39634                  0.786164       21.0            13.0       9.0   \n",
       "39635                  0.641844       18.0             2.0       2.0   \n",
       "39636                  0.464923       23.0             1.0      10.0   \n",
       "39637                  0.606092       15.0            12.0       6.0   \n",
       "39638                  0.825758        5.0             3.0       1.0   \n",
       "39639                  0.684783        9.0             7.0       1.0   \n",
       "39640                  0.885057        9.0             7.0       3.0   \n",
       "39641                  0.644128       24.0             1.0      12.0   \n",
       "39642                  0.692661       10.0             1.0       1.0   \n",
       "39643                  0.846154        1.0             1.0       0.0   \n",
       "\n",
       "       num_videos  average_token_length   ...    min_positive_polarity  \\\n",
       "0             0.0              4.680365   ...                 0.100000   \n",
       "1             0.0              4.913725   ...                 0.033333   \n",
       "2             0.0              4.393365   ...                 0.100000   \n",
       "3             0.0              4.404896   ...                 0.136364   \n",
       "4             0.0              4.682836   ...                 0.033333   \n",
       "5             0.0              4.359459   ...                 0.136364   \n",
       "6             0.0              4.654167   ...                 0.100000   \n",
       "7             0.0              4.617796   ...                 0.100000   \n",
       "8             0.0              4.855670   ...                 0.400000   \n",
       "9             1.0              5.090909   ...                 0.100000   \n",
       "10            0.0              4.617788   ...                 0.100000   \n",
       "11            0.0              4.657754   ...                 0.200000   \n",
       "12            0.0              4.233577   ...                 0.200000   \n",
       "13           21.0              4.343860   ...                 0.160000   \n",
       "14            0.0              5.023166   ...                 0.136364   \n",
       "15            0.0              4.620235   ...                 0.050000   \n",
       "16            1.0              4.703936   ...                 0.100000   \n",
       "17            0.0              5.445844   ...                 0.033333   \n",
       "18            0.0              4.844660   ...                 0.033333   \n",
       "19            0.0              4.716653   ...                 0.100000   \n",
       "20            0.0              4.686699   ...                 0.100000   \n",
       "21            1.0              5.296675   ...                 0.050000   \n",
       "22            0.0              4.629983   ...                 0.100000   \n",
       "23            0.0              4.824000   ...                 0.100000   \n",
       "24            0.0              4.422131   ...                 0.136364   \n",
       "25            0.0              4.259398   ...                 0.250000   \n",
       "26            0.0              4.782477   ...                 0.100000   \n",
       "27            0.0              4.635918   ...                 0.050000   \n",
       "28            0.0              4.382716   ...                 0.136364   \n",
       "29            0.0              5.228216   ...                 0.033333   \n",
       "...           ...                   ...   ...                      ...   \n",
       "39614         0.0              4.884956   ...                 0.100000   \n",
       "39615         1.0              0.000000   ...                 0.000000   \n",
       "39616         1.0              0.000000   ...                 0.000000   \n",
       "39617         0.0              4.314834   ...                 0.050000   \n",
       "39618         0.0              5.153689   ...                 0.100000   \n",
       "39619         0.0              4.478972   ...                 0.100000   \n",
       "39620         0.0              4.992736   ...                 0.100000   \n",
       "39621         0.0              4.854701   ...                 0.100000   \n",
       "39622         0.0              4.866310   ...                 0.100000   \n",
       "39623         0.0              4.146789   ...                 0.100000   \n",
       "39624         0.0              4.263403   ...                 0.166667   \n",
       "39625         1.0              4.589286   ...                 0.100000   \n",
       "39626         1.0              4.313253   ...                 0.136364   \n",
       "39627         0.0              4.633867   ...                 0.100000   \n",
       "39628         0.0              5.078275   ...                 0.033333   \n",
       "39629         2.0              4.856459   ...                 0.200000   \n",
       "39630         1.0              4.054990   ...                 0.062500   \n",
       "39631         0.0              4.382038   ...                 0.100000   \n",
       "39632         0.0              5.005172   ...                 0.100000   \n",
       "39633         0.0              5.094463   ...                 0.050000   \n",
       "39634         2.0              4.685259   ...                 0.250000   \n",
       "39635         0.0              4.891213   ...                 0.033333   \n",
       "39636         0.0              4.569550   ...                 0.100000   \n",
       "39637         0.0              4.552486   ...                 0.033333   \n",
       "39638         0.0              4.923767   ...                 0.214286   \n",
       "39639         1.0              4.523121   ...                 0.100000   \n",
       "39640        48.0              4.405488   ...                 0.136364   \n",
       "39641         1.0              5.076923   ...                 0.136364   \n",
       "39642         0.0              4.975073   ...                 0.062500   \n",
       "39643         2.0              4.471338   ...                 0.100000   \n",
       "\n",
       "       max_positive_polarity  avg_negative_polarity  min_negative_polarity  \\\n",
       "0                   0.700000              -0.350000              -0.600000   \n",
       "1                   0.700000              -0.118750              -0.125000   \n",
       "2                   1.000000              -0.466667              -0.800000   \n",
       "3                   0.800000              -0.369697              -0.600000   \n",
       "4                   1.000000              -0.220192              -0.500000   \n",
       "5                   0.600000              -0.195000              -0.400000   \n",
       "6                   1.000000              -0.224479              -0.500000   \n",
       "7                   1.000000              -0.242778              -0.500000   \n",
       "8                   0.800000              -0.125000              -0.125000   \n",
       "9                   0.500000              -0.238095              -0.500000   \n",
       "10                  1.000000              -0.415064              -1.000000   \n",
       "11                  0.700000              -0.262500              -0.400000   \n",
       "12                  0.700000              -0.310417              -0.600000   \n",
       "13                  1.000000              -0.337889              -0.700000   \n",
       "14                  0.500000              -0.138690              -0.187500   \n",
       "15                  0.600000              -0.220150              -0.600000   \n",
       "16                  1.000000              -0.401437              -1.000000   \n",
       "17                  1.000000              -0.144643              -0.200000   \n",
       "18                  0.500000              -0.125000              -0.125000   \n",
       "19                  1.000000              -0.226786              -0.500000   \n",
       "20                  1.000000              -0.206548              -0.500000   \n",
       "21                  0.350000              -0.108333              -0.166667   \n",
       "22                  1.000000              -0.230263              -0.500000   \n",
       "23                  0.600000               0.000000               0.000000   \n",
       "24                  0.433333              -0.456481              -1.000000   \n",
       "25                  0.350000              -0.116667              -0.200000   \n",
       "26                  1.000000              -0.263889              -0.500000   \n",
       "27                  1.000000              -0.202292              -0.500000   \n",
       "28                  0.600000              -0.177500              -0.312500   \n",
       "29                  1.000000              -0.213889              -0.600000   \n",
       "...                      ...                    ...                    ...   \n",
       "39614               0.600000              -0.225694              -0.500000   \n",
       "39615               0.000000               0.000000               0.000000   \n",
       "39616               0.000000               0.000000               0.000000   \n",
       "39617               1.000000              -0.188889              -0.500000   \n",
       "39618               0.800000              -0.170833              -0.250000   \n",
       "39619               0.700000              -0.271429              -0.700000   \n",
       "39620               0.500000              -0.525000              -0.750000   \n",
       "39621               0.500000              -0.282500              -0.700000   \n",
       "39622               1.000000              -0.262500              -1.000000   \n",
       "39623               0.700000              -0.255208              -0.500000   \n",
       "39624               0.750000              -0.179847              -0.312500   \n",
       "39625               0.500000              -0.071429              -0.071429   \n",
       "39626               1.000000              -0.145833              -0.166667   \n",
       "39627               0.600000              -0.325000              -0.600000   \n",
       "39628               0.800000              -0.558333              -1.000000   \n",
       "39629               0.850000              -0.366667              -0.500000   \n",
       "39630               0.900000              -0.164881              -0.333333   \n",
       "39631               0.850000              -0.375000              -1.000000   \n",
       "39632               0.800000              -0.115000              -0.125000   \n",
       "39633               0.800000              -0.181313              -0.300000   \n",
       "39634               1.000000              -0.558333              -1.000000   \n",
       "39635               1.000000              -0.223611              -0.400000   \n",
       "39636               1.000000              -0.231612              -0.600000   \n",
       "39637               1.000000              -0.429534              -1.000000   \n",
       "39638               0.800000              -0.250000              -0.250000   \n",
       "39639               0.750000              -0.260000              -0.500000   \n",
       "39640               0.700000              -0.211111              -0.400000   \n",
       "39641               0.500000              -0.356439              -0.800000   \n",
       "39642               0.500000              -0.205246              -0.500000   \n",
       "39643               0.500000              -0.200000              -0.200000   \n",
       "\n",
       "       max_negative_polarity  title_subjectivity  title_sentiment_polarity  \\\n",
       "0                  -0.200000            0.500000                 -0.187500   \n",
       "1                  -0.100000            0.000000                  0.000000   \n",
       "2                  -0.133333            0.000000                  0.000000   \n",
       "3                  -0.166667            0.000000                  0.000000   \n",
       "4                  -0.050000            0.454545                  0.136364   \n",
       "5                  -0.100000            0.642857                  0.214286   \n",
       "6                  -0.050000            0.000000                  0.000000   \n",
       "7                  -0.050000            1.000000                  0.500000   \n",
       "8                  -0.125000            0.125000                  0.000000   \n",
       "9                  -0.100000            0.000000                  0.000000   \n",
       "10                 -0.100000            0.000000                  0.000000   \n",
       "11                 -0.125000            0.000000                  0.000000   \n",
       "12                 -0.050000            1.000000                 -1.000000   \n",
       "13                 -0.100000            1.000000                 -1.000000   \n",
       "14                 -0.050000            0.750000                  0.550000   \n",
       "15                 -0.050000            0.750000                 -0.250000   \n",
       "16                 -0.050000            0.566667                 -0.100000   \n",
       "17                 -0.100000            0.000000                  0.000000   \n",
       "18                 -0.125000            0.857143                 -0.714286   \n",
       "19                 -0.050000            0.500000                  0.000000   \n",
       "20                 -0.050000            0.000000                  0.000000   \n",
       "21                 -0.050000            0.000000                  0.000000   \n",
       "22                 -0.050000            0.000000                  0.000000   \n",
       "23                  0.000000            0.450000                  0.400000   \n",
       "24                 -0.125000            0.700000                 -0.400000   \n",
       "25                 -0.050000            0.900000                  0.400000   \n",
       "26                 -0.125000            0.000000                  0.000000   \n",
       "27                 -0.050000            0.500000                  0.500000   \n",
       "28                 -0.125000            0.000000                  0.000000   \n",
       "29                 -0.100000            0.500000                  0.500000   \n",
       "...                      ...                 ...                       ...   \n",
       "39614              -0.050000            0.000000                  0.000000   \n",
       "39615               0.000000            0.454545                  0.136364   \n",
       "39616               0.000000            0.454545                  0.136364   \n",
       "39617              -0.050000            0.454545                  0.136364   \n",
       "39618              -0.125000            0.125000                 -0.125000   \n",
       "39619              -0.100000            0.000000                  0.000000   \n",
       "39620              -0.300000            0.650000                  0.000000   \n",
       "39621              -0.100000            0.000000                  0.000000   \n",
       "39622              -0.100000            0.300000                  0.166667   \n",
       "39623              -0.100000            0.850000                 -0.400000   \n",
       "39624              -0.025000            0.000000                  0.000000   \n",
       "39625              -0.071429            0.800000                  0.400000   \n",
       "39626              -0.125000            0.000000                  0.000000   \n",
       "39627              -0.125000            0.577273                 -0.131818   \n",
       "39628              -0.100000            0.000000                  0.000000   \n",
       "39629              -0.100000            1.000000                 -0.500000   \n",
       "39630              -0.050000            0.477273                  0.168182   \n",
       "39631              -0.050000            1.000000                 -1.000000   \n",
       "39632              -0.100000            0.500000                  0.500000   \n",
       "39633              -0.050000            0.000000                  0.000000   \n",
       "39634              -0.125000            0.000000                  0.000000   \n",
       "39635              -0.050000            0.100000                  0.000000   \n",
       "39636              -0.050000            0.000000                  0.000000   \n",
       "39637              -0.050000            0.783333                 -0.600000   \n",
       "39638              -0.250000            0.000000                  0.000000   \n",
       "39639              -0.125000            0.100000                  0.000000   \n",
       "39640              -0.100000            0.300000                  1.000000   \n",
       "39641              -0.166667            0.454545                  0.136364   \n",
       "39642              -0.012500            0.000000                  0.000000   \n",
       "39643              -0.200000            0.333333                  0.250000   \n",
       "\n",
       "       abs_title_subjectivity  abs_title_sentiment_polarity  shares  \n",
       "0                    0.000000                      0.187500     593  \n",
       "1                    0.500000                      0.000000     711  \n",
       "2                    0.500000                      0.000000    1500  \n",
       "3                    0.500000                      0.000000    1200  \n",
       "4                    0.045455                      0.136364     505  \n",
       "5                    0.142857                      0.214286     855  \n",
       "6                    0.500000                      0.000000     556  \n",
       "7                    0.500000                      0.500000     891  \n",
       "8                    0.375000                      0.000000    3600  \n",
       "9                    0.500000                      0.000000     710  \n",
       "10                   0.500000                      0.000000    2200  \n",
       "11                   0.500000                      0.000000    1900  \n",
       "12                   0.500000                      1.000000     823  \n",
       "13                   0.500000                      1.000000   10000  \n",
       "14                   0.250000                      0.550000     761  \n",
       "15                   0.250000                      0.250000    1600  \n",
       "16                   0.066667                      0.100000   13600  \n",
       "17                   0.500000                      0.000000    3100  \n",
       "18                   0.357143                      0.714286    5700  \n",
       "19                   0.000000                      0.000000   17100  \n",
       "20                   0.500000                      0.000000    2800  \n",
       "21                   0.500000                      0.000000     598  \n",
       "22                   0.500000                      0.000000     445  \n",
       "23                   0.050000                      0.400000    1500  \n",
       "24                   0.200000                      0.400000     852  \n",
       "25                   0.400000                      0.400000     783  \n",
       "26                   0.500000                      0.000000    1500  \n",
       "27                   0.000000                      0.500000    1800  \n",
       "28                   0.500000                      0.000000     462  \n",
       "29                   0.000000                      0.500000     425  \n",
       "...                       ...                           ...     ...  \n",
       "39614                0.500000                      0.000000    1400  \n",
       "39615                0.045455                      0.136364    5700  \n",
       "39616                0.045455                      0.136364    2100  \n",
       "39617                0.045455                      0.136364     691  \n",
       "39618                0.375000                      0.125000    1400  \n",
       "39619                0.500000                      0.000000    1200  \n",
       "39620                0.150000                      0.000000    2400  \n",
       "39621                0.500000                      0.000000   24300  \n",
       "39622                0.200000                      0.166667    2900  \n",
       "39623                0.350000                      0.400000     947  \n",
       "39624                0.500000                      0.000000    3200  \n",
       "39625                0.300000                      0.400000    1400  \n",
       "39626                0.500000                      0.000000    1100  \n",
       "39627                0.077273                      0.131818    1200  \n",
       "39628                0.500000                      0.000000    1000  \n",
       "39629                0.500000                      0.500000    2400  \n",
       "39630                0.022727                      0.168182    1500  \n",
       "39631                0.500000                      1.000000     914  \n",
       "39632                0.000000                      0.500000    1700  \n",
       "39633                0.500000                      0.000000    1500  \n",
       "39634                0.500000                      0.000000    1000  \n",
       "39635                0.400000                      0.000000    1300  \n",
       "39636                0.500000                      0.000000    1700  \n",
       "39637                0.283333                      0.600000    1400  \n",
       "39638                0.500000                      0.000000    1200  \n",
       "39639                0.400000                      0.000000    1800  \n",
       "39640                0.200000                      1.000000    1900  \n",
       "39641                0.045455                      0.136364    1900  \n",
       "39642                0.500000                      0.000000    1100  \n",
       "39643                0.166667                      0.250000    1300  \n",
       "\n",
       "[39644 rows x 45 columns]"
      ]
     },
     "execution_count": 41,
     "metadata": {},
     "output_type": "execute_result"
    }
   ],
   "source": [
    "print data_frame.shape\n",
    "data_frame"
   ]
  },
  {
   "cell_type": "markdown",
   "metadata": {},
   "source": [
    "#### Remove outliers if applicable"
   ]
  },
  {
   "cell_type": "code",
   "execution_count": 116,
   "metadata": {
    "collapsed": false
   },
   "outputs": [
    {
     "data": {
      "text/plain": [
       "(39130, 45)"
      ]
     },
     "execution_count": 116,
     "metadata": {},
     "output_type": "execute_result"
    }
   ],
   "source": [
    "# keep points that are within +2 to -2 standard deviations in column 'Data'.\n",
    "df = data_frame[data_frame.shares-data_frame.shares.mean()<=(2*data_frame.shares.std())]\n",
    "df.shape"
   ]
  },
  {
   "cell_type": "markdown",
   "metadata": {},
   "source": [
    "#### Summary statistics for shares and number of words in title"
   ]
  },
  {
   "cell_type": "code",
   "execution_count": 43,
   "metadata": {
    "collapsed": false
   },
   "outputs": [
    {
     "data": {
      "text/html": [
       "<div>\n",
       "<table border=\"1\" class=\"dataframe\">\n",
       "  <thead>\n",
       "    <tr style=\"text-align: right;\">\n",
       "      <th></th>\n",
       "      <th>shares</th>\n",
       "      <th>n_tokens_title</th>\n",
       "      <th>n_tokens_content</th>\n",
       "      <th>n_unique_tokens</th>\n",
       "    </tr>\n",
       "  </thead>\n",
       "  <tbody>\n",
       "    <tr>\n",
       "      <th>count</th>\n",
       "      <td>39130.000000</td>\n",
       "      <td>39130.000000</td>\n",
       "      <td>39130.000000</td>\n",
       "      <td>39130.000000</td>\n",
       "    </tr>\n",
       "    <tr>\n",
       "      <th>mean</th>\n",
       "      <td>2604.414925</td>\n",
       "      <td>10.394505</td>\n",
       "      <td>546.975824</td>\n",
       "      <td>0.548304</td>\n",
       "    </tr>\n",
       "    <tr>\n",
       "      <th>std</th>\n",
       "      <td>3356.840372</td>\n",
       "      <td>2.112438</td>\n",
       "      <td>470.309240</td>\n",
       "      <td>3.543710</td>\n",
       "    </tr>\n",
       "    <tr>\n",
       "      <th>min</th>\n",
       "      <td>1.000000</td>\n",
       "      <td>2.000000</td>\n",
       "      <td>0.000000</td>\n",
       "      <td>0.000000</td>\n",
       "    </tr>\n",
       "    <tr>\n",
       "      <th>25%</th>\n",
       "      <td>941.000000</td>\n",
       "      <td>9.000000</td>\n",
       "      <td>247.000000</td>\n",
       "      <td>0.470777</td>\n",
       "    </tr>\n",
       "    <tr>\n",
       "      <th>50%</th>\n",
       "      <td>1400.000000</td>\n",
       "      <td>10.000000</td>\n",
       "      <td>410.000000</td>\n",
       "      <td>0.538987</td>\n",
       "    </tr>\n",
       "    <tr>\n",
       "      <th>75%</th>\n",
       "      <td>2700.000000</td>\n",
       "      <td>12.000000</td>\n",
       "      <td>716.750000</td>\n",
       "      <td>0.608209</td>\n",
       "    </tr>\n",
       "    <tr>\n",
       "      <th>max</th>\n",
       "      <td>26600.000000</td>\n",
       "      <td>23.000000</td>\n",
       "      <td>8474.000000</td>\n",
       "      <td>701.000000</td>\n",
       "    </tr>\n",
       "  </tbody>\n",
       "</table>\n",
       "</div>"
      ],
      "text/plain": [
       "             shares  n_tokens_title  n_tokens_content  n_unique_tokens\n",
       "count  39130.000000    39130.000000      39130.000000     39130.000000\n",
       "mean    2604.414925       10.394505        546.975824         0.548304\n",
       "std     3356.840372        2.112438        470.309240         3.543710\n",
       "min        1.000000        2.000000          0.000000         0.000000\n",
       "25%      941.000000        9.000000        247.000000         0.470777\n",
       "50%     1400.000000       10.000000        410.000000         0.538987\n",
       "75%     2700.000000       12.000000        716.750000         0.608209\n",
       "max    26600.000000       23.000000       8474.000000       701.000000"
      ]
     },
     "execution_count": 43,
     "metadata": {},
     "output_type": "execute_result"
    }
   ],
   "source": [
    "df[\n",
    "    ['shares','n_tokens_title', 'n_tokens_content', 'n_unique_tokens']\n",
    "].describe()"
   ]
  },
  {
   "cell_type": "markdown",
   "metadata": {},
   "source": [
    "From the result above, we may consider share more than 1,400 shares as *popular*."
   ]
  },
  {
   "cell_type": "markdown",
   "metadata": {},
   "source": [
    "#### Avg number of words in title and popular article content"
   ]
  },
  {
   "cell_type": "code",
   "execution_count": 44,
   "metadata": {
    "collapsed": false
   },
   "outputs": [
    {
     "data": {
      "text/html": [
       "<div>\n",
       "<table border=\"1\" class=\"dataframe\">\n",
       "  <thead>\n",
       "    <tr style=\"text-align: right;\">\n",
       "      <th></th>\n",
       "      <th>shares</th>\n",
       "      <th>n_tokens_title</th>\n",
       "      <th>n_tokens_content</th>\n",
       "      <th>n_unique_tokens</th>\n",
       "    </tr>\n",
       "  </thead>\n",
       "  <tbody>\n",
       "    <tr>\n",
       "      <th>count</th>\n",
       "      <td>20640.000000</td>\n",
       "      <td>20640.000000</td>\n",
       "      <td>20640.000000</td>\n",
       "      <td>20640.000000</td>\n",
       "    </tr>\n",
       "    <tr>\n",
       "      <th>mean</th>\n",
       "      <td>4122.785853</td>\n",
       "      <td>10.301550</td>\n",
       "      <td>566.091957</td>\n",
       "      <td>0.557952</td>\n",
       "    </tr>\n",
       "    <tr>\n",
       "      <th>std</th>\n",
       "      <td>4052.960447</td>\n",
       "      <td>2.120151</td>\n",
       "      <td>507.147459</td>\n",
       "      <td>4.877742</td>\n",
       "    </tr>\n",
       "    <tr>\n",
       "      <th>min</th>\n",
       "      <td>1400.000000</td>\n",
       "      <td>2.000000</td>\n",
       "      <td>0.000000</td>\n",
       "      <td>0.000000</td>\n",
       "    </tr>\n",
       "    <tr>\n",
       "      <th>25%</th>\n",
       "      <td>1800.000000</td>\n",
       "      <td>9.000000</td>\n",
       "      <td>246.000000</td>\n",
       "      <td>0.462785</td>\n",
       "    </tr>\n",
       "    <tr>\n",
       "      <th>50%</th>\n",
       "      <td>2600.000000</td>\n",
       "      <td>10.000000</td>\n",
       "      <td>414.000000</td>\n",
       "      <td>0.534566</td>\n",
       "    </tr>\n",
       "    <tr>\n",
       "      <th>75%</th>\n",
       "      <td>4600.000000</td>\n",
       "      <td>12.000000</td>\n",
       "      <td>747.000000</td>\n",
       "      <td>0.606147</td>\n",
       "    </tr>\n",
       "    <tr>\n",
       "      <th>max</th>\n",
       "      <td>26600.000000</td>\n",
       "      <td>23.000000</td>\n",
       "      <td>8474.000000</td>\n",
       "      <td>701.000000</td>\n",
       "    </tr>\n",
       "  </tbody>\n",
       "</table>\n",
       "</div>"
      ],
      "text/plain": [
       "             shares  n_tokens_title  n_tokens_content  n_unique_tokens\n",
       "count  20640.000000    20640.000000      20640.000000     20640.000000\n",
       "mean    4122.785853       10.301550        566.091957         0.557952\n",
       "std     4052.960447        2.120151        507.147459         4.877742\n",
       "min     1400.000000        2.000000          0.000000         0.000000\n",
       "25%     1800.000000        9.000000        246.000000         0.462785\n",
       "50%     2600.000000       10.000000        414.000000         0.534566\n",
       "75%     4600.000000       12.000000        747.000000         0.606147\n",
       "max    26600.000000       23.000000       8474.000000       701.000000"
      ]
     },
     "execution_count": 44,
     "metadata": {},
     "output_type": "execute_result"
    }
   ],
   "source": [
    "popular_articles = df.ix[data_frame['shares'] >= 1400]\n",
    "popular_articles[\n",
    "    ['shares','n_tokens_title', 'n_tokens_content','n_unique_tokens']\n",
    "].describe()"
   ]
  },
  {
   "cell_type": "markdown",
   "metadata": {},
   "source": [
    "Still not a big difference."
   ]
  },
  {
   "cell_type": "markdown",
   "metadata": {},
   "source": [
    "#### Mean shares for each article type"
   ]
  },
  {
   "cell_type": "code",
   "execution_count": 45,
   "metadata": {
    "collapsed": false
   },
   "outputs": [
    {
     "name": "stdout",
     "output_type": "stream",
     "text": [
      "                                                                                   mean\n",
      "is_lifestyle is_entertainment is_business is_social_media is_tech is_world             \n",
      "0.0          0.0              0.0         0.0             0.0     0.0       3749.458263\n",
      "                                                                  1.0       1936.390614\n",
      "                                                          1.0     0.0       2723.536512\n",
      "                                          1.0             0.0     0.0       3239.659713\n",
      "                              1.0         0.0             0.0     0.0       2259.911319\n",
      "             1.0              0.0         0.0             0.0     0.0       2292.752441\n",
      "1.0          0.0              0.0         0.0             0.0     0.0       2987.393340\n"
     ]
    },
    {
     "data": {
      "text/plain": [
       "<matplotlib.text.Text at 0x10606da0>"
      ]
     },
     "execution_count": 45,
     "metadata": {},
     "output_type": "execute_result"
    },
    {
     "data": {
      "image/png": "[encoded data removed]",
      "text/plain": [
       "<matplotlib.figure.Figure at 0xf1626d8>"
      ]
     },
     "metadata": {},
     "output_type": "display_data"
    }
   ],
   "source": [
    "type_articles = df.pivot_table('shares', index=[\n",
    "        'is_lifestyle', 'is_entertainment', 'is_business', 'is_social_media', 'is_tech', 'is_world'\n",
    "    ], aggfunc=[np.mean])\n",
    "print type_articles\n",
    "\n",
    "type_articles.plot(kind='bar', color=red)\n",
    "plt.legend(bbox_to_anchor=(1.05, 1), loc=2, borderaxespad=0.)\n",
    "plt.title('Mean shares by article type')\n",
    "plt.xlabel('Article type')\n",
    "plt.ylabel('Shares')"
   ]
  },
  {
   "cell_type": "markdown",
   "metadata": {},
   "source": [
    "From the result above, looks like lifestyle and social media shares relatively more"
   ]
  },
  {
   "cell_type": "markdown",
   "metadata": {},
   "source": [
    "#### On avg, which day has more shares "
   ]
  },
  {
   "cell_type": "code",
   "execution_count": 46,
   "metadata": {
    "collapsed": false
   },
   "outputs": [
    {
     "name": "stdout",
     "output_type": "stream",
     "text": [
      "                                                                                      mean\n",
      "is_monday is_tuesday is_wednesday is_thursday is_friday is_saturday is_sunday             \n",
      "0.0       0.0        0.0          0.0         0.0       0.0         1.0        3214.592524\n",
      "                                                        1.0         0.0        3164.990886\n",
      "                                              1.0       0.0         0.0        2598.227176\n",
      "                                  1.0         0.0       0.0         0.0        2483.523186\n",
      "                     1.0          0.0         0.0       0.0         0.0        2456.536891\n",
      "          1.0        0.0          0.0         0.0       0.0         0.0        2482.604903\n",
      "1.0       0.0        0.0          0.0         0.0       0.0         0.0        2585.619985\n"
     ]
    },
    {
     "data": {
      "text/plain": [
       "<matplotlib.text.Text at 0xe8d6f98>"
      ]
     },
     "execution_count": 46,
     "metadata": {},
     "output_type": "execute_result"
    },
    {
     "data": {
      "image/png": "[encoded data removed]",
      "text/plain": [
       "<matplotlib.figure.Figure at 0x11047048>"
      ]
     },
     "metadata": {},
     "output_type": "display_data"
    }
   ],
   "source": [
    "day_articles = df.pivot_table('shares', index=[\n",
    "        'is_monday', 'is_tuesday', 'is_wednesday', 'is_thursday', 'is_friday', 'is_saturday', 'is_sunday'\n",
    "    ], aggfunc=[np.mean])\n",
    "print day_articles\n",
    "\n",
    "day_articles.plot(kind='bar', color=green)\n",
    "plt.legend(bbox_to_anchor=(1.05, 1), loc=2, borderaxespad=0.)\n",
    "plt.title('Mean shares by day')\n",
    "plt.xlabel('Day')\n",
    "plt.ylabel('Shares')"
   ]
  },
  {
   "cell_type": "markdown",
   "metadata": {},
   "source": [
    "From the result above, it shows weekends (Saturday and Sunday) and Monday have relatively more shares."
   ]
  },
  {
   "cell_type": "markdown",
   "metadata": {},
   "source": [
    "#### Mean shares for tech and not tech channels during and not during weekends"
   ]
  },
  {
   "cell_type": "code",
   "execution_count": 47,
   "metadata": {
    "collapsed": false
   },
   "outputs": [
    {
     "data": {
      "text/html": [
       "<div>\n",
       "<table border=\"1\" class=\"dataframe\">\n",
       "  <thead>\n",
       "    <tr>\n",
       "      <th></th>\n",
       "      <th colspan=\"3\" halign=\"left\">mean</th>\n",
       "    </tr>\n",
       "    <tr>\n",
       "      <th>is_tech</th>\n",
       "      <th>0.0</th>\n",
       "      <th>1.0</th>\n",
       "      <th>All</th>\n",
       "    </tr>\n",
       "    <tr>\n",
       "      <th>is_weekend</th>\n",
       "      <th></th>\n",
       "      <th></th>\n",
       "      <th></th>\n",
       "    </tr>\n",
       "  </thead>\n",
       "  <tbody>\n",
       "    <tr>\n",
       "      <th>0.0</th>\n",
       "      <td>2492.308759</td>\n",
       "      <td>2619.384085</td>\n",
       "      <td>2516.159199</td>\n",
       "    </tr>\n",
       "    <tr>\n",
       "      <th>1.0</th>\n",
       "      <td>3134.770769</td>\n",
       "      <td>3450.213115</td>\n",
       "      <td>3191.187842</td>\n",
       "    </tr>\n",
       "    <tr>\n",
       "      <th>All</th>\n",
       "      <td>2577.099777</td>\n",
       "      <td>2723.536512</td>\n",
       "      <td>2604.414925</td>\n",
       "    </tr>\n",
       "  </tbody>\n",
       "</table>\n",
       "</div>"
      ],
      "text/plain": [
       "                   mean                          \n",
       "is_tech             0.0          1.0          All\n",
       "is_weekend                                       \n",
       "0.0         2492.308759  2619.384085  2516.159199\n",
       "1.0         3134.770769  3450.213115  3191.187842\n",
       "All         2577.099777  2723.536512  2604.414925"
      ]
     },
     "execution_count": 47,
     "metadata": {},
     "output_type": "execute_result"
    }
   ],
   "source": [
    "df.pivot_table('shares', index=['is_weekend'], columns=['is_tech'], aggfunc=[np.mean], margins=True)"
   ]
  },
  {
   "cell_type": "markdown",
   "metadata": {},
   "source": [
    "#### Mean tech shares during work week (Monday to Friday)"
   ]
  },
  {
   "cell_type": "code",
   "execution_count": 48,
   "metadata": {
    "collapsed": false
   },
   "outputs": [
    {
     "name": "stdout",
     "output_type": "stream",
     "text": [
      "                                                                mean\n",
      "is_monday is_tuesday is_wednesday is_thursday is_friday             \n",
      "0.0       0.0        0.0          0.0         0.0        3450.213115\n",
      "                                              1.0        2661.075510\n",
      "                                  1.0         0.0        2533.807368\n",
      "                     1.0          0.0         0.0        2647.878465\n",
      "          1.0        0.0          0.0         0.0        2647.338787\n",
      "1.0       0.0        0.0          0.0         0.0        2610.865526\n"
     ]
    },
    {
     "data": {
      "text/plain": [
       "<matplotlib.text.Text at 0xe8ddbe0>"
      ]
     },
     "execution_count": 48,
     "metadata": {},
     "output_type": "execute_result"
    },
    {
     "data": {
      "image/png": "[encoded data removed]",
      "text/plain": [
       "<matplotlib.figure.Figure at 0xb83da20>"
      ]
     },
     "metadata": {},
     "output_type": "display_data"
    }
   ],
   "source": [
    "tech_articles = df.ix[data_frame['is_tech'] == 1]\n",
    "tech_articles = tech_articles.pivot_table('shares', index=[\n",
    "        'is_monday', 'is_tuesday', 'is_wednesday', 'is_thursday', 'is_friday'\n",
    "    ], aggfunc=[np.mean])\n",
    "print tech_articles\n",
    "\n",
    "tech_articles.plot(kind='bar', color=blue)\n",
    "plt.legend(bbox_to_anchor=(1.05, 1), loc=2, borderaxespad=0.)\n",
    "plt.title('Mean Tech Article Shares by Week Day')\n",
    "plt.xlabel('Week Day')\n",
    "plt.ylabel('Shares')"
   ]
  },
  {
   "cell_type": "markdown",
   "metadata": {},
   "source": [
    "#### Explore relationship with some features and number of shares"
   ]
  },
  {
   "cell_type": "code",
   "execution_count": 49,
   "metadata": {
    "collapsed": false
   },
   "outputs": [
    {
     "data": {
      "text/plain": [
       "<matplotlib.axes._subplots.AxesSubplot at 0x1b5937b8>"
      ]
     },
     "execution_count": 49,
     "metadata": {},
     "output_type": "execute_result"
    },
    {
     "data": {
      "image/png": "[encoded data removed]",
      "text/plain": [
       "<matplotlib.figure.Figure at 0x1abfbdd8>"
      ]
     },
     "metadata": {},
     "output_type": "display_data"
    }
   ],
   "source": [
    "df.plot(kind='scatter', x='n_tokens_title', y='shares')"
   ]
  },
  {
   "cell_type": "code",
   "execution_count": 50,
   "metadata": {
    "collapsed": false
   },
   "outputs": [
    {
     "data": {
      "text/plain": [
       "<matplotlib.axes._subplots.AxesSubplot at 0x1a33d358>"
      ]
     },
     "execution_count": 50,
     "metadata": {},
     "output_type": "execute_result"
    },
    {
     "data": {
      "image/png": "[encoded data removed]",
      "text/plain": [
       "<matplotlib.figure.Figure at 0x1a2fa9b0>"
      ]
     },
     "metadata": {},
     "output_type": "display_data"
    }
   ],
   "source": [
    "df.plot(kind='scatter', x='n_tokens_content', y='shares')"
   ]
  },
  {
   "cell_type": "code",
   "execution_count": 51,
   "metadata": {
    "collapsed": false
   },
   "outputs": [
    {
     "data": {
      "text/plain": [
       "<matplotlib.axes._subplots.AxesSubplot at 0x15179e48>"
      ]
     },
     "execution_count": 51,
     "metadata": {},
     "output_type": "execute_result"
    },
    {
     "data": {
      "image/png": "[encoded data removed]",
      "text/plain": [
       "<matplotlib.figure.Figure at 0x1a2fa080>"
      ]
     },
     "metadata": {},
     "output_type": "display_data"
    }
   ],
   "source": [
    "df.plot(kind='scatter', x='n_unique_tokens', y='shares')"
   ]
  },
  {
   "cell_type": "markdown",
   "metadata": {},
   "source": [
    "### Buzz Factor"
   ]
  },
  {
   "cell_type": "code",
   "execution_count": 52,
   "metadata": {
    "collapsed": false
   },
   "outputs": [
    {
     "data": {
      "text/plain": [
       "<matplotlib.collections.PathCollection at 0x1499be48>"
      ]
     },
     "execution_count": 52,
     "metadata": {},
     "output_type": "execute_result"
    },
    {
     "data": {
      "image/png": "[encoded data removed]",
      "text/plain": [
       "<matplotlib.figure.Figure at 0xf6eaa58>"
      ]
     },
     "metadata": {},
     "output_type": "display_data"
    }
   ],
   "source": [
    "plt.scatter(df['shares'], df['timedelta'])"
   ]
  },
  {
   "cell_type": "markdown",
   "metadata": {},
   "source": [
    "Added 'buzz_factor' column: \"Buzz-Factor\" (using shares/day)"
   ]
  },
  {
   "cell_type": "code",
   "execution_count": 53,
   "metadata": {
    "collapsed": false
   },
   "outputs": [],
   "source": [
    "buzz_factor = df['shares'] / df['timedelta']"
   ]
  },
  {
   "cell_type": "markdown",
   "metadata": {},
   "source": [
    "Added one 'popularity' column: split # of shares into 4 \"popularity\" bins:\n",
    "\n",
    "percentile 0-25%-- \"Unpopular\"\n",
    "percentile 25%-50%-- \"Mildly Popular\"\n",
    "Percentile 50%-75%--\"Popular\"\n",
    "Percentile 75%-100%-- \"Very Popular\""
   ]
  },
  {
   "cell_type": "code",
   "execution_count": 63,
   "metadata": {
    "collapsed": true
   },
   "outputs": [],
   "source": [
    "popularity = pd.qcut(df['shares'], 4,  labels=[\n",
    "        \"Unpopular\",\n",
    "        \"Midly Popular\",\n",
    "        \"Popular\",\n",
    "        \"Very Popular\"\n",
    "    ])"
   ]
  },
  {
   "cell_type": "code",
   "execution_count": 65,
   "metadata": {
    "collapsed": false
   },
   "outputs": [
    {
     "name": "stderr",
     "output_type": "stream",
     "text": [
      "C:\\Users\\tmeagh\\AppData\\Local\\Enthought\\Canopy\\User\\lib\\site-packages\\ipykernel\\__main__.py:1: SettingWithCopyWarning:\n",
      "\n",
      "\n",
      "A value is trying to be set on a copy of a slice from a DataFrame.\n",
      "Try using .loc[row_indexer,col_indexer] = value instead\n",
      "\n",
      "See the caveats in the documentation: http://pandas.pydata.org/pandas-docs/stable/indexing.html#indexing-view-versus-copy\n",
      "\n",
      "C:\\Users\\tmeagh\\AppData\\Local\\Enthought\\Canopy\\User\\lib\\site-packages\\ipykernel\\__main__.py:2: SettingWithCopyWarning:\n",
      "\n",
      "\n",
      "A value is trying to be set on a copy of a slice from a DataFrame.\n",
      "Try using .loc[row_indexer,col_indexer] = value instead\n",
      "\n",
      "See the caveats in the documentation: http://pandas.pydata.org/pandas-docs/stable/indexing.html#indexing-view-versus-copy\n",
      "\n"
     ]
    }
   ],
   "source": [
    "df['buzz_factor'] = buzz_factor.values\n",
    "df['popularity'] = popularity.values"
   ]
  },
  {
   "cell_type": "markdown",
   "metadata": {},
   "source": [
    "Similarly, split *buzz factor* into four percentile bins:\n",
    "* 0-25% \"No Buzz\"\n",
    "* 25%-50% \"Some Buzz\"\n",
    "* 50%-75% \"Buzz\"\n",
    "* 75%-100% \"Lots of Buzz\""
   ]
  },
  {
   "cell_type": "code",
   "execution_count": 67,
   "metadata": {
    "collapsed": false
   },
   "outputs": [
    {
     "name": "stderr",
     "output_type": "stream",
     "text": [
      "C:\\Users\\tmeagh\\AppData\\Local\\Enthought\\Canopy\\User\\lib\\site-packages\\ipykernel\\__main__.py:2: SettingWithCopyWarning:\n",
      "\n",
      "\n",
      "A value is trying to be set on a copy of a slice from a DataFrame.\n",
      "Try using .loc[row_indexer,col_indexer] = value instead\n",
      "\n",
      "See the caveats in the documentation: http://pandas.pydata.org/pandas-docs/stable/indexing.html#indexing-view-versus-copy\n",
      "\n"
     ]
    }
   ],
   "source": [
    "buzz = pd.qcut(df['buzz_factor'], 4,  labels=[\"No Buzz\",\"Some Buzz\",\"Buzz\",\"Lots of Buzz\"])\n",
    "df['buzz']=buzz.values"
   ]
  },
  {
   "cell_type": "markdown",
   "metadata": {},
   "source": [
    "The real quantity of interest here is, in some sense, the LEAST successful articles.  While it is interesting to predict the level of popularity/buzz factor, what we need (at the very least) to be able to do is predict whether an article will be \"unpopular\" or generate \"no buzz.\"  Thus we isolate these two bins."
   ]
  },
  {
   "cell_type": "code",
   "execution_count": 96,
   "metadata": {
    "collapsed": false
   },
   "outputs": [
    {
     "name": "stderr",
     "output_type": "stream",
     "text": [
      "C:\\Users\\tmeagh\\AppData\\Local\\Enthought\\Canopy\\User\\lib\\site-packages\\ipykernel\\__main__.py:2: SettingWithCopyWarning:\n",
      "\n",
      "\n",
      "A value is trying to be set on a copy of a slice from a DataFrame.\n",
      "Try using .loc[row_indexer,col_indexer] = value instead\n",
      "\n",
      "See the caveats in the documentation: http://pandas.pydata.org/pandas-docs/stable/indexing.html#indexing-view-versus-copy\n",
      "\n",
      "C:\\Users\\tmeagh\\AppData\\Local\\Enthought\\Canopy\\User\\lib\\site-packages\\ipykernel\\__main__.py:5: SettingWithCopyWarning:\n",
      "\n",
      "\n",
      "A value is trying to be set on a copy of a slice from a DataFrame.\n",
      "Try using .loc[row_indexer,col_indexer] = value instead\n",
      "\n",
      "See the caveats in the documentation: http://pandas.pydata.org/pandas-docs/stable/indexing.html#indexing-view-versus-copy\n",
      "\n"
     ]
    },
    {
     "data": {
      "text/plain": [
       "(39130, 50)"
      ]
     },
     "execution_count": 96,
     "metadata": {},
     "output_type": "execute_result"
    }
   ],
   "source": [
    "unpopular = df['popularity']== 'Unpopular'\n",
    "df['unpopular'] = unpopular\n",
    "\n",
    "no_buzz = df['buzz']=='No Buzz'\n",
    "df['no_buzz'] = no_buzz\n",
    "\n",
    "df.shape"
   ]
  },
  {
   "cell_type": "code",
   "execution_count": 56,
   "metadata": {
    "collapsed": false
   },
   "outputs": [
    {
     "data": {
      "text/plain": [
       "<matplotlib.text.Text at 0x149abe48>"
      ]
     },
     "execution_count": 56,
     "metadata": {},
     "output_type": "execute_result"
    },
    {
     "data": {
      "image/png": "[encoded data removed]",
      "text/plain": [
       "<matplotlib.figure.Figure at 0xea20240>"
      ]
     },
     "metadata": {},
     "output_type": "display_data"
    }
   ],
   "source": [
    "df_popularity = df.pivot_table('shares', index='popularity', aggfunc='mean')\n",
    "\n",
    "df_popularity.plot(kind='bar', color=blue)\n",
    "plt.title('Histogram of popularity')\n",
    "plt.ylabel('Mean shares')"
   ]
  },
  {
   "cell_type": "markdown",
   "metadata": {},
   "source": [
    "#### Finding correlations"
   ]
  },
  {
   "cell_type": "code",
   "execution_count": 70,
   "metadata": {
    "collapsed": false,
    "scrolled": true
   },
   "outputs": [
    {
     "data": {
      "text/plain": [
       "unpopular                       1.000000\n",
       "no_buzz                         0.431831\n",
       "is_world                        0.130189\n",
       "is_entertainment                0.106912\n",
       "rate_negative_words             0.059831\n",
       "is_wednesday                    0.044953\n",
       "is_tuesday                      0.038701\n",
       "n_tokens_title                  0.038134\n",
       "is_thursday                     0.035797\n",
       "global_rate_negative_words      0.027745\n",
       "min_positive_polarity           0.026733\n",
       "is_monday                       0.022533\n",
       "average_token_length            0.017213\n",
       "num_videos                      0.002181\n",
       "min_negative_polarity           0.001611\n",
       "max_negative_polarity           0.001291\n",
       "avg_negative_polarity          -0.000411\n",
       "n_non_stop_unique_tokens       -0.000799\n",
       "n_unique_tokens                -0.001305\n",
       "abs_title_subjectivity         -0.006176\n",
       "is_business                    -0.006292\n",
       "timedelta                      -0.009369\n",
       "title_subjectivity             -0.015908\n",
       "is_friday                      -0.017602\n",
       "avg_positive_polarity          -0.020575\n",
       "abs_title_sentiment_polarity   -0.025993\n",
       "max_positive_polarity          -0.031014\n",
       "n_tokens_content               -0.035602\n",
       "is_lifestyle                   -0.038147\n",
       "self_reference_min_shares      -0.038549\n",
       "num_self_hrefs                 -0.038997\n",
       "title_sentiment_polarity       -0.040603\n",
       "rate_positive_words            -0.041228\n",
       "num_keywords                   -0.045780\n",
       "self_reference_max_shares      -0.048824\n",
       "num_imgs                       -0.049131\n",
       "self_reference_avg_sharess     -0.050783\n",
       "global_rate_positive_words     -0.051108\n",
       "global_subjectivity            -0.052506\n",
       "global_sentiment_polarity      -0.060775\n",
       "num_hrefs                      -0.070487\n",
       "is_sunday                      -0.096219\n",
       "is_social_media                -0.100335\n",
       "is_saturday                    -0.101123\n",
       "is_tech                        -0.102313\n",
       "buzz_factor                    -0.138192\n",
       "is_weekend                     -0.144534\n",
       "shares                         -0.325218\n",
       "Name: unpopular, dtype: float64"
      ]
     },
     "execution_count": 70,
     "metadata": {},
     "output_type": "execute_result"
    }
   ],
   "source": [
    "df.corr()['unpopular'].sort_values(ascending=False)"
   ]
  },
  {
   "cell_type": "code",
   "execution_count": 91,
   "metadata": {
    "collapsed": false
   },
   "outputs": [],
   "source": [
    "# Select features\n",
    "features = df.columns.values\n",
    "exclude_features = [\n",
    "    'unpopular', 'no_buzz', 'popularity',\n",
    "    'shares', 'buzz', 'buzz_factor'\n",
    "]\n",
    "features = [f for f in features if f not in exclude_features]"
   ]
  },
  {
   "cell_type": "code",
   "execution_count": 79,
   "metadata": {
    "collapsed": false
   },
   "outputs": [
    {
     "name": "stderr",
     "output_type": "stream",
     "text": [
      "C:\\Users\\tmeagh\\AppData\\Local\\Enthought\\Canopy\\User\\lib\\site-packages\\sklearn\\lda.py:4: DeprecationWarning:\n",
      "\n",
      "lda.LDA has been moved to discriminant_analysis.LinearDiscriminantAnalysis in 0.17 and will be removed in 0.19\n",
      "\n",
      "C:\\Users\\tmeagh\\AppData\\Local\\Enthought\\Canopy\\User\\lib\\site-packages\\sklearn\\qda.py:4: DeprecationWarning:\n",
      "\n",
      "qda.QDA has been moved to discriminant_analysis.QuadraticDiscriminantAnalysis in 0.17 and will be removed in 0.19.\n",
      "\n"
     ]
    }
   ],
   "source": [
    "from sklearn import preprocessing \n",
    "from sklearn.cross_validation import train_test_split\n",
    "from sklearn.grid_search import GridSearchCV\n",
    "from sklearn.metrics import confusion_matrix\n",
    "from sklearn.decomposition import PCA \n",
    "from sklearn.svm import SVC\n",
    "import pandas as pd\n",
    "from sklearn import metrics\n",
    "from sklearn.metrics import fbeta_score, make_scorer\n",
    "from sklearn.neighbors import KNeighborsClassifier\n",
    "from sklearn.neighbors import RadiusNeighborsClassifier\n",
    "from sklearn.ensemble import ExtraTreesClassifier\n",
    "from sklearn.lda import LDA\n",
    "from sklearn.qda import QDA\n",
    "import numpy as np\n",
    "from sklearn.ensemble import RandomForestClassifier\n",
    "from sklearn.neighbors import NearestNeighbors\n",
    "from sklearn.tree import DecisionTreeClassifier  \n",
    "from sklearn.ensemble import BaggingClassifier\n",
    "from sklearn.svm import LinearSVC"
   ]
  },
  {
   "cell_type": "markdown",
   "metadata": {},
   "source": [
    "### Unpopular Articles"
   ]
  },
  {
   "cell_type": "markdown",
   "metadata": {},
   "source": [
    "At the very least, we want our software to predict whether an article will be unpopular.  In this case, we define Unpopular as belonging in the bottom 25% in terms of shares amongst articles on a similar platform."
   ]
  },
  {
   "cell_type": "code",
   "execution_count": 80,
   "metadata": {
    "collapsed": false
   },
   "outputs": [
    {
     "data": {
      "text/html": [
       "<div>\n",
       "<table border=\"1\" class=\"dataframe\">\n",
       "  <thead>\n",
       "    <tr style=\"text-align: right;\">\n",
       "      <th></th>\n",
       "      <th>variables</th>\n",
       "      <th>importance</th>\n",
       "    </tr>\n",
       "  </thead>\n",
       "  <tbody>\n",
       "    <tr>\n",
       "      <th>0</th>\n",
       "      <td>timedelta</td>\n",
       "      <td>0.042795</td>\n",
       "    </tr>\n",
       "    <tr>\n",
       "      <th>1</th>\n",
       "      <td>n_tokens_title</td>\n",
       "      <td>0.034440</td>\n",
       "    </tr>\n",
       "    <tr>\n",
       "      <th>2</th>\n",
       "      <td>num_keywords</td>\n",
       "      <td>0.033801</td>\n",
       "    </tr>\n",
       "    <tr>\n",
       "      <th>3</th>\n",
       "      <td>n_non_stop_unique_tokens</td>\n",
       "      <td>0.032559</td>\n",
       "    </tr>\n",
       "    <tr>\n",
       "      <th>4</th>\n",
       "      <td>average_token_length</td>\n",
       "      <td>0.031653</td>\n",
       "    </tr>\n",
       "    <tr>\n",
       "      <th>5</th>\n",
       "      <td>n_unique_tokens</td>\n",
       "      <td>0.031161</td>\n",
       "    </tr>\n",
       "    <tr>\n",
       "      <th>6</th>\n",
       "      <td>global_rate_positive_words</td>\n",
       "      <td>0.031124</td>\n",
       "    </tr>\n",
       "    <tr>\n",
       "      <th>7</th>\n",
       "      <td>global_subjectivity</td>\n",
       "      <td>0.031060</td>\n",
       "    </tr>\n",
       "    <tr>\n",
       "      <th>8</th>\n",
       "      <td>avg_positive_polarity</td>\n",
       "      <td>0.030601</td>\n",
       "    </tr>\n",
       "    <tr>\n",
       "      <th>9</th>\n",
       "      <td>num_hrefs</td>\n",
       "      <td>0.030511</td>\n",
       "    </tr>\n",
       "  </tbody>\n",
       "</table>\n",
       "</div>"
      ],
      "text/plain": [
       "                    variables  importance\n",
       "0                   timedelta    0.042795\n",
       "1              n_tokens_title    0.034440\n",
       "2                num_keywords    0.033801\n",
       "3    n_non_stop_unique_tokens    0.032559\n",
       "4        average_token_length    0.031653\n",
       "5             n_unique_tokens    0.031161\n",
       "6  global_rate_positive_words    0.031124\n",
       "7         global_subjectivity    0.031060\n",
       "8       avg_positive_polarity    0.030601\n",
       "9                   num_hrefs    0.030511"
      ]
     },
     "execution_count": 80,
     "metadata": {},
     "output_type": "execute_result"
    }
   ],
   "source": [
    "#feature importance\n",
    "feature_selection_model = ExtraTreesClassifier().fit(df[features], df['unpopular'])\n",
    "feature_importance=feature_selection_model.feature_importances_\n",
    "importance_matrix=np.array([features,list(feature_importance)]).T\n",
    "\n",
    "def sortkey(s):\n",
    "    return s[1]\n",
    "\n",
    "sort=zip(features,list(feature_importance))\n",
    "f = pd.DataFrame(sorted(sort,key=sortkey,reverse=True),columns=['variables','importance'])[:10]\n",
    "f"
   ]
  },
  {
   "cell_type": "code",
   "execution_count": 81,
   "metadata": {
    "collapsed": false
   },
   "outputs": [
    {
     "data": {
      "text/plain": [
       "(23478, 10)"
      ]
     },
     "execution_count": 81,
     "metadata": {},
     "output_type": "execute_result"
    }
   ],
   "source": [
    "features2=f['variables']\n",
    "\n",
    "#split data into two parts\n",
    "np.random.seed(0)\n",
    "x_train, x_test, y_train, y_test = train_test_split(df[features2], df.unpopular, test_size=0.4, random_state=None)\n",
    "x_train.shape"
   ]
  },
  {
   "cell_type": "code",
   "execution_count": 82,
   "metadata": {
    "collapsed": true
   },
   "outputs": [],
   "source": [
    "from sklearn import cross_validation, metrics\n",
    "from sklearn.naive_bayes import BernoulliNB\n",
    "from time import time"
   ]
  },
  {
   "cell_type": "code",
   "execution_count": 83,
   "metadata": {
    "collapsed": false
   },
   "outputs": [
    {
     "name": "stdout",
     "output_type": "stream",
     "text": [
      "DecisionTree\n",
      "             precision    recall  f1-score   support\n",
      "\n",
      "      False       0.77      0.81      0.79     11745\n",
      "       True       0.31      0.25      0.28      3907\n",
      "\n",
      "avg / total       0.65      0.67      0.66     15652\n",
      "\n",
      "time elapsed:  0.990999937057\n"
     ]
    }
   ],
   "source": [
    "# Decision Tree accuracy and time elapsed caculation\n",
    "t0=time()\n",
    "print \"DecisionTree\"\n",
    "dt = DecisionTreeClassifier(min_samples_split=25,random_state=1)\n",
    "clf_dt=dt.fit(x_train,y_train)\n",
    "y_predicted = clf_dt.predict(x_test)\n",
    "print(metrics.classification_report(y_test, y_predicted))\n",
    "t1=time()\n",
    "print \"time elapsed: \", t1-t0"
   ]
  },
  {
   "cell_type": "code",
   "execution_count": 84,
   "metadata": {
    "collapsed": false
   },
   "outputs": [
    {
     "name": "stdout",
     "output_type": "stream",
     "text": [
      "RandomForest\n",
      "Acurracy:  0.748786097623\n",
      "time elapsed:  13.6960000992\n"
     ]
    }
   ],
   "source": [
    "# Random Forest accuracy and time elapsed caculation\n",
    "t2=time()\n",
    "print \"RandomForest\"\n",
    "rf = RandomForestClassifier(n_estimators=100,n_jobs=1)\n",
    "clf_rf = rf.fit(x_train,y_train)\n",
    "print \"Acurracy: \", clf_rf.score(x_test,y_test)\n",
    "t3=time()\n",
    "print \"time elapsed: \", t3-t2"
   ]
  },
  {
   "cell_type": "code",
   "execution_count": 85,
   "metadata": {
    "collapsed": false
   },
   "outputs": [
    {
     "name": "stdout",
     "output_type": "stream",
     "text": [
      "LinearSVC\n",
      "[LibLinear]Acurracy:  0.36353181702\n"
     ]
    },
    {
     "name": "stderr",
     "output_type": "stream",
     "text": [
      "C:\\Users\\tmeagh\\AppData\\Local\\Enthought\\Canopy\\User\\lib\\site-packages\\sklearn\\svm\\base.py:924: ConvergenceWarning:\n",
      "\n",
      "Liblinear failed to converge, increase the number of iterations.\n",
      "\n"
     ]
    }
   ],
   "source": [
    "# support vector classifier \n",
    "print 'LinearSVC'\n",
    "svc=LinearSVC(C=1.0, class_weight=None, dual=True, fit_intercept=True,\n",
    "     intercept_scaling=1, loss='squared_hinge', max_iter=10000,\n",
    "     multi_class='ovr', penalty='l2', random_state=None, tol=0.0001,\n",
    "     verbose=1)\n",
    "clf_svc=svc.fit(x_train,y_train)\n",
    "print \"Acurracy: \", clf_svc.score(x_test,y_test)"
   ]
  },
  {
   "cell_type": "code",
   "execution_count": 86,
   "metadata": {
    "collapsed": false
   },
   "outputs": [
    {
     "data": {
      "text/plain": [
       "<matplotlib.text.Text at 0xbdd4d68>"
      ]
     },
     "execution_count": 86,
     "metadata": {},
     "output_type": "execute_result"
    },
    {
     "data": {
      "image/png": "[encoded data removed]",
      "text/plain": [
       "<matplotlib.figure.Figure at 0x1b27b240>"
      ]
     },
     "metadata": {},
     "output_type": "display_data"
    }
   ],
   "source": [
    "from sklearn.neighbors import KNeighborsClassifier\n",
    "\n",
    "# We use K-values ranging from 1-10\n",
    "k=[5,10,15,20,25,30,35,40,45,50]\n",
    "\n",
    "# Train a model on the trainng set and use that model to predict on the testing set\n",
    "predicted_knn=[KNeighborsClassifier(n_neighbors=i).fit(x_train,y_train).predict(x_test) for i in k]\n",
    "\n",
    "#Compute accuracy on the testing set for each value of k\n",
    "score_knn=[metrics.accuracy_score(predicted_knn[i],y_test) for i in range(10)]\n",
    "\n",
    "# Plot accuracy on the test set vs. k\n",
    "fig=plt.figure(figsize=(8,6))\n",
    "plt.plot([5,10,15,20,25,30,35,40,45,50], score_knn, 'bo--',label='knn')\n",
    "plt.xlabel('K')\n",
    "plt.ylabel('score')"
   ]
  },
  {
   "cell_type": "code",
   "execution_count": 87,
   "metadata": {
    "collapsed": false
   },
   "outputs": [
    {
     "name": "stdout",
     "output_type": "stream",
     "text": [
      "[[11687    58]\n",
      " [ 3869    38]]\n"
     ]
    },
    {
     "data": {
      "image/png": "[encoded data removed]",
      "text/plain": [
       "<matplotlib.figure.Figure at 0xbdd2a90>"
      ]
     },
     "metadata": {},
     "output_type": "display_data"
    }
   ],
   "source": [
    "# Make predictions based on the best model above\n",
    "y_predicted = predicted_knn[9]\n",
    "\n",
    "# Print and plot a confusion matrix\n",
    "cm = metrics.confusion_matrix(y_test, y_predicted)\n",
    "print(cm)\n",
    "plt.matshow(cm)\n",
    "plt.title('Confusion matrix')\n",
    "plt.colorbar()\n",
    "plt.ylabel('True label')\n",
    "plt.xlabel('Predicted label')\n",
    "plt.show()"
   ]
  },
  {
   "cell_type": "markdown",
   "metadata": {},
   "source": [
    "### Articles with no Buzz"
   ]
  },
  {
   "cell_type": "markdown",
   "metadata": {},
   "source": [
    "At the very least, we want our software to predict whether an article will generate no \"buzz\". In this case, we define \"no buzz\" as belonging in the bottom 25% in terms of shares per day amongst articles published on a similar platform."
   ]
  },
  {
   "cell_type": "code",
   "execution_count": 105,
   "metadata": {
    "collapsed": false
   },
   "outputs": [],
   "source": [
    "features1 = ['n_tokens_title', 'n_tokens_content', 'n_unique_tokens', 'n_non_stop_unique_tokens', 'num_hrefs', \n",
    " 'num_self_hrefs', 'num_imgs', 'num_videos', 'average_token_length', 'num_keywords', 'is_lifestyle', 'is_entertainment', \n",
    " 'is_business', 'is_social_media', 'is_tech', 'is_world', 'self_reference_min_shares', 'self_reference_max_shares', \n",
    " 'self_reference_avg_sharess', 'is_monday', 'is_tuesday', 'is_wednesday', 'is_thursday', 'is_friday', 'is_saturday', \n",
    " 'is_sunday', 'is_weekend', 'global_subjectivity', 'global_sentiment_polarity', 'global_rate_positive_words', \n",
    " 'global_rate_negative_words', 'rate_positive_words', 'rate_negative_words', 'avg_positive_polarity', \n",
    " 'min_positive_polarity', 'max_positive_polarity', 'avg_negative_polarity', 'min_negative_polarity', \n",
    " 'max_negative_polarity', 'title_subjectivity', 'title_sentiment_polarity', 'abs_title_subjectivity', \n",
    " 'abs_title_sentiment_polarity']"
   ]
  },
  {
   "cell_type": "code",
   "execution_count": 106,
   "metadata": {
    "collapsed": false
   },
   "outputs": [
    {
     "data": {
      "text/html": [
       "<div>\n",
       "<table border=\"1\" class=\"dataframe\">\n",
       "  <thead>\n",
       "    <tr style=\"text-align: right;\">\n",
       "      <th></th>\n",
       "      <th>variables</th>\n",
       "      <th>importance</th>\n",
       "    </tr>\n",
       "  </thead>\n",
       "  <tbody>\n",
       "    <tr>\n",
       "      <th>0</th>\n",
       "      <td>timedelta</td>\n",
       "      <td>0.038294</td>\n",
       "    </tr>\n",
       "    <tr>\n",
       "      <th>1</th>\n",
       "      <td>n_tokens_content</td>\n",
       "      <td>0.036709</td>\n",
       "    </tr>\n",
       "    <tr>\n",
       "      <th>2</th>\n",
       "      <td>n_unique_tokens</td>\n",
       "      <td>0.036014</td>\n",
       "    </tr>\n",
       "    <tr>\n",
       "      <th>3</th>\n",
       "      <td>num_hrefs</td>\n",
       "      <td>0.035903</td>\n",
       "    </tr>\n",
       "    <tr>\n",
       "      <th>4</th>\n",
       "      <td>n_tokens_title</td>\n",
       "      <td>0.035628</td>\n",
       "    </tr>\n",
       "    <tr>\n",
       "      <th>5</th>\n",
       "      <td>average_token_length</td>\n",
       "      <td>0.035015</td>\n",
       "    </tr>\n",
       "    <tr>\n",
       "      <th>6</th>\n",
       "      <td>num_videos</td>\n",
       "      <td>0.034484</td>\n",
       "    </tr>\n",
       "    <tr>\n",
       "      <th>7</th>\n",
       "      <td>global_sentiment_polarity</td>\n",
       "      <td>0.033910</td>\n",
       "    </tr>\n",
       "    <tr>\n",
       "      <th>8</th>\n",
       "      <td>num_self_hrefs</td>\n",
       "      <td>0.033864</td>\n",
       "    </tr>\n",
       "    <tr>\n",
       "      <th>9</th>\n",
       "      <td>is_weekend</td>\n",
       "      <td>0.032795</td>\n",
       "    </tr>\n",
       "  </tbody>\n",
       "</table>\n",
       "</div>"
      ],
      "text/plain": [
       "                   variables  importance\n",
       "0                  timedelta    0.038294\n",
       "1           n_tokens_content    0.036709\n",
       "2            n_unique_tokens    0.036014\n",
       "3                  num_hrefs    0.035903\n",
       "4             n_tokens_title    0.035628\n",
       "5       average_token_length    0.035015\n",
       "6                 num_videos    0.034484\n",
       "7  global_sentiment_polarity    0.033910\n",
       "8             num_self_hrefs    0.033864\n",
       "9                 is_weekend    0.032795"
      ]
     },
     "execution_count": 106,
     "metadata": {},
     "output_type": "execute_result"
    }
   ],
   "source": [
    "#feature importance\n",
    "feature_selection_model = ExtraTreesClassifier().fit(df[features1], df['no_buzz'])\n",
    "feature_importance=feature_selection_model.feature_importances_\n",
    "importance_matrix=np.array([features,list(feature_importance)]).T\n",
    "def sortkey(s):\n",
    "    return s[1]\n",
    "sort=zip(features,list(feature_importance))\n",
    "f_b=pd.DataFrame(sorted(sort,key=sortkey,reverse=True),columns=['variables','importance'])[:10]\n",
    "f_b"
   ]
  },
  {
   "cell_type": "code",
   "execution_count": 107,
   "metadata": {
    "collapsed": false
   },
   "outputs": [
    {
     "data": {
      "text/plain": [
       "(23478, 10)"
      ]
     },
     "execution_count": 107,
     "metadata": {},
     "output_type": "execute_result"
    }
   ],
   "source": [
    "features_b=f_b['variables']\n",
    "\n",
    "#split data into two parts\n",
    "np.random.seed(0)\n",
    "x_train, x_test, y_train, y_test = train_test_split(df[features_b], df.no_buzz, test_size=0.4, random_state=None)\n",
    "x_train.shape"
   ]
  },
  {
   "cell_type": "code",
   "execution_count": 108,
   "metadata": {
    "collapsed": false
   },
   "outputs": [
    {
     "name": "stdout",
     "output_type": "stream",
     "text": [
      "DecisionTree\n",
      "             precision    recall  f1-score   support\n",
      "\n",
      "      False       0.84      0.85      0.84     11796\n",
      "       True       0.52      0.50      0.51      3856\n",
      "\n",
      "avg / total       0.76      0.76      0.76     15652\n",
      "\n",
      "time elapsed:  0.656999826431\n"
     ]
    }
   ],
   "source": [
    "# Decision Tree accuracy and time elapsed caculation\n",
    "t0=time()\n",
    "print \"DecisionTree\"\n",
    "dt = DecisionTreeClassifier(min_samples_split=25,random_state=1)\n",
    "clf_dt=dt.fit(x_train,y_train)\n",
    "y_predicted = clf_dt.predict(x_test)\n",
    "print(metrics.classification_report(y_test, y_predicted))\n",
    "t1=time()\n",
    "print \"time elapsed: \", t1-t0"
   ]
  },
  {
   "cell_type": "code",
   "execution_count": 109,
   "metadata": {
    "collapsed": false
   },
   "outputs": [
    {
     "name": "stdout",
     "output_type": "stream",
     "text": [
      "RandomForest\n",
      "Acurracy:  0.795744952722\n",
      "time elapsed:  8.4470000267\n"
     ]
    }
   ],
   "source": [
    "# Random Forest accuracy and time elapsed caculation\n",
    "t2=time()\n",
    "print \"RandomForest\"\n",
    "rf = RandomForestClassifier(n_estimators=100,n_jobs=1)\n",
    "clf_rf = rf.fit(x_train,y_train)\n",
    "print \"Acurracy: \", clf_rf.score(x_test,y_test)\n",
    "t3=time()\n",
    "print \"time elapsed: \", t3-t2"
   ]
  },
  {
   "cell_type": "code",
   "execution_count": 110,
   "metadata": {
    "collapsed": false
   },
   "outputs": [
    {
     "data": {
      "text/plain": [
       "<matplotlib.text.Text at 0xb1bda58>"
      ]
     },
     "execution_count": 110,
     "metadata": {},
     "output_type": "execute_result"
    },
    {
     "data": {
      "image/png": "[encoded data removed]",
      "text/plain": [
       "<matplotlib.figure.Figure at 0xbdd2278>"
      ]
     },
     "metadata": {},
     "output_type": "display_data"
    }
   ],
   "source": [
    "from sklearn.neighbors import KNeighborsClassifier\n",
    "\n",
    "# We use K-values ranging from 5-50\n",
    "k=[5,10,15,20,25,30,35,40,45,50]\n",
    "\n",
    "# Train a model on the trainng set and use that model to predict on the testing set\n",
    "predicted_knn=[KNeighborsClassifier(n_neighbors=i).fit(x_train,y_train).predict(x_test) for i in k]\n",
    "\n",
    "#Compute accuracy on the testing set for each value of k\n",
    "score_knn=[metrics.accuracy_score(predicted_knn[i],y_test) for i in range(10)]\n",
    "\n",
    "# Plot accuracy on the test set vs. k\n",
    "fig=plt.figure(figsize=(8,6))\n",
    "plt.plot([5,10,15,20,25,30,35,40,45,50], score_knn, 'bo--',label='knn')\n",
    "plt.xlabel('K')\n",
    "plt.ylabel('score')"
   ]
  },
  {
   "cell_type": "code",
   "execution_count": 111,
   "metadata": {
    "collapsed": false
   },
   "outputs": [
    {
     "name": "stdout",
     "output_type": "stream",
     "text": [
      "[[10113  1683]\n",
      " [ 1718  2138]]\n"
     ]
    },
    {
     "data": {
      "image/png": "[encoded data removed]",
      "text/plain": [
       "<matplotlib.figure.Figure at 0xbdd43c8>"
      ]
     },
     "metadata": {},
     "output_type": "display_data"
    }
   ],
   "source": [
    "# Make predictions based on the best model above\n",
    "y_predicted = predicted_knn[8]\n",
    "\n",
    "# Print and plot a confusion matrix\n",
    "cm = metrics.confusion_matrix(y_test, y_predicted)\n",
    "print(cm)\n",
    "plt.matshow(cm)\n",
    "plt.title('Confusion matrix')\n",
    "plt.colorbar()\n",
    "plt.ylabel('True label')\n",
    "plt.xlabel('Predicted label')\n",
    "plt.show()"
   ]
  },
  {
   "cell_type": "markdown",
   "metadata": {},
   "source": [
    "### Further Analysis"
   ]
  },
  {
   "cell_type": "markdown",
   "metadata": {},
   "source": [
    "Here we try to use PCA to improve our results."
   ]
  },
  {
   "cell_type": "code",
   "execution_count": 112,
   "metadata": {
    "collapsed": false
   },
   "outputs": [
    {
     "data": {
      "image/png": "[encoded data removed]",
      "text/plain": [
       "<matplotlib.figure.Figure at 0xafbcbe0>"
      ]
     },
     "metadata": {},
     "output_type": "display_data"
    }
   ],
   "source": [
    "from sklearn.decomposition import PCA\n",
    "pca = PCA(4)\n",
    "plot_columns = pca.fit_transform(df[features1])\n",
    "plt.scatter(x=plot_columns[:,0], y=plot_columns[:,1], c=df['unpopular'])\n",
    "plt.show()"
   ]
  },
  {
   "cell_type": "code",
   "execution_count": 113,
   "metadata": {
    "collapsed": false
   },
   "outputs": [
    {
     "data": {
      "text/plain": [
       "(23478L, 4L)"
      ]
     },
     "execution_count": 113,
     "metadata": {},
     "output_type": "execute_result"
    }
   ],
   "source": [
    "np.random.seed(0)\n",
    "x_train, x_test, y_train, y_test = train_test_split(plot_columns, df.buzz_factor, test_size=0.4, random_state=None)\n",
    "x_train.shape"
   ]
  },
  {
   "cell_type": "code",
   "execution_count": 114,
   "metadata": {
    "collapsed": false
   },
   "outputs": [
    {
     "data": {
      "text/plain": [
       "2445.0356821514774"
      ]
     },
     "execution_count": 114,
     "metadata": {},
     "output_type": "execute_result"
    }
   ],
   "source": [
    "#linear regression\n",
    "from sklearn.linear_model import LinearRegression\n",
    "model = LinearRegression(normalize=True)\n",
    "model.fit(x_train, y_train)\n",
    "from sklearn.metrics import mean_squared_error\n",
    "predictions = model.predict(x_test)\n",
    "mean_squared_error(predictions, y_test)"
   ]
  },
  {
   "cell_type": "code",
   "execution_count": 115,
   "metadata": {
    "collapsed": false
   },
   "outputs": [
    {
     "data": {
      "text/plain": [
       "2430.7401296301709"
      ]
     },
     "execution_count": 115,
     "metadata": {},
     "output_type": "execute_result"
    }
   ],
   "source": [
    "# Import the random forest model.\n",
    "from sklearn.ensemble import RandomForestRegressor\n",
    "model2 = RandomForestRegressor(n_estimators=60, min_samples_leaf=10, random_state=1)\n",
    "model2.fit(x_train, y_train)\n",
    "predictions = model2.predict(x_test)\n",
    "mean_squared_error(predictions, y_test)"
   ]
  },
  {
   "cell_type": "markdown",
   "metadata": {},
   "source": [
    "---"
   ]
  },
  {
   "cell_type": "markdown",
   "metadata": {},
   "source": [
    "### Problem 1: the Business Part (20 points)\n",
    " As a group, learn about the data science related business and research about the current markets: such as search, social media, advertisement, recommendation and so on.\n",
    "Pick one of the markets for further consideration, and design a new service  which you believe to be important in the market. \n",
    "Define precisely in the report and briefly in the cells below, what is the business problem that your team wants to solve.\n",
    "Why the problem is important to solve? \n",
    "Why you believe you could make a big difference with data science technology.\n",
    "How are you planing to persuade the investors to buy in your idea."
   ]
  },
  {
   "cell_type": "markdown",
   "metadata": {},
   "source": [
    "**Please describe here *briefly*  (please edit this cell)**\n",
    "\n",
    "1) Your business problem to solve:\n",
    "\n",
    "    Understand when an article, published online, is likely to be \"popular\" in comparison to other articles released in similar formats.  More precisely, the goal is to predict--before publication--when an article is likely to be unpopular.\n",
    "\n",
    "2) Why the problem is important to solve? \n",
    "\n",
    "    Text-based content (articles, news, blogs, etc.) is now largely consumed via online platforms.  Without hard-copy sales numbers (as in the case of books and newspapers) to judge performance, those producing this content still need to understand the popularity of the articles they produce.  A method of understanding likely pupularity, before publication, can be extremely useful in deciding which content to release, as well as in attracting potential advertisers.\n",
    "\n",
    "\n",
    "3) What is your idea to solve the problem? \n",
    "\n",
    "    Social media platforms have become the primary outlet for many to share their opinions.  Thus while there are many measures to judge an articles \"popularity\" (such as page-visits, or external links) we choose to use the number of shares via social media as our metric of \"popularity.\"\n",
    "    \n",
    "    Moreover, while the specific words in an article influence the reader's enjoyment, the structure of the article itself also plays a role in its popularity.  For example, perhaps longer articles are not read when published on a Monday.  Technology articles with very short titles may not generate interest.  Rather than considering the individual tokens within the text, we will used structure-based analysis.\n",
    "\n",
    "\n",
    "4) What differences you could make with your data science approach?\n",
    "\n",
    "    Utilizing structure-based analytics appeals to all contributors of online content.  Large-scale publications may use our services with confidence that their pre-release content cannot be leaked.  Large amounts of online content is generated by individuals.  Professional bloggers, freelance writers, and \"contributing authors,\" depend on article popularity, and social media buzz, to maintain their careers and attract potential advertisers.  Most such individuals will lack the tools (and skills) to perform data analysis, and thus can benefit from our services.\n",
    "  \n",
    "\n",
    "5) Why do you believe the idea deserves the investment of the \"sharks\"?\n",
    "\n",
    "    Studies indicate that more and more people rely on online outlets to receive news and information.  The amount of content generated online continues to grow as well.  Thus the ability to understand, before release, an article's likelihood of success will become increasingly beneficial to online contributors.  Moreover, using a structure-based approach allows our services to appeal to all sources of online articles, ranging from individuals to large-scale publications.\n",
    "    \n",
    "\n",
    "\n",
    "\n",
    "\n"
   ]
  },
  {
   "cell_type": "markdown",
   "metadata": {},
   "source": [
    "### Problem 2: The Math Part (20 points)"
   ]
  },
  {
   "cell_type": "markdown",
   "metadata": {},
   "source": [
    "Define the business problem as a math problem and design a math solution to the problem.\n"
   ]
  },
  {
   "cell_type": "markdown",
   "metadata": {},
   "source": [
    "**Insert your answers here**\n",
    "\n",
    "\n",
    "1) Problem formulation in Math:\n",
    "\n",
    "\n",
    "\n",
    "\n",
    "2) Math Solution:\n",
    "\n",
    "\n",
    "\n",
    "\n",
    "\n",
    "\n",
    "3) Implementation of the Solution\n"
   ]
  },
  {
   "cell_type": "code",
   "execution_count": 59,
   "metadata": {
    "collapsed": false
   },
   "outputs": [],
   "source": [
    "# your code here\n",
    "\n",
    "\n"
   ]
  },
  {
   "cell_type": "markdown",
   "metadata": {},
   "source": [
    "### Problem 3: The Hacking Part  (20 points)\n"
   ]
  },
  {
   "cell_type": "markdown",
   "metadata": {},
   "source": [
    "* Data Collection\n",
    "* Implement a small Demo/Prototype/experiment result figures for the \"product\" of your data science company. You could use this demo during the Pitch"
   ]
  },
  {
   "cell_type": "code",
   "execution_count": 60,
   "metadata": {
    "collapsed": false
   },
   "outputs": [],
   "source": [
    "# your code here\n",
    "\n",
    "\n",
    "\n",
    "\n"
   ]
  },
  {
   "cell_type": "markdown",
   "metadata": {},
   "source": [
    "*------------------------\n",
    "\n",
    "### Problem 4: Prepare a 90 second Pitch and *present* it in the class (20 points)\n",
    "\n",
    "* Prepare the slide(s) for the Pitch (10 points)\n",
    "* Present it in the class (10 points).\n",
    "\n",
    "*Advice:  It should really only be one or two slides, but a really good one or two slides!  Also, it is ok to select one person on the team to give the 90 second pitch (though a very organized multi-person 90 second pitch can be very impressive!) *\n",
    "\n"
   ]
  },
  {
   "cell_type": "markdown",
   "metadata": {},
   "source": [
    "# Report: communicate the results (20 points)\n",
    "\n",
    "(1) (5 points) What is your business proposition?\n",
    "\n",
    "(2) (5 points) Why this topic is interesting or important to you? (Motivations)\n",
    "\n",
    "(3) (5 points) How did you analyse the data?\n",
    "\n",
    "(4) (5 points) How does your analysis support your business proposition?\n",
    "(please include figures or tables in the report, but no source code)"
   ]
  },
  {
   "cell_type": "markdown",
   "metadata": {},
   "source": [
    "# Slides (for 10 minutes of presentation) (20 points)\n",
    "\n",
    "\n",
    "1. (5 points) Motivation about the data collection, why the topic is interesting to you. \n",
    "\n",
    "2. (10 points) Communicating Results (figure/table)\n",
    "\n",
    "3. (5 points) Story telling (How all the parts (data, analysis, result) fit together as a story?)"
   ]
  },
  {
   "cell_type": "markdown",
   "metadata": {},
   "source": [
    "*-----------------\n",
    "# Done\n",
    "\n",
    "All set! \n",
    "\n",
    "** What do you need to submit?**\n",
    "\n",
    "* **Notebook File**: Save this IPython notebook, and find the notebook file in your folder (for example, \"filename.ipynb\"). This is the file you need to submit. Please make sure all the plotted tables and figures are in the notebook. If you used \"ipython notebook --pylab=inline\" to open the notebook, all the figures and tables should have shown up in the notebook.\n",
    "\n",
    "\n",
    "* **PPT Slides**: **NOTE, for this Case Study you need to prepare two (2) PPT files!**  One for the 90 second Pitch and one for a normal 10 minute presentation.\n",
    "\n",
    "* ** Report**: please prepare a report (less than 10 pages) to report what you found in the data.\n",
    "\n",
    "     (please include figures or tables in the report, but no source code)\n",
    "\n",
    "*Please compress all the files into a single zipped file.*\n",
    "\n",
    "\n",
    "** How to submit: **\n",
    "\n",
    "        Send an email to rcpaffenroth@wpi.edu with the subject: \"[DS501] Case study 4\"."
   ]
  },
  {
   "cell_type": "code",
   "execution_count": null,
   "metadata": {
    "collapsed": true
   },
   "outputs": [],
   "source": []
  }
 ],
 "metadata": {
  "kernelspec": {
   "display_name": "Python 2",
   "language": "python",
   "name": "python2"
  },
  "language_info": {
   "codemirror_mode": {
    "name": "ipython",
    "version": 2
   },
   "file_extension": ".py",
   "mimetype": "text/x-python",
   "name": "python",
   "nbconvert_exporter": "python",
   "pygments_lexer": "ipython2",
   "version": "2.7.10"
  }
 },
 "nbformat": 4,
 "nbformat_minor": 0
}
