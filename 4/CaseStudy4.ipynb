{
 "cells": [
  {
   "cell_type": "markdown",
   "metadata": {},
   "source": [
    "### Case Study 4 :  Data Science Shark Tank:  Pitch Your Ideas\n",
    "\n",
    "** Due Date: April 27, 6pm**\n",
    "<img src=\"https://cp.inkrefuge.com/images%5Cpressreleases/shark%20tank_large.jpg\" width=\"400px\"> "
   ]
  },
  {
   "cell_type": "markdown",
   "metadata": {},
   "source": [
    "After the previous 3 case studies,  your team has now equipped with all the three powerful skills of data science: Hacking skill, Business skill and Math skill. In this project, your team is going to make use of these skills to come up with an idea of a new business/startup based upon data science technology. Your goal is to design a better service/solution on any data you like, develop a prototype/demo and prepare a pitch for your idea.\n",
    "* Your team needs to decide which business problem is important for the market you are joining in (for example, social media market, housing market, search market, etc.).\n",
    "* Then design a data science approach to improve one of the current services or design a new service on any data that you choose.\n",
    "* The solution should include all the three components of data science: 1) the business part to analyze the potential impact of your new/improved service, why the idea can make money, how much are you evaluating the company; How are you planing to persuade the sharks to invest in your business; 2) the mathematical part to formulate the problem and develop math solution; 3) the programming part to collect the data, implement the math solution, and develop the prototype/demo.\n"
   ]
  },
  {
   "cell_type": "markdown",
   "metadata": {},
   "source": [
    "# Background about Elevator Pitch (90 seconds) and Shark Tank"
   ]
  },
  {
   "cell_type": "code",
   "execution_count": 36,
   "metadata": {
    "collapsed": false
   },
   "outputs": [
    {
     "data": {
      "image/jpeg": "[encoded data removed]",
      "text/html": [
       "\n",
       "        <iframe\n",
       "            width=\"400\"\n",
       "            height=\"300\"\n",
       "            src=\"https://www.youtube.com/embed/mrSmaCo29U4\"\n",
       "            frameborder=\"0\"\n",
       "            allowfullscreen\n",
       "        ></iframe>\n",
       "        "
      ],
      "text/plain": [
       "<IPython.lib.display.YouTubeVideo at 0xa754da0>"
      ]
     },
     "execution_count": 36,
     "metadata": {},
     "output_type": "execute_result"
    }
   ],
   "source": [
    "from IPython.display import YouTubeVideo\n",
    "YouTubeVideo(\"mrSmaCo29U4\")"
   ]
  },
  {
   "cell_type": "code",
   "execution_count": 37,
   "metadata": {
    "collapsed": false
   },
   "outputs": [
    {
     "data": {
      "image/jpeg": "[encoded data removed]",
      "text/html": [
       "\n",
       "        <iframe\n",
       "            width=\"400\"\n",
       "            height=\"300\"\n",
       "            src=\"https://www.youtube.com/embed/xIq8Sg59UdY\"\n",
       "            frameborder=\"0\"\n",
       "            allowfullscreen\n",
       "        ></iframe>\n",
       "        "
      ],
      "text/plain": [
       "<IPython.lib.display.YouTubeVideo at 0x108010b8>"
      ]
     },
     "execution_count": 37,
     "metadata": {},
     "output_type": "execute_result"
    }
   ],
   "source": [
    "YouTubeVideo(\"xIq8Sg59UdY\")"
   ]
  },
  {
   "cell_type": "markdown",
   "metadata": {},
   "source": [
    "### Two videos on storytelling"
   ]
  },
  {
   "cell_type": "markdown",
   "metadata": {},
   "source": [
    "https://video.wpi.edu/Watch/g2T4NjBn"
   ]
  },
  {
   "cell_type": "markdown",
   "metadata": {},
   "source": [
    "https://video.wpi.edu/Watch/q2A6Dbg3"
   ]
  },
  {
   "cell_type": "markdown",
   "metadata": {},
   "source": [
    "\n",
    "**Optional Readings:** \n",
    "* LinkedIn API: https://developer.linkedin.com/docs/rest-api\n",
    "* Zillow API: https://pypi.python.org/pypi/pyzillow\n",
    "* Google Map API: https://developers.google.com/api-client-library/python/apis/mapsengine/v1?hl=en\n",
    "* More APIs: https://github.com/ptwobrussell/Mining-the-Social-Web-2nd-Edition\n",
    "\n",
    "\n",
    "** Python libraries you may want to use:**\n",
    "* Scikit-learn (http://scikit-learn.org): machine learning tools in Python.\n",
    "\n",
    "** Data sources:**\n",
    "* UCI Machine Learning Repository: http://archive.ics.uci.edu/ml/ \n",
    "* Statlib datasets: http://lib.stat.cmu.edu/\n",
    "* Kaggel: www.kaggle.com \n",
    "* Open Gov. Data: www.data.gov, www.data.gov.uk, www.data.gov.fr, http://opengovernmentdata.org/data/catalogues/   \n",
    "\n",
    "** NOTE **\n",
    "* Please don't forget to save the notebook frequently when working in IPython Notebook, otherwise the changes you made can be lost.\n",
    "\n",
    "*----------------------"
   ]
  },
  {
   "cell_type": "markdown",
   "metadata": {},
   "source": [
    "### Problem 1: the Business Part (20 points)\n",
    " As a group, learn about the data science related business and research about the current markets: such as search, social media, advertisement, recommendation and so on.\n",
    "Pick one of the markets for further consideration, and design a new service  which you believe to be important in the market. \n",
    "Define precisely in the report and briefly in the cells below, what is the business problem that your team wants to solve.\n",
    "Why the problem is important to solve? \n",
    "Why you believe you could make a big difference with data science technology.\n",
    "How are you planing to persuade the investors to buy in your idea.\n",
    "\n",
    "**Please describe here *briefly*  (please edit this cell)**\n",
    "\n",
    "1) Your business problem to solve:\n",
    "\n",
    "Understand when an article, published online, is likely to be \"popular\" in comparison to other articles released in similar formats.  More precisely, the goal is to predict--before publication--whether an article is likely to be unpopular.\n",
    "\n",
    "2) Why the problem is important to solve? \n",
    "\n",
    "Text-based content (articles, news, blogs, etc.) is now largely consumed via online platforms.  Without hard-copy sales numbers (as in the case of books and newspapers) to judge performance, those producing this content still need to understand the popularity of the articles they publish.  A method of understanding likely popularity, before publication, can be extremely useful in deciding which content to release, as well as in attracting potential advertisers.\n",
    "\n",
    "\n",
    "3) What is your idea to solve the problem? \n",
    "\n",
    "Social media platforms have become the primary outlet for many to share their opinions.  Thus while there are many measures to judge an articles \"popularity\" (such as page-visits, or external links) we choose to use the number of shares via social media as our metric of \"popularity.\"\n",
    "    \n",
    "Moreover, while the specific words in an article influence the reader's enjoyment, the structure of the article itself also plays a role in its popularity.  For example, perhaps longer articles are not read when published on a Monday.  Technology articles with very short titles may not generate interest.  Rather than considering the individual tokens within the text, we will used structure-based analysis.\n",
    "\n",
    "Lastly, we will use ensemble-learning to make final predictions.  While this may sacrifice some accuracy, it will help to decrease false negatives (the costly real-world mistake in this problem).\n",
    "\n",
    "\n",
    "4) What differences you could make with your data science approach?\n",
    "\n",
    "The use of structure-based article statistics offer a few advantages.  First, this data can be computed and compared for all articles, regardless of the number available.  This is especially useful if the number of training articles is small: there may be little (or no relevant) overlap in the individual text tokens.  Second, choosing these predictors keeps our data low-dimensional.  The number of token-based predictors for a collection of texts grows very quickly, resulting in very high-dimensional data.  Fixing a number of structure-based predictors bounds the dimension of our data, giving us a better chance for accurate prediction.  Lastly, these structure-based statistics offer interpretability: this could lead to suggestion features in our software (such as \"increasing the title length will improve popularity\" or \"use shorter words in the first and last sentence to improve popularity\").\n",
    "  \n",
    "\n",
    "5) Why do you believe the idea deserves the investment of the \"sharks\"?\n",
    "\n",
    "Studies indicate that more and more people rely on online outlets to receive news and information.  The amount of content generated online continues to grow as well.  Thus the ability to understand, before release, an article's likelihood of success will become increasingly beneficial to online contributors.  Utilizing structure-based analytics appeals to all contributors of online content.  Large-scale publications may use our services with confidence that their pre-release content cannot be leaked.  Large amounts of online content is generated by individuals.  Professional bloggers, freelance writers, and \"contributing authors,\" depend on article popularity, and social media buzz, to maintain their careers and attract potential advertisers.  Most such individuals will lack the tools (and skills) to perform data analysis, and thus can benefit from our services.\n",
    "\n",
    "Perhaps most important to potential investors, we are the first pre-release publication service offered in the market: news Media generated $63 Billion in US revenue last year."
   ]
  },
  {
   "cell_type": "markdown",
   "metadata": {},
   "source": [
    "---"
   ]
  },
  {
   "cell_type": "markdown",
   "metadata": {},
   "source": [
    "### Problem 2: The Math Part (20 points)\n",
    "\n",
    "Define the business problem as a math problem and design a math solution to the problem."
   ]
  },
  {
   "cell_type": "markdown",
   "metadata": {},
   "source": [
    "### 1) Problem formulation in Math"
   ]
  },
  {
   "cell_type": "markdown",
   "metadata": {},
   "source": [
    "As described in the previous part, our goal is to predict the \"popularity\" of an online news article, based on structural features of the text.  To begin, we must determine an appropriate metric of \"popularity.\"  Social media platforms are a primary outlet in which we express our opinions: we often \"share\" an online article that we believe others should read.  Thus \"shares\" on social media can be used to estimate popularity.  We will consider two metrics of popularity based on \"shares\":\n",
    "\n",
    "#### Popularity\n",
    "The raw number of shares an article receives.  This metric is only relevant given a base-line number of shares for other articles posted in similar formats.\n",
    "\n",
    "#### Buzz-Factor\n",
    "While the total number of shares an article receives can be used to estimate popularity, the speed at which those shares are generated is also of interest.  Suppose articles A and B each receive 2,000 shares.  If article A generated those shares over 6 months, while article B gained the same shares in only 2 days, article B can be judged as more \"popular.\"  The number of shares received per day, an estimate of the share-rate, will be referred to as buzz-factor.\n",
    "\n",
    "We focus our analysis even further.  It would certainly be useful to be able to estimate the *extent* of an articles popularity, of the utmost interest of content producers is being able to anticipate when an article is *unpopular*.  That is, while it would be convenient to predict whether an article receives 1,500 as opposed to 1,200 shares, it is more important to authors/publishers to predict when an article will receive *very low* numbers of shares.  In this case, it is worthwhile to consider changing the format of the article, or perhaps not releasing the content at all.  Therefore, our aim is to predict when an article will be *unpopular* or generate *no buzz*.  Once again we must define these terms mathematically.\n",
    "\n",
    "#### Unpopular\n",
    "Our metric of popularity is number of shares.  We consider an article to be *unpopular* if, among other articles of similar formats, it generates a number of shares which is in the bottom 25%.  That is, given a collection of articles, the unpopular articles are those in percentiles 0-25 in number of shares.\n",
    "\n",
    "#### No-Buzz\n",
    "Our metric of popularity is number of shares per day.  We consider an article to have *no buzz* if, among other articles of similar formats, it generates a buzz which is in the bottom 25%.  That is, given a collection of articles, the articles with no-buzz are those in percentiles 0-25 in number of shares.\n",
    "\n",
    "Therefore, our business problem can be phrased mathematically as follows:\n",
    "\n",
    "#### *Given a collection of online news arctiles (of similar formats or origin) predict, which among those, will rank in the bottom 25% in numbers of shares or number of shares per day.*\n"
   ]
  },
  {
   "cell_type": "markdown",
   "metadata": {},
   "source": [
    "### 2) Math Solution"
   ]
  },
  {
   "cell_type": "markdown",
   "metadata": {},
   "source": [
    "We make a deliberate choice of how to transform articles into data for analysis.  Specifically, we choose to compute attributes based on the structure of the article, as opposed to the textual content.  This offers a few advantages:\n",
    "\n",
    "* If the sample size of comparable articles is small, there may be little (or at least little relevant) overlap in the tokens contained within the text.\n",
    "* Attributes based on the structure of an article may be computed for any text, and are comparable in a meaningful way regardless of the number of similar documents available.\n",
    "* Software can be sent to customers which inputs an article, and outputs a set of structure-based attributes.  This data can then be relayed to our services for analyis.  This enables us to perform data analysis without needing access to the original text, thereby protecting the unpublished content of our customers.\n",
    "\n",
    "#### Attributes\n",
    "\n",
    "The following attributes are computed for training (comparable) articles:\n",
    "* Number of \"Shares\" on social media ('shares')\n",
    "* Number of days since publication ('timedelta')\n",
    "\n",
    "The following attributes are computed for training and testing articles:\n",
    "* Number of words in the Title ('n_tokens_title')\n",
    "* Number of words in the text body ('n_tokens_content',)\n",
    "* Number of unique words in the text body ('n_unique_tokens')\n",
    "* Number of unique non-stop words in the text body ('n_non_stop_unique_tokens')\n",
    "* Number of videos included in the article ('num_videos')\n",
    "* Number of images included in the article ('num_imgs')\n",
    "* Average word length ('average_token_length')\n",
    "* Number of keywords associated with the article ('num_keywords')\n",
    "* Genre of the article (As 6 dummy variables)\n",
    "    * 'is_lifestyle','is_entertainment','is_business','is_social_media','is_tech','is_world'\n",
    "* Day of the week of publication (As 8 dummy variables)\n",
    "    * 'is_monday','is_tuesday','is_wednesday','is_thursday','is_friday','is_saturday','is_sunday'\n",
    "    * 'is_weekend'\n",
    "* Text subjectivity ('global_subjectivity')\n",
    "* Overal text polarity ('global_sentiment_polarity')\n",
    "* Rate of positive words in the content ('global_rate_positive_words')\n",
    "* Rate of negative words in the content ('global_rate_negative_words')\n",
    "* Rate of positive words among non-neutral ('tokens rate_positive_words')\n",
    "* Rate of negative words among non-neutral tokens ('rate_negative_words')\n",
    "* Avg. polarity of positive words ('avg_positive_polarity')\n",
    "* Min. polarity of positive words ('min_positive_polarity')\n",
    "* Max. polarity of positive words ('max_positive_polarity')\n",
    "* Avg. polarity of negative words ('avg_negative_polarity')\n",
    "* Min. polarity of negative words ('min_negative_polarity ')\n",
    "* Max. polarity of negative words ('max_negative_polarity')\n",
    "* Title Subjectivity ('title_subjectivity')\n",
    "* Title Polarity ('title_sentiment_polarity')\n",
    "\n",
    "For each training article, we split the articles into four \"popularity\" bins based on percentile of 'shares'\n",
    "* 0-25%-- \"Unpopular\"\n",
    "* 25%-50%-- \"Mildly Popular\"\n",
    "* 50%-75%--\"Popular\"\n",
    "* 75%-100%-- \"Very Popular\"\n",
    "We store the popularity classification as an additional attribute ('popularity')\n",
    "\n",
    "For each training article, we compute a 'buzz_factor' attribute,\n",
    "* buzz_factor = 'shares'/'timedelta'\n",
    "\n",
    "For each training article we divide the articles into four \"buzz\" bins based on percentile of 'buzz factor'\n",
    "* 0-25% \"No Buzz\"\n",
    "* 25%-50% \"Some Buzz\"\n",
    "* 50%-75% \"Buzz\"\n",
    "* 75%-100% \"Lots of Buzz\"\n",
    "We store the \"buzz\" classification as an additional attribute, ('buzz')\n",
    "\n",
    "#### Target Variables\n",
    "Our goal is to predict whether or not an article will be \"unpopular\" or generate \"no buzz.\"  Therefore we generate two boolean variables,\n",
    "* 'unpopular' (Takes value 'True' if 'popularity' = \"unpopular\")\n",
    "* 'no_buzz' (Takes vale 'True' if 'buzz' = \"no_buzz\")\n",
    "\n",
    "#### Feature Selection\n",
    "After all attribute constructions (including a number of dummy variables for classification), our data has approximately 50 predictors.  In order to aid in interpretability of results, we reduce the number of features considered to 10.  We perform this process twice, by using a feature-importance metric to determine those which are most relevant to the target variables ('unpopular', and 'no_buzz').  This is done using the ExtraTreesClassifier on a set of training documents.  The ExtraTreesClassifier is a \"class [that] implements a meta estimator that fits a number of randomized decision trees (a.k.a. extra-trees) on various sub-samples of the dataset and use averaging to improve the predictive accuracy and control over-fitting\" [Per sklearn documentation].  This class includes a feature_importance attribute, from which we extract the top 10 features.\n",
    "\n",
    "#### Machine Learning\n",
    "We now train machine-learning algorithms on the set of (features computed for the ) training documents.  For each target variable, these models only consider the top 10 features determined in the previous step. Our method considers two machine learning algorithms:\n",
    "* Random Forest Classifier\n",
    "* KNN (k chosen by cross-validation)\n",
    "\n",
    "#### Prediction\n",
    "We use ensemble learning to make predictions.  Given a test article, the machine learning methods above are trained on a set of articles of a similar format or origin.  In order to predict whether the test article will be \"unpopular\" or generate \"no_buzz\" each of the three algorithms make a prediction.  We predict that an article is \"unpopular\" if EITHER of the trained models predict that it is unpopular.  This method likely does not produce the highest accuracy, HOWEVER, it acts to minimize false negatives.  That is, by predicting an article is \"unpopular\" if either of the models predicts \"unpopular\", it serves to DECREASE the number of arcticles which are unpopular that we (incorrectly) predict as \"popular.\"  Predicting an unpopular article as \"popular\" is the more expensive error within real world settings: this method acts to decrease such mistakes."
   ]
  },
  {
   "cell_type": "markdown",
   "metadata": {},
   "source": [
    "#### 3) Implementation of the Solution"
   ]
  },
  {
   "cell_type": "code",
   "execution_count": null,
   "metadata": {
    "collapsed": true
   },
   "outputs": [],
   "source": [
    "# NOTE: THIS CODE IS NOT TO BE RUN, AS IT HAS NO DATA!  IT IS THE SHELL FOR THE CODE, WHICH WILL BE RUN IN PROBLEM 3."
   ]
  },
  {
   "cell_type": "code",
   "execution_count": null,
   "metadata": {
    "collapsed": true
   },
   "outputs": [],
   "source": [
    "# GATHERING DATA FROM A WEB ARTICLE & EXTRACTING FEATURES"
   ]
  },
  {
   "cell_type": "code",
   "execution_count": null,
   "metadata": {
    "collapsed": true
   },
   "outputs": [],
   "source": [
    "# import re\n",
    "# import nltk\n",
    "# import pprint\n",
    "# from urllib import urlopen\n",
    "# from bs4 import BeautifulSoup\n",
    "# from collections import Counter\n",
    "\n",
    "# # Input your own text\n",
    "# raw = raw_input(\"Enter some text: \")\n",
    "\n",
    "# # Online articles\n",
    "# url = \"http://www.foxnews.com/science/2016/04/22/nasa-marks-hubbles-birthday-with-this-captivating-image.html\"\n",
    "# html = urlopen(url).read()\n",
    "# raw2 = BeautifulSoup(html).get_text()\n",
    "\n",
    "# # Add to temporary local file\n",
    "# f = open('text.txt', 'r')\n",
    "# raw3 = f.read()\n",
    "# f.close()"
   ]
  },
  {
   "cell_type": "code",
   "execution_count": null,
   "metadata": {
    "collapsed": true
   },
   "outputs": [],
   "source": [
    "# # Filter stopwords\n",
    "# stopwords = nltk.corpus.stopwords.words('english')\n",
    "# text= [w for w in raw3 if w.lower() not in stopwords]\n",
    "    \n",
    "# # Number of words in title\n",
    "# title=[t for t in raw3 if t.istitle()]\n",
    "# wordcounttitle = Counter(title.split( ))\n",
    "# n_tokens_title=len(wordcounttitle)\n",
    "\n",
    "# # Number of words in the text body\n",
    "# wordcount = Counter(raw3.split( ))\n",
    "# n_tokens_content=len(wordcount)\n",
    "# n_tokens_content\n",
    "\n",
    "# # Number of unique words in text body\n",
    "# n_unique_tokens=len(set(raw3))\n",
    "# n_unique_tokens\n",
    "\n",
    "# #number of unique non-stop words in text body\n",
    "# n_non_stop_unique_tokens=len(set(text))\n",
    "# n_non_stop_unique_tokens\n",
    "\n",
    "# #average word length for original text\n",
    "# average_token_length=len(text)/n_tokens_content\n",
    "# average_token_length\n",
    "\n",
    "# # Text subjectivity\n",
    "# from textblob import TextBlob\n",
    "# Global_subjectivity=TextBlob(text).sentiment.subjectivity\n",
    "\n",
    "# # Overall text poluarity\n",
    "# Global_sentiment_polarity=TextBlob(text).sentiment.polarity"
   ]
  },
  {
   "cell_type": "code",
   "execution_count": null,
   "metadata": {
    "collapsed": true
   },
   "outputs": [],
   "source": [
    "#FEATURE IMPORTANCE"
   ]
  },
  {
   "cell_type": "code",
   "execution_count": null,
   "metadata": {
    "collapsed": true
   },
   "outputs": [],
   "source": [
    "#INPUTS:\n",
    "#   df: data frame containing the (structure) features for the training data.\n",
    "#   feautures: list of (non-response) features\n",
    "#   target: target variable"
   ]
  },
  {
   "cell_type": "code",
   "execution_count": null,
   "metadata": {
    "collapsed": true
   },
   "outputs": [],
   "source": [
    "#feature_selection_model = ExtraTreesClassifier().fit(df[features], df['unpopular'])\n",
    "#feature_importance=feature_selection_model.feature_importances_\n",
    "#importance_matrix=np.array([features,list(feature_importance)]).T\n",
    "\n",
    "#def sortkey(s):\n",
    "#    return s[1]\n",
    "\n",
    "#sort=zip(features,list(feature_importance))\n",
    "#f = pd.DataFrame(sorted(sort,key=sortkey,reverse=True),columns=['variables','importance'])[:10]"
   ]
  },
  {
   "cell_type": "code",
   "execution_count": null,
   "metadata": {
    "collapsed": true
   },
   "outputs": [],
   "source": [
    "# EXTRACT TOP FEATURES, DETERMINE TRAINING DOCUMENTS"
   ]
  },
  {
   "cell_type": "code",
   "execution_count": null,
   "metadata": {
    "collapsed": true
   },
   "outputs": [],
   "source": [
    "#features2=f['variables']\n",
    "\n",
    "#split data into two parts\n",
    "#np.random.seed(0)\n",
    "#x_train, x_test, y_train, y_test = train_test_split(df[features2], df.unpopular, test_size=0.4, random_state=None)\n",
    "#x_train.shape"
   ]
  },
  {
   "cell_type": "code",
   "execution_count": null,
   "metadata": {
    "collapsed": true
   },
   "outputs": [],
   "source": [
    "# ENSEMBLE LEARNING"
   ]
  },
  {
   "cell_type": "code",
   "execution_count": null,
   "metadata": {
    "collapsed": true
   },
   "outputs": [],
   "source": [
    "# Random Forest "
   ]
  },
  {
   "cell_type": "code",
   "execution_count": null,
   "metadata": {
    "collapsed": true
   },
   "outputs": [],
   "source": [
    "#print \"RandomForest\"\n",
    "#rf = RandomForestClassifier(n_estimators=100,n_jobs=1)\n",
    "#clf_rf = rf.fit(x_train,y_train)\n",
    "#y_predicted_rf = clf_rf.predict(x_test)"
   ]
  },
  {
   "cell_type": "code",
   "execution_count": null,
   "metadata": {
    "collapsed": true
   },
   "outputs": [],
   "source": [
    "# K-NN: "
   ]
  },
  {
   "cell_type": "code",
   "execution_count": null,
   "metadata": {
    "collapsed": true
   },
   "outputs": [],
   "source": [
    "# Determine K by cross-validation.\n",
    "#x_cv_train, x_cv_test, y_cv_train, y_cv_test = train_test_split(x_train, y_train, test_size=0.3, random_state=None)\n",
    "\n",
    "# We use K-values ranging from 1-10\n",
    "# k=[5,10,15,20,25,30,35,40,45,50]\n",
    "\n",
    "# Train a model on the trainng set and use that model to predict on the testing set\n",
    "# predicted_knn=[KNeighborsClassifier(n_neighbors=i).fit(x_cv_train,y_cv_train).predict(x_cv_test) for i in k]\n",
    "\n",
    "#Compute accuracy on the testing set for each value of k\n",
    "#score_knn=[metrics.accuracy_score(predicted_knn[i],y_cv_test) for i in range(10)]\n",
    "\n",
    "# Plot accuracy on the test set vs. k\n",
    "#fig=plt.figure(figsize=(8,6))\n",
    "#plt.plot([5,10,15,20,25,30,35,40,45,50], score_knn, 'bo--',label='knn')\n",
    "#plt.xlabel('K')\n",
    "#plt.ylabel('score')"
   ]
  },
  {
   "cell_type": "code",
   "execution_count": 1,
   "metadata": {
    "collapsed": true
   },
   "outputs": [],
   "source": [
    "# Make predictions based on the best model above\n",
    "# y_predicted_knn = KNeighborsClassifier(n_neighbors=6).fit(x_train,y_train).predict(x_test)"
   ]
  },
  {
   "cell_type": "code",
   "execution_count": 59,
   "metadata": {
    "collapsed": false
   },
   "outputs": [],
   "source": [
    "####FINAL PREDICTIONS: ENSEMBLE LEARNING\n",
    "#y_predicted = y_predicted_knn + y_predicted_rf\n",
    "#cm = metrics.confusion_matrix(y_test, y_predicted)\n",
    "#print(cm)\n",
    "#plt.matshow(cm)\n",
    "#plt.title('Confusion matrix')\n",
    "#plt.colorbar()\n",
    "#plt.ylabel('True label')\n",
    "#plt.xlabel('Predicted label')\n",
    "#plt.show()\n",
    "\n",
    "#print 'Prediction Accuracy'\n",
    "#print (cm[0,0]+cm[1,1])/float(cm[0,0] + cm[0,1] + cm[1,0] + cm[1,1])"
   ]
  },
  {
   "cell_type": "markdown",
   "metadata": {},
   "source": [
    "### Problem 3: The Hacking Part  (20 points)\n",
    "\n",
    "\n",
    "* Data Collection\n",
    "* Implement a small Demo/Prototype/experiment result figures for the \"product\" of your data science company. You could use this demo during the Pitch"
   ]
  },
  {
   "cell_type": "markdown",
   "metadata": {},
   "source": [
    "### Global Imports & Variables"
   ]
  },
  {
   "cell_type": "code",
   "execution_count": 1,
   "metadata": {
    "collapsed": false
   },
   "outputs": [],
   "source": [
    "%matplotlib inline\n",
    "import pandas as pd\n",
    "import numpy as np\n",
    "import matplotlib.pyplot as plt\n",
    "\n",
    "csv_path = 'data/OnlineNewsPopularity.csv'\n",
    "hdf_path = 'data/online_news_popularity.h5'\n",
    "\n",
    "blue = '#5898f1'\n",
    "green = '#00b27f'\n",
    "yellow = '#FEC04C'\n",
    "red = '#fa5744'"
   ]
  },
  {
   "cell_type": "markdown",
   "metadata": {},
   "source": [
    "### Download data, unzip, and save .csv"
   ]
  },
  {
   "cell_type": "code",
   "execution_count": 28,
   "metadata": {
    "collapsed": false
   },
   "outputs": [
    {
     "name": "stdout",
     "output_type": "stream",
     "text": [
      "Downloading data ...\n",
      "Request status: 200\n",
      "Unzipping ...\n",
      "Saving into data/OnlineNewsPopularity.csv\n"
     ]
    }
   ],
   "source": [
    "import requests, StringIO, csv, zipfile, sys\n",
    "\n",
    "url = 'http://archive.ics.uci.edu/ml/machine-learning-databases/00332/OnlineNewsPopularity.zip'\n",
    "request = requests.get(url)\n",
    "print \"Downloading data ...\\nRequest status: {}\".format(request.status_code)\n",
    "archive = ZipFile(StringIO.StringIO(request.content))\n",
    "print \"Unzipping ...\"\n",
    "csv_data = archive.read('OnlineNewsPopularity/OnlineNewsPopularity.csv', 'r')\n",
    "\n",
    "outfile = file(csv_path, 'w')\n",
    "outfile.write(csv_data)\n",
    "print \"Saving into {}\".format(csv_path)\n",
    "outfile.close()"
   ]
  },
  {
   "cell_type": "markdown",
   "metadata": {},
   "source": [
    "### Read .csv file into Pandas Data Frame &  save into HDF5 (Hierarchical Data Format)"
   ]
  },
  {
   "cell_type": "code",
   "execution_count": 2,
   "metadata": {
    "collapsed": false
   },
   "outputs": [],
   "source": [
    "# Read .csv file into data frame\n",
    "data_frame = pd.read_csv(csv_path, sep=', ', engine='python')\n",
    "\n",
    "# Rename *channel* columns\n",
    "data_frame.rename(columns={\n",
    "        'data_channel_is_lifestyle': 'is_lifestyle',\n",
    "        'data_channel_is_entertainment': 'is_entertainment',\n",
    "        'data_channel_is_bus': 'is_business',\n",
    "        'data_channel_is_socmed': 'is_social_media',\n",
    "        'data_channel_is_tech': 'is_tech',\n",
    "        'data_channel_is_world': 'is_world',\n",
    "    }, inplace=True)\n",
    "\n",
    "# Rename *weekday* columns\n",
    "data_frame.rename(columns={\n",
    "        'weekday_is_monday': 'is_monday',\n",
    "        'weekday_is_tuesday': 'is_tuesday',\n",
    "        'weekday_is_wednesday': 'is_wednesday',\n",
    "        'weekday_is_thursday': 'is_thursday',\n",
    "        'weekday_is_friday': 'is_friday',\n",
    "        'weekday_is_saturday': 'is_saturday',\n",
    "        'weekday_is_sunday': 'is_sunday',\n",
    "    }, inplace=True)\n",
    "\n",
    "# Store data into HDF5 file\n",
    "data_hdf = pd.HDFStore(hdf_path)\n",
    "data_hdf['data_frame'] = data_frame\n",
    "data_hdf.close()"
   ]
  },
  {
   "cell_type": "markdown",
   "metadata": {},
   "source": [
    "### Read HDF5 file into Pandas Data Frame"
   ]
  },
  {
   "cell_type": "code",
   "execution_count": 3,
   "metadata": {
    "collapsed": false
   },
   "outputs": [
    {
     "data": {
      "text/plain": [
       "['timedelta',\n",
       " 'n_tokens_title',\n",
       " 'n_tokens_content',\n",
       " 'n_unique_tokens',\n",
       " 'n_non_stop_unique_tokens',\n",
       " 'num_hrefs',\n",
       " 'num_self_hrefs',\n",
       " 'num_imgs',\n",
       " 'num_videos',\n",
       " 'average_token_length',\n",
       " 'num_keywords',\n",
       " 'is_lifestyle',\n",
       " 'is_entertainment',\n",
       " 'is_business',\n",
       " 'is_social_media',\n",
       " 'is_tech',\n",
       " 'is_world',\n",
       " 'self_reference_min_shares',\n",
       " 'self_reference_max_shares',\n",
       " 'self_reference_avg_sharess',\n",
       " 'is_monday',\n",
       " 'is_tuesday',\n",
       " 'is_wednesday',\n",
       " 'is_thursday',\n",
       " 'is_friday',\n",
       " 'is_saturday',\n",
       " 'is_sunday',\n",
       " 'is_weekend',\n",
       " 'global_subjectivity',\n",
       " 'global_sentiment_polarity',\n",
       " 'global_rate_positive_words',\n",
       " 'global_rate_negative_words',\n",
       " 'rate_positive_words',\n",
       " 'rate_negative_words',\n",
       " 'avg_positive_polarity',\n",
       " 'min_positive_polarity',\n",
       " 'max_positive_polarity',\n",
       " 'avg_negative_polarity',\n",
       " 'min_negative_polarity',\n",
       " 'max_negative_polarity',\n",
       " 'title_subjectivity',\n",
       " 'title_sentiment_polarity',\n",
       " 'abs_title_subjectivity',\n",
       " 'abs_title_sentiment_polarity',\n",
       " 'shares']"
      ]
     },
     "execution_count": 3,
     "metadata": {},
     "output_type": "execute_result"
    }
   ],
   "source": [
    "# Read .h5 file into data frame\n",
    "data_frame = pd.read_hdf(hdf_path)\n",
    "\n",
    "# Drop columns included in the sample Dataset that are not considered in our methods.\n",
    "data_frame.drop('LDA_00', axis=1, inplace=True)\n",
    "data_frame.drop('LDA_01', axis=1, inplace=True)\n",
    "data_frame.drop('LDA_02', axis=1, inplace=True)\n",
    "data_frame.drop('LDA_03', axis=1, inplace=True)\n",
    "data_frame.drop('LDA_04', axis=1, inplace=True)\n",
    "data_frame.drop('kw_min_min', axis=1, inplace=True)\n",
    "data_frame.drop('kw_max_min', axis=1, inplace=True)\n",
    "data_frame.drop('kw_avg_min', axis=1, inplace=True)\n",
    "data_frame.drop('kw_min_max', axis=1, inplace=True)\n",
    "data_frame.drop('kw_max_max', axis=1, inplace=True)\n",
    "data_frame.drop('kw_avg_max', axis=1, inplace=True)\n",
    "data_frame.drop('kw_min_avg', axis=1, inplace=True)\n",
    "data_frame.drop('kw_max_avg', axis=1, inplace=True)\n",
    "data_frame.drop('kw_avg_avg', axis=1, inplace=True)\n",
    "data_frame.drop('n_non_stop_words', axis=1, inplace=True)\n",
    "data_frame.drop('url', axis=1, inplace=True)\n",
    "\n",
    "# Data frame column headers\n",
    "list(data_frame)"
   ]
  },
  {
   "cell_type": "markdown",
   "metadata": {},
   "source": [
    "#### Remove outliers if applicable"
   ]
  },
  {
   "cell_type": "code",
   "execution_count": 4,
   "metadata": {
    "collapsed": false
   },
   "outputs": [
    {
     "data": {
      "text/plain": [
       "(39130, 45)"
      ]
     },
     "execution_count": 4,
     "metadata": {},
     "output_type": "execute_result"
    }
   ],
   "source": [
    "# keep points that are within +2 to -2 standard deviations in column 'Data'.\n",
    "df = data_frame[data_frame.shares-data_frame.shares.mean()<=(2*data_frame.shares.std())]\n",
    "df.shape"
   ]
  },
  {
   "cell_type": "markdown",
   "metadata": {},
   "source": [
    "Added 'buzz_factor' column: \"Buzz-Factor\" (using shares/day)"
   ]
  },
  {
   "cell_type": "code",
   "execution_count": 5,
   "metadata": {
    "collapsed": false
   },
   "outputs": [],
   "source": [
    "buzz_factor = df['shares'] / df['timedelta']"
   ]
  },
  {
   "cell_type": "markdown",
   "metadata": {},
   "source": [
    "Added 'popularity' column: split # of shares into 4 \"popularity\" bins:\n",
    "\n",
    "* 0-25%-- \"Unpopular\"\n",
    "* 25%-50%-- \"Mildly Popular\"\n",
    "* 50%-75%--\"Popular\"\n",
    "* 75%-100%-- \"Very Popular\""
   ]
  },
  {
   "cell_type": "code",
   "execution_count": 6,
   "metadata": {
    "collapsed": true
   },
   "outputs": [],
   "source": [
    "popularity = pd.qcut(df['shares'], 4,  labels=[\n",
    "        \"Unpopular\",\n",
    "        \"Midly Popular\",\n",
    "        \"Popular\",\n",
    "        \"Very Popular\"\n",
    "    ])"
   ]
  },
  {
   "cell_type": "code",
   "execution_count": 7,
   "metadata": {
    "collapsed": false
   },
   "outputs": [],
   "source": [
    "# Add these two statistics to the Data Frame\n",
    "\n",
    "df.is_copy = False # turn off chain index warning\n",
    "df['buzz_factor'] = buzz_factor.values\n",
    "df['popularity'] = popularity.values"
   ]
  },
  {
   "cell_type": "markdown",
   "metadata": {},
   "source": [
    "Similarly, split *buzz factor* into four percentile bins:\n",
    "* 0-25% \"No Buzz\"\n",
    "* 25%-50% \"Some Buzz\"\n",
    "* 50%-75% \"Buzz\"\n",
    "* 75%-100% \"Lots of Buzz\""
   ]
  },
  {
   "cell_type": "code",
   "execution_count": 8,
   "metadata": {
    "collapsed": false
   },
   "outputs": [],
   "source": [
    "buzz = pd.qcut(df['buzz_factor'], 4,  labels=[\"No Buzz\",\"Some Buzz\",\"Buzz\",\"Lots of Buzz\"])\n",
    "df['buzz']=buzz.values"
   ]
  },
  {
   "cell_type": "markdown",
   "metadata": {},
   "source": [
    "The real quantity of interest here is, in some sense, the LEAST successful articles.  While it is interesting to predict the level of popularity/buzz factor, what we need (at the very least) to be able to do is predict whether an article will be \"unpopular\" or generate \"no buzz.\"  Thus we isolate these two bins."
   ]
  },
  {
   "cell_type": "code",
   "execution_count": 9,
   "metadata": {
    "collapsed": false
   },
   "outputs": [
    {
     "data": {
      "text/plain": [
       "(39130, 50)"
      ]
     },
     "execution_count": 9,
     "metadata": {},
     "output_type": "execute_result"
    }
   ],
   "source": [
    "# Compute Target variables and add to data frame\n",
    "\n",
    "unpopular = df['popularity']== 'Unpopular'\n",
    "df['unpopular'] = unpopular\n",
    "\n",
    "no_buzz = df['buzz']=='No Buzz'\n",
    "df['no_buzz'] = no_buzz\n",
    "\n",
    "df.shape"
   ]
  },
  {
   "cell_type": "code",
   "execution_count": 37,
   "metadata": {
    "collapsed": false
   },
   "outputs": [
    {
     "name": "stdout",
     "output_type": "stream",
     "text": [
      "popularity\n",
      "Unpopular         9798\n",
      "Midly Popular    10284\n",
      "Popular           9573\n",
      "Very Popular      9475\n",
      "Name: shares, dtype: int64\n"
     ]
    },
    {
     "data": {
      "text/plain": [
       "<matplotlib.text.Text at 0x112a0ee50>"
      ]
     },
     "execution_count": 37,
     "metadata": {},
     "output_type": "execute_result"
    },
    {
     "data": {
      "image/png": "[encoded data removed]",
      "text/plain": [
       "<matplotlib.figure.Figure at 0x1129f4c50>"
      ]
     },
     "metadata": {},
     "output_type": "display_data"
    }
   ],
   "source": [
    "# Brief Exploration of the \"Popularity\" classes: Consider mean number of shares per \"popularity\" bin\n",
    "\n",
    "df_popularity = df.pivot_table('shares', index='popularity', aggfunc='mean')\n",
    "df_popularity_count = df.pivot_table('shares', index='popularity', aggfunc='count')\n",
    "print df_popularity_count\n",
    "\n",
    "df_popularity.plot(kind='bar', color=green)\n",
    "plt.title('Article Popularity')\n",
    "plt.ylabel('mean shares')"
   ]
  },
  {
   "cell_type": "code",
   "execution_count": 34,
   "metadata": {
    "collapsed": false
   },
   "outputs": [
    {
     "name": "stdout",
     "output_type": "stream",
     "text": [
      "buzz\n",
      "No Buzz         9784\n",
      "Some Buzz       9787\n",
      "Buzz            9777\n",
      "Lots of Buzz    9782\n",
      "Name: buzz_factor, dtype: int64\n"
     ]
    },
    {
     "data": {
      "text/plain": [
       "<matplotlib.text.Text at 0x1121e8a90>"
      ]
     },
     "execution_count": 34,
     "metadata": {},
     "output_type": "execute_result"
    },
    {
     "data": {
      "image/png": "[encoded data removed]",
      "text/plain": [
       "<matplotlib.figure.Figure at 0x1117a5690>"
      ]
     },
     "metadata": {},
     "output_type": "display_data"
    }
   ],
   "source": [
    "# Brief Exploration of the \"buzz\" classes: Consider mean number of shares per day for each \"buzz\" bin\n",
    "\n",
    "df_buzz = df.pivot_table('buzz_factor', index='buzz', aggfunc='mean')\n",
    "df_buzz_count = df.pivot_table('buzz_factor', index='buzz', aggfunc='count')\n",
    "print df_buzz_count\n",
    "\n",
    "df_buzz.plot(kind='bar', color=green)\n",
    "plt.title('Article Buzz')\n",
    "plt.ylabel('buzz factor')"
   ]
  },
  {
   "cell_type": "code",
   "execution_count": 21,
   "metadata": {
    "collapsed": false
   },
   "outputs": [],
   "source": [
    "# Isolate non-response features\n",
    "\n",
    "all_features = df.columns.values\n",
    "excluded_features = [\n",
    "    'buzz',\n",
    "    'buzz_factor',\n",
    "    'no_buzz',\n",
    "    'popularity',\n",
    "    'shares',\n",
    "    'unpopular'\n",
    "]\n",
    "\n",
    "features = [f for f in all_features if f not in excluded_features]"
   ]
  },
  {
   "cell_type": "markdown",
   "metadata": {},
   "source": [
    "#### Import Sklearn packages."
   ]
  },
  {
   "cell_type": "code",
   "execution_count": 22,
   "metadata": {
    "collapsed": true
   },
   "outputs": [
    {
     "name": "stderr",
     "output_type": "stream",
     "text": [
      "/Users/thomasmeagher/Library/Enthought/Canopy_64bit/User/lib/python2.7/site-packages/sklearn/lda.py:4: DeprecationWarning: lda.LDA has been moved to discriminant_analysis.LinearDiscriminantAnalysis in 0.17 and will be removed in 0.19\n",
      "  \"in 0.17 and will be removed in 0.19\", DeprecationWarning)\n",
      "/Users/thomasmeagher/Library/Enthought/Canopy_64bit/User/lib/python2.7/site-packages/sklearn/qda.py:4: DeprecationWarning: qda.QDA has been moved to discriminant_analysis.QuadraticDiscriminantAnalysis in 0.17 and will be removed in 0.19.\n",
      "  \"in 0.17 and will be removed in 0.19.\", DeprecationWarning)\n"
     ]
    }
   ],
   "source": [
    "from sklearn import preprocessing \n",
    "from sklearn.cross_validation import train_test_split\n",
    "from sklearn.grid_search import GridSearchCV\n",
    "from sklearn.metrics import confusion_matrix\n",
    "from sklearn.decomposition import PCA \n",
    "from sklearn.svm import SVC\n",
    "import pandas as pd\n",
    "from sklearn import metrics\n",
    "from sklearn.metrics import fbeta_score, make_scorer\n",
    "from sklearn.neighbors import KNeighborsClassifier\n",
    "from sklearn.neighbors import RadiusNeighborsClassifier\n",
    "from sklearn.ensemble import ExtraTreesClassifier\n",
    "from sklearn.lda import LDA\n",
    "from sklearn.qda import QDA\n",
    "import numpy as np\n",
    "from sklearn.ensemble import RandomForestClassifier\n",
    "from sklearn.neighbors import NearestNeighbors\n",
    "from sklearn.tree import DecisionTreeClassifier  \n",
    "from sklearn.ensemble import BaggingClassifier\n",
    "from sklearn.svm import LinearSVC\n",
    "from sklearn import cross_validation, metrics\n",
    "from sklearn.naive_bayes import BernoulliNB\n",
    "from time import time"
   ]
  },
  {
   "cell_type": "markdown",
   "metadata": {},
   "source": [
    "# Unpopular Articles"
   ]
  },
  {
   "cell_type": "markdown",
   "metadata": {},
   "source": [
    "At the very least, we want our software to predict whether an article will be unpopular.  In this case, we define Unpopular as belonging in the bottom 25% in terms of shares amongst articles on a similar platform."
   ]
  },
  {
   "cell_type": "code",
   "execution_count": 48,
   "metadata": {
    "collapsed": false
   },
   "outputs": [
    {
     "data": {
      "text/html": [
       "<div>\n",
       "<table border=\"1\" class=\"dataframe\">\n",
       "  <thead>\n",
       "    <tr style=\"text-align: right;\">\n",
       "      <th></th>\n",
       "      <th>variables</th>\n",
       "      <th>importance</th>\n",
       "    </tr>\n",
       "  </thead>\n",
       "  <tbody>\n",
       "    <tr>\n",
       "      <th>0</th>\n",
       "      <td>timedelta</td>\n",
       "      <td>0.042315</td>\n",
       "    </tr>\n",
       "    <tr>\n",
       "      <th>1</th>\n",
       "      <td>n_tokens_title</td>\n",
       "      <td>0.034149</td>\n",
       "    </tr>\n",
       "    <tr>\n",
       "      <th>2</th>\n",
       "      <td>num_keywords</td>\n",
       "      <td>0.033873</td>\n",
       "    </tr>\n",
       "    <tr>\n",
       "      <th>3</th>\n",
       "      <td>global_subjectivity</td>\n",
       "      <td>0.033185</td>\n",
       "    </tr>\n",
       "    <tr>\n",
       "      <th>4</th>\n",
       "      <td>global_rate_positive_words</td>\n",
       "      <td>0.032546</td>\n",
       "    </tr>\n",
       "    <tr>\n",
       "      <th>5</th>\n",
       "      <td>n_non_stop_unique_tokens</td>\n",
       "      <td>0.031968</td>\n",
       "    </tr>\n",
       "    <tr>\n",
       "      <th>6</th>\n",
       "      <td>average_token_length</td>\n",
       "      <td>0.031548</td>\n",
       "    </tr>\n",
       "    <tr>\n",
       "      <th>7</th>\n",
       "      <td>avg_positive_polarity</td>\n",
       "      <td>0.031220</td>\n",
       "    </tr>\n",
       "    <tr>\n",
       "      <th>8</th>\n",
       "      <td>n_unique_tokens</td>\n",
       "      <td>0.031083</td>\n",
       "    </tr>\n",
       "    <tr>\n",
       "      <th>9</th>\n",
       "      <td>global_rate_negative_words</td>\n",
       "      <td>0.031060</td>\n",
       "    </tr>\n",
       "  </tbody>\n",
       "</table>\n",
       "</div>"
      ],
      "text/plain": [
       "                    variables  importance\n",
       "0                   timedelta    0.042315\n",
       "1              n_tokens_title    0.034149\n",
       "2                num_keywords    0.033873\n",
       "3         global_subjectivity    0.033185\n",
       "4  global_rate_positive_words    0.032546\n",
       "5    n_non_stop_unique_tokens    0.031968\n",
       "6        average_token_length    0.031548\n",
       "7       avg_positive_polarity    0.031220\n",
       "8             n_unique_tokens    0.031083\n",
       "9  global_rate_negative_words    0.031060"
      ]
     },
     "execution_count": 48,
     "metadata": {},
     "output_type": "execute_result"
    }
   ],
   "source": [
    "# Rank features by importance\n",
    "feature_selection_model = ExtraTreesClassifier().fit(df[features], df['unpopular'])\n",
    "feature_importance=feature_selection_model.feature_importances_\n",
    "importance_matrix=np.array([features,list(feature_importance)]).T\n",
    "\n",
    "def sortkey(s):\n",
    "    return s[1]\n",
    "\n",
    "sort=zip(features,list(feature_importance))\n",
    "\n",
    "# Extract top 10 important features\n",
    "f = pd.DataFrame(sorted(sort,key=sortkey,reverse=True),columns=['variables','importance'])[:10]\n",
    "f"
   ]
  },
  {
   "cell_type": "code",
   "execution_count": 49,
   "metadata": {
    "collapsed": false
   },
   "outputs": [
    {
     "data": {
      "text/plain": [
       "(23478, 10)"
      ]
     },
     "execution_count": 49,
     "metadata": {},
     "output_type": "execute_result"
    }
   ],
   "source": [
    "features2=f['variables']\n",
    "\n",
    "#split data into two parts\n",
    "np.random.seed(0)\n",
    "x_train, x_test, y_train, y_test = train_test_split(df[features2], df.unpopular, test_size=0.4, random_state=None)\n",
    "x_train.shape"
   ]
  },
  {
   "cell_type": "code",
   "execution_count": 50,
   "metadata": {
    "collapsed": false
   },
   "outputs": [],
   "source": [
    "# Decision Tree accuracy and time elapsed caculation\n",
    "#t0=time()\n",
    "#print \"DecisionTree\"\n",
    "#dt = DecisionTreeClassifier(min_samples_split=25,random_state=1)\n",
    "#clf_dt=dt.fit(x_train,y_train)\n",
    "#y_predicted_dt = clf_dt.predict(x_test)\n",
    "#t1=time()"
   ]
  },
  {
   "cell_type": "code",
   "execution_count": 51,
   "metadata": {
    "collapsed": false
   },
   "outputs": [],
   "source": [
    "# Observe how decision tree performed on its own.\n",
    "#print(metrics.classification_report(y_test, y_predicted_dt))\n",
    "#print \"time elapsed: \", t1-t0"
   ]
  },
  {
   "cell_type": "code",
   "execution_count": 52,
   "metadata": {
    "collapsed": false
   },
   "outputs": [
    {
     "name": "stdout",
     "output_type": "stream",
     "text": [
      "RandomForest\n"
     ]
    }
   ],
   "source": [
    "# Random Forest \n",
    "\n",
    "# Trainc classifier and time elapsed caculation\n",
    "t2=time()\n",
    "\n",
    "print \"RandomForest\"\n",
    "rf = RandomForestClassifier(n_estimators=100,n_jobs=1)\n",
    "clf_rf = rf.fit(x_train,y_train)\n",
    "y_predicted_rf = clf_rf.predict(x_test)\n",
    "t3=time()"
   ]
  },
  {
   "cell_type": "code",
   "execution_count": 53,
   "metadata": {
    "collapsed": false
   },
   "outputs": [
    {
     "name": "stdout",
     "output_type": "stream",
     "text": [
      "Acurracy:  0.749233324815\n",
      "time elapsed:  10.780495882\n"
     ]
    }
   ],
   "source": [
    "# See how Random forest performed on its own.\n",
    "print \"Acurracy: \", clf_rf.score(x_test,y_test)\n",
    "print \"time elapsed: \", t3-t2"
   ]
  },
  {
   "cell_type": "code",
   "execution_count": 54,
   "metadata": {
    "collapsed": false
   },
   "outputs": [
    {
     "name": "stdout",
     "output_type": "stream",
     "text": [
      "[0.69278818852924473, 0.73750709823963656, 0.73324815445769453, 0.74204997160704145, 0.74048835888699605, 0.74531516183986368, 0.74503123225440093, 0.74602498580352072, 0.74545712663259511, 0.7464508801817149]\n"
     ]
    },
    {
     "data": {
      "text/plain": [
       "<matplotlib.text.Text at 0x113ea1150>"
      ]
     },
     "execution_count": 54,
     "metadata": {},
     "output_type": "execute_result"
    },
    {
     "data": {
      "image/png": "[encoded data removed]",
      "text/plain": [
       "<matplotlib.figure.Figure at 0x10dcd5750>"
      ]
     },
     "metadata": {},
     "output_type": "display_data"
    }
   ],
   "source": [
    "#KNN\n",
    "\n",
    "from sklearn.neighbors import KNeighborsClassifier\n",
    "\n",
    "# Determine K by cross-validation.\n",
    "x_cv_train, x_cv_test, y_cv_train, y_cv_test = train_test_split(x_train, y_train, test_size=0.3, random_state=None)\n",
    "\n",
    "# We use K-values ranging from 1-10\n",
    "k=[5,10,15,20,25,30,35,40,45,50]\n",
    "\n",
    "# Train a model on the training set and use that model to predict on the testing set\n",
    "predicted_knn=[KNeighborsClassifier(n_neighbors=i).fit(x_cv_train,y_cv_train).predict(x_cv_test) for i in k]\n",
    "\n",
    "#Compute accuracy on the testing set for each value of k\n",
    "score_knn=[metrics.accuracy_score(predicted_knn[i],y_cv_test) for i in range(10)]\n",
    "\n",
    "print score_knn\n",
    "\n",
    "# Plot accuracy on the test set vs. k\n",
    "fig=plt.figure(figsize=(8,6))\n",
    "plt.plot([5,10,15,20,25,30,35,40,45,50], score_knn, 'bo--',label='knn', color=green)\n",
    "plt.title('Unpopular K-NN')\n",
    "plt.xlabel('K')\n",
    "plt.ylabel('score')"
   ]
  },
  {
   "cell_type": "code",
   "execution_count": 29,
   "metadata": {
    "collapsed": true
   },
   "outputs": [],
   "source": [
    "# Make predictions based on best model above\n",
    "y_predicted_knn = KNeighborsClassifier(n_neighbors=6).fit(x_train,y_train).predict(x_test)"
   ]
  },
  {
   "cell_type": "code",
   "execution_count": 32,
   "metadata": {
    "collapsed": false
   },
   "outputs": [
    {
     "name": "stdout",
     "output_type": "stream",
     "text": [
      "[[11104   641]\n",
      " [ 3531   376]]\n"
     ]
    },
    {
     "data": {
      "image/png": "[encoded data removed]",
      "text/plain": [
       "<matplotlib.figure.Figure at 0x164ff550>"
      ]
     },
     "metadata": {},
     "output_type": "display_data"
    }
   ],
   "source": [
    "# See how KNN did on its own.\n",
    "# Print and plot a confusion matrix\n",
    "cm = metrics.confusion_matrix(y_test, y_predicted_knn)\n",
    "print(cm)\n",
    "plt.matshow(cm)\n",
    "plt.title('Confusion matrix')\n",
    "plt.colorbar()\n",
    "plt.ylabel('True label')\n",
    "plt.xlabel('Predicted label')\n",
    "plt.show()"
   ]
  },
  {
   "cell_type": "markdown",
   "metadata": {},
   "source": [
    "### Final Predictions: Ensemble Learning"
   ]
  },
  {
   "cell_type": "code",
   "execution_count": 33,
   "metadata": {
    "collapsed": false
   },
   "outputs": [
    {
     "name": "stdout",
     "output_type": "stream",
     "text": [
      "[[10877   868]\n",
      " [ 3353   554]]\n"
     ]
    },
    {
     "data": {
      "image/png": "[encoded data removed]",
      "text/plain": [
       "<matplotlib.figure.Figure at 0x1675c4e0>"
      ]
     },
     "metadata": {},
     "output_type": "display_data"
    },
    {
     "name": "stdout",
     "output_type": "stream",
     "text": [
      "Prediction Accuracy\n",
      "0.730322003578\n"
     ]
    }
   ],
   "source": [
    "# Predict unpopular = True if either RF or KNN predict unpopular = True\n",
    "y_predicted = y_predicted_knn + y_predicted_rf\n",
    "\n",
    "#Print and plot confusion matrix\n",
    "cm = metrics.confusion_matrix(y_test, y_predicted)\n",
    "print(cm)\n",
    "plt.matshow(cm)\n",
    "plt.title('Confusion matrix')\n",
    "plt.colorbar()\n",
    "plt.ylabel('True label')\n",
    "plt.xlabel('Predicted label')\n",
    "plt.show()\n",
    "\n",
    "# Print prediction Accuracy\n",
    "print 'Prediction Accuracy'\n",
    "print (cm[0,0]+cm[1,1])/float(cm[0,0] + cm[0,1] + cm[1,0] + cm[1,1])"
   ]
  },
  {
   "cell_type": "markdown",
   "metadata": {},
   "source": [
    "# Articles with no Buzz"
   ]
  },
  {
   "cell_type": "markdown",
   "metadata": {},
   "source": [
    "At the very least, we want our software to predict whether an article will generate no \"buzz\". In this case, we define \"no buzz\" as belonging in the bottom 25% in terms of shares per day amongst articles published on a similar platform."
   ]
  },
  {
   "cell_type": "code",
   "execution_count": 59,
   "metadata": {
    "collapsed": false
   },
   "outputs": [],
   "source": [
    "# Select features\n",
    "all_features = df.columns.values\n",
    "excluded_features = [\n",
    "    'buzz',\n",
    "    'buzz_factor',\n",
    "    'no_buzz',\n",
    "    'popularity',\n",
    "    'shares',\n",
    "    'timedelta',\n",
    "    'unpopular'\n",
    "]\n",
    "features1 = [f for f in all_features if f not in excluded_features]"
   ]
  },
  {
   "cell_type": "code",
   "execution_count": 60,
   "metadata": {
    "collapsed": false
   },
   "outputs": [
    {
     "data": {
      "text/html": [
       "<div>\n",
       "<table border=\"1\" class=\"dataframe\">\n",
       "  <thead>\n",
       "    <tr style=\"text-align: right;\">\n",
       "      <th></th>\n",
       "      <th>variables</th>\n",
       "      <th>importance</th>\n",
       "    </tr>\n",
       "  </thead>\n",
       "  <tbody>\n",
       "    <tr>\n",
       "      <th>0</th>\n",
       "      <td>timedelta</td>\n",
       "      <td>0.038863</td>\n",
       "    </tr>\n",
       "    <tr>\n",
       "      <th>1</th>\n",
       "      <td>n_tokens_content</td>\n",
       "      <td>0.037041</td>\n",
       "    </tr>\n",
       "    <tr>\n",
       "      <th>2</th>\n",
       "      <td>num_videos</td>\n",
       "      <td>0.036131</td>\n",
       "    </tr>\n",
       "    <tr>\n",
       "      <th>3</th>\n",
       "      <td>num_hrefs</td>\n",
       "      <td>0.035470</td>\n",
       "    </tr>\n",
       "    <tr>\n",
       "      <th>4</th>\n",
       "      <td>average_token_length</td>\n",
       "      <td>0.035324</td>\n",
       "    </tr>\n",
       "    <tr>\n",
       "      <th>5</th>\n",
       "      <td>global_sentiment_polarity</td>\n",
       "      <td>0.035213</td>\n",
       "    </tr>\n",
       "    <tr>\n",
       "      <th>6</th>\n",
       "      <td>n_tokens_title</td>\n",
       "      <td>0.034823</td>\n",
       "    </tr>\n",
       "    <tr>\n",
       "      <th>7</th>\n",
       "      <td>n_unique_tokens</td>\n",
       "      <td>0.034630</td>\n",
       "    </tr>\n",
       "    <tr>\n",
       "      <th>8</th>\n",
       "      <td>rate_negative_words</td>\n",
       "      <td>0.034058</td>\n",
       "    </tr>\n",
       "    <tr>\n",
       "      <th>9</th>\n",
       "      <td>num_self_hrefs</td>\n",
       "      <td>0.033996</td>\n",
       "    </tr>\n",
       "  </tbody>\n",
       "</table>\n",
       "</div>"
      ],
      "text/plain": [
       "                   variables  importance\n",
       "0                  timedelta    0.038863\n",
       "1           n_tokens_content    0.037041\n",
       "2                 num_videos    0.036131\n",
       "3                  num_hrefs    0.035470\n",
       "4       average_token_length    0.035324\n",
       "5  global_sentiment_polarity    0.035213\n",
       "6             n_tokens_title    0.034823\n",
       "7            n_unique_tokens    0.034630\n",
       "8        rate_negative_words    0.034058\n",
       "9             num_self_hrefs    0.033996"
      ]
     },
     "execution_count": 60,
     "metadata": {},
     "output_type": "execute_result"
    }
   ],
   "source": [
    "#Rank features by importance\n",
    "feature_selection_model = ExtraTreesClassifier().fit(df[features1], df['no_buzz'])\n",
    "feature_importance=feature_selection_model.feature_importances_\n",
    "importance_matrix=np.array([features, list(feature_importance)]).T\n",
    "def sortkey(s):\n",
    "    return s[1]\n",
    "sort=zip(features,list(feature_importance))\n",
    "\n",
    "# Extract top 10 important features\n",
    "f_b=pd.DataFrame(sorted(sort,key=sortkey,reverse=True),columns=['variables','importance'])[:10]\n",
    "f_b"
   ]
  },
  {
   "cell_type": "code",
   "execution_count": 61,
   "metadata": {
    "collapsed": false
   },
   "outputs": [
    {
     "data": {
      "text/plain": [
       "(23478, 10)"
      ]
     },
     "execution_count": 61,
     "metadata": {},
     "output_type": "execute_result"
    }
   ],
   "source": [
    "features_b=f_b['variables']\n",
    "\n",
    "#split data into two parts\n",
    "np.random.seed(0)\n",
    "x_train, x_test, y_train, y_test = train_test_split(df[features_b], df.no_buzz, test_size=0.4, random_state=None)\n",
    "x_train.shape"
   ]
  },
  {
   "cell_type": "code",
   "execution_count": 62,
   "metadata": {
    "collapsed": false
   },
   "outputs": [],
   "source": [
    "# Decision Tree accuracy and time elapsed caculation\n",
    "#t0=time()\n",
    "#print \"DecisionTree\"\n",
    "#dt = DecisionTreeClassifier(min_samples_split=25,random_state=1)\n",
    "#clf_dt=dt.fit(x_train,y_train)\n",
    "#y_predicted = clf_dt.predict(x_test)\n",
    "#print(metrics.classification_report(y_test, y_predicted))\n",
    "#t1=time()\n",
    "#print \"time elapsed: \", t1-t0"
   ]
  },
  {
   "cell_type": "code",
   "execution_count": 63,
   "metadata": {
    "collapsed": false
   },
   "outputs": [
    {
     "name": "stdout",
     "output_type": "stream",
     "text": [
      "RandomForest\n"
     ]
    }
   ],
   "source": [
    "#Random Forest \n",
    "\n",
    "# Train classifier and time elapsed caculation\n",
    "t2=time()\n",
    "print \"RandomForest\"\n",
    "rf = RandomForestClassifier(n_estimators=100,n_jobs=1)\n",
    "clf_rf = rf.fit(x_train,y_train)\n",
    "y_predicted_rf = clf_rf.predict(x_test)"
   ]
  },
  {
   "cell_type": "code",
   "execution_count": 64,
   "metadata": {
    "collapsed": false
   },
   "outputs": [
    {
     "name": "stdout",
     "output_type": "stream",
     "text": [
      "Acurracy:  0.789355992844\n",
      "time elapsed:  7.84249997139\n"
     ]
    }
   ],
   "source": [
    "# See how random forest did on its own.\n",
    "print \"Acurracy: \", clf_rf.score(x_test,y_test)\n",
    "t3=time()\n",
    "print \"time elapsed: \", t3-t2"
   ]
  },
  {
   "cell_type": "code",
   "execution_count": 65,
   "metadata": {
    "collapsed": false
   },
   "outputs": [
    {
     "name": "stdout",
     "output_type": "stream",
     "text": [
      "[0.7710107893242476, 0.76959114139693352, 0.77668938103350371, 0.77413401476433841, 0.77583759227711524, 0.7776831345826235, 0.77867688813174329, 0.77810902896081768, 0.77810902896081768, 0.77853492333901197]\n"
     ]
    },
    {
     "data": {
      "text/plain": [
       "<matplotlib.text.Text at 0x110e513d0>"
      ]
     },
     "execution_count": 65,
     "metadata": {},
     "output_type": "execute_result"
    },
    {
     "data": {
      "image/png": "[encoded data removed]",
      "text/plain": [
       "<matplotlib.figure.Figure at 0x1114300d0>"
      ]
     },
     "metadata": {},
     "output_type": "display_data"
    }
   ],
   "source": [
    "# KNN\n",
    "\n",
    "from sklearn.neighbors import KNeighborsClassifier\n",
    "\n",
    "# Determine K by cross-validation.\n",
    "x_cv_train, x_cv_test, y_cv_train, y_cv_test = train_test_split(x_train, y_train, test_size=0.3, random_state=None)\n",
    "\n",
    "# We use K-values ranging from 1-10\n",
    "k=[5,10,15,20,25,30,35,40,45,50]\n",
    "\n",
    "# Train a model on the trainng set and use that model to predict on the testing set\n",
    "predicted_knn=[KNeighborsClassifier(n_neighbors=i).fit(x_cv_train,y_cv_train).predict(x_cv_test) for i in k]\n",
    "\n",
    "#Compute accuracy on the testing set for each value of k\n",
    "score_knn=[metrics.accuracy_score(predicted_knn[i],y_cv_test) for i in range(10)]\n",
    "\n",
    "print score_knn\n",
    "\n",
    "# Plot accuracy on the test set vs. k\n",
    "fig=plt.figure(figsize=(8,6))\n",
    "plt.plot([5,10,15,20,25,30,35,40,45,50], score_knn, 'bo--',label='knn', color=green)\n",
    "plt.title('No Buzz K-NN')\n",
    "plt.xlabel('K')\n",
    "plt.ylabel('score')"
   ]
  },
  {
   "cell_type": "code",
   "execution_count": 66,
   "metadata": {
    "collapsed": true
   },
   "outputs": [],
   "source": [
    "# Make predictions based on the best model above\n",
    "y_predicted_knn = KNeighborsClassifier(n_neighbors=7).fit(x_train,y_train).predict(x_test)"
   ]
  },
  {
   "cell_type": "code",
   "execution_count": 67,
   "metadata": {
    "collapsed": false
   },
   "outputs": [
    {
     "name": "stdout",
     "output_type": "stream",
     "text": [
      "[[10034  1762]\n",
      " [ 1880  1976]]\n"
     ]
    },
    {
     "data": {
      "image/png": "[encoded data removed]",
      "text/plain": [
       "<matplotlib.figure.Figure at 0x112a4c9d0>"
      ]
     },
     "metadata": {},
     "output_type": "display_data"
    }
   ],
   "source": [
    "# See how KNN did on its own.\n",
    "# Print and plot a confusion matrix\n",
    "cm = metrics.confusion_matrix(y_test, y_predicted_knn)\n",
    "print(cm)\n",
    "plt.matshow(cm)\n",
    "plt.title('Confusion matrix')\n",
    "plt.colorbar()\n",
    "plt.ylabel('True label')\n",
    "plt.xlabel('Predicted label')\n",
    "plt.show()"
   ]
  },
  {
   "cell_type": "markdown",
   "metadata": {},
   "source": [
    "### Final Predictions: Ensemble Learning"
   ]
  },
  {
   "cell_type": "code",
   "execution_count": 68,
   "metadata": {
    "collapsed": false
   },
   "outputs": [
    {
     "name": "stdout",
     "output_type": "stream",
     "text": [
      "[[9482 2314]\n",
      " [1178 2678]]\n"
     ]
    },
    {
     "data": {
      "image/png": "[encoded data removed]",
      "text/plain": [
       "<matplotlib.figure.Figure at 0x111107350>"
      ]
     },
     "metadata": {},
     "output_type": "display_data"
    },
    {
     "name": "stdout",
     "output_type": "stream",
     "text": [
      "Prediction Accuracy\n",
      "0.776897521084\n"
     ]
    }
   ],
   "source": [
    "# Predict no_buzz = True if either RF or KNN predict no_buzz = True\n",
    "y_predicted = y_predicted_knn + y_predicted_rf\n",
    "\n",
    "# Print and plot confusion matrix\n",
    "cm = metrics.confusion_matrix(y_test, y_predicted)\n",
    "print(cm)\n",
    "plt.matshow(cm)\n",
    "plt.title('Confusion matrix')\n",
    "plt.colorbar()\n",
    "plt.ylabel('True label')\n",
    "plt.xlabel('Predicted label')\n",
    "plt.show()\n",
    "\n",
    "# Print prediction accuracy\n",
    "print 'Prediction Accuracy'\n",
    "print (cm[0,0]+cm[1,1])/float(cm[0,0] + cm[0,1] + cm[1,0] + cm[1,1])"
   ]
  },
  {
   "cell_type": "markdown",
   "metadata": {},
   "source": [
    "### Background analysis/exploration."
   ]
  },
  {
   "cell_type": "markdown",
   "metadata": {},
   "source": [
    "### IMPORTANT NOTE: The code cells above this one are the complete \"solution\" cells for problem 3.  What follows was additional exploration/analysis.  It was not used in our results, but we retained it in this notebook for completeness."
   ]
  },
  {
   "cell_type": "markdown",
   "metadata": {},
   "source": [
    "Here we try to use PCA to improve our results."
   ]
  },
  {
   "cell_type": "code",
   "execution_count": 50,
   "metadata": {
    "collapsed": false
   },
   "outputs": [
    {
     "data": {
      "image/png": "[encoded data removed]",
      "text/plain": [
       "<matplotlib.figure.Figure at 0x10ff8c18>"
      ]
     },
     "metadata": {},
     "output_type": "display_data"
    }
   ],
   "source": [
    "from sklearn.decomposition import PCA\n",
    "pca = PCA(4)\n",
    "plot_columns = pca.fit_transform(df[features1])\n",
    "plt.scatter(x=plot_columns[:,0], y=plot_columns[:,1], c=df['unpopular'], color=[red, blue])\n",
    "plt.show()"
   ]
  },
  {
   "cell_type": "code",
   "execution_count": 113,
   "metadata": {
    "collapsed": false
   },
   "outputs": [
    {
     "data": {
      "text/plain": [
       "(23478L, 4L)"
      ]
     },
     "execution_count": 113,
     "metadata": {},
     "output_type": "execute_result"
    }
   ],
   "source": [
    "np.random.seed(0)\n",
    "x_train, x_test, y_train, y_test = train_test_split(plot_columns, df.buzz_factor, test_size=0.4, random_state=None)\n",
    "x_train.shape"
   ]
  },
  {
   "cell_type": "code",
   "execution_count": 114,
   "metadata": {
    "collapsed": false
   },
   "outputs": [
    {
     "data": {
      "text/plain": [
       "2445.0356821514774"
      ]
     },
     "execution_count": 114,
     "metadata": {},
     "output_type": "execute_result"
    }
   ],
   "source": [
    "#linear regression\n",
    "from sklearn.linear_model import LinearRegression\n",
    "model = LinearRegression(normalize=True)\n",
    "model.fit(x_train, y_train)\n",
    "from sklearn.metrics import mean_squared_error\n",
    "predictions = model.predict(x_test)\n",
    "mean_squared_error(predictions, y_test)"
   ]
  },
  {
   "cell_type": "code",
   "execution_count": 115,
   "metadata": {
    "collapsed": false
   },
   "outputs": [
    {
     "data": {
      "text/plain": [
       "2430.7401296301709"
      ]
     },
     "execution_count": 115,
     "metadata": {},
     "output_type": "execute_result"
    }
   ],
   "source": [
    "# Import the random forest model.\n",
    "from sklearn.ensemble import RandomForestRegressor\n",
    "model2 = RandomForestRegressor(n_estimators=60, min_samples_leaf=10, random_state=1)\n",
    "model2.fit(x_train, y_train)\n",
    "predictions = model2.predict(x_test)\n",
    "mean_squared_error(predictions, y_test)"
   ]
  },
  {
   "cell_type": "markdown",
   "metadata": {},
   "source": [
    "### A brief exploration\n"
   ]
  },
  {
   "cell_type": "code",
   "execution_count": 43,
   "metadata": {
    "collapsed": false
   },
   "outputs": [
    {
     "data": {
      "text/html": [
       "<div>\n",
       "<table border=\"1\" class=\"dataframe\">\n",
       "  <thead>\n",
       "    <tr style=\"text-align: right;\">\n",
       "      <th></th>\n",
       "      <th>shares</th>\n",
       "      <th>n_tokens_title</th>\n",
       "      <th>n_tokens_content</th>\n",
       "      <th>n_unique_tokens</th>\n",
       "    </tr>\n",
       "  </thead>\n",
       "  <tbody>\n",
       "    <tr>\n",
       "      <th>count</th>\n",
       "      <td>39130.000000</td>\n",
       "      <td>39130.000000</td>\n",
       "      <td>39130.000000</td>\n",
       "      <td>39130.000000</td>\n",
       "    </tr>\n",
       "    <tr>\n",
       "      <th>mean</th>\n",
       "      <td>2604.414925</td>\n",
       "      <td>10.394505</td>\n",
       "      <td>546.975824</td>\n",
       "      <td>0.548304</td>\n",
       "    </tr>\n",
       "    <tr>\n",
       "      <th>std</th>\n",
       "      <td>3356.840372</td>\n",
       "      <td>2.112438</td>\n",
       "      <td>470.309240</td>\n",
       "      <td>3.543710</td>\n",
       "    </tr>\n",
       "    <tr>\n",
       "      <th>min</th>\n",
       "      <td>1.000000</td>\n",
       "      <td>2.000000</td>\n",
       "      <td>0.000000</td>\n",
       "      <td>0.000000</td>\n",
       "    </tr>\n",
       "    <tr>\n",
       "      <th>25%</th>\n",
       "      <td>941.000000</td>\n",
       "      <td>9.000000</td>\n",
       "      <td>247.000000</td>\n",
       "      <td>0.470777</td>\n",
       "    </tr>\n",
       "    <tr>\n",
       "      <th>50%</th>\n",
       "      <td>1400.000000</td>\n",
       "      <td>10.000000</td>\n",
       "      <td>410.000000</td>\n",
       "      <td>0.538987</td>\n",
       "    </tr>\n",
       "    <tr>\n",
       "      <th>75%</th>\n",
       "      <td>2700.000000</td>\n",
       "      <td>12.000000</td>\n",
       "      <td>716.750000</td>\n",
       "      <td>0.608209</td>\n",
       "    </tr>\n",
       "    <tr>\n",
       "      <th>max</th>\n",
       "      <td>26600.000000</td>\n",
       "      <td>23.000000</td>\n",
       "      <td>8474.000000</td>\n",
       "      <td>701.000000</td>\n",
       "    </tr>\n",
       "  </tbody>\n",
       "</table>\n",
       "</div>"
      ],
      "text/plain": [
       "             shares  n_tokens_title  n_tokens_content  n_unique_tokens\n",
       "count  39130.000000    39130.000000      39130.000000     39130.000000\n",
       "mean    2604.414925       10.394505        546.975824         0.548304\n",
       "std     3356.840372        2.112438        470.309240         3.543710\n",
       "min        1.000000        2.000000          0.000000         0.000000\n",
       "25%      941.000000        9.000000        247.000000         0.470777\n",
       "50%     1400.000000       10.000000        410.000000         0.538987\n",
       "75%     2700.000000       12.000000        716.750000         0.608209\n",
       "max    26600.000000       23.000000       8474.000000       701.000000"
      ]
     },
     "execution_count": 43,
     "metadata": {},
     "output_type": "execute_result"
    }
   ],
   "source": [
    "df[\n",
    "    ['shares','n_tokens_title', 'n_tokens_content', 'n_unique_tokens']\n",
    "].describe()"
   ]
  },
  {
   "cell_type": "code",
   "execution_count": 44,
   "metadata": {
    "collapsed": false
   },
   "outputs": [
    {
     "data": {
      "text/html": [
       "<div>\n",
       "<table border=\"1\" class=\"dataframe\">\n",
       "  <thead>\n",
       "    <tr style=\"text-align: right;\">\n",
       "      <th></th>\n",
       "      <th>shares</th>\n",
       "      <th>n_tokens_title</th>\n",
       "      <th>n_tokens_content</th>\n",
       "      <th>n_unique_tokens</th>\n",
       "    </tr>\n",
       "  </thead>\n",
       "  <tbody>\n",
       "    <tr>\n",
       "      <th>count</th>\n",
       "      <td>20640.000000</td>\n",
       "      <td>20640.000000</td>\n",
       "      <td>20640.000000</td>\n",
       "      <td>20640.000000</td>\n",
       "    </tr>\n",
       "    <tr>\n",
       "      <th>mean</th>\n",
       "      <td>4122.785853</td>\n",
       "      <td>10.301550</td>\n",
       "      <td>566.091957</td>\n",
       "      <td>0.557952</td>\n",
       "    </tr>\n",
       "    <tr>\n",
       "      <th>std</th>\n",
       "      <td>4052.960447</td>\n",
       "      <td>2.120151</td>\n",
       "      <td>507.147459</td>\n",
       "      <td>4.877742</td>\n",
       "    </tr>\n",
       "    <tr>\n",
       "      <th>min</th>\n",
       "      <td>1400.000000</td>\n",
       "      <td>2.000000</td>\n",
       "      <td>0.000000</td>\n",
       "      <td>0.000000</td>\n",
       "    </tr>\n",
       "    <tr>\n",
       "      <th>25%</th>\n",
       "      <td>1800.000000</td>\n",
       "      <td>9.000000</td>\n",
       "      <td>246.000000</td>\n",
       "      <td>0.462785</td>\n",
       "    </tr>\n",
       "    <tr>\n",
       "      <th>50%</th>\n",
       "      <td>2600.000000</td>\n",
       "      <td>10.000000</td>\n",
       "      <td>414.000000</td>\n",
       "      <td>0.534566</td>\n",
       "    </tr>\n",
       "    <tr>\n",
       "      <th>75%</th>\n",
       "      <td>4600.000000</td>\n",
       "      <td>12.000000</td>\n",
       "      <td>747.000000</td>\n",
       "      <td>0.606147</td>\n",
       "    </tr>\n",
       "    <tr>\n",
       "      <th>max</th>\n",
       "      <td>26600.000000</td>\n",
       "      <td>23.000000</td>\n",
       "      <td>8474.000000</td>\n",
       "      <td>701.000000</td>\n",
       "    </tr>\n",
       "  </tbody>\n",
       "</table>\n",
       "</div>"
      ],
      "text/plain": [
       "             shares  n_tokens_title  n_tokens_content  n_unique_tokens\n",
       "count  20640.000000    20640.000000      20640.000000     20640.000000\n",
       "mean    4122.785853       10.301550        566.091957         0.557952\n",
       "std     4052.960447        2.120151        507.147459         4.877742\n",
       "min     1400.000000        2.000000          0.000000         0.000000\n",
       "25%     1800.000000        9.000000        246.000000         0.462785\n",
       "50%     2600.000000       10.000000        414.000000         0.534566\n",
       "75%     4600.000000       12.000000        747.000000         0.606147\n",
       "max    26600.000000       23.000000       8474.000000       701.000000"
      ]
     },
     "execution_count": 44,
     "metadata": {},
     "output_type": "execute_result"
    }
   ],
   "source": [
    "# Avg number of words in title and popular article content\n",
    "popular_articles = df.ix[data_frame['shares'] >= 1400]\n",
    "popular_articles[\n",
    "    ['shares','n_tokens_title', 'n_tokens_content','n_unique_tokens']\n",
    "].describe()"
   ]
  },
  {
   "cell_type": "code",
   "execution_count": 50,
   "metadata": {
    "collapsed": false
   },
   "outputs": [
    {
     "data": {
      "text/plain": [
       "<matplotlib.axes._subplots.AxesSubplot at 0x1a33d358>"
      ]
     },
     "execution_count": 50,
     "metadata": {},
     "output_type": "execute_result"
    },
    {
     "data": {
      "image/png": "[encoded data removed]",
      "text/plain": [
       "<matplotlib.figure.Figure at 0x1a2fa9b0>"
      ]
     },
     "metadata": {},
     "output_type": "display_data"
    }
   ],
   "source": [
    "# Mean shares for each article type\n",
    "type_articles = df.pivot_table('shares', index=[\n",
    "        'is_lifestyle', 'is_entertainment', 'is_business', 'is_social_media', 'is_tech', 'is_world'\n",
    "    ], aggfunc=[np.mean])\n",
    "print type_articles\n",
    "\n",
    "type_articles.plot(kind='bar', color=red)\n",
    "plt.legend(bbox_to_anchor=(1.05, 1), loc=2, borderaxespad=0.)\n",
    "plt.title('Mean shares by article type')\n",
    "plt.xlabel('Article type')\n",
    "plt.ylabel('Shares')\n",
    "\n",
    "#### On avg, which day has more shares \n",
    "\n",
    "# On avg, which day has more shares \n",
    "\n",
    "day_articles = df.pivot_table('shares', index=[\n",
    "        'is_monday', 'is_tuesday', 'is_wednesday', 'is_thursday', 'is_friday', 'is_saturday', 'is_sunday'\n",
    "    ], aggfunc=[np.mean])\n",
    "print day_articles\n",
    "\n",
    "day_articles.plot(kind='bar', color=green)\n",
    "plt.legend(bbox_to_anchor=(1.05, 1), loc=2, borderaxespad=0.)\n",
    "plt.title('Mean shares by day')\n",
    "plt.xlabel('Day')\n",
    "plt.ylabel('Shares')\n",
    "\n",
    "# Mean shares for tech and not tech channels during and not during weekends\n",
    "df.pivot_table('shares', index=['is_weekend'], columns=['is_tech'], aggfunc=[np.mean], margins=True)\n",
    "\n",
    "# Mean tech shares during work week (Monday to Friday)\n",
    "tech_articles = df.ix[data_frame['is_tech'] == 1]\n",
    "tech_articles = tech_articles.pivot_table('shares', index=[\n",
    "        'is_monday', 'is_tuesday', 'is_wednesday', 'is_thursday', 'is_friday'\n",
    "    ], aggfunc=[np.mean])\n",
    "print tech_articles\n",
    "\n",
    "tech_articles.plot(kind='bar', color=blue)\n",
    "plt.legend(bbox_to_anchor=(1.05, 1), loc=2, borderaxespad=0.)\n",
    "plt.title('Mean Tech Article Shares by Week Day')\n",
    "plt.xlabel('Week Day')\n",
    "plt.ylabel('Shares')\n",
    "\n",
    "# Explore relationship with some features and number of shares\n",
    "df.plot(kind='scatter', x='n_tokens_title', y='shares')\n",
    "\n",
    "df.plot(kind='scatter', x='n_tokens_content', y='shares')\n",
    "\n",
    "df.plot(kind='scatter', x='n_unique_tokens', y='shares')"
   ]
  },
  {
   "cell_type": "code",
   "execution_count": null,
   "metadata": {
    "collapsed": false
   },
   "outputs": [],
   "source": [
    "json = df.to_json()\n",
    "print json"
   ]
  },
  {
   "cell_type": "markdown",
   "metadata": {},
   "source": [
    "---"
   ]
  },
  {
   "cell_type": "markdown",
   "metadata": {},
   "source": [
    "*------------------------\n",
    "\n",
    "### Problem 4: Prepare a 90 second Pitch and *present* it in the class (20 points)\n",
    "\n",
    "* Prepare the slide(s) for the Pitch (10 points)\n",
    "* Present it in the class (10 points).\n",
    "\n",
    "*Advice:  It should really only be one or two slides, but a really good one or two slides!  Also, it is ok to select one person on the team to give the 90 second pitch (though a very organized multi-person 90 second pitch can be very impressive!) *\n",
    "\n"
   ]
  },
  {
   "cell_type": "markdown",
   "metadata": {},
   "source": [
    "# Report: communicate the results (20 points)\n",
    "\n",
    "(1) (5 points) What is your business proposition?\n",
    "\n",
    "(2) (5 points) Why this topic is interesting or important to you? (Motivations)\n",
    "\n",
    "(3) (5 points) How did you analyse the data?\n",
    "\n",
    "(4) (5 points) How does your analysis support your business proposition?\n",
    "(please include figures or tables in the report, but no source code)"
   ]
  },
  {
   "cell_type": "markdown",
   "metadata": {},
   "source": [
    "# Slides (for 10 minutes of presentation) (20 points)\n",
    "\n",
    "\n",
    "1. (5 points) Motivation about the data collection, why the topic is interesting to you. \n",
    "\n",
    "2. (10 points) Communicating Results (figure/table)\n",
    "\n",
    "3. (5 points) Story telling (How all the parts (data, analysis, result) fit together as a story?)"
   ]
  },
  {
   "cell_type": "markdown",
   "metadata": {},
   "source": [
    "*-----------------\n",
    "# Done\n",
    "\n",
    "All set! \n",
    "\n",
    "** What do you need to submit?**\n",
    "\n",
    "* **Notebook File**: Save this IPython notebook, and find the notebook file in your folder (for example, \"filename.ipynb\"). This is the file you need to submit. Please make sure all the plotted tables and figures are in the notebook. If you used \"ipython notebook --pylab=inline\" to open the notebook, all the figures and tables should have shown up in the notebook.\n",
    "\n",
    "\n",
    "* **PPT Slides**: **NOTE, for this Case Study you need to prepare two (2) PPT files!**  One for the 90 second Pitch and one for a normal 10 minute presentation.\n",
    "\n",
    "* ** Report**: please prepare a report (less than 10 pages) to report what you found in the data.\n",
    "\n",
    "     (please include figures or tables in the report, but no source code)\n",
    "\n",
    "*Please compress all the files into a single zipped file.*\n",
    "\n",
    "\n",
    "** How to submit: **\n",
    "\n",
    "        Send an email to rcpaffenroth@wpi.edu with the subject: \"[DS501] Case study 4\"."
   ]
  },
  {
   "cell_type": "code",
   "execution_count": null,
   "metadata": {
    "collapsed": true
   },
   "outputs": [],
   "source": []
  }
 ],
 "metadata": {
  "kernelspec": {
   "display_name": "Python 2",
   "language": "python",
   "name": "python2"
  },
  "language_info": {
   "codemirror_mode": {
    "name": "ipython",
    "version": 2
   },
   "file_extension": ".py",
   "mimetype": "text/x-python",
   "name": "python",
   "nbconvert_exporter": "python",
   "pygments_lexer": "ipython2",
   "version": "2.7.11"
  }
 },
 "nbformat": 4,
 "nbformat_minor": 0
}
