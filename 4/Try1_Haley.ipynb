{
 "cells": [
  {
   "cell_type": "markdown",
   "metadata": {},
   "source": [
    "### Case Study 4 :  Data Science Shark Tank:  Pitch Your Ideas\n",
    "\n",
    "** Due Date: April 27, 6pm**\n",
    "<img src=\"https://cp.inkrefuge.com/images%5Cpressreleases/shark%20tank_large.jpg\" width=\"400px\"> "
   ]
  },
  {
   "cell_type": "markdown",
   "metadata": {},
   "source": [
    "After the previous 3 case studies,  your team has now equipped with all the three powerful skills of data science: Hacking skill, Business skill and Math skill. In this project, your team is going to make use of these skills to come up with an idea of a new business/startup based upon data science technology. Your goal is to design a better service/solution on any data you like, develop a prototype/demo and prepare a pitch for your idea.\n",
    "* Your team needs to decide which business problem is important for the market you are joining in (for example, social media market, housing market, search market, etc.).\n",
    "* Then design a data science approach to improve one of the current services or design a new service on any data that you choose.\n",
    "* The solution should include all the three components of data science: 1) the business part to analyze the potential impact of your new/improved service, why the idea can make money, how much are you evaluating the company; How are you planing to persuade the sharks to invest in your business; 2) the mathematical part to formulate the problem and develop math solution; 3) the programming part to collect the data, implement the math solution, and develop the prototype/demo.\n"
   ]
  },
  {
   "cell_type": "markdown",
   "metadata": {},
   "source": [
    "# Background about Elevator Pitch (90 seconds) and Shark Tank"
   ]
  },
  {
   "cell_type": "code",
   "execution_count": 1,
   "metadata": {
    "collapsed": false
   },
   "outputs": [
    {
     "data": {
      "text/html": [
       "\n",
       "        <iframe\n",
       "            width=\"400\"\n",
       "            height=\"300\"\n",
       "            src=\"https://www.youtube.com/embed/mrSmaCo29U4\"\n",
       "            frameborder=\"0\"\n",
       "            allowfullscreen\n",
       "        ></iframe>\n",
       "        "
      ],
      "text/plain": [
       "<IPython.lib.display.YouTubeVideo at 0x4391898>"
      ]
     },
     "execution_count": 1,
     "metadata": {},
     "output_type": "execute_result"
    }
   ],
   "source": [
    "from IPython.display import YouTubeVideo\n",
    "YouTubeVideo(\"mrSmaCo29U4\") "
   ]
  },
  {
   "cell_type": "code",
   "execution_count": 4,
   "metadata": {
    "collapsed": false
   },
   "outputs": [
    {
     "data": {
      "text/html": [
       "\n",
       "        <iframe\n",
       "            width=\"400\"\n",
       "            height=\"300\"\n",
       "            src=\"https://www.youtube.com/embed/xIq8Sg59UdY\"\n",
       "            frameborder=\"0\"\n",
       "            allowfullscreen\n",
       "        ></iframe>\n",
       "        "
      ],
      "text/plain": [
       "<IPython.lib.display.YouTubeVideo at 0x4391d30>"
      ]
     },
     "execution_count": 4,
     "metadata": {},
     "output_type": "execute_result"
    }
   ],
   "source": [
    "YouTubeVideo(\"xIq8Sg59UdY\") "
   ]
  },
  {
   "cell_type": "markdown",
   "metadata": {},
   "source": [
    "### Two videos on storytelling"
   ]
  },
  {
   "cell_type": "markdown",
   "metadata": {},
   "source": [
    "https://video.wpi.edu/Watch/g2T4NjBn"
   ]
  },
  {
   "cell_type": "markdown",
   "metadata": {},
   "source": [
    "https://video.wpi.edu/Watch/q2A6Dbg3"
   ]
  },
  {
   "cell_type": "markdown",
   "metadata": {},
   "source": [
    "\n",
    "**Optional Readings:** \n",
    "* LinkedIn API: https://developer.linkedin.com/docs/rest-api\n",
    "* Zillow API: https://pypi.python.org/pypi/pyzillow\n",
    "* Google Map API: https://developers.google.com/api-client-library/python/apis/mapsengine/v1?hl=en\n",
    "* More APIs: https://github.com/ptwobrussell/Mining-the-Social-Web-2nd-Edition\n",
    "\n",
    "\n",
    "** Python libraries you may want to use:**\n",
    "* Scikit-learn (http://scikit-learn.org): machine learning tools in Python.\n",
    "\n",
    "** Data sources:**\n",
    "* UCI Machine Learning Repository: http://archive.ics.uci.edu/ml/ \n",
    "* Statlib datasets: http://lib.stat.cmu.edu/\n",
    "* Kaggel: www.kaggle.com \n",
    "* Open Gov. Data: www.data.gov, www.data.gov.uk, www.data.gov.fr, http://opengovernmentdata.org/data/catalogues/   \n",
    "\n",
    "** NOTE **\n",
    "* Please don't forget to save the notebook frequently when working in IPython Notebook, otherwise the changes you made can be lost.\n",
    "\n",
    "*----------------------"
   ]
  },
  {
   "cell_type": "markdown",
   "metadata": {},
   "source": [
    "### Global Imports"
   ]
  },
  {
   "cell_type": "code",
   "execution_count": 1,
   "metadata": {
    "collapsed": true
   },
   "outputs": [],
   "source": [
    "%matplotlib inline\n",
    "import pandas as pd\n",
    "import numpy as np\n",
    "import matplotlib.pyplot as plt"
   ]
  },
  {
   "cell_type": "markdown",
   "metadata": {},
   "source": [
    "### Save .csv file into Pandas Data Frame & HDF5 (Hierarchical Data Format)"
   ]
  },
  {
   "cell_type": "code",
   "execution_count": 2,
   "metadata": {
    "collapsed": false
   },
   "outputs": [],
   "source": [
    "csv_path = 'OnlineNewsPopularity.csv'\n",
    "hdf_path = 'online_news_popularity.h5'\n",
    "\n",
    "# Read .csv file into data frame\n",
    "data_frame = pd.read_csv(csv_path, sep=', ', engine='python')\n",
    "\n",
    "# Rename *channel* columns\n",
    "data_frame.rename(columns={\n",
    "        'data_channel_is_lifestyle': 'is_lifestyle',\n",
    "        'data_channel_is_entertainment': 'is_entertainment',\n",
    "        'data_channel_is_bus': 'is_business',\n",
    "        'data_channel_is_socmed': 'is_social_media',\n",
    "        'data_channel_is_tech': 'is_tech',\n",
    "        'data_channel_is_world': 'is_world',\n",
    "    }, inplace=True)\n",
    "\n",
    "# Rename *weekday* columns\n",
    "data_frame.rename(columns={\n",
    "        'weekday_is_monday': 'is_monday',\n",
    "        'weekday_is_tuesday': 'is_tuesday',\n",
    "        'weekday_is_wednesday': 'is_wednesday',\n",
    "        'weekday_is_thursday': 'is_thursday',\n",
    "        'weekday_is_friday': 'is_friday',\n",
    "        'weekday_is_saturday': 'is_saturday',\n",
    "        'weekday_is_sunday': 'is_sunday',\n",
    "    }, inplace=True)\n",
    "\n",
    "# Store data into HDF5 file\n",
    "data_hdf = pd.HDFStore(hdf_path)\n",
    "data_hdf['data_frame'] = data_frame\n",
    "data_hdf.close()"
   ]
  },
  {
   "cell_type": "markdown",
   "metadata": {},
   "source": [
    "### Read HDF5 file into Pandas Data Frame"
   ]
  },
  {
   "cell_type": "code",
   "execution_count": 3,
   "metadata": {
    "collapsed": false
   },
   "outputs": [
    {
     "data": {
      "text/plain": [
       "['url',\n",
       " 'timedelta',\n",
       " 'n_tokens_title',\n",
       " 'n_tokens_content',\n",
       " 'n_unique_tokens',\n",
       " 'n_non_stop_words',\n",
       " 'n_non_stop_unique_tokens',\n",
       " 'num_hrefs',\n",
       " 'num_self_hrefs',\n",
       " 'num_imgs',\n",
       " 'num_videos',\n",
       " 'average_token_length',\n",
       " 'num_keywords',\n",
       " 'is_lifestyle',\n",
       " 'is_entertainment',\n",
       " 'is_business',\n",
       " 'is_social_media',\n",
       " 'is_tech',\n",
       " 'is_world',\n",
       " 'kw_min_min',\n",
       " 'kw_max_min',\n",
       " 'kw_avg_min',\n",
       " 'kw_min_max',\n",
       " 'kw_max_max',\n",
       " 'kw_avg_max',\n",
       " 'kw_min_avg',\n",
       " 'kw_max_avg',\n",
       " 'kw_avg_avg',\n",
       " 'self_reference_min_shares',\n",
       " 'self_reference_max_shares',\n",
       " 'self_reference_avg_sharess',\n",
       " 'is_monday',\n",
       " 'is_tuesday',\n",
       " 'is_wednesday',\n",
       " 'is_thursday',\n",
       " 'is_friday',\n",
       " 'is_saturday',\n",
       " 'is_sunday',\n",
       " 'is_weekend',\n",
       " 'LDA_00',\n",
       " 'LDA_01',\n",
       " 'LDA_02',\n",
       " 'LDA_03',\n",
       " 'LDA_04',\n",
       " 'global_subjectivity',\n",
       " 'global_sentiment_polarity',\n",
       " 'global_rate_positive_words',\n",
       " 'global_rate_negative_words',\n",
       " 'rate_positive_words',\n",
       " 'rate_negative_words',\n",
       " 'avg_positive_polarity',\n",
       " 'min_positive_polarity',\n",
       " 'max_positive_polarity',\n",
       " 'avg_negative_polarity',\n",
       " 'min_negative_polarity',\n",
       " 'max_negative_polarity',\n",
       " 'title_subjectivity',\n",
       " 'title_sentiment_polarity',\n",
       " 'abs_title_subjectivity',\n",
       " 'abs_title_sentiment_polarity',\n",
       " 'shares']"
      ]
     },
     "execution_count": 3,
     "metadata": {},
     "output_type": "execute_result"
    }
   ],
   "source": [
    "# Read .h5 file into data frame\n",
    "data_frame = pd.read_hdf(hdf_path)\n",
    "\n",
    "# Print data frame column headers\n",
    "# print list(data_frame) # Shortest way\n",
    "list(data_frame.columns.values) # Easy-to-read output"
   ]
  },
  {
   "cell_type": "markdown",
   "metadata": {},
   "source": [
    "### A brief exploration"
   ]
  },
  {
   "cell_type": "code",
   "execution_count": 23,
   "metadata": {
    "collapsed": false
   },
   "outputs": [
    {
     "data": {
      "text/plain": [
       "(39644, 61)"
      ]
     },
     "execution_count": 23,
     "metadata": {},
     "output_type": "execute_result"
    }
   ],
   "source": [
    "data_frame.shape"
   ]
  },
  {
   "cell_type": "code",
   "execution_count": 24,
   "metadata": {
    "collapsed": false
   },
   "outputs": [
    {
     "data": {
      "text/html": [
       "<div>\n",
       "<table border=\"1\" class=\"dataframe\">\n",
       "  <thead>\n",
       "    <tr style=\"text-align: right;\">\n",
       "      <th></th>\n",
       "      <th>shares</th>\n",
       "      <th>n_tokens_title</th>\n",
       "      <th>n_tokens_content</th>\n",
       "      <th>n_unique_tokens</th>\n",
       "    </tr>\n",
       "  </thead>\n",
       "  <tbody>\n",
       "    <tr>\n",
       "      <th>count</th>\n",
       "      <td>39644.000000</td>\n",
       "      <td>39644.000000</td>\n",
       "      <td>39644.000000</td>\n",
       "      <td>39644.000000</td>\n",
       "    </tr>\n",
       "    <tr>\n",
       "      <th>mean</th>\n",
       "      <td>3395.380184</td>\n",
       "      <td>10.398749</td>\n",
       "      <td>546.514731</td>\n",
       "      <td>0.548216</td>\n",
       "    </tr>\n",
       "    <tr>\n",
       "      <th>std</th>\n",
       "      <td>11626.950749</td>\n",
       "      <td>2.114037</td>\n",
       "      <td>471.107508</td>\n",
       "      <td>3.520708</td>\n",
       "    </tr>\n",
       "    <tr>\n",
       "      <th>min</th>\n",
       "      <td>1.000000</td>\n",
       "      <td>2.000000</td>\n",
       "      <td>0.000000</td>\n",
       "      <td>0.000000</td>\n",
       "    </tr>\n",
       "    <tr>\n",
       "      <th>25%</th>\n",
       "      <td>946.000000</td>\n",
       "      <td>9.000000</td>\n",
       "      <td>246.000000</td>\n",
       "      <td>0.470870</td>\n",
       "    </tr>\n",
       "    <tr>\n",
       "      <th>50%</th>\n",
       "      <td>1400.000000</td>\n",
       "      <td>10.000000</td>\n",
       "      <td>409.000000</td>\n",
       "      <td>0.539226</td>\n",
       "    </tr>\n",
       "    <tr>\n",
       "      <th>75%</th>\n",
       "      <td>2800.000000</td>\n",
       "      <td>12.000000</td>\n",
       "      <td>716.000000</td>\n",
       "      <td>0.608696</td>\n",
       "    </tr>\n",
       "    <tr>\n",
       "      <th>max</th>\n",
       "      <td>843300.000000</td>\n",
       "      <td>23.000000</td>\n",
       "      <td>8474.000000</td>\n",
       "      <td>701.000000</td>\n",
       "    </tr>\n",
       "  </tbody>\n",
       "</table>\n",
       "</div>"
      ],
      "text/plain": [
       "              shares  n_tokens_title  n_tokens_content  n_unique_tokens\n",
       "count   39644.000000    39644.000000      39644.000000     39644.000000\n",
       "mean     3395.380184       10.398749        546.514731         0.548216\n",
       "std     11626.950749        2.114037        471.107508         3.520708\n",
       "min         1.000000        2.000000          0.000000         0.000000\n",
       "25%       946.000000        9.000000        246.000000         0.470870\n",
       "50%      1400.000000       10.000000        409.000000         0.539226\n",
       "75%      2800.000000       12.000000        716.000000         0.608696\n",
       "max    843300.000000       23.000000       8474.000000       701.000000"
      ]
     },
     "execution_count": 24,
     "metadata": {},
     "output_type": "execute_result"
    }
   ],
   "source": [
    "# Summary statistics for shares and number of words in the title\n",
    "data_frame[['shares','n_tokens_title', 'n_tokens_content', 'n_unique_tokens']].describe()"
   ]
  },
  {
   "cell_type": "markdown",
   "metadata": {},
   "source": [
    "From the result above, we may consider share more than 1400 as popular"
   ]
  },
  {
   "cell_type": "code",
   "execution_count": 26,
   "metadata": {
    "collapsed": false
   },
   "outputs": [
    {
     "data": {
      "text/html": [
       "<div>\n",
       "<table border=\"1\" class=\"dataframe\">\n",
       "  <thead>\n",
       "    <tr style=\"text-align: right;\">\n",
       "      <th></th>\n",
       "      <th>shares</th>\n",
       "      <th>n_tokens_title</th>\n",
       "      <th>n_tokens_content</th>\n",
       "      <th>n_unique_tokens</th>\n",
       "    </tr>\n",
       "  </thead>\n",
       "  <tbody>\n",
       "    <tr>\n",
       "      <th>count</th>\n",
       "      <td>21154.000000</td>\n",
       "      <td>21154.000000</td>\n",
       "      <td>21154.000000</td>\n",
       "      <td>21154.000000</td>\n",
       "    </tr>\n",
       "    <tr>\n",
       "      <th>mean</th>\n",
       "      <td>5568.213860</td>\n",
       "      <td>10.311761</td>\n",
       "      <td>564.763354</td>\n",
       "      <td>0.557552</td>\n",
       "    </tr>\n",
       "    <tr>\n",
       "      <th>std</th>\n",
       "      <td>15594.025443</td>\n",
       "      <td>2.123330</td>\n",
       "      <td>507.713045</td>\n",
       "      <td>4.818180</td>\n",
       "    </tr>\n",
       "    <tr>\n",
       "      <th>min</th>\n",
       "      <td>1400.000000</td>\n",
       "      <td>2.000000</td>\n",
       "      <td>0.000000</td>\n",
       "      <td>0.000000</td>\n",
       "    </tr>\n",
       "    <tr>\n",
       "      <th>25%</th>\n",
       "      <td>1800.000000</td>\n",
       "      <td>9.000000</td>\n",
       "      <td>245.000000</td>\n",
       "      <td>0.463143</td>\n",
       "    </tr>\n",
       "    <tr>\n",
       "      <th>50%</th>\n",
       "      <td>2600.000000</td>\n",
       "      <td>10.000000</td>\n",
       "      <td>412.000000</td>\n",
       "      <td>0.535079</td>\n",
       "    </tr>\n",
       "    <tr>\n",
       "      <th>75%</th>\n",
       "      <td>4900.000000</td>\n",
       "      <td>12.000000</td>\n",
       "      <td>745.000000</td>\n",
       "      <td>0.606733</td>\n",
       "    </tr>\n",
       "    <tr>\n",
       "      <th>max</th>\n",
       "      <td>843300.000000</td>\n",
       "      <td>23.000000</td>\n",
       "      <td>8474.000000</td>\n",
       "      <td>701.000000</td>\n",
       "    </tr>\n",
       "  </tbody>\n",
       "</table>\n",
       "</div>"
      ],
      "text/plain": [
       "              shares  n_tokens_title  n_tokens_content  n_unique_tokens\n",
       "count   21154.000000    21154.000000      21154.000000     21154.000000\n",
       "mean     5568.213860       10.311761        564.763354         0.557552\n",
       "std     15594.025443        2.123330        507.713045         4.818180\n",
       "min      1400.000000        2.000000          0.000000         0.000000\n",
       "25%      1800.000000        9.000000        245.000000         0.463143\n",
       "50%      2600.000000       10.000000        412.000000         0.535079\n",
       "75%      4900.000000       12.000000        745.000000         0.606733\n",
       "max    843300.000000       23.000000       8474.000000       701.000000"
      ]
     },
     "execution_count": 26,
     "metadata": {},
     "output_type": "execute_result"
    }
   ],
   "source": [
    "# avg number of words in tiel and avg number of words in the content for popular articules\n",
    "data_popular= data_frame.ix[data_frame['shares'] >= 1400]\n",
    "data_popular[['shares','n_tokens_title', 'n_tokens_content','n_unique_tokens']].describe()"
   ]
  },
  {
   "cell_type": "markdown",
   "metadata": {},
   "source": [
    "Seems not big difference"
   ]
  },
  {
   "cell_type": "code",
   "execution_count": 28,
   "metadata": {
    "collapsed": false
   },
   "outputs": [
    {
     "data": {
      "text/plain": [
       "<matplotlib.axes._subplots.AxesSubplot at 0x11251240>"
      ]
     },
     "execution_count": 28,
     "metadata": {},
     "output_type": "execute_result"
    },
    {
     "data": {
      "image/png": "[encoded data removed]",
      "text/plain": [
       "<matplotlib.figure.Figure at 0x10e258d0>"
      ]
     },
     "metadata": {},
     "output_type": "display_data"
    }
   ],
   "source": [
    "#explore the relationship with some features and the number of shares\n",
    "data_frame.plot(kind='scatter', x='n_tokens_title', y='shares')"
   ]
  },
  {
   "cell_type": "code",
   "execution_count": 29,
   "metadata": {
    "collapsed": false
   },
   "outputs": [
    {
     "data": {
      "text/plain": [
       "<matplotlib.axes._subplots.AxesSubplot at 0x10e253c8>"
      ]
     },
     "execution_count": 29,
     "metadata": {},
     "output_type": "execute_result"
    },
    {
     "data": {
      "image/png": "[encoded data removed]",
      "text/plain": [
       "<matplotlib.figure.Figure at 0xa2d42b0>"
      ]
     },
     "metadata": {},
     "output_type": "display_data"
    }
   ],
   "source": [
    "data_frame.plot(kind='scatter', x='n_tokens_content', y='shares')"
   ]
  },
  {
   "cell_type": "code",
   "execution_count": 27,
   "metadata": {
    "collapsed": false
   },
   "outputs": [
    {
     "data": {
      "text/plain": [
       "<matplotlib.axes._subplots.AxesSubplot at 0x111d5e48>"
      ]
     },
     "execution_count": 27,
     "metadata": {},
     "output_type": "execute_result"
    },
    {
     "data": {
      "image/png": "[encoded data removed]",
      "text/plain": [
       "<matplotlib.figure.Figure at 0x89d82e8>"
      ]
     },
     "metadata": {},
     "output_type": "display_data"
    }
   ],
   "source": [
    "data_frame.plot(kind='scatter', x='n_unique_tokens', y='shares')"
   ]
  },
  {
   "cell_type": "code",
   "execution_count": 13,
   "metadata": {
    "collapsed": false
   },
   "outputs": [
    {
     "name": "stdout",
     "output_type": "stream",
     "text": [
      "                                                                                   mean\n",
      "is_lifestyle is_entertainment is_business is_social_media is_tech is_world             \n",
      "0            0                0           0               0       0         5945.189599\n",
      "                                                                  1         2287.734069\n",
      "                                                          1       0         3072.283283\n",
      "                                          1               0       0         3629.383125\n",
      "                              1           0               0       0         3063.018536\n",
      "             1                0           0               0       0         2970.487034\n",
      "1            0                0           0               0       0         3682.123392\n"
     ]
    },
    {
     "data": {
      "text/plain": [
       "<matplotlib.text.Text at 0xe9059b0>"
      ]
     },
     "execution_count": 13,
     "metadata": {},
     "output_type": "execute_result"
    },
    {
     "data": {
      "image/png": "[encoded data removed]",
      "text/plain": [
       "<matplotlib.figure.Figure at 0x12026dd8>"
      ]
     },
     "metadata": {},
     "output_type": "display_data"
    }
   ],
   "source": [
    "# Mean shares for each type of Article\n",
    "type_articles = data_frame.pivot_table('shares', index=['is_lifestyle', 'is_entertainment', 'is_business', 'is_social_media', 'is_tech', 'is_world'], aggfunc=[np.mean])\n",
    "print type_articles\n",
    "\n",
    "type_articles.plot(kind='bar', color='red')\n",
    "plt.legend(bbox_to_anchor=(1.05, 1), loc=2, borderaxespad=0.)\n",
    "plt.title('Mean share by article type')\n",
    "plt.xlabel('Article type')\n",
    "plt.ylabel('Shares')\n"
   ]
  },
  {
   "cell_type": "markdown",
   "metadata": {},
   "source": [
    "From the result above, looks like lifestyle and social media shares relatively more"
   ]
  },
  {
   "cell_type": "code",
   "execution_count": 19,
   "metadata": {
    "collapsed": false
   },
   "outputs": [
    {
     "name": "stdout",
     "output_type": "stream",
     "text": [
      "                                                                           mean\n",
      "is_monday is_tuesday is_wednesday is_thursday is_friday is_weekend             \n",
      "0         0          0            0           0         1           3903.394412\n",
      "                                              1         0           3285.181021\n",
      "                                  1           0         0           3178.599147\n",
      "                     1            0           0         0           3303.405380\n",
      "          1          0            0           0         0           3202.500677\n",
      "1         0          0            0           0         0           3647.025822\n"
     ]
    },
    {
     "data": {
      "text/plain": [
       "<matplotlib.text.Text at 0x1150c278>"
      ]
     },
     "execution_count": 19,
     "metadata": {},
     "output_type": "execute_result"
    },
    {
     "data": {
      "image/png": "[encoded data removed]",
      "text/plain": [
       "<matplotlib.figure.Figure at 0x111d2ef0>"
      ]
     },
     "metadata": {},
     "output_type": "display_data"
    }
   ],
   "source": [
    "#on avg, which day shares more \n",
    "day_articles = data_frame.pivot_table('shares', index=['is_monday', 'is_tuesday', 'is_wednesday', 'is_thursday', 'is_friday', 'is_weekend'], aggfunc=[np.mean])\n",
    "print day_articles\n",
    "\n",
    "day_articles.plot(kind='bar', color='green')\n",
    "plt.legend(bbox_to_anchor=(1.05, 1), loc=2, borderaxespad=0.)\n",
    "plt.title('Mean share by day')\n",
    "plt.xlabel('Day')\n",
    "plt.ylabel('Shares')\n"
   ]
  },
  {
   "cell_type": "markdown",
   "metadata": {},
   "source": [
    "From the result above, it shows weekend and Monday shares relatively more\n"
   ]
  },
  {
   "cell_type": "code",
   "execution_count": 14,
   "metadata": {
    "collapsed": false
   },
   "outputs": [
    {
     "data": {
      "text/html": [
       "<div>\n",
       "<table border=\"1\" class=\"dataframe\">\n",
       "  <thead>\n",
       "    <tr>\n",
       "      <th></th>\n",
       "      <th colspan=\"3\" halign=\"left\">mean</th>\n",
       "    </tr>\n",
       "    <tr>\n",
       "      <th>is_tech</th>\n",
       "      <th>0.0</th>\n",
       "      <th>1.0</th>\n",
       "      <th>All</th>\n",
       "    </tr>\n",
       "    <tr>\n",
       "      <th>is_weekend</th>\n",
       "      <th></th>\n",
       "      <th></th>\n",
       "      <th></th>\n",
       "    </tr>\n",
       "  </thead>\n",
       "  <tbody>\n",
       "    <tr>\n",
       "      <th>0.0</th>\n",
       "      <td>3397.748296</td>\n",
       "      <td>2974.684514</td>\n",
       "      <td>3318.855140</td>\n",
       "    </tr>\n",
       "    <tr>\n",
       "      <th>1.0</th>\n",
       "      <td>3935.809792</td>\n",
       "      <td>3753.143322</td>\n",
       "      <td>3903.394412</td>\n",
       "    </tr>\n",
       "    <tr>\n",
       "      <th>All</th>\n",
       "      <td>3468.866772</td>\n",
       "      <td>3072.283283</td>\n",
       "      <td>3395.380184</td>\n",
       "    </tr>\n",
       "  </tbody>\n",
       "</table>\n",
       "</div>"
      ],
      "text/plain": [
       "                   mean                          \n",
       "is_tech             0.0          1.0          All\n",
       "is_weekend                                       \n",
       "0.0         3397.748296  2974.684514  3318.855140\n",
       "1.0         3935.809792  3753.143322  3903.394412\n",
       "All         3468.866772  3072.283283  3395.380184"
      ]
     },
     "execution_count": 14,
     "metadata": {},
     "output_type": "execute_result"
    }
   ],
   "source": [
    "# Mean shares for tech and not tech channels during and not during weekends\n",
    "data_frame.pivot_table('shares', index=['is_weekend'], columns=['is_tech'], aggfunc=[np.mean], margins=True)"
   ]
  },
  {
   "cell_type": "code",
   "execution_count": 17,
   "metadata": {
    "collapsed": false
   },
   "outputs": [
    {
     "name": "stdout",
     "output_type": "stream",
     "text": [
      "                                                                mean\n",
      "is_monday is_tuesday is_wednesday is_thursday is_friday             \n",
      "0         0          0            0           0          3753.143322\n",
      "                                              1          3050.812942\n",
      "                                  1           0          2744.542748\n",
      "                     1            0           0          3362.784051\n",
      "          1          0            0           0          2883.409769\n",
      "1         0          0            0           0          2821.483401\n"
     ]
    },
    {
     "data": {
      "text/plain": [
       "<matplotlib.text.Text at 0xf959da0>"
      ]
     },
     "execution_count": 17,
     "metadata": {},
     "output_type": "execute_result"
    },
    {
     "data": {
      "image/png": "[encoded data removed]",
      "text/plain": [
       "<matplotlib.figure.Figure at 0x12228eb8>"
      ]
     },
     "metadata": {},
     "output_type": "display_data"
    }
   ],
   "source": [
    "tech_articles = data_frame.ix[data_frame['is_tech'] == 1]\n",
    "tech_articles = tech_articles.pivot_table('shares', index=['is_monday', 'is_tuesday', 'is_wednesday', 'is_thursday', 'is_friday'], aggfunc=[np.mean])\n",
    "print tech_articles\n",
    "\n",
    "tech_articles.plot(kind='bar', color=['#5898f1'])\n",
    "plt.legend(bbox_to_anchor=(1.05, 1), loc=2, borderaxespad=0.)\n",
    "plt.title('Mean Tech Article Shares by Week Day')\n",
    "plt.xlabel('Week Day')\n",
    "plt.ylabel('Shares')\n"
   ]
  },
  {
   "cell_type": "code",
   "execution_count": 47,
   "metadata": {
    "collapsed": false
   },
   "outputs": [],
   "source": [
    "# Import the kmeans clustering model.\n",
    "from sklearn.cluster import KMeans\n",
    "\n",
    "kmeans_model = KMeans(n_clusters=6, random_state=1)\n",
    "good_columns = data_frame._get_numeric_data()\n",
    "kmeans_model.fit(good_columns)\n",
    "labels = kmeans_model.labels_"
   ]
  },
  {
   "cell_type": "code",
   "execution_count": 49,
   "metadata": {
    "collapsed": false
   },
   "outputs": [
    {
     "data": {
      "text/plain": [
       "<matplotlib.collections.PathCollection at 0xdc4dc88>"
      ]
     },
     "execution_count": 49,
     "metadata": {},
     "output_type": "execute_result"
    },
    {
     "data": {
      "image/png": "[encoded data removed]",
      "text/plain": [
       "<matplotlib.figure.Figure at 0xbe4eeb8>"
      ]
     },
     "metadata": {},
     "output_type": "display_data"
    }
   ],
   "source": [
    "from sklearn.decomposition import PCA\n",
    "\n",
    "pca_2 = PCA(2)\n",
    "# Fit the PCA model on the numeric columns from earlier.\n",
    "plot_columns = pca_2.fit_transform(good_columns)\n",
    "plt.scatter(x=plot_columns[:,0], y=plot_columns[:,1], c=labels)"
   ]
  },
  {
   "cell_type": "markdown",
   "metadata": {},
   "source": [
    "### Problem 1: the Business Part (20 points)\n",
    " As a group, learn about the data science related business and research about the current markets: such as search, social media, advertisement, recommendation and so on.\n",
    "Pick one of the markets for further consideration, and design a new service  which you believe to be important in the market. \n",
    "Define precisely in the report and briefly in the cells below, what is the business problem that your team wants to solve.\n",
    "Why the problem is important to solve? \n",
    "Why you believe you could make a big difference with data science technology.\n",
    "How are you planing to persuade the investors to buy in your idea."
   ]
  },
  {
   "cell_type": "markdown",
   "metadata": {},
   "source": [
    "**Please describe here *briefly*  (please edit this cell)**\n",
    "\n",
    "1) Your business problem to solve:\n",
    "\n",
    "\n",
    "\n",
    "2) Why the problem is important to solve? \n",
    "\n",
    "\n",
    "3) What is your idea to solve the problem? \n",
    "\n",
    "\n",
    "4) What differences you could make with your data science approach?\n",
    "\n",
    "\n",
    "5) Why do you believe the idea deserves the investment of the \"sharks\"?\n",
    "\n",
    "\n",
    "\n",
    "\n"
   ]
  },
  {
   "cell_type": "markdown",
   "metadata": {},
   "source": [
    "### Problem 2: The Math Part (20 points)"
   ]
  },
  {
   "cell_type": "markdown",
   "metadata": {},
   "source": [
    "Define the business problem as a math problem and design a math solution to the problem.\n"
   ]
  },
  {
   "cell_type": "markdown",
   "metadata": {},
   "source": [
    "**Insert your answers here**\n",
    "\n",
    "\n",
    "1) Problem formulation in Math:\n",
    "\n",
    "\n",
    "\n",
    "\n",
    "2) Math Solution:\n",
    "\n",
    "\n",
    "\n",
    "\n",
    "\n",
    "\n",
    "3) Implementation of the Solution\n"
   ]
  },
  {
   "cell_type": "code",
   "execution_count": 35,
   "metadata": {
    "collapsed": false
   },
   "outputs": [
    {
     "data": {
      "text/plain": [
       "timedelta                       0.008662\n",
       "n_tokens_title                  0.008783\n",
       "n_tokens_content                0.002459\n",
       "n_unique_tokens                 0.000806\n",
       "n_non_stop_words                0.000443\n",
       "n_non_stop_unique_tokens        0.000114\n",
       "num_hrefs                       0.045404\n",
       "num_self_hrefs                 -0.001900\n",
       "num_imgs                        0.039388\n",
       "num_videos                      0.023936\n",
       "average_token_length           -0.022007\n",
       "num_keywords                    0.021818\n",
       "is_lifestyle                    0.005831\n",
       "is_entertainment               -0.017006\n",
       "is_business                    -0.012376\n",
       "is_social_media                 0.005021\n",
       "is_tech                        -0.013253\n",
       "is_world                       -0.049497\n",
       "kw_min_min                     -0.001051\n",
       "kw_max_min                      0.030114\n",
       "kw_avg_min                      0.030406\n",
       "kw_min_max                      0.003901\n",
       "kw_max_max                      0.007863\n",
       "kw_avg_max                      0.044686\n",
       "kw_min_avg                      0.039551\n",
       "kw_max_avg                      0.064306\n",
       "kw_avg_avg                      0.110413\n",
       "self_reference_min_shares       0.055958\n",
       "self_reference_max_shares       0.047115\n",
       "self_reference_avg_sharess      0.057789\n",
       "is_monday                       0.009726\n",
       "is_tuesday                     -0.007941\n",
       "is_wednesday                   -0.003801\n",
       "is_thursday                    -0.008833\n",
       "is_friday                      -0.003884\n",
       "is_saturday                     0.015082\n",
       "is_sunday                       0.008230\n",
       "is_weekend                      0.016958\n",
       "LDA_00                         -0.003793\n",
       "LDA_01                         -0.010183\n",
       "LDA_02                         -0.059163\n",
       "LDA_03                          0.083771\n",
       "LDA_04                         -0.016622\n",
       "global_subjectivity             0.031604\n",
       "global_sentiment_polarity       0.004163\n",
       "global_rate_positive_words      0.000543\n",
       "global_rate_negative_words      0.006615\n",
       "rate_positive_words            -0.013241\n",
       "rate_negative_words            -0.005183\n",
       "avg_positive_polarity           0.012142\n",
       "min_positive_polarity          -0.000040\n",
       "max_positive_polarity           0.010068\n",
       "avg_negative_polarity          -0.032029\n",
       "min_negative_polarity          -0.019297\n",
       "max_negative_polarity          -0.019300\n",
       "title_subjectivity              0.021967\n",
       "title_sentiment_polarity        0.012772\n",
       "abs_title_subjectivity          0.001481\n",
       "abs_title_sentiment_polarity    0.027135\n",
       "shares                          1.000000\n",
       "Name: shares, dtype: float64"
      ]
     },
     "execution_count": 35,
     "metadata": {},
     "output_type": "execute_result"
    }
   ],
   "source": [
    "#Finding correlations\n",
    "data_frame.corr()[\"shares\"]"
   ]
  },
  {
   "cell_type": "markdown",
   "metadata": {},
   "source": [
    "### Problem 3: The Hacking Part  (20 points)\n"
   ]
  },
  {
   "cell_type": "markdown",
   "metadata": {},
   "source": [
    "* Data Collection\n",
    "* Implement a small Demo/Prototype/experiment result figures for the \"product\" of your data science company. You could use this demo during the Pitch"
   ]
  },
  {
   "cell_type": "code",
   "execution_count": null,
   "metadata": {
    "collapsed": false
   },
   "outputs": [],
   "source": [
    "# your code here\n",
    "\n",
    "\n",
    "\n",
    "\n"
   ]
  },
  {
   "cell_type": "markdown",
   "metadata": {},
   "source": [
    "*------------------------\n",
    "\n",
    "### Problem 4: Prepare a 90 second Pitch and *present* it in the class (20 points)\n",
    "\n",
    "* Prepare the slide(s) for the Pitch (10 points)\n",
    "* Present it in the class (10 points).\n",
    "\n",
    "*Advice:  It should really only be one or two slides, but a really good one or two slides!  Also, it is ok to select one person on the team to give the 90 second pitch (though a very organized multi-person 90 second pitch can be very impressive!) *\n",
    "\n"
   ]
  },
  {
   "cell_type": "markdown",
   "metadata": {},
   "source": [
    "# Report: communicate the results (20 points)\n",
    "\n",
    "(1) (5 points) What is your business proposition?\n",
    "\n",
    "(2) (5 points) Why this topic is interesting or important to you? (Motivations)\n",
    "\n",
    "(3) (5 points) How did you analyse the data?\n",
    "\n",
    "(4) (5 points) How does your analysis support your business proposition?\n",
    "(please include figures or tables in the report, but no source code)"
   ]
  },
  {
   "cell_type": "markdown",
   "metadata": {},
   "source": [
    "# Slides (for 10 minutes of presentation) (20 points)\n",
    "\n",
    "\n",
    "1. (5 points) Motivation about the data collection, why the topic is interesting to you. \n",
    "\n",
    "2. (10 points) Communicating Results (figure/table)\n",
    "\n",
    "3. (5 points) Story telling (How all the parts (data, analysis, result) fit together as a story?)"
   ]
  },
  {
   "cell_type": "markdown",
   "metadata": {},
   "source": [
    "*-----------------\n",
    "# Done\n",
    "\n",
    "All set! \n",
    "\n",
    "** What do you need to submit?**\n",
    "\n",
    "* **Notebook File**: Save this IPython notebook, and find the notebook file in your folder (for example, \"filename.ipynb\"). This is the file you need to submit. Please make sure all the plotted tables and figures are in the notebook. If you used \"ipython notebook --pylab=inline\" to open the notebook, all the figures and tables should have shown up in the notebook.\n",
    "\n",
    "\n",
    "* **PPT Slides**: **NOTE, for this Case Study you need to prepare two (2) PPT files!**  One for the 90 second Pitch and one for a normal 10 minute presentation.\n",
    "\n",
    "* ** Report**: please prepare a report (less than 10 pages) to report what you found in the data.\n",
    "\n",
    "     (please include figures or tables in the report, but no source code)\n",
    "\n",
    "*Please compress all the files into a single zipped file.*\n",
    "\n",
    "\n",
    "** How to submit: **\n",
    "\n",
    "        Send an email to rcpaffenroth@wpi.edu with the subject: \"[DS501] Case study 4\"."
   ]
  },
  {
   "cell_type": "code",
   "execution_count": null,
   "metadata": {
    "collapsed": true
   },
   "outputs": [],
   "source": []
  }
 ],
 "metadata": {
  "kernelspec": {
   "display_name": "Python 2",
   "language": "python",
   "name": "python2"
  },
  "language_info": {
   "codemirror_mode": {
    "name": "ipython",
    "version": 2
   },
   "file_extension": ".py",
   "mimetype": "text/x-python",
   "name": "python",
   "nbconvert_exporter": "python",
   "pygments_lexer": "ipython2",
   "version": "2.7.10"
  }
 },
 "nbformat": 4,
 "nbformat_minor": 0
}
