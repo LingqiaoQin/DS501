{
 "cells": [
  {
   "cell_type": "markdown",
   "metadata": {},
   "source": [
    "# Example 1. Authorizing an application to access Twitter account data"
   ]
  },
  {
   "cell_type": "code",
   "execution_count": 1,
   "metadata": {
    "collapsed": false
   },
   "outputs": [
    {
     "name": "stdout",
     "output_type": "stream",
     "text": [
      "<twitter.api.Twitter object at 0x000000000426F240>\n"
     ]
    }
   ],
   "source": [
    "import twitter\n",
    "# Go to http://dev.twitter.com/apps/new to create an app and get values\n",
    "# for these credentials, which you'll need to provide in place of these\n",
    "# empty string values that are defined as placeholders.\n",
    "# See https://dev.twitter.com/docs/auth/oauth for more information \n",
    "# on Twitter's OAuth implementation.\n",
    "\n",
    "CONSUMER_KEY = 'Tx8GozuzaraJO89LypsTqFUNM'\n",
    "CONSUMER_SECRET ='uC0KPaRZjGY0qoNJAxBQb0jbb3Us4DXJVKFCP1qtSfjFgbRvd0'\n",
    "OAUTH_TOKEN = '571213367-BC7MYnWpLbvy2AYhvqCu6Fh1EIeFasPxo0Y8uBEn'\n",
    "OAUTH_TOKEN_SECRET = 'KA9GddiLbVwummLoSGmDYMNQFVaR3P4YiGo7Zs6D5e7Qz'\n",
    "\n",
    "auth = twitter.oauth.OAuth(OAUTH_TOKEN, OAUTH_TOKEN_SECRET,\n",
    "                           CONSUMER_KEY, CONSUMER_SECRET)\n",
    "\n",
    "twitter_api = twitter.Twitter(auth=auth)\n",
    "\n",
    "# Nothing to see by displaying twitter_api except that it's now a\n",
    "# defined variable\n",
    "\n",
    "print twitter_api"
   ]
  },
  {
   "cell_type": "markdown",
   "metadata": {},
   "source": [
    "# Example 2. Retrieving trends"
   ]
  },
  {
   "cell_type": "code",
   "execution_count": 2,
   "metadata": {
    "collapsed": false
   },
   "outputs": [],
   "source": [
    "# The Yahoo! Where On Earth ID for the entire world is 1.\n",
    "# See https://dev.twitter.com/docs/api/1.1/get/trends/place and\n",
    "# http://developer.yahoo.com/geo/geoplanet/\n",
    "\n",
    "WORLD_WOE_ID = 1\n",
    "US_WOE_ID = 23424977\n",
    "\n",
    "# Prefix ID with the underscore for query string parameterization.\n",
    "# Without the underscore, the twitter package appends the ID value\n",
    "# to the URL itself as a special case keyword argument.\n",
    "\n",
    "world_trends = twitter_api.trends.place(_id=WORLD_WOE_ID)\n",
    "us_trends = twitter_api.trends.place(_id=US_WOE_ID)\n"
   ]
  },
  {
   "cell_type": "markdown",
   "metadata": {},
   "source": [
    "# Example 3.  Reading data into MongoDB"
   ]
  },
  {
   "cell_type": "code",
   "execution_count": 3,
   "metadata": {
    "collapsed": false
   },
   "outputs": [],
   "source": [
    "import json\n",
    "import pymongo"
   ]
  },
  {
   "cell_type": "code",
   "execution_count": 4,
   "metadata": {
    "collapsed": false
   },
   "outputs": [],
   "source": [
    "# Based upon example 9-7 in *required reading*\n",
    "# Mining the Soocial Web, Chapter 9\n",
    "\n",
    "# Connects to the MongoDB server running on \n",
    "# localhost:27017 by default\n",
    "    \n",
    "client = pymongo.MongoClient()\n",
    "    \n",
    "# Get a reference to a particular database\n",
    "    \n",
    "db = client['twitter']\n",
    "    \n",
    "# Reference a particular collection in the database\n",
    "coll = db['us_trends']\n",
    "\n",
    "# Clear any old data out of the database\n",
    "# **Only for Demonstration**\n",
    "coll.drop()\n",
    "    \n",
    "# Perform a bulk insert and  return the IDs\n",
    "    \n",
    "_ = coll.insert(us_trends[0]['trends'])\n"
   ]
  },
  {
   "cell_type": "markdown",
   "metadata": {
    "collapsed": false
   },
   "source": [
    "# Example 4.  Reading data out of MongoDB"
   ]
  },
  {
   "cell_type": "code",
   "execution_count": 5,
   "metadata": {
    "collapsed": true
   },
   "outputs": [],
   "source": [
    "# Connects to the MongoDB server running on \n",
    "# localhost:27017 by default\n",
    "    \n",
    "client = pymongo.MongoClient()\n",
    "    \n",
    "# Get a reference to a particular database\n",
    "    \n",
    "db = client['twitter']\n",
    "    \n",
    "# Reference a particular collection in the database\n",
    "coll = db['us_trends']"
   ]
  },
  {
   "cell_type": "code",
   "execution_count": 6,
   "metadata": {
    "collapsed": true
   },
   "outputs": [],
   "source": [
    "cursor = coll.find({})"
   ]
  },
  {
   "cell_type": "code",
   "execution_count": 7,
   "metadata": {
    "collapsed": false
   },
   "outputs": [
    {
     "name": "stdout",
     "output_type": "stream",
     "text": [
      "#Trumpertantrum 26665\n",
      "#HillarySoProgressive 23859\n",
      "#EVOL 32249\n",
      "#Madoff None\n",
      "#MyIdeaOfQualityTimeIs None\n",
      "Rick Santorum 24510\n",
      "Thug 99725\n",
      "Drita None\n",
      "Sumner Redstone None\n",
      "Carmella None\n",
      "PJ Black None\n",
      "Valencia 299638\n",
      "Alerta Roja None\n",
      "US Soccer None\n",
      "#DownloadThisIsNotTheAlbum 17829\n",
      "#AwkwardYearbookSignings None\n",
      "#YoungandHungry None\n",
      "#BetterWaysToElectPOTUS 15143\n",
      "#WizWarriors None\n",
      "#MosqueVisit 60876\n",
      "#DownInTheDMRemix None\n",
      "#WelcomeBackWTK None\n",
      "#DemBows None\n",
      "#MysteriesofLaura None\n",
      "#ThatsWhenIHeardTheSirens None\n",
      "#doggydatenight None\n",
      "#CruzisaSnakeBecause None\n",
      "#YolandahTODAY None\n",
      "#pugchat None\n",
      "#HayQueSalirDeMaduro 22533\n",
      "#SELFIEFORSEB 35757\n",
      "#WhoWillSpeakForEngland 15648\n",
      "#BillCosby None\n",
      "#PleaseClap None\n",
      "#trollingstone None\n",
      "#createlounge None\n",
      "#BlueSteelSelfie None\n",
      "#CLEatCHA None\n",
      "#DETvsTBL None\n",
      "#eCreameryLove None\n",
      "#1045BdayShow None\n",
      "#TackleHomelessness None\n",
      "#GSWatWAS None\n",
      "#innovateNJ None\n",
      "#asktristan None\n",
      "#Ask5SOS None\n",
      "#livingroomsession 35849\n",
      "#SoloRound None\n",
      "#WhenILoseIBlame None\n",
      "#RDTV None\n"
     ]
    }
   ],
   "source": [
    "for trend in cursor:\n",
    "    print trend['name'], trend['tweet_volume'] "
   ]
  },
  {
   "cell_type": "markdown",
   "metadata": {},
   "source": [
    "# Example 5. Searching MongoDB"
   ]
  },
  {
   "cell_type": "code",
   "execution_count": 8,
   "metadata": {
    "collapsed": true
   },
   "outputs": [],
   "source": [
    "# Do a search!  See \n",
    "# https://docs.mongodb.org/getting-started/python/query/\n",
    "# and\n",
    "# https://docs.mongodb.org/manual/tutorial/query-documents/\n",
    "# for details.\n",
    "cursor = coll.find({'tweet_volume': {'$gt': 30000} })"
   ]
  },
  {
   "cell_type": "code",
   "execution_count": 9,
   "metadata": {
    "collapsed": false
   },
   "outputs": [
    {
     "name": "stdout",
     "output_type": "stream",
     "text": [
      "#EVOL 32249\n",
      "Thug 99725\n",
      "Valencia 299638\n",
      "#MosqueVisit 60876\n",
      "#SELFIEFORSEB 35757\n",
      "#livingroomsession 35849\n"
     ]
    }
   ],
   "source": [
    "for trend in cursor:\n",
    "    print trend['name'], trend['tweet_volume'] "
   ]
  },
  {
   "cell_type": "markdown",
   "metadata": {},
   "source": [
    "# Example 6. Fancy searches... regular expressions!"
   ]
  },
  {
   "cell_type": "code",
   "execution_count": 10,
   "metadata": {
    "collapsed": false
   },
   "outputs": [],
   "source": [
    "# Do a search!  See \n",
    "# https://docs.mongodb.org/getting-started/python/query/\n",
    "# and\n",
    "# https://docs.mongodb.org/manual/tutorial/query-documents/\n",
    "# for details.\n",
    "cursor = coll.find({'$or': [ {'tweet_volume': {'$gt': 30000}} , {'name':  {'$regex': '.*love.*', '$options': 'i' }} ] })"
   ]
  },
  {
   "cell_type": "code",
   "execution_count": 11,
   "metadata": {
    "collapsed": false
   },
   "outputs": [
    {
     "name": "stdout",
     "output_type": "stream",
     "text": [
      "#EVOL 32249\n",
      "Thug 99725\n",
      "Valencia 299638\n",
      "#MosqueVisit 60876\n",
      "#SELFIEFORSEB 35757\n",
      "#eCreameryLove None\n",
      "#livingroomsession 35849\n"
     ]
    }
   ],
   "source": [
    "for trend in cursor:\n",
    "    print trend['name'], trend['tweet_volume'] "
   ]
  },
  {
   "cell_type": "code",
   "execution_count": null,
   "metadata": {
    "collapsed": true
   },
   "outputs": [],
   "source": []
  },
  {
   "cell_type": "code",
   "execution_count": null,
   "metadata": {
    "collapsed": true
   },
   "outputs": [],
   "source": []
  }
 ],
 "metadata": {
  "kernelspec": {
   "display_name": "Python 2",
   "language": "python",
   "name": "python2"
  },
  "language_info": {
   "codemirror_mode": {
    "name": "ipython",
    "version": 2
   },
   "file_extension": ".py",
   "mimetype": "text/x-python",
   "name": "python",
   "nbconvert_exporter": "python",
   "pygments_lexer": "ipython2",
   "version": "2.7.10"
  }
 },
 "nbformat": 4,
 "nbformat_minor": 0
}
