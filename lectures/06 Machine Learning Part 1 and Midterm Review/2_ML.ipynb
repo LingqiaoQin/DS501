{
 "cells": [
  {
   "cell_type": "markdown",
   "metadata": {},
   "source": [
    "# Loading in the libraries."
   ]
  },
  {
   "cell_type": "code",
   "execution_count": 62,
   "metadata": {
    "collapsed": false
   },
   "outputs": [],
   "source": [
    "# Old libraries that we know and love.\n",
    "import numpy as np\n",
    "import matplotlib.pylab as py\n",
    "import pandas as pa\n",
    "%matplotlib inline\n",
    "\n",
    "# Our new libraries.\n",
    "from sklearn import datasets\n",
    "from mpl_toolkits.mplot3d import Axes3D\n",
    "import mayavi.mlab as mlab\n",
    "\n",
    "iris = datasets.load_iris()"
   ]
  },
  {
   "cell_type": "markdown",
   "metadata": {},
   "source": [
    "# Looking at the data"
   ]
  },
  {
   "cell_type": "code",
   "execution_count": 63,
   "metadata": {
    "collapsed": false,
    "scrolled": true
   },
   "outputs": [
    {
     "name": "stdout",
     "output_type": "stream",
     "text": [
      "Iris Plants Database\n",
      "\n",
      "Notes\n",
      "-----\n",
      "Data Set Characteristics:\n",
      "    :Number of Instances: 150 (50 in each of three classes)\n",
      "    :Number of Attributes: 4 numeric, predictive attributes and the class\n",
      "    :Attribute Information:\n",
      "        - sepal length in cm\n",
      "        - sepal width in cm\n",
      "        - petal length in cm\n",
      "        - petal width in cm\n",
      "        - class:\n",
      "                - Iris-Setosa\n",
      "                - Iris-Versicolour\n",
      "                - Iris-Virginica\n",
      "    :Summary Statistics:\n",
      "\n",
      "    ============== ==== ==== ======= ===== ====================\n",
      "                    Min  Max   Mean    SD   Class Correlation\n",
      "    ============== ==== ==== ======= ===== ====================\n",
      "    sepal length:   4.3  7.9   5.84   0.83    0.7826\n",
      "    sepal width:    2.0  4.4   3.05   0.43   -0.4194\n",
      "    petal length:   1.0  6.9   3.76   1.76    0.9490  (high!)\n",
      "    petal width:    0.1  2.5   1.20  0.76     0.9565  (high!)\n",
      "    ============== ==== ==== ======= ===== ====================\n",
      "\n",
      "    :Missing Attribute Values: None\n",
      "    :Class Distribution: 33.3% for each of 3 classes.\n",
      "    :Creator: R.A. Fisher\n",
      "    :Donor: Michael Marshall (MARSHALL%PLU@io.arc.nasa.gov)\n",
      "    :Date: July, 1988\n",
      "\n",
      "This is a copy of UCI ML iris datasets.\n",
      "http://archive.ics.uci.edu/ml/datasets/Iris\n",
      "\n",
      "The famous Iris database, first used by Sir R.A Fisher\n",
      "\n",
      "This is perhaps the best known database to be found in the\n",
      "pattern recognition literature.  Fisher's paper is a classic in the field and\n",
      "is referenced frequently to this day.  (See Duda & Hart, for example.)  The\n",
      "data set contains 3 classes of 50 instances each, where each class refers to a\n",
      "type of iris plant.  One class is linearly separable from the other 2; the\n",
      "latter are NOT linearly separable from each other.\n",
      "\n",
      "References\n",
      "----------\n",
      "   - Fisher,R.A. \"The use of multiple measurements in taxonomic problems\"\n",
      "     Annual Eugenics, 7, Part II, 179-188 (1936); also in \"Contributions to\n",
      "     Mathematical Statistics\" (John Wiley, NY, 1950).\n",
      "   - Duda,R.O., & Hart,P.E. (1973) Pattern Classification and Scene Analysis.\n",
      "     (Q327.D83) John Wiley & Sons.  ISBN 0-471-22361-1.  See page 218.\n",
      "   - Dasarathy, B.V. (1980) \"Nosing Around the Neighborhood: A New System\n",
      "     Structure and Classification Rule for Recognition in Partially Exposed\n",
      "     Environments\".  IEEE Transactions on Pattern Analysis and Machine\n",
      "     Intelligence, Vol. PAMI-2, No. 1, 67-71.\n",
      "   - Gates, G.W. (1972) \"The Reduced Nearest Neighbor Rule\".  IEEE Transactions\n",
      "     on Information Theory, May 1972, 431-433.\n",
      "   - See also: 1988 MLC Proceedings, 54-64.  Cheeseman et al\"s AUTOCLASS II\n",
      "     conceptual clustering system finds 3 classes in the data.\n",
      "   - Many, many more ...\n",
      "\n"
     ]
    }
   ],
   "source": [
    "print iris['DESCR']"
   ]
  },
  {
   "cell_type": "code",
   "execution_count": 64,
   "metadata": {
    "collapsed": false,
    "scrolled": true
   },
   "outputs": [
    {
     "data": {
      "text/plain": [
       "{'DESCR': 'Iris Plants Database\\n\\nNotes\\n-----\\nData Set Characteristics:\\n    :Number of Instances: 150 (50 in each of three classes)\\n    :Number of Attributes: 4 numeric, predictive attributes and the class\\n    :Attribute Information:\\n        - sepal length in cm\\n        - sepal width in cm\\n        - petal length in cm\\n        - petal width in cm\\n        - class:\\n                - Iris-Setosa\\n                - Iris-Versicolour\\n                - Iris-Virginica\\n    :Summary Statistics:\\n\\n    ============== ==== ==== ======= ===== ====================\\n                    Min  Max   Mean    SD   Class Correlation\\n    ============== ==== ==== ======= ===== ====================\\n    sepal length:   4.3  7.9   5.84   0.83    0.7826\\n    sepal width:    2.0  4.4   3.05   0.43   -0.4194\\n    petal length:   1.0  6.9   3.76   1.76    0.9490  (high!)\\n    petal width:    0.1  2.5   1.20  0.76     0.9565  (high!)\\n    ============== ==== ==== ======= ===== ====================\\n\\n    :Missing Attribute Values: None\\n    :Class Distribution: 33.3% for each of 3 classes.\\n    :Creator: R.A. Fisher\\n    :Donor: Michael Marshall (MARSHALL%PLU@io.arc.nasa.gov)\\n    :Date: July, 1988\\n\\nThis is a copy of UCI ML iris datasets.\\nhttp://archive.ics.uci.edu/ml/datasets/Iris\\n\\nThe famous Iris database, first used by Sir R.A Fisher\\n\\nThis is perhaps the best known database to be found in the\\npattern recognition literature.  Fisher\\'s paper is a classic in the field and\\nis referenced frequently to this day.  (See Duda & Hart, for example.)  The\\ndata set contains 3 classes of 50 instances each, where each class refers to a\\ntype of iris plant.  One class is linearly separable from the other 2; the\\nlatter are NOT linearly separable from each other.\\n\\nReferences\\n----------\\n   - Fisher,R.A. \"The use of multiple measurements in taxonomic problems\"\\n     Annual Eugenics, 7, Part II, 179-188 (1936); also in \"Contributions to\\n     Mathematical Statistics\" (John Wiley, NY, 1950).\\n   - Duda,R.O., & Hart,P.E. (1973) Pattern Classification and Scene Analysis.\\n     (Q327.D83) John Wiley & Sons.  ISBN 0-471-22361-1.  See page 218.\\n   - Dasarathy, B.V. (1980) \"Nosing Around the Neighborhood: A New System\\n     Structure and Classification Rule for Recognition in Partially Exposed\\n     Environments\".  IEEE Transactions on Pattern Analysis and Machine\\n     Intelligence, Vol. PAMI-2, No. 1, 67-71.\\n   - Gates, G.W. (1972) \"The Reduced Nearest Neighbor Rule\".  IEEE Transactions\\n     on Information Theory, May 1972, 431-433.\\n   - See also: 1988 MLC Proceedings, 54-64.  Cheeseman et al\"s AUTOCLASS II\\n     conceptual clustering system finds 3 classes in the data.\\n   - Many, many more ...\\n',\n",
       " 'data': array([[ 5.1,  3.5,  1.4,  0.2],\n",
       "        [ 4.9,  3. ,  1.4,  0.2],\n",
       "        [ 4.7,  3.2,  1.3,  0.2],\n",
       "        [ 4.6,  3.1,  1.5,  0.2],\n",
       "        [ 5. ,  3.6,  1.4,  0.2],\n",
       "        [ 5.4,  3.9,  1.7,  0.4],\n",
       "        [ 4.6,  3.4,  1.4,  0.3],\n",
       "        [ 5. ,  3.4,  1.5,  0.2],\n",
       "        [ 4.4,  2.9,  1.4,  0.2],\n",
       "        [ 4.9,  3.1,  1.5,  0.1],\n",
       "        [ 5.4,  3.7,  1.5,  0.2],\n",
       "        [ 4.8,  3.4,  1.6,  0.2],\n",
       "        [ 4.8,  3. ,  1.4,  0.1],\n",
       "        [ 4.3,  3. ,  1.1,  0.1],\n",
       "        [ 5.8,  4. ,  1.2,  0.2],\n",
       "        [ 5.7,  4.4,  1.5,  0.4],\n",
       "        [ 5.4,  3.9,  1.3,  0.4],\n",
       "        [ 5.1,  3.5,  1.4,  0.3],\n",
       "        [ 5.7,  3.8,  1.7,  0.3],\n",
       "        [ 5.1,  3.8,  1.5,  0.3],\n",
       "        [ 5.4,  3.4,  1.7,  0.2],\n",
       "        [ 5.1,  3.7,  1.5,  0.4],\n",
       "        [ 4.6,  3.6,  1. ,  0.2],\n",
       "        [ 5.1,  3.3,  1.7,  0.5],\n",
       "        [ 4.8,  3.4,  1.9,  0.2],\n",
       "        [ 5. ,  3. ,  1.6,  0.2],\n",
       "        [ 5. ,  3.4,  1.6,  0.4],\n",
       "        [ 5.2,  3.5,  1.5,  0.2],\n",
       "        [ 5.2,  3.4,  1.4,  0.2],\n",
       "        [ 4.7,  3.2,  1.6,  0.2],\n",
       "        [ 4.8,  3.1,  1.6,  0.2],\n",
       "        [ 5.4,  3.4,  1.5,  0.4],\n",
       "        [ 5.2,  4.1,  1.5,  0.1],\n",
       "        [ 5.5,  4.2,  1.4,  0.2],\n",
       "        [ 4.9,  3.1,  1.5,  0.1],\n",
       "        [ 5. ,  3.2,  1.2,  0.2],\n",
       "        [ 5.5,  3.5,  1.3,  0.2],\n",
       "        [ 4.9,  3.1,  1.5,  0.1],\n",
       "        [ 4.4,  3. ,  1.3,  0.2],\n",
       "        [ 5.1,  3.4,  1.5,  0.2],\n",
       "        [ 5. ,  3.5,  1.3,  0.3],\n",
       "        [ 4.5,  2.3,  1.3,  0.3],\n",
       "        [ 4.4,  3.2,  1.3,  0.2],\n",
       "        [ 5. ,  3.5,  1.6,  0.6],\n",
       "        [ 5.1,  3.8,  1.9,  0.4],\n",
       "        [ 4.8,  3. ,  1.4,  0.3],\n",
       "        [ 5.1,  3.8,  1.6,  0.2],\n",
       "        [ 4.6,  3.2,  1.4,  0.2],\n",
       "        [ 5.3,  3.7,  1.5,  0.2],\n",
       "        [ 5. ,  3.3,  1.4,  0.2],\n",
       "        [ 7. ,  3.2,  4.7,  1.4],\n",
       "        [ 6.4,  3.2,  4.5,  1.5],\n",
       "        [ 6.9,  3.1,  4.9,  1.5],\n",
       "        [ 5.5,  2.3,  4. ,  1.3],\n",
       "        [ 6.5,  2.8,  4.6,  1.5],\n",
       "        [ 5.7,  2.8,  4.5,  1.3],\n",
       "        [ 6.3,  3.3,  4.7,  1.6],\n",
       "        [ 4.9,  2.4,  3.3,  1. ],\n",
       "        [ 6.6,  2.9,  4.6,  1.3],\n",
       "        [ 5.2,  2.7,  3.9,  1.4],\n",
       "        [ 5. ,  2. ,  3.5,  1. ],\n",
       "        [ 5.9,  3. ,  4.2,  1.5],\n",
       "        [ 6. ,  2.2,  4. ,  1. ],\n",
       "        [ 6.1,  2.9,  4.7,  1.4],\n",
       "        [ 5.6,  2.9,  3.6,  1.3],\n",
       "        [ 6.7,  3.1,  4.4,  1.4],\n",
       "        [ 5.6,  3. ,  4.5,  1.5],\n",
       "        [ 5.8,  2.7,  4.1,  1. ],\n",
       "        [ 6.2,  2.2,  4.5,  1.5],\n",
       "        [ 5.6,  2.5,  3.9,  1.1],\n",
       "        [ 5.9,  3.2,  4.8,  1.8],\n",
       "        [ 6.1,  2.8,  4. ,  1.3],\n",
       "        [ 6.3,  2.5,  4.9,  1.5],\n",
       "        [ 6.1,  2.8,  4.7,  1.2],\n",
       "        [ 6.4,  2.9,  4.3,  1.3],\n",
       "        [ 6.6,  3. ,  4.4,  1.4],\n",
       "        [ 6.8,  2.8,  4.8,  1.4],\n",
       "        [ 6.7,  3. ,  5. ,  1.7],\n",
       "        [ 6. ,  2.9,  4.5,  1.5],\n",
       "        [ 5.7,  2.6,  3.5,  1. ],\n",
       "        [ 5.5,  2.4,  3.8,  1.1],\n",
       "        [ 5.5,  2.4,  3.7,  1. ],\n",
       "        [ 5.8,  2.7,  3.9,  1.2],\n",
       "        [ 6. ,  2.7,  5.1,  1.6],\n",
       "        [ 5.4,  3. ,  4.5,  1.5],\n",
       "        [ 6. ,  3.4,  4.5,  1.6],\n",
       "        [ 6.7,  3.1,  4.7,  1.5],\n",
       "        [ 6.3,  2.3,  4.4,  1.3],\n",
       "        [ 5.6,  3. ,  4.1,  1.3],\n",
       "        [ 5.5,  2.5,  4. ,  1.3],\n",
       "        [ 5.5,  2.6,  4.4,  1.2],\n",
       "        [ 6.1,  3. ,  4.6,  1.4],\n",
       "        [ 5.8,  2.6,  4. ,  1.2],\n",
       "        [ 5. ,  2.3,  3.3,  1. ],\n",
       "        [ 5.6,  2.7,  4.2,  1.3],\n",
       "        [ 5.7,  3. ,  4.2,  1.2],\n",
       "        [ 5.7,  2.9,  4.2,  1.3],\n",
       "        [ 6.2,  2.9,  4.3,  1.3],\n",
       "        [ 5.1,  2.5,  3. ,  1.1],\n",
       "        [ 5.7,  2.8,  4.1,  1.3],\n",
       "        [ 6.3,  3.3,  6. ,  2.5],\n",
       "        [ 5.8,  2.7,  5.1,  1.9],\n",
       "        [ 7.1,  3. ,  5.9,  2.1],\n",
       "        [ 6.3,  2.9,  5.6,  1.8],\n",
       "        [ 6.5,  3. ,  5.8,  2.2],\n",
       "        [ 7.6,  3. ,  6.6,  2.1],\n",
       "        [ 4.9,  2.5,  4.5,  1.7],\n",
       "        [ 7.3,  2.9,  6.3,  1.8],\n",
       "        [ 6.7,  2.5,  5.8,  1.8],\n",
       "        [ 7.2,  3.6,  6.1,  2.5],\n",
       "        [ 6.5,  3.2,  5.1,  2. ],\n",
       "        [ 6.4,  2.7,  5.3,  1.9],\n",
       "        [ 6.8,  3. ,  5.5,  2.1],\n",
       "        [ 5.7,  2.5,  5. ,  2. ],\n",
       "        [ 5.8,  2.8,  5.1,  2.4],\n",
       "        [ 6.4,  3.2,  5.3,  2.3],\n",
       "        [ 6.5,  3. ,  5.5,  1.8],\n",
       "        [ 7.7,  3.8,  6.7,  2.2],\n",
       "        [ 7.7,  2.6,  6.9,  2.3],\n",
       "        [ 6. ,  2.2,  5. ,  1.5],\n",
       "        [ 6.9,  3.2,  5.7,  2.3],\n",
       "        [ 5.6,  2.8,  4.9,  2. ],\n",
       "        [ 7.7,  2.8,  6.7,  2. ],\n",
       "        [ 6.3,  2.7,  4.9,  1.8],\n",
       "        [ 6.7,  3.3,  5.7,  2.1],\n",
       "        [ 7.2,  3.2,  6. ,  1.8],\n",
       "        [ 6.2,  2.8,  4.8,  1.8],\n",
       "        [ 6.1,  3. ,  4.9,  1.8],\n",
       "        [ 6.4,  2.8,  5.6,  2.1],\n",
       "        [ 7.2,  3. ,  5.8,  1.6],\n",
       "        [ 7.4,  2.8,  6.1,  1.9],\n",
       "        [ 7.9,  3.8,  6.4,  2. ],\n",
       "        [ 6.4,  2.8,  5.6,  2.2],\n",
       "        [ 6.3,  2.8,  5.1,  1.5],\n",
       "        [ 6.1,  2.6,  5.6,  1.4],\n",
       "        [ 7.7,  3. ,  6.1,  2.3],\n",
       "        [ 6.3,  3.4,  5.6,  2.4],\n",
       "        [ 6.4,  3.1,  5.5,  1.8],\n",
       "        [ 6. ,  3. ,  4.8,  1.8],\n",
       "        [ 6.9,  3.1,  5.4,  2.1],\n",
       "        [ 6.7,  3.1,  5.6,  2.4],\n",
       "        [ 6.9,  3.1,  5.1,  2.3],\n",
       "        [ 5.8,  2.7,  5.1,  1.9],\n",
       "        [ 6.8,  3.2,  5.9,  2.3],\n",
       "        [ 6.7,  3.3,  5.7,  2.5],\n",
       "        [ 6.7,  3. ,  5.2,  2.3],\n",
       "        [ 6.3,  2.5,  5. ,  1.9],\n",
       "        [ 6.5,  3. ,  5.2,  2. ],\n",
       "        [ 6.2,  3.4,  5.4,  2.3],\n",
       "        [ 5.9,  3. ,  5.1,  1.8]]),\n",
       " 'feature_names': ['sepal length (cm)',\n",
       "  'sepal width (cm)',\n",
       "  'petal length (cm)',\n",
       "  'petal width (cm)'],\n",
       " 'target': array([0, 0, 0, 0, 0, 0, 0, 0, 0, 0, 0, 0, 0, 0, 0, 0, 0, 0, 0, 0, 0, 0, 0,\n",
       "        0, 0, 0, 0, 0, 0, 0, 0, 0, 0, 0, 0, 0, 0, 0, 0, 0, 0, 0, 0, 0, 0, 0,\n",
       "        0, 0, 0, 0, 1, 1, 1, 1, 1, 1, 1, 1, 1, 1, 1, 1, 1, 1, 1, 1, 1, 1, 1,\n",
       "        1, 1, 1, 1, 1, 1, 1, 1, 1, 1, 1, 1, 1, 1, 1, 1, 1, 1, 1, 1, 1, 1, 1,\n",
       "        1, 1, 1, 1, 1, 1, 1, 1, 2, 2, 2, 2, 2, 2, 2, 2, 2, 2, 2, 2, 2, 2, 2,\n",
       "        2, 2, 2, 2, 2, 2, 2, 2, 2, 2, 2, 2, 2, 2, 2, 2, 2, 2, 2, 2, 2, 2, 2,\n",
       "        2, 2, 2, 2, 2, 2, 2, 2, 2, 2, 2, 2]),\n",
       " 'target_names': array(['setosa', 'versicolor', 'virginica'], \n",
       "       dtype='|S10')}"
      ]
     },
     "execution_count": 64,
     "metadata": {},
     "output_type": "execute_result"
    }
   ],
   "source": [
    "iris"
   ]
  },
  {
   "cell_type": "code",
   "execution_count": 65,
   "metadata": {
    "collapsed": false
   },
   "outputs": [],
   "source": [
    "X = iris['data']\n",
    "y = iris['target']"
   ]
  },
  {
   "cell_type": "code",
   "execution_count": 66,
   "metadata": {
    "collapsed": false
   },
   "outputs": [
    {
     "data": {
      "text/plain": [
       "[<matplotlib.lines.Line2D at 0x63021940>]"
      ]
     },
     "execution_count": 66,
     "metadata": {},
     "output_type": "execute_result"
    },
    {
     "data": {
      "image/png": "[encoded data removed]",
      "text/plain": [
       "<matplotlib.figure.Figure at 0x1b9c4160>"
      ]
     },
     "metadata": {},
     "output_type": "display_data"
    }
   ],
   "source": [
    "py.plot(X[y==0,0],X[y==0,1],'r.')\n",
    "py.plot(X[y==1,0],X[y==1,1],'g.')\n",
    "py.plot(X[y==2,0],X[y==2,1],'b.')"
   ]
  },
  {
   "cell_type": "code",
   "execution_count": 67,
   "metadata": {
    "collapsed": false
   },
   "outputs": [
    {
     "data": {
      "text/plain": [
       "[<matplotlib.lines.Line2D at 0x6319b5f8>]"
      ]
     },
     "execution_count": 67,
     "metadata": {},
     "output_type": "execute_result"
    },
    {
     "data": {
      "image/png": "[encoded data removed]",
      "text/plain": [
       "<matplotlib.figure.Figure at 0x5f1594a8>"
      ]
     },
     "metadata": {},
     "output_type": "display_data"
    }
   ],
   "source": [
    "py.plot(X[y==0,2],X[y==0,3],'r.')\n",
    "py.plot(X[y==1,2],X[y==1,3],'g.')\n",
    "py.plot(X[y==2,2],X[y==2,3],'b.')"
   ]
  },
  {
   "cell_type": "code",
   "execution_count": 68,
   "metadata": {
    "collapsed": false
   },
   "outputs": [
    {
     "data": {
      "image/png": "[encoded data removed]",
      "text/plain": [
       "<matplotlib.figure.Figure at 0x6313e6d8>"
      ]
     },
     "metadata": {},
     "output_type": "display_data"
    }
   ],
   "source": [
    "fig = py.figure(1, figsize=(8, 6))\n",
    "ax = Axes3D(fig, elev=-150, azim=110)\n",
    "ax.scatter(X[y==0, 0], X[y==0, 1], X[y==0, 2], c='r')\n",
    "ax.scatter(X[y==1, 0], X[y==1, 1], X[y==1, 2], c='g')\n",
    "ax.scatter(X[y==2, 0], X[y==2, 1], X[y==2, 2], c='b')\n",
    "py.show()"
   ]
  },
  {
   "cell_type": "code",
   "execution_count": 69,
   "metadata": {
    "collapsed": false
   },
   "outputs": [],
   "source": [
    "mlab.clf()\n",
    "mlab.points3d(X[y==0, 0], X[y==0, 1], X[y==0, 2],color=(1,0,0))\n",
    "mlab.points3d(X[y==1, 0], X[y==1, 1], X[y==1, 2],color=(0,1,0))\n",
    "mlab.points3d(X[y==2, 0], X[y==2, 1], X[y==2, 2],color=(0,0,1))\n",
    "mlab.axes()\n",
    "mlab.show()"
   ]
  },
  {
   "cell_type": "markdown",
   "metadata": {},
   "source": [
    "Is there a more principled way to look at the data?  Yes!  <b>Let's go back to the notes.</b>"
   ]
  },
  {
   "cell_type": "markdown",
   "metadata": {},
   "source": [
    "# More principled ways to look at the data, Principle Component Analysis (PCA)!"
   ]
  },
  {
   "cell_type": "markdown",
   "metadata": {},
   "source": [
    "Some sample data to demonstrate PCA on."
   ]
  },
  {
   "cell_type": "code",
   "execution_count": 70,
   "metadata": {
    "collapsed": false
   },
   "outputs": [],
   "source": [
    "mu1 = np.array([0,0,0])\n",
    "mu2 = np.array([6,0,0])\n",
    "np.random.seed(123)\n",
    "Sigma = np.matrix(np.random.normal(size=[3,3]))\n",
    "# U,E,VT = np.linalg.svd(Sigma)\n",
    "# E[0] = 1\n",
    "# E[1] = 1\n",
    "# E[2] = 1\n",
    "# Sigma = U*np.diag(E)*VT\n",
    "Xrandom1 = np.random.multivariate_normal(mu1,np.array(Sigma*Sigma.T),size=500)\n",
    "Xrandom2 = np.random.multivariate_normal(mu2,np.array(Sigma*Sigma.T),size=500)"
   ]
  },
  {
   "cell_type": "markdown",
   "metadata": {},
   "source": [
    "Plot the data so that it is \"spread out\" as much as possible."
   ]
  },
  {
   "cell_type": "code",
   "execution_count": 71,
   "metadata": {
    "collapsed": false
   },
   "outputs": [],
   "source": [
    "mlab.clf()\n",
    "mlab.points3d(Xrandom1[:,0], Xrandom1[:,1], Xrandom1[:,2],color=(1,0,0))\n",
    "mlab.points3d(Xrandom2[:,0], Xrandom2[:,1], Xrandom2[:,2],color=(0,1,0))\n",
    "mlab.axes()\n",
    "mlab.show()"
   ]
  },
  {
   "cell_type": "markdown",
   "metadata": {},
   "source": [
    "Can do the same thing with our classification data."
   ]
  },
  {
   "cell_type": "code",
   "execution_count": 72,
   "metadata": {
    "collapsed": false
   },
   "outputs": [
    {
     "data": {
      "text/plain": [
       "[<matplotlib.lines.Line2D at 0x5f0c6898>]"
      ]
     },
     "execution_count": 72,
     "metadata": {},
     "output_type": "execute_result"
    },
    {
     "data": {
      "image/png": "[encoded data removed]",
      "text/plain": [
       "<matplotlib.figure.Figure at 0x5f7a6b38>"
      ]
     },
     "metadata": {},
     "output_type": "display_data"
    }
   ],
   "source": [
    "from sklearn.decomposition import PCA\n",
    "\n",
    "X2D = PCA(n_components=3).fit_transform(X)\n",
    "py.plot(X2D[y==0,0],X2D[y==0,1],'r.')\n",
    "py.plot(X2D[y==1,0],X2D[y==1,1],'g.')\n",
    "py.plot(X2D[y==2,0],X2D[y==2,1],'b.')"
   ]
  },
  {
   "cell_type": "markdown",
   "metadata": {},
   "source": [
    "Just as one can project from a high dimensional space to a two-dimensional space, one can also do the same thing to project to a three-dimensional space."
   ]
  },
  {
   "cell_type": "code",
   "execution_count": 73,
   "metadata": {
    "collapsed": false
   },
   "outputs": [
    {
     "data": {
      "image/png": "[encoded data removed]",
      "text/plain": [
       "<matplotlib.figure.Figure at 0x1bdafeb8>"
      ]
     },
     "metadata": {},
     "output_type": "display_data"
    }
   ],
   "source": [
    "fig = py.figure(1, figsize=(8, 6))\n",
    "ax = Axes3D(fig, elev=-150, azim=110)\n",
    "X3D = PCA(n_components=3).fit_transform(X)\n",
    "ax.scatter(X3D[y==0, 0], X3D[y==0, 1], X3D[y==0, 2], c='r')\n",
    "ax.scatter(X3D[y==1, 0], X3D[y==1, 1], X3D[y==1, 2], c='g')\n",
    "ax.scatter(X3D[y==2, 0], X3D[y==2, 1], X3D[y==2, 2], c='b')\n",
    "py.show()"
   ]
  },
  {
   "cell_type": "markdown",
   "metadata": {},
   "source": [
    "And do the same with Mayavi."
   ]
  },
  {
   "cell_type": "code",
   "execution_count": 74,
   "metadata": {
    "collapsed": false
   },
   "outputs": [],
   "source": [
    "mlab.clf()\n",
    "mlab.points3d(X3D[y==0, 0], X3D[y==0, 1], X3D[y==0, 2],color=(1,0,0))\n",
    "mlab.points3d(X3D[y==1, 0], X3D[y==1, 1], X3D[y==1, 2],color=(0,1,0))\n",
    "mlab.points3d(X3D[y==2, 0], X3D[y==2, 1], X3D[y==2, 2],color=(0,0,1))\n",
    "mlab.axes()\n",
    "mlab.show()"
   ]
  },
  {
   "cell_type": "markdown",
   "metadata": {},
   "source": [
    "<b>Let's go back to the notes for our first algorithm.</b>"
   ]
  },
  {
   "cell_type": "markdown",
   "metadata": {},
   "source": [
    "# Our first classification tool, Linear Support Vector Machines."
   ]
  },
  {
   "cell_type": "code",
   "execution_count": 75,
   "metadata": {
    "collapsed": false
   },
   "outputs": [],
   "source": [
    "# Load in the support vector machine (SVM) library\n",
    "from sklearn import svm"
   ]
  },
  {
   "cell_type": "code",
   "execution_count": 77,
   "metadata": {
    "collapsed": false
   },
   "outputs": [],
   "source": [
    "# If there is one thing that I want to harp on, it is the difference\n",
    "# between testing and training errors!  So, here we create a training\n",
    "# set on which we computer the parameters of our algorithm, and a \n",
    "# testing set for seeing how well we generalize (and work on real \n",
    "# world problems).\n",
    "np.random.seed(1236)\n",
    "perm = np.random.permutation(len(y))\n",
    "trainSize = 100\n",
    "Xtrain = X[perm[:trainSize],0:2]\n",
    "Xtest = X[perm[trainSize:],0:2]\n",
    "\n",
    "yHat = np.zeros([len(y)])\n",
    "\n",
    "# Exists a separator\n",
    "#yHat[np.logical_or(y==1,y==2)] = 1\n",
    "# No perfect separator\n",
    "#yHat[np.logical_or(y==1,y==0)] = 1\n",
    "# All the data\n",
    "yHat = y \n",
    "\n",
    "yHattrain = yHat[perm[:trainSize]]\n",
    "yHattest = yHat[perm[trainSize:]]"
   ]
  },
  {
   "cell_type": "markdown",
   "metadata": {},
   "source": [
    "## ^^^^^^^^^^^^^^^^^^^^^^^^^^^^^^^^^  <p><font color=\"red\">But why do you do this? See the notes.</font> "
   ]
  },
  {
   "cell_type": "code",
   "execution_count": 78,
   "metadata": {
    "collapsed": false
   },
   "outputs": [],
   "source": [
    "# Some parameters we can get to play with\n",
    "# If there is no perfect separator then how much do you penalize points\n",
    "# that lay on the wrong side?\n",
    "C = 100.\n",
    "# The shape of the loss function for points that lay on the wrong side.\n",
    "loss = 'l2'"
   ]
  },
  {
   "cell_type": "code",
   "execution_count": 79,
   "metadata": {
    "collapsed": false
   },
   "outputs": [
    {
     "name": "stderr",
     "output_type": "stream",
     "text": [
      "C:\\Users\\randy_000\\AppData\\Local\\Enthought\\Canopy\\User\\lib\\site-packages\\sklearn\\svm\\classes.py:197: DeprecationWarning: loss='l2' has been deprecated in favor of loss='squared_hinge' as of 0.16. Backward compatibility for the loss='l2' will be removed in 1.0\n",
      "  DeprecationWarning)\n"
     ]
    },
    {
     "data": {
      "text/plain": [
       "LinearSVC(C=100.0, class_weight=None, dual=True, fit_intercept=True,\n",
       "     intercept_scaling=1, loss='squared_hinge', max_iter=1000,\n",
       "     multi_class='ovr', penalty='l2', random_state=None, tol=0.0001,\n",
       "     verbose=0)"
      ]
     },
     "execution_count": 79,
     "metadata": {},
     "output_type": "execute_result"
    }
   ],
   "source": [
    "# Run the calculation!\n",
    "clf = svm.LinearSVC(loss=loss,C=C)\n",
    "clf.fit(Xtrain, yHattrain)"
   ]
  },
  {
   "cell_type": "code",
   "execution_count": 80,
   "metadata": {
    "collapsed": false
   },
   "outputs": [
    {
     "data": {
      "image/png": "[encoded data removed]",
      "text/plain": [
       "<matplotlib.figure.Figure at 0x6354bf28>"
      ]
     },
     "metadata": {},
     "output_type": "display_data"
    }
   ],
   "source": [
    "# Make some plots, inspired by scikit-learn tutorial\n",
    "from matplotlib.colors import ListedColormap\n",
    "\n",
    "# step size in the mesh for plotting the decision boundary.\n",
    "h = .02  \n",
    "# Plot the decision boundary. For that, we will assign a color to each\n",
    "# point in the mesh [x_min, m_max]x[y_min, y_max].\n",
    "x_min, x_max = X[:, 0].min() - 1, X[:, 0].max() + 1\n",
    "y_min, y_max = X[:, 1].min() - 1, X[:, 1].max() + 1\n",
    "xx, yy = np.meshgrid(np.arange(x_min, x_max, h),\n",
    "                         np.arange(y_min, y_max, h))\n",
    "Z = clf.predict(np.c_[xx.ravel(), yy.ravel()])\n",
    "\n",
    "# Put the result into a color plot\n",
    "Z = Z.reshape(xx.shape)\n",
    "py.figure(1, figsize=(8, 6))\n",
    "cmap_light = ListedColormap(['#FFAAAA', '#AAFFAA', '#AAAAFF'])\n",
    "cmap_bold = ListedColormap(['#FF0000', '#00FF00', '#0000FF'])\n",
    "py.pcolormesh(xx, yy, Z, cmap=cmap_light)\n",
    "\n",
    "# Plot also the training points\n",
    "py.scatter(Xtrain[:, 0], Xtrain[:, 1], c=yHattrain, cmap=cmap_bold,marker='o')\n",
    "py.scatter(Xtest[:, 0], Xtest[:, 1], c=yHattest, cmap=cmap_bold,marker='+')\n",
    "py.xlim(xx.min(), xx.max())\n",
    "py.ylim(yy.min(), yy.max())\n",
    "py.show()"
   ]
  },
  {
   "cell_type": "code",
   "execution_count": 81,
   "metadata": {
    "collapsed": false
   },
   "outputs": [
    {
     "name": "stdout",
     "output_type": "stream",
     "text": [
      "training score 0.76\n",
      "testing score 0.7\n"
     ]
    }
   ],
   "source": [
    "# Print out some metrics\n",
    "print 'training score',clf.score(Xtrain,yHattrain)\n",
    "print 'testing score',clf.score(Xtest,yHattest)"
   ]
  },
  {
   "cell_type": "markdown",
   "metadata": {},
   "source": [
    "<b>Back to the notes to define our next method.</b>"
   ]
  },
  {
   "cell_type": "markdown",
   "metadata": {},
   "source": [
    "# Our second classification tool, K-nearest neighbors."
   ]
  },
  {
   "cell_type": "code",
   "execution_count": 82,
   "metadata": {
    "collapsed": false
   },
   "outputs": [],
   "source": [
    "# Import the K-NN solver\n",
    "from sklearn import neighbors"
   ]
  },
  {
   "cell_type": "code",
   "execution_count": 83,
   "metadata": {
    "collapsed": false
   },
   "outputs": [],
   "source": [
    "# If there is one thing that I want to harp on, it is the difference\n",
    "# between testing and training errors!  So, here we create a training\n",
    "# set on which we computer the parameters of our algorithm, and a \n",
    "# testing set for seeing how well we generalize (and work on real \n",
    "# world problems).\n",
    "np.random.seed(123)\n",
    "perm = np.random.permutation(len(y))\n",
    "trainSize = 50\n",
    "Xtrain = X[perm[:trainSize],0:2]\n",
    "Xtest = X[perm[trainSize:],0:2]\n",
    "\n",
    "ytrain = y[perm[:trainSize]]\n",
    "ytest = y[perm[trainSize:]]"
   ]
  },
  {
   "cell_type": "code",
   "execution_count": 84,
   "metadata": {
    "collapsed": false
   },
   "outputs": [],
   "source": [
    "# Some parameters to play around with\n",
    "\n",
    "# The number of neighbors to use.\n",
    "n_neighbors = 7\n",
    "\n",
    "#weights = 'distance'\n",
    "weights = 'uniform'"
   ]
  },
  {
   "cell_type": "code",
   "execution_count": 85,
   "metadata": {
    "collapsed": false
   },
   "outputs": [
    {
     "data": {
      "text/plain": [
       "KNeighborsClassifier(algorithm='auto', leaf_size=30, metric='minkowski',\n",
       "           metric_params=None, n_jobs=1, n_neighbors=7, p=2,\n",
       "           weights='uniform')"
      ]
     },
     "execution_count": 85,
     "metadata": {},
     "output_type": "execute_result"
    }
   ],
   "source": [
    "# Run the calculation\n",
    "clf = neighbors.KNeighborsClassifier(n_neighbors, weights=weights)\n",
    "clf.fit(Xtrain, ytrain)"
   ]
  },
  {
   "cell_type": "code",
   "execution_count": 86,
   "metadata": {
    "collapsed": false
   },
   "outputs": [
    {
     "data": {
      "image/png": "[encoded data removed]",
      "text/plain": [
       "<matplotlib.figure.Figure at 0x633a1278>"
      ]
     },
     "metadata": {},
     "output_type": "display_data"
    }
   ],
   "source": [
    "# Make some plots inspired by sci-kit learn tutorial\n",
    "\n",
    "# step size in the mesh for plotting the decision boundary.\n",
    "h = .02  \n",
    "\n",
    "# Create color maps\n",
    "cmap_light = ListedColormap(['#FFAAAA', '#AAFFAA', '#AAAAFF'])\n",
    "cmap_bold = ListedColormap(['#FF0000', '#00FF00', '#0000FF'])\n",
    "\n",
    "# Plot the decision boundary. For that, we will assign a color to each\n",
    "# point in the mesh [x_min, m_max]x[y_min, y_max].\n",
    "x_min, x_max = X[:, 0].min() - 1, X[:, 0].max() + 1\n",
    "y_min, y_max = X[:, 1].min() - 1, X[:, 1].max() + 1\n",
    "xx, yy = np.meshgrid(np.arange(x_min, x_max, h),\n",
    "                         np.arange(y_min, y_max, h))\n",
    "Z = clf.predict(np.c_[xx.ravel(), yy.ravel()])\n",
    "\n",
    "# Put the result into a color plot\n",
    "Z = Z.reshape(xx.shape)\n",
    "py.figure(1, figsize=(8, 6))\n",
    "py.pcolormesh(xx, yy, Z, cmap=cmap_light)\n",
    "\n",
    "# Plot also the training points\n",
    "py.scatter(Xtrain[:, 0], Xtrain[:, 1], c=ytrain, cmap=cmap_bold,marker='o')\n",
    "py.scatter(Xtest[:, 0], Xtest[:, 1], c=ytest, cmap=cmap_bold,marker='+')\n",
    "py.xlim(xx.min(), xx.max())\n",
    "py.ylim(yy.min(), yy.max())\n",
    "py.show()"
   ]
  },
  {
   "cell_type": "code",
   "execution_count": 87,
   "metadata": {
    "collapsed": false
   },
   "outputs": [
    {
     "name": "stdout",
     "output_type": "stream",
     "text": [
      "training score 0.9\n",
      "testing score 0.69\n"
     ]
    }
   ],
   "source": [
    "# Print out some scores.\n",
    "print 'training score',clf.score(Xtrain,ytrain)\n",
    "print 'testing score',clf.score(Xtest,ytest)"
   ]
  },
  {
   "cell_type": "markdown",
   "metadata": {},
   "source": [
    "<b>Back to the notes.</b>"
   ]
  },
  {
   "cell_type": "markdown",
   "metadata": {},
   "source": [
    "## Loading in the libraries for regression."
   ]
  },
  {
   "cell_type": "code",
   "execution_count": 2,
   "metadata": {
    "collapsed": false
   },
   "outputs": [],
   "source": [
    "# Old libraries that we know and love.\n",
    "import numpy as np\n",
    "import matplotlib.pylab as py\n",
    "import pandas as pa\n",
    "\n",
    "# Our new libraries.\n",
    "from sklearn import cross_validation, linear_model, feature_selection, metrics\n",
    "import mayavi.mlab as mlab"
   ]
  },
  {
   "cell_type": "markdown",
   "metadata": {},
   "source": [
    "# Supervised Regression"
   ]
  },
  {
   "cell_type": "markdown",
   "metadata": {},
   "source": [
    "## Linear Regression"
   ]
  },
  {
   "cell_type": "code",
   "execution_count": 3,
   "metadata": {
    "collapsed": false
   },
   "outputs": [],
   "source": [
    "# Read in the data using \n",
    "Xy = pa.read_csv('Advertising.csv')"
   ]
  },
  {
   "cell_type": "code",
   "execution_count": 4,
   "metadata": {
    "collapsed": false
   },
   "outputs": [
    {
     "data": {
      "text/html": [
       "<div>\n",
       "<table border=\"1\" class=\"dataframe\">\n",
       "  <thead>\n",
       "    <tr style=\"text-align: right;\">\n",
       "      <th></th>\n",
       "      <th>Unnamed: 0</th>\n",
       "      <th>TV</th>\n",
       "      <th>Radio</th>\n",
       "      <th>Newspaper</th>\n",
       "      <th>Sales</th>\n",
       "    </tr>\n",
       "  </thead>\n",
       "  <tbody>\n",
       "    <tr>\n",
       "      <th>0</th>\n",
       "      <td>1</td>\n",
       "      <td>230.1</td>\n",
       "      <td>37.8</td>\n",
       "      <td>69.2</td>\n",
       "      <td>22.1</td>\n",
       "    </tr>\n",
       "    <tr>\n",
       "      <th>1</th>\n",
       "      <td>2</td>\n",
       "      <td>44.5</td>\n",
       "      <td>39.3</td>\n",
       "      <td>45.1</td>\n",
       "      <td>10.4</td>\n",
       "    </tr>\n",
       "    <tr>\n",
       "      <th>2</th>\n",
       "      <td>3</td>\n",
       "      <td>17.2</td>\n",
       "      <td>45.9</td>\n",
       "      <td>69.3</td>\n",
       "      <td>9.3</td>\n",
       "    </tr>\n",
       "    <tr>\n",
       "      <th>3</th>\n",
       "      <td>4</td>\n",
       "      <td>151.5</td>\n",
       "      <td>41.3</td>\n",
       "      <td>58.5</td>\n",
       "      <td>18.5</td>\n",
       "    </tr>\n",
       "    <tr>\n",
       "      <th>4</th>\n",
       "      <td>5</td>\n",
       "      <td>180.8</td>\n",
       "      <td>10.8</td>\n",
       "      <td>58.4</td>\n",
       "      <td>12.9</td>\n",
       "    </tr>\n",
       "    <tr>\n",
       "      <th>5</th>\n",
       "      <td>6</td>\n",
       "      <td>8.7</td>\n",
       "      <td>48.9</td>\n",
       "      <td>75.0</td>\n",
       "      <td>7.2</td>\n",
       "    </tr>\n",
       "    <tr>\n",
       "      <th>6</th>\n",
       "      <td>7</td>\n",
       "      <td>57.5</td>\n",
       "      <td>32.8</td>\n",
       "      <td>23.5</td>\n",
       "      <td>11.8</td>\n",
       "    </tr>\n",
       "    <tr>\n",
       "      <th>7</th>\n",
       "      <td>8</td>\n",
       "      <td>120.2</td>\n",
       "      <td>19.6</td>\n",
       "      <td>11.6</td>\n",
       "      <td>13.2</td>\n",
       "    </tr>\n",
       "    <tr>\n",
       "      <th>8</th>\n",
       "      <td>9</td>\n",
       "      <td>8.6</td>\n",
       "      <td>2.1</td>\n",
       "      <td>1.0</td>\n",
       "      <td>4.8</td>\n",
       "    </tr>\n",
       "    <tr>\n",
       "      <th>9</th>\n",
       "      <td>10</td>\n",
       "      <td>199.8</td>\n",
       "      <td>2.6</td>\n",
       "      <td>21.2</td>\n",
       "      <td>10.6</td>\n",
       "    </tr>\n",
       "    <tr>\n",
       "      <th>10</th>\n",
       "      <td>11</td>\n",
       "      <td>66.1</td>\n",
       "      <td>5.8</td>\n",
       "      <td>24.2</td>\n",
       "      <td>8.6</td>\n",
       "    </tr>\n",
       "    <tr>\n",
       "      <th>11</th>\n",
       "      <td>12</td>\n",
       "      <td>214.7</td>\n",
       "      <td>24.0</td>\n",
       "      <td>4.0</td>\n",
       "      <td>17.4</td>\n",
       "    </tr>\n",
       "    <tr>\n",
       "      <th>12</th>\n",
       "      <td>13</td>\n",
       "      <td>23.8</td>\n",
       "      <td>35.1</td>\n",
       "      <td>65.9</td>\n",
       "      <td>9.2</td>\n",
       "    </tr>\n",
       "    <tr>\n",
       "      <th>13</th>\n",
       "      <td>14</td>\n",
       "      <td>97.5</td>\n",
       "      <td>7.6</td>\n",
       "      <td>7.2</td>\n",
       "      <td>9.7</td>\n",
       "    </tr>\n",
       "    <tr>\n",
       "      <th>14</th>\n",
       "      <td>15</td>\n",
       "      <td>204.1</td>\n",
       "      <td>32.9</td>\n",
       "      <td>46.0</td>\n",
       "      <td>19.0</td>\n",
       "    </tr>\n",
       "    <tr>\n",
       "      <th>15</th>\n",
       "      <td>16</td>\n",
       "      <td>195.4</td>\n",
       "      <td>47.7</td>\n",
       "      <td>52.9</td>\n",
       "      <td>22.4</td>\n",
       "    </tr>\n",
       "    <tr>\n",
       "      <th>16</th>\n",
       "      <td>17</td>\n",
       "      <td>67.8</td>\n",
       "      <td>36.6</td>\n",
       "      <td>114.0</td>\n",
       "      <td>12.5</td>\n",
       "    </tr>\n",
       "    <tr>\n",
       "      <th>17</th>\n",
       "      <td>18</td>\n",
       "      <td>281.4</td>\n",
       "      <td>39.6</td>\n",
       "      <td>55.8</td>\n",
       "      <td>24.4</td>\n",
       "    </tr>\n",
       "    <tr>\n",
       "      <th>18</th>\n",
       "      <td>19</td>\n",
       "      <td>69.2</td>\n",
       "      <td>20.5</td>\n",
       "      <td>18.3</td>\n",
       "      <td>11.3</td>\n",
       "    </tr>\n",
       "    <tr>\n",
       "      <th>19</th>\n",
       "      <td>20</td>\n",
       "      <td>147.3</td>\n",
       "      <td>23.9</td>\n",
       "      <td>19.1</td>\n",
       "      <td>14.6</td>\n",
       "    </tr>\n",
       "    <tr>\n",
       "      <th>20</th>\n",
       "      <td>21</td>\n",
       "      <td>218.4</td>\n",
       "      <td>27.7</td>\n",
       "      <td>53.4</td>\n",
       "      <td>18.0</td>\n",
       "    </tr>\n",
       "    <tr>\n",
       "      <th>21</th>\n",
       "      <td>22</td>\n",
       "      <td>237.4</td>\n",
       "      <td>5.1</td>\n",
       "      <td>23.5</td>\n",
       "      <td>12.5</td>\n",
       "    </tr>\n",
       "    <tr>\n",
       "      <th>22</th>\n",
       "      <td>23</td>\n",
       "      <td>13.2</td>\n",
       "      <td>15.9</td>\n",
       "      <td>49.6</td>\n",
       "      <td>5.6</td>\n",
       "    </tr>\n",
       "    <tr>\n",
       "      <th>23</th>\n",
       "      <td>24</td>\n",
       "      <td>228.3</td>\n",
       "      <td>16.9</td>\n",
       "      <td>26.2</td>\n",
       "      <td>15.5</td>\n",
       "    </tr>\n",
       "    <tr>\n",
       "      <th>24</th>\n",
       "      <td>25</td>\n",
       "      <td>62.3</td>\n",
       "      <td>12.6</td>\n",
       "      <td>18.3</td>\n",
       "      <td>9.7</td>\n",
       "    </tr>\n",
       "    <tr>\n",
       "      <th>25</th>\n",
       "      <td>26</td>\n",
       "      <td>262.9</td>\n",
       "      <td>3.5</td>\n",
       "      <td>19.5</td>\n",
       "      <td>12.0</td>\n",
       "    </tr>\n",
       "    <tr>\n",
       "      <th>26</th>\n",
       "      <td>27</td>\n",
       "      <td>142.9</td>\n",
       "      <td>29.3</td>\n",
       "      <td>12.6</td>\n",
       "      <td>15.0</td>\n",
       "    </tr>\n",
       "    <tr>\n",
       "      <th>27</th>\n",
       "      <td>28</td>\n",
       "      <td>240.1</td>\n",
       "      <td>16.7</td>\n",
       "      <td>22.9</td>\n",
       "      <td>15.9</td>\n",
       "    </tr>\n",
       "    <tr>\n",
       "      <th>28</th>\n",
       "      <td>29</td>\n",
       "      <td>248.8</td>\n",
       "      <td>27.1</td>\n",
       "      <td>22.9</td>\n",
       "      <td>18.9</td>\n",
       "    </tr>\n",
       "    <tr>\n",
       "      <th>29</th>\n",
       "      <td>30</td>\n",
       "      <td>70.6</td>\n",
       "      <td>16.0</td>\n",
       "      <td>40.8</td>\n",
       "      <td>10.5</td>\n",
       "    </tr>\n",
       "    <tr>\n",
       "      <th>...</th>\n",
       "      <td>...</td>\n",
       "      <td>...</td>\n",
       "      <td>...</td>\n",
       "      <td>...</td>\n",
       "      <td>...</td>\n",
       "    </tr>\n",
       "    <tr>\n",
       "      <th>170</th>\n",
       "      <td>171</td>\n",
       "      <td>50.0</td>\n",
       "      <td>11.6</td>\n",
       "      <td>18.4</td>\n",
       "      <td>8.4</td>\n",
       "    </tr>\n",
       "    <tr>\n",
       "      <th>171</th>\n",
       "      <td>172</td>\n",
       "      <td>164.5</td>\n",
       "      <td>20.9</td>\n",
       "      <td>47.4</td>\n",
       "      <td>14.5</td>\n",
       "    </tr>\n",
       "    <tr>\n",
       "      <th>172</th>\n",
       "      <td>173</td>\n",
       "      <td>19.6</td>\n",
       "      <td>20.1</td>\n",
       "      <td>17.0</td>\n",
       "      <td>7.6</td>\n",
       "    </tr>\n",
       "    <tr>\n",
       "      <th>173</th>\n",
       "      <td>174</td>\n",
       "      <td>168.4</td>\n",
       "      <td>7.1</td>\n",
       "      <td>12.8</td>\n",
       "      <td>11.7</td>\n",
       "    </tr>\n",
       "    <tr>\n",
       "      <th>174</th>\n",
       "      <td>175</td>\n",
       "      <td>222.4</td>\n",
       "      <td>3.4</td>\n",
       "      <td>13.1</td>\n",
       "      <td>11.5</td>\n",
       "    </tr>\n",
       "    <tr>\n",
       "      <th>175</th>\n",
       "      <td>176</td>\n",
       "      <td>276.9</td>\n",
       "      <td>48.9</td>\n",
       "      <td>41.8</td>\n",
       "      <td>27.0</td>\n",
       "    </tr>\n",
       "    <tr>\n",
       "      <th>176</th>\n",
       "      <td>177</td>\n",
       "      <td>248.4</td>\n",
       "      <td>30.2</td>\n",
       "      <td>20.3</td>\n",
       "      <td>20.2</td>\n",
       "    </tr>\n",
       "    <tr>\n",
       "      <th>177</th>\n",
       "      <td>178</td>\n",
       "      <td>170.2</td>\n",
       "      <td>7.8</td>\n",
       "      <td>35.2</td>\n",
       "      <td>11.7</td>\n",
       "    </tr>\n",
       "    <tr>\n",
       "      <th>178</th>\n",
       "      <td>179</td>\n",
       "      <td>276.7</td>\n",
       "      <td>2.3</td>\n",
       "      <td>23.7</td>\n",
       "      <td>11.8</td>\n",
       "    </tr>\n",
       "    <tr>\n",
       "      <th>179</th>\n",
       "      <td>180</td>\n",
       "      <td>165.6</td>\n",
       "      <td>10.0</td>\n",
       "      <td>17.6</td>\n",
       "      <td>12.6</td>\n",
       "    </tr>\n",
       "    <tr>\n",
       "      <th>180</th>\n",
       "      <td>181</td>\n",
       "      <td>156.6</td>\n",
       "      <td>2.6</td>\n",
       "      <td>8.3</td>\n",
       "      <td>10.5</td>\n",
       "    </tr>\n",
       "    <tr>\n",
       "      <th>181</th>\n",
       "      <td>182</td>\n",
       "      <td>218.5</td>\n",
       "      <td>5.4</td>\n",
       "      <td>27.4</td>\n",
       "      <td>12.2</td>\n",
       "    </tr>\n",
       "    <tr>\n",
       "      <th>182</th>\n",
       "      <td>183</td>\n",
       "      <td>56.2</td>\n",
       "      <td>5.7</td>\n",
       "      <td>29.7</td>\n",
       "      <td>8.7</td>\n",
       "    </tr>\n",
       "    <tr>\n",
       "      <th>183</th>\n",
       "      <td>184</td>\n",
       "      <td>287.6</td>\n",
       "      <td>43.0</td>\n",
       "      <td>71.8</td>\n",
       "      <td>26.2</td>\n",
       "    </tr>\n",
       "    <tr>\n",
       "      <th>184</th>\n",
       "      <td>185</td>\n",
       "      <td>253.8</td>\n",
       "      <td>21.3</td>\n",
       "      <td>30.0</td>\n",
       "      <td>17.6</td>\n",
       "    </tr>\n",
       "    <tr>\n",
       "      <th>185</th>\n",
       "      <td>186</td>\n",
       "      <td>205.0</td>\n",
       "      <td>45.1</td>\n",
       "      <td>19.6</td>\n",
       "      <td>22.6</td>\n",
       "    </tr>\n",
       "    <tr>\n",
       "      <th>186</th>\n",
       "      <td>187</td>\n",
       "      <td>139.5</td>\n",
       "      <td>2.1</td>\n",
       "      <td>26.6</td>\n",
       "      <td>10.3</td>\n",
       "    </tr>\n",
       "    <tr>\n",
       "      <th>187</th>\n",
       "      <td>188</td>\n",
       "      <td>191.1</td>\n",
       "      <td>28.7</td>\n",
       "      <td>18.2</td>\n",
       "      <td>17.3</td>\n",
       "    </tr>\n",
       "    <tr>\n",
       "      <th>188</th>\n",
       "      <td>189</td>\n",
       "      <td>286.0</td>\n",
       "      <td>13.9</td>\n",
       "      <td>3.7</td>\n",
       "      <td>15.9</td>\n",
       "    </tr>\n",
       "    <tr>\n",
       "      <th>189</th>\n",
       "      <td>190</td>\n",
       "      <td>18.7</td>\n",
       "      <td>12.1</td>\n",
       "      <td>23.4</td>\n",
       "      <td>6.7</td>\n",
       "    </tr>\n",
       "    <tr>\n",
       "      <th>190</th>\n",
       "      <td>191</td>\n",
       "      <td>39.5</td>\n",
       "      <td>41.1</td>\n",
       "      <td>5.8</td>\n",
       "      <td>10.8</td>\n",
       "    </tr>\n",
       "    <tr>\n",
       "      <th>191</th>\n",
       "      <td>192</td>\n",
       "      <td>75.5</td>\n",
       "      <td>10.8</td>\n",
       "      <td>6.0</td>\n",
       "      <td>9.9</td>\n",
       "    </tr>\n",
       "    <tr>\n",
       "      <th>192</th>\n",
       "      <td>193</td>\n",
       "      <td>17.2</td>\n",
       "      <td>4.1</td>\n",
       "      <td>31.6</td>\n",
       "      <td>5.9</td>\n",
       "    </tr>\n",
       "    <tr>\n",
       "      <th>193</th>\n",
       "      <td>194</td>\n",
       "      <td>166.8</td>\n",
       "      <td>42.0</td>\n",
       "      <td>3.6</td>\n",
       "      <td>19.6</td>\n",
       "    </tr>\n",
       "    <tr>\n",
       "      <th>194</th>\n",
       "      <td>195</td>\n",
       "      <td>149.7</td>\n",
       "      <td>35.6</td>\n",
       "      <td>6.0</td>\n",
       "      <td>17.3</td>\n",
       "    </tr>\n",
       "    <tr>\n",
       "      <th>195</th>\n",
       "      <td>196</td>\n",
       "      <td>38.2</td>\n",
       "      <td>3.7</td>\n",
       "      <td>13.8</td>\n",
       "      <td>7.6</td>\n",
       "    </tr>\n",
       "    <tr>\n",
       "      <th>196</th>\n",
       "      <td>197</td>\n",
       "      <td>94.2</td>\n",
       "      <td>4.9</td>\n",
       "      <td>8.1</td>\n",
       "      <td>9.7</td>\n",
       "    </tr>\n",
       "    <tr>\n",
       "      <th>197</th>\n",
       "      <td>198</td>\n",
       "      <td>177.0</td>\n",
       "      <td>9.3</td>\n",
       "      <td>6.4</td>\n",
       "      <td>12.8</td>\n",
       "    </tr>\n",
       "    <tr>\n",
       "      <th>198</th>\n",
       "      <td>199</td>\n",
       "      <td>283.6</td>\n",
       "      <td>42.0</td>\n",
       "      <td>66.2</td>\n",
       "      <td>25.5</td>\n",
       "    </tr>\n",
       "    <tr>\n",
       "      <th>199</th>\n",
       "      <td>200</td>\n",
       "      <td>232.1</td>\n",
       "      <td>8.6</td>\n",
       "      <td>8.7</td>\n",
       "      <td>13.4</td>\n",
       "    </tr>\n",
       "  </tbody>\n",
       "</table>\n",
       "<p>200 rows × 5 columns</p>\n",
       "</div>"
      ],
      "text/plain": [
       "     Unnamed: 0     TV  Radio  Newspaper  Sales\n",
       "0             1  230.1   37.8       69.2   22.1\n",
       "1             2   44.5   39.3       45.1   10.4\n",
       "2             3   17.2   45.9       69.3    9.3\n",
       "3             4  151.5   41.3       58.5   18.5\n",
       "4             5  180.8   10.8       58.4   12.9\n",
       "5             6    8.7   48.9       75.0    7.2\n",
       "6             7   57.5   32.8       23.5   11.8\n",
       "7             8  120.2   19.6       11.6   13.2\n",
       "8             9    8.6    2.1        1.0    4.8\n",
       "9            10  199.8    2.6       21.2   10.6\n",
       "10           11   66.1    5.8       24.2    8.6\n",
       "11           12  214.7   24.0        4.0   17.4\n",
       "12           13   23.8   35.1       65.9    9.2\n",
       "13           14   97.5    7.6        7.2    9.7\n",
       "14           15  204.1   32.9       46.0   19.0\n",
       "15           16  195.4   47.7       52.9   22.4\n",
       "16           17   67.8   36.6      114.0   12.5\n",
       "17           18  281.4   39.6       55.8   24.4\n",
       "18           19   69.2   20.5       18.3   11.3\n",
       "19           20  147.3   23.9       19.1   14.6\n",
       "20           21  218.4   27.7       53.4   18.0\n",
       "21           22  237.4    5.1       23.5   12.5\n",
       "22           23   13.2   15.9       49.6    5.6\n",
       "23           24  228.3   16.9       26.2   15.5\n",
       "24           25   62.3   12.6       18.3    9.7\n",
       "25           26  262.9    3.5       19.5   12.0\n",
       "26           27  142.9   29.3       12.6   15.0\n",
       "27           28  240.1   16.7       22.9   15.9\n",
       "28           29  248.8   27.1       22.9   18.9\n",
       "29           30   70.6   16.0       40.8   10.5\n",
       "..          ...    ...    ...        ...    ...\n",
       "170         171   50.0   11.6       18.4    8.4\n",
       "171         172  164.5   20.9       47.4   14.5\n",
       "172         173   19.6   20.1       17.0    7.6\n",
       "173         174  168.4    7.1       12.8   11.7\n",
       "174         175  222.4    3.4       13.1   11.5\n",
       "175         176  276.9   48.9       41.8   27.0\n",
       "176         177  248.4   30.2       20.3   20.2\n",
       "177         178  170.2    7.8       35.2   11.7\n",
       "178         179  276.7    2.3       23.7   11.8\n",
       "179         180  165.6   10.0       17.6   12.6\n",
       "180         181  156.6    2.6        8.3   10.5\n",
       "181         182  218.5    5.4       27.4   12.2\n",
       "182         183   56.2    5.7       29.7    8.7\n",
       "183         184  287.6   43.0       71.8   26.2\n",
       "184         185  253.8   21.3       30.0   17.6\n",
       "185         186  205.0   45.1       19.6   22.6\n",
       "186         187  139.5    2.1       26.6   10.3\n",
       "187         188  191.1   28.7       18.2   17.3\n",
       "188         189  286.0   13.9        3.7   15.9\n",
       "189         190   18.7   12.1       23.4    6.7\n",
       "190         191   39.5   41.1        5.8   10.8\n",
       "191         192   75.5   10.8        6.0    9.9\n",
       "192         193   17.2    4.1       31.6    5.9\n",
       "193         194  166.8   42.0        3.6   19.6\n",
       "194         195  149.7   35.6        6.0   17.3\n",
       "195         196   38.2    3.7       13.8    7.6\n",
       "196         197   94.2    4.9        8.1    9.7\n",
       "197         198  177.0    9.3        6.4   12.8\n",
       "198         199  283.6   42.0       66.2   25.5\n",
       "199         200  232.1    8.6        8.7   13.4\n",
       "\n",
       "[200 rows x 5 columns]"
      ]
     },
     "execution_count": 4,
     "metadata": {},
     "output_type": "execute_result"
    }
   ],
   "source": [
    "# Take a look at the contents.\n",
    "Xy"
   ]
  },
  {
   "cell_type": "code",
   "execution_count": 5,
   "metadata": {
    "collapsed": false
   },
   "outputs": [
    {
     "data": {
      "text/html": [
       "<div>\n",
       "<table border=\"1\" class=\"dataframe\">\n",
       "  <thead>\n",
       "    <tr style=\"text-align: right;\">\n",
       "      <th></th>\n",
       "      <th>Unnamed: 0</th>\n",
       "      <th>TV</th>\n",
       "      <th>Radio</th>\n",
       "      <th>Newspaper</th>\n",
       "      <th>Sales</th>\n",
       "    </tr>\n",
       "  </thead>\n",
       "  <tbody>\n",
       "    <tr>\n",
       "      <th>0</th>\n",
       "      <td>0.000000</td>\n",
       "      <td>0.775786</td>\n",
       "      <td>0.762097</td>\n",
       "      <td>0.605981</td>\n",
       "      <td>0.807087</td>\n",
       "    </tr>\n",
       "    <tr>\n",
       "      <th>1</th>\n",
       "      <td>0.005025</td>\n",
       "      <td>0.148123</td>\n",
       "      <td>0.792339</td>\n",
       "      <td>0.394019</td>\n",
       "      <td>0.346457</td>\n",
       "    </tr>\n",
       "    <tr>\n",
       "      <th>2</th>\n",
       "      <td>0.010050</td>\n",
       "      <td>0.055800</td>\n",
       "      <td>0.925403</td>\n",
       "      <td>0.606860</td>\n",
       "      <td>0.303150</td>\n",
       "    </tr>\n",
       "    <tr>\n",
       "      <th>3</th>\n",
       "      <td>0.015075</td>\n",
       "      <td>0.509976</td>\n",
       "      <td>0.832661</td>\n",
       "      <td>0.511873</td>\n",
       "      <td>0.665354</td>\n",
       "    </tr>\n",
       "    <tr>\n",
       "      <th>4</th>\n",
       "      <td>0.020101</td>\n",
       "      <td>0.609063</td>\n",
       "      <td>0.217742</td>\n",
       "      <td>0.510994</td>\n",
       "      <td>0.444882</td>\n",
       "    </tr>\n",
       "    <tr>\n",
       "      <th>5</th>\n",
       "      <td>0.025126</td>\n",
       "      <td>0.027054</td>\n",
       "      <td>0.985887</td>\n",
       "      <td>0.656992</td>\n",
       "      <td>0.220472</td>\n",
       "    </tr>\n",
       "    <tr>\n",
       "      <th>6</th>\n",
       "      <td>0.030151</td>\n",
       "      <td>0.192087</td>\n",
       "      <td>0.661290</td>\n",
       "      <td>0.204046</td>\n",
       "      <td>0.401575</td>\n",
       "    </tr>\n",
       "    <tr>\n",
       "      <th>7</th>\n",
       "      <td>0.035176</td>\n",
       "      <td>0.404126</td>\n",
       "      <td>0.395161</td>\n",
       "      <td>0.099384</td>\n",
       "      <td>0.456693</td>\n",
       "    </tr>\n",
       "    <tr>\n",
       "      <th>8</th>\n",
       "      <td>0.040201</td>\n",
       "      <td>0.026716</td>\n",
       "      <td>0.042339</td>\n",
       "      <td>0.006157</td>\n",
       "      <td>0.125984</td>\n",
       "    </tr>\n",
       "    <tr>\n",
       "      <th>9</th>\n",
       "      <td>0.045226</td>\n",
       "      <td>0.673318</td>\n",
       "      <td>0.052419</td>\n",
       "      <td>0.183817</td>\n",
       "      <td>0.354331</td>\n",
       "    </tr>\n",
       "    <tr>\n",
       "      <th>10</th>\n",
       "      <td>0.050251</td>\n",
       "      <td>0.221170</td>\n",
       "      <td>0.116935</td>\n",
       "      <td>0.210202</td>\n",
       "      <td>0.275591</td>\n",
       "    </tr>\n",
       "    <tr>\n",
       "      <th>11</th>\n",
       "      <td>0.055276</td>\n",
       "      <td>0.723706</td>\n",
       "      <td>0.483871</td>\n",
       "      <td>0.032542</td>\n",
       "      <td>0.622047</td>\n",
       "    </tr>\n",
       "    <tr>\n",
       "      <th>12</th>\n",
       "      <td>0.060302</td>\n",
       "      <td>0.078120</td>\n",
       "      <td>0.707661</td>\n",
       "      <td>0.576957</td>\n",
       "      <td>0.299213</td>\n",
       "    </tr>\n",
       "    <tr>\n",
       "      <th>13</th>\n",
       "      <td>0.065327</td>\n",
       "      <td>0.327359</td>\n",
       "      <td>0.153226</td>\n",
       "      <td>0.060686</td>\n",
       "      <td>0.318898</td>\n",
       "    </tr>\n",
       "    <tr>\n",
       "      <th>14</th>\n",
       "      <td>0.070352</td>\n",
       "      <td>0.687859</td>\n",
       "      <td>0.663306</td>\n",
       "      <td>0.401935</td>\n",
       "      <td>0.685039</td>\n",
       "    </tr>\n",
       "    <tr>\n",
       "      <th>15</th>\n",
       "      <td>0.075377</td>\n",
       "      <td>0.658438</td>\n",
       "      <td>0.961694</td>\n",
       "      <td>0.462621</td>\n",
       "      <td>0.818898</td>\n",
       "    </tr>\n",
       "    <tr>\n",
       "      <th>16</th>\n",
       "      <td>0.080402</td>\n",
       "      <td>0.226919</td>\n",
       "      <td>0.737903</td>\n",
       "      <td>1.000000</td>\n",
       "      <td>0.429134</td>\n",
       "    </tr>\n",
       "    <tr>\n",
       "      <th>17</th>\n",
       "      <td>0.085427</td>\n",
       "      <td>0.949273</td>\n",
       "      <td>0.798387</td>\n",
       "      <td>0.488127</td>\n",
       "      <td>0.897638</td>\n",
       "    </tr>\n",
       "    <tr>\n",
       "      <th>18</th>\n",
       "      <td>0.090452</td>\n",
       "      <td>0.231654</td>\n",
       "      <td>0.413306</td>\n",
       "      <td>0.158311</td>\n",
       "      <td>0.381890</td>\n",
       "    </tr>\n",
       "    <tr>\n",
       "      <th>19</th>\n",
       "      <td>0.095477</td>\n",
       "      <td>0.495773</td>\n",
       "      <td>0.481855</td>\n",
       "      <td>0.165347</td>\n",
       "      <td>0.511811</td>\n",
       "    </tr>\n",
       "    <tr>\n",
       "      <th>20</th>\n",
       "      <td>0.100503</td>\n",
       "      <td>0.736219</td>\n",
       "      <td>0.558468</td>\n",
       "      <td>0.467018</td>\n",
       "      <td>0.645669</td>\n",
       "    </tr>\n",
       "    <tr>\n",
       "      <th>21</th>\n",
       "      <td>0.105528</td>\n",
       "      <td>0.800473</td>\n",
       "      <td>0.102823</td>\n",
       "      <td>0.204046</td>\n",
       "      <td>0.429134</td>\n",
       "    </tr>\n",
       "    <tr>\n",
       "      <th>22</th>\n",
       "      <td>0.110553</td>\n",
       "      <td>0.042273</td>\n",
       "      <td>0.320565</td>\n",
       "      <td>0.433597</td>\n",
       "      <td>0.157480</td>\n",
       "    </tr>\n",
       "    <tr>\n",
       "      <th>23</th>\n",
       "      <td>0.115578</td>\n",
       "      <td>0.769699</td>\n",
       "      <td>0.340726</td>\n",
       "      <td>0.227792</td>\n",
       "      <td>0.547244</td>\n",
       "    </tr>\n",
       "    <tr>\n",
       "      <th>24</th>\n",
       "      <td>0.120603</td>\n",
       "      <td>0.208319</td>\n",
       "      <td>0.254032</td>\n",
       "      <td>0.158311</td>\n",
       "      <td>0.318898</td>\n",
       "    </tr>\n",
       "    <tr>\n",
       "      <th>25</th>\n",
       "      <td>0.125628</td>\n",
       "      <td>0.886710</td>\n",
       "      <td>0.070565</td>\n",
       "      <td>0.168865</td>\n",
       "      <td>0.409449</td>\n",
       "    </tr>\n",
       "    <tr>\n",
       "      <th>26</th>\n",
       "      <td>0.130653</td>\n",
       "      <td>0.480893</td>\n",
       "      <td>0.590726</td>\n",
       "      <td>0.108179</td>\n",
       "      <td>0.527559</td>\n",
       "    </tr>\n",
       "    <tr>\n",
       "      <th>27</th>\n",
       "      <td>0.135678</td>\n",
       "      <td>0.809604</td>\n",
       "      <td>0.336694</td>\n",
       "      <td>0.198769</td>\n",
       "      <td>0.562992</td>\n",
       "    </tr>\n",
       "    <tr>\n",
       "      <th>28</th>\n",
       "      <td>0.140704</td>\n",
       "      <td>0.839026</td>\n",
       "      <td>0.546371</td>\n",
       "      <td>0.198769</td>\n",
       "      <td>0.681102</td>\n",
       "    </tr>\n",
       "    <tr>\n",
       "      <th>29</th>\n",
       "      <td>0.145729</td>\n",
       "      <td>0.236388</td>\n",
       "      <td>0.322581</td>\n",
       "      <td>0.356201</td>\n",
       "      <td>0.350394</td>\n",
       "    </tr>\n",
       "    <tr>\n",
       "      <th>...</th>\n",
       "      <td>...</td>\n",
       "      <td>...</td>\n",
       "      <td>...</td>\n",
       "      <td>...</td>\n",
       "      <td>...</td>\n",
       "    </tr>\n",
       "    <tr>\n",
       "      <th>170</th>\n",
       "      <td>0.854271</td>\n",
       "      <td>0.166723</td>\n",
       "      <td>0.233871</td>\n",
       "      <td>0.159191</td>\n",
       "      <td>0.267717</td>\n",
       "    </tr>\n",
       "    <tr>\n",
       "      <th>171</th>\n",
       "      <td>0.859296</td>\n",
       "      <td>0.553940</td>\n",
       "      <td>0.421371</td>\n",
       "      <td>0.414248</td>\n",
       "      <td>0.507874</td>\n",
       "    </tr>\n",
       "    <tr>\n",
       "      <th>172</th>\n",
       "      <td>0.864322</td>\n",
       "      <td>0.063916</td>\n",
       "      <td>0.405242</td>\n",
       "      <td>0.146878</td>\n",
       "      <td>0.236220</td>\n",
       "    </tr>\n",
       "    <tr>\n",
       "      <th>173</th>\n",
       "      <td>0.869347</td>\n",
       "      <td>0.567129</td>\n",
       "      <td>0.143145</td>\n",
       "      <td>0.109938</td>\n",
       "      <td>0.397638</td>\n",
       "    </tr>\n",
       "    <tr>\n",
       "      <th>174</th>\n",
       "      <td>0.874372</td>\n",
       "      <td>0.749746</td>\n",
       "      <td>0.068548</td>\n",
       "      <td>0.112577</td>\n",
       "      <td>0.389764</td>\n",
       "    </tr>\n",
       "    <tr>\n",
       "      <th>175</th>\n",
       "      <td>0.879397</td>\n",
       "      <td>0.934055</td>\n",
       "      <td>0.985887</td>\n",
       "      <td>0.364996</td>\n",
       "      <td>1.000000</td>\n",
       "    </tr>\n",
       "    <tr>\n",
       "      <th>176</th>\n",
       "      <td>0.884422</td>\n",
       "      <td>0.837673</td>\n",
       "      <td>0.608871</td>\n",
       "      <td>0.175901</td>\n",
       "      <td>0.732283</td>\n",
       "    </tr>\n",
       "    <tr>\n",
       "      <th>177</th>\n",
       "      <td>0.889447</td>\n",
       "      <td>0.573216</td>\n",
       "      <td>0.157258</td>\n",
       "      <td>0.306948</td>\n",
       "      <td>0.397638</td>\n",
       "    </tr>\n",
       "    <tr>\n",
       "      <th>178</th>\n",
       "      <td>0.894472</td>\n",
       "      <td>0.933378</td>\n",
       "      <td>0.046371</td>\n",
       "      <td>0.205805</td>\n",
       "      <td>0.401575</td>\n",
       "    </tr>\n",
       "    <tr>\n",
       "      <th>179</th>\n",
       "      <td>0.899497</td>\n",
       "      <td>0.557660</td>\n",
       "      <td>0.201613</td>\n",
       "      <td>0.152155</td>\n",
       "      <td>0.433071</td>\n",
       "    </tr>\n",
       "    <tr>\n",
       "      <th>180</th>\n",
       "      <td>0.904523</td>\n",
       "      <td>0.527224</td>\n",
       "      <td>0.052419</td>\n",
       "      <td>0.070361</td>\n",
       "      <td>0.350394</td>\n",
       "    </tr>\n",
       "    <tr>\n",
       "      <th>181</th>\n",
       "      <td>0.909548</td>\n",
       "      <td>0.736557</td>\n",
       "      <td>0.108871</td>\n",
       "      <td>0.238347</td>\n",
       "      <td>0.417323</td>\n",
       "    </tr>\n",
       "    <tr>\n",
       "      <th>182</th>\n",
       "      <td>0.914573</td>\n",
       "      <td>0.187690</td>\n",
       "      <td>0.114919</td>\n",
       "      <td>0.258575</td>\n",
       "      <td>0.279528</td>\n",
       "    </tr>\n",
       "    <tr>\n",
       "      <th>183</th>\n",
       "      <td>0.919598</td>\n",
       "      <td>0.970240</td>\n",
       "      <td>0.866935</td>\n",
       "      <td>0.628848</td>\n",
       "      <td>0.968504</td>\n",
       "    </tr>\n",
       "    <tr>\n",
       "      <th>184</th>\n",
       "      <td>0.924623</td>\n",
       "      <td>0.855935</td>\n",
       "      <td>0.429435</td>\n",
       "      <td>0.261214</td>\n",
       "      <td>0.629921</td>\n",
       "    </tr>\n",
       "    <tr>\n",
       "      <th>185</th>\n",
       "      <td>0.929648</td>\n",
       "      <td>0.690903</td>\n",
       "      <td>0.909274</td>\n",
       "      <td>0.169745</td>\n",
       "      <td>0.826772</td>\n",
       "    </tr>\n",
       "    <tr>\n",
       "      <th>186</th>\n",
       "      <td>0.934673</td>\n",
       "      <td>0.469395</td>\n",
       "      <td>0.042339</td>\n",
       "      <td>0.231310</td>\n",
       "      <td>0.342520</td>\n",
       "    </tr>\n",
       "    <tr>\n",
       "      <th>187</th>\n",
       "      <td>0.939698</td>\n",
       "      <td>0.643896</td>\n",
       "      <td>0.578629</td>\n",
       "      <td>0.157432</td>\n",
       "      <td>0.618110</td>\n",
       "    </tr>\n",
       "    <tr>\n",
       "      <th>188</th>\n",
       "      <td>0.944724</td>\n",
       "      <td>0.964829</td>\n",
       "      <td>0.280242</td>\n",
       "      <td>0.029903</td>\n",
       "      <td>0.562992</td>\n",
       "    </tr>\n",
       "    <tr>\n",
       "      <th>189</th>\n",
       "      <td>0.949749</td>\n",
       "      <td>0.060873</td>\n",
       "      <td>0.243952</td>\n",
       "      <td>0.203166</td>\n",
       "      <td>0.200787</td>\n",
       "    </tr>\n",
       "    <tr>\n",
       "      <th>190</th>\n",
       "      <td>0.954774</td>\n",
       "      <td>0.131214</td>\n",
       "      <td>0.828629</td>\n",
       "      <td>0.048373</td>\n",
       "      <td>0.362205</td>\n",
       "    </tr>\n",
       "    <tr>\n",
       "      <th>191</th>\n",
       "      <td>0.959799</td>\n",
       "      <td>0.252959</td>\n",
       "      <td>0.217742</td>\n",
       "      <td>0.050132</td>\n",
       "      <td>0.326772</td>\n",
       "    </tr>\n",
       "    <tr>\n",
       "      <th>192</th>\n",
       "      <td>0.964824</td>\n",
       "      <td>0.055800</td>\n",
       "      <td>0.082661</td>\n",
       "      <td>0.275286</td>\n",
       "      <td>0.169291</td>\n",
       "    </tr>\n",
       "    <tr>\n",
       "      <th>193</th>\n",
       "      <td>0.969849</td>\n",
       "      <td>0.561718</td>\n",
       "      <td>0.846774</td>\n",
       "      <td>0.029024</td>\n",
       "      <td>0.708661</td>\n",
       "    </tr>\n",
       "    <tr>\n",
       "      <th>194</th>\n",
       "      <td>0.974874</td>\n",
       "      <td>0.503889</td>\n",
       "      <td>0.717742</td>\n",
       "      <td>0.050132</td>\n",
       "      <td>0.618110</td>\n",
       "    </tr>\n",
       "    <tr>\n",
       "      <th>195</th>\n",
       "      <td>0.979899</td>\n",
       "      <td>0.126818</td>\n",
       "      <td>0.074597</td>\n",
       "      <td>0.118734</td>\n",
       "      <td>0.236220</td>\n",
       "    </tr>\n",
       "    <tr>\n",
       "      <th>196</th>\n",
       "      <td>0.984925</td>\n",
       "      <td>0.316199</td>\n",
       "      <td>0.098790</td>\n",
       "      <td>0.068602</td>\n",
       "      <td>0.318898</td>\n",
       "    </tr>\n",
       "    <tr>\n",
       "      <th>197</th>\n",
       "      <td>0.989950</td>\n",
       "      <td>0.596212</td>\n",
       "      <td>0.187500</td>\n",
       "      <td>0.053650</td>\n",
       "      <td>0.440945</td>\n",
       "    </tr>\n",
       "    <tr>\n",
       "      <th>198</th>\n",
       "      <td>0.994975</td>\n",
       "      <td>0.956713</td>\n",
       "      <td>0.846774</td>\n",
       "      <td>0.579595</td>\n",
       "      <td>0.940945</td>\n",
       "    </tr>\n",
       "    <tr>\n",
       "      <th>199</th>\n",
       "      <td>1.000000</td>\n",
       "      <td>0.782550</td>\n",
       "      <td>0.173387</td>\n",
       "      <td>0.073879</td>\n",
       "      <td>0.464567</td>\n",
       "    </tr>\n",
       "  </tbody>\n",
       "</table>\n",
       "<p>200 rows × 5 columns</p>\n",
       "</div>"
      ],
      "text/plain": [
       "     Unnamed: 0        TV     Radio  Newspaper     Sales\n",
       "0      0.000000  0.775786  0.762097   0.605981  0.807087\n",
       "1      0.005025  0.148123  0.792339   0.394019  0.346457\n",
       "2      0.010050  0.055800  0.925403   0.606860  0.303150\n",
       "3      0.015075  0.509976  0.832661   0.511873  0.665354\n",
       "4      0.020101  0.609063  0.217742   0.510994  0.444882\n",
       "5      0.025126  0.027054  0.985887   0.656992  0.220472\n",
       "6      0.030151  0.192087  0.661290   0.204046  0.401575\n",
       "7      0.035176  0.404126  0.395161   0.099384  0.456693\n",
       "8      0.040201  0.026716  0.042339   0.006157  0.125984\n",
       "9      0.045226  0.673318  0.052419   0.183817  0.354331\n",
       "10     0.050251  0.221170  0.116935   0.210202  0.275591\n",
       "11     0.055276  0.723706  0.483871   0.032542  0.622047\n",
       "12     0.060302  0.078120  0.707661   0.576957  0.299213\n",
       "13     0.065327  0.327359  0.153226   0.060686  0.318898\n",
       "14     0.070352  0.687859  0.663306   0.401935  0.685039\n",
       "15     0.075377  0.658438  0.961694   0.462621  0.818898\n",
       "16     0.080402  0.226919  0.737903   1.000000  0.429134\n",
       "17     0.085427  0.949273  0.798387   0.488127  0.897638\n",
       "18     0.090452  0.231654  0.413306   0.158311  0.381890\n",
       "19     0.095477  0.495773  0.481855   0.165347  0.511811\n",
       "20     0.100503  0.736219  0.558468   0.467018  0.645669\n",
       "21     0.105528  0.800473  0.102823   0.204046  0.429134\n",
       "22     0.110553  0.042273  0.320565   0.433597  0.157480\n",
       "23     0.115578  0.769699  0.340726   0.227792  0.547244\n",
       "24     0.120603  0.208319  0.254032   0.158311  0.318898\n",
       "25     0.125628  0.886710  0.070565   0.168865  0.409449\n",
       "26     0.130653  0.480893  0.590726   0.108179  0.527559\n",
       "27     0.135678  0.809604  0.336694   0.198769  0.562992\n",
       "28     0.140704  0.839026  0.546371   0.198769  0.681102\n",
       "29     0.145729  0.236388  0.322581   0.356201  0.350394\n",
       "..          ...       ...       ...        ...       ...\n",
       "170    0.854271  0.166723  0.233871   0.159191  0.267717\n",
       "171    0.859296  0.553940  0.421371   0.414248  0.507874\n",
       "172    0.864322  0.063916  0.405242   0.146878  0.236220\n",
       "173    0.869347  0.567129  0.143145   0.109938  0.397638\n",
       "174    0.874372  0.749746  0.068548   0.112577  0.389764\n",
       "175    0.879397  0.934055  0.985887   0.364996  1.000000\n",
       "176    0.884422  0.837673  0.608871   0.175901  0.732283\n",
       "177    0.889447  0.573216  0.157258   0.306948  0.397638\n",
       "178    0.894472  0.933378  0.046371   0.205805  0.401575\n",
       "179    0.899497  0.557660  0.201613   0.152155  0.433071\n",
       "180    0.904523  0.527224  0.052419   0.070361  0.350394\n",
       "181    0.909548  0.736557  0.108871   0.238347  0.417323\n",
       "182    0.914573  0.187690  0.114919   0.258575  0.279528\n",
       "183    0.919598  0.970240  0.866935   0.628848  0.968504\n",
       "184    0.924623  0.855935  0.429435   0.261214  0.629921\n",
       "185    0.929648  0.690903  0.909274   0.169745  0.826772\n",
       "186    0.934673  0.469395  0.042339   0.231310  0.342520\n",
       "187    0.939698  0.643896  0.578629   0.157432  0.618110\n",
       "188    0.944724  0.964829  0.280242   0.029903  0.562992\n",
       "189    0.949749  0.060873  0.243952   0.203166  0.200787\n",
       "190    0.954774  0.131214  0.828629   0.048373  0.362205\n",
       "191    0.959799  0.252959  0.217742   0.050132  0.326772\n",
       "192    0.964824  0.055800  0.082661   0.275286  0.169291\n",
       "193    0.969849  0.561718  0.846774   0.029024  0.708661\n",
       "194    0.974874  0.503889  0.717742   0.050132  0.618110\n",
       "195    0.979899  0.126818  0.074597   0.118734  0.236220\n",
       "196    0.984925  0.316199  0.098790   0.068602  0.318898\n",
       "197    0.989950  0.596212  0.187500   0.053650  0.440945\n",
       "198    0.994975  0.956713  0.846774   0.579595  0.940945\n",
       "199    1.000000  0.782550  0.173387   0.073879  0.464567\n",
       "\n",
       "[200 rows x 5 columns]"
      ]
     },
     "execution_count": 5,
     "metadata": {},
     "output_type": "execute_result"
    }
   ],
   "source": [
    "# Normalize data\n",
    "# We do this to make plotting and processing easier.  Many Sklearn functions do this\n",
    "# for you behind the scenes, but we do it explicitly.\n",
    "# Note, that this is a cousing of the physics idea of nondimensionalization.  Think\n",
    "# about the case where TV was measured in millions, while Radio was measured in\n",
    "# thousands.  One could imagine TV totally washing out the effect of Radio.\n",
    "# In effect, after normalization, each predictor now stands on an \"even footing\".\n",
    "#\n",
    "# Is this always a good idea?\n",
    "Xy = (Xy-Xy.min())/(Xy.max()-Xy.min())\n",
    "Xy"
   ]
  },
  {
   "cell_type": "code",
   "execution_count": 6,
   "metadata": {
    "collapsed": false
   },
   "outputs": [],
   "source": [
    "# Select out our predictor columns and our response columns\n",
    "X = Xy.ix[:,['TV']]\n",
    "y = Xy.ix[:,['Sales']]"
   ]
  },
  {
   "cell_type": "code",
   "execution_count": 7,
   "metadata": {
    "collapsed": false
   },
   "outputs": [
    {
     "data": {
      "text/plain": [
       "[[2, 3, 4], [5, 1], [7, 8, 9], [10, 6]]"
      ]
     },
     "execution_count": 7,
     "metadata": {},
     "output_type": "execute_result"
    }
   ],
   "source": [
    "# Last time we did this by hand, now we are smarter and use the sklearn \n",
    "# routine.  This routine splits data into training and testing subsets.\n",
    "cross_validation.train_test_split([1,2,3,4,5],\n",
    "                                  [6,7,8,9,10],\n",
    "                                  test_size=0.4,\n",
    "                                  random_state=5)"
   ]
  },
  {
   "cell_type": "code",
   "execution_count": 8,
   "metadata": {
    "collapsed": false
   },
   "outputs": [],
   "source": [
    "# Now we do it for the real data.\n",
    "X_train,X_test,y_train,y_test = cross_validation.train_test_split(X,\n",
    "                                                                  y,\n",
    "                                                                  test_size=0.8)"
   ]
  },
  {
   "cell_type": "code",
   "execution_count": 9,
   "metadata": {
    "collapsed": false
   },
   "outputs": [
    {
     "data": {
      "text/html": [
       "<div>\n",
       "<table border=\"1\" class=\"dataframe\">\n",
       "  <thead>\n",
       "    <tr style=\"text-align: right;\">\n",
       "      <th></th>\n",
       "      <th>TV</th>\n",
       "    </tr>\n",
       "  </thead>\n",
       "  <tbody>\n",
       "    <tr>\n",
       "      <th>58</th>\n",
       "      <td>0.710517</td>\n",
       "    </tr>\n",
       "    <tr>\n",
       "      <th>93</th>\n",
       "      <td>0.846128</td>\n",
       "    </tr>\n",
       "    <tr>\n",
       "      <th>82</th>\n",
       "      <td>0.252283</td>\n",
       "    </tr>\n",
       "    <tr>\n",
       "      <th>65</th>\n",
       "      <td>0.230977</td>\n",
       "    </tr>\n",
       "    <tr>\n",
       "      <th>154</th>\n",
       "      <td>0.632736</td>\n",
       "    </tr>\n",
       "    <tr>\n",
       "      <th>79</th>\n",
       "      <td>0.389922</td>\n",
       "    </tr>\n",
       "    <tr>\n",
       "      <th>188</th>\n",
       "      <td>0.964829</td>\n",
       "    </tr>\n",
       "    <tr>\n",
       "      <th>110</th>\n",
       "      <td>0.761245</td>\n",
       "    </tr>\n",
       "    <tr>\n",
       "      <th>89</th>\n",
       "      <td>0.368955</td>\n",
       "    </tr>\n",
       "    <tr>\n",
       "      <th>86</th>\n",
       "      <td>0.255665</td>\n",
       "    </tr>\n",
       "    <tr>\n",
       "      <th>114</th>\n",
       "      <td>0.262090</td>\n",
       "    </tr>\n",
       "    <tr>\n",
       "      <th>48</th>\n",
       "      <td>0.765979</td>\n",
       "    </tr>\n",
       "    <tr>\n",
       "      <th>156</th>\n",
       "      <td>0.315184</td>\n",
       "    </tr>\n",
       "    <tr>\n",
       "      <th>81</th>\n",
       "      <td>0.808590</td>\n",
       "    </tr>\n",
       "    <tr>\n",
       "      <th>8</th>\n",
       "      <td>0.026716</td>\n",
       "    </tr>\n",
       "    <tr>\n",
       "      <th>144</th>\n",
       "      <td>0.322962</td>\n",
       "    </tr>\n",
       "    <tr>\n",
       "      <th>53</th>\n",
       "      <td>0.615150</td>\n",
       "    </tr>\n",
       "    <tr>\n",
       "      <th>43</th>\n",
       "      <td>0.697328</td>\n",
       "    </tr>\n",
       "    <tr>\n",
       "      <th>83</th>\n",
       "      <td>0.228948</td>\n",
       "    </tr>\n",
       "    <tr>\n",
       "      <th>137</th>\n",
       "      <td>0.923233</td>\n",
       "    </tr>\n",
       "    <tr>\n",
       "      <th>189</th>\n",
       "      <td>0.060873</td>\n",
       "    </tr>\n",
       "    <tr>\n",
       "      <th>38</th>\n",
       "      <td>0.143389</td>\n",
       "    </tr>\n",
       "    <tr>\n",
       "      <th>47</th>\n",
       "      <td>0.808928</td>\n",
       "    </tr>\n",
       "    <tr>\n",
       "      <th>138</th>\n",
       "      <td>0.143050</td>\n",
       "    </tr>\n",
       "    <tr>\n",
       "      <th>192</th>\n",
       "      <td>0.055800</td>\n",
       "    </tr>\n",
       "    <tr>\n",
       "      <th>80</th>\n",
       "      <td>0.256003</td>\n",
       "    </tr>\n",
       "    <tr>\n",
       "      <th>171</th>\n",
       "      <td>0.553940</td>\n",
       "    </tr>\n",
       "    <tr>\n",
       "      <th>128</th>\n",
       "      <td>0.742645</td>\n",
       "    </tr>\n",
       "    <tr>\n",
       "      <th>35</th>\n",
       "      <td>0.980724</td>\n",
       "    </tr>\n",
       "    <tr>\n",
       "      <th>195</th>\n",
       "      <td>0.126818</td>\n",
       "    </tr>\n",
       "    <tr>\n",
       "      <th>141</th>\n",
       "      <td>0.652689</td>\n",
       "    </tr>\n",
       "    <tr>\n",
       "      <th>181</th>\n",
       "      <td>0.736557</td>\n",
       "    </tr>\n",
       "    <tr>\n",
       "      <th>36</th>\n",
       "      <td>0.900237</td>\n",
       "    </tr>\n",
       "    <tr>\n",
       "      <th>131</th>\n",
       "      <td>0.894488</td>\n",
       "    </tr>\n",
       "    <tr>\n",
       "      <th>168</th>\n",
       "      <td>0.726074</td>\n",
       "    </tr>\n",
       "    <tr>\n",
       "      <th>160</th>\n",
       "      <td>0.580994</td>\n",
       "    </tr>\n",
       "    <tr>\n",
       "      <th>41</th>\n",
       "      <td>0.596212</td>\n",
       "    </tr>\n",
       "    <tr>\n",
       "      <th>50</th>\n",
       "      <td>0.673318</td>\n",
       "    </tr>\n",
       "    <tr>\n",
       "      <th>95</th>\n",
       "      <td>0.549882</td>\n",
       "    </tr>\n",
       "    <tr>\n",
       "      <th>173</th>\n",
       "      <td>0.567129</td>\n",
       "    </tr>\n",
       "  </tbody>\n",
       "</table>\n",
       "</div>"
      ],
      "text/plain": [
       "           TV\n",
       "58   0.710517\n",
       "93   0.846128\n",
       "82   0.252283\n",
       "65   0.230977\n",
       "154  0.632736\n",
       "79   0.389922\n",
       "188  0.964829\n",
       "110  0.761245\n",
       "89   0.368955\n",
       "86   0.255665\n",
       "114  0.262090\n",
       "48   0.765979\n",
       "156  0.315184\n",
       "81   0.808590\n",
       "8    0.026716\n",
       "144  0.322962\n",
       "53   0.615150\n",
       "43   0.697328\n",
       "83   0.228948\n",
       "137  0.923233\n",
       "189  0.060873\n",
       "38   0.143389\n",
       "47   0.808928\n",
       "138  0.143050\n",
       "192  0.055800\n",
       "80   0.256003\n",
       "171  0.553940\n",
       "128  0.742645\n",
       "35   0.980724\n",
       "195  0.126818\n",
       "141  0.652689\n",
       "181  0.736557\n",
       "36   0.900237\n",
       "131  0.894488\n",
       "168  0.726074\n",
       "160  0.580994\n",
       "41   0.596212\n",
       "50   0.673318\n",
       "95   0.549882\n",
       "173  0.567129"
      ]
     },
     "execution_count": 9,
     "metadata": {},
     "output_type": "execute_result"
    }
   ],
   "source": [
    "# Let's take a quick look at the data.\n",
    "X_train"
   ]
  },
  {
   "cell_type": "code",
   "execution_count": 10,
   "metadata": {
    "collapsed": false
   },
   "outputs": [
    {
     "data": {
      "text/plain": [
       "LinearRegression(copy_X=True, fit_intercept=True, n_jobs=1, normalize=False)"
      ]
     },
     "execution_count": 10,
     "metadata": {},
     "output_type": "execute_result"
    }
   ],
   "source": [
    "# Run the solver\n",
    "reg = linear_model.LinearRegression(fit_intercept=True)\n",
    "reg.fit(X_train,y_train)"
   ]
  },
  {
   "cell_type": "code",
   "execution_count": 11,
   "metadata": {
    "collapsed": false
   },
   "outputs": [
    {
     "name": "stdout",
     "output_type": "stream",
     "text": [
      "[ 0.25908445]\n",
      "[[ 0.46707459]]\n"
     ]
    }
   ],
   "source": [
    "# There are the slope and intercept of the line we computed.\n",
    "# Beta_0\n",
    "print reg.intercept_\n",
    "# Beta_1\n",
    "print reg.coef_"
   ]
  },
  {
   "cell_type": "code",
   "execution_count": 12,
   "metadata": {
    "collapsed": false
   },
   "outputs": [
    {
     "data": {
      "text/plain": [
       "[<matplotlib.lines.Line2D at 0x197eec50>]"
      ]
     },
     "execution_count": 12,
     "metadata": {},
     "output_type": "execute_result"
    },
    {
     "data": {
      "image/png": "[encoded data removed]",
      "text/plain": [
       "<matplotlib.figure.Figure at 0x196d45c0>"
      ]
     },
     "metadata": {},
     "output_type": "display_data"
    }
   ],
   "source": [
    "# Do a plot\n",
    "plotX = np.linspace(0,1,100)\n",
    "plotY = reg.predict(np.matrix(plotX).T)\n",
    "py.plot(X_train,y_train,'ro')\n",
    "py.plot(X_test,y_test,'go')\n",
    "py.plot(plotX,plotY,'b-')"
   ]
  },
  {
   "cell_type": "code",
   "execution_count": 13,
   "metadata": {
    "collapsed": false
   },
   "outputs": [
    {
     "name": "stdout",
     "output_type": "stream",
     "text": [
      "training error\n",
      "0.0216501521541\n",
      "testing error\n",
      "0.0157389506667\n"
     ]
    }
   ],
   "source": [
    "# Use the metrics package to print our errors.  See discussion on slides.\n",
    "print 'training error'\n",
    "print metrics.mean_squared_error(y_train,reg.predict(X_train))\n",
    "print 'testing error'\n",
    "print metrics.mean_squared_error(y_test,reg.predict(X_test))"
   ]
  },
  {
   "cell_type": "markdown",
   "metadata": {},
   "source": [
    "<b>Back to slides.</b>"
   ]
  },
  {
   "cell_type": "markdown",
   "metadata": {},
   "source": [
    "## Multi-dimensional regression"
   ]
  },
  {
   "cell_type": "code",
   "execution_count": 14,
   "metadata": {
    "collapsed": false
   },
   "outputs": [],
   "source": [
    "# Select out our predictor columns and our response columns\n",
    "X = Xy.ix[:,['TV','Radio']]\n",
    "y = Xy.ix[:,['Sales']]\n",
    "\n",
    "# Select subsets for training and testing\n",
    "X_train,X_test,y_train,y_test = cross_validation.train_test_split(X,\n",
    "                                                                  y,\n",
    "                                                                  test_size=0.8,\n",
    "                                                                  random_state=123)"
   ]
  },
  {
   "cell_type": "code",
   "execution_count": 15,
   "metadata": {
    "collapsed": false
   },
   "outputs": [],
   "source": [
    "# Plot the data to get a feel for it.\n",
    "mlab.clf()\n",
    "mlab.points3d(X_train.ix[:,0]/X.ix[:,0].std(), \n",
    "              X_train.ix[:,1]/X.ix[:,1].std(), \n",
    "              y_train.ix[:,0]/y.ix[:,0].std(),\n",
    "              color=(1,0,0), scale_factor=0.2)\n",
    "mlab.points3d(X_test.ix[:,0]/X.ix[:,0].std(), \n",
    "              X_test.ix[:,1]/X.ix[:,1].std(), \n",
    "              y_test.ix[:,0]/y.ix[:,0].std(),\n",
    "              color=(0,1,0), scale_factor=0.2)\n",
    "mlab.axes()\n",
    "mlab.show()"
   ]
  },
  {
   "cell_type": "code",
   "execution_count": 16,
   "metadata": {
    "collapsed": false
   },
   "outputs": [
    {
     "data": {
      "text/plain": [
       "LinearRegression(copy_X=True, fit_intercept=True, n_jobs=1, normalize=False)"
      ]
     },
     "execution_count": 16,
     "metadata": {},
     "output_type": "execute_result"
    }
   ],
   "source": [
    "# Run the solver\n",
    "reg = linear_model.LinearRegression(fit_intercept=True)\n",
    "reg.fit(X_train,y_train)"
   ]
  },
  {
   "cell_type": "code",
   "execution_count": 17,
   "metadata": {
    "collapsed": false
   },
   "outputs": [],
   "source": [
    "# Create data for plotting\n",
    "size=10\n",
    "xPlot,yPlot = np.meshgrid(np.linspace(0,1,size),\n",
    "                          np.linspace(0,1,size))\n",
    "np.array([xPlot.flatten(),yPlot.flatten()])\n",
    "zPlot = reg.predict(np.transpose(np.array([xPlot.flatten(),\n",
    "                                           yPlot.flatten()])))\n",
    "zPlot = zPlot.reshape([size,size])"
   ]
  },
  {
   "cell_type": "code",
   "execution_count": 18,
   "metadata": {
    "collapsed": false
   },
   "outputs": [],
   "source": [
    "# Since we will be plotting many times, we \n",
    "def myPlot(reg,X_train,y_train,X_test,y_test,xPlot,yPlot,zPlot,size=10,scale_factor=0.05):\n",
    "    mlab.clf()\n",
    "    mlab.points3d(X_train.ix[:,0], \n",
    "                  X_train.ix[:,1], \n",
    "                  y_train.ix[:,0],\n",
    "                  color=(1,0,0), scale_factor=scale_factor)\n",
    "    mlab.points3d(X_test.ix[:,0], \n",
    "                  X_test.ix[:,1], \n",
    "                  y_test.ix[:,0],\n",
    "                  color=(0,1,0), scale_factor=scale_factor)\n",
    "    mlab.mesh(xPlot,yPlot,zPlot,color=(0,0,1))\n",
    "    mlab.axes()\n",
    "    mlab.show()\n",
    "    \n",
    "myPlot(reg,X_train,y_train,X_test,y_test,xPlot,yPlot,zPlot)"
   ]
  },
  {
   "cell_type": "code",
   "execution_count": 19,
   "metadata": {
    "collapsed": false
   },
   "outputs": [
    {
     "name": "stdout",
     "output_type": "stream",
     "text": [
      "training error\n",
      "0.00301813848558\n",
      "testing error\n",
      "0.00529973748665\n"
     ]
    }
   ],
   "source": [
    "# Use the metrics package to print our errors\n",
    "print 'training error'\n",
    "print metrics.mean_squared_error(y_train,reg.predict(X_train))\n",
    "print 'testing error'\n",
    "print metrics.mean_squared_error(y_test,reg.predict(X_test))"
   ]
  },
  {
   "cell_type": "markdown",
   "metadata": {},
   "source": [
    "<b>Back to the notes.</b>"
   ]
  },
  {
   "cell_type": "markdown",
   "metadata": {},
   "source": [
    "## Non-linear fitting"
   ]
  },
  {
   "cell_type": "code",
   "execution_count": 20,
   "metadata": {
    "collapsed": false
   },
   "outputs": [],
   "source": [
    "# Now we try non-linear fittng.  See notes for details.  \n",
    "# Note that we add a new column which is a *non-linear* function\n",
    "# of the original data!\n",
    "XyNonlinear = Xy.copy()\n",
    "XyNonlinear['TV*Radio'] = Xy['TV']*Xy['Radio']\n",
    "\n",
    "# Select out our predictor columns and our response columns\n",
    "X = XyNonlinear.ix[:,['TV','Radio','TV*Radio']]\n",
    "y = XyNonlinear.ix[:,['Sales']]\n",
    "\n",
    "# Select subsets for training and testing\n",
    "X_train,X_test,y_train,y_test = cross_validation.train_test_split(X,\n",
    "                                                                  y,\n",
    "                                                                  test_size=0.8,\n",
    "                                                                  random_state=123)"
   ]
  },
  {
   "cell_type": "code",
   "execution_count": 21,
   "metadata": {
    "collapsed": false
   },
   "outputs": [
    {
     "data": {
      "text/plain": [
       "LinearRegression(copy_X=True, fit_intercept=True, n_jobs=1, normalize=False)"
      ]
     },
     "execution_count": 21,
     "metadata": {},
     "output_type": "execute_result"
    }
   ],
   "source": [
    "# Run the solver\n",
    "reg = linear_model.LinearRegression(fit_intercept=True)\n",
    "reg.fit(X_train,y_train)"
   ]
  },
  {
   "cell_type": "code",
   "execution_count": 22,
   "metadata": {
    "collapsed": false
   },
   "outputs": [],
   "source": [
    "# Create data for plotting\n",
    "size = 10\n",
    "\n",
    "xPlot,yPlot = np.meshgrid(np.linspace(0,1,size),\n",
    "                          np.linspace(0,1,size))\n",
    "zPlot = reg.predict(np.transpose(np.array([xPlot.flatten(),\n",
    "                                           yPlot.flatten(),\n",
    "                                           (xPlot*yPlot).flatten()])))\n",
    "zPlot = zPlot.reshape([size,size])"
   ]
  },
  {
   "cell_type": "code",
   "execution_count": 23,
   "metadata": {
    "collapsed": false
   },
   "outputs": [],
   "source": [
    "myPlot(reg,X_train,y_train,X_test,y_test,xPlot,yPlot,zPlot)"
   ]
  },
  {
   "cell_type": "code",
   "execution_count": 24,
   "metadata": {
    "collapsed": false
   },
   "outputs": [
    {
     "name": "stdout",
     "output_type": "stream",
     "text": [
      "training error\n",
      "0.000954956008276\n",
      "testing error\n",
      "0.00149444601649\n"
     ]
    }
   ],
   "source": [
    "# Use the metrics package to print our errors\n",
    "print 'training error'\n",
    "print metrics.mean_squared_error(y_train,reg.predict(X_train))\n",
    "print 'testing error'\n",
    "print metrics.mean_squared_error(y_test,reg.predict(X_test))"
   ]
  },
  {
   "cell_type": "markdown",
   "metadata": {},
   "source": [
    "\n",
    "<b>Back to the notes.</b>"
   ]
  },
  {
   "cell_type": "markdown",
   "metadata": {},
   "source": [
    "## Too much of a good thing..."
   ]
  },
  {
   "cell_type": "code",
   "execution_count": 25,
   "metadata": {
    "collapsed": false
   },
   "outputs": [],
   "source": [
    "# What about adding many non-linear combinations!  See notes for details.\n",
    "\n",
    "degree=5\n",
    "XCrazy = np.zeros([Xy.shape[0],degree**2])\n",
    "\n",
    "for i in range(degree):\n",
    "    for j in range(degree):\n",
    "        XCrazy[:,i*degree + j] = (Xy['TV']**i)*(Xy['Radio']**j)\n",
    "        \n",
    "# Select subsets for training and testing\n",
    "X_train,X_test,y_train,y_test = cross_validation.train_test_split(XCrazy,\n",
    "                                                                  y,\n",
    "                                                                  test_size=0.8,\n",
    "                                                                  random_state=123)"
   ]
  },
  {
   "cell_type": "code",
   "execution_count": 26,
   "metadata": {
    "collapsed": false
   },
   "outputs": [
    {
     "data": {
      "text/plain": [
       "LinearRegression(copy_X=True, fit_intercept=True, n_jobs=1, normalize=False)"
      ]
     },
     "execution_count": 26,
     "metadata": {},
     "output_type": "execute_result"
    }
   ],
   "source": [
    "# Run the solver\n",
    "regOver = linear_model.LinearRegression(fit_intercept=True)\n",
    "regOver.fit(X_train,y_train)"
   ]
  },
  {
   "cell_type": "code",
   "execution_count": 27,
   "metadata": {
    "collapsed": false
   },
   "outputs": [
    {
     "name": "stdout",
     "output_type": "stream",
     "text": [
      "[-6.94708351]\n",
      "[[    0.            60.55943866  -166.07190603   184.75679655\n",
      "    -72.32883146    58.42979358  -484.12475427  1297.94802252\n",
      "  -1408.49267643   538.88687257  -170.96380513  1414.03394469\n",
      "  -3717.84399455  3955.89719887 -1483.95231001   216.58492539\n",
      "  -1787.88418163  4651.20425434 -4892.06944782  1814.15721393\n",
      "   -100.38566969   829.96108308 -2151.36644682  2254.46299276\n",
      "   -833.66782306]]\n"
     ]
    }
   ],
   "source": [
    "print regOver.intercept_\n",
    "print regOver.coef_"
   ]
  },
  {
   "cell_type": "code",
   "execution_count": 28,
   "metadata": {
    "collapsed": false
   },
   "outputs": [],
   "source": [
    "# Create data for plotting\n",
    "size = 10\n",
    "\n",
    "xPlot,yPlot = np.meshgrid(np.linspace(0,1,size),\n",
    "                          np.linspace(0,1,size))\n",
    "\n",
    "tmp = []\n",
    "for i in range(degree):\n",
    "    for j in range(degree):\n",
    "        tmp.append( ( (xPlot**i)*(yPlot**j) ).flatten() )\n",
    "\n",
    "zPlot = regOver.predict(np.transpose(np.array(tmp)))\n",
    "zPlot = zPlot.reshape([size,size])"
   ]
  },
  {
   "cell_type": "code",
   "execution_count": 29,
   "metadata": {
    "collapsed": false
   },
   "outputs": [],
   "source": [
    "# Plot the data\n",
    "\n",
    "# Select subsets for training and testing\n",
    "X_train_plot,X_test_plot = cross_validation.train_test_split(Xy.ix[:,['TV','Radio']],\n",
    "                                                             test_size=0.8,\n",
    "                                                             random_state=123)\n",
    "\n",
    "myPlot(reg,X_train_plot,y_train,X_test_plot,y_test,xPlot,yPlot,zPlot)"
   ]
  },
  {
   "cell_type": "code",
   "execution_count": 30,
   "metadata": {
    "collapsed": false
   },
   "outputs": [
    {
     "name": "stdout",
     "output_type": "stream",
     "text": [
      "training error\n",
      "3.41438151096e-05\n",
      "testing error\n",
      "0.348469042526\n"
     ]
    }
   ],
   "source": [
    "# Use the metrics package to print our errors\n",
    "print 'training error'\n",
    "print metrics.mean_squared_error(y_train,regOver.predict(X_train))\n",
    "print 'testing error'\n",
    "print metrics.mean_squared_error(y_test,regOver.predict(X_test))"
   ]
  },
  {
   "cell_type": "markdown",
   "metadata": {},
   "source": [
    "<b>Back to notes.</b>"
   ]
  },
  {
   "cell_type": "markdown",
   "metadata": {},
   "source": [
    "## Model Selection"
   ]
  },
  {
   "cell_type": "code",
   "execution_count": 31,
   "metadata": {
    "collapsed": false
   },
   "outputs": [],
   "source": [
    "# Fortunately, there is a *lot* that one can do to help.  It is possible to have\n",
    "# many predictors but still get good answers.  See notes for details...\n",
    "degree=5\n",
    "XCrazy = np.zeros([Xy.shape[0],degree**2])\n",
    "\n",
    "names = []\n",
    "for i in range(degree):\n",
    "    for j in range(degree):\n",
    "        XCrazy[:,i*degree + j] = (Xy['TV']**i)*(Xy['Radio']**j)\n",
    "        names.append('TV**%d*Radio**%d'%(i,j))\n",
    "\n",
    "# Select subsets for training and testing\n",
    "X_train,X_test,y_train,y_test = cross_validation.train_test_split(XCrazy,\n",
    "                                                                  y,\n",
    "                                                                  test_size=0.8,\n",
    "                                                                  random_state=123)"
   ]
  },
  {
   "cell_type": "code",
   "execution_count": 32,
   "metadata": {
    "collapsed": false
   },
   "outputs": [
    {
     "name": "stderr",
     "output_type": "stream",
     "text": [
      "C:\\Users\\randy_000\\AppData\\Local\\Enthought\\Canopy\\User\\lib\\site-packages\\sklearn\\utils\\validation.py:515: DataConversionWarning: A column-vector y was passed when a 1d array was expected. Please change the shape of y to (n_samples, ), for example using ravel().\n",
      "  y = column_or_1d(y, warn=True)\n"
     ]
    },
    {
     "data": {
      "text/plain": [
       "RFE(estimator=LinearRegression(copy_X=True, fit_intercept=True, n_jobs=1, normalize=False),\n",
       "  estimator_params=None, n_features_to_select=3, step=1, verbose=0)"
      ]
     },
     "execution_count": 32,
     "metadata": {},
     "output_type": "execute_result"
    }
   ],
   "source": [
    "# We can try None and 3 to see what we get.\n",
    "selector = feature_selection.RFE(regOver,n_features_to_select=3)\n",
    "selector.fit(X_train,y_train)"
   ]
  },
  {
   "cell_type": "code",
   "execution_count": 33,
   "metadata": {
    "collapsed": false
   },
   "outputs": [
    {
     "name": "stdout",
     "output_type": "stream",
     "text": [
      "TV**0*Radio**0 False\n",
      "TV**0*Radio**1 False\n",
      "TV**0*Radio**2 False\n",
      "TV**0*Radio**3 False\n",
      "TV**0*Radio**4 False\n",
      "TV**1*Radio**0 False\n",
      "TV**1*Radio**1 False\n",
      "TV**1*Radio**2 False\n",
      "TV**1*Radio**3 False\n",
      "TV**1*Radio**4 False\n",
      "TV**2*Radio**0 False\n",
      "TV**2*Radio**1 True\n",
      "TV**2*Radio**2 False\n",
      "TV**2*Radio**3 False\n",
      "TV**2*Radio**4 False\n",
      "TV**3*Radio**0 False\n",
      "TV**3*Radio**1 False\n",
      "TV**3*Radio**2 False\n",
      "TV**3*Radio**3 True\n",
      "TV**3*Radio**4 True\n",
      "TV**4*Radio**0 False\n",
      "TV**4*Radio**1 False\n",
      "TV**4*Radio**2 False\n",
      "TV**4*Radio**3 False\n",
      "TV**4*Radio**4 False\n"
     ]
    }
   ],
   "source": [
    "# Print out the predictors we use.  These are the predictors selection by the RFE algorithm\n",
    "# as the most important.\n",
    "for i in range(len(names)):\n",
    "    print names[i],\n",
    "    print selector.get_support()[i]"
   ]
  },
  {
   "cell_type": "code",
   "execution_count": 34,
   "metadata": {
    "collapsed": false
   },
   "outputs": [],
   "source": [
    "# Create data for plotting\n",
    "size = 10\n",
    "\n",
    "xPlot,yPlot = np.meshgrid(np.linspace(0,1,size),\n",
    "                          np.linspace(0,1,size))\n",
    "\n",
    "tmp = []\n",
    "for i in range(degree):\n",
    "    for j in range(degree):\n",
    "        tmp.append( ( (xPlot**i)*(yPlot**j) ).flatten() )\n",
    "\n",
    "zPlot = selector.predict(np.transpose(np.array(tmp)))\n",
    "zPlot = zPlot.reshape([size,size])"
   ]
  },
  {
   "cell_type": "code",
   "execution_count": 35,
   "metadata": {
    "collapsed": false
   },
   "outputs": [],
   "source": [
    "# Plot the data\n",
    "\n",
    "# Select subsets for training and testing\n",
    "X_train_plot,X_test_plot = cross_validation.train_test_split(Xy.ix[:,['TV','Radio']],\n",
    "                                                             test_size=0.8,\n",
    "                                                             random_state=123)\n",
    "myPlot(reg,X_train_plot,y_train,X_test_plot,y_test,xPlot,yPlot,zPlot)"
   ]
  },
  {
   "cell_type": "code",
   "execution_count": 36,
   "metadata": {
    "collapsed": false
   },
   "outputs": [
    {
     "name": "stdout",
     "output_type": "stream",
     "text": [
      "training error\n",
      "0.00265007247837\n",
      "testing error\n",
      "0.00490752683194\n"
     ]
    }
   ],
   "source": [
    "# Use the metrics package to print our errors\n",
    "print 'training error'\n",
    "print metrics.mean_squared_error(y_train,selector.predict(X_train))\n",
    "print 'testing error'\n",
    "print metrics.mean_squared_error(y_test,selector.predict(X_test))"
   ]
  },
  {
   "cell_type": "markdown",
   "metadata": {},
   "source": [
    "<b>Back to notes.</b>"
   ]
  },
  {
   "cell_type": "markdown",
   "metadata": {},
   "source": [
    "## Lasso!"
   ]
  },
  {
   "cell_type": "code",
   "execution_count": 37,
   "metadata": {
    "collapsed": false
   },
   "outputs": [],
   "source": [
    "# Lasso regression is another method for doing feature selection.\n",
    "# It is, by far, by favorite it is a close cousin of my personal\n",
    "# research topic.  See notes for details...\n",
    "degree=5\n",
    "XCrazy = np.zeros([Xy.shape[0],degree**2])\n",
    "\n",
    "names = []\n",
    "for i in range(degree):\n",
    "    for j in range(degree):\n",
    "        XCrazy[:,i*degree + j] = (Xy['TV']**i)*(Xy['Radio']**j)\n",
    "        names.append('TV**%d*Radio**%d'%(i,j))\n",
    "                     \n",
    "# Select subsets for training and testing\n",
    "X_train,X_test,y_train,y_test = cross_validation.train_test_split(XCrazy,\n",
    "                                                                  y,\n",
    "                                                                  test_size=0.8,\n",
    "                                                                  random_state=123)"
   ]
  },
  {
   "cell_type": "code",
   "execution_count": 38,
   "metadata": {
    "collapsed": false
   },
   "outputs": [
    {
     "data": {
      "text/plain": [
       "Lasso(alpha=0.002, copy_X=True, fit_intercept=True, max_iter=1000,\n",
       "   normalize=True, positive=False, precompute=False, random_state=None,\n",
       "   selection='cyclic', tol=0.0001, warm_start=False)"
      ]
     },
     "execution_count": 38,
     "metadata": {},
     "output_type": "execute_result"
    }
   ],
   "source": [
    "# Run the solver\n",
    "regLasso = linear_model.Lasso(alpha=0.002,fit_intercept=True,normalize=True)\n",
    "regLasso.fit(X_train,y_train)"
   ]
  },
  {
   "cell_type": "code",
   "execution_count": 39,
   "metadata": {
    "collapsed": false
   },
   "outputs": [
    {
     "name": "stdout",
     "output_type": "stream",
     "text": [
      "[ 0.27046738]\n",
      "TV**0*Radio**0 0.0\n",
      "TV**0*Radio**1 0.0\n",
      "TV**0*Radio**2 0.0\n",
      "TV**0*Radio**3 0.0\n",
      "TV**0*Radio**4 0.0\n",
      "TV**1*Radio**0 0.135662574951\n",
      "TV**1*Radio**1 0.670730481986\n",
      "TV**1*Radio**2 0.0\n",
      "TV**1*Radio**3 0.0\n",
      "TV**1*Radio**4 0.0\n",
      "TV**2*Radio**0 0.0\n",
      "TV**2*Radio**1 0.0\n",
      "TV**2*Radio**2 0.0\n",
      "TV**2*Radio**3 0.0\n",
      "TV**2*Radio**4 0.0\n",
      "TV**3*Radio**0 0.0\n",
      "TV**3*Radio**1 0.0\n",
      "TV**3*Radio**2 0.0\n",
      "TV**3*Radio**3 0.0\n",
      "TV**3*Radio**4 0.0\n",
      "TV**4*Radio**0 0.0\n",
      "TV**4*Radio**1 0.0\n",
      "TV**4*Radio**2 0.0\n",
      "TV**4*Radio**3 0.0\n",
      "TV**4*Radio**4 0.0\n"
     ]
    }
   ],
   "source": [
    "# Print out the predictors we use.  These betas with non-zero weights are those\n",
    "# selected by the Lasso algorithm as being the most important.  What do you notice?\n",
    "print regLasso.intercept_\n",
    "for i in range(len(regLasso.coef_)):\n",
    "    print names[i],regLasso.coef_[i]"
   ]
  },
  {
   "cell_type": "code",
   "execution_count": 40,
   "metadata": {
    "collapsed": false
   },
   "outputs": [],
   "source": [
    "# Create data for plotting\n",
    "size = 10\n",
    "\n",
    "xPlot,yPlot = np.meshgrid(np.linspace(0,1,size),\n",
    "                          np.linspace(0,1,size))\n",
    "\n",
    "tmp = []\n",
    "for i in range(degree):\n",
    "    for j in range(degree):\n",
    "        tmp.append( ( (xPlot**i)*(yPlot**j) ).flatten() )\n",
    "\n",
    "zPlot = regLasso.predict(np.transpose(np.array(tmp)))\n",
    "zPlot = zPlot.reshape([size,size])"
   ]
  },
  {
   "cell_type": "code",
   "execution_count": 41,
   "metadata": {
    "collapsed": false
   },
   "outputs": [],
   "source": [
    "# Plot the data\n",
    "\n",
    "# Select subsets for training and testing\n",
    "X_train_plot,X_test_plot = cross_validation.train_test_split(Xy.ix[:,['TV','Radio']],\n",
    "                                                             test_size=0.8,\n",
    "                                                             random_state=123)\n",
    "myPlot(reg,X_train_plot,y_train,X_test_plot,y_test,xPlot,yPlot,zPlot)"
   ]
  },
  {
   "cell_type": "code",
   "execution_count": 42,
   "metadata": {
    "collapsed": false
   },
   "outputs": [
    {
     "name": "stdout",
     "output_type": "stream",
     "text": [
      "training error\n",
      "0.00118345029043\n",
      "testing error\n",
      "0.002103671494\n"
     ]
    }
   ],
   "source": [
    "# Use the metrics package to print our errors\n",
    "print 'training error'\n",
    "print metrics.mean_squared_error(y_train,regLasso.predict(X_train))\n",
    "print 'testing error'\n",
    "print metrics.mean_squared_error(y_test,regLasso.predict(X_test))"
   ]
  },
  {
   "cell_type": "code",
   "execution_count": null,
   "metadata": {
    "collapsed": false
   },
   "outputs": [],
   "source": []
  },
  {
   "cell_type": "code",
   "execution_count": null,
   "metadata": {
    "collapsed": false
   },
   "outputs": [],
   "source": []
  }
 ],
 "metadata": {
  "kernelspec": {
   "display_name": "Python 2",
   "language": "python",
   "name": "python2"
  },
  "language_info": {
   "codemirror_mode": {
    "name": "ipython",
    "version": 2
   },
   "file_extension": ".py",
   "mimetype": "text/x-python",
   "name": "python",
   "nbconvert_exporter": "python",
   "pygments_lexer": "ipython2",
   "version": "2.7.10"
  }
 },
 "nbformat": 4,
 "nbformat_minor": 0
}
