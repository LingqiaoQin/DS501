{
 "cells": [
  {
   "cell_type": "code",
   "execution_count": 1,
   "metadata": {
    "collapsed": false
   },
   "outputs": [],
   "source": [
    "import numpy as np\n",
    "from scipy.sparse import csc_matrix\n",
    "\n",
    "def pageRank(G, s = .85, maxerr = .001):\n",
    "    \"\"\"\n",
    "    Computes the pagerank for each of the n states.\n",
    "    Used in webpage ranking and text summarization using unweighted\n",
    "    or weighted transitions respectively.\n",
    "    Args\n",
    "    ----------\n",
    "    G: matrix representing state transitions\n",
    "       Gij can be a boolean or non negative real number representing the\n",
    "       transition weight from state i to j.\n",
    "    Kwargs\n",
    "    ----------\n",
    "    s: probability of following a transition. 1-s probability of teleporting\n",
    "       to another state. Defaults to 0.85\n",
    "    maxerr: if the sum of pageranks between iterations is bellow this we will\n",
    "            have converged. Defaults to 0.001\n",
    "    \"\"\"\n",
    "    n = G.shape[0]\n",
    "\n",
    "    # transform G into markov matrix M\n",
    "    M = csc_matrix(G,dtype=np.float)\n",
    "    rsums = np.array(M.sum(1))[:,0]\n",
    "    ri, ci = M.nonzero()\n",
    "    M.data /= rsums[ri]\n",
    "\n",
    "    # bool array of sink states\n",
    "    sink = rsums==0\n",
    "\n",
    "    # Compute pagerank r until we converge\n",
    "    ro, r = np.zeros(n), np.ones(n)\n",
    "    while np.sum(np.abs(r-ro)) > maxerr:\n",
    "        ro = r.copy()\n",
    "        # calculate each pagerank at a time\n",
    "        for i in xrange(0,n):\n",
    "            # inlinks of state i\n",
    "            Ii = np.array(M[:,i].todense())[:,0]\n",
    "            # account for sink states\n",
    "            Si = sink / float(n)\n",
    "            # account for teleportation to state i\n",
    "            Ti = np.ones(n) / float(n)\n",
    "\n",
    "            r[i] = ro.dot( Ii*s + Si*s + Ti*(1-s) )\n",
    "\n",
    "    # return normalized pagerank\n",
    "    return r/sum(r)\n"
   ]
  },
  {
   "cell_type": "code",
   "execution_count": 2,
   "metadata": {
    "collapsed": false
   },
   "outputs": [
    {
     "name": "stdout",
     "output_type": "stream",
     "text": [
      "[ 0.12727557  0.03616954  0.12221594  0.22608452  0.28934412  0.03616954\n",
      "  0.16274076]\n"
     ]
    }
   ],
   "source": [
    "G = np.array([[0,0,1,0,0,0,0],\n",
    "              [0,1,1,0,0,0,0],\n",
    "              [1,0,1,1,0,0,0],\n",
    "              [0,0,0,1,1,0,0],\n",
    "              [0,0,0,0,0,0,1],\n",
    "              [0,0,0,0,0,1,1],\n",
    "              [0,0,0,1,1,0,1]])\n",
    "\n",
    "print pageRank(G,s=.86)"
   ]
  },
  {
   "cell_type": "code",
   "execution_count": 3,
   "metadata": {
    "collapsed": false
   },
   "outputs": [],
   "source": [
    "import networkx as nx\n",
    "%matplotlib inline"
   ]
  },
  {
   "cell_type": "code",
   "execution_count": 4,
   "metadata": {
    "collapsed": false
   },
   "outputs": [
    {
     "data": {
      "image/png": "[encoded data removed]",
      "text/plain": [
       "<matplotlib.figure.Figure at 0x9f73f98>"
      ]
     },
     "metadata": {},
     "output_type": "display_data"
    }
   ],
   "source": [
    "nx.draw_spring(nx.DiGraph(G))"
   ]
  },
  {
   "cell_type": "code",
   "execution_count": null,
   "metadata": {
    "collapsed": true
   },
   "outputs": [],
   "source": []
  }
 ],
 "metadata": {
  "kernelspec": {
   "display_name": "Python 2",
   "language": "python",
   "name": "python2"
  },
  "language_info": {
   "codemirror_mode": {
    "name": "ipython",
    "version": 2
   },
   "file_extension": ".py",
   "mimetype": "text/x-python",
   "name": "python",
   "nbconvert_exporter": "python",
   "pygments_lexer": "ipython2",
   "version": "2.7.10"
  }
 },
 "nbformat": 4,
 "nbformat_minor": 0
}
